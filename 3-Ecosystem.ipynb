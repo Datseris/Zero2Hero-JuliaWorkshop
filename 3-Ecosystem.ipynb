{
 "cells": [
  {
   "attachments": {},
   "cell_type": "markdown",
   "metadata": {},
   "source": [
    "# Julia ecosystems in scientific computing\n",
    "\n",
    "There are many Julia organizations about seemingly every scientific area. Some examples:\n",
    "\n",
    "- Astrophysics: [JuliaAstro](https://juliaastro.github.io/), [JuliaSpace](https://github.com/JuliaSpace)\n",
    "- Bio/Chemistry: [JuliaBio](https://biojulia.net/), [Molecular simulations](https://github.com/JuliaMolSim)\n",
    "- Complex systems, nonlinear dynamics: [JuliaDynamics](https://juliadynamics.github.io/JuliaDynamics/)\n",
    "- Differential equations and scientific machine learning: [SciML](https://sciml.ai/)\n",
    "- Solid state: [QuantumOptics](https://qojulia.org/), [JuliaPhysics](https://github.com/JuliaPhysics)\n",
    "- Economics: [QuantEcon](https://julia.quantecon.org/), [JuliaQuant](https://github.com/JuliaQuant)\n",
    "- Geosciences/Climate: [JuliaGeo](https://github.com/JuliaGeo), [JuliaEarth](https://github.com/JuliaEarth), [JuliaClimate](https://github.com/JuliaClimate).\n",
    "\n",
    "among many many others, including several mathematics-oriented organizations such as optimization, etc.\n",
    "\n",
    "In this session we will (**very briefly**) overview some powerful Julia packages I found useful for *my own work* and hopefully you will too. Even if the packages relevant for me are not useful in your field, it is still good practice to solve the exercises, to \"learn how to learn Julia packages\". \n",
    "\n",
    "**This session does not attempt to do any _scientific_ teaching. It is likely that some of the things that I'll mention you won't know what they mean. That's okay, because here we are just looking at how some packages work.**"
   ]
  },
  {
   "cell_type": "code",
   "execution_count": 1,
   "metadata": {},
   "outputs": [
    {
     "name": "stderr",
     "output_type": "stream",
     "text": [
      "\u001b[32m\u001b[1m  Activating\u001b[22m\u001b[39m project at `c:\\Users\\datse\\OneDrive - University of Exeter\\Teaching\\Zero2Hero-JuliaWorkshop`\n"
     ]
    },
    {
     "name": "stdout",
     "output_type": "stream",
     "text": [
      "\u001b[32m\u001b[1mStatus\u001b[22m\u001b[39m `C:\\Users\\datse\\OneDrive - University of Exeter\\Teaching\\Zero2Hero-JuliaWorkshop\\Project.toml`\n",
      "  \u001b[90m[6e4b80f9] \u001b[39mBenchmarkTools v1.3.2\n",
      "  \u001b[90m[a134a8b2] \u001b[39mBlackBoxOptim v0.6.2\n",
      "\u001b[32m⌃\u001b[39m \u001b[90m[13f3f980] \u001b[39mCairoMakie v0.10.7\n",
      "  \u001b[90m[a93c6f00] \u001b[39mDataFrames v1.6.1\n",
      "  \u001b[90m[31c24e10] \u001b[39mDistributions v0.25.100\n",
      "  \u001b[90m[634d3b9d] \u001b[39mDrWatson v2.12.7\n",
      "  \u001b[90m[61744808] \u001b[39mDynamicalSystems v3.2.0\n",
      "\u001b[32m⌃\u001b[39m \u001b[90m[1dea7af3] \u001b[39mOrdinaryDiffEq v6.53.4\n",
      "  \u001b[90m[1a8c2f83] \u001b[39mQuery v1.0.0\n",
      "  \u001b[90m[1e83bf80] \u001b[39mStaticArraysCore v1.4.2\n",
      "\u001b[36m\u001b[1mInfo\u001b[22m\u001b[39m Packages marked with \u001b[32m⌃\u001b[39m have new versions available and may be upgradable.\n"
     ]
    }
   ],
   "source": [
    "import Pkg\n",
    "Pkg.activate(@__DIR__)\n",
    "Pkg.status()"
   ]
  },
  {
   "cell_type": "code",
   "execution_count": 78,
   "metadata": {},
   "outputs": [],
   "source": [
    "# quick theme change for plotting in zoomed-in notebooks\n",
    "using CairoMakie\n",
    "update_theme!(resolution = (500, 300), fontsize = 16)"
   ]
  },
  {
   "attachments": {},
   "cell_type": "markdown",
   "metadata": {},
   "source": [
    "# DifferentialEquations.jl\n",
    "\n",
    "[DifferentialEquations.jl](https://docs.sciml.ai/DiffEqDocs/dev/index.html) is by far [the best](https://docs.sciml.ai/SciMLBenchmarksOutput/stable/MultiLanguage/ode_wrapper_packages/) free and open source differential equations solver (not for Julia, for any language): it is orders of magnitude faster and has orders of mangitude more features than anything else out there. It can solve standard ODEs, Delay-DEs, stochastic DEs, has tools for PDEs, event handling, other multiple features, 100s of solvers, and more. Above all, it is the central part of a whole organization focused on scientific machine learning (SciML) and the basis for [ModelingToolkit.jl](https://docs.sciml.ai/ModelingToolkit/dev/), a library for building simulations from symbolic definitions.\n",
    "\n",
    "Here we will focus on Ordinary Differential Equations (ODEs) solving and use the module `OrdinaryDiffEq` only."
   ]
  },
  {
   "attachments": {},
   "cell_type": "markdown",
   "metadata": {},
   "source": [
    "\n",
    "## Defining and solving some ODEs\n",
    "\n",
    "The way DifferentialEquations.jl works is quite straightforward:\n",
    "\n",
    "1. Make your set of ODEs a Julia function `f`\n",
    "2. Put `f`, an initial state and a parameter container into an `ODEProblem`.\n",
    "2. Choose the solvers and the arguments of the solvers you will use (e.g. tolerances, etc.)\n",
    "3. Give `f` as well as the auxiliary arguments to the function `solve`!\n",
    "\n",
    "Let's see it in practice by solving the Thomas cyclical system\n",
    "\n",
    "$$\n",
    "\\begin{aligned}\n",
    "\\dot{x} &= \\sin(y) - bx\\\\\n",
    "\\dot{y} &= \\sin(z) - by\\\\\n",
    "\\dot{z} &= \\sin(x) - bz\n",
    "\\end{aligned}\n",
    "$$\n",
    "\n",
    "First step is to make this a Julia function. There is some strictness when writing this function in Julia (to play well with another software, see below). \n",
    "Specifically, it can only be one of two forms: out-of-place (**oop**) or in-place (**iip**). Here is how to define it (`p` is the parameter container, `t` is time):\n",
    "\n",
    "* **oop** : The `eom` function must be in the form `eom(x, p, t) -> SVector`\n",
    "  which means that given a state `x::SVector` it returns an `SVector`\n",
    "  (from the [StaticArrays.jl](https://github.com/JuliaArrays/StaticArrays.jl) package)\n",
    "  containing the derivatives.\n",
    "* **iip** : The `eom` function must be in the form `eom!(dx, x, p, t)`\n",
    "  which means that given a state `x::AbstractArray` it writes in-place the derivatives in `dx`, which is the same type of `x`. Note that this type of `dx` needs to be mutable.\n",
    "\n",
    "A rule of thumb is to use **oop** for systems with dimension ≤ 10, and use **iip** otherwise, but it is always better to benchmark individual cases."
   ]
  },
  {
   "cell_type": "code",
   "execution_count": 79,
   "metadata": {},
   "outputs": [
    {
     "data": {
      "text/plain": [
       "thomas_rule (generic function with 1 method)"
      ]
     },
     "metadata": {},
     "output_type": "display_data"
    }
   ],
   "source": [
    "using OrdinaryDiffEq, StaticArraysCore\n",
    "\n",
    "function thomas_rule(u, p, t)\n",
    "    x,y,z = u\n",
    "    b = p[1]\n",
    "    xdot = sin(y) - b*x\n",
    "    ydot = sin(z) - b*y\n",
    "    zdot = sin(x) - b*z\n",
    "    return SVector(xdot, ydot, zdot)\n",
    "end"
   ]
  },
  {
   "attachments": {},
   "cell_type": "markdown",
   "metadata": {},
   "source": [
    "Then set the initial state and parameter container"
   ]
  },
  {
   "cell_type": "code",
   "execution_count": 80,
   "metadata": {},
   "outputs": [
    {
     "data": {
      "text/plain": [
       "1-element Vector{Float64}:\n",
       " 0.2"
      ]
     },
     "metadata": {},
     "output_type": "display_data"
    }
   ],
   "source": [
    "u₀ = SVector(1.0, 1.0, 2.0)\n",
    "p₀ = [0.2]"
   ]
  },
  {
   "attachments": {},
   "cell_type": "markdown",
   "metadata": {},
   "source": [
    "then put everything into the `ODEProblem` structure:"
   ]
  },
  {
   "cell_type": "code",
   "execution_count": 81,
   "metadata": {
    "scrolled": true
   },
   "outputs": [
    {
     "data": {
      "text/plain": [
       "\u001b[38;2;86;182;194mODEProblem\u001b[0m with uType \u001b[38;2;86;182;194mSVector{3, Float64}\u001b[0m and tType \u001b[38;2;86;182;194mFloat64\u001b[0m. In-place: \u001b[38;2;86;182;194mfalse\u001b[0m\n",
       "timespan: (0.0, 1000.0)\n",
       "u0: 3-element SVector{3, Float64} with indices SOneTo(3):\n",
       " 1.0\n",
       " 1.0\n",
       " 2.0"
      ]
     },
     "metadata": {},
     "output_type": "display_data"
    }
   ],
   "source": [
    "# third argument is the timespan to solve in\n",
    "timespan = (0.0, 1000.0)\n",
    "prob = ODEProblem(thomas_rule, u₀, timespan, p₀)"
   ]
  },
  {
   "attachments": {},
   "cell_type": "markdown",
   "metadata": {},
   "source": [
    "Alright, so now we choose the solver algorithm to use. We will discuss this choice in more detail later, but for now we use the default choice of DifferentialEquations.jl."
   ]
  },
  {
   "cell_type": "code",
   "execution_count": 82,
   "metadata": {},
   "outputs": [],
   "source": [
    "alg = Tsit5();"
   ]
  },
  {
   "attachments": {},
   "cell_type": "markdown",
   "metadata": {},
   "source": [
    "Now let's solve the Lorenz system using the default settings of DifferentialEquations.jl (without specifying anything else)."
   ]
  },
  {
   "cell_type": "code",
   "execution_count": 83,
   "metadata": {},
   "outputs": [
    {
     "data": {
      "text/plain": [
       "retcode: Success\n",
       "Interpolation: specialized 4th order \"free\" interpolation\n",
       "t: 813-element Vector{Float64}:\n",
       "    0.0\n",
       "    0.1120521120556666\n",
       "    0.44378050362673405\n",
       "    0.9136032386187993\n",
       "    1.4662849360622896\n",
       "    2.1996084447411617\n",
       "    3.2045208465180144\n",
       "    4.085242874574744\n",
       "    5.129213529677106\n",
       "    6.241261975411241\n",
       "    ⋮\n",
       "  989.016132424067\n",
       "  990.5662995899445\n",
       "  992.2501718499245\n",
       "  993.7379049054462\n",
       "  995.4297636802733\n",
       "  996.8774606957784\n",
       "  998.3576943762309\n",
       "  999.7917754461864\n",
       " 1000.0\n",
       "u: 813-element Vector{SVector{3, Float64}}:\n",
       " [1.0, 1.0, 2.0]\n",
       " [1.073328946367455, 1.077382180107541, 2.0510228820916896]\n",
       " [1.3010643606418302, 1.279441630927924, 2.216402304246613]\n",
       " [1.6249069901838225, 1.4855826850617537, 2.4616668952552936]\n",
       " [1.9777425718824548, 1.6017467387163078, 2.7100439922221256]\n",
       " [2.3894984994256565, 1.599089872828173, 2.8904410244887484]\n",
       " [2.8649074514787682, 1.5483523437301538, 2.795240578177487]\n",
       " [3.208555980288333, 1.6972897987475106, 2.4194479820781427]\n",
       " [3.4778227799375907, 2.1819868451227604, 1.753099531195561]\n",
       " [3.3933461412228625, 2.708362984477085, 1.0818668759219525]\n",
       " ⋮\n",
       " [2.460168169657819, 2.8024727962190834, 2.5068456503259045]\n",
       " [2.2852901415734967, 2.689163931499818, 2.785681701963606]\n",
       " [2.52122981822636, 2.2297464182022533, 2.988390666694459]\n",
       " [3.0045071575336513, 1.9933275678600462, 2.6791203178136844]\n",
       " [3.2858784342120217, 2.510241437106069, 1.817283187761961]\n",
       " [2.815492334701153, 3.1283413228966555, 1.4130550225808411]\n",
       " [1.7856597259537317, 3.58847205956326, 1.9596423661484268]\n",
       " [0.7560993635838374, 3.570261227193435, 2.5894890477466204]\n",
       " [0.6443103376380805, 3.529081714957839, 2.614991830749762]"
      ]
     },
     "metadata": {},
     "output_type": "display_data"
    }
   ],
   "source": [
    "sol = solve(prob; alg) # provide solver algorithm as keyword `alg`"
   ]
  },
  {
   "attachments": {},
   "cell_type": "markdown",
   "metadata": {},
   "source": [
    "Okay, so what is the returned result? We didn't specify when to save or anything...\n",
    "\n",
    "The solver we chose, `Tsit5`, is an _adaptive step solver_. The system is evolved with an adaptive step size, so that the step error tolerance stays below a pre-defined level. The system is evolved until we reach the end of the time span. A state is recorded at every step the solver algorithm takes naturally. E.g. the solution at the third step is"
   ]
  },
  {
   "cell_type": "code",
   "execution_count": 84,
   "metadata": {},
   "outputs": [
    {
     "data": {
      "text/plain": [
       "813-element Vector{Float64}:\n",
       "    0.0\n",
       "    0.1120521120556666\n",
       "    0.44378050362673405\n",
       "    0.9136032386187993\n",
       "    1.4662849360622896\n",
       "    2.1996084447411617\n",
       "    3.2045208465180144\n",
       "    4.085242874574744\n",
       "    5.129213529677106\n",
       "    6.241261975411241\n",
       "    ⋮\n",
       "  989.016132424067\n",
       "  990.5662995899445\n",
       "  992.2501718499245\n",
       "  993.7379049054462\n",
       "  995.4297636802733\n",
       "  996.8774606957784\n",
       "  998.3576943762309\n",
       "  999.7917754461864\n",
       " 1000.0"
      ]
     },
     "metadata": {},
     "output_type": "display_data"
    }
   ],
   "source": [
    "sol.t"
   ]
  },
  {
   "cell_type": "markdown",
   "metadata": {},
   "source": [
    "The solution is guaranteed to start and stop at the limits of the time span (by default).\n",
    "\n",
    "We can obtain the state at the 3rd time point from the `u` field:"
   ]
  },
  {
   "cell_type": "code",
   "execution_count": 85,
   "metadata": {},
   "outputs": [
    {
     "data": {
      "text/plain": [
       "(0.44378050362673405, [1.3010643606418302, 1.279441630927924, 2.216402304246613])"
      ]
     },
     "metadata": {},
     "output_type": "display_data"
    }
   ],
   "source": [
    "(sol.t[3], sol.u[3])"
   ]
  },
  {
   "attachments": {},
   "cell_type": "markdown",
   "metadata": {},
   "source": [
    "Because of the mechanics of the solver, `sol` object allows arbitrary interpolation in time by saving some extra derivative-related numbers. This means that we can use `sol` as a function of time, `sol(t)`:"
   ]
  },
  {
   "cell_type": "code",
   "execution_count": 86,
   "metadata": {},
   "outputs": [
    {
     "data": {
      "text/plain": [
       "3-element SVector{3, Float64} with indices SOneTo(3):\n",
       " 3.495862759011857\n",
       " 2.4335212815593588\n",
       " 1.4402755303498724"
      ]
     },
     "metadata": {},
     "output_type": "display_data"
    }
   ],
   "source": [
    "sol(5.6)"
   ]
  },
  {
   "cell_type": "markdown",
   "metadata": {},
   "source": [
    "We can iterate over some time to create a (multivariate) timeseries"
   ]
  },
  {
   "cell_type": "code",
   "execution_count": 87,
   "metadata": {},
   "outputs": [
    {
     "data": {
      "image/png": "[encoded data removed]"
     },
     "metadata": {},
     "output_type": "display_data"
    }
   ],
   "source": [
    "t = timespan[1]:0.1:timespan[end]\n",
    "X, Y, Z = zero(t), zero(t), zero(t)\n",
    "for (i, τ) in enumerate(t)\n",
    "    X[i], Y[i], Z[i] = sol(τ)\n",
    "end\n",
    "lines(X, Y, Z; axis = (type = Axis3, azimuth = 0.75π))"
   ]
  },
  {
   "attachments": {},
   "cell_type": "markdown",
   "metadata": {},
   "source": [
    "Notice that it is possible to skip this advanced feature of interpolation (and thus also skip collecting the extra interpolation-related numbers) and only save at some pre-defined time points by passing the extra keyword argument `saveat = points_I_want` to the `solve` call."
   ]
  },
  {
   "cell_type": "code",
   "execution_count": 88,
   "metadata": {},
   "outputs": [
    {
     "data": {
      "text/plain": [
       "10001-element Vector{Float64}:\n",
       "    0.0\n",
       "    0.1\n",
       "    0.2\n",
       "    0.3\n",
       "    0.4\n",
       "    0.5\n",
       "    0.6\n",
       "    0.7\n",
       "    0.8\n",
       "    0.9\n",
       "    ⋮\n",
       "  999.2\n",
       "  999.3\n",
       "  999.4\n",
       "  999.5\n",
       "  999.6\n",
       "  999.7\n",
       "  999.8\n",
       "  999.9\n",
       " 1000.0"
      ]
     },
     "metadata": {},
     "output_type": "display_data"
    }
   ],
   "source": [
    "t = timespan[1]:0.1:timespan[end]\n",
    "sol = solve(prob; alg, saveat = t)\n",
    "sol.t"
   ]
  },
  {
   "cell_type": "markdown",
   "metadata": {},
   "source": [
    "## Using callbacks for triggering events during time evolution"
   ]
  },
  {
   "cell_type": "markdown",
   "metadata": {},
   "source": [
    "DifferentialEquations.jl implements a simple interface so that \"events\" (arbitrary things) can be triggered to after your solution as it is progressing in time. This is done with the [`Callback` interface](https://docs.sciml.ai/DiffEqDocs/dev/features/callback_functions/). For example, a `ContinuousCallback` represents an event that \"triggers\" when a continuous univariate function of the (state, time) reaches the value 0. Similarly, a `DiscreteCallback` triggers when a Boolean function of the (state, time) evaluates to `true`.\n",
    "\n",
    "Let's modify the Thomas cyclical system so that a condition triggers each time the third variable becomes zero:\n"
   ]
  },
  {
   "cell_type": "code",
   "execution_count": 89,
   "metadata": {},
   "outputs": [
    {
     "data": {
      "text/plain": [
       "condition (generic function with 1 method)"
      ]
     },
     "metadata": {},
     "output_type": "display_data"
    }
   ],
   "source": [
    "# The third argument of this function is mandatory but too advanced for this lecture\n",
    "condition(u, t, integrator) = u[3] "
   ]
  },
  {
   "cell_type": "markdown",
   "metadata": {},
   "source": [
    "We then define a function that modifies the integrator object. the integrator object is too complicated to explain within this lecture; but we mainly care about the fields `.u` and `.p` that access current state and parameter values. "
   ]
  },
  {
   "cell_type": "code",
   "execution_count": 90,
   "metadata": {},
   "outputs": [
    {
     "data": {
      "text/plain": [
       "affect! (generic function with 1 method)"
      ]
     },
     "metadata": {},
     "output_type": "display_data"
    }
   ],
   "source": [
    "function affect!(integrator)\n",
    "    u = integrator.u\n",
    "    integrator.u = 1.5u\n",
    "end"
   ]
  },
  {
   "cell_type": "markdown",
   "metadata": {},
   "source": [
    "The trigger `condition` and how it will `affect!` the integration are wrapped in continuous callback, which is given to the `solve` call."
   ]
  },
  {
   "cell_type": "code",
   "execution_count": 91,
   "metadata": {},
   "outputs": [],
   "source": [
    "cb = ContinuousCallback(condition, affect!);"
   ]
  },
  {
   "cell_type": "code",
   "execution_count": 92,
   "metadata": {},
   "outputs": [
    {
     "data": {
      "image/png": "[encoded data removed]"
     },
     "metadata": {},
     "output_type": "display_data"
    }
   ],
   "source": [
    "sol = solve(prob; alg, saveat = t, callback = cb)\n",
    "# plot\n",
    "lines(sol.u; axis = (type = Axis3,))"
   ]
  },
  {
   "cell_type": "markdown",
   "metadata": {},
   "source": [
    "## Choosing a solver\n",
    "\n",
    "So far we have not discussed _how_ the ODE is solved. \n",
    "A solver algorithm is chosen when a solution is requested.\n",
    "So far we have been using `Tsit5`, which is also the overall default that DifferentialEquations.jl uses. But, DifferentialEquations.jl has an impressive list of [100s of solvers one can choose from](https://docs.sciml.ai/DiffEqDocs/dev/solvers/ode_solve/).\n",
    "\n",
    "Choosing the solver is a problem-dependent operation. We'll cover here two typical examples.\n",
    "\n",
    "\n"
   ]
  },
  {
   "cell_type": "markdown",
   "metadata": {},
   "source": [
    "### Higher accuracy, higher order\n",
    "\n",
    "The solver `Tsit5` is most performant when medium-high error tolerances are requested. When we require very small errors, choosing a different solver can be more accurate. This can be especially impactful for chaotic dynamical systems. Let's first expliclty ask for a given accuracy when solving the ODE by passing the keywords `abstol, reltol` (for absolute and relative tolerance respectively):\n"
   ]
  },
  {
   "cell_type": "code",
   "execution_count": 93,
   "metadata": {},
   "outputs": [
    {
     "data": {
      "image/png": "[encoded data removed]"
     },
     "metadata": {},
     "output_type": "display_data"
    }
   ],
   "source": [
    "sol = solve(prob; alg, saveat = t, abstol = 1e-12, reltol = 1e-12)\n",
    "lines(sol.u; axis = (type = Axis3,))"
   ]
  },
  {
   "cell_type": "markdown",
   "metadata": {},
   "source": [
    "Let's now benchmark how much time it takes to solve the problem with the default `Tsit5` solver:"
   ]
  },
  {
   "cell_type": "code",
   "execution_count": 94,
   "metadata": {},
   "outputs": [
    {
     "name": "stdout",
     "output_type": "stream",
     "text": [
      "  11.610 ms (32 allocations: 719.62 KiB)\n"
     ]
    }
   ],
   "source": [
    "using BenchmarkTools\n",
    "@btime solve(prob; alg, saveat = t, abstol = 1e-12, reltol = 1e-12);"
   ]
  },
  {
   "cell_type": "markdown",
   "metadata": {},
   "source": [
    "Let's see how the higher-order solver `Vern9`, which is better suited for high accuracy, performs:"
   ]
  },
  {
   "cell_type": "code",
   "execution_count": 95,
   "metadata": {},
   "outputs": [
    {
     "name": "stdout",
     "output_type": "stream",
     "text": [
      "  5.304 ms (33 allocations: 720.78 KiB)\n"
     ]
    }
   ],
   "source": [
    "using BenchmarkTools\n",
    "@btime solve(prob; alg = Vern9(), saveat = t, abstol = 1e-12, reltol = 1e-12);"
   ]
  },
  {
   "cell_type": "markdown",
   "metadata": {},
   "source": [
    "## Stiff problems\n",
    "\n",
    "A \"stiff\" ODE problem is one that can be numerically unstable unless the step size (or equivalently, the step error tolerances) are extremely small. There are several situations where a problem may be come \"stiff\":\n",
    "\n",
    "- The derivative values can get very large for some state values.\n",
    "- There is a large _timescale separation_ between the dynamics of the variables\n",
    "- There is a large _timescale separation_ between the dynamics of different state space regions\n",
    "\n",
    "One must be aware whether this is possible for their system and choose a solver that is better suited to tackle stiff problems. If not, a solution may diverge and the ODE integrator will throw an error or a warning.\n",
    "\n",
    "Many of the problems in DifferentialEquations.jl are suitable for dealing with stiff problems. We can create a stiff problem by using the well known Van der Pol  oscillator _with a timescale separation_:\n",
    "\n",
    "$$\n",
    "\\begin{aligned}\n",
    "\\dot{x} & = y \\\\\n",
    "\\dot{y} /  \\mu &= (1-x^2)y - x\n",
    "\\end{aligned}\n",
    "$$\n",
    "\n",
    "with $\\mu$ being the timescale of the $y$ variable in units of the timescale of the $x$ variable. For very large values of $\\mu$ this problem becomes stiff."
   ]
  },
  {
   "cell_type": "code",
   "execution_count": 96,
   "metadata": {},
   "outputs": [
    {
     "name": "stdout",
     "output_type": "stream",
     "text": [
      "  826.027 ms (27 allocations: 55.27 KiB)\n"
     ]
    },
    {
     "name": "stdout",
     "output_type": "stream",
     "text": [
      "  170.600 ms (1744781 allocations: 51.08 MiB)\n"
     ]
    }
   ],
   "source": [
    "function vanderpol_rule(u, μ, t)\n",
    "    x, y = u\n",
    "    dx = y\n",
    "    dy = μ*((1-x^2)*y - x)\n",
    "    return SVector(dx, dy)\n",
    "end\n",
    "\n",
    "μ = 1e6\n",
    "prob = ODEProblem(vanderpol_rule, SVector(1.0, 1.0), (0.0, 10.0), μ)\n",
    "@btime solve(prob; alg = Tsit5(), abstol = 1e-12, reltol = 1e-12, saveat = 0.01, maxiters = typemax(Int))\n",
    "@btime solve(prob; alg = Rodas5P(), abstol = 1e-12, reltol = 1e-12, saveat = 0.01, maxiters = typemax(Int));"
   ]
  },
  {
   "cell_type": "markdown",
   "metadata": {},
   "source": [
    "We see that the stiff solver `Rodas5P` is much faster than the default `Tsit5` when there is a large timescale separation. This happened because `Rodas5P` required much less steps to integrated the same total amount of time. In fact, there are cases where regular solvers will _fail_ to integrate the ODE if the problem is very stiff, e.g. in the [ROBER example](https://docs.sciml.ai/SciMLBenchmarksOutput/stable/StiffODE/ROBER/)."
   ]
  },
  {
   "attachments": {},
   "cell_type": "markdown",
   "metadata": {},
   "source": [
    "# DynamicalSystems.jl\n",
    "[DynamicalSystems.jl](https://juliadynamics.github.io/DynamicalSystems.jl/dev/) is an award-winning library for nonlinear dynamics and nonlinear dynamics. \n",
    "\n",
    "*Disclaimer: I am one of the developers of this library.*"
   ]
  },
  {
   "attachments": {},
   "cell_type": "markdown",
   "metadata": {},
   "source": [
    "## Using a dynamical system"
   ]
  },
  {
   "attachments": {},
   "cell_type": "markdown",
   "metadata": {},
   "source": [
    "Part of the functionality offered by DynamicalSystems.jl utilizes OrdinaryDiffEq.jl to evolve continuous time systems and compute quantities relevant for nonlinear dynamics, such as Lyapunov exponents. Same works for discrete time systems but there there is no need for an external package to evolve them."
   ]
  },
  {
   "attachments": {},
   "cell_type": "markdown",
   "metadata": {},
   "source": [
    "Making a `DynamicalSystem` is almost identical to making an `ODEProblem`, but you don't have to specify the time span. In steps:\n",
    "\n",
    "1. Make $f$ a Julia function (using the same syntax as in OrdinaryDiffEq.jl) representing the dynamic rule of the system.\n",
    "2. Choose initial state and parameter container (again same as OrdinaryDiffEq.jl).\n",
    "3. Pass these arguments to the `CoupledODEs` constructor (or `DeterministicIteratedMap`, for discrete systems).\n",
    "\n",
    "Here we already have `thomas_rule, u₀, p₀` defined above for the Thomas system, which is\n",
    "\n",
    "$$\n",
    "\\begin{aligned}\n",
    "\\dot{x} &= \\sin(y) - bx\\\\\n",
    "\\dot{y} &= \\sin(z) - by\\\\\n",
    "\\dot{z} &= \\sin(x) - bz\n",
    "\\end{aligned}\n",
    "$$\n",
    "\n",
    "so to put this in DynamicalSystems.jl is kind of trivial:"
   ]
  },
  {
   "cell_type": "code",
   "execution_count": 151,
   "metadata": {},
   "outputs": [
    {
     "data": {
      "text/plain": [
       "3-dimensional CoupledODEs\n",
       " deterministic: true\n",
       " discrete time: false\n",
       " in-place:      false\n",
       " dynamic rule:  thomas_rule\n",
       " ODE solver:    Tsit5\n",
       " ODE kwargs:    (abstol = 1.0e-6, reltol = 1.0e-6)\n",
       " parameters:    [0.2]\n",
       " time:          0.0\n",
       " state:         [1.0, 1.0, 2.0]\n"
      ]
     },
     "metadata": {},
     "output_type": "display_data"
    }
   ],
   "source": [
    "using DynamicalSystems\n",
    "thomas = CoupledODEs(thomas_rule, u₀, p₀)"
   ]
  },
  {
   "attachments": {},
   "cell_type": "markdown",
   "metadata": {},
   "source": [
    "Then we can use this `thomas` object in various functions of the library. For example, to obtain the Lyapunov spectrum you use `lyapunovspectrum`:"
   ]
  },
  {
   "cell_type": "code",
   "execution_count": 98,
   "metadata": {},
   "outputs": [
    {
     "data": {
      "text/plain": [
       "3-element Vector{Float64}:\n",
       "  0.002080265970671607\n",
       " -0.005557932793430534\n",
       " -0.5965199974291404"
      ]
     },
     "metadata": {},
     "output_type": "display_data"
    }
   ],
   "source": [
    "lyapunovspectrum(thomas, 10000) # 2nd argument is for how much time to evolve"
   ]
  },
  {
   "attachments": {},
   "cell_type": "markdown",
   "metadata": {},
   "source": [
    "Same story happens if you want to get only the maximum Lyapunov exponent. You use the function `lyapunov` (which uses a different algorithm):"
   ]
  },
  {
   "cell_type": "code",
   "execution_count": 99,
   "metadata": {},
   "outputs": [
    {
     "data": {
      "text/plain": [
       "0.001914273255323101"
      ]
     },
     "metadata": {},
     "output_type": "display_data"
    }
   ],
   "source": [
    "lyapunov(thomas, 10000.0)"
   ]
  },
  {
   "cell_type": "markdown",
   "metadata": {},
   "source": [
    "Much more advanced behavior is possible. For example, the library has a module dedicated to multistable dynamical systems. We can use it to find all attractors, and their basin state space fraction, for the Thomas system, which becomes multistable at $b = 0.12$. First, we change the system parameter to this $b$ value:"
   ]
  },
  {
   "cell_type": "code",
   "execution_count": 100,
   "metadata": {},
   "outputs": [],
   "source": [
    "set_parameter!(thomas, 1, 0.1665)"
   ]
  },
  {
   "cell_type": "markdown",
   "metadata": {},
   "source": [
    "And then we utilize `AttractorsViaRecurrences` to find the attractors"
   ]
  },
  {
   "cell_type": "code",
   "execution_count": 101,
   "metadata": {},
   "outputs": [
    {
     "data": {
      "text/plain": [
       "Dict{Int64, Float64} with 3 entries:\n",
       "  2 => 0.307\n",
       "  3 => 0.342\n",
       "  1 => 0.351"
      ]
     },
     "metadata": {},
     "output_type": "display_data"
    }
   ],
   "source": [
    "# where to search attractors \n",
    "xg = yg = zg = range(-6, 6; length = 200)\n",
    "grid = (xg, yg, zg)\n",
    "mapper = AttractorsViaRecurrences(thomas, grid)\n",
    "sampler, = statespace_sampler(grid)\n",
    "fractions = basins_fractions(mapper, sampler)"
   ]
  },
  {
   "cell_type": "code",
   "execution_count": 102,
   "metadata": {},
   "outputs": [
    {
     "data": {
      "text/plain": [
       "Dict{Int32, StateSpaceSet{3, Float64}} with 3 entries:\n",
       "  2 => 3-dimensional StateSpaceSet{Float64} with 325 points\n",
       "  3 => 3-dimensional StateSpaceSet{Float64} with 325 points\n",
       "  1 => 3-dimensional StateSpaceSet{Float64} with 328 points"
      ]
     },
     "metadata": {},
     "output_type": "display_data"
    }
   ],
   "source": [
    "attractors = extract_attractors(mapper)"
   ]
  },
  {
   "cell_type": "code",
   "execution_count": 152,
   "metadata": {},
   "outputs": [
    {
     "data": {
      "image/png": "[encoded data removed]"
     },
     "metadata": {},
     "output_type": "display_data"
    }
   ],
   "source": [
    "# plot found attractors\n",
    "fig = Figure(resolution = (800, 600))\n",
    "ax = Axis3(fig[1,1])\n",
    "for (k, att) in attractors\n",
    "    scatter!(ax, vec(att); markersize = 6)\n",
    "end\n",
    "hidedecorations!(ax)\n",
    "fig"
   ]
  },
  {
   "cell_type": "code",
   "execution_count": 104,
   "metadata": {},
   "outputs": [],
   "source": [
    "# reset parameter to previous one\n",
    "set_parameter!(thomas, 1, 0.2)"
   ]
  },
  {
   "attachments": {},
   "cell_type": "markdown",
   "metadata": {},
   "source": [
    "## Nonlinear timeseries analysis\n",
    "\n",
    "Both basic as well as advanced tools for nonlinear timeseries analysis are included in DynamicalSystems.jl. To spare you the boredom I won't talk about them though! I'll only mention entropy, because it is relevant to one of the exercises. Let's say that you have an observed trajectory sampled at discrete times. We can obtain this from an experiment, or from a given dynamical system using the `trajectory` function (which is in fact just a wrapper to `solve`)."
   ]
  },
  {
   "cell_type": "code",
   "execution_count": 105,
   "metadata": {},
   "outputs": [
    {
     "data": {
      "text/plain": [
       "3-dimensional StateSpaceSet{Float64} with 20001 points\n",
       "  1.0       1.0        2.0\n",
       "  1.03238   1.03505    2.02239\n",
       "  1.06532   1.06926    2.04539\n",
       "  1.09873   1.10261    2.06896\n",
       "  1.13255   1.13505    2.09306\n",
       "  1.16671   1.16657    2.11764\n",
       "  1.20114   1.19713    2.14264\n",
       "  1.23577   1.2267     2.16801\n",
       "  1.27054   1.25527    2.1937\n",
       "  1.3054    1.28281    2.21964\n",
       "  ⋮                   \n",
       " -0.36524   0.589317   0.0853953\n",
       " -0.333995  0.587245   0.0675075\n",
       " -0.303164  0.584347   0.0512565\n",
       " -0.272775  0.580711   0.0366206\n",
       " -0.242854  0.576423   0.0235749\n",
       " -0.213422  0.571567   0.012092\n",
       " -0.184496  0.566228   0.00214215\n",
       " -0.156091  0.560483  -0.00630682\n",
       " -0.128217  0.554413  -0.0132889"
      ]
     },
     "metadata": {},
     "output_type": "display_data"
    }
   ],
   "source": [
    "Χ, t = trajectory(thomas, 1000.0; Δt = 0.05)\n",
    "Χ"
   ]
  },
  {
   "attachments": {},
   "cell_type": "markdown",
   "metadata": {},
   "source": [
    "The above result is a `StateSpaceSet`. It is not a `Matrix`, but a vector-of-vectors (for performance purposes). Typically one is interested in the entropy of this set. There are many ways to obtain an entropy, but the simplest one is to compute the entropy of the _histogram_ of the set.\n",
    "\n",
    "You can get this entropy using the function `entropy`. We provide to this function the information of how to extract probabilities from `X` as the first argument. Here we simply say to make a histogram of `X` using `ε` as the bin size:"
   ]
  },
  {
   "cell_type": "code",
   "execution_count": 106,
   "metadata": {},
   "outputs": [
    {
     "data": {
      "text/plain": [
       "5.40009259071532"
      ]
     },
     "metadata": {},
     "output_type": "display_data"
    }
   ],
   "source": [
    "ε = 0.1\n",
    "H = entropy(ValueHistogram(ε), X)"
   ]
  },
  {
   "cell_type": "code",
   "execution_count": 107,
   "metadata": {},
   "outputs": [
    {
     "data": {
      "text/plain": [
       "8.676224622340218"
      ]
     },
     "metadata": {},
     "output_type": "display_data"
    }
   ],
   "source": [
    "ε = 0.01\n",
    "H = entropy(ValueHistogram(ε), X)"
   ]
  },
  {
   "cell_type": "markdown",
   "metadata": {},
   "source": [
    "This entropy can be used to estimate the _fractal dimension_ of the set. As we can't afford to go into details for the sake of time, here I will just showcase the automated function `generalized_dim` that calculates `entropy` for many different `ε` and uses the result to calculate a fractal dimension:"
   ]
  },
  {
   "cell_type": "code",
   "execution_count": 108,
   "metadata": {},
   "outputs": [
    {
     "data": {
      "text/plain": [
       "1.7490663268791462"
      ]
     },
     "metadata": {},
     "output_type": "display_data"
    }
   ],
   "source": [
    "Δ = generalized_dim(Χ; show_progress = false)"
   ]
  },
  {
   "cell_type": "markdown",
   "metadata": {},
   "source": [
    "You can examine how this computation works using the `@edit` macro."
   ]
  },
  {
   "cell_type": "markdown",
   "metadata": {},
   "source": [
    "# Optimization with BlackBoxOptim.jl\n",
    "\n",
    "Julia offers an incredible array of optimization packages. There is an ongoing effort to build a _common interface_ across all optimization packages, which can be found in [Optimization.jl](https://docs.sciml.ai/Optimization/stable/). Here, we will show and use only a single optimization package, [BlackBoxOptim.jl](https://github.com/robertfeldt/BlackBoxOptim.jl), that focuses on blackbox optimization problems where the objective function cannot be defined in terms of simple mathematical equations, and is also not differentiable.\n",
    "\n",
    "Our goal is to find the parameter combinations for when the following dynamical system\n",
    "$$\n",
    "\\begin{aligned}\n",
    "\\dot{x} &= -\\mu x +yz \\\\\n",
    "\\dot{y} &= -\\mu y +x(z-\\alpha) \\\\\n",
    "\\dot{z} &= 1 - xz\n",
    "\\end{aligned}\n",
    "$$\n",
    "(called Rikitake's dynamo) has the largest maximum Lyapunov exponent.\n",
    "\n",
    "To do this we must first define an _objective function_: A  function taking in a vector of parameters and returning the objective we want to minimize;\n"
   ]
  },
  {
   "cell_type": "code",
   "execution_count": 206,
   "metadata": {},
   "outputs": [
    {
     "data": {
      "text/plain": [
       "minus_lyapunov (generic function with 1 method)"
      ]
     },
     "metadata": {},
     "output_type": "display_data"
    }
   ],
   "source": [
    "using DynamicalSystems\n",
    "\n",
    "function rikitake_rule(u, p, t)\n",
    "    μ, α = p\n",
    "    x, y, z = u\n",
    "    xdot = -μ*x + y*z\n",
    "    ydot = -μ*y + x*(z - α)\n",
    "    zdot = 1 - x*y\n",
    "    return SVector(xdot, ydot, zdot)\n",
    "end\n",
    "\n",
    "function minus_lyapunov(p) # input is parameter values\n",
    "    ds = CoupledODEs(rikitake_rule, SVector(1, 0, 0.6), p)\n",
    "    λ = lyapunov(ds, 1000; Ttr = 10)\n",
    "    # return negative exponent because we minimize objective\n",
    "    return -λ \n",
    "end"
   ]
  },
  {
   "cell_type": "markdown",
   "metadata": {},
   "source": [
    "We will now attempt to \"optimize\" this objective `minus_lyapunov`, by providing a search range for the input vector `p` (which is the parameter container)"
   ]
  },
  {
   "cell_type": "code",
   "execution_count": 222,
   "metadata": {},
   "outputs": [
    {
     "name": "stdout",
     "output_type": "stream",
     "text": [
      "Starting optimization with optimizer DiffEvoOpt{FitPopulation{Float64}, RadiusLimitedSelector, BlackBoxOptim.AdaptiveDiffEvoRandBin{3}, RandomBound{ContinuousRectSearchSpace}}\n",
      "0.00 secs, 0 evals, 0 steps\n"
     ]
    },
    {
     "name": "stdout",
     "output_type": "stream",
     "text": [
      "0.50 secs, 187 evals, 118 steps, improv/step: 0.458 (last = 0.4576), fitness=-0.303896466\n"
     ]
    },
    {
     "name": "stdout",
     "output_type": "stream",
     "text": [
      "1.01 secs, 398 evals, 296 steps, improv/step: 0.361 (last = 0.2978), fitness=-0.313028325\n"
     ]
    },
    {
     "name": "stdout",
     "output_type": "stream",
     "text": [
      "1.51 secs, 599 evals, 487 steps, improv/step: 0.329 (last = 0.2775), fitness=-0.326005486"
     ]
    },
    {
     "name": "stdout",
     "output_type": "stream",
     "text": [
      "\n",
      "2.01 secs, 793 evals, 680 steps, improv/step: 0.299 (last = 0.2228), fitness=-0.334130039\n"
     ]
    },
    {
     "name": "stdout",
     "output_type": "stream",
     "text": [
      "2.51 secs, 981 evals, 868 steps, improv/step: 0.266 (last = 0.1489), fitness=-0.334130039\n"
     ]
    },
    {
     "name": "stdout",
     "output_type": "stream",
     "text": [
      "3.01 secs, 1164 evals, 1051 steps, improv/step: 0.245 (last = 0.1475), fitness=-0.334130039\n"
     ]
    },
    {
     "name": "stdout",
     "output_type": "stream",
     "text": [
      "3.52 secs, 1344 evals, 1231 steps, improv/step: 0.223 (last = 0.0889), fitness=-0.334130039"
     ]
    },
    {
     "name": "stdout",
     "output_type": "stream",
     "text": [
      "\n",
      "4.02 secs, 1522 evals, 1409 steps, improv/step: 0.200 (last = 0.0449), fitness=-0.334130039"
     ]
    },
    {
     "name": "stdout",
     "output_type": "stream",
     "text": [
      "\n",
      "4.52 secs, 1705 evals, 1592 steps, improv/step: 0.184 (last = 0.0601), fitness=-0.334130039\n"
     ]
    },
    {
     "name": "stdout",
     "output_type": "stream",
     "text": [
      "5.02 secs, 1883 evals, 1770 steps, improv/step: 0.170 (last = 0.0449), fitness=-0.336483718\n"
     ]
    },
    {
     "name": "stdout",
     "output_type": "stream",
     "text": [
      "5.52 secs, 2061 evals, 1948 steps, improv/step: 0.161 (last = 0.0674), fitness=-0.351834009\n"
     ]
    },
    {
     "name": "stdout",
     "output_type": "stream",
     "text": [
      "6.02 secs, 2233 evals, 2120 steps, improv/step: 0.154 (last = 0.0756), fitness=-0.351834009"
     ]
    },
    {
     "name": "stdout",
     "output_type": "stream",
     "text": [
      "\n",
      "6.53 secs, 2408 evals, 2295 steps, improv/step: 0.145 (last = 0.0400), fitness=-0.351834009\n"
     ]
    },
    {
     "name": "stdout",
     "output_type": "stream",
     "text": [
      "7.03 secs, 2583 evals, 2470 steps, improv/step: 0.139 (last = 0.0571), fitness=-0.351834009\n"
     ]
    },
    {
     "name": "stdout",
     "output_type": "stream",
     "text": [
      "7.53 secs, 2752 evals, 2639 steps, improv/step: 0.133 (last = 0.0414), fitness=-0.351834009\n"
     ]
    },
    {
     "name": "stdout",
     "output_type": "stream",
     "text": [
      "8.03 secs, 2926 evals, 2813 steps, improv/step: 0.126 (last = 0.0287), fitness=-0.351834009"
     ]
    },
    {
     "name": "stdout",
     "output_type": "stream",
     "text": [
      "\n",
      "8.53 secs, 3099 evals, 2986 steps, improv/step: 0.122 (last = 0.0520), fitness=-0.351834009"
     ]
    },
    {
     "name": "stdout",
     "output_type": "stream",
     "text": [
      "\n",
      "9.04 secs, 3270 evals, 3157 steps, improv/step: 0.117 (last = 0.0234), fitness=-0.351834009"
     ]
    },
    {
     "name": "stdout",
     "output_type": "stream",
     "text": [
      "\n",
      "9.54 secs, 3443 evals, 3330 steps, improv/step: 0.113 (last = 0.0405), fitness=-0.351834009\n"
     ]
    },
    {
     "name": "stdout",
     "output_type": "stream",
     "text": [
      "10.04 secs, 3615 evals, 3502 steps, improv/step: 0.109 (last = 0.0291), fitness=-0.351834009\n"
     ]
    },
    {
     "name": "stdout",
     "output_type": "stream",
     "text": [
      "10.54 secs, 3790 evals, 3677 steps, improv/step: 0.104 (last = 0.0229), fitness=-0.351834009\n"
     ]
    },
    {
     "name": "stdout",
     "output_type": "stream",
     "text": [
      "11.04 secs, 3963 evals, 3850 steps, improv/step: 0.101 (last = 0.0289), fitness=-0.351834009\n"
     ]
    },
    {
     "name": "stdout",
     "output_type": "stream",
     "text": [
      "11.54 secs, 4138 evals, 4025 steps, improv/step: 0.098 (last = 0.0286), fitness=-0.351834009"
     ]
    },
    {
     "name": "stdout",
     "output_type": "stream",
     "text": [
      "\n",
      "12.05 secs, 4311 evals, 4198 steps, improv/step: 0.095 (last = 0.0173), fitness=-0.351834009\n"
     ]
    },
    {
     "name": "stdout",
     "output_type": "stream",
     "text": [
      "12.55 secs, 4484 evals, 4371 steps, improv/step: 0.092 (last = 0.0173), fitness=-0.351834009\n"
     ]
    },
    {
     "name": "stdout",
     "output_type": "stream",
     "text": [
      "13.05 secs, 4656 evals, 4543 steps, improv/step: 0.089 (last = 0.0233), fitness=-0.351834009\n"
     ]
    },
    {
     "name": "stdout",
     "output_type": "stream",
     "text": [
      "13.55 secs, 4827 evals, 4714 steps, improv/step: 0.087 (last = 0.0409), fitness=-0.351834009"
     ]
    },
    {
     "name": "stdout",
     "output_type": "stream",
     "text": [
      "\n",
      "14.05 secs, 4998 evals, 4885 steps, improv/step: 0.086 (last = 0.0468), fitness=-0.351834009"
     ]
    },
    {
     "name": "stdout",
     "output_type": "stream",
     "text": [
      "\n",
      "14.56 secs, 5168 evals, 5055 steps, improv/step: 0.084 (last = 0.0412), fitness=-0.351834009"
     ]
    },
    {
     "name": "stdout",
     "output_type": "stream",
     "text": [
      "\n",
      "15.06 secs, 5337 evals, 5224 steps, improv/step: 0.082 (last = 0.0237), fitness=-0.351834009\n"
     ]
    },
    {
     "name": "stdout",
     "output_type": "stream",
     "text": [
      "15.56 secs, 5506 evals, 5393 steps, improv/step: 0.082 (last = 0.0592), fitness=-0.351834009\n"
     ]
    },
    {
     "name": "stdout",
     "output_type": "stream",
     "text": [
      "16.06 secs, 5676 evals, 5563 steps, improv/step: 0.080 (last = 0.0235), fitness=-0.351834009\n"
     ]
    },
    {
     "name": "stdout",
     "output_type": "stream",
     "text": [
      "16.57 secs, 5845 evals, 5733 steps, improv/step: 0.079 (last = 0.0647), fitness=-0.351834009"
     ]
    },
    {
     "name": "stdout",
     "output_type": "stream",
     "text": [
      "\n",
      "17.07 secs, 6014 evals, 5902 steps, improv/step: 0.078 (last = 0.0296), fitness=-0.371422444\n"
     ]
    },
    {
     "name": "stdout",
     "output_type": "stream",
     "text": [
      "17.57 secs, 6183 evals, 6071 steps, improv/step: 0.077 (last = 0.0296), fitness=-0.371422444\n"
     ]
    },
    {
     "name": "stdout",
     "output_type": "stream",
     "text": [
      "18.07 secs, 6349 evals, 6237 steps, improv/step: 0.076 (last = 0.0361), fitness=-0.371422444"
     ]
    },
    {
     "name": "stdout",
     "output_type": "stream",
     "text": [
      "\n",
      "18.57 secs, 6516 evals, 6404 steps, improv/step: 0.074 (last = 0.0299), fitness=-0.371422444\n"
     ]
    },
    {
     "name": "stdout",
     "output_type": "stream",
     "text": [
      "19.08 secs, 6681 evals, 6570 steps, improv/step: 0.075 (last = 0.0843), fitness=-0.371422444\n"
     ]
    },
    {
     "name": "stdout",
     "output_type": "stream",
     "text": [
      "19.58 secs, 6844 evals, 6734 steps, improv/step: 0.073 (last = 0.0244), fitness=-0.371422444\n"
     ]
    },
    {
     "name": "stdout",
     "output_type": "stream",
     "text": [
      "20.08 secs, 7008 evals, 6899 steps, improv/step: 0.072 (last = 0.0364), fitness=-0.371422444\n"
     ]
    },
    {
     "name": "stdout",
     "output_type": "stream",
     "text": [
      "20.58 secs, 7174 evals, 7065 steps, improv/step: 0.071 (last = 0.0181), fitness=-0.371422444\n"
     ]
    },
    {
     "name": "stdout",
     "output_type": "stream",
     "text": [
      "21.08 secs, 7339 evals, 7234 steps, improv/step: 0.071 (last = 0.0710), fitness=-0.371422444\n"
     ]
    },
    {
     "name": "stdout",
     "output_type": "stream",
     "text": [
      "21.59 secs, 7504 evals, 7407 steps, improv/step: 0.071 (last = 0.0578), fitness=-0.371422444\n"
     ]
    },
    {
     "name": "stdout",
     "output_type": "stream",
     "text": [
      "22.09 secs, 7665 evals, 7574 steps, improv/step: 0.071 (last = 0.0659), fitness=-0.371422444"
     ]
    },
    {
     "name": "stdout",
     "output_type": "stream",
     "text": [
      "\n",
      "22.59 secs, 7830 evals, 7746 steps, improv/step: 0.070 (last = 0.0581), fitness=-0.371422444\n"
     ]
    },
    {
     "name": "stdout",
     "output_type": "stream",
     "text": [
      "23.09 secs, 7993 evals, 7933 steps, improv/step: 0.070 (last = 0.0481), fitness=-0.371422444\n"
     ]
    },
    {
     "name": "stdout",
     "output_type": "stream",
     "text": [
      "23.59 secs, 8157 evals, 8123 steps, improv/step: 0.070 (last = 0.0737), fitness=-0.371422444\n"
     ]
    },
    {
     "name": "stdout",
     "output_type": "stream",
     "text": [
      "24.10 secs, 8322 evals, 8322 steps, improv/step: 0.069 (last = 0.0201), fitness=-0.371422444\n"
     ]
    },
    {
     "name": "stdout",
     "output_type": "stream",
     "text": [
      "24.60 secs, 8488 evals, 8556 steps, improv/step: 0.068 (last = 0.0513), fitness=-0.371422444\n"
     ]
    },
    {
     "name": "stdout",
     "output_type": "stream",
     "text": [
      "25.10 secs, 8639 evals, 8788 steps, improv/step: 0.068 (last = 0.0517), fitness=-0.371422444\n"
     ]
    },
    {
     "name": "stdout",
     "output_type": "stream",
     "text": [
      "25.60 secs, 8803 evals, 9077 steps, improv/step: 0.067 (last = 0.0484), fitness=-0.371422444"
     ]
    },
    {
     "name": "stdout",
     "output_type": "stream",
     "text": [
      "\n",
      "26.11 secs, 8969 evals, 9376 steps, improv/step: 0.067 (last = 0.0435), fitness=-0.371422444\n"
     ]
    },
    {
     "name": "stdout",
     "output_type": "stream",
     "text": [
      "26.61 secs, 9141 evals, 9728 steps, improv/step: 0.066 (last = 0.0568), fitness=-0.371422444\n"
     ]
    },
    {
     "name": "stdout",
     "output_type": "stream",
     "text": [
      "\n",
      "Optimization stopped after 10076 steps and 26.76 seconds\n",
      "Termination reason: Too many steps (101) without any function evaluations (probably search has converged)\n",
      "Steps per second = 376.49\n",
      "Function evals per second = 343.42\n",
      "Improvements/step = Inf\n",
      "Total function evaluations = 9191\n",
      "\n",
      "\n",
      "Best candidate found: [0.960648, 9.76264]\n",
      "\n",
      "Fitness: -0.371422444\n",
      "\n"
     ]
    },
    {
     "data": {
      "text/plain": [
       "BlackBoxOptim.OptimizationResults(\"adaptive_de_rand_1_bin_radiuslimited\", \"Too many steps (101) without any function evaluations (probably search has converged)\", 10076, 1.692093897214e9, 26.763000011444092, ParamsDictChain[ParamsDictChain[Dict{Symbol, Any}(:RngSeed => 824175, :MaxTime => 40.0, :SearchRange => [(0.0, 5.0), (-10.0, 10.0)], :MaxFuncEvals => 0, :MaxSteps => 0),Dict{Symbol, Any}()],Dict{Symbol, Any}(:CallbackInterval => -1.0, :TargetFitness => nothing, :TraceMode => :compact, :FitnessScheme => ScalarFitnessScheme{true}(), :MinDeltaFitnessTolerance => 1.0e-50, :NumDimensions => :NotSpecified, :FitnessTolerance => 1.0e-8, :TraceInterval => 0.5, :MaxStepsWithoutProgress => 10000, :MaxSteps => 10000…)], 9191, ScalarFitnessScheme{true}(), BlackBoxOptim.TopListArchiveOutput{Float64, Vector{Float64}}(-0.3714224442806003, [0.9606484936425075, 9.76263583217019]), BlackBoxOptim.PopulationOptimizerOutput{FitPopulation{Float64}}(FitPopulation{Float64}([0.9606484936425075 0.9606484936425075 … 0.9606484936425075 0.9606484936425075; 9.76263583217019 9.76263583217019 … 9.76263583217019 9.76263583217019], NaN, [-0.3714224442806003, -0.3714224442806003, -0.3714224442806003, -0.3714224442806003, -0.3714224442806003, -0.3714224442806003, -0.3714224442806003, -0.3714224442806003, -0.3714224442806003, -0.3714224442806003  …  -0.3714224442806003, -0.3714224442806003, -0.3714224442806003, -0.3714224442806003, -0.3714224442806003, -0.3714224442806003, -0.3714224442806003, -0.3714224442806003, -0.3714224442806003, -0.3714224442806003], 0, BlackBoxOptim.Candidate{Float64}[BlackBoxOptim.Candidate{Float64}([0.9606484936425075, 9.76263583217019], 35, -0.3714224442806003, BlackBoxOptim.AdaptiveDiffEvoRandBin{3}(BlackBoxOptim.AdaptiveDiffEvoParameters(BlackBoxOptim.BimodalCauchy(Cauchy{Float64}(μ=0.65, σ=0.1), Cauchy{Float64}(μ=1.0, σ=0.1), 0.5, false, true), BlackBoxOptim.BimodalCauchy(Cauchy{Float64}(μ=0.1, σ=0.1), Cauchy{Float64}(μ=0.95, σ=0.1), 0.5, false, true), [0.8224020149854215, 1.0, 0.6547615546715201, 0.96291455059517, 0.6318156081382176, 0.9214322230066587, 0.581404586898946, 0.2885065599589641, 0.6090233639902028, 1.0  …  0.7704397439819042, 0.6332524165823242, 1.0, 0.9135818204588795, 0.8728698945830662, 0.7961756611821669, 1.0, 0.9431867821207572, 1.0, 0.7656704769822986], [0.7232067407360354, 1.0, 0.9798083157243406, 1.0, 0.12059400847773086, 0.7346557484330422, 0.9031786713944013, 1.0, 1.0, 0.2020822347500582  …  0.10978748289741967, 0.9276510186507243, 0.036400458934390645, 0.16983320707248084, 0.9362465710639312, 0.812554398974832, 0.0006175308947101721, 1.0, 0.01925044542359111, 0.24867315482464594])), 0), BlackBoxOptim.Candidate{Float64}([0.9606484936425075, 9.76263583217019], 35, -0.3714224442806003, BlackBoxOptim.AdaptiveDiffEvoRandBin{3}(BlackBoxOptim.AdaptiveDiffEvoParameters(BlackBoxOptim.BimodalCauchy(Cauchy{Float64}(μ=0.65, σ=0.1), Cauchy{Float64}(μ=1.0, σ=0.1), 0.5, false, true), BlackBoxOptim.BimodalCauchy(Cauchy{Float64}(μ=0.1, σ=0.1), Cauchy{Float64}(μ=0.95, σ=0.1), 0.5, false, true), [0.8224020149854215, 1.0, 0.6547615546715201, 0.96291455059517, 0.6318156081382176, 0.9214322230066587, 0.581404586898946, 0.2885065599589641, 0.6090233639902028, 1.0  …  0.7704397439819042, 0.6332524165823242, 1.0, 0.9135818204588795, 0.8728698945830662, 0.7961756611821669, 1.0, 0.9431867821207572, 1.0, 0.7656704769822986], [0.7232067407360354, 1.0, 0.9798083157243406, 1.0, 0.12059400847773086, 0.7346557484330422, 0.9031786713944013, 1.0, 1.0, 0.2020822347500582  …  0.10978748289741967, 0.9276510186507243, 0.036400458934390645, 0.16983320707248084, 0.9362465710639312, 0.812554398974832, 0.0006175308947101721, 1.0, 0.01925044542359111, 0.24867315482464594])), 0)], Base.Threads.SpinLock(0))))"
      ]
     },
     "metadata": {},
     "output_type": "display_data"
    }
   ],
   "source": [
    "using BlackBoxOptim\n",
    "\n",
    "μ_range = (0.0, 5.0)\n",
    "α_range = (-10.0, 10.0)\n",
    "\n",
    "bbres = bboptimize(minus_lyapunov; SearchRange = [μ_range, α_range], MaxTime = 30.0)"
   ]
  },
  {
   "cell_type": "code",
   "execution_count": 212,
   "metadata": {},
   "outputs": [
    {
     "data": {
      "text/plain": [
       "2-element Vector{Float64}:\n",
       "  0.9676556181264955\n",
       " -9.975925499192703"
      ]
     },
     "metadata": {},
     "output_type": "display_data"
    }
   ],
   "source": [
    "pmax = best_candidate(bbres)"
   ]
  },
  {
   "cell_type": "code",
   "execution_count": 223,
   "metadata": {},
   "outputs": [
    {
     "data": {
      "text/plain": [
       "0.3714224442806003"
      ]
     },
     "metadata": {},
     "output_type": "display_data"
    }
   ],
   "source": [
    "λmax = -best_fitness(bbres)"
   ]
  },
  {
   "cell_type": "code",
   "execution_count": 232,
   "metadata": {},
   "outputs": [
    {
     "data": {
      "image/png": "[encoded data removed]"
     },
     "metadata": {},
     "output_type": "display_data"
    }
   ],
   "source": [
    "ds = CoupledODEs(rikitake_rule, SVector(1, 0, 0.6), pmax)\n",
    "X, t = trajectory(ds, 1000.0; Ttr = 10, Δt = 0.01)\n",
    "fig, ax = lines(vec(X); axis = (type = Axis3,), figure = (resolution = (800, 600),))\n",
    "hidedecorations!(ax)\n",
    "fig"
   ]
  },
  {
   "attachments": {},
   "cell_type": "markdown",
   "metadata": {},
   "source": [
    "# Distributions.jl\n",
    "\n",
    "The [`Distributions`](https://juliastats.org/Distributions.jl/stable/) package provides an interface for writing probability-distribution-agnostic code: sampling distributions and getting pdfs, using moments, and more. This means that you can write any code that uses a probability distribution without having to care about the distribution's specifics. The result: your code can be run with _any_ probability distribution!\n",
    "\n",
    "> _Note: the package targets applications scenarios where continuous probabilty density functions with analytically known expressions are used (and optionally fitted to the data). For extracting discrete probability mass functions from input data using a plethora of different discretization methods, see [ComplexityMeasures.jl](https://juliadynamics.github.io/ComplexityMeasures.jl/stable/)._\n",
    "\n",
    "The way it works is quite straightforward: `Distributions` provides a unified API around abstract types representing probability distributions. To keep things simple here we limit ourselves to univariate continuous distributions."
   ]
  },
  {
   "cell_type": "code",
   "execution_count": 109,
   "metadata": {},
   "outputs": [
    {
     "name": "stderr",
     "output_type": "stream",
     "text": [
      "WARNING: using Distributions.sampler in module Main conflicts with an existing identifier.\n",
      "WARNING: using Distributions.entropy in module Main conflicts with an existing identifier.\n"
     ]
    },
    {
     "data": {
      "text/plain": [
       "Normal{Float64}(μ=0.1, σ=0.25)"
      ]
     },
     "metadata": {},
     "output_type": "display_data"
    }
   ],
   "source": [
    "# import Pkg; Pkg.add(\"Distributions\")\n",
    "using Distributions\n",
    "d = Normal(0.1, 0.25)"
   ]
  },
  {
   "cell_type": "code",
   "execution_count": 110,
   "metadata": {},
   "outputs": [
    {
     "data": {
      "text/plain": [
       "Distribution{Univariate, Continuous}"
      ]
     },
     "metadata": {},
     "output_type": "display_data"
    }
   ],
   "source": [
    "supertype(typeof(d))"
   ]
  },
  {
   "cell_type": "markdown",
   "metadata": {},
   "source": [
    "Various distribution-related quantities can be extracted using `Distributions`, by utilizing the analytic form of a specific distribution. For example:"
   ]
  },
  {
   "cell_type": "code",
   "execution_count": 111,
   "metadata": {},
   "outputs": [
    {
     "data": {
      "text/plain": [
       "1.5957691216057308"
      ]
     },
     "metadata": {},
     "output_type": "display_data"
    }
   ],
   "source": [
    "pdf(d, 0.1) # probability density function at x = 0.1"
   ]
  },
  {
   "cell_type": "code",
   "execution_count": 112,
   "metadata": {},
   "outputs": [
    {
     "data": {
      "text/plain": [
       "0.25"
      ]
     },
     "metadata": {},
     "output_type": "display_data"
    }
   ],
   "source": [
    "std(d)"
   ]
  },
  {
   "cell_type": "markdown",
   "metadata": {},
   "source": [
    "Arguably one of the most important features for `Distributions` is that these objects can be used as samplers in the `rand` function."
   ]
  },
  {
   "cell_type": "code",
   "execution_count": 113,
   "metadata": {},
   "outputs": [
    {
     "data": {
      "text/plain": [
       "0.4578169454967659"
      ]
     },
     "metadata": {},
     "output_type": "display_data"
    }
   ],
   "source": [
    "rand(d) # sample a random variable distributed according to `d`"
   ]
  },
  {
   "cell_type": "code",
   "execution_count": 114,
   "metadata": {},
   "outputs": [
    {
     "data": {
      "text/plain": [
       "10×10 Matrix{Float64}:\n",
       "  0.0660963   0.525875    0.374555    0.331278   …   0.276103      0.474536\n",
       " -0.296274   -0.0657468  -0.153313   -0.270448      -0.0482234     0.26306\n",
       "  0.0381474  -0.296639    0.376843    0.0960117      0.297911      0.47611\n",
       "  0.116733   -0.447924   -0.116847    0.133897       0.338201      0.223436\n",
       " -0.12044     0.397166    0.462917   -0.0403995      0.0226945     0.0486286\n",
       "  0.335411    0.214113    0.478768    0.102207   …   0.189401     -0.215897\n",
       "  0.117821    0.0607703   0.0625559   0.0123315     -0.000801571  -0.0066611\n",
       "  0.220294    0.212522    0.121289    0.452504      -0.349279     -0.1658\n",
       " -0.0733852  -0.314987    0.306153    0.198295      -0.100006     -0.0339482\n",
       "  0.377515   -0.494683    0.269298    0.421116       0.205603      0.051321"
      ]
     },
     "metadata": {},
     "output_type": "display_data"
    }
   ],
   "source": [
    "rand(d, 10, 10)"
   ]
  },
  {
   "cell_type": "markdown",
   "metadata": {},
   "source": [
    "And all of this works for any subtype of `Distribution`:"
   ]
  },
  {
   "cell_type": "code",
   "execution_count": 115,
   "metadata": {
    "scrolled": true
   },
   "outputs": [
    {
     "data": {
      "image/png": "[encoded data removed]"
     },
     "metadata": {},
     "output_type": "display_data"
    }
   ],
   "source": [
    "using CairoMakie\n",
    "cauchy = Cauchy(0.5, 0.25)\n",
    "x = range(-1, 4; length = 101)\n",
    "lines(x, pdf.(cauchy, x))"
   ]
  },
  {
   "cell_type": "code",
   "execution_count": 116,
   "metadata": {},
   "outputs": [
    {
     "data": {
      "text/plain": [
       "0.256474742801926"
      ]
     },
     "metadata": {},
     "output_type": "display_data"
    }
   ],
   "source": [
    "rand(cauchy)"
   ]
  },
  {
   "cell_type": "code",
   "execution_count": 117,
   "metadata": {},
   "outputs": [
    {
     "data": {
      "text/plain": [
       "NaN"
      ]
     },
     "metadata": {},
     "output_type": "display_data"
    }
   ],
   "source": [
    "std(cauchy)"
   ]
  },
  {
   "cell_type": "code",
   "execution_count": 118,
   "metadata": {},
   "outputs": [
    {
     "data": {
      "text/plain": [
       "0.5"
      ]
     },
     "metadata": {},
     "output_type": "display_data"
    }
   ],
   "source": [
    "quantile(cauchy, 0.5)"
   ]
  },
  {
   "cell_type": "markdown",
   "metadata": {},
   "source": [
    "You can also create your own distribution by extending a small amount of methods!"
   ]
  },
  {
   "attachments": {},
   "cell_type": "markdown",
   "metadata": {},
   "source": [
    "Or, you can use the `fit` function, to fit a distribution to an e.g. experimental measurement:"
   ]
  },
  {
   "cell_type": "code",
   "execution_count": 119,
   "metadata": {},
   "outputs": [
    {
     "data": {
      "text/plain": [
       "Cauchy{Float64}(μ=-0.02589633201878442, σ=0.6501921573461381)"
      ]
     },
     "metadata": {},
     "output_type": "display_data"
    }
   ],
   "source": [
    "x = randn(5000);\n",
    "cauchyfit = fit(Cauchy, x)"
   ]
  },
  {
   "cell_type": "code",
   "execution_count": 120,
   "metadata": {},
   "outputs": [
    {
     "data": {
      "image/png": "[encoded data removed]"
     },
     "metadata": {},
     "output_type": "display_data"
    }
   ],
   "source": [
    "# plot the fit\n",
    "hist(x, 50; normalization = :pdf)\n",
    "scatter!(x, pdf.(cauchyfit, x); color = \"red\")\n",
    "current_figure()"
   ]
  },
  {
   "attachments": {},
   "cell_type": "markdown",
   "metadata": {},
   "source": [
    "Of course, other fundamental statistical measures, e.g. means, stds, quantiles, work out of the box for any distribution."
   ]
  },
  {
   "attachments": {},
   "cell_type": "markdown",
   "metadata": {},
   "source": [
    "# DrWatson\n",
    "\n",
    "[DrWatson](https://juliadynamics.github.io/DrWatson.jl/dev/) is a scientific project assistant software. It helps people deal with their scientific code base, allowing them to focus more on the science and less on the code management. DrWatson offers a lot of tools and functionality for this purpose, but here I'll only show a couple of them. \n",
    "\n",
    "*Disclaimer: I am one of the developers of DrWatson.*\n",
    "\n",
    "## FileIO\n",
    "\n",
    "Obviously, in order to do science, it is necessary to be able to save files to arbitrary formats and to be able to read them later. `FileIO` (which is used by `DrWatson`) is a Julia package that provides a unified API to save and load files to disk, without caring about their actual file ending type.\n",
    "\n",
    "The interface is as simple as:\n",
    "```julia\n",
    "using FileIO\n",
    "object = load(filename)\n",
    "save(filename, object)\n",
    "```\n",
    "where `filename` is a `String` (arbitrary path) that *includes* the file ending, e.g. `.hdf5`.\n",
    "\n",
    "`FileIO` does not actually install any packages that can save or load files! It provides the interface. If you try to save/load a file with an unsupported ending, `FileIO` will tell you that's impossible."
   ]
  },
  {
   "cell_type": "code",
   "execution_count": 2,
   "metadata": {
    "scrolled": true
   },
   "outputs": [
    {
     "data": {
      "text/plain": [
       "\"c:\\\\Users\\\\datse\\\\OneDrive - University of Exeter\\\\Teaching\\\\Zero2Hero-JuliaWorkshop\""
      ]
     },
     "metadata": {},
     "output_type": "display_data"
    }
   ],
   "source": [
    "using DrWatson\n",
    "cd(@__DIR__)\n",
    "pwd() # state current working directory"
   ]
  },
  {
   "attachments": {},
   "cell_type": "markdown",
   "metadata": {},
   "source": [
    "Most packages that can save data of arbitrary format expect the final object to save a dictionary"
   ]
  },
  {
   "cell_type": "code",
   "execution_count": 3,
   "metadata": {},
   "outputs": [
    {
     "data": {
      "text/plain": [
       "Dict{String, Int64} with 2 entries:\n",
       "  \"b\" => 4\n",
       "  \"a\" => 5"
      ]
     },
     "metadata": {},
     "output_type": "display_data"
    }
   ],
   "source": [
    "testdata = Dict(\"a\" => 5, \"b\" => 4)"
   ]
  },
  {
   "cell_type": "markdown",
   "metadata": {},
   "source": [
    "To save the data we need a \"file i/o backend\". I recommend JLD2.jl:"
   ]
  },
  {
   "cell_type": "code",
   "execution_count": 161,
   "metadata": {},
   "outputs": [],
   "source": [
    "# import Pkg; Pkg.add(\"JLD2\")\n",
    "save(\"test.jld2\", testdata)"
   ]
  },
  {
   "cell_type": "code",
   "execution_count": 162,
   "metadata": {},
   "outputs": [
    {
     "data": {
      "text/plain": [
       "Dict{String, Any} with 2 entries:\n",
       "  \"b\" => 4\n",
       "  \"a\" => 5"
      ]
     },
     "metadata": {},
     "output_type": "display_data"
    }
   ],
   "source": [
    "load(\"test.jld2\")"
   ]
  },
  {
   "cell_type": "code",
   "execution_count": 163,
   "metadata": {},
   "outputs": [],
   "source": [
    "rm(\"test.jld2\") # clean-up"
   ]
  },
  {
   "attachments": {},
   "cell_type": "markdown",
   "metadata": {},
   "source": [
    "## Savename\n",
    "\n",
    "When saving files, scientists often want to include the parameter values of the simulations in the name of the file. For example, If I had run a simulation with parameters:"
   ]
  },
  {
   "cell_type": "code",
   "execution_count": 164,
   "metadata": {},
   "outputs": [
    {
     "data": {
      "text/plain": [
       "(1, 2, 3)"
      ]
     },
     "metadata": {},
     "output_type": "display_data"
    }
   ],
   "source": [
    "a, b, c = 1, 2, 3"
   ]
  },
  {
   "attachments": {},
   "cell_type": "markdown",
   "metadata": {},
   "source": [
    "I would like to save my simulation as e.g. `sim_a=1_b=2_c=3.jld2`. This can be achieved with string interpolation like so"
   ]
  },
  {
   "cell_type": "code",
   "execution_count": 165,
   "metadata": {},
   "outputs": [
    {
     "data": {
      "text/plain": [
       "\"sim_a=1_b=2_c=3.jld2\""
      ]
     },
     "metadata": {},
     "output_type": "display_data"
    }
   ],
   "source": [
    "filename = \"sim_a=$(a)_b=$(b)_c=$(c).jld2\""
   ]
  },
  {
   "attachments": {},
   "cell_type": "markdown",
   "metadata": {},
   "source": [
    "This works, but besides being tedious, it is not extendable: if I have a different simulation, with different parameter names, I have to modify this command.\n",
    "\n",
    "This is where DrWatson comes in: it provides a tool, called `savename`, that takes as an input **any Julia container** and converts it into a `key=value` chain. It works with dictionaries and arbitrary Julia composite types (it would work with the `Animal` we defined in the previous session). For example:"
   ]
  },
  {
   "cell_type": "code",
   "execution_count": 174,
   "metadata": {},
   "outputs": [
    {
     "data": {
      "text/plain": [
       "Dict{String, Int64} with 3 entries:\n",
       "  \"c\" => 3\n",
       "  \"b\" => 2\n",
       "  \"a\" => 1"
      ]
     },
     "metadata": {},
     "output_type": "display_data"
    }
   ],
   "source": [
    "using DrWatson\n",
    "# the `@strdict` command makes a dictionary from the given variable names\n",
    "# it converts the variable names into strings for the keys of the dictionary\n",
    "# `@strdict` is a \"macro\", something we won't talk about in this workshop\n",
    "pars = @strdict a b c"
   ]
  },
  {
   "cell_type": "code",
   "execution_count": 175,
   "metadata": {},
   "outputs": [
    {
     "data": {
      "text/plain": [
       "\"a=1_b=2_c=3\""
      ]
     },
     "metadata": {},
     "output_type": "display_data"
    }
   ],
   "source": [
    "savename(pars)"
   ]
  },
  {
   "attachments": {},
   "cell_type": "markdown",
   "metadata": {},
   "source": [
    "You can also call `savename` with prefix and suffix"
   ]
  },
  {
   "cell_type": "code",
   "execution_count": 176,
   "metadata": {},
   "outputs": [
    {
     "data": {
      "text/plain": [
       "\"prefix_a=1_b=2_c=3_model=linear.jld2\""
      ]
     },
     "metadata": {},
     "output_type": "display_data"
    }
   ],
   "source": [
    "model = \"linear\"\n",
    "pars = @strdict a b c model\n",
    "savename(\"prefix\", pars, \"jld2\")"
   ]
  },
  {
   "attachments": {},
   "cell_type": "markdown",
   "metadata": {},
   "source": [
    "`savename` is highly customizable, and also extendable for your own types, while by default it makes some reasonable assumptions about what should and should not be put into the this name. For example, if you had a vector of numbers as part of your parameters, you probably don't want to include it into the savename (by default)"
   ]
  },
  {
   "cell_type": "code",
   "execution_count": 179,
   "metadata": {},
   "outputs": [
    {
     "data": {
      "text/plain": [
       "Dict{String, Any} with 5 entries:\n",
       "  \"v\"     => [1, 2, 3, 4, 5, 6, 7, 8, 9, 10]\n",
       "  \"c\"     => 3\n",
       "  \"model\" => \"linear\"\n",
       "  \"b\"     => 2\n",
       "  \"a\"     => 1"
      ]
     },
     "metadata": {},
     "output_type": "display_data"
    }
   ],
   "source": [
    "pars[\"v\"] = collect(1:10)\n",
    "pars"
   ]
  },
  {
   "cell_type": "code",
   "execution_count": 180,
   "metadata": {},
   "outputs": [
    {
     "data": {
      "text/plain": [
       "\"a=1_b=2_c=3_model=linear\""
      ]
     },
     "metadata": {},
     "output_type": "display_data"
    }
   ],
   "source": [
    "savename(pars)"
   ]
  },
  {
   "attachments": {},
   "cell_type": "markdown",
   "metadata": {},
   "source": [
    "But you _could_ if you really wanted to:"
   ]
  },
  {
   "cell_type": "code",
   "execution_count": 181,
   "metadata": {},
   "outputs": [
    {
     "data": {
      "text/plain": [
       "\"a=1_b=2_c=3_model=linear_v=[1, 2, 3, 4, 5, 6, 7, 8, 9, 10].jld2\""
      ]
     },
     "metadata": {},
     "output_type": "display_data"
    }
   ],
   "source": [
    "savename(pars, \"jld2\"; allowedtypes = (Real, String, Vector))"
   ]
  },
  {
   "attachments": {},
   "cell_type": "markdown",
   "metadata": {},
   "source": [
    "`savename` is also convenient for creating titles for figures, by using a different connector:"
   ]
  },
  {
   "cell_type": "code",
   "execution_count": 182,
   "metadata": {},
   "outputs": [
    {
     "data": {
      "text/plain": [
       "\"Simulation, a=1, b=2, c=3, model=linear\""
      ]
     },
     "metadata": {},
     "output_type": "display_data"
    }
   ],
   "source": [
    "savename(\"Simulation\", pars; connector = \", \")"
   ]
  },
  {
   "attachments": {},
   "cell_type": "markdown",
   "metadata": {},
   "source": [
    "## Saving tools\n",
    "\n",
    "DrWatson offers some tools that are useful when saving files. The first is\n",
    "`tagsave`, which modifies the dictionary-to-be-saved by adding additional information about the current status of the Git repository of the project (if there exists a Git repository). This allows for reproducibility. For example (notice that `pwd()` is the path of a Git repository)"
   ]
  },
  {
   "cell_type": "code",
   "execution_count": 183,
   "metadata": {},
   "outputs": [
    {
     "name": "stderr",
     "output_type": "stream",
     "text": [
      "┌ Warning: The Git repository ('c:\\Users\\datse\\OneDrive - University of Exeter\\Teaching\\Zero2Hero-JuliaWorkshop') is dirty! Appending -dirty to the commit ID.\n",
      "└ @ DrWatson C:\\Users\\datse\\.julia\\packages\\DrWatson\\ieY6i\\src\\saving_tools.jl:64\n"
     ]
    },
    {
     "data": {
      "text/plain": [
       "Dict{String, Any} with 6 entries:\n",
       "  \"v\"         => [1, 2, 3, 4, 5, 6, 7, 8, 9, 10]\n",
       "  \"c\"         => 3\n",
       "  \"gitcommit\" => \"c91187afcd76068f8e1efc89b5c473a31e57bb48-dirty\"\n",
       "  \"model\"     => \"linear\"\n",
       "  \"b\"         => 2\n",
       "  \"a\"         => 1"
      ]
     },
     "metadata": {},
     "output_type": "display_data"
    }
   ],
   "source": [
    "tagsave(\"test.jld2\", copy(pars); gitpath = pwd())\n",
    "load(\"test.jld2\")"
   ]
  },
  {
   "attachments": {},
   "cell_type": "markdown",
   "metadata": {},
   "source": [
    "You can see that the Git commit ID was included in the saved file! And not only that, but because the git status is currently \"dirty\", this was also added as saved information."
   ]
  },
  {
   "attachments": {},
   "cell_type": "markdown",
   "metadata": {},
   "source": [
    "Another useful tool is `safesave`. We all know how **devastating** it can be to by-mistake overwrite an existing simulation because you saved a new simulation with the same name... `safesave` comes to the rescue because it ensures that no files are overwritten but also all files are saved!\n",
    "\n",
    "It works like this:\n",
    "```julia\n",
    "safesave(\"test.jld2\", ...)\n",
    "```\n",
    "if `\"test.jld2\"` exists, rename it to `test_#1.jld2` (and do this recursively if `test_#1.jld2` also exists, by incrementing the number after the `#`). Then, save the current data as `test.jld2`."
   ]
  },
  {
   "cell_type": "code",
   "execution_count": 184,
   "metadata": {},
   "outputs": [],
   "source": [
    "safesave(\"test.jld2\", pars)\n",
    "safesave(\"test.jld2\", pars)\n",
    "safesave(\"test.jld2\", pars)"
   ]
  },
  {
   "cell_type": "code",
   "execution_count": 185,
   "metadata": {},
   "outputs": [
    {
     "data": {
      "text/plain": [
       "19-element Vector{String}:\n",
       " \".git\"\n",
       " \".gitignore\"\n",
       " \"1-JuliaIntro.ipynb\"\n",
       " \"2-MultipleDispatch.ipynb\"\n",
       " \"3-Ecosystem.ipynb\"\n",
       " \"LICENSE.md\"\n",
       " \"Manifest.toml\"\n",
       " \"Project.toml\"\n",
       " \"README.md\"\n",
       " \"add.jpg\"\n",
       " \"makie_ex_fig_1.png\"\n",
       " \"makie_ex_fig_2.png\"\n",
       " \"solutions_1.jl\"\n",
       " \"solutions_2.jl\"\n",
       " \"solutions_3.jl\"\n",
       " \"test.jld2\"\n",
       " \"test_#1.jld2\"\n",
       " \"test_#2.jld2\"\n",
       " \"test_#3.jld2\""
      ]
     },
     "metadata": {},
     "output_type": "display_data"
    }
   ],
   "source": [
    "readdir(pwd())"
   ]
  },
  {
   "cell_type": "code",
   "execution_count": 188,
   "metadata": {},
   "outputs": [],
   "source": [
    "# delete all files that end in \"jld2\"\n",
    "[rm(f) for f in readdir(pwd()) if endswith(f, \"jld2\")];"
   ]
  },
  {
   "attachments": {},
   "cell_type": "markdown",
   "metadata": {},
   "source": [
    "## Collecting results\n",
    "\n",
    "If you run several similar simulations with different parameters, you typically want to collect all of them in a tabular datastrcture to analyze further. You can use `collect_results` to automate the data collection process. \n",
    "\n",
    "Let's say we run first some simulations with varying parameters like so:"
   ]
  },
  {
   "cell_type": "code",
   "execution_count": 190,
   "metadata": {},
   "outputs": [],
   "source": [
    "model = \"linear\"\n",
    "for a in 1:2\n",
    "    for b in [2, 3]\n",
    "        # perform a fake simulation\n",
    "        r = a + b\n",
    "        # save it:\n",
    "        p = @strdict a b r model\n",
    "        s = @strdict a b model # the result \"r\" doesn't take part in the name\n",
    "        wsave(joinpath(\"data\", savename(s, \"jld2\")), p)\n",
    "    end\n",
    "end"
   ]
  },
  {
   "attachments": {},
   "cell_type": "markdown",
   "metadata": {},
   "source": [
    "Then we run a different model, which does not necessarily have the same parameters:"
   ]
  },
  {
   "cell_type": "code",
   "execution_count": 192,
   "metadata": {},
   "outputs": [],
   "source": [
    "model = \"cubic\"\n",
    "for a in 1:2\n",
    "    for d in [5, 6]\n",
    "        # perform a fake simulation\n",
    "        r = a + d^3\n",
    "        # save it:\n",
    "        p = @strdict a d r model\n",
    "        s = @strdict a d model # the result \"r\" doesn't take part in the name\n",
    "        wsave(joinpath(\"data\", savename(s, \"jld2\")), p)\n",
    "    end\n",
    "end"
   ]
  },
  {
   "attachments": {},
   "cell_type": "markdown",
   "metadata": {},
   "source": [
    "Now the idea is that we want to collect all of this results in a single tabular structure. We do with `collect_results(folder)`, which collects all results of the `folder` into a `DataFrame`. This is a tabular data structure (and thus we need the Julia package `DataFrames` to use it):"
   ]
  },
  {
   "cell_type": "code",
   "execution_count": 193,
   "metadata": {},
   "outputs": [
    {
     "name": "stderr",
     "output_type": "stream",
     "text": [
      "┌ Info: Scanning folder data for result files.\n",
      "└ @ DrWatson C:\\Users\\datse\\.julia\\packages\\DrWatson\\ieY6i\\src\\result_collection.jl:115\n"
     ]
    },
    {
     "name": "stderr",
     "output_type": "stream",
     "text": [
      "┌ Info: Added 8 entries.\n",
      "└ @ DrWatson C:\\Users\\datse\\.julia\\packages\\DrWatson\\ieY6i\\src\\result_collection.jl:191\n"
     ]
    },
    {
     "data": {
      "text/html": [
       "<div><div style = \"float: left;\"><span>8×6 DataFrame</span></div><div style = \"clear: both;\"></div></div><div class = \"data-frame\" style = \"overflow-x: scroll;\"><table class = \"data-frame\" style = \"margin-bottom: 6px;\"><thead><tr class = \"header\"><th class = \"rowNumber\" style = \"font-weight: bold; text-align: right;\">Row</th><th style = \"text-align: left;\">model</th><th style = \"text-align: left;\">b</th><th style = \"text-align: left;\">r</th><th style = \"text-align: left;\">a</th><th style = \"text-align: left;\">path</th><th style = \"text-align: left;\">d</th></tr><tr class = \"subheader headerLastRow\"><th class = \"rowNumber\" style = \"font-weight: bold; text-align: right;\"></th><th title = \"Union{Missing, String}\" style = \"text-align: left;\">String?</th><th title = \"Union{Missing, Int64}\" style = \"text-align: left;\">Int64?</th><th title = \"Union{Missing, Int64}\" style = \"text-align: left;\">Int64?</th><th title = \"Union{Missing, Int64}\" style = \"text-align: left;\">Int64?</th><th title = \"Union{Missing, String}\" style = \"text-align: left;\">String?</th><th title = \"Union{Missing, Int64}\" style = \"text-align: left;\">Int64?</th></tr></thead><tbody><tr><td class = \"rowNumber\" style = \"font-weight: bold; text-align: right;\">1</td><td style = \"text-align: left;\">linear</td><td style = \"text-align: right;\">2</td><td style = \"text-align: right;\">3</td><td style = \"text-align: right;\">1</td><td style = \"text-align: left;\">data\\\\a=1_b=2_model=linear.jld2</td><td style = \"font-style: italic; text-align: right;\">missing</td></tr><tr><td class = \"rowNumber\" style = \"font-weight: bold; text-align: right;\">2</td><td style = \"text-align: left;\">linear</td><td style = \"text-align: right;\">3</td><td style = \"text-align: right;\">4</td><td style = \"text-align: right;\">1</td><td style = \"text-align: left;\">data\\\\a=1_b=3_model=linear.jld2</td><td style = \"font-style: italic; text-align: right;\">missing</td></tr><tr><td class = \"rowNumber\" style = \"font-weight: bold; text-align: right;\">3</td><td style = \"text-align: left;\">cubic</td><td style = \"font-style: italic; text-align: right;\">missing</td><td style = \"text-align: right;\">126</td><td style = \"text-align: right;\">1</td><td style = \"text-align: left;\">data\\\\a=1_d=5_model=cubic.jld2</td><td style = \"text-align: right;\">5</td></tr><tr><td class = \"rowNumber\" style = \"font-weight: bold; text-align: right;\">4</td><td style = \"text-align: left;\">cubic</td><td style = \"font-style: italic; text-align: right;\">missing</td><td style = \"text-align: right;\">217</td><td style = \"text-align: right;\">1</td><td style = \"text-align: left;\">data\\\\a=1_d=6_model=cubic.jld2</td><td style = \"text-align: right;\">6</td></tr><tr><td class = \"rowNumber\" style = \"font-weight: bold; text-align: right;\">5</td><td style = \"text-align: left;\">linear</td><td style = \"text-align: right;\">2</td><td style = \"text-align: right;\">4</td><td style = \"text-align: right;\">2</td><td style = \"text-align: left;\">data\\\\a=2_b=2_model=linear.jld2</td><td style = \"font-style: italic; text-align: right;\">missing</td></tr><tr><td class = \"rowNumber\" style = \"font-weight: bold; text-align: right;\">6</td><td style = \"text-align: left;\">linear</td><td style = \"text-align: right;\">3</td><td style = \"text-align: right;\">5</td><td style = \"text-align: right;\">2</td><td style = \"text-align: left;\">data\\\\a=2_b=3_model=linear.jld2</td><td style = \"font-style: italic; text-align: right;\">missing</td></tr><tr><td class = \"rowNumber\" style = \"font-weight: bold; text-align: right;\">7</td><td style = \"text-align: left;\">cubic</td><td style = \"font-style: italic; text-align: right;\">missing</td><td style = \"text-align: right;\">127</td><td style = \"text-align: right;\">2</td><td style = \"text-align: left;\">data\\\\a=2_d=5_model=cubic.jld2</td><td style = \"text-align: right;\">5</td></tr><tr><td class = \"rowNumber\" style = \"font-weight: bold; text-align: right;\">8</td><td style = \"text-align: left;\">cubic</td><td style = \"font-style: italic; text-align: right;\">missing</td><td style = \"text-align: right;\">218</td><td style = \"text-align: right;\">2</td><td style = \"text-align: left;\">data\\\\a=2_d=6_model=cubic.jld2</td><td style = \"text-align: right;\">6</td></tr></tbody></table></div>"
      ],
      "text/latex": [
       "\\begin{tabular}{r|cccccc}\n",
       "\t& model & b & r & a & path & d\\\\\n",
       "\t\\hline\n",
       "\t& String? & Int64? & Int64? & Int64? & String? & Int64?\\\\\n",
       "\t\\hline\n",
       "\t1 & linear & 2 & 3 & 1 & data\\textbackslash{}\\textbackslash{}a=1\\_b=2\\_model=linear.jld2 & \\emph{missing} \\\\\n",
       "\t2 & linear & 3 & 4 & 1 & data\\textbackslash{}\\textbackslash{}a=1\\_b=3\\_model=linear.jld2 & \\emph{missing} \\\\\n",
       "\t3 & cubic & \\emph{missing} & 126 & 1 & data\\textbackslash{}\\textbackslash{}a=1\\_d=5\\_model=cubic.jld2 & 5 \\\\\n",
       "\t4 & cubic & \\emph{missing} & 217 & 1 & data\\textbackslash{}\\textbackslash{}a=1\\_d=6\\_model=cubic.jld2 & 6 \\\\\n",
       "\t5 & linear & 2 & 4 & 2 & data\\textbackslash{}\\textbackslash{}a=2\\_b=2\\_model=linear.jld2 & \\emph{missing} \\\\\n",
       "\t6 & linear & 3 & 5 & 2 & data\\textbackslash{}\\textbackslash{}a=2\\_b=3\\_model=linear.jld2 & \\emph{missing} \\\\\n",
       "\t7 & cubic & \\emph{missing} & 127 & 2 & data\\textbackslash{}\\textbackslash{}a=2\\_d=5\\_model=cubic.jld2 & 5 \\\\\n",
       "\t8 & cubic & \\emph{missing} & 218 & 2 & data\\textbackslash{}\\textbackslash{}a=2\\_d=6\\_model=cubic.jld2 & 6 \\\\\n",
       "\\end{tabular}\n"
      ],
      "text/plain": [
       "\u001b[1m8×6 DataFrame\u001b[0m\n",
       "\u001b[1m Row \u001b[0m│\u001b[1m model   \u001b[0m\u001b[1m b       \u001b[0m\u001b[1m r      \u001b[0m\u001b[1m a      \u001b[0m\u001b[1m path                            \u001b[0m\u001b[1m d   \u001b[0m ⋯\n",
       "     │\u001b[90m String? \u001b[0m\u001b[90m Int64?  \u001b[0m\u001b[90m Int64? \u001b[0m\u001b[90m Int64? \u001b[0m\u001b[90m String?                         \u001b[0m\u001b[90m Int6\u001b[0m ⋯\n",
       "─────┼──────────────────────────────────────────────────────────────────────────\n",
       "   1 │ linear         2       3       1  data\\\\a=1_b=2_model=linear.jld2 \u001b[90m miss\u001b[0m ⋯\n",
       "   2 │ linear         3       4       1  data\\\\a=1_b=3_model=linear.jld2 \u001b[90m miss\u001b[0m\n",
       "   3 │ cubic   \u001b[90m missing \u001b[0m    126       1  data\\\\a=1_d=5_model=cubic.jld2\n",
       "   4 │ cubic   \u001b[90m missing \u001b[0m    217       1  data\\\\a=1_d=6_model=cubic.jld2\n",
       "   5 │ linear         2       4       2  data\\\\a=2_b=2_model=linear.jld2 \u001b[90m miss\u001b[0m ⋯\n",
       "   6 │ linear         3       5       2  data\\\\a=2_b=3_model=linear.jld2 \u001b[90m miss\u001b[0m\n",
       "   7 │ cubic   \u001b[90m missing \u001b[0m    127       2  data\\\\a=2_d=5_model=cubic.jld2\n",
       "   8 │ cubic   \u001b[90m missing \u001b[0m    218       2  data\\\\a=2_d=6_model=cubic.jld2\n",
       "\u001b[36m                                                                1 column omitted\u001b[0m"
      ]
     },
     "metadata": {},
     "output_type": "display_data"
    }
   ],
   "source": [
    "using DataFrames\n",
    "results = collect_results(\"data\")"
   ]
  },
  {
   "attachments": {},
   "cell_type": "markdown",
   "metadata": {},
   "source": [
    "So `collect_results` collected all files, but also did something extra, something very useful. Simulation parameters that do not exist in one run (see `b` vs `d`) have the value `missing`. `missing` is how Julia represents missing values."
   ]
  },
  {
   "cell_type": "code",
   "execution_count": 194,
   "metadata": {},
   "outputs": [],
   "source": [
    "# delete all saved data files (they are loaded in memory)\n",
    "rm(\"data\"; recursive = true)"
   ]
  },
  {
   "attachments": {},
   "cell_type": "markdown",
   "metadata": {},
   "source": [
    "# 5. Tabular data with DataFrames.jl\n",
    "\n",
    "The `result` that we got above is a `DataFrame` from [DataFrames.jl](http://juliadata.github.io/DataFrames.jl/stable/), one of the major Julia packages for tabular data. \n",
    "\n",
    "## Basic stuff\n",
    "One can do basic selection of these data, for example selecting specific columns, removing columns, adding new columns or rows, etc. The `path` column of the `results` is not so useful, so let's remove it:"
   ]
  },
  {
   "cell_type": "code",
   "execution_count": 195,
   "metadata": {},
   "outputs": [
    {
     "data": {
      "text/html": [
       "<div><div style = \"float: left;\"><span>8×5 DataFrame</span></div><div style = \"clear: both;\"></div></div><div class = \"data-frame\" style = \"overflow-x: scroll;\"><table class = \"data-frame\" style = \"margin-bottom: 6px;\"><thead><tr class = \"header\"><th class = \"rowNumber\" style = \"font-weight: bold; text-align: right;\">Row</th><th style = \"text-align: left;\">model</th><th style = \"text-align: left;\">b</th><th style = \"text-align: left;\">r</th><th style = \"text-align: left;\">a</th><th style = \"text-align: left;\">d</th></tr><tr class = \"subheader headerLastRow\"><th class = \"rowNumber\" style = \"font-weight: bold; text-align: right;\"></th><th title = \"Union{Missing, String}\" style = \"text-align: left;\">String?</th><th title = \"Union{Missing, Int64}\" style = \"text-align: left;\">Int64?</th><th title = \"Union{Missing, Int64}\" style = \"text-align: left;\">Int64?</th><th title = \"Union{Missing, Int64}\" style = \"text-align: left;\">Int64?</th><th title = \"Union{Missing, Int64}\" style = \"text-align: left;\">Int64?</th></tr></thead><tbody><tr><td class = \"rowNumber\" style = \"font-weight: bold; text-align: right;\">1</td><td style = \"text-align: left;\">linear</td><td style = \"text-align: right;\">2</td><td style = \"text-align: right;\">3</td><td style = \"text-align: right;\">1</td><td style = \"font-style: italic; text-align: right;\">missing</td></tr><tr><td class = \"rowNumber\" style = \"font-weight: bold; text-align: right;\">2</td><td style = \"text-align: left;\">linear</td><td style = \"text-align: right;\">3</td><td style = \"text-align: right;\">4</td><td style = \"text-align: right;\">1</td><td style = \"font-style: italic; text-align: right;\">missing</td></tr><tr><td class = \"rowNumber\" style = \"font-weight: bold; text-align: right;\">3</td><td style = \"text-align: left;\">cubic</td><td style = \"font-style: italic; text-align: right;\">missing</td><td style = \"text-align: right;\">126</td><td style = \"text-align: right;\">1</td><td style = \"text-align: right;\">5</td></tr><tr><td class = \"rowNumber\" style = \"font-weight: bold; text-align: right;\">4</td><td style = \"text-align: left;\">cubic</td><td style = \"font-style: italic; text-align: right;\">missing</td><td style = \"text-align: right;\">217</td><td style = \"text-align: right;\">1</td><td style = \"text-align: right;\">6</td></tr><tr><td class = \"rowNumber\" style = \"font-weight: bold; text-align: right;\">5</td><td style = \"text-align: left;\">linear</td><td style = \"text-align: right;\">2</td><td style = \"text-align: right;\">4</td><td style = \"text-align: right;\">2</td><td style = \"font-style: italic; text-align: right;\">missing</td></tr><tr><td class = \"rowNumber\" style = \"font-weight: bold; text-align: right;\">6</td><td style = \"text-align: left;\">linear</td><td style = \"text-align: right;\">3</td><td style = \"text-align: right;\">5</td><td style = \"text-align: right;\">2</td><td style = \"font-style: italic; text-align: right;\">missing</td></tr><tr><td class = \"rowNumber\" style = \"font-weight: bold; text-align: right;\">7</td><td style = \"text-align: left;\">cubic</td><td style = \"font-style: italic; text-align: right;\">missing</td><td style = \"text-align: right;\">127</td><td style = \"text-align: right;\">2</td><td style = \"text-align: right;\">5</td></tr><tr><td class = \"rowNumber\" style = \"font-weight: bold; text-align: right;\">8</td><td style = \"text-align: left;\">cubic</td><td style = \"font-style: italic; text-align: right;\">missing</td><td style = \"text-align: right;\">218</td><td style = \"text-align: right;\">2</td><td style = \"text-align: right;\">6</td></tr></tbody></table></div>"
      ],
      "text/latex": [
       "\\begin{tabular}{r|ccccc}\n",
       "\t& model & b & r & a & d\\\\\n",
       "\t\\hline\n",
       "\t& String? & Int64? & Int64? & Int64? & Int64?\\\\\n",
       "\t\\hline\n",
       "\t1 & linear & 2 & 3 & 1 & \\emph{missing} \\\\\n",
       "\t2 & linear & 3 & 4 & 1 & \\emph{missing} \\\\\n",
       "\t3 & cubic & \\emph{missing} & 126 & 1 & 5 \\\\\n",
       "\t4 & cubic & \\emph{missing} & 217 & 1 & 6 \\\\\n",
       "\t5 & linear & 2 & 4 & 2 & \\emph{missing} \\\\\n",
       "\t6 & linear & 3 & 5 & 2 & \\emph{missing} \\\\\n",
       "\t7 & cubic & \\emph{missing} & 127 & 2 & 5 \\\\\n",
       "\t8 & cubic & \\emph{missing} & 218 & 2 & 6 \\\\\n",
       "\\end{tabular}\n"
      ],
      "text/plain": [
       "\u001b[1m8×5 DataFrame\u001b[0m\n",
       "\u001b[1m Row \u001b[0m│\u001b[1m model   \u001b[0m\u001b[1m b       \u001b[0m\u001b[1m r      \u001b[0m\u001b[1m a      \u001b[0m\u001b[1m d       \u001b[0m\n",
       "     │\u001b[90m String? \u001b[0m\u001b[90m Int64?  \u001b[0m\u001b[90m Int64? \u001b[0m\u001b[90m Int64? \u001b[0m\u001b[90m Int64?  \u001b[0m\n",
       "─────┼───────────────────────────────────────────\n",
       "   1 │ linear         2       3       1 \u001b[90m missing \u001b[0m\n",
       "   2 │ linear         3       4       1 \u001b[90m missing \u001b[0m\n",
       "   3 │ cubic   \u001b[90m missing \u001b[0m    126       1        5\n",
       "   4 │ cubic   \u001b[90m missing \u001b[0m    217       1        6\n",
       "   5 │ linear         2       4       2 \u001b[90m missing \u001b[0m\n",
       "   6 │ linear         3       5       2 \u001b[90m missing \u001b[0m\n",
       "   7 │ cubic   \u001b[90m missing \u001b[0m    127       2        5\n",
       "   8 │ cubic   \u001b[90m missing \u001b[0m    218       2        6"
      ]
     },
     "metadata": {},
     "output_type": "display_data"
    }
   ],
   "source": [
    "select!(results, Not(:path))"
   ]
  },
  {
   "attachments": {},
   "cell_type": "markdown",
   "metadata": {},
   "source": [
    "To access specific rows or columns you can access a dataframe like a matrix, e.g. `df[:, 1:3]` gives the first three rows while `df[:, [:a, :b]]` gives the rows selected by name.\n",
    "\n",
    "Adding new data to a dataframe is also straight forward. One can add new rows or new columns. New rows are added by either providing a vector (where the vector's length matches the number of columns), or by providing a named tuple that explicitly names which column gets which new value."
   ]
  },
  {
   "cell_type": "code",
   "execution_count": 196,
   "metadata": {},
   "outputs": [
    {
     "data": {
      "text/html": [
       "<div><div style = \"float: left;\"><span>3×3 DataFrame</span></div><div style = \"clear: both;\"></div></div><div class = \"data-frame\" style = \"overflow-x: scroll;\"><table class = \"data-frame\" style = \"margin-bottom: 6px;\"><thead><tr class = \"header\"><th class = \"rowNumber\" style = \"font-weight: bold; text-align: right;\">Row</th><th style = \"text-align: left;\">model</th><th style = \"text-align: left;\">b</th><th style = \"text-align: left;\">r</th></tr><tr class = \"subheader headerLastRow\"><th class = \"rowNumber\" style = \"font-weight: bold; text-align: right;\"></th><th title = \"Union{Missing, String}\" style = \"text-align: left;\">String?</th><th title = \"Union{Missing, Int64}\" style = \"text-align: left;\">Int64?</th><th title = \"Union{Missing, Int64}\" style = \"text-align: left;\">Int64?</th></tr></thead><tbody><tr><td class = \"rowNumber\" style = \"font-weight: bold; text-align: right;\">1</td><td style = \"text-align: left;\">linear</td><td style = \"text-align: right;\">2</td><td style = \"text-align: right;\">3</td></tr><tr><td class = \"rowNumber\" style = \"font-weight: bold; text-align: right;\">2</td><td style = \"text-align: left;\">linear</td><td style = \"text-align: right;\">3</td><td style = \"text-align: right;\">4</td></tr><tr><td class = \"rowNumber\" style = \"font-weight: bold; text-align: right;\">3</td><td style = \"text-align: left;\">cubic</td><td style = \"font-style: italic; text-align: right;\">missing</td><td style = \"text-align: right;\">126</td></tr></tbody></table></div>"
      ],
      "text/latex": [
       "\\begin{tabular}{r|ccc}\n",
       "\t& model & b & r\\\\\n",
       "\t\\hline\n",
       "\t& String? & Int64? & Int64?\\\\\n",
       "\t\\hline\n",
       "\t1 & linear & 2 & 3 \\\\\n",
       "\t2 & linear & 3 & 4 \\\\\n",
       "\t3 & cubic & \\emph{missing} & 126 \\\\\n",
       "\\end{tabular}\n"
      ],
      "text/plain": [
       "\u001b[1m3×3 DataFrame\u001b[0m\n",
       "\u001b[1m Row \u001b[0m│\u001b[1m model   \u001b[0m\u001b[1m b       \u001b[0m\u001b[1m r      \u001b[0m\n",
       "     │\u001b[90m String? \u001b[0m\u001b[90m Int64?  \u001b[0m\u001b[90m Int64? \u001b[0m\n",
       "─────┼──────────────────────────\n",
       "   1 │ linear         2       3\n",
       "   2 │ linear         3       4\n",
       "   3 │ cubic   \u001b[90m missing \u001b[0m    126"
      ]
     },
     "metadata": {},
     "output_type": "display_data"
    }
   ],
   "source": [
    "df1 = results[1:3, 1:3]"
   ]
  },
  {
   "cell_type": "code",
   "execution_count": 198,
   "metadata": {},
   "outputs": [
    {
     "data": {
      "text/html": [
       "<div><div style = \"float: left;\"><span>4×3 DataFrame</span></div><div style = \"clear: both;\"></div></div><div class = \"data-frame\" style = \"overflow-x: scroll;\"><table class = \"data-frame\" style = \"margin-bottom: 6px;\"><thead><tr class = \"header\"><th class = \"rowNumber\" style = \"font-weight: bold; text-align: right;\">Row</th><th style = \"text-align: left;\">model</th><th style = \"text-align: left;\">b</th><th style = \"text-align: left;\">r</th></tr><tr class = \"subheader headerLastRow\"><th class = \"rowNumber\" style = \"font-weight: bold; text-align: right;\"></th><th title = \"Union{Missing, String}\" style = \"text-align: left;\">String?</th><th title = \"Union{Missing, Int64}\" style = \"text-align: left;\">Int64?</th><th title = \"Union{Missing, Int64}\" style = \"text-align: left;\">Int64?</th></tr></thead><tbody><tr><td class = \"rowNumber\" style = \"font-weight: bold; text-align: right;\">1</td><td style = \"text-align: left;\">linear</td><td style = \"text-align: right;\">2</td><td style = \"text-align: right;\">3</td></tr><tr><td class = \"rowNumber\" style = \"font-weight: bold; text-align: right;\">2</td><td style = \"text-align: left;\">linear</td><td style = \"text-align: right;\">3</td><td style = \"text-align: right;\">4</td></tr><tr><td class = \"rowNumber\" style = \"font-weight: bold; text-align: right;\">3</td><td style = \"text-align: left;\">cubic</td><td style = \"font-style: italic; text-align: right;\">missing</td><td style = \"text-align: right;\">126</td></tr><tr><td class = \"rowNumber\" style = \"font-weight: bold; text-align: right;\">4</td><td style = \"text-align: left;\">test</td><td style = \"text-align: right;\">5</td><td style = \"text-align: right;\">5</td></tr></tbody></table></div>"
      ],
      "text/latex": [
       "\\begin{tabular}{r|ccc}\n",
       "\t& model & b & r\\\\\n",
       "\t\\hline\n",
       "\t& String? & Int64? & Int64?\\\\\n",
       "\t\\hline\n",
       "\t1 & linear & 2 & 3 \\\\\n",
       "\t2 & linear & 3 & 4 \\\\\n",
       "\t3 & cubic & \\emph{missing} & 126 \\\\\n",
       "\t4 & test & 5 & 5 \\\\\n",
       "\\end{tabular}\n"
      ],
      "text/plain": [
       "\u001b[1m4×3 DataFrame\u001b[0m\n",
       "\u001b[1m Row \u001b[0m│\u001b[1m model   \u001b[0m\u001b[1m b       \u001b[0m\u001b[1m r      \u001b[0m\n",
       "     │\u001b[90m String? \u001b[0m\u001b[90m Int64?  \u001b[0m\u001b[90m Int64? \u001b[0m\n",
       "─────┼──────────────────────────\n",
       "   1 │ linear         2       3\n",
       "   2 │ linear         3       4\n",
       "   3 │ cubic   \u001b[90m missing \u001b[0m    126\n",
       "   4 │ test           5       5"
      ]
     },
     "metadata": {},
     "output_type": "display_data"
    }
   ],
   "source": [
    "# add new row by order of columns\n",
    "push!(df1, [\"test\", 5, 5])"
   ]
  },
  {
   "cell_type": "code",
   "execution_count": 200,
   "metadata": {},
   "outputs": [
    {
     "data": {
      "text/html": [
       "<div><div style = \"float: left;\"><span>5×3 DataFrame</span></div><div style = \"clear: both;\"></div></div><div class = \"data-frame\" style = \"overflow-x: scroll;\"><table class = \"data-frame\" style = \"margin-bottom: 6px;\"><thead><tr class = \"header\"><th class = \"rowNumber\" style = \"font-weight: bold; text-align: right;\">Row</th><th style = \"text-align: left;\">model</th><th style = \"text-align: left;\">b</th><th style = \"text-align: left;\">r</th></tr><tr class = \"subheader headerLastRow\"><th class = \"rowNumber\" style = \"font-weight: bold; text-align: right;\"></th><th title = \"Union{Missing, String}\" style = \"text-align: left;\">String?</th><th title = \"Union{Missing, Int64}\" style = \"text-align: left;\">Int64?</th><th title = \"Union{Missing, Int64}\" style = \"text-align: left;\">Int64?</th></tr></thead><tbody><tr><td class = \"rowNumber\" style = \"font-weight: bold; text-align: right;\">1</td><td style = \"text-align: left;\">linear</td><td style = \"text-align: right;\">2</td><td style = \"text-align: right;\">3</td></tr><tr><td class = \"rowNumber\" style = \"font-weight: bold; text-align: right;\">2</td><td style = \"text-align: left;\">linear</td><td style = \"text-align: right;\">3</td><td style = \"text-align: right;\">4</td></tr><tr><td class = \"rowNumber\" style = \"font-weight: bold; text-align: right;\">3</td><td style = \"text-align: left;\">cubic</td><td style = \"font-style: italic; text-align: right;\">missing</td><td style = \"text-align: right;\">126</td></tr><tr><td class = \"rowNumber\" style = \"font-weight: bold; text-align: right;\">4</td><td style = \"text-align: left;\">test</td><td style = \"text-align: right;\">5</td><td style = \"text-align: right;\">5</td></tr><tr><td class = \"rowNumber\" style = \"font-weight: bold; text-align: right;\">5</td><td style = \"text-align: left;\">test2</td><td style = \"text-align: right;\">-5</td><td style = \"text-align: right;\">89</td></tr></tbody></table></div>"
      ],
      "text/latex": [
       "\\begin{tabular}{r|ccc}\n",
       "\t& model & b & r\\\\\n",
       "\t\\hline\n",
       "\t& String? & Int64? & Int64?\\\\\n",
       "\t\\hline\n",
       "\t1 & linear & 2 & 3 \\\\\n",
       "\t2 & linear & 3 & 4 \\\\\n",
       "\t3 & cubic & \\emph{missing} & 126 \\\\\n",
       "\t4 & test & 5 & 5 \\\\\n",
       "\t5 & test2 & -5 & 89 \\\\\n",
       "\\end{tabular}\n"
      ],
      "text/plain": [
       "\u001b[1m5×3 DataFrame\u001b[0m\n",
       "\u001b[1m Row \u001b[0m│\u001b[1m model   \u001b[0m\u001b[1m b       \u001b[0m\u001b[1m r      \u001b[0m\n",
       "     │\u001b[90m String? \u001b[0m\u001b[90m Int64?  \u001b[0m\u001b[90m Int64? \u001b[0m\n",
       "─────┼──────────────────────────\n",
       "   1 │ linear         2       3\n",
       "   2 │ linear         3       4\n",
       "   3 │ cubic   \u001b[90m missing \u001b[0m    126\n",
       "   4 │ test           5       5\n",
       "   5 │ test2         -5      89"
      ]
     },
     "metadata": {},
     "output_type": "display_data"
    }
   ],
   "source": [
    "# add new row by name of columnns\n",
    "push!(df1, (model = \"test2\", r=89, b = -5))"
   ]
  },
  {
   "cell_type": "code",
   "execution_count": 202,
   "metadata": {},
   "outputs": [
    {
     "data": {
      "text/html": [
       "<div><div style = \"float: left;\"><span>5×4 DataFrame</span></div><div style = \"clear: both;\"></div></div><div class = \"data-frame\" style = \"overflow-x: scroll;\"><table class = \"data-frame\" style = \"margin-bottom: 6px;\"><thead><tr class = \"header\"><th class = \"rowNumber\" style = \"font-weight: bold; text-align: right;\">Row</th><th style = \"text-align: left;\">model</th><th style = \"text-align: left;\">b</th><th style = \"text-align: left;\">r</th><th style = \"text-align: left;\">z</th></tr><tr class = \"subheader headerLastRow\"><th class = \"rowNumber\" style = \"font-weight: bold; text-align: right;\"></th><th title = \"Union{Missing, String}\" style = \"text-align: left;\">String?</th><th title = \"Union{Missing, Int64}\" style = \"text-align: left;\">Int64?</th><th title = \"Union{Missing, Int64}\" style = \"text-align: left;\">Int64?</th><th title = \"Float64\" style = \"text-align: left;\">Float64</th></tr></thead><tbody><tr><td class = \"rowNumber\" style = \"font-weight: bold; text-align: right;\">1</td><td style = \"text-align: left;\">linear</td><td style = \"text-align: right;\">2</td><td style = \"text-align: right;\">3</td><td style = \"text-align: right;\">0.108019</td></tr><tr><td class = \"rowNumber\" style = \"font-weight: bold; text-align: right;\">2</td><td style = \"text-align: left;\">linear</td><td style = \"text-align: right;\">3</td><td style = \"text-align: right;\">4</td><td style = \"text-align: right;\">0.267137</td></tr><tr><td class = \"rowNumber\" style = \"font-weight: bold; text-align: right;\">3</td><td style = \"text-align: left;\">cubic</td><td style = \"font-style: italic; text-align: right;\">missing</td><td style = \"text-align: right;\">126</td><td style = \"text-align: right;\">0.331057</td></tr><tr><td class = \"rowNumber\" style = \"font-weight: bold; text-align: right;\">4</td><td style = \"text-align: left;\">test</td><td style = \"text-align: right;\">5</td><td style = \"text-align: right;\">5</td><td style = \"text-align: right;\">0.656981</td></tr><tr><td class = \"rowNumber\" style = \"font-weight: bold; text-align: right;\">5</td><td style = \"text-align: left;\">test2</td><td style = \"text-align: right;\">-5</td><td style = \"text-align: right;\">89</td><td style = \"text-align: right;\">0.876635</td></tr></tbody></table></div>"
      ],
      "text/latex": [
       "\\begin{tabular}{r|cccc}\n",
       "\t& model & b & r & z\\\\\n",
       "\t\\hline\n",
       "\t& String? & Int64? & Int64? & Float64\\\\\n",
       "\t\\hline\n",
       "\t1 & linear & 2 & 3 & 0.108019 \\\\\n",
       "\t2 & linear & 3 & 4 & 0.267137 \\\\\n",
       "\t3 & cubic & \\emph{missing} & 126 & 0.331057 \\\\\n",
       "\t4 & test & 5 & 5 & 0.656981 \\\\\n",
       "\t5 & test2 & -5 & 89 & 0.876635 \\\\\n",
       "\\end{tabular}\n"
      ],
      "text/plain": [
       "\u001b[1m5×4 DataFrame\u001b[0m\n",
       "\u001b[1m Row \u001b[0m│\u001b[1m model   \u001b[0m\u001b[1m b       \u001b[0m\u001b[1m r      \u001b[0m\u001b[1m z        \u001b[0m\n",
       "     │\u001b[90m String? \u001b[0m\u001b[90m Int64?  \u001b[0m\u001b[90m Int64? \u001b[0m\u001b[90m Float64  \u001b[0m\n",
       "─────┼────────────────────────────────────\n",
       "   1 │ linear         2       3  0.108019\n",
       "   2 │ linear         3       4  0.267137\n",
       "   3 │ cubic   \u001b[90m missing \u001b[0m    126  0.331057\n",
       "   4 │ test           5       5  0.656981\n",
       "   5 │ test2         -5      89  0.876635"
      ]
     },
     "metadata": {},
     "output_type": "display_data"
    }
   ],
   "source": [
    "# add new row with given name by field assignment\n",
    "df1.z = rand(size(df1, 1))\n",
    "df1"
   ]
  },
  {
   "attachments": {},
   "cell_type": "markdown",
   "metadata": {},
   "source": [
    "## Querying and manipulating a `DataFrame`\n",
    "\n",
    "General querying and data manipulation can be done on `DataFrame`s using standard library functions from DataFrames.jl. However, it is [recommended](https://dataframes.juliadata.org/stable/man/querying_frameworks/#Data-manipulation-frameworks) to use a package dedicated to querying and data manupulation that provides simpler/easier syntax for it. Several options exist, each providing a slightly different variant on the syntax, so you can pick whatever you feel most comfortable in. Here we will use a LINQ-like [Query.jl](https://www.queryverse.org/Query.jl/stable/) syntax, which can be used with any tabular Julia data."
   ]
  },
  {
   "cell_type": "code",
   "execution_count": 203,
   "metadata": {},
   "outputs": [
    {
     "data": {
      "text/html": [
       "<div><div style = \"float: left;\"><span>8×5 DataFrame</span></div><div style = \"clear: both;\"></div></div><div class = \"data-frame\" style = \"overflow-x: scroll;\"><table class = \"data-frame\" style = \"margin-bottom: 6px;\"><thead><tr class = \"header\"><th class = \"rowNumber\" style = \"font-weight: bold; text-align: right;\">Row</th><th style = \"text-align: left;\">model</th><th style = \"text-align: left;\">b</th><th style = \"text-align: left;\">r</th><th style = \"text-align: left;\">a</th><th style = \"text-align: left;\">d</th></tr><tr class = \"subheader headerLastRow\"><th class = \"rowNumber\" style = \"font-weight: bold; text-align: right;\"></th><th title = \"Union{Missing, String}\" style = \"text-align: left;\">String?</th><th title = \"Union{Missing, Int64}\" style = \"text-align: left;\">Int64?</th><th title = \"Union{Missing, Int64}\" style = \"text-align: left;\">Int64?</th><th title = \"Union{Missing, Int64}\" style = \"text-align: left;\">Int64?</th><th title = \"Union{Missing, Int64}\" style = \"text-align: left;\">Int64?</th></tr></thead><tbody><tr><td class = \"rowNumber\" style = \"font-weight: bold; text-align: right;\">1</td><td style = \"text-align: left;\">linear</td><td style = \"text-align: right;\">2</td><td style = \"text-align: right;\">3</td><td style = \"text-align: right;\">1</td><td style = \"font-style: italic; text-align: right;\">missing</td></tr><tr><td class = \"rowNumber\" style = \"font-weight: bold; text-align: right;\">2</td><td style = \"text-align: left;\">linear</td><td style = \"text-align: right;\">3</td><td style = \"text-align: right;\">4</td><td style = \"text-align: right;\">1</td><td style = \"font-style: italic; text-align: right;\">missing</td></tr><tr><td class = \"rowNumber\" style = \"font-weight: bold; text-align: right;\">3</td><td style = \"text-align: left;\">cubic</td><td style = \"font-style: italic; text-align: right;\">missing</td><td style = \"text-align: right;\">126</td><td style = \"text-align: right;\">1</td><td style = \"text-align: right;\">5</td></tr><tr><td class = \"rowNumber\" style = \"font-weight: bold; text-align: right;\">4</td><td style = \"text-align: left;\">cubic</td><td style = \"font-style: italic; text-align: right;\">missing</td><td style = \"text-align: right;\">217</td><td style = \"text-align: right;\">1</td><td style = \"text-align: right;\">6</td></tr><tr><td class = \"rowNumber\" style = \"font-weight: bold; text-align: right;\">5</td><td style = \"text-align: left;\">linear</td><td style = \"text-align: right;\">2</td><td style = \"text-align: right;\">4</td><td style = \"text-align: right;\">2</td><td style = \"font-style: italic; text-align: right;\">missing</td></tr><tr><td class = \"rowNumber\" style = \"font-weight: bold; text-align: right;\">6</td><td style = \"text-align: left;\">linear</td><td style = \"text-align: right;\">3</td><td style = \"text-align: right;\">5</td><td style = \"text-align: right;\">2</td><td style = \"font-style: italic; text-align: right;\">missing</td></tr><tr><td class = \"rowNumber\" style = \"font-weight: bold; text-align: right;\">7</td><td style = \"text-align: left;\">cubic</td><td style = \"font-style: italic; text-align: right;\">missing</td><td style = \"text-align: right;\">127</td><td style = \"text-align: right;\">2</td><td style = \"text-align: right;\">5</td></tr><tr><td class = \"rowNumber\" style = \"font-weight: bold; text-align: right;\">8</td><td style = \"text-align: left;\">cubic</td><td style = \"font-style: italic; text-align: right;\">missing</td><td style = \"text-align: right;\">218</td><td style = \"text-align: right;\">2</td><td style = \"text-align: right;\">6</td></tr></tbody></table></div>"
      ],
      "text/latex": [
       "\\begin{tabular}{r|ccccc}\n",
       "\t& model & b & r & a & d\\\\\n",
       "\t\\hline\n",
       "\t& String? & Int64? & Int64? & Int64? & Int64?\\\\\n",
       "\t\\hline\n",
       "\t1 & linear & 2 & 3 & 1 & \\emph{missing} \\\\\n",
       "\t2 & linear & 3 & 4 & 1 & \\emph{missing} \\\\\n",
       "\t3 & cubic & \\emph{missing} & 126 & 1 & 5 \\\\\n",
       "\t4 & cubic & \\emph{missing} & 217 & 1 & 6 \\\\\n",
       "\t5 & linear & 2 & 4 & 2 & \\emph{missing} \\\\\n",
       "\t6 & linear & 3 & 5 & 2 & \\emph{missing} \\\\\n",
       "\t7 & cubic & \\emph{missing} & 127 & 2 & 5 \\\\\n",
       "\t8 & cubic & \\emph{missing} & 218 & 2 & 6 \\\\\n",
       "\\end{tabular}\n"
      ],
      "text/plain": [
       "\u001b[1m8×5 DataFrame\u001b[0m\n",
       "\u001b[1m Row \u001b[0m│\u001b[1m model   \u001b[0m\u001b[1m b       \u001b[0m\u001b[1m r      \u001b[0m\u001b[1m a      \u001b[0m\u001b[1m d       \u001b[0m\n",
       "     │\u001b[90m String? \u001b[0m\u001b[90m Int64?  \u001b[0m\u001b[90m Int64? \u001b[0m\u001b[90m Int64? \u001b[0m\u001b[90m Int64?  \u001b[0m\n",
       "─────┼───────────────────────────────────────────\n",
       "   1 │ linear         2       3       1 \u001b[90m missing \u001b[0m\n",
       "   2 │ linear         3       4       1 \u001b[90m missing \u001b[0m\n",
       "   3 │ cubic   \u001b[90m missing \u001b[0m    126       1        5\n",
       "   4 │ cubic   \u001b[90m missing \u001b[0m    217       1        6\n",
       "   5 │ linear         2       4       2 \u001b[90m missing \u001b[0m\n",
       "   6 │ linear         3       5       2 \u001b[90m missing \u001b[0m\n",
       "   7 │ cubic   \u001b[90m missing \u001b[0m    127       2        5\n",
       "   8 │ cubic   \u001b[90m missing \u001b[0m    218       2        6"
      ]
     },
     "metadata": {},
     "output_type": "display_data"
    }
   ],
   "source": [
    "using Query\n",
    "results"
   ]
  },
  {
   "attachments": {},
   "cell_type": "markdown",
   "metadata": {},
   "source": [
    "Let's perform a basic query that we explain step-by-step:"
   ]
  },
  {
   "cell_type": "code",
   "execution_count": 204,
   "metadata": {},
   "outputs": [
    {
     "data": {
      "text/html": [
       "<div><div style = \"float: left;\"><span>4×3 DataFrame</span></div><div style = \"clear: both;\"></div></div><div class = \"data-frame\" style = \"overflow-x: scroll;\"><table class = \"data-frame\" style = \"margin-bottom: 6px;\"><thead><tr class = \"header\"><th class = \"rowNumber\" style = \"font-weight: bold; text-align: right;\">Row</th><th style = \"text-align: left;\">a</th><th style = \"text-align: left;\">r</th><th style = \"text-align: left;\">rsquared</th></tr><tr class = \"subheader headerLastRow\"><th class = \"rowNumber\" style = \"font-weight: bold; text-align: right;\"></th><th title = \"Union{Missing, Int64}\" style = \"text-align: left;\">Int64?</th><th title = \"Union{Missing, Int64}\" style = \"text-align: left;\">Int64?</th><th title = \"Union{Missing, Int64}\" style = \"text-align: left;\">Int64?</th></tr></thead><tbody><tr><td class = \"rowNumber\" style = \"font-weight: bold; text-align: right;\">1</td><td style = \"text-align: right;\">1</td><td style = \"text-align: right;\">3</td><td style = \"text-align: right;\">9</td></tr><tr><td class = \"rowNumber\" style = \"font-weight: bold; text-align: right;\">2</td><td style = \"text-align: right;\">1</td><td style = \"text-align: right;\">4</td><td style = \"text-align: right;\">16</td></tr><tr><td class = \"rowNumber\" style = \"font-weight: bold; text-align: right;\">3</td><td style = \"text-align: right;\">2</td><td style = \"text-align: right;\">4</td><td style = \"text-align: right;\">16</td></tr><tr><td class = \"rowNumber\" style = \"font-weight: bold; text-align: right;\">4</td><td style = \"text-align: right;\">2</td><td style = \"text-align: right;\">5</td><td style = \"text-align: right;\">25</td></tr></tbody></table></div>"
      ],
      "text/latex": [
       "\\begin{tabular}{r|ccc}\n",
       "\t& a & r & rsquared\\\\\n",
       "\t\\hline\n",
       "\t& Int64? & Int64? & Int64?\\\\\n",
       "\t\\hline\n",
       "\t1 & 1 & 3 & 9 \\\\\n",
       "\t2 & 1 & 4 & 16 \\\\\n",
       "\t3 & 2 & 4 & 16 \\\\\n",
       "\t4 & 2 & 5 & 25 \\\\\n",
       "\\end{tabular}\n"
      ],
      "text/plain": [
       "\u001b[1m4×3 DataFrame\u001b[0m\n",
       "\u001b[1m Row \u001b[0m│\u001b[1m a      \u001b[0m\u001b[1m r      \u001b[0m\u001b[1m rsquared \u001b[0m\n",
       "     │\u001b[90m Int64? \u001b[0m\u001b[90m Int64? \u001b[0m\u001b[90m Int64?   \u001b[0m\n",
       "─────┼──────────────────────────\n",
       "   1 │      1       3         9\n",
       "   2 │      1       4        16\n",
       "   3 │      2       4        16\n",
       "   4 │      2       5        25"
      ]
     },
     "metadata": {},
     "output_type": "display_data"
    }
   ],
   "source": [
    "# `@from ... begin` initializes a query\n",
    "# here `row` (any name would be fine) is the \n",
    "# iterable of the tabular data. Think of it as a \n",
    "# NamedTuple. You can access its values by name.\n",
    "q = @from row in results begin\n",
    "    # `@where` filters elements where the following\n",
    "    # expression is true. \n",
    "    @where row.model == \"linear\"\n",
    "    # `@select { stuf... }  creates a new named tuple\n",
    "    @select {row.a, row.r, rsquared = row.r^2}\n",
    "    # `@collect` collects the selected results into\n",
    "    # the specified data structure\n",
    "    @collect DataFrame\n",
    "end"
   ]
  },
  {
   "attachments": {},
   "cell_type": "markdown",
   "metadata": {},
   "source": [
    "As you can see, you don't have to necessarily collect only existing columns, you can even create new ones (specified by name).\n",
    "\n",
    "Of course, much, much more things are possible to do in such a query. For more, see the documentation of Query.jl."
   ]
  },
  {
   "cell_type": "markdown",
   "metadata": {},
   "source": [
    "# A final take-home message\n",
    "\n",
    "One thing that should really, _really_ be added a lot of weight, is **how simple, transparent, and high level are the interfaces of everything** that you have seen so far. Both base Julia, as well as most packages for it, have such a simple interface which means that people can learn the software faster and spend more time actually doing science than trying to figure out how to write the code.\n",
    "\n",
    "This is something that \"old\" programming languages typically fail at: most (young) people that use codebases written in C/FORTRAN without any high level API defined on top (in e.g. Python) always complain that it is \"so hard to use this stuff\".\n",
    "\n",
    "Julia = answer :) "
   ]
  },
  {
   "attachments": {},
   "cell_type": "markdown",
   "metadata": {},
   "source": [
    "# Exercises\n",
    "\n",
    "These exercises will require you to search things on the internet (because this is part of the process of \"learning a Julia package\")."
   ]
  },
  {
   "cell_type": "markdown",
   "metadata": {},
   "source": [
    "\n",
    "## Bouncing ball\n",
    "\n",
    "Using the callback functionality of DifferentialEquations.jl, implement the bouncing ball physical system:\n",
    "\n",
    "$$\n",
    "\\begin{aligned}\n",
    "\\dot{x} &= v \\\\\n",
    "\\dot{v} &= -g - \\gamma v \n",
    "\\end{aligned}\n",
    "$$\n",
    "and at $x=0$ there is a table that the ball bounces from. $g$ is the gravity constant and $\\gamma$ the air friction (use e.g. $g=10, \\gamma = 0.99, x = 1, v = 0$). Implement this problem for elastic collisions (elastic collisions preserve velocity measure), and plot the time evolution of $x, v$ versus time.\n",
    "\n",
    "*Hint: whenever the ball reaches the level $x=0$, its velocity should be reversed.*"
   ]
  },
  {
   "cell_type": "markdown",
   "metadata": {},
   "source": [
    "\n",
    "## Distribution quantile\n",
    "\n",
    "To find the $q$-th quantile of a distribution, one can use a Newton method\n",
    "\n",
    "$$\\theta_{n+1} = \\theta_n -\\frac{\\text{cdf}(\\theta)−q}{\\text{pdf}(\\theta)}$$\n",
    "\n",
    "where $\\theta_n$ converges to the value of the $q$-th quantile.\n",
    "\n",
    "Use multiple dispatch to write a generic algorithm for which calculates the qth quantile of any `UnivariateDistribution` in Distributions.jl, and test your result against the `quantile(d::UnivariateDistribution, q::Number)` function from Distributions.jl using the following distributions: `[Gamma(5, 1), Normal(0, 1), Beta(2, 4)]`.\n",
    "\n",
    "*Hint: use `θ₀ = mean(distribution)`*\n"
   ]
  },
  {
   "cell_type": "markdown",
   "metadata": {},
   "source": [
    "\n",
    "## Plotting subsets of a dataframe\n",
    "\n",
    "`DataFrames` has a default dataset that is used in its test suite. Install the `CSV` package, and load this dataset with the command:\n",
    "```julia\n",
    "using DataFrames, CSV\n",
    "iris = DataFrame(CSV.File(\n",
    "    joinpath(dirname(pathof(DataFrames)), \n",
    "    \"../docs/src/assets/iris.csv\")\n",
    "))\n",
    "```\n",
    "\n",
    "This dataset has various flower species (column `:Species`). For every species create a 1x2 figure with the following plots:\n",
    "\n",
    "* [1,1] = scatter plot of `SepalLength` vs `SepalWidth`. \n",
    "* [1,2] = scatter plot of `PetalLength` vs `PetalWidth`.\n",
    "\n",
    "for each of these sub-scatter plots, calculate and print the Pearson correlaton coefficient.\n"
   ]
  },
  {
   "cell_type": "markdown",
   "metadata": {},
   "source": [
    "\n",
    "## DataFrame of chaos\n",
    "\n",
    "Define the Roessler system as a `DynamicalSystem`:\n",
    "$$\n",
    "\\begin{aligned}\n",
    "\\dot{x} &= -y-z \\\\\n",
    "\\dot{y} &= x+ay \\\\\n",
    "\\dot{z} &= b + z(x-c)\n",
    "\\end{aligned}\n",
    "$$\n",
    "with initial condition `ones(3)`. Loop over all three of the following parameter ranges:\n",
    "```julia\n",
    "as = 0.15:0.025:0.25\n",
    "bs = 0.15:0.025:0.25\n",
    "cs = 4:0.1:6.0\n",
    "```\n",
    "\n",
    "and for each parameter combination calculate (1) the Lyapunov spectrum using `lyapunovspectrum` and (2) the Shannon entropy of the system's trajectory. For the entropy, simulate a `trajectory` of the system with sampling time `Δt=0.1` and use `ε=0.1` for the box size when calling `DynamicalSystems.entropy(ValueHistogram(ε), X))`. For changing parameters you have to use `set_parameter!`. Remember that you can push entries to a `DataFrame` row-by-row using `push!(dataframe, (a = a, b = b, ...))`.\n",
    "\n",
    "Collect this analysis into a dataframe, with columns `a, b, c, λ1, λ3, H` with `λ1, λ3` the first and last elements of `lyapunovspectrum`. Then use the querying framework to query into this dataframe and do the following processes:\n",
    "\n",
    "####  find chaotic parameter sets\n",
    "Select all values `a, b, c` where `λ1 > 0.01` (which indicates chaotic dynamics).\n",
    "\n",
    "####  λ vs H\n",
    "For all chaotic cases, select the `λ1, H` values and then perform a scatter plot of these two.\n",
    "\n",
    "#### heatmap of H\n",
    "For `a` fixed to `0.2`, plot a heatmap of the value of `H` with axis the values of `c` and the values of `b`. Provided that you have a dataframe with columns `:b, :c, :H`, then these commands:\n",
    "```julia\n",
    "unstacked = unstack(df, :b,  :H; renamecols = (x -> \"H for b=$(x)\"))\n",
    "heat = Matrix(unstacked[:, Not(:c)])\n",
    "```\n",
    "will create a matrix with the values of `H` where the row index is the values of `c` and the column index is the values of `b`.\n",
    "\n",
    "*Hint: you can initiallize an empty dataframe with `df = DataFrame()`, and then start pushing into it arbitrary named tuples like `push!(df, (a = 0.5, b = 0.5))`.*\n",
    "\n",
    "*Hint 2: this all sounds like a lot of computation, but if you do the exercise correct running all code should not take more than 10 seconds.*\n"
   ]
  },
  {
   "cell_type": "markdown",
   "metadata": {},
   "source": [
    "\n",
    "## Reproducible scientific project\n",
    "*this exercise only applies to participants that already know Git*\n",
    "\n",
    "* Use DrWatson's `initialize_project` to start a scientific project somewhere on your computer. \n",
    "* Add the packages `JLD2, Distributions` to this project. \n",
    "* In the `scripts` folder create a new Julia script that uses three parameters `a, b, c ∈ Reals` and creates a random result `r`. Save this result into disk by using `savename` to produce a name from `a, b, c`, and using `tagsave` to do the actual saving.\n",
    "* Save your script, and commit it into Git. Then run the script, load the saved file, and confirm that the saved git commit ID matches that of your Git repo.\n"
   ]
  }
 ],
 "metadata": {
  "kernelspec": {
   "display_name": "Julia 1.9.1",
   "language": "julia",
   "name": "julia-1.9"
  },
  "language_info": {
   "file_extension": ".jl",
   "mimetype": "application/julia",
   "name": "julia",
   "version": "1.9.1"
  }
 },
 "nbformat": 4,
 "nbformat_minor": 2
}
