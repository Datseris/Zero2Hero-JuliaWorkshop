{
 "cells": [
  {
   "attachments": {},
   "cell_type": "markdown",
   "metadata": {},
   "source": [
    "# Julia ecosystems in scientific computing\n",
    "\n",
    "There are many Julia organizations about seemingly every scientific area. Some examples:\n",
    "\n",
    "- Astrophysics: [JuliaAstro](https://juliaastro.github.io/), [JuliaSpace](https://github.com/JuliaSpace)\n",
    "- Bio/Chemistry: [JuliaBio](https://biojulia.net/), [Molecular simulations](https://github.com/JuliaMolSim)\n",
    "- Complex systems, nonlinear dynamics: [JuliaDynamics](https://juliadynamics.github.io/JuliaDynamics/)\n",
    "- Differential equations and scientific machine learning: [SciML](https://sciml.ai/)\n",
    "- Solid state: [QuantumOptics](https://qojulia.org/), [JuliaPhysics](https://github.com/JuliaPhysics)\n",
    "- Economics: [QuantEcon](https://julia.quantecon.org/), [JuliaQuant](https://github.com/JuliaQuant)\n",
    "- Geosciences/Climate: [JuliaGeo](https://github.com/JuliaGeo), [JuliaEarth](https://github.com/JuliaEarth), [JuliaClimate](https://github.com/JuliaClimate)\n",
    "- High energy physics: [JuliaHEP](https://www.juliahep.org/)\n",
    "\n",
    "among many many others, such as several mathematics-oriented organizations such as optimization, etc.\n",
    "\n",
    "In this session we will (**very briefly**) overview some powerful Julia packages I found useful for *my own work* and hopefully you will too. Even if the packages relevant for me are not useful in your field, it is still good practice to solve the exercises, to \"learn how to learn Julia packages\". \n",
    "\n",
    "**This session does not attempt to do any _scientific_ teaching. It is likely that some of the things that I'll mention you won't know what they mean. That's okay, because here we are just looking at how some packages work.**"
   ]
  },
  {
   "cell_type": "code",
   "execution_count": 2,
   "metadata": {},
   "outputs": [
    {
     "name": "stderr",
     "output_type": "stream",
     "text": [
      "\u001b[32m\u001b[1m  Activating\u001b[22m\u001b[39m project at `c:\\Users\\gd419\\OneDrive - University of Exeter\\Teaching\\Zero2Hero-JuliaWorkshop`\n",
      "\u001b[32m\u001b[1m   Resolving\u001b[22m\u001b[39m package versions...\n"
     ]
    },
    {
     "name": "stderr",
     "output_type": "stream",
     "text": [
      "\u001b[32m\u001b[1m  No Changes\u001b[22m\u001b[39m to `C:\\Users\\gd419\\OneDrive - University of Exeter\\Teaching\\Zero2Hero-JuliaWorkshop\\Project.toml`\n",
      "\u001b[32m\u001b[1m  No Changes\u001b[22m\u001b[39m to `C:\\Users\\gd419\\OneDrive - University of Exeter\\Teaching\\Zero2Hero-JuliaWorkshop\\Manifest.toml`\n"
     ]
    },
    {
     "name": "stdout",
     "output_type": "stream",
     "text": [
      "\u001b[32m\u001b[1mStatus\u001b[22m\u001b[39m `C:\\Users\\gd419\\OneDrive - University of Exeter\\Teaching\\Zero2Hero-JuliaWorkshop\\Project.toml`\n",
      "  \u001b[90m[a93c6f00] \u001b[39mDataFrames v1.6.1\n",
      "\u001b[32m⌃\u001b[39m \u001b[90m[31c24e10] \u001b[39mDistributions v0.25.100\n",
      "\u001b[32m⌃\u001b[39m \u001b[90m[634d3b9d] \u001b[39mDrWatson v2.12.7\n",
      "\u001b[32m⌃\u001b[39m \u001b[90m[61744808] \u001b[39mDynamicalSystems v3.2.0\n",
      "\u001b[32m⌃\u001b[39m \u001b[90m[1dea7af3] \u001b[39mOrdinaryDiffEq v6.53.4\n",
      "  \u001b[90m[1a8c2f83] \u001b[39mQuery v1.0.0\n",
      "\u001b[36m\u001b[1mInfo\u001b[22m\u001b[39m Packages marked with \u001b[32m⌃\u001b[39m have new versions available and may be upgradable.\n"
     ]
    }
   ],
   "source": [
    "import Pkg\n",
    "Pkg.activate(@__DIR__)\n",
    "# Add packages that will be used in this block:\n",
    "Pkg.add([\"OrdinaryDiffEq\", \"StaticArraysCore\", \"DynamicalSystems\", \"DataFrames\", \"Distributions\", \"DrWatson\", \"Query\"])\n",
    "Pkg.status([\"OrdinaryDiffEq\", \"DynamicalSystems\", \"DataFrames\", \"Distributions\", \"DrWatson\", \"Query\"])"
   ]
  },
  {
   "cell_type": "code",
   "execution_count": 3,
   "metadata": {},
   "outputs": [],
   "source": [
    "# quick theme change for plotting in zoomed-in notebooks\n",
    "using CairoMakie\n",
    "update_theme!(resolution = (500, 300), fontsize = 16)"
   ]
  },
  {
   "attachments": {},
   "cell_type": "markdown",
   "metadata": {},
   "source": [
    "# DifferentialEquations.jl\n",
    "\n",
    "[DifferentialEquations.jl](https://docs.sciml.ai/DiffEqDocs/dev/index.html) is by far [the best](https://docs.sciml.ai/SciMLBenchmarksOutput/stable/MultiLanguage/ode_wrapper_packages/) free and open source differential equations solver (not just for Julia, for any language): it is orders of magnitude faster and has orders of mangitude more features than anything else out there. It can solve standard ODEs, Delay-DEs, stochastic DEs, PDEs, ADEs, event handling, 1000s of solvers for all tese DEs and many other features. It is the central part of a whole organization focused on scientific machine learning (SciML) and the basis for [ModelingToolkit.jl](https://docs.sciml.ai/ModelingToolkit/dev/), a library for building simulations from symbolic definitions.\n",
    "\n",
    "Here we will focus on Ordinary Differential Equations (ODEs) solving and use the module `OrdinaryDiffEq` only."
   ]
  },
  {
   "attachments": {},
   "cell_type": "markdown",
   "metadata": {},
   "source": [
    "## Defining and solving some ODEs\n",
    "\n",
    "The way DifferentialEquations.jl works is quite straightforward:\n",
    "\n",
    "1. Make your set of ODEs a Julia function `f`\n",
    "2. Put `f`, an initial state and a parameter container into an `ODEProblem`.\n",
    "2. Choose the solvers and the arguments of the solvers you will use (e.g. tolerances, etc.)\n",
    "3. Give the `ODEProblem` as well as the auxiliary arguments to the function `solve`!\n",
    "\n",
    "Let's see it in practice by solving the Thomas cyclical system\n",
    "\n",
    "$$\n",
    "\\begin{aligned}\n",
    "\\dot{x} &= \\sin(y) - bx\\\\\n",
    "\\dot{y} &= \\sin(z) - by\\\\\n",
    "\\dot{z} &= \\sin(x) - bz\n",
    "\\end{aligned}\n",
    "$$\n",
    "\n",
    "First step is to make this a Julia function `f`. There are different possibilities on how to define this `f`, but here we will focus on the simplest case, called \"out of place\". The function function must be in the form `f(u, p, t) -> udot`, which means that given a state `u`, parameters `p` and current time `t` it returns a state vector `udot` containing the rates of change $d\\mathbf{x}/dt$. \n",
    "For both `u, udot` it is recommended to use **static vectors** `SVector` for ODEs with small number of variables."
   ]
  },
  {
   "cell_type": "code",
   "execution_count": 4,
   "metadata": {},
   "outputs": [
    {
     "data": {
      "text/plain": [
       "thomas_rule (generic function with 1 method)"
      ]
     },
     "metadata": {},
     "output_type": "display_data"
    }
   ],
   "source": [
    "using OrdinaryDiffEq\n",
    "using StaticArraysCore: SVector\n",
    "\n",
    "function thomas_rule(u, p, t)\n",
    "    x,y,z = u\n",
    "    b = p[1]\n",
    "    xdot = sin(y) - b*x\n",
    "    ydot = sin(z) - b*y\n",
    "    zdot = sin(x) - b*z\n",
    "    return SVector(xdot, ydot, zdot)\n",
    "end"
   ]
  },
  {
   "attachments": {},
   "cell_type": "markdown",
   "metadata": {},
   "source": [
    "Then set the initial state and parameter container"
   ]
  },
  {
   "cell_type": "code",
   "execution_count": 5,
   "metadata": {},
   "outputs": [
    {
     "data": {
      "text/plain": [
       "1-element Vector{Float64}:\n",
       " 0.2"
      ]
     },
     "metadata": {},
     "output_type": "display_data"
    }
   ],
   "source": [
    "u₀ = SVector(1.0, 1.0, 2.0)\n",
    "p₀ = [0.2]"
   ]
  },
  {
   "attachments": {},
   "cell_type": "markdown",
   "metadata": {},
   "source": [
    "then put everything into the `ODEProblem` structure:"
   ]
  },
  {
   "cell_type": "code",
   "execution_count": 6,
   "metadata": {
    "scrolled": true
   },
   "outputs": [
    {
     "data": {
      "text/plain": [
       "\u001b[38;2;86;182;194mODEProblem\u001b[0m with uType \u001b[38;2;86;182;194mSVector{3, Float64}\u001b[0m and tType \u001b[38;2;86;182;194mFloat64\u001b[0m. In-place: \u001b[38;2;86;182;194mfalse\u001b[0m\n",
       "timespan: (0.0, 1000.0)\n",
       "u0: 3-element SVector{3, Float64} with indices SOneTo(3):\n",
       " 1.0\n",
       " 1.0\n",
       " 2.0"
      ]
     },
     "metadata": {},
     "output_type": "display_data"
    }
   ],
   "source": [
    "# third argument is the timespan to solve in\n",
    "timespan = (0.0, 1000.0)\n",
    "prob = ODEProblem(thomas_rule, u₀, timespan, p₀)"
   ]
  },
  {
   "attachments": {},
   "cell_type": "markdown",
   "metadata": {},
   "source": [
    "Alright, so now we choose the solver algorithm to use. We will discuss this choice in more detail later, but for now we use the default choice of DifferentialEquations.jl."
   ]
  },
  {
   "cell_type": "code",
   "execution_count": 7,
   "metadata": {},
   "outputs": [],
   "source": [
    "alg = Tsit5();"
   ]
  },
  {
   "attachments": {},
   "cell_type": "markdown",
   "metadata": {},
   "source": [
    "Now let's solve the Lorenz system using the default settings of DifferentialEquations.jl (without specifying anything else)."
   ]
  },
  {
   "cell_type": "code",
   "execution_count": 8,
   "metadata": {},
   "outputs": [
    {
     "data": {
      "text/plain": [
       "retcode: Success\n",
       "Interpolation: specialized 4th order \"free\" interpolation\n",
       "t: 813-element Vector{Float64}:\n",
       "    0.0\n",
       "    0.1120521120556666\n",
       "    0.44378050362673405\n",
       "    0.9136032386187993\n",
       "    1.4662849360622896\n",
       "    2.1996084447411617\n",
       "    3.2045208465180144\n",
       "    4.085242874574744\n",
       "    5.129213529677106\n",
       "    6.241261975411241\n",
       "    ⋮\n",
       "  989.016132424067\n",
       "  990.5662995899445\n",
       "  992.2501718499245\n",
       "  993.7379049054462\n",
       "  995.4297636802733\n",
       "  996.8774606957784\n",
       "  998.3576943762309\n",
       "  999.7917754461864\n",
       " 1000.0\n",
       "u: 813-element Vector{SVector{3, Float64}}:\n",
       " [1.0, 1.0, 2.0]\n",
       " [1.073328946367455, 1.077382180107541, 2.0510228820916896]\n",
       " [1.3010643606418302, 1.279441630927924, 2.216402304246613]\n",
       " [1.6249069901838225, 1.4855826850617537, 2.4616668952552936]\n",
       " [1.9777425718824548, 1.6017467387163078, 2.7100439922221256]\n",
       " [2.3894984994256565, 1.599089872828173, 2.8904410244887484]\n",
       " [2.8649074514787682, 1.5483523437301538, 2.795240578177487]\n",
       " [3.208555980288333, 1.6972897987475106, 2.4194479820781427]\n",
       " [3.4778227799375907, 2.1819868451227604, 1.753099531195561]\n",
       " [3.3933461412228625, 2.708362984477085, 1.0818668759219525]\n",
       " ⋮\n",
       " [2.460168169657819, 2.8024727962190834, 2.5068456503259045]\n",
       " [2.2852901415734967, 2.689163931499818, 2.785681701963606]\n",
       " [2.52122981822636, 2.2297464182022533, 2.988390666694459]\n",
       " [3.0045071575336513, 1.9933275678600462, 2.6791203178136844]\n",
       " [3.2858784342120217, 2.510241437106069, 1.817283187761961]\n",
       " [2.815492334701153, 3.1283413228966555, 1.4130550225808411]\n",
       " [1.7856597259537317, 3.58847205956326, 1.9596423661484268]\n",
       " [0.7560993635838374, 3.570261227193435, 2.5894890477466204]\n",
       " [0.6443103376380805, 3.529081714957839, 2.614991830749762]"
      ]
     },
     "metadata": {},
     "output_type": "display_data"
    }
   ],
   "source": [
    "sol = solve(prob; alg) # provide solver algorithm as keyword `alg`"
   ]
  },
  {
   "attachments": {},
   "cell_type": "markdown",
   "metadata": {},
   "source": [
    "Okay, so what is the returned result? We didn't specify when to save or anything...\n",
    "\n",
    "The solver we chose, `Tsit5`, is an _adaptive step solver_. The system is evolved with an adaptive step size, so that the step error tolerance stays below a pre-defined level. The system is evolved until we reach the end of the time span. A state is recorded at every step the solver algorithm takes naturally. E.g. the solution at the third step is"
   ]
  },
  {
   "cell_type": "code",
   "execution_count": 9,
   "metadata": {},
   "outputs": [
    {
     "data": {
      "text/plain": [
       "813-element Vector{Float64}:\n",
       "    0.0\n",
       "    0.1120521120556666\n",
       "    0.44378050362673405\n",
       "    0.9136032386187993\n",
       "    1.4662849360622896\n",
       "    2.1996084447411617\n",
       "    3.2045208465180144\n",
       "    4.085242874574744\n",
       "    5.129213529677106\n",
       "    6.241261975411241\n",
       "    ⋮\n",
       "  989.016132424067\n",
       "  990.5662995899445\n",
       "  992.2501718499245\n",
       "  993.7379049054462\n",
       "  995.4297636802733\n",
       "  996.8774606957784\n",
       "  998.3576943762309\n",
       "  999.7917754461864\n",
       " 1000.0"
      ]
     },
     "metadata": {},
     "output_type": "display_data"
    }
   ],
   "source": [
    "sol.t"
   ]
  },
  {
   "cell_type": "markdown",
   "metadata": {},
   "source": [
    "The solution is guaranteed to start and stop at the limits of the time span (by default).\n",
    "\n",
    "We can obtain the state at the 3rd time point from the `u` field:"
   ]
  },
  {
   "cell_type": "code",
   "execution_count": 10,
   "metadata": {},
   "outputs": [
    {
     "data": {
      "text/plain": [
       "(0.44378050362673405, [1.3010643606418302, 1.279441630927924, 2.216402304246613])"
      ]
     },
     "metadata": {},
     "output_type": "display_data"
    }
   ],
   "source": [
    "(sol.t[3], sol.u[3])"
   ]
  },
  {
   "attachments": {},
   "cell_type": "markdown",
   "metadata": {},
   "source": [
    "Because of the mechanics of the solver, `sol` object allows arbitrary interpolation in time by saving some extra derivative-related numbers. This means that we can use `sol` as a function of time, `sol(t)`, to obtain the solution at time `t`"
   ]
  },
  {
   "cell_type": "code",
   "execution_count": 11,
   "metadata": {},
   "outputs": [
    {
     "data": {
      "text/plain": [
       "3-element SVector{3, Float64} with indices SOneTo(3):\n",
       " 3.495862759011857\n",
       " 2.4335212815593588\n",
       " 1.4402755303498724"
      ]
     },
     "metadata": {},
     "output_type": "display_data"
    }
   ],
   "source": [
    "sol(5.6)"
   ]
  },
  {
   "cell_type": "markdown",
   "metadata": {},
   "source": [
    "We can iterate over some time to create a (multivariate) timeseries"
   ]
  },
  {
   "cell_type": "code",
   "execution_count": 12,
   "metadata": {},
   "outputs": [
    {
     "data": {
      "image/png": "[encoded data removed]"
     },
     "metadata": {},
     "output_type": "display_data"
    }
   ],
   "source": [
    "t = timespan[1]:0.1:timespan[end]\n",
    "X, Y, Z = zero(t), zero(t), zero(t)\n",
    "for (i, τ) in enumerate(t)\n",
    "    X[i], Y[i], Z[i] = sol(τ)\n",
    "end\n",
    "lines(X, Y, Z; axis = (type = Axis3, azimuth = 0.75π))"
   ]
  },
  {
   "attachments": {},
   "cell_type": "markdown",
   "metadata": {},
   "source": [
    "Notice that it is possible to skip this advanced feature of interpolation (and thus also skip collecting the extra interpolation-related numbers) and only save at some pre-defined time points by passing the extra keyword argument `saveat = points_I_want` to the `solve` call."
   ]
  },
  {
   "cell_type": "code",
   "execution_count": 13,
   "metadata": {},
   "outputs": [
    {
     "data": {
      "text/plain": [
       "10001-element Vector{Float64}:\n",
       "    0.0\n",
       "    0.1\n",
       "    0.2\n",
       "    0.3\n",
       "    0.4\n",
       "    0.5\n",
       "    0.6\n",
       "    0.7\n",
       "    0.8\n",
       "    0.9\n",
       "    ⋮\n",
       "  999.2\n",
       "  999.3\n",
       "  999.4\n",
       "  999.5\n",
       "  999.6\n",
       "  999.7\n",
       "  999.8\n",
       "  999.9\n",
       " 1000.0"
      ]
     },
     "metadata": {},
     "output_type": "display_data"
    }
   ],
   "source": [
    "t = timespan[1]:0.1:timespan[end]\n",
    "sol = solve(prob; alg, saveat = t)\n",
    "sol.t"
   ]
  },
  {
   "cell_type": "markdown",
   "metadata": {},
   "source": [
    "## Using callbacks for triggering events during time evolution"
   ]
  },
  {
   "cell_type": "markdown",
   "metadata": {},
   "source": [
    "DifferentialEquations.jl implements a simple interface so that \"events\" (arbitrary things) can be triggered to after your solution as it is progressing in time. This is done with the [`Callback` interface](https://docs.sciml.ai/DiffEqDocs/dev/features/callback_functions/). For example, a `ContinuousCallback` represents an event that \"triggers\" when a continuous univariate function of the (state, time) reaches the value 0. Similarly, a `DiscreteCallback` triggers when a Boolean function of the (state, time) evaluates to `true`.\n",
    "\n",
    "Let's modify the Thomas cyclical system so that a condition triggers each time the third variable becomes zero:\n"
   ]
  },
  {
   "cell_type": "code",
   "execution_count": 14,
   "metadata": {},
   "outputs": [
    {
     "data": {
      "text/plain": [
       "condition (generic function with 1 method)"
      ]
     },
     "metadata": {},
     "output_type": "display_data"
    }
   ],
   "source": [
    "# The third argument of this function is mandatory but too advanced for this lecture\n",
    "condition(u, t, integrator) = u[3]"
   ]
  },
  {
   "cell_type": "markdown",
   "metadata": {},
   "source": [
    "We then define a function that modifies the integrator object. the integrator object is too complicated to explain within this lecture; but we mainly care about the fields `.u` and `.p` that access current state and parameter values. "
   ]
  },
  {
   "cell_type": "code",
   "execution_count": 71,
   "metadata": {},
   "outputs": [
    {
     "data": {
      "text/plain": [
       "affect! (generic function with 1 method)"
      ]
     },
     "metadata": {},
     "output_type": "display_data"
    }
   ],
   "source": [
    "function affect!(integrator)\n",
    "    integrator.u = 1.5integrator.u\n",
    "end"
   ]
  },
  {
   "cell_type": "markdown",
   "metadata": {},
   "source": [
    "The trigger `condition` and how it will `affect!` the integration are wrapped in continuous callback, which is given to the `solve` call."
   ]
  },
  {
   "cell_type": "code",
   "execution_count": 72,
   "metadata": {},
   "outputs": [],
   "source": [
    "cb = ContinuousCallback(condition, affect!);"
   ]
  },
  {
   "cell_type": "code",
   "execution_count": 73,
   "metadata": {},
   "outputs": [
    {
     "data": {
      "image/png": "[encoded data removed]"
     },
     "metadata": {},
     "output_type": "display_data"
    }
   ],
   "source": [
    "sol = solve(prob; alg, saveat = t, callback = cb)\n",
    "# plot\n",
    "lines(sol.u; axis = (type = Axis3,))"
   ]
  },
  {
   "cell_type": "markdown",
   "metadata": {},
   "source": [
    "## Choosing a solver\n",
    "\n",
    "So far we have not discussed _how_ the ODE is solved. \n",
    "A solver algorithm is chosen when a solution is requested.\n",
    "So far we have been using `Tsit5`, which is also the overall default that DifferentialEquations.jl uses. But, DifferentialEquations.jl has an impressive list of [100s of solvers one can choose from](https://docs.sciml.ai/DiffEqDocs/dev/solvers/ode_solve/).\n",
    "\n",
    "Choosing the solver is a problem-dependent operation. We'll cover here two typical examples.\n",
    "\n",
    "\n"
   ]
  },
  {
   "cell_type": "markdown",
   "metadata": {},
   "source": [
    "### Higher accuracy, higher order\n",
    "\n",
    "The solver `Tsit5` is most performant when medium-high error tolerances are requested. When we require very small errors, choosing a different solver can be more accurate. This can be especially impactful for chaotic dynamical systems. Let's first explicitly ask for a given accuracy when solving the ODE by passing the keywords `abstol, reltol` (for absolute and relative tolerance respectively):\n"
   ]
  },
  {
   "cell_type": "code",
   "execution_count": 74,
   "metadata": {},
   "outputs": [
    {
     "data": {
      "text/plain": [
       "3-element SVector{3, Float64} with indices SOneTo(3):\n",
       " 2.51716935743013\n",
       " 3.053033609478514\n",
       " 2.130938443591541"
      ]
     },
     "metadata": {},
     "output_type": "display_data"
    }
   ],
   "source": [
    "sol = solve(prob; alg, saveat = t, abstol = 1e-12, reltol = 1e-12)\n",
    "sol[end]"
   ]
  },
  {
   "cell_type": "markdown",
   "metadata": {},
   "source": [
    "Let's now benchmark how much time it takes to solve the problem with the default `Tsit5` solver:"
   ]
  },
  {
   "cell_type": "code",
   "execution_count": 19,
   "metadata": {},
   "outputs": [
    {
     "name": "stdout",
     "output_type": "stream",
     "text": [
      "  9.504 ms (32 allocations: 719.62 KiB)\n"
     ]
    }
   ],
   "source": [
    "using BenchmarkTools\n",
    "@btime solve(prob; alg, saveat = t, abstol = 1e-12, reltol = 1e-12);"
   ]
  },
  {
   "cell_type": "markdown",
   "metadata": {},
   "source": [
    "Let's see how the higher-order solver `Vern9`, which is better suited for high accuracy, performs:"
   ]
  },
  {
   "cell_type": "code",
   "execution_count": 20,
   "metadata": {},
   "outputs": [
    {
     "name": "stdout",
     "output_type": "stream",
     "text": [
      "  4.777 ms (33 allocations: 720.78 KiB)\n"
     ]
    }
   ],
   "source": [
    "using BenchmarkTools\n",
    "@btime solve(prob; alg = Vern9(), saveat = t, abstol = 1e-12, reltol = 1e-12);"
   ]
  },
  {
   "cell_type": "markdown",
   "metadata": {},
   "source": [
    "## Stiff problems\n",
    "\n",
    "A \"stiff\" ODE problem is one that can be numerically unstable unless the step size (or equivalently, the step error tolerances) are extremely small. There are several situations where a problem may be come \"stiff\":\n",
    "\n",
    "- The derivative values can get very large for some state values.\n",
    "- There is a large _timescale separation_ between the dynamics of the variables\n",
    "- There is a large _timescale separation_ between the dynamics of different state space regions\n",
    "\n",
    "One must be aware whether this is possible for their system and choose a solver that is better suited to tackle stiff problems. If not, a solution may diverge and the ODE integrator will throw an error or a warning.\n",
    "\n",
    "  Many of the problems in DifferentialEquations.jl are suitable for dealing with stiff problems, such as `Rodas5P()`. Consult the solver documentation for the possibilities."
   ]
  },
  {
   "attachments": {},
   "cell_type": "markdown",
   "metadata": {},
   "source": [
    "# DynamicalSystems.jl\n",
    "[DynamicalSystems.jl](https://juliadynamics.github.io/DynamicalSystems.jl/dev/) is an award-winning library for nonlinear dynamics and nonlinear dynamics. It provides functions for analyzing dynamical systems as well as tools for performing nonlinear timeseries analysis.\n",
    "\n",
    "*Disclaimer: I am one of the developers of this library.*"
   ]
  },
  {
   "attachments": {},
   "cell_type": "markdown",
   "metadata": {},
   "source": [
    "## Using a dynamical system"
   ]
  },
  {
   "attachments": {},
   "cell_type": "markdown",
   "metadata": {},
   "source": [
    "Part of the functionality offered by DynamicalSystems.jl utilizes OrdinaryDiffEq.jl to evolve continuous time systems and compute quantities relevant for nonlinear dynamics, such as Lyapunov exponents. Same works for discrete time systems but there there is no need for an external package to evolve them."
   ]
  },
  {
   "attachments": {},
   "cell_type": "markdown",
   "metadata": {},
   "source": [
    "Making a `DynamicalSystem` is almost identical to making an `ODEProblem`, but you don't have to specify the time span. In steps:\n",
    "\n",
    "1. Make $f$ a Julia function (using the same syntax as in OrdinaryDiffEq.jl) representing the dynamic rule of the system.\n",
    "2. Choose initial state and parameter container (again same as OrdinaryDiffEq.jl).\n",
    "3. Pass these arguments to the `CoupledODEs` constructor (or `DeterministicIteratedMap`, for discrete systems).\n",
    "\n",
    "Here we already have `thomas_rule, u₀, p₀` defined above for the Thomas system, which is\n",
    "\n",
    "$$\n",
    "\\begin{aligned}\n",
    "\\dot{x} &= \\sin(y) - bx\\\\\n",
    "\\dot{y} &= \\sin(z) - by\\\\\n",
    "\\dot{z} &= \\sin(x) - bz\n",
    "\\end{aligned}\n",
    "$$\n",
    "\n",
    "so to put this in DynamicalSystems.jl is kind of trivial:"
   ]
  },
  {
   "cell_type": "code",
   "execution_count": 21,
   "metadata": {},
   "outputs": [
    {
     "name": "stderr",
     "output_type": "stream",
     "text": [
      "WARNING: method definition for #computeWavelets#6 at C:\\Users\\gd419\\.julia\\packages\\Wavelets\\ANOxi\\src\\mod\\WT.jl:660 declares type variable S but does not use it.\n"
     ]
    },
    {
     "name": "stderr",
     "output_type": "stream",
     "text": [
      "WARNING: method definition for #computeWavelets#7 at C:\\Users\\gd419\\.julia\\packages\\Wavelets\\ANOxi\\src\\mod\\WT.jl:664 declares type variable S but does not use it.\n",
      "WARNING: method definition for #computeWavelets#8 at C:\\Users\\gd419\\.julia\\packages\\Wavelets\\ANOxi\\src\\mod\\WT.jl:670 declares type variable S but does not use it.\n",
      "WARNING: method definition for cwt at C:\\Users\\gd419\\.julia\\packages\\Wavelets\\ANOxi\\src\\mod\\Transforms.jl:216 declares type variable U but does not use it.\n"
     ]
    },
    {
     "data": {
      "text/plain": [
       "3-dimensional CoupledODEs\n",
       " deterministic: true\n",
       " discrete time: false\n",
       " in-place:      false\n",
       " dynamic rule:  thomas_rule\n",
       " ODE solver:    Tsit5\n",
       " ODE kwargs:    (abstol = 1.0e-6, reltol = 1.0e-6)\n",
       " parameters:    [0.2]\n",
       " time:          0.0\n",
       " state:         [1.0, 1.0, 2.0]\n"
      ]
     },
     "metadata": {},
     "output_type": "display_data"
    }
   ],
   "source": [
    "using DynamicalSystems\n",
    "thomas = CoupledODEs(thomas_rule, u₀, p₀)"
   ]
  },
  {
   "attachments": {},
   "cell_type": "markdown",
   "metadata": {},
   "source": [
    "Then we can use this `thomas` object in various functions of the library. For example, to obtain the Lyapunov spectrum you use `lyapunovspectrum`:"
   ]
  },
  {
   "cell_type": "code",
   "execution_count": 22,
   "metadata": {},
   "outputs": [
    {
     "data": {
      "text/plain": [
       "3-element Vector{Float64}:\n",
       "  0.002080265970671607\n",
       " -0.005557932793430255\n",
       " -0.5965199974291404"
      ]
     },
     "metadata": {},
     "output_type": "display_data"
    }
   ],
   "source": [
    "lyapunovspectrum(thomas, 10000) # 2nd argument is for how much time to evolve"
   ]
  },
  {
   "attachments": {},
   "cell_type": "markdown",
   "metadata": {},
   "source": [
    "Same story happens if you want to get only the maximum Lyapunov exponent. You use the function `lyapunov` (which uses a different algorithm):"
   ]
  },
  {
   "cell_type": "code",
   "execution_count": 23,
   "metadata": {},
   "outputs": [
    {
     "data": {
      "text/plain": [
       "0.001914273255323101"
      ]
     },
     "metadata": {},
     "output_type": "display_data"
    }
   ],
   "source": [
    "lyapunov(thomas, 10000.0)"
   ]
  },
  {
   "cell_type": "markdown",
   "metadata": {},
   "source": [
    "Much more advanced behavior is possible. For example, the library has a module dedicated to multistable dynamical systems. We can use it to find all attractors, and their basin state space fraction, for the Thomas system, which becomes multistable at $b = 0.16$. First, we change the system parameter to this $b$ value:"
   ]
  },
  {
   "cell_type": "code",
   "execution_count": 75,
   "metadata": {},
   "outputs": [],
   "source": [
    "set_parameter!(thomas, 1, 0.16)"
   ]
  },
  {
   "cell_type": "markdown",
   "metadata": {},
   "source": [
    "And then we utilize `AttractorsViaRecurrences` to find the attractors"
   ]
  },
  {
   "cell_type": "code",
   "execution_count": 76,
   "metadata": {},
   "outputs": [
    {
     "name": "stderr",
     "output_type": "stream",
     "text": [
      "\r\u001b[32mMapping initial conditions to attractors:  92%|██████████|  ETA: 0:00:00\u001b[39m\u001b[K"
     ]
    },
    {
     "name": "stderr",
     "output_type": "stream",
     "text": [
      "\r\u001b[32mMapping initial conditions to attractors: 100%|██████████| Time: 0:00:00\u001b[39m\u001b[K"
     ]
    },
    {
     "name": "stderr",
     "output_type": "stream",
     "text": [
      "\n"
     ]
    },
    {
     "data": {
      "text/plain": [
       "Dict{Int64, Float64} with 3 entries:\n",
       "  2 => 0.302\n",
       "  3 => 0.364\n",
       "  1 => 0.334"
      ]
     },
     "metadata": {},
     "output_type": "display_data"
    }
   ],
   "source": [
    "# where to search attractors\n",
    "xg = yg = zg = range(-6, 6; length = 200)\n",
    "grid = (xg, yg, zg)\n",
    "mapper = AttractorsViaRecurrences(thomas, grid)\n",
    "sampler, = statespace_sampler(grid, 12345)\n",
    "fractions = basins_fractions(mapper, sampler)"
   ]
  },
  {
   "cell_type": "code",
   "execution_count": 77,
   "metadata": {},
   "outputs": [
    {
     "data": {
      "text/plain": [
       "Dict{Int32, StateSpaceSet{3, Float64}} with 3 entries:\n",
       "  2 => 3-dimensional StateSpaceSet{Float64} with 381 points\n",
       "  3 => 3-dimensional StateSpaceSet{Float64} with 381 points\n",
       "  1 => 3-dimensional StateSpaceSet{Float64} with 379 points"
      ]
     },
     "metadata": {},
     "output_type": "display_data"
    }
   ],
   "source": [
    "attractors = extract_attractors(mapper)"
   ]
  },
  {
   "cell_type": "code",
   "execution_count": 78,
   "metadata": {},
   "outputs": [
    {
     "data": {
      "image/png": "[encoded data removed]"
     },
     "metadata": {},
     "output_type": "display_data"
    }
   ],
   "source": [
    "# plot found attractors\n",
    "fig = Figure(resolution = (800, 600))\n",
    "ax = Axis3(fig[1,1])\n",
    "for (k, att) in attractors\n",
    "    scatter!(ax, vec(att); markersize = 10)\n",
    "end\n",
    "hidedecorations!(ax)\n",
    "fig"
   ]
  },
  {
   "cell_type": "code",
   "execution_count": 28,
   "metadata": {},
   "outputs": [],
   "source": [
    "# reset parameter to previous one\n",
    "set_parameter!(thomas, 1, 0.2)"
   ]
  },
  {
   "cell_type": "markdown",
   "metadata": {},
   "source": [
    "# Optimization with BlackBoxOptim.jl\n",
    "\n",
    "Julia offers an incredible array of optimization packages. There is an ongoing effort to build a _common interface_ across all optimization packages, which can be found in [Optimization.jl](https://docs.sciml.ai/Optimization/stable/). Here, we will show and use only a single optimization package, [BlackBoxOptim.jl](https://github.com/robertfeldt/BlackBoxOptim.jl), that focuses on blackbox optimization problems where the objective function cannot be defined in terms of simple mathematical equations, and is also not differentiable.\n",
    "\n",
    "Our goal is to find the parameter combinations for when the following dynamical system\n",
    "$$\n",
    "\\begin{aligned}\n",
    "\\dot{x} &= -\\mu x +yz \\\\\n",
    "\\dot{y} &= -\\mu y +x(z-\\alpha) \\\\\n",
    "\\dot{z} &= 1 - xz\n",
    "\\end{aligned}\n",
    "$$\n",
    "(called Rikitake's dynamo) has the largest maximum Lyapunov exponent. \n",
    "The computation of Lyapunov exponents is not a process one can straight-forwardly define, or even estimate, derivatives for, hence we turn to blackbox optimization.\n",
    "\n",
    "To use BlackBoxOptim.jl, we must first define an _objective function_: A  function taking in a vector of parameters and returning the objective we want to minimize;"
   ]
  },
  {
   "cell_type": "code",
   "execution_count": 29,
   "metadata": {},
   "outputs": [
    {
     "data": {
      "text/plain": [
       "minus_lyapunov (generic function with 1 method)"
      ]
     },
     "metadata": {},
     "output_type": "display_data"
    }
   ],
   "source": [
    "using DynamicalSystems\n",
    "\n",
    "# These are the dynamic rules of the dynamical system\n",
    "function rikitake_rule(u, p, t)\n",
    "    μ, α = p\n",
    "    x, y, z = u\n",
    "    xdot = -μ*x + y*z\n",
    "    ydot = -μ*y + x*(z - α)\n",
    "    zdot = 1 - x*y\n",
    "    return SVector(xdot, ydot, zdot)\n",
    "end\n",
    "\n",
    "# This is the objective function:\n",
    "function minus_lyapunov(p) # input is parameter values\n",
    "    u0 = SVector(1, 0, 0.6)\n",
    "    ds = CoupledODEs(rikitake_rule, u0, p)\n",
    "    λ = lyapunov(ds, 1000; Ttr = 10)\n",
    "    # return negative exponent because we minimize objective\n",
    "    return -λ\n",
    "end"
   ]
  },
  {
   "cell_type": "markdown",
   "metadata": {},
   "source": [
    "We will now attempt to \"optimize\" this objective `minus_lyapunov`, by providing a search range for the input vector `p` (which is the parameter container)"
   ]
  },
  {
   "cell_type": "code",
   "execution_count": 30,
   "metadata": {},
   "outputs": [
    {
     "name": "stdout",
     "output_type": "stream",
     "text": [
      "Starting optimization with optimizer DiffEvoOpt{FitPopulation{Float64}, RadiusLimitedSelector, BlackBoxOptim.AdaptiveDiffEvoRandBin{3}, RandomBound{ContinuousRectSearchSpace}}\n",
      "0.00 secs, 0 evals, 0 steps"
     ]
    },
    {
     "name": "stdout",
     "output_type": "stream",
     "text": [
      "\n",
      "0.50 secs, 207 evals, 125 steps, improv/step: 0.368 (last = 0.3680), fitness=-0.301959478"
     ]
    },
    {
     "name": "stdout",
     "output_type": "stream",
     "text": [
      "\n",
      "1.00 secs, 391 evals, 277 steps, improv/step: 0.329 (last = 0.2961), fitness=-0.305539557\n"
     ]
    },
    {
     "name": "stdout",
     "output_type": "stream",
     "text": [
      "1.50 secs, 607 evals, 472 steps, improv/step: 0.292 (last = 0.2410), fitness=-0.319292933\n"
     ]
    },
    {
     "name": "stdout",
     "output_type": "stream",
     "text": [
      "2.01 secs, 793 evals, 646 steps, improv/step: 0.282 (last = 0.2529), fitness=-0.324137966"
     ]
    },
    {
     "name": "stdout",
     "output_type": "stream",
     "text": [
      "\n",
      "2.51 secs, 958 evals, 807 steps, improv/step: 0.268 (last = 0.2112), fitness=-0.329827119\n"
     ]
    },
    {
     "name": "stdout",
     "output_type": "stream",
     "text": [
      "3.01 secs, 1137 evals, 979 steps, improv/step: 0.248 (last = 0.1570), fitness=-0.329827119"
     ]
    },
    {
     "name": "stdout",
     "output_type": "stream",
     "text": [
      "\n",
      "3.52 secs, 1313 evals, 1151 steps, improv/step: 0.231 (last = 0.1337), fitness="
     ]
    },
    {
     "name": "stdout",
     "output_type": "stream",
     "text": [
      "-0.329827119\n",
      "4.02 secs, 1483 evals, 1321 steps, improv/step: 0.220 (last = 0.1412), fitness=-0.339734315\n"
     ]
    },
    {
     "name": "stdout",
     "output_type": "stream",
     "text": [
      "4.52 secs, 1644 evals, 1482 steps, improv/step: 0.210 (last = 0.1304), fitness=-0.357226747"
     ]
    },
    {
     "name": "stdout",
     "output_type": "stream",
     "text": [
      "\n",
      "5.02 secs, 1810 evals, 1648 steps, improv/step: 0.201 (last = 0.1265), fitness=-0.357226747"
     ]
    },
    {
     "name": "stdout",
     "output_type": "stream",
     "text": [
      "\n",
      "5.52 secs, 1975 evals, 1813 steps, improv/step: 0.189 (last = 0.0606), fitness=-0.357226747"
     ]
    },
    {
     "name": "stdout",
     "output_type": "stream",
     "text": [
      "\n",
      "6.03 secs, 2113 evals, 1951 steps, improv/step: 0.177 (last = 0.0290), fitness=-0.357226747"
     ]
    },
    {
     "name": "stdout",
     "output_type": "stream",
     "text": [
      "\n",
      "6.53 secs, 2276 evals, 2114 steps, improv/step: 0.167 (last = 0.0429), fitness=-0.357226747\n"
     ]
    },
    {
     "name": "stdout",
     "output_type": "stream",
     "text": [
      "7.03 secs, 2444 evals, 2282 steps, improv/step: 0.157 (last = 0.0357), fitness=-0.357226747\n"
     ]
    },
    {
     "name": "stdout",
     "output_type": "stream",
     "text": [
      "7.53 secs, 2628 evals, 2466 steps, improv/step: 0.151 (last = 0.0707), fitness=-0.357226747"
     ]
    },
    {
     "name": "stdout",
     "output_type": "stream",
     "text": [
      "\n",
      "8.03 secs, 2809 evals, 2647 steps, improv/step: 0.144 (last = 0.0552), fitness=-0.357226747"
     ]
    },
    {
     "name": "stdout",
     "output_type": "stream",
     "text": [
      "\n",
      "8.54 secs, 2990 evals, 2828 steps, improv/step: 0.138 (last = 0.0387), fitness=-0.357226747"
     ]
    },
    {
     "name": "stdout",
     "output_type": "stream",
     "text": [
      "\n",
      "9.04 secs, 3162 evals, 3000 steps, improv/step: 0.132 (last = 0.0407), fitness=-0.357226747"
     ]
    },
    {
     "name": "stdout",
     "output_type": "stream",
     "text": [
      "\n",
      "9.54 secs, 3326 evals, 3164 steps, improv/step: 0.127 (last = 0.0305), fitness=-0.357226747\n"
     ]
    },
    {
     "name": "stdout",
     "output_type": "stream",
     "text": [
      "10.04 secs, 3501 evals, 3339 steps, improv/step: 0.122 (last = 0.0457), fitness=-0.357226747"
     ]
    },
    {
     "name": "stdout",
     "output_type": "stream",
     "text": [
      "\n",
      "10.54 secs, 3685 evals, 3523 steps, improv/step: 0.117 (last = 0.0109), fitness=-0.357226747\n"
     ]
    },
    {
     "name": "stdout",
     "output_type": "stream",
     "text": [
      "11.05 secs, 3876 evals, 3714 steps, improv/step: 0.112 (last = 0.0209), fitness=-0.357226747"
     ]
    },
    {
     "name": "stdout",
     "output_type": "stream",
     "text": [
      "\n",
      "11.55 secs, 4073 evals, 3911 steps, improv/step: 0.108 (last = 0.0355), fitness=-0.357226747"
     ]
    },
    {
     "name": "stdout",
     "output_type": "stream",
     "text": [
      "\n",
      "12.05 secs, 4240 evals, 4078 steps, improv/step: 0.104 (last = 0.0180), fitness=-0.357226747"
     ]
    },
    {
     "name": "stdout",
     "output_type": "stream",
     "text": [
      "\n",
      "12.55 secs, 4406 evals, 4244 steps, improv/step: 0.102 (last = 0.0602), fitness=-0.357226747"
     ]
    },
    {
     "name": "stdout",
     "output_type": "stream",
     "text": [
      "\n",
      "13.06 secs, 4592 evals, 4430 steps, improv/step: 0.100 (last = 0.0323), fitness=-0.357226747\n"
     ]
    },
    {
     "name": "stdout",
     "output_type": "stream",
     "text": [
      "13.56 secs, 4776 evals, 4614 steps, improv/step: 0.098 (last = 0.0543), fitness=-0.357226747\n"
     ]
    },
    {
     "name": "stdout",
     "output_type": "stream",
     "text": [
      "14.06 secs, 4976 evals, 4814 steps, improv/step: 0.095 (last = 0.0300), fitness=-0.361452417"
     ]
    },
    {
     "name": "stdout",
     "output_type": "stream",
     "text": [
      "\n",
      "14.56 secs, 5151 evals, 4989 steps, improv/step: 0.093 (last = 0.0286), fitness=-0.361452417"
     ]
    },
    {
     "name": "stdout",
     "output_type": "stream",
     "text": [
      "\n",
      "15.06 secs, 5307 evals, 5145 steps, improv/step: 0.092 (last = 0.0641), fitness=-0.361452417\n"
     ]
    },
    {
     "name": "stdout",
     "output_type": "stream",
     "text": [
      "15.56 secs, 5488 evals, 5326 steps, improv/step: 0.090 (last = 0.0442), fitness=-0.361452417\n"
     ]
    },
    {
     "name": "stdout",
     "output_type": "stream",
     "text": [
      "16.07 secs, 5640 evals, 5478 steps, improv/step: 0.088 (last = 0.0263), fitness=-0.361452417\n"
     ]
    },
    {
     "name": "stdout",
     "output_type": "stream",
     "text": [
      "16.57 secs, 5807 evals, 5645 steps, improv/step: 0.086 (last = 0.0180), fitness=-0.361452417"
     ]
    },
    {
     "name": "stdout",
     "output_type": "stream",
     "text": [
      "\n",
      "17.07 secs, 5983 evals, 5821 steps, improv/step: 0.085 (last = 0.0341), fitness=-0.361452417\n"
     ]
    },
    {
     "name": "stdout",
     "output_type": "stream",
     "text": [
      "17.57 secs, 6156 evals, 5994 steps, improv/step: 0.083 (last = 0.0231), fitness=-0.361452417"
     ]
    },
    {
     "name": "stdout",
     "output_type": "stream",
     "text": [
      "\n",
      "18.07 secs, 6333 evals, 6171 steps, improv/step: 0.081 (last = 0.0282), fitness=-0.361452417"
     ]
    },
    {
     "name": "stdout",
     "output_type": "stream",
     "text": [
      "\n",
      "18.57 secs, 6518 evals, 6357 steps, improv/step: 0.080 (last = 0.0484), fitness=-0.361452417\n"
     ]
    },
    {
     "name": "stdout",
     "output_type": "stream",
     "text": [
      "19.08 secs, 6698 evals, 6538 steps, improv/step: 0.079 (last = 0.0387), fitness=-0.361452417"
     ]
    },
    {
     "name": "stdout",
     "output_type": "stream",
     "text": [
      "\n",
      "19.58 secs, 6860 evals, 6700 steps, improv/step: 0.078 (last = 0.0247), fitness=-0.364148107\n"
     ]
    },
    {
     "name": "stdout",
     "output_type": "stream",
     "text": [
      "20.08 secs, 7021 evals, 6862 steps, improv/step: 0.078 (last = 0.0679), fitness=-0.364148107\n"
     ]
    },
    {
     "name": "stdout",
     "output_type": "stream",
     "text": [
      "20.59 secs, 7190 evals, 7032 steps, improv/step: 0.077 (last = 0.0412), fitness=-0.364148107\n"
     ]
    },
    {
     "name": "stdout",
     "output_type": "stream",
     "text": [
      "21.09 secs, 7372 evals, 7228 steps, improv/step: 0.076 (last = 0.0408), fitness="
     ]
    },
    {
     "name": "stdout",
     "output_type": "stream",
     "text": [
      "-0.364148107\n",
      "21.59 secs, 7556 evals, 7455 steps, improv/step: 0.074 (last = 0.0308), fitness=-0.364148107\n"
     ]
    },
    {
     "name": "stdout",
     "output_type": "stream",
     "text": [
      "22.09 secs, 7745 evals, 7713 steps, improv/step: 0.073 (last = 0.0310), fitness=-0.364148107"
     ]
    },
    {
     "name": "stdout",
     "output_type": "stream",
     "text": [
      "\n",
      "22.60 secs, 7934 evals, 7977 steps, improv/step: 0.073 (last = 0.0606), fitness=-0.364148107\n"
     ]
    },
    {
     "name": "stdout",
     "output_type": "stream",
     "text": [
      "23.10 secs, 8121 evals, 8192 steps, improv/step: 0.072 (last = 0.0558), fitness="
     ]
    },
    {
     "name": "stdout",
     "output_type": "stream",
     "text": [
      "-0.364148107\n",
      "23.60 secs, 8274 evals, 8362 steps, improv/step: 0.072 (last = 0.0529), fitness=-0.364148107\n"
     ]
    },
    {
     "name": "stdout",
     "output_type": "stream",
     "text": [
      "24.10 secs, 8443 evals, 8572 steps, improv/step: 0.072 (last = 0.0619), fitness=-0.364148107\n"
     ]
    },
    {
     "name": "stdout",
     "output_type": "stream",
     "text": [
      "24.60 secs, 8599 evals, 8776 steps, improv/step: 0.071 (last = 0.0686), fitness=-0.364148107\n"
     ]
    },
    {
     "name": "stdout",
     "output_type": "stream",
     "text": [
      "25.10 secs, 8765 evals, 8987 steps, improv/step: 0.072 (last = 0.0806), fitness=-0.364148107\n"
     ]
    },
    {
     "name": "stdout",
     "output_type": "stream",
     "text": [
      "25.61 secs, 8941 evals, 9366 steps, improv/step: 0.070 (last = 0.0211), fitness=-0.364148107"
     ]
    },
    {
     "name": "stdout",
     "output_type": "stream",
     "text": [
      "\n",
      "26.11 secs, 9108 evals, 9902 steps, improv/step: 0.067 (last = 0.0205), fitness=-0.364148107\n"
     ]
    },
    {
     "name": "stdout",
     "output_type": "stream",
     "text": [
      "\n",
      "Optimization stopped after 10535 steps and 26.38 seconds\n",
      "Termination reason: Too many steps (101) without any function evaluations (probably search has converged)\n",
      "Steps per second = 399.31\n",
      "Function evals per second = 348.86\n",
      "Improvements/step = Inf\n",
      "Total function evaluations = 9204\n",
      "\n",
      "\n",
      "Best candidate found: "
     ]
    },
    {
     "name": "stdout",
     "output_type": "stream",
     "text": [
      "[0.965876, -9.92018]\n",
      "\n",
      "Fitness: -0.364148107\n",
      "\n"
     ]
    },
    {
     "data": {
      "text/plain": [
       "BlackBoxOptim.OptimizationResults(\"adaptive_de_rand_1_bin_radiuslimited\", \"Too many steps (101) without any function evaluations (probably search has converged)\", 10535, 1.698757775011e9, 26.383000135421753, ParamsDictChain[ParamsDictChain[Dict{Symbol, Any}(:RngSeed => 199864, :MaxTime => 30.0, :SearchRange => [(0.0, 5.0), (-10.0, 10.0)], :MaxFuncEvals => 0, :MaxSteps => 0),Dict{Symbol, Any}()],Dict{Symbol, Any}(:CallbackInterval => -1.0, :TargetFitness => nothing, :TraceMode => :compact, :FitnessScheme => ScalarFitnessScheme{true}(), :MinDeltaFitnessTolerance => 1.0e-50, :NumDimensions => :NotSpecified, :FitnessTolerance => 1.0e-8, :TraceInterval => 0.5, :MaxStepsWithoutProgress => 10000, :MaxSteps => 10000…)], 9204, ScalarFitnessScheme{true}(), BlackBoxOptim.TopListArchiveOutput{Float64, Vector{Float64}}(-0.36414810720069546, [0.965875938419552, -9.920181594416812]), BlackBoxOptim.PopulationOptimizerOutput{FitPopulation{Float64}}(FitPopulation{Float64}([0.965875938419552 0.965875938419552 … 0.965875938419552 0.965875938419552; -9.920181594416812 -9.920181594416812 … -9.920181594416812 -9.920181594416812], NaN, [-0.36414810720069546, -0.36414810720069546, -0.36414810720069546, -0.36414810720069546, -0.36414810720069546, -0.36414810720069546, -0.36414810720069546, -0.36414810720069546, -0.36414810720069546, -0.36414810720069546  …  -0.36414810720069546, -0.36414810720069546, -0.36414810720069546, -0.36414810720069546, -0.36414810720069546, -0.36414810720069546, -0.36414810720069546, -0.36414810720069546, -0.36414810720069546, -0.36414810720069546], 0, BlackBoxOptim.Candidate{Float64}[BlackBoxOptim.Candidate{Float64}([0.965875938419552, -9.920181594416812], 31, -0.36414810720069546, BlackBoxOptim.AdaptiveDiffEvoRandBin{3}(BlackBoxOptim.AdaptiveDiffEvoParameters(BlackBoxOptim.BimodalCauchy(Distributions.Cauchy{Float64}(μ=0.65, σ=0.1), Distributions.Cauchy{Float64}(μ=1.0, σ=0.1), 0.5, false, true), BlackBoxOptim.BimodalCauchy(Distributions.Cauchy{Float64}(μ=0.1, σ=0.1), Distributions.Cauchy{Float64}(μ=0.95, σ=0.1), 0.5, false, true), [1.0, 1.0, 1.0, 0.6144335641497104, 0.669523179745158, 1.0, 0.07105007551480491, 0.6152091636517362, 0.7231218598177496, 1.0  …  0.790498667253957, 1.0, 1.0, 0.7309096530463857, 0.6457480312881803, 1.0, 0.9880014489259752, 0.9987630864959323, 1.0, 1.0], [0.8459177265501474, 0.5526526796618075, 0.005282802140791271, 0.13546716625252916, 0.033897465034632965, 0.9621669365104274, 0.9170342376713845, 1.0, 0.9758387707358738, 0.5989226239404983  …  0.9486745477411328, 0.09362950692530068, 0.15724428372197233, 1.0, 0.7246152441375848, 1.0, 0.47718758303559095, 0.24004332425899183, 0.8281276597288657, 0.9588566989424546])), 0), BlackBoxOptim.Candidate{Float64}([0.965875938419552, -9.920181594416812], 31, -0.36414810720069546, BlackBoxOptim.AdaptiveDiffEvoRandBin{3}(BlackBoxOptim.AdaptiveDiffEvoParameters(BlackBoxOptim.BimodalCauchy(Distributions.Cauchy{Float64}(μ=0.65, σ=0.1), Distributions.Cauchy{Float64}(μ=1.0, σ=0.1), 0.5, false, true), BlackBoxOptim.BimodalCauchy(Distributions.Cauchy{Float64}(μ=0.1, σ=0.1), Distributions.Cauchy{Float64}(μ=0.95, σ=0.1), 0.5, false, true), [1.0, 1.0, 1.0, 0.6144335641497104, 0.669523179745158, 1.0, 0.07105007551480491, 0.6152091636517362, 0.7231218598177496, 1.0  …  0.790498667253957, 1.0, 1.0, 0.7309096530463857, 0.6457480312881803, 1.0, 0.9880014489259752, 0.9987630864959323, 1.0, 1.0], [0.8459177265501474, 0.5526526796618075, 0.005282802140791271, 0.13546716625252916, 0.033897465034632965, 0.9621669365104274, 0.9170342376713845, 1.0, 0.9758387707358738, 0.5989226239404983  …  0.9486745477411328, 0.09362950692530068, 0.15724428372197233, 1.0, 0.7246152441375848, 1.0, 0.47718758303559095, 0.24004332425899183, 0.8281276597288657, 0.9588566989424546])), 0)], Base.Threads.SpinLock(0))))"
      ]
     },
     "metadata": {},
     "output_type": "display_data"
    }
   ],
   "source": [
    "using BlackBoxOptim\n",
    "\n",
    "μ_range = (0.0, 5.0)\n",
    "α_range = (-10.0, 10.0)\n",
    "\n",
    "bbres = bboptimize(minus_lyapunov; SearchRange = [μ_range, α_range], MaxTime = 30.0)"
   ]
  },
  {
   "cell_type": "code",
   "execution_count": 31,
   "metadata": {},
   "outputs": [
    {
     "data": {
      "text/plain": [
       "2-element Vector{Float64}:\n",
       "  0.965875938419552\n",
       " -9.920181594416812"
      ]
     },
     "metadata": {},
     "output_type": "display_data"
    }
   ],
   "source": [
    "pmax = best_candidate(bbres)"
   ]
  },
  {
   "cell_type": "code",
   "execution_count": 32,
   "metadata": {},
   "outputs": [
    {
     "data": {
      "text/plain": [
       "0.36414810720069546"
      ]
     },
     "metadata": {},
     "output_type": "display_data"
    }
   ],
   "source": [
    "λmax = -best_fitness(bbres)"
   ]
  },
  {
   "cell_type": "markdown",
   "metadata": {},
   "source": [
    "Let's also visualize the chaotic attractor for this parameter, because it looks super awesome!"
   ]
  },
  {
   "cell_type": "code",
   "execution_count": 79,
   "metadata": {},
   "outputs": [
    {
     "data": {
      "image/png": "[encoded data removed]"
     },
     "metadata": {},
     "output_type": "display_data"
    }
   ],
   "source": [
    "using CairoMakie\n",
    "\n",
    "ds = CoupledODEs(rikitake_rule, SVector(1, 0, 0.6), pmax)\n",
    "X, t = trajectory(ds, 1000.0; Ttr = 10, Δt = 0.01)\n",
    "fig, ax = lines(vec(X);\n",
    "    linewidth = 1.0, color = \"#7754cc\",\n",
    "    axis = (type = Axis3,), figure = (resolution = (800, 600), backgroundcolor = :transparent)\n",
    ")\n",
    "ax.azimuth = 2.1\n",
    "hidedecorations!(ax)\n",
    "hidespines!(ax)\n",
    "fig"
   ]
  },
  {
   "attachments": {},
   "cell_type": "markdown",
   "metadata": {},
   "source": [
    "# Distributions.jl\n",
    "\n",
    "The [`Distributions`](https://juliastats.org/Distributions.jl/stable/) package provides an interface for writing probability-distribution-agnostic code: sampling distributions and getting pdfs, using moments, and more. This means that you can write any code that uses a probability distribution without having to care about the distribution's specifics. The result: your code can be run with _any_ probability distribution!\n",
    "\n",
    "> _Note: the package targets applications scenarios where continuous probability density functions with analytically known expressions are used (and optionally fitted to the data). For extracting discrete probability mass functions from input data using a plethora of different discretization methods, see [ComplexityMeasures.jl](https://juliadynamics.github.io/ComplexityMeasures.jl/stable/)._\n",
    "\n",
    "The way it works is quite straightforward: `Distributions` provides a unified API around abstract types representing probability distributions. To keep things simple here we limit ourselves to univariate continuous distributions."
   ]
  },
  {
   "cell_type": "code",
   "execution_count": 34,
   "metadata": {},
   "outputs": [
    {
     "name": "stderr",
     "output_type": "stream",
     "text": [
      "WARNING: using Distributions.sampler in module Main conflicts with an existing identifier.\n"
     ]
    },
    {
     "data": {
      "text/plain": [
       "Normal{Float64}(μ=0.1, σ=0.25)"
      ]
     },
     "metadata": {},
     "output_type": "display_data"
    }
   ],
   "source": [
    "# import Pkg; Pkg.add(\"Distributions\")\n",
    "using Distributions\n",
    "d = Normal(0.1, 0.25)"
   ]
  },
  {
   "cell_type": "code",
   "execution_count": 35,
   "metadata": {},
   "outputs": [
    {
     "data": {
      "text/plain": [
       "Distribution{Univariate, Continuous}"
      ]
     },
     "metadata": {},
     "output_type": "display_data"
    }
   ],
   "source": [
    "supertype(typeof(d))"
   ]
  },
  {
   "cell_type": "markdown",
   "metadata": {},
   "source": [
    "Various distribution-related quantities can be extracted using `Distributions`, by utilizing the analytic form of a specific distribution. For example:"
   ]
  },
  {
   "cell_type": "code",
   "execution_count": 36,
   "metadata": {},
   "outputs": [
    {
     "data": {
      "text/plain": [
       "1.5957691216057308"
      ]
     },
     "metadata": {},
     "output_type": "display_data"
    }
   ],
   "source": [
    "pdf(d, 0.1) # probability density function at x = 0.1"
   ]
  },
  {
   "cell_type": "code",
   "execution_count": 37,
   "metadata": {},
   "outputs": [
    {
     "data": {
      "text/plain": [
       "0.25"
      ]
     },
     "metadata": {},
     "output_type": "display_data"
    }
   ],
   "source": [
    "std(d)"
   ]
  },
  {
   "cell_type": "markdown",
   "metadata": {},
   "source": [
    "Arguably one of the most important features for `Distributions` is that these objects can be used as samplers in the `rand` function."
   ]
  },
  {
   "cell_type": "code",
   "execution_count": 38,
   "metadata": {},
   "outputs": [
    {
     "data": {
      "text/plain": [
       "-0.06750761718668083"
      ]
     },
     "metadata": {},
     "output_type": "display_data"
    }
   ],
   "source": [
    "rand(d) # sample a random variable distributed according to `d`"
   ]
  },
  {
   "cell_type": "code",
   "execution_count": 39,
   "metadata": {},
   "outputs": [
    {
     "data": {
      "text/plain": [
       "10×10 Matrix{Float64}:\n",
       " -0.650978   -0.293182   -0.0131574   …  -0.286881   -0.0428266   0.262944\n",
       " -0.0816717   0.0867363   0.405884        0.670315   -0.236534    0.450978\n",
       "  0.136374   -0.0332785   0.142474       -0.139372   -0.0586549  -0.00428378\n",
       " -0.162881    0.671434    0.119178       -0.192687   -0.036554   -0.295596\n",
       "  0.315158   -0.128612    0.217063       -0.0123211   0.453147   -0.389983\n",
       " -0.0790775  -0.252384   -0.310583    …  -0.298291   -0.45836     0.165785\n",
       "  0.131267   -0.085049   -0.0566576       0.0553172   0.56478    -0.190724\n",
       " -0.10427     0.266713    0.149731       -0.228827    0.0440416  -0.179828\n",
       " -0.132224    0.404185   -0.00202169     -0.45901     0.389281    0.17687\n",
       " -0.0841871   0.0744026  -0.112157       -0.38585    -0.427496    0.292777"
      ]
     },
     "metadata": {},
     "output_type": "display_data"
    }
   ],
   "source": [
    "rand(d, 10, 10)"
   ]
  },
  {
   "cell_type": "markdown",
   "metadata": {},
   "source": [
    "And all of this works for any subtype of `Distribution`:"
   ]
  },
  {
   "cell_type": "code",
   "execution_count": 40,
   "metadata": {
    "scrolled": true
   },
   "outputs": [
    {
     "data": {
      "image/png": "[encoded data removed]"
     },
     "metadata": {},
     "output_type": "display_data"
    }
   ],
   "source": [
    "using CairoMakie\n",
    "cauchy = Cauchy(0.5, 0.25)\n",
    "x = range(-1, 4; length = 101)\n",
    "lines(x, pdf.(cauchy, x))"
   ]
  },
  {
   "cell_type": "code",
   "execution_count": 41,
   "metadata": {},
   "outputs": [
    {
     "data": {
      "text/plain": [
       "2.5556743272854727"
      ]
     },
     "metadata": {},
     "output_type": "display_data"
    }
   ],
   "source": [
    "rand(cauchy)"
   ]
  },
  {
   "cell_type": "code",
   "execution_count": 42,
   "metadata": {},
   "outputs": [
    {
     "data": {
      "text/plain": [
       "NaN"
      ]
     },
     "metadata": {},
     "output_type": "display_data"
    }
   ],
   "source": [
    "std(cauchy)"
   ]
  },
  {
   "cell_type": "code",
   "execution_count": 43,
   "metadata": {},
   "outputs": [
    {
     "data": {
      "text/plain": [
       "0.5"
      ]
     },
     "metadata": {},
     "output_type": "display_data"
    }
   ],
   "source": [
    "quantile(cauchy, 0.5)"
   ]
  },
  {
   "cell_type": "markdown",
   "metadata": {},
   "source": [
    "You can also create your own distribution by extending a small amount of methods!"
   ]
  },
  {
   "attachments": {},
   "cell_type": "markdown",
   "metadata": {},
   "source": [
    "Or, you can use the `fit` function, to fit a distribution to an e.g. experimental measurement:"
   ]
  },
  {
   "cell_type": "code",
   "execution_count": 44,
   "metadata": {},
   "outputs": [
    {
     "data": {
      "text/plain": [
       "Cauchy{Float64}(μ=-0.0253625840682825, σ=0.6756264377144965)"
      ]
     },
     "metadata": {},
     "output_type": "display_data"
    }
   ],
   "source": [
    "x = randn(5000);\n",
    "cauchyfit = fit(Cauchy, x)"
   ]
  },
  {
   "cell_type": "code",
   "execution_count": 45,
   "metadata": {},
   "outputs": [
    {
     "data": {
      "image/png": "[encoded data removed]"
     },
     "metadata": {},
     "output_type": "display_data"
    }
   ],
   "source": [
    "# plot the fit\n",
    "hist(x, 50; normalization = :pdf)\n",
    "scatter!(x, pdf.(cauchyfit, x); color = \"red\")\n",
    "current_figure()"
   ]
  },
  {
   "attachments": {},
   "cell_type": "markdown",
   "metadata": {},
   "source": [
    "Of course, other fundamental statistical measures, e.g. means, stds, quantiles, work out of the box for any distribution."
   ]
  },
  {
   "attachments": {},
   "cell_type": "markdown",
   "metadata": {},
   "source": [
    "# DrWatson\n",
    "\n",
    "[DrWatson](https://juliadynamics.github.io/DrWatson.jl/dev/) is a scientific project assistant software. It helps people deal with their scientific code base, allowing them to focus more on the science and less on the code management. DrWatson offers a lot of tools and functionality for this purpose, but here I'll only show a couple of them. \n",
    "\n",
    "*Disclaimer: I am one of the developers of DrWatson.*\n",
    "\n",
    "## FileIO\n",
    "\n",
    "Obviously, in order to do science, it is necessary to be able to save files to arbitrary formats and to be able to read them later. `FileIO` (which is used by `DrWatson`) is a Julia package that provides a unified API to save and load files to disk, without caring about their actual file ending type.\n",
    "\n",
    "The interface is as simple as:\n",
    "```julia\n",
    "using FileIO\n",
    "object = load(filename)\n",
    "save(filename, object)\n",
    "```\n",
    "where `filename` is a `String` (arbitrary path) that *includes* the file ending, e.g. `.hdf5`.\n",
    "\n",
    "`FileIO` does not actually install any packages that can save or load files! It provides the interface. If you try to save/load a file with an unsupported ending, `FileIO` will tell you that's impossible."
   ]
  },
  {
   "cell_type": "code",
   "execution_count": 46,
   "metadata": {
    "scrolled": true
   },
   "outputs": [
    {
     "data": {
      "text/plain": [
       "\"c:\\\\Users\\\\gd419\\\\OneDrive - University of Exeter\\\\Teaching\\\\Zero2Hero-JuliaWorkshop\""
      ]
     },
     "metadata": {},
     "output_type": "display_data"
    }
   ],
   "source": [
    "using DrWatson\n",
    "cd(@__DIR__)\n",
    "pwd() # state current working directory"
   ]
  },
  {
   "attachments": {},
   "cell_type": "markdown",
   "metadata": {},
   "source": [
    "Most packages that can save data of arbitrary format expect the final object to save a dictionary"
   ]
  },
  {
   "cell_type": "code",
   "execution_count": 47,
   "metadata": {},
   "outputs": [
    {
     "data": {
      "text/plain": [
       "Dict{String, Int64} with 2 entries:\n",
       "  \"b\" => 4\n",
       "  \"a\" => 5"
      ]
     },
     "metadata": {},
     "output_type": "display_data"
    }
   ],
   "source": [
    "testdata = Dict(\"a\" => 5, \"b\" => 4)"
   ]
  },
  {
   "cell_type": "markdown",
   "metadata": {},
   "source": [
    "To save the data we need a \"file i/o backend\". I recommend JLD2.jl:"
   ]
  },
  {
   "cell_type": "code",
   "execution_count": 48,
   "metadata": {},
   "outputs": [],
   "source": [
    "# import Pkg; Pkg.add(\"JLD2\")\n",
    "save(\"test.jld2\", testdata)"
   ]
  },
  {
   "cell_type": "code",
   "execution_count": 49,
   "metadata": {},
   "outputs": [
    {
     "data": {
      "text/plain": [
       "Dict{String, Any} with 2 entries:\n",
       "  \"b\" => 4\n",
       "  \"a\" => 5"
      ]
     },
     "metadata": {},
     "output_type": "display_data"
    }
   ],
   "source": [
    "load(\"test.jld2\")"
   ]
  },
  {
   "cell_type": "code",
   "execution_count": 50,
   "metadata": {},
   "outputs": [],
   "source": [
    "rm(\"test.jld2\") # clean-up"
   ]
  },
  {
   "attachments": {},
   "cell_type": "markdown",
   "metadata": {},
   "source": [
    "## Savename\n",
    "\n",
    "When saving files, scientists often want to include the parameter values of the simulations in the name of the file. For example, If I had run a simulation with parameters:"
   ]
  },
  {
   "cell_type": "code",
   "execution_count": 51,
   "metadata": {},
   "outputs": [
    {
     "data": {
      "text/plain": [
       "(1, 2, 3)"
      ]
     },
     "metadata": {},
     "output_type": "display_data"
    }
   ],
   "source": [
    "a, b, c = 1, 2, 3"
   ]
  },
  {
   "attachments": {},
   "cell_type": "markdown",
   "metadata": {},
   "source": [
    "I would like to save my simulation as e.g. `sim_a=1_b=2_c=3.jld2`. This can be achieved with string interpolation like so"
   ]
  },
  {
   "cell_type": "code",
   "execution_count": 52,
   "metadata": {},
   "outputs": [
    {
     "data": {
      "text/plain": [
       "\"sim_a=1_b=2_c=3.jld2\""
      ]
     },
     "metadata": {},
     "output_type": "display_data"
    }
   ],
   "source": [
    "filename = \"sim_a=$(a)_b=$(b)_c=$(c).jld2\""
   ]
  },
  {
   "attachments": {},
   "cell_type": "markdown",
   "metadata": {},
   "source": [
    "This works, but besides being tedious, it is not extendable: if I have a different simulation, with different parameter names, I have to modify this command.\n",
    "\n",
    "This is where DrWatson comes in: it provides a tool, called `savename`, that takes as an input **any Julia container** and converts it into a `key=value` chain. It works with dictionaries and arbitrary Julia composite types (it would work with the `Animal` we defined in the previous session). For example:"
   ]
  },
  {
   "cell_type": "code",
   "execution_count": 53,
   "metadata": {},
   "outputs": [
    {
     "data": {
      "text/plain": [
       "Dict{String, Int64} with 3 entries:\n",
       "  \"c\" => 3\n",
       "  \"b\" => 2\n",
       "  \"a\" => 1"
      ]
     },
     "metadata": {},
     "output_type": "display_data"
    }
   ],
   "source": [
    "using DrWatson\n",
    "# the `@strdict` command makes a dictionary from the given variable names\n",
    "# it converts the variable names into strings for the keys of the dictionary\n",
    "# `@strdict` is a \"macro\", something we won't talk about in this workshop\n",
    "pars = @strdict a b c"
   ]
  },
  {
   "cell_type": "code",
   "execution_count": 54,
   "metadata": {},
   "outputs": [
    {
     "data": {
      "text/plain": [
       "\"a=1_b=2_c=3\""
      ]
     },
     "metadata": {},
     "output_type": "display_data"
    }
   ],
   "source": [
    "savename(pars)"
   ]
  },
  {
   "attachments": {},
   "cell_type": "markdown",
   "metadata": {},
   "source": [
    "You can also call `savename` with prefix and suffix"
   ]
  },
  {
   "cell_type": "code",
   "execution_count": 55,
   "metadata": {},
   "outputs": [
    {
     "data": {
      "text/plain": [
       "\"prefix_a=1_b=2_c=3_model=linear.jld2\""
      ]
     },
     "metadata": {},
     "output_type": "display_data"
    }
   ],
   "source": [
    "model = \"linear\"\n",
    "pars = @strdict a b c model\n",
    "savename(\"prefix\", pars, \"jld2\")"
   ]
  },
  {
   "attachments": {},
   "cell_type": "markdown",
   "metadata": {},
   "source": [
    "## Saving tools\n",
    "\n",
    "DrWatson offers some tools that are useful when saving files. The first is\n",
    "`tagsave`, which modifies the dictionary-to-be-saved by adding additional information about the current status of the Git repository of the project (if there exists a Git repository). This allows for reproducibility. For example (notice that `pwd()` is the path of a Git repository)"
   ]
  },
  {
   "cell_type": "code",
   "execution_count": 56,
   "metadata": {},
   "outputs": [
    {
     "name": "stderr",
     "output_type": "stream",
     "text": [
      "┌ Warning: The Git repository ('c:\\Users\\gd419\\OneDrive - University of Exeter\\Teaching\\Zero2Hero-JuliaWorkshop') is dirty! Appending -dirty to the commit ID.\n",
      "└ @ DrWatson C:\\Users\\gd419\\.julia\\packages\\DrWatson\\ieY6i\\src\\saving_tools.jl:64\n"
     ]
    },
    {
     "data": {
      "text/plain": [
       "Dict{String, Any} with 5 entries:\n",
       "  \"c\"         => 3\n",
       "  \"gitcommit\" => \"abd977c64c18f5614925a4c4ddce3527d3d93b8e-dirty\"\n",
       "  \"model\"     => \"linear\"\n",
       "  \"b\"         => 2\n",
       "  \"a\"         => 1"
      ]
     },
     "metadata": {},
     "output_type": "display_data"
    }
   ],
   "source": [
    "tagsave(\"test.jld2\", copy(pars); gitpath = pwd())\n",
    "load(\"test.jld2\")"
   ]
  },
  {
   "attachments": {},
   "cell_type": "markdown",
   "metadata": {},
   "source": [
    "You can see that the Git commit ID was included in the saved file! And not only that, but because the git status is currently \"dirty\", this was also added as saved information."
   ]
  },
  {
   "attachments": {},
   "cell_type": "markdown",
   "metadata": {},
   "source": [
    "Another useful tool is `safesave`. We all know how **devastating** it can be to by-mistake overwrite an existing simulation because you saved a new simulation with the same name... `safesave` comes to the rescue because it ensures that no files are overwritten but also all files are saved!\n",
    "\n",
    "It works like this:\n",
    "```julia\n",
    "safesave(\"test.jld2\", ...)\n",
    "```\n",
    "if `\"test.jld2\"` exists, rename it to `test_#1.jld2` (and do this recursively if `test_#1.jld2` also exists, by incrementing the number after the `#`). Then, save the current data as `test.jld2`."
   ]
  },
  {
   "cell_type": "code",
   "execution_count": 57,
   "metadata": {},
   "outputs": [],
   "source": [
    "safesave(\"test.jld2\", pars)\n",
    "safesave(\"test.jld2\", pars)\n",
    "safesave(\"test.jld2\", pars)"
   ]
  },
  {
   "cell_type": "code",
   "execution_count": 58,
   "metadata": {},
   "outputs": [
    {
     "data": {
      "text/plain": [
       "19-element Vector{String}:\n",
       " \".git\"\n",
       " \".gitignore\"\n",
       " \"1-JuliaIntro.ipynb\"\n",
       " \"2-MultipleDispatch.ipynb\"\n",
       " \"3-Ecosystem.ipynb\"\n",
       " \"LICENSE.md\"\n",
       " \"Manifest.toml\"\n",
       " \"Project.toml\"\n",
       " \"README.md\"\n",
       " \"add.jpg\"\n",
       " \"makie_ex_fig_1.png\"\n",
       " \"makie_ex_fig_2.png\"\n",
       " \"solutions_1.jl\"\n",
       " \"solutions_2.jl\"\n",
       " \"solutions_3.jl\"\n",
       " \"test.jld2\"\n",
       " \"test_#1.jld2\"\n",
       " \"test_#2.jld2\"\n",
       " \"test_#3.jld2\""
      ]
     },
     "metadata": {},
     "output_type": "display_data"
    }
   ],
   "source": [
    "readdir(pwd())"
   ]
  },
  {
   "cell_type": "code",
   "execution_count": 59,
   "metadata": {},
   "outputs": [],
   "source": [
    "# delete all files that end in \"jld2\"\n",
    "[rm(f) for f in readdir(pwd()) if endswith(f, \"jld2\")];"
   ]
  },
  {
   "attachments": {},
   "cell_type": "markdown",
   "metadata": {},
   "source": [
    "## Collecting results\n",
    "\n",
    "If you run several similar simulations with different parameters, you typically want to collect all of them in a tabular datastrcture to analyze further. You can use `collect_results` to automate the data collection process. \n",
    "\n",
    "Let's say we run first some simulations with varying parameters like so:"
   ]
  },
  {
   "cell_type": "code",
   "execution_count": 60,
   "metadata": {},
   "outputs": [],
   "source": [
    "model = \"linear\"\n",
    "for a in 1:2\n",
    "    for b in [2, 3]\n",
    "        # perform a fake simulation\n",
    "        r = a + b\n",
    "        # save it:\n",
    "        p = @strdict a b r model\n",
    "        s = @strdict a b model # the result \"r\" doesn't take part in the name\n",
    "        wsave(joinpath(\"data\", savename(s, \"jld2\")), p)\n",
    "    end\n",
    "end"
   ]
  },
  {
   "attachments": {},
   "cell_type": "markdown",
   "metadata": {},
   "source": [
    "Then we run a different model, which does not necessarily have the same parameters:"
   ]
  },
  {
   "cell_type": "code",
   "execution_count": 61,
   "metadata": {},
   "outputs": [],
   "source": [
    "model = \"cubic\"\n",
    "for a in 1:2\n",
    "    for d in [5, 6]\n",
    "        # perform a fake simulation\n",
    "        r = a + d^3\n",
    "        # save it:\n",
    "        p = @strdict a d r model\n",
    "        s = @strdict a d model # the result \"r\" doesn't take part in the name\n",
    "        wsave(joinpath(\"data\", savename(s, \"jld2\")), p)\n",
    "    end\n",
    "end"
   ]
  },
  {
   "attachments": {},
   "cell_type": "markdown",
   "metadata": {},
   "source": [
    "Now the idea is that we want to collect all of this results in a single tabular structure. We do with `collect_results(folder)`, which collects all results of the `folder` into a `DataFrame`. This is a tabular data structure (and thus we need the Julia package `DataFrames` to use it):"
   ]
  },
  {
   "cell_type": "code",
   "execution_count": 62,
   "metadata": {},
   "outputs": [
    {
     "name": "stderr",
     "output_type": "stream",
     "text": [
      "┌ Info: Scanning folder data for result files.\n",
      "└ @ DrWatson C:\\Users\\gd419\\.julia\\packages\\DrWatson\\ieY6i\\src\\result_collection.jl:115\n"
     ]
    },
    {
     "name": "stderr",
     "output_type": "stream",
     "text": [
      "┌ Info: Added 8 entries.\n",
      "└ @ DrWatson C:\\Users\\gd419\\.julia\\packages\\DrWatson\\ieY6i\\src\\result_collection.jl:191\n"
     ]
    },
    {
     "data": {
      "text/html": [
       "<div><div style = \"float: left;\"><span>8×6 DataFrame</span></div><div style = \"clear: both;\"></div></div><div class = \"data-frame\" style = \"overflow-x: scroll;\"><table class = \"data-frame\" style = \"margin-bottom: 6px;\"><thead><tr class = \"header\"><th class = \"rowNumber\" style = \"font-weight: bold; text-align: right;\">Row</th><th style = \"text-align: left;\">model</th><th style = \"text-align: left;\">b</th><th style = \"text-align: left;\">r</th><th style = \"text-align: left;\">a</th><th style = \"text-align: left;\">path</th><th style = \"text-align: left;\">d</th></tr><tr class = \"subheader headerLastRow\"><th class = \"rowNumber\" style = \"font-weight: bold; text-align: right;\"></th><th title = \"Union{Missing, String}\" style = \"text-align: left;\">String?</th><th title = \"Union{Missing, Int64}\" style = \"text-align: left;\">Int64?</th><th title = \"Union{Missing, Int64}\" style = \"text-align: left;\">Int64?</th><th title = \"Union{Missing, Int64}\" style = \"text-align: left;\">Int64?</th><th title = \"Union{Missing, String}\" style = \"text-align: left;\">String?</th><th title = \"Union{Missing, Int64}\" style = \"text-align: left;\">Int64?</th></tr></thead><tbody><tr><td class = \"rowNumber\" style = \"font-weight: bold; text-align: right;\">1</td><td style = \"text-align: left;\">linear</td><td style = \"text-align: right;\">2</td><td style = \"text-align: right;\">3</td><td style = \"text-align: right;\">1</td><td style = \"text-align: left;\">data\\\\a=1_b=2_model=linear.jld2</td><td style = \"font-style: italic; text-align: right;\">missing</td></tr><tr><td class = \"rowNumber\" style = \"font-weight: bold; text-align: right;\">2</td><td style = \"text-align: left;\">linear</td><td style = \"text-align: right;\">3</td><td style = \"text-align: right;\">4</td><td style = \"text-align: right;\">1</td><td style = \"text-align: left;\">data\\\\a=1_b=3_model=linear.jld2</td><td style = \"font-style: italic; text-align: right;\">missing</td></tr><tr><td class = \"rowNumber\" style = \"font-weight: bold; text-align: right;\">3</td><td style = \"text-align: left;\">cubic</td><td style = \"font-style: italic; text-align: right;\">missing</td><td style = \"text-align: right;\">126</td><td style = \"text-align: right;\">1</td><td style = \"text-align: left;\">data\\\\a=1_d=5_model=cubic.jld2</td><td style = \"text-align: right;\">5</td></tr><tr><td class = \"rowNumber\" style = \"font-weight: bold; text-align: right;\">4</td><td style = \"text-align: left;\">cubic</td><td style = \"font-style: italic; text-align: right;\">missing</td><td style = \"text-align: right;\">217</td><td style = \"text-align: right;\">1</td><td style = \"text-align: left;\">data\\\\a=1_d=6_model=cubic.jld2</td><td style = \"text-align: right;\">6</td></tr><tr><td class = \"rowNumber\" style = \"font-weight: bold; text-align: right;\">5</td><td style = \"text-align: left;\">linear</td><td style = \"text-align: right;\">2</td><td style = \"text-align: right;\">4</td><td style = \"text-align: right;\">2</td><td style = \"text-align: left;\">data\\\\a=2_b=2_model=linear.jld2</td><td style = \"font-style: italic; text-align: right;\">missing</td></tr><tr><td class = \"rowNumber\" style = \"font-weight: bold; text-align: right;\">6</td><td style = \"text-align: left;\">linear</td><td style = \"text-align: right;\">3</td><td style = \"text-align: right;\">5</td><td style = \"text-align: right;\">2</td><td style = \"text-align: left;\">data\\\\a=2_b=3_model=linear.jld2</td><td style = \"font-style: italic; text-align: right;\">missing</td></tr><tr><td class = \"rowNumber\" style = \"font-weight: bold; text-align: right;\">7</td><td style = \"text-align: left;\">cubic</td><td style = \"font-style: italic; text-align: right;\">missing</td><td style = \"text-align: right;\">127</td><td style = \"text-align: right;\">2</td><td style = \"text-align: left;\">data\\\\a=2_d=5_model=cubic.jld2</td><td style = \"text-align: right;\">5</td></tr><tr><td class = \"rowNumber\" style = \"font-weight: bold; text-align: right;\">8</td><td style = \"text-align: left;\">cubic</td><td style = \"font-style: italic; text-align: right;\">missing</td><td style = \"text-align: right;\">218</td><td style = \"text-align: right;\">2</td><td style = \"text-align: left;\">data\\\\a=2_d=6_model=cubic.jld2</td><td style = \"text-align: right;\">6</td></tr></tbody></table></div>"
      ],
      "text/latex": [
       "\\begin{tabular}{r|cccccc}\n",
       "\t& model & b & r & a & path & d\\\\\n",
       "\t\\hline\n",
       "\t& String? & Int64? & Int64? & Int64? & String? & Int64?\\\\\n",
       "\t\\hline\n",
       "\t1 & linear & 2 & 3 & 1 & data\\textbackslash{}\\textbackslash{}a=1\\_b=2\\_model=linear.jld2 & \\emph{missing} \\\\\n",
       "\t2 & linear & 3 & 4 & 1 & data\\textbackslash{}\\textbackslash{}a=1\\_b=3\\_model=linear.jld2 & \\emph{missing} \\\\\n",
       "\t3 & cubic & \\emph{missing} & 126 & 1 & data\\textbackslash{}\\textbackslash{}a=1\\_d=5\\_model=cubic.jld2 & 5 \\\\\n",
       "\t4 & cubic & \\emph{missing} & 217 & 1 & data\\textbackslash{}\\textbackslash{}a=1\\_d=6\\_model=cubic.jld2 & 6 \\\\\n",
       "\t5 & linear & 2 & 4 & 2 & data\\textbackslash{}\\textbackslash{}a=2\\_b=2\\_model=linear.jld2 & \\emph{missing} \\\\\n",
       "\t6 & linear & 3 & 5 & 2 & data\\textbackslash{}\\textbackslash{}a=2\\_b=3\\_model=linear.jld2 & \\emph{missing} \\\\\n",
       "\t7 & cubic & \\emph{missing} & 127 & 2 & data\\textbackslash{}\\textbackslash{}a=2\\_d=5\\_model=cubic.jld2 & 5 \\\\\n",
       "\t8 & cubic & \\emph{missing} & 218 & 2 & data\\textbackslash{}\\textbackslash{}a=2\\_d=6\\_model=cubic.jld2 & 6 \\\\\n",
       "\\end{tabular}\n"
      ],
      "text/plain": [
       "\u001b[1m8×6 DataFrame\u001b[0m\n",
       "\u001b[1m Row \u001b[0m│\u001b[1m model   \u001b[0m\u001b[1m b       \u001b[0m\u001b[1m r      \u001b[0m\u001b[1m a      \u001b[0m\u001b[1m path                            \u001b[0m\u001b[1m d   \u001b[0m ⋯\n",
       "     │\u001b[90m String? \u001b[0m\u001b[90m Int64?  \u001b[0m\u001b[90m Int64? \u001b[0m\u001b[90m Int64? \u001b[0m\u001b[90m String?                         \u001b[0m\u001b[90m Int6\u001b[0m ⋯\n",
       "─────┼──────────────────────────────────────────────────────────────────────────\n",
       "   1 │ linear         2       3       1  data\\\\a=1_b=2_model=linear.jld2 \u001b[90m miss\u001b[0m ⋯\n",
       "   2 │ linear         3       4       1  data\\\\a=1_b=3_model=linear.jld2 \u001b[90m miss\u001b[0m\n",
       "   3 │ cubic   \u001b[90m missing \u001b[0m    126       1  data\\\\a=1_d=5_model=cubic.jld2\n",
       "   4 │ cubic   \u001b[90m missing \u001b[0m    217       1  data\\\\a=1_d=6_model=cubic.jld2\n",
       "   5 │ linear         2       4       2  data\\\\a=2_b=2_model=linear.jld2 \u001b[90m miss\u001b[0m ⋯\n",
       "   6 │ linear         3       5       2  data\\\\a=2_b=3_model=linear.jld2 \u001b[90m miss\u001b[0m\n",
       "   7 │ cubic   \u001b[90m missing \u001b[0m    127       2  data\\\\a=2_d=5_model=cubic.jld2\n",
       "   8 │ cubic   \u001b[90m missing \u001b[0m    218       2  data\\\\a=2_d=6_model=cubic.jld2\n",
       "\u001b[36m                                                                1 column omitted\u001b[0m"
      ]
     },
     "metadata": {},
     "output_type": "display_data"
    }
   ],
   "source": [
    "using DataFrames\n",
    "results = collect_results(\"data\")"
   ]
  },
  {
   "attachments": {},
   "cell_type": "markdown",
   "metadata": {},
   "source": [
    "So `collect_results` collected all files, but also did something extra, something very useful. Simulation parameters that do not exist in one run (see `b` vs `d`) have the value `missing`. `missing` is how Julia represents missing values."
   ]
  },
  {
   "cell_type": "code",
   "execution_count": 63,
   "metadata": {},
   "outputs": [],
   "source": [
    "# delete all saved data files (they are loaded in memory)\n",
    "rm(\"data\"; recursive = true)"
   ]
  },
  {
   "attachments": {},
   "cell_type": "markdown",
   "metadata": {},
   "source": [
    "# Tabular data with DataFrames.jl\n",
    "\n",
    "The `result` that we got above is a `DataFrame` from [DataFrames.jl](http://juliadata.github.io/DataFrames.jl/stable/), one of the major Julia packages for tabular data. \n",
    "\n",
    "## Basic stuff\n",
    "One can do basic selection of these data, for example selecting specific columns, removing columns, adding new columns or rows, etc. The `path` column of the `results` is not so useful, so let's remove it:"
   ]
  },
  {
   "cell_type": "code",
   "execution_count": 64,
   "metadata": {},
   "outputs": [
    {
     "data": {
      "text/html": [
       "<div><div style = \"float: left;\"><span>8×5 DataFrame</span></div><div style = \"clear: both;\"></div></div><div class = \"data-frame\" style = \"overflow-x: scroll;\"><table class = \"data-frame\" style = \"margin-bottom: 6px;\"><thead><tr class = \"header\"><th class = \"rowNumber\" style = \"font-weight: bold; text-align: right;\">Row</th><th style = \"text-align: left;\">model</th><th style = \"text-align: left;\">b</th><th style = \"text-align: left;\">r</th><th style = \"text-align: left;\">a</th><th style = \"text-align: left;\">d</th></tr><tr class = \"subheader headerLastRow\"><th class = \"rowNumber\" style = \"font-weight: bold; text-align: right;\"></th><th title = \"Union{Missing, String}\" style = \"text-align: left;\">String?</th><th title = \"Union{Missing, Int64}\" style = \"text-align: left;\">Int64?</th><th title = \"Union{Missing, Int64}\" style = \"text-align: left;\">Int64?</th><th title = \"Union{Missing, Int64}\" style = \"text-align: left;\">Int64?</th><th title = \"Union{Missing, Int64}\" style = \"text-align: left;\">Int64?</th></tr></thead><tbody><tr><td class = \"rowNumber\" style = \"font-weight: bold; text-align: right;\">1</td><td style = \"text-align: left;\">linear</td><td style = \"text-align: right;\">2</td><td style = \"text-align: right;\">3</td><td style = \"text-align: right;\">1</td><td style = \"font-style: italic; text-align: right;\">missing</td></tr><tr><td class = \"rowNumber\" style = \"font-weight: bold; text-align: right;\">2</td><td style = \"text-align: left;\">linear</td><td style = \"text-align: right;\">3</td><td style = \"text-align: right;\">4</td><td style = \"text-align: right;\">1</td><td style = \"font-style: italic; text-align: right;\">missing</td></tr><tr><td class = \"rowNumber\" style = \"font-weight: bold; text-align: right;\">3</td><td style = \"text-align: left;\">cubic</td><td style = \"font-style: italic; text-align: right;\">missing</td><td style = \"text-align: right;\">126</td><td style = \"text-align: right;\">1</td><td style = \"text-align: right;\">5</td></tr><tr><td class = \"rowNumber\" style = \"font-weight: bold; text-align: right;\">4</td><td style = \"text-align: left;\">cubic</td><td style = \"font-style: italic; text-align: right;\">missing</td><td style = \"text-align: right;\">217</td><td style = \"text-align: right;\">1</td><td style = \"text-align: right;\">6</td></tr><tr><td class = \"rowNumber\" style = \"font-weight: bold; text-align: right;\">5</td><td style = \"text-align: left;\">linear</td><td style = \"text-align: right;\">2</td><td style = \"text-align: right;\">4</td><td style = \"text-align: right;\">2</td><td style = \"font-style: italic; text-align: right;\">missing</td></tr><tr><td class = \"rowNumber\" style = \"font-weight: bold; text-align: right;\">6</td><td style = \"text-align: left;\">linear</td><td style = \"text-align: right;\">3</td><td style = \"text-align: right;\">5</td><td style = \"text-align: right;\">2</td><td style = \"font-style: italic; text-align: right;\">missing</td></tr><tr><td class = \"rowNumber\" style = \"font-weight: bold; text-align: right;\">7</td><td style = \"text-align: left;\">cubic</td><td style = \"font-style: italic; text-align: right;\">missing</td><td style = \"text-align: right;\">127</td><td style = \"text-align: right;\">2</td><td style = \"text-align: right;\">5</td></tr><tr><td class = \"rowNumber\" style = \"font-weight: bold; text-align: right;\">8</td><td style = \"text-align: left;\">cubic</td><td style = \"font-style: italic; text-align: right;\">missing</td><td style = \"text-align: right;\">218</td><td style = \"text-align: right;\">2</td><td style = \"text-align: right;\">6</td></tr></tbody></table></div>"
      ],
      "text/latex": [
       "\\begin{tabular}{r|ccccc}\n",
       "\t& model & b & r & a & d\\\\\n",
       "\t\\hline\n",
       "\t& String? & Int64? & Int64? & Int64? & Int64?\\\\\n",
       "\t\\hline\n",
       "\t1 & linear & 2 & 3 & 1 & \\emph{missing} \\\\\n",
       "\t2 & linear & 3 & 4 & 1 & \\emph{missing} \\\\\n",
       "\t3 & cubic & \\emph{missing} & 126 & 1 & 5 \\\\\n",
       "\t4 & cubic & \\emph{missing} & 217 & 1 & 6 \\\\\n",
       "\t5 & linear & 2 & 4 & 2 & \\emph{missing} \\\\\n",
       "\t6 & linear & 3 & 5 & 2 & \\emph{missing} \\\\\n",
       "\t7 & cubic & \\emph{missing} & 127 & 2 & 5 \\\\\n",
       "\t8 & cubic & \\emph{missing} & 218 & 2 & 6 \\\\\n",
       "\\end{tabular}\n"
      ],
      "text/plain": [
       "\u001b[1m8×5 DataFrame\u001b[0m\n",
       "\u001b[1m Row \u001b[0m│\u001b[1m model   \u001b[0m\u001b[1m b       \u001b[0m\u001b[1m r      \u001b[0m\u001b[1m a      \u001b[0m\u001b[1m d       \u001b[0m\n",
       "     │\u001b[90m String? \u001b[0m\u001b[90m Int64?  \u001b[0m\u001b[90m Int64? \u001b[0m\u001b[90m Int64? \u001b[0m\u001b[90m Int64?  \u001b[0m\n",
       "─────┼───────────────────────────────────────────\n",
       "   1 │ linear         2       3       1 \u001b[90m missing \u001b[0m\n",
       "   2 │ linear         3       4       1 \u001b[90m missing \u001b[0m\n",
       "   3 │ cubic   \u001b[90m missing \u001b[0m    126       1        5\n",
       "   4 │ cubic   \u001b[90m missing \u001b[0m    217       1        6\n",
       "   5 │ linear         2       4       2 \u001b[90m missing \u001b[0m\n",
       "   6 │ linear         3       5       2 \u001b[90m missing \u001b[0m\n",
       "   7 │ cubic   \u001b[90m missing \u001b[0m    127       2        5\n",
       "   8 │ cubic   \u001b[90m missing \u001b[0m    218       2        6"
      ]
     },
     "metadata": {},
     "output_type": "display_data"
    }
   ],
   "source": [
    "select!(results, Not(:path))"
   ]
  },
  {
   "attachments": {},
   "cell_type": "markdown",
   "metadata": {},
   "source": [
    "To access specific rows or columns you can access a dataframe like a matrix, e.g. `df[:, 1:3]` gives the first three rows while `df[:, [:a, :b]]` gives the rows selected by name.\n",
    "\n",
    "Adding new data to a dataframe is also straight forward. One can add new rows or new columns. New rows are added by either providing a vector (where the vector's length matches the number of columns), or by providing a named tuple that explicitly names which column gets which new value."
   ]
  },
  {
   "cell_type": "code",
   "execution_count": 65,
   "metadata": {},
   "outputs": [
    {
     "data": {
      "text/html": [
       "<div><div style = \"float: left;\"><span>3×3 DataFrame</span></div><div style = \"clear: both;\"></div></div><div class = \"data-frame\" style = \"overflow-x: scroll;\"><table class = \"data-frame\" style = \"margin-bottom: 6px;\"><thead><tr class = \"header\"><th class = \"rowNumber\" style = \"font-weight: bold; text-align: right;\">Row</th><th style = \"text-align: left;\">model</th><th style = \"text-align: left;\">b</th><th style = \"text-align: left;\">r</th></tr><tr class = \"subheader headerLastRow\"><th class = \"rowNumber\" style = \"font-weight: bold; text-align: right;\"></th><th title = \"Union{Missing, String}\" style = \"text-align: left;\">String?</th><th title = \"Union{Missing, Int64}\" style = \"text-align: left;\">Int64?</th><th title = \"Union{Missing, Int64}\" style = \"text-align: left;\">Int64?</th></tr></thead><tbody><tr><td class = \"rowNumber\" style = \"font-weight: bold; text-align: right;\">1</td><td style = \"text-align: left;\">linear</td><td style = \"text-align: right;\">2</td><td style = \"text-align: right;\">3</td></tr><tr><td class = \"rowNumber\" style = \"font-weight: bold; text-align: right;\">2</td><td style = \"text-align: left;\">linear</td><td style = \"text-align: right;\">3</td><td style = \"text-align: right;\">4</td></tr><tr><td class = \"rowNumber\" style = \"font-weight: bold; text-align: right;\">3</td><td style = \"text-align: left;\">cubic</td><td style = \"font-style: italic; text-align: right;\">missing</td><td style = \"text-align: right;\">126</td></tr></tbody></table></div>"
      ],
      "text/latex": [
       "\\begin{tabular}{r|ccc}\n",
       "\t& model & b & r\\\\\n",
       "\t\\hline\n",
       "\t& String? & Int64? & Int64?\\\\\n",
       "\t\\hline\n",
       "\t1 & linear & 2 & 3 \\\\\n",
       "\t2 & linear & 3 & 4 \\\\\n",
       "\t3 & cubic & \\emph{missing} & 126 \\\\\n",
       "\\end{tabular}\n"
      ],
      "text/plain": [
       "\u001b[1m3×3 DataFrame\u001b[0m\n",
       "\u001b[1m Row \u001b[0m│\u001b[1m model   \u001b[0m\u001b[1m b       \u001b[0m\u001b[1m r      \u001b[0m\n",
       "     │\u001b[90m String? \u001b[0m\u001b[90m Int64?  \u001b[0m\u001b[90m Int64? \u001b[0m\n",
       "─────┼──────────────────────────\n",
       "   1 │ linear         2       3\n",
       "   2 │ linear         3       4\n",
       "   3 │ cubic   \u001b[90m missing \u001b[0m    126"
      ]
     },
     "metadata": {},
     "output_type": "display_data"
    }
   ],
   "source": [
    "df1 = results[1:3, 1:3]"
   ]
  },
  {
   "cell_type": "code",
   "execution_count": 66,
   "metadata": {},
   "outputs": [
    {
     "data": {
      "text/html": [
       "<div><div style = \"float: left;\"><span>4×3 DataFrame</span></div><div style = \"clear: both;\"></div></div><div class = \"data-frame\" style = \"overflow-x: scroll;\"><table class = \"data-frame\" style = \"margin-bottom: 6px;\"><thead><tr class = \"header\"><th class = \"rowNumber\" style = \"font-weight: bold; text-align: right;\">Row</th><th style = \"text-align: left;\">model</th><th style = \"text-align: left;\">b</th><th style = \"text-align: left;\">r</th></tr><tr class = \"subheader headerLastRow\"><th class = \"rowNumber\" style = \"font-weight: bold; text-align: right;\"></th><th title = \"Union{Missing, String}\" style = \"text-align: left;\">String?</th><th title = \"Union{Missing, Int64}\" style = \"text-align: left;\">Int64?</th><th title = \"Union{Missing, Int64}\" style = \"text-align: left;\">Int64?</th></tr></thead><tbody><tr><td class = \"rowNumber\" style = \"font-weight: bold; text-align: right;\">1</td><td style = \"text-align: left;\">linear</td><td style = \"text-align: right;\">2</td><td style = \"text-align: right;\">3</td></tr><tr><td class = \"rowNumber\" style = \"font-weight: bold; text-align: right;\">2</td><td style = \"text-align: left;\">linear</td><td style = \"text-align: right;\">3</td><td style = \"text-align: right;\">4</td></tr><tr><td class = \"rowNumber\" style = \"font-weight: bold; text-align: right;\">3</td><td style = \"text-align: left;\">cubic</td><td style = \"font-style: italic; text-align: right;\">missing</td><td style = \"text-align: right;\">126</td></tr><tr><td class = \"rowNumber\" style = \"font-weight: bold; text-align: right;\">4</td><td style = \"text-align: left;\">test</td><td style = \"text-align: right;\">5</td><td style = \"text-align: right;\">5</td></tr></tbody></table></div>"
      ],
      "text/latex": [
       "\\begin{tabular}{r|ccc}\n",
       "\t& model & b & r\\\\\n",
       "\t\\hline\n",
       "\t& String? & Int64? & Int64?\\\\\n",
       "\t\\hline\n",
       "\t1 & linear & 2 & 3 \\\\\n",
       "\t2 & linear & 3 & 4 \\\\\n",
       "\t3 & cubic & \\emph{missing} & 126 \\\\\n",
       "\t4 & test & 5 & 5 \\\\\n",
       "\\end{tabular}\n"
      ],
      "text/plain": [
       "\u001b[1m4×3 DataFrame\u001b[0m\n",
       "\u001b[1m Row \u001b[0m│\u001b[1m model   \u001b[0m\u001b[1m b       \u001b[0m\u001b[1m r      \u001b[0m\n",
       "     │\u001b[90m String? \u001b[0m\u001b[90m Int64?  \u001b[0m\u001b[90m Int64? \u001b[0m\n",
       "─────┼──────────────────────────\n",
       "   1 │ linear         2       3\n",
       "   2 │ linear         3       4\n",
       "   3 │ cubic   \u001b[90m missing \u001b[0m    126\n",
       "   4 │ test           5       5"
      ]
     },
     "metadata": {},
     "output_type": "display_data"
    }
   ],
   "source": [
    "# add new row by order of columns\n",
    "push!(df1, [\"test\", 5, 5])"
   ]
  },
  {
   "cell_type": "code",
   "execution_count": 67,
   "metadata": {},
   "outputs": [
    {
     "data": {
      "text/html": [
       "<div><div style = \"float: left;\"><span>5×3 DataFrame</span></div><div style = \"clear: both;\"></div></div><div class = \"data-frame\" style = \"overflow-x: scroll;\"><table class = \"data-frame\" style = \"margin-bottom: 6px;\"><thead><tr class = \"header\"><th class = \"rowNumber\" style = \"font-weight: bold; text-align: right;\">Row</th><th style = \"text-align: left;\">model</th><th style = \"text-align: left;\">b</th><th style = \"text-align: left;\">r</th></tr><tr class = \"subheader headerLastRow\"><th class = \"rowNumber\" style = \"font-weight: bold; text-align: right;\"></th><th title = \"Union{Missing, String}\" style = \"text-align: left;\">String?</th><th title = \"Union{Missing, Int64}\" style = \"text-align: left;\">Int64?</th><th title = \"Union{Missing, Int64}\" style = \"text-align: left;\">Int64?</th></tr></thead><tbody><tr><td class = \"rowNumber\" style = \"font-weight: bold; text-align: right;\">1</td><td style = \"text-align: left;\">linear</td><td style = \"text-align: right;\">2</td><td style = \"text-align: right;\">3</td></tr><tr><td class = \"rowNumber\" style = \"font-weight: bold; text-align: right;\">2</td><td style = \"text-align: left;\">linear</td><td style = \"text-align: right;\">3</td><td style = \"text-align: right;\">4</td></tr><tr><td class = \"rowNumber\" style = \"font-weight: bold; text-align: right;\">3</td><td style = \"text-align: left;\">cubic</td><td style = \"font-style: italic; text-align: right;\">missing</td><td style = \"text-align: right;\">126</td></tr><tr><td class = \"rowNumber\" style = \"font-weight: bold; text-align: right;\">4</td><td style = \"text-align: left;\">test</td><td style = \"text-align: right;\">5</td><td style = \"text-align: right;\">5</td></tr><tr><td class = \"rowNumber\" style = \"font-weight: bold; text-align: right;\">5</td><td style = \"text-align: left;\">test2</td><td style = \"text-align: right;\">-5</td><td style = \"text-align: right;\">89</td></tr></tbody></table></div>"
      ],
      "text/latex": [
       "\\begin{tabular}{r|ccc}\n",
       "\t& model & b & r\\\\\n",
       "\t\\hline\n",
       "\t& String? & Int64? & Int64?\\\\\n",
       "\t\\hline\n",
       "\t1 & linear & 2 & 3 \\\\\n",
       "\t2 & linear & 3 & 4 \\\\\n",
       "\t3 & cubic & \\emph{missing} & 126 \\\\\n",
       "\t4 & test & 5 & 5 \\\\\n",
       "\t5 & test2 & -5 & 89 \\\\\n",
       "\\end{tabular}\n"
      ],
      "text/plain": [
       "\u001b[1m5×3 DataFrame\u001b[0m\n",
       "\u001b[1m Row \u001b[0m│\u001b[1m model   \u001b[0m\u001b[1m b       \u001b[0m\u001b[1m r      \u001b[0m\n",
       "     │\u001b[90m String? \u001b[0m\u001b[90m Int64?  \u001b[0m\u001b[90m Int64? \u001b[0m\n",
       "─────┼──────────────────────────\n",
       "   1 │ linear         2       3\n",
       "   2 │ linear         3       4\n",
       "   3 │ cubic   \u001b[90m missing \u001b[0m    126\n",
       "   4 │ test           5       5\n",
       "   5 │ test2         -5      89"
      ]
     },
     "metadata": {},
     "output_type": "display_data"
    }
   ],
   "source": [
    "# add new row by name of columnns\n",
    "push!(df1, (model = \"test2\", r=89, b = -5))"
   ]
  },
  {
   "cell_type": "code",
   "execution_count": 68,
   "metadata": {},
   "outputs": [
    {
     "data": {
      "text/html": [
       "<div><div style = \"float: left;\"><span>5×4 DataFrame</span></div><div style = \"clear: both;\"></div></div><div class = \"data-frame\" style = \"overflow-x: scroll;\"><table class = \"data-frame\" style = \"margin-bottom: 6px;\"><thead><tr class = \"header\"><th class = \"rowNumber\" style = \"font-weight: bold; text-align: right;\">Row</th><th style = \"text-align: left;\">model</th><th style = \"text-align: left;\">b</th><th style = \"text-align: left;\">r</th><th style = \"text-align: left;\">z</th></tr><tr class = \"subheader headerLastRow\"><th class = \"rowNumber\" style = \"font-weight: bold; text-align: right;\"></th><th title = \"Union{Missing, String}\" style = \"text-align: left;\">String?</th><th title = \"Union{Missing, Int64}\" style = \"text-align: left;\">Int64?</th><th title = \"Union{Missing, Int64}\" style = \"text-align: left;\">Int64?</th><th title = \"Float64\" style = \"text-align: left;\">Float64</th></tr></thead><tbody><tr><td class = \"rowNumber\" style = \"font-weight: bold; text-align: right;\">1</td><td style = \"text-align: left;\">linear</td><td style = \"text-align: right;\">2</td><td style = \"text-align: right;\">3</td><td style = \"text-align: right;\">0.254176</td></tr><tr><td class = \"rowNumber\" style = \"font-weight: bold; text-align: right;\">2</td><td style = \"text-align: left;\">linear</td><td style = \"text-align: right;\">3</td><td style = \"text-align: right;\">4</td><td style = \"text-align: right;\">0.230651</td></tr><tr><td class = \"rowNumber\" style = \"font-weight: bold; text-align: right;\">3</td><td style = \"text-align: left;\">cubic</td><td style = \"font-style: italic; text-align: right;\">missing</td><td style = \"text-align: right;\">126</td><td style = \"text-align: right;\">0.629874</td></tr><tr><td class = \"rowNumber\" style = \"font-weight: bold; text-align: right;\">4</td><td style = \"text-align: left;\">test</td><td style = \"text-align: right;\">5</td><td style = \"text-align: right;\">5</td><td style = \"text-align: right;\">0.970654</td></tr><tr><td class = \"rowNumber\" style = \"font-weight: bold; text-align: right;\">5</td><td style = \"text-align: left;\">test2</td><td style = \"text-align: right;\">-5</td><td style = \"text-align: right;\">89</td><td style = \"text-align: right;\">0.528508</td></tr></tbody></table></div>"
      ],
      "text/latex": [
       "\\begin{tabular}{r|cccc}\n",
       "\t& model & b & r & z\\\\\n",
       "\t\\hline\n",
       "\t& String? & Int64? & Int64? & Float64\\\\\n",
       "\t\\hline\n",
       "\t1 & linear & 2 & 3 & 0.254176 \\\\\n",
       "\t2 & linear & 3 & 4 & 0.230651 \\\\\n",
       "\t3 & cubic & \\emph{missing} & 126 & 0.629874 \\\\\n",
       "\t4 & test & 5 & 5 & 0.970654 \\\\\n",
       "\t5 & test2 & -5 & 89 & 0.528508 \\\\\n",
       "\\end{tabular}\n"
      ],
      "text/plain": [
       "\u001b[1m5×4 DataFrame\u001b[0m\n",
       "\u001b[1m Row \u001b[0m│\u001b[1m model   \u001b[0m\u001b[1m b       \u001b[0m\u001b[1m r      \u001b[0m\u001b[1m z        \u001b[0m\n",
       "     │\u001b[90m String? \u001b[0m\u001b[90m Int64?  \u001b[0m\u001b[90m Int64? \u001b[0m\u001b[90m Float64  \u001b[0m\n",
       "─────┼────────────────────────────────────\n",
       "   1 │ linear         2       3  0.254176\n",
       "   2 │ linear         3       4  0.230651\n",
       "   3 │ cubic   \u001b[90m missing \u001b[0m    126  0.629874\n",
       "   4 │ test           5       5  0.970654\n",
       "   5 │ test2         -5      89  0.528508"
      ]
     },
     "metadata": {},
     "output_type": "display_data"
    }
   ],
   "source": [
    "# add new row with given name by field assignment\n",
    "df1.z = rand(size(df1, 1))\n",
    "df1"
   ]
  },
  {
   "attachments": {},
   "cell_type": "markdown",
   "metadata": {},
   "source": [
    "## Querying and manipulating a `DataFrame`\n",
    "\n",
    "General querying and data manipulation can be done on `DataFrame`s using standard library functions from DataFrames.jl. However, it is [recommended](https://dataframes.juliadata.org/stable/man/querying_frameworks/#Data-manipulation-frameworks) to use a package dedicated to querying and data manupulation that provides simpler/easier syntax for it. Several options exist, each providing a slightly different variant on the syntax, so you can pick whatever you feel most comfortable in. Here we will use a LINQ-like [Query.jl](https://www.queryverse.org/Query.jl/stable/) syntax, which can be used with any tabular Julia data."
   ]
  },
  {
   "cell_type": "code",
   "execution_count": 69,
   "metadata": {},
   "outputs": [
    {
     "data": {
      "text/html": [
       "<div><div style = \"float: left;\"><span>8×5 DataFrame</span></div><div style = \"clear: both;\"></div></div><div class = \"data-frame\" style = \"overflow-x: scroll;\"><table class = \"data-frame\" style = \"margin-bottom: 6px;\"><thead><tr class = \"header\"><th class = \"rowNumber\" style = \"font-weight: bold; text-align: right;\">Row</th><th style = \"text-align: left;\">model</th><th style = \"text-align: left;\">b</th><th style = \"text-align: left;\">r</th><th style = \"text-align: left;\">a</th><th style = \"text-align: left;\">d</th></tr><tr class = \"subheader headerLastRow\"><th class = \"rowNumber\" style = \"font-weight: bold; text-align: right;\"></th><th title = \"Union{Missing, String}\" style = \"text-align: left;\">String?</th><th title = \"Union{Missing, Int64}\" style = \"text-align: left;\">Int64?</th><th title = \"Union{Missing, Int64}\" style = \"text-align: left;\">Int64?</th><th title = \"Union{Missing, Int64}\" style = \"text-align: left;\">Int64?</th><th title = \"Union{Missing, Int64}\" style = \"text-align: left;\">Int64?</th></tr></thead><tbody><tr><td class = \"rowNumber\" style = \"font-weight: bold; text-align: right;\">1</td><td style = \"text-align: left;\">linear</td><td style = \"text-align: right;\">2</td><td style = \"text-align: right;\">3</td><td style = \"text-align: right;\">1</td><td style = \"font-style: italic; text-align: right;\">missing</td></tr><tr><td class = \"rowNumber\" style = \"font-weight: bold; text-align: right;\">2</td><td style = \"text-align: left;\">linear</td><td style = \"text-align: right;\">3</td><td style = \"text-align: right;\">4</td><td style = \"text-align: right;\">1</td><td style = \"font-style: italic; text-align: right;\">missing</td></tr><tr><td class = \"rowNumber\" style = \"font-weight: bold; text-align: right;\">3</td><td style = \"text-align: left;\">cubic</td><td style = \"font-style: italic; text-align: right;\">missing</td><td style = \"text-align: right;\">126</td><td style = \"text-align: right;\">1</td><td style = \"text-align: right;\">5</td></tr><tr><td class = \"rowNumber\" style = \"font-weight: bold; text-align: right;\">4</td><td style = \"text-align: left;\">cubic</td><td style = \"font-style: italic; text-align: right;\">missing</td><td style = \"text-align: right;\">217</td><td style = \"text-align: right;\">1</td><td style = \"text-align: right;\">6</td></tr><tr><td class = \"rowNumber\" style = \"font-weight: bold; text-align: right;\">5</td><td style = \"text-align: left;\">linear</td><td style = \"text-align: right;\">2</td><td style = \"text-align: right;\">4</td><td style = \"text-align: right;\">2</td><td style = \"font-style: italic; text-align: right;\">missing</td></tr><tr><td class = \"rowNumber\" style = \"font-weight: bold; text-align: right;\">6</td><td style = \"text-align: left;\">linear</td><td style = \"text-align: right;\">3</td><td style = \"text-align: right;\">5</td><td style = \"text-align: right;\">2</td><td style = \"font-style: italic; text-align: right;\">missing</td></tr><tr><td class = \"rowNumber\" style = \"font-weight: bold; text-align: right;\">7</td><td style = \"text-align: left;\">cubic</td><td style = \"font-style: italic; text-align: right;\">missing</td><td style = \"text-align: right;\">127</td><td style = \"text-align: right;\">2</td><td style = \"text-align: right;\">5</td></tr><tr><td class = \"rowNumber\" style = \"font-weight: bold; text-align: right;\">8</td><td style = \"text-align: left;\">cubic</td><td style = \"font-style: italic; text-align: right;\">missing</td><td style = \"text-align: right;\">218</td><td style = \"text-align: right;\">2</td><td style = \"text-align: right;\">6</td></tr></tbody></table></div>"
      ],
      "text/latex": [
       "\\begin{tabular}{r|ccccc}\n",
       "\t& model & b & r & a & d\\\\\n",
       "\t\\hline\n",
       "\t& String? & Int64? & Int64? & Int64? & Int64?\\\\\n",
       "\t\\hline\n",
       "\t1 & linear & 2 & 3 & 1 & \\emph{missing} \\\\\n",
       "\t2 & linear & 3 & 4 & 1 & \\emph{missing} \\\\\n",
       "\t3 & cubic & \\emph{missing} & 126 & 1 & 5 \\\\\n",
       "\t4 & cubic & \\emph{missing} & 217 & 1 & 6 \\\\\n",
       "\t5 & linear & 2 & 4 & 2 & \\emph{missing} \\\\\n",
       "\t6 & linear & 3 & 5 & 2 & \\emph{missing} \\\\\n",
       "\t7 & cubic & \\emph{missing} & 127 & 2 & 5 \\\\\n",
       "\t8 & cubic & \\emph{missing} & 218 & 2 & 6 \\\\\n",
       "\\end{tabular}\n"
      ],
      "text/plain": [
       "\u001b[1m8×5 DataFrame\u001b[0m\n",
       "\u001b[1m Row \u001b[0m│\u001b[1m model   \u001b[0m\u001b[1m b       \u001b[0m\u001b[1m r      \u001b[0m\u001b[1m a      \u001b[0m\u001b[1m d       \u001b[0m\n",
       "     │\u001b[90m String? \u001b[0m\u001b[90m Int64?  \u001b[0m\u001b[90m Int64? \u001b[0m\u001b[90m Int64? \u001b[0m\u001b[90m Int64?  \u001b[0m\n",
       "─────┼───────────────────────────────────────────\n",
       "   1 │ linear         2       3       1 \u001b[90m missing \u001b[0m\n",
       "   2 │ linear         3       4       1 \u001b[90m missing \u001b[0m\n",
       "   3 │ cubic   \u001b[90m missing \u001b[0m    126       1        5\n",
       "   4 │ cubic   \u001b[90m missing \u001b[0m    217       1        6\n",
       "   5 │ linear         2       4       2 \u001b[90m missing \u001b[0m\n",
       "   6 │ linear         3       5       2 \u001b[90m missing \u001b[0m\n",
       "   7 │ cubic   \u001b[90m missing \u001b[0m    127       2        5\n",
       "   8 │ cubic   \u001b[90m missing \u001b[0m    218       2        6"
      ]
     },
     "metadata": {},
     "output_type": "display_data"
    }
   ],
   "source": [
    "using Query\n",
    "results"
   ]
  },
  {
   "attachments": {},
   "cell_type": "markdown",
   "metadata": {},
   "source": [
    "Let's perform a basic query that we explain step-by-step:"
   ]
  },
  {
   "cell_type": "code",
   "execution_count": 70,
   "metadata": {},
   "outputs": [
    {
     "data": {
      "text/html": [
       "<div><div style = \"float: left;\"><span>4×3 DataFrame</span></div><div style = \"clear: both;\"></div></div><div class = \"data-frame\" style = \"overflow-x: scroll;\"><table class = \"data-frame\" style = \"margin-bottom: 6px;\"><thead><tr class = \"header\"><th class = \"rowNumber\" style = \"font-weight: bold; text-align: right;\">Row</th><th style = \"text-align: left;\">a</th><th style = \"text-align: left;\">r</th><th style = \"text-align: left;\">rsquared</th></tr><tr class = \"subheader headerLastRow\"><th class = \"rowNumber\" style = \"font-weight: bold; text-align: right;\"></th><th title = \"Union{Missing, Int64}\" style = \"text-align: left;\">Int64?</th><th title = \"Union{Missing, Int64}\" style = \"text-align: left;\">Int64?</th><th title = \"Union{Missing, Int64}\" style = \"text-align: left;\">Int64?</th></tr></thead><tbody><tr><td class = \"rowNumber\" style = \"font-weight: bold; text-align: right;\">1</td><td style = \"text-align: right;\">1</td><td style = \"text-align: right;\">3</td><td style = \"text-align: right;\">9</td></tr><tr><td class = \"rowNumber\" style = \"font-weight: bold; text-align: right;\">2</td><td style = \"text-align: right;\">1</td><td style = \"text-align: right;\">4</td><td style = \"text-align: right;\">16</td></tr><tr><td class = \"rowNumber\" style = \"font-weight: bold; text-align: right;\">3</td><td style = \"text-align: right;\">2</td><td style = \"text-align: right;\">4</td><td style = \"text-align: right;\">16</td></tr><tr><td class = \"rowNumber\" style = \"font-weight: bold; text-align: right;\">4</td><td style = \"text-align: right;\">2</td><td style = \"text-align: right;\">5</td><td style = \"text-align: right;\">25</td></tr></tbody></table></div>"
      ],
      "text/latex": [
       "\\begin{tabular}{r|ccc}\n",
       "\t& a & r & rsquared\\\\\n",
       "\t\\hline\n",
       "\t& Int64? & Int64? & Int64?\\\\\n",
       "\t\\hline\n",
       "\t1 & 1 & 3 & 9 \\\\\n",
       "\t2 & 1 & 4 & 16 \\\\\n",
       "\t3 & 2 & 4 & 16 \\\\\n",
       "\t4 & 2 & 5 & 25 \\\\\n",
       "\\end{tabular}\n"
      ],
      "text/plain": [
       "\u001b[1m4×3 DataFrame\u001b[0m\n",
       "\u001b[1m Row \u001b[0m│\u001b[1m a      \u001b[0m\u001b[1m r      \u001b[0m\u001b[1m rsquared \u001b[0m\n",
       "     │\u001b[90m Int64? \u001b[0m\u001b[90m Int64? \u001b[0m\u001b[90m Int64?   \u001b[0m\n",
       "─────┼──────────────────────────\n",
       "   1 │      1       3         9\n",
       "   2 │      1       4        16\n",
       "   3 │      2       4        16\n",
       "   4 │      2       5        25"
      ]
     },
     "metadata": {},
     "output_type": "display_data"
    }
   ],
   "source": [
    "# `@from ... begin` initializes a query\n",
    "# here `row` (any name would be fine) is the\n",
    "# iterable of the tabular data. Think of it as a\n",
    "# NamedTuple. You can access its values by name with the . syntax\n",
    "q = @from row in results begin\n",
    "    # `@where` filters elements where the following\n",
    "    # expression is true.\n",
    "    @where row.model == \"linear\"\n",
    "    # `@select {stuff... }  creates a new named tuple\n",
    "    @select {row.a, row.r, rsquared = row.r^2}\n",
    "    # `@collect` collects the selected results into\n",
    "    # the specified data structure\n",
    "    @collect DataFrame\n",
    "end"
   ]
  },
  {
   "attachments": {},
   "cell_type": "markdown",
   "metadata": {},
   "source": [
    "As you can see, you don't have to necessarily collect only existing columns, you can even create new ones (specified by name).\n",
    "\n",
    "Of course, much, much more things are possible to do in such a query. For more, see the documentation of Query.jl."
   ]
  },
  {
   "cell_type": "markdown",
   "metadata": {},
   "source": [
    "# A final take-home message\n",
    "\n",
    "One thing that should really be added a lot of weight, is **how simple, transparent, and high level are the interfaces of everything** that you have seen so far. Both base Julia, as well as most packages for it, have such a simple interface which means that people can learn the software faster and spend more time actually doing science than trying to figure out how to write the code.\n",
    "\n",
    "This is something that \"old\" programming languages typically fail at: most (young) people that use codebases written in C/FORTRAN without any high level API defined on top (in e.g. Python) always complain that it is \"so hard to use this stuff\".\n",
    "On the other end of the spectrum, packages that are written in Python (while their actual computational code is calling C libraries) are very hard to extend.\n",
    "\n",
    "Julia = answer :) "
   ]
  },
  {
   "attachments": {},
   "cell_type": "markdown",
   "metadata": {},
   "source": [
    "# Exercises\n",
    "\n",
    "These exercises will require you to search things on the online documentation of the pacakges. (because this is an integral part of the process of \"learning a Julia package\")"
   ]
  },
  {
   "cell_type": "markdown",
   "metadata": {},
   "source": [
    "\n",
    "## Bouncing ball\n",
    "\n",
    "Using the callback functionality of DifferentialEquations.jl, implement the bouncing ball physical system:\n",
    "\n",
    "$$\n",
    "\\begin{aligned}\n",
    "\\dot{x} &= v \\\\\n",
    "\\dot{v} &= -g - \\gamma v \n",
    "\\end{aligned}\n",
    "$$\n",
    "and at $x=0$ there is a table that the ball bounces from. $g$ is the gravity constant and $\\gamma$ the air friction (use e.g. $g=10, \\gamma = 0.99, x = 1, v = 0$). Implement this problem for elastic collisions (elastic collisions preserve velocity measure), and plot the time evolution of $x, v$ versus time.\n",
    "\n",
    "*Hint: whenever the ball reaches the level $x=0$, its velocity should be reversed.*"
   ]
  },
  {
   "cell_type": "markdown",
   "metadata": {},
   "source": [
    "\n",
    "## Distribution quantile\n",
    "\n",
    "To find the $q$-th quantile of a distribution, one can use a Newton method\n",
    "\n",
    "$$\\theta_{n+1} = \\theta_n -\\frac{\\text{cdf}(\\theta)−q}{\\text{pdf}(\\theta)}$$\n",
    "\n",
    "where $\\theta_n$ converges to the value of the $q$-th quantile. cdf and pdf are the cumulatide and probability density functions respectively.\n",
    "\n",
    "Write a generic function that implements the algorithm which calculates the qth quantile of any `UnivariateDistribution` in Distributions.jl, and test your result against the `quantile(d::UnivariateDistribution, q::Number)` function from Distributions.jl using the following distributions: `[Gamma(5, 1), Normal(0, 1), Beta(2, 4)]`.\n",
    "\n",
    "*Hint: use `θ₀ = mean(distribution)`*\n"
   ]
  },
  {
   "cell_type": "markdown",
   "metadata": {},
   "source": [
    "\n",
    "## Plotting subsets of a dataframe\n",
    "\n",
    "`DataFrames` has a default dataset that is used in its test suite. Install the `CSV` package, and load this dataset with the command:\n",
    "```julia\n",
    "using DataFrames, CSV\n",
    "iris = DataFrame(CSV.File(\n",
    "    joinpath(dirname(pathof(DataFrames)), \n",
    "    \"../docs/src/assets/iris.csv\")\n",
    "))\n",
    "```\n",
    "\n",
    "This dataset has various flower species (column `:Species`). For every species create a 1x2 figure with the following plots:\n",
    "\n",
    "* [1,1] = scatter plot of `SepalLength` vs `SepalWidth`. \n",
    "* [1,2] = scatter plot of `PetalLength` vs `PetalWidth`.\n",
    "\n",
    "for each of these sub-scatter plots, calculate and print the Pearson correlaton coefficient.\n"
   ]
  },
  {
   "cell_type": "markdown",
   "metadata": {},
   "source": [
    "\n",
    "## DataFrame of chaos\n",
    "\n",
    "Define the Roessler system as a `DynamicalSystem`:\n",
    "$$\n",
    "\\begin{aligned}\n",
    "\\dot{x} &= -y-z \\\\\n",
    "\\dot{y} &= x+ay \\\\\n",
    "\\dot{z} &= b + z(x-c)\n",
    "\\end{aligned}\n",
    "$$\n",
    "with initial condition `ones(3)`. Loop over all three of the following parameter ranges:\n",
    "```julia\n",
    "as = 0.15:0.025:0.25\n",
    "bs = 0.15:0.025:0.25\n",
    "cs = 4:0.1:6.0\n",
    "```\n",
    "\n",
    "and for each parameter combination calculate (1) the Lyapunov spectrum using `lyapunovspectrum` and (2) the Shannon entropy of the system's trajectory. For the entropy, simulate a `trajectory` of the system with sampling time `Δt=0.1` and use `ε=0.1` for the box size when calling `DynamicalSystems.entropy(ValueHistogram(ε), X))`. For changing parameters you have to use `set_parameter!`. Remember that you can push entries to a `DataFrame` row-by-row using `push!(dataframe, (a = a, b = b, ...))`.\n",
    "\n",
    "Collect this analysis into a dataframe, with columns `a, b, c, λ1, λ3, H` with `λ1, λ3` the first and last elements of `lyapunovspectrum`. Then use the querying framework to query into this dataframe and do the following processes:\n",
    "\n",
    "####  find chaotic parameter sets\n",
    "Select all values `a, b, c` where `λ1 > 0.01` (which indicates chaotic dynamics).\n",
    "\n",
    "####  λ vs H\n",
    "For all chaotic cases, select the `λ1, H` values and then perform a scatter plot of these two.\n",
    "\n",
    "#### heatmap of H\n",
    "For `a` fixed to `0.2`, plot a heatmap of the value of `H` with axis the values of `c` and the values of `b`. Provided that you have a dataframe with columns `:b, :c, :H`, then these commands:\n",
    "```julia\n",
    "unstacked = unstack(df, :b,  :H; renamecols = (x -> \"H for b=$(x)\"))\n",
    "heat = Matrix(unstacked[:, Not(:c)])\n",
    "```\n",
    "will create a matrix with the values of `H` where the row index is the values of `c` and the column index is the values of `b`.\n",
    "\n",
    "*Hint: you can initiallize an empty dataframe with `df = DataFrame()`, and then start pushing into it arbitrary named tuples like `push!(df, (a = 0.5, b = 0.5))`.*\n",
    "\n",
    "*Hint 2: this all sounds like a lot of computation, but if you do the exercise correct running all code should not take more than 10 seconds.*\n"
   ]
  },
  {
   "cell_type": "markdown",
   "metadata": {},
   "source": [
    "## Textbook optimization problem"
   ]
  },
  {
   "cell_type": "markdown",
   "metadata": {},
   "source": [
    "Use BlackBoxOptim.jl to find the minimum of the Rozenbrock function, defined as\n",
    "$$\n",
    "f(x,y) = (2 - x)^2 + 100(y - x^2)^2\n",
    "$$\n",
    "limiting the search range to $x =(-5, 5)$ and $y = (0, 10)$. Confirm that the global minimum is $(2, 4)$."
   ]
  },
  {
   "cell_type": "markdown",
   "metadata": {},
   "source": [
    "## Reproducible scientific project\n",
    "*this exercise only applies to participants that already know Git*\n",
    "\n",
    "* Use DrWatson's `initialize_project` to start a scientific project somewhere on your computer. \n",
    "* Add the packages `JLD2, Distributions` to this project. \n",
    "* In the `scripts` folder create a new Julia script that uses three parameters `a, b, c ∈ Reals` and creates a random result `r`. Save this result into disk by using `savename` to produce a name from `a, b, c`, and using `tagsave` to do the actual saving.\n",
    "* Save your script, and commit it into Git. Then run the script, load the saved file, and confirm that the saved git commit ID matches that of your Git repo.\n"
   ]
  }
 ],
 "metadata": {
  "kernelspec": {
   "display_name": "Julia 1.9.1",
   "language": "julia",
   "name": "julia-1.9"
  },
  "language_info": {
   "file_extension": ".jl",
   "mimetype": "application/julia",
   "name": "julia",
   "version": "1.9.1"
  }
 },
 "nbformat": 4,
 "nbformat_minor": 2
}
