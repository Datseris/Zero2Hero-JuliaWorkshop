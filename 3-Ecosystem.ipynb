{
 "cells": [
  {
   "attachments": {},
   "cell_type": "markdown",
   "metadata": {},
   "source": [
    "# Julia ecosystems in scientific computing\n",
    "\n",
    "There are many Julia organizations about seemingly every scientific area. Some examples:\n",
    "\n",
    "- Astrophysics: [JuliaAstro](https://juliaastro.github.io/), [JuliaSpace](https://github.com/JuliaSpace)\n",
    "- Bio/Chemistry: [JuliaBio](https://biojulia.net/), [Molecular simulations](https://github.com/JuliaMolSim)\n",
    "- Complex systems, nonlinear dynamics: [JuliaDynamics](https://juliadynamics.github.io/JuliaDynamics/)\n",
    "- Differential equations and scientific machine learning: [SciML](https://sciml.ai/)\n",
    "- Solid state: [QuantumOptics](https://qojulia.org/), [JuliaPhysics](https://github.com/JuliaPhysics)\n",
    "- Economics: [QuantEcon](https://julia.quantecon.org/), [JuliaQuant](https://github.com/JuliaQuant)\n",
    "- Geosciences/Climate: [JuliaGeo](https://github.com/JuliaGeo), [JuliaEarth](https://github.com/JuliaEarth), [JuliaClimate](https://github.com/JuliaClimate)\n",
    "\n",
    "among many many others, such as several mathematics-oriented organizations such as optimization, etc.\n",
    "\n",
    "In this session we will (**very briefly**) overview some powerful Julia packages I found useful for *my own work* and hopefully you will too. Even if the packages relevant for me are not useful in your field, it is still good practice to solve the exercises, to \"learn how to learn Julia packages\". \n",
    "\n",
    "**This session does not attempt to do any _scientific_ teaching. It is likely that some of the things that I'll mention you won't know what they mean. That's okay, because here we are just looking at how some packages work.**"
   ]
  },
  {
   "cell_type": "code",
   "execution_count": 1,
   "metadata": {},
   "outputs": [
    {
     "name": "stderr",
     "output_type": "stream",
     "text": [
      "\u001b[32m\u001b[1m  Activating\u001b[22m\u001b[39m project at `c:\\Users\\datse\\OneDrive - University of Exeter\\Teaching\\Zero2Hero-JuliaWorkshop`\n"
     ]
    },
    {
     "name": "stdout",
     "output_type": "stream",
     "text": [
      "\u001b[32m\u001b[1mStatus\u001b[22m\u001b[39m `C:\\Users\\datse\\OneDrive - University of Exeter\\Teaching\\Zero2Hero-JuliaWorkshop\\Project.toml`\n",
      "  \u001b[90m[6e4b80f9] \u001b[39mBenchmarkTools v1.3.2\n",
      "  \u001b[90m[a134a8b2] \u001b[39mBlackBoxOptim v0.6.2\n",
      "\u001b[32m⌃\u001b[39m \u001b[90m[13f3f980] \u001b[39mCairoMakie v0.10.7\n",
      "  \u001b[90m[a93c6f00] \u001b[39mDataFrames v1.6.1\n",
      "  \u001b[90m[31c24e10] \u001b[39mDistributions v0.25.100\n",
      "  \u001b[90m[634d3b9d] \u001b[39mDrWatson v2.12.7\n",
      "  \u001b[90m[61744808] \u001b[39mDynamicalSystems v3.2.0\n",
      "\u001b[32m⌃\u001b[39m \u001b[90m[1dea7af3] \u001b[39mOrdinaryDiffEq v6.53.4\n",
      "  \u001b[90m[1a8c2f83] \u001b[39mQuery v1.0.0\n",
      "  \u001b[90m[1e83bf80] \u001b[39mStaticArraysCore v1.4.2\n",
      "\u001b[36m\u001b[1mInfo\u001b[22m\u001b[39m Packages marked with \u001b[32m⌃\u001b[39m have new versions available and may be upgradable.\n"
     ]
    }
   ],
   "source": [
    "import Pkg\n",
    "Pkg.activate(@__DIR__)\n",
    "Pkg.status()"
   ]
  },
  {
   "cell_type": "code",
   "execution_count": 78,
   "metadata": {},
   "outputs": [],
   "source": [
    "# quick theme change for plotting in zoomed-in notebooks\n",
    "using CairoMakie\n",
    "update_theme!(resolution = (500, 300), fontsize = 16)"
   ]
  },
  {
   "attachments": {},
   "cell_type": "markdown",
   "metadata": {},
   "source": [
    "# DifferentialEquations.jl\n",
    "\n",
    "[DifferentialEquations.jl](https://docs.sciml.ai/DiffEqDocs/dev/index.html) is by far [the best](https://docs.sciml.ai/SciMLBenchmarksOutput/stable/MultiLanguage/ode_wrapper_packages/) free and open source differential equations solver (not for Julia, for any language): it is orders of magnitude faster and has orders of mangitude more features than anything else out there. It can solve standard ODEs, Delay-DEs, stochastic DEs, has tools for PDEs, event handling, other multiple features, 100s of solvers, and more. Above all, it is the central part of a whole organization focused on scientific machine learning (SciML) and the basis for [ModelingToolkit.jl](https://docs.sciml.ai/ModelingToolkit/dev/), a library for building simulations from symbolic definitions.\n",
    "\n",
    "Here we will focus on Ordinary Differential Equations (ODEs) solving and use the module `OrdinaryDiffEq` only."
   ]
  },
  {
   "attachments": {},
   "cell_type": "markdown",
   "metadata": {},
   "source": [
    "\n",
    "## Defining and solving some ODEs\n",
    "\n",
    "The way DifferentialEquations.jl works is quite straightforward:\n",
    "\n",
    "1. Make your set of ODEs a Julia function `f`\n",
    "2. Put `f`, an initial state and a parameter container into an `ODEProblem`.\n",
    "2. Choose the solvers and the arguments of the solvers you will use (e.g. tolerances, etc.)\n",
    "3. Give `f` as well as the auxiliary arguments to the function `solve`!\n",
    "\n",
    "Let's see it in practice by solving the Thomas cyclical system\n",
    "\n",
    "$$\n",
    "\\begin{aligned}\n",
    "\\dot{x} &= \\sin(y) - bx\\\\\n",
    "\\dot{y} &= \\sin(z) - by\\\\\n",
    "\\dot{z} &= \\sin(x) - bz\n",
    "\\end{aligned}\n",
    "$$\n",
    "\n",
    "First step is to make this a Julia function. There is some strictness when writing this function in Julia (to play well with another software, see below). \n",
    "Specifically, it can only be one of two forms: out-of-place (**oop**) or in-place (**iip**). Here is how to define it (`p` is the parameter container, `t` is time):\n",
    "\n",
    "* **oop** : The `eom` function must be in the form `eom(x, p, t) -> SVector`\n",
    "  which means that given a state `x::SVector` it returns an `SVector`\n",
    "  (from the [StaticArrays.jl](https://github.com/JuliaArrays/StaticArrays.jl) package)\n",
    "  containing the derivatives.\n",
    "* **iip** : The `eom` function must be in the form `eom!(dx, x, p, t)`\n",
    "  which means that given a state `x::AbstractArray` it writes in-place the derivatives in `dx`, which is the same type of `x`. Note that this type of `dx` needs to be mutable.\n",
    "\n",
    "A rule of thumb is to use **oop** for systems with dimension ≤ 10, and use **iip** otherwise, but it is always better to benchmark individual cases."
   ]
  },
  {
   "cell_type": "code",
   "execution_count": 79,
   "metadata": {},
   "outputs": [
    {
     "data": {
      "text/plain": [
       "thomas_rule (generic function with 1 method)"
      ]
     },
     "metadata": {},
     "output_type": "display_data"
    }
   ],
   "source": [
    "using OrdinaryDiffEq, StaticArraysCore\n",
    "\n",
    "function thomas_rule(u, p, t)\n",
    "    x,y,z = u\n",
    "    b = p[1]\n",
    "    xdot = sin(y) - b*x\n",
    "    ydot = sin(z) - b*y\n",
    "    zdot = sin(x) - b*z\n",
    "    return SVector(xdot, ydot, zdot)\n",
    "end"
   ]
  },
  {
   "attachments": {},
   "cell_type": "markdown",
   "metadata": {},
   "source": [
    "Then set the initial state and parameter container"
   ]
  },
  {
   "cell_type": "code",
   "execution_count": 80,
   "metadata": {},
   "outputs": [
    {
     "data": {
      "text/plain": [
       "1-element Vector{Float64}:\n",
       " 0.2"
      ]
     },
     "metadata": {},
     "output_type": "display_data"
    }
   ],
   "source": [
    "u₀ = SVector(1.0, 1.0, 2.0)\n",
    "p₀ = [0.2]"
   ]
  },
  {
   "attachments": {},
   "cell_type": "markdown",
   "metadata": {},
   "source": [
    "then put everything into the `ODEProblem` structure:"
   ]
  },
  {
   "cell_type": "code",
   "execution_count": 81,
   "metadata": {
    "scrolled": true
   },
   "outputs": [
    {
     "data": {
      "text/plain": [
       "\u001b[38;2;86;182;194mODEProblem\u001b[0m with uType \u001b[38;2;86;182;194mSVector{3, Float64}\u001b[0m and tType \u001b[38;2;86;182;194mFloat64\u001b[0m. In-place: \u001b[38;2;86;182;194mfalse\u001b[0m\n",
       "timespan: (0.0, 1000.0)\n",
       "u0: 3-element SVector{3, Float64} with indices SOneTo(3):\n",
       " 1.0\n",
       " 1.0\n",
       " 2.0"
      ]
     },
     "metadata": {},
     "output_type": "display_data"
    }
   ],
   "source": [
    "# third argument is the timespan to solve in\n",
    "timespan = (0.0, 1000.0)\n",
    "prob = ODEProblem(thomas_rule, u₀, timespan, p₀)"
   ]
  },
  {
   "attachments": {},
   "cell_type": "markdown",
   "metadata": {},
   "source": [
    "Alright, so now we choose the solver algorithm to use. We will discuss this choice in more detail later, but for now we use the default choice of DifferentialEquations.jl."
   ]
  },
  {
   "cell_type": "code",
   "execution_count": 82,
   "metadata": {},
   "outputs": [],
   "source": [
    "alg = Tsit5();"
   ]
  },
  {
   "attachments": {},
   "cell_type": "markdown",
   "metadata": {},
   "source": [
    "Now let's solve the Lorenz system using the default settings of DifferentialEquations.jl (without specifying anything else)."
   ]
  },
  {
   "cell_type": "code",
   "execution_count": 83,
   "metadata": {},
   "outputs": [
    {
     "data": {
      "text/plain": [
       "retcode: Success\n",
       "Interpolation: specialized 4th order \"free\" interpolation\n",
       "t: 813-element Vector{Float64}:\n",
       "    0.0\n",
       "    0.1120521120556666\n",
       "    0.44378050362673405\n",
       "    0.9136032386187993\n",
       "    1.4662849360622896\n",
       "    2.1996084447411617\n",
       "    3.2045208465180144\n",
       "    4.085242874574744\n",
       "    5.129213529677106\n",
       "    6.241261975411241\n",
       "    ⋮\n",
       "  989.016132424067\n",
       "  990.5662995899445\n",
       "  992.2501718499245\n",
       "  993.7379049054462\n",
       "  995.4297636802733\n",
       "  996.8774606957784\n",
       "  998.3576943762309\n",
       "  999.7917754461864\n",
       " 1000.0\n",
       "u: 813-element Vector{SVector{3, Float64}}:\n",
       " [1.0, 1.0, 2.0]\n",
       " [1.073328946367455, 1.077382180107541, 2.0510228820916896]\n",
       " [1.3010643606418302, 1.279441630927924, 2.216402304246613]\n",
       " [1.6249069901838225, 1.4855826850617537, 2.4616668952552936]\n",
       " [1.9777425718824548, 1.6017467387163078, 2.7100439922221256]\n",
       " [2.3894984994256565, 1.599089872828173, 2.8904410244887484]\n",
       " [2.8649074514787682, 1.5483523437301538, 2.795240578177487]\n",
       " [3.208555980288333, 1.6972897987475106, 2.4194479820781427]\n",
       " [3.4778227799375907, 2.1819868451227604, 1.753099531195561]\n",
       " [3.3933461412228625, 2.708362984477085, 1.0818668759219525]\n",
       " ⋮\n",
       " [2.460168169657819, 2.8024727962190834, 2.5068456503259045]\n",
       " [2.2852901415734967, 2.689163931499818, 2.785681701963606]\n",
       " [2.52122981822636, 2.2297464182022533, 2.988390666694459]\n",
       " [3.0045071575336513, 1.9933275678600462, 2.6791203178136844]\n",
       " [3.2858784342120217, 2.510241437106069, 1.817283187761961]\n",
       " [2.815492334701153, 3.1283413228966555, 1.4130550225808411]\n",
       " [1.7856597259537317, 3.58847205956326, 1.9596423661484268]\n",
       " [0.7560993635838374, 3.570261227193435, 2.5894890477466204]\n",
       " [0.6443103376380805, 3.529081714957839, 2.614991830749762]"
      ]
     },
     "metadata": {},
     "output_type": "display_data"
    }
   ],
   "source": [
    "sol = solve(prob; alg) # provide solver algorithm as keyword `alg`"
   ]
  },
  {
   "attachments": {},
   "cell_type": "markdown",
   "metadata": {},
   "source": [
    "Okay, so what is the returned result? We didn't specify when to save or anything...\n",
    "\n",
    "The solver we chose, `Tsit5`, is an _adaptive step solver_. The system is evolved with an adaptive step size, so that the step error tolerance stays below a pre-defined level. The system is evolved until we reach the end of the time span. A state is recorded at every step the solver algorithm takes naturally. E.g. the solution at the third step is"
   ]
  },
  {
   "cell_type": "code",
   "execution_count": 84,
   "metadata": {},
   "outputs": [
    {
     "data": {
      "text/plain": [
       "813-element Vector{Float64}:\n",
       "    0.0\n",
       "    0.1120521120556666\n",
       "    0.44378050362673405\n",
       "    0.9136032386187993\n",
       "    1.4662849360622896\n",
       "    2.1996084447411617\n",
       "    3.2045208465180144\n",
       "    4.085242874574744\n",
       "    5.129213529677106\n",
       "    6.241261975411241\n",
       "    ⋮\n",
       "  989.016132424067\n",
       "  990.5662995899445\n",
       "  992.2501718499245\n",
       "  993.7379049054462\n",
       "  995.4297636802733\n",
       "  996.8774606957784\n",
       "  998.3576943762309\n",
       "  999.7917754461864\n",
       " 1000.0"
      ]
     },
     "metadata": {},
     "output_type": "display_data"
    }
   ],
   "source": [
    "sol.t"
   ]
  },
  {
   "cell_type": "markdown",
   "metadata": {},
   "source": [
    "The solution is guaranteed to start and stop at the limits of the time span (by default).\n",
    "\n",
    "We can obtain the state at the 3rd time point from the `u` field:"
   ]
  },
  {
   "cell_type": "code",
   "execution_count": 85,
   "metadata": {},
   "outputs": [
    {
     "data": {
      "text/plain": [
       "(0.44378050362673405, [1.3010643606418302, 1.279441630927924, 2.216402304246613])"
      ]
     },
     "metadata": {},
     "output_type": "display_data"
    }
   ],
   "source": [
    "(sol.t[3], sol.u[3])"
   ]
  },
  {
   "attachments": {},
   "cell_type": "markdown",
   "metadata": {},
   "source": [
    "Because of the mechanics of the solver, `sol` object allows arbitrary interpolation in time by saving some extra derivative-related numbers. This means that we can use `sol` as a function of time, `sol(t)`:"
   ]
  },
  {
   "cell_type": "code",
   "execution_count": 86,
   "metadata": {},
   "outputs": [
    {
     "data": {
      "text/plain": [
       "3-element SVector{3, Float64} with indices SOneTo(3):\n",
       " 3.495862759011857\n",
       " 2.4335212815593588\n",
       " 1.4402755303498724"
      ]
     },
     "metadata": {},
     "output_type": "display_data"
    }
   ],
   "source": [
    "sol(5.6)"
   ]
  },
  {
   "cell_type": "markdown",
   "metadata": {},
   "source": [
    "We can iterate over some time to create a (multivariate) timeseries"
   ]
  },
  {
   "cell_type": "code",
   "execution_count": 87,
   "metadata": {},
   "outputs": [
    {
     "data": {
      "image/png": "[encoded data removed]"
     },
     "metadata": {},
     "output_type": "display_data"
    }
   ],
   "source": [
    "t = timespan[1]:0.1:timespan[end]\n",
    "X, Y, Z = zero(t), zero(t), zero(t)\n",
    "for (i, τ) in enumerate(t)\n",
    "    X[i], Y[i], Z[i] = sol(τ)\n",
    "end\n",
    "lines(X, Y, Z; axis = (type = Axis3, azimuth = 0.75π))"
   ]
  },
  {
   "attachments": {},
   "cell_type": "markdown",
   "metadata": {},
   "source": [
    "Notice that it is possible to skip this advanced feature of interpolation (and thus also skip collecting the extra interpolation-related numbers) and only save at some pre-defined time points by passing the extra keyword argument `saveat = points_I_want` to the `solve` call."
   ]
  },
  {
   "cell_type": "code",
   "execution_count": 88,
   "metadata": {},
   "outputs": [
    {
     "data": {
      "text/plain": [
       "10001-element Vector{Float64}:\n",
       "    0.0\n",
       "    0.1\n",
       "    0.2\n",
       "    0.3\n",
       "    0.4\n",
       "    0.5\n",
       "    0.6\n",
       "    0.7\n",
       "    0.8\n",
       "    0.9\n",
       "    ⋮\n",
       "  999.2\n",
       "  999.3\n",
       "  999.4\n",
       "  999.5\n",
       "  999.6\n",
       "  999.7\n",
       "  999.8\n",
       "  999.9\n",
       " 1000.0"
      ]
     },
     "metadata": {},
     "output_type": "display_data"
    }
   ],
   "source": [
    "t = timespan[1]:0.1:timespan[end]\n",
    "sol = solve(prob; alg, saveat = t)\n",
    "sol.t"
   ]
  },
  {
   "cell_type": "markdown",
   "metadata": {},
   "source": [
    "## Using callbacks for triggering events during time evolution"
   ]
  },
  {
   "cell_type": "markdown",
   "metadata": {},
   "source": [
    "DifferentialEquations.jl implements a simple interface so that \"events\" (arbitrary things) can be triggered to after your solution as it is progressing in time. This is done with the [`Callback` interface](https://docs.sciml.ai/DiffEqDocs/dev/features/callback_functions/). For example, a `ContinuousCallback` represents an event that \"triggers\" when a continuous univariate function of the (state, time) reaches the value 0. Similarly, a `DiscreteCallback` triggers when a Boolean function of the (state, time) evaluates to `true`.\n",
    "\n",
    "Let's modify the Thomas cyclical system so that a condition triggers each time the third variable becomes zero:\n"
   ]
  },
  {
   "cell_type": "code",
   "execution_count": 89,
   "metadata": {},
   "outputs": [
    {
     "data": {
      "text/plain": [
       "condition (generic function with 1 method)"
      ]
     },
     "metadata": {},
     "output_type": "display_data"
    }
   ],
   "source": [
    "# The third argument of this function is mandatory but too advanced for this lecture\n",
    "condition(u, t, integrator) = u[3]"
   ]
  },
  {
   "cell_type": "markdown",
   "metadata": {},
   "source": [
    "We then define a function that modifies the integrator object. the integrator object is too complicated to explain within this lecture; but we mainly care about the fields `.u` and `.p` that access current state and parameter values. "
   ]
  },
  {
   "cell_type": "code",
   "execution_count": 90,
   "metadata": {},
   "outputs": [
    {
     "data": {
      "text/plain": [
       "affect! (generic function with 1 method)"
      ]
     },
     "metadata": {},
     "output_type": "display_data"
    }
   ],
   "source": [
    "function affect!(integrator)\n",
    "    u = integrator.u\n",
    "    integrator.u = 1.5u\n",
    "end"
   ]
  },
  {
   "cell_type": "markdown",
   "metadata": {},
   "source": [
    "The trigger `condition` and how it will `affect!` the integration are wrapped in continuous callback, which is given to the `solve` call."
   ]
  },
  {
   "cell_type": "code",
   "execution_count": 91,
   "metadata": {},
   "outputs": [],
   "source": [
    "cb = ContinuousCallback(condition, affect!);"
   ]
  },
  {
   "cell_type": "code",
   "execution_count": 92,
   "metadata": {},
   "outputs": [
    {
     "data": {
      "image/png": "[encoded data removed]"
     },
     "metadata": {},
     "output_type": "display_data"
    }
   ],
   "source": [
    "sol = solve(prob; alg, saveat = t, callback = cb)\n",
    "# plot\n",
    "lines(sol.u; axis = (type = Axis3,))"
   ]
  },
  {
   "cell_type": "markdown",
   "metadata": {},
   "source": [
    "## Choosing a solver\n",
    "\n",
    "So far we have not discussed _how_ the ODE is solved. \n",
    "A solver algorithm is chosen when a solution is requested.\n",
    "So far we have been using `Tsit5`, which is also the overall default that DifferentialEquations.jl uses. But, DifferentialEquations.jl has an impressive list of [100s of solvers one can choose from](https://docs.sciml.ai/DiffEqDocs/dev/solvers/ode_solve/).\n",
    "\n",
    "Choosing the solver is a problem-dependent operation. We'll cover here two typical examples.\n",
    "\n",
    "\n"
   ]
  },
  {
   "cell_type": "markdown",
   "metadata": {},
   "source": [
    "### Higher accuracy, higher order\n",
    "\n",
    "The solver `Tsit5` is most performant when medium-high error tolerances are requested. When we require very small errors, choosing a different solver can be more accurate. This can be especially impactful for chaotic dynamical systems. Let's first expliclty ask for a given accuracy when solving the ODE by passing the keywords `abstol, reltol` (for absolute and relative tolerance respectively):\n"
   ]
  },
  {
   "cell_type": "code",
   "execution_count": 93,
   "metadata": {},
   "outputs": [
    {
     "data": {
      "image/png": "[encoded data removed]"
     },
     "metadata": {},
     "output_type": "display_data"
    }
   ],
   "source": [
    "sol = solve(prob; alg, saveat = t, abstol = 1e-12, reltol = 1e-12)\n",
    "lines(sol.u; axis = (type = Axis3,))"
   ]
  },
  {
   "cell_type": "markdown",
   "metadata": {},
   "source": [
    "Let's now benchmark how much time it takes to solve the problem with the default `Tsit5` solver:"
   ]
  },
  {
   "cell_type": "code",
   "execution_count": 94,
   "metadata": {},
   "outputs": [
    {
     "name": "stdout",
     "output_type": "stream",
     "text": [
      "  11.610 ms (32 allocations: 719.62 KiB)\n"
     ]
    }
   ],
   "source": [
    "using BenchmarkTools\n",
    "@btime solve(prob; alg, saveat = t, abstol = 1e-12, reltol = 1e-12);"
   ]
  },
  {
   "cell_type": "markdown",
   "metadata": {},
   "source": [
    "Let's see how the higher-order solver `Vern9`, which is better suited for high accuracy, performs:"
   ]
  },
  {
   "cell_type": "code",
   "execution_count": 95,
   "metadata": {},
   "outputs": [
    {
     "name": "stdout",
     "output_type": "stream",
     "text": [
      "  5.304 ms (33 allocations: 720.78 KiB)\n"
     ]
    }
   ],
   "source": [
    "using BenchmarkTools\n",
    "@btime solve(prob; alg = Vern9(), saveat = t, abstol = 1e-12, reltol = 1e-12);"
   ]
  },
  {
   "cell_type": "markdown",
   "metadata": {},
   "source": [
    "## Stiff problems\n",
    "\n",
    "A \"stiff\" ODE problem is one that can be numerically unstable unless the step size (or equivalently, the step error tolerances) are extremely small. There are several situations where a problem may be come \"stiff\":\n",
    "\n",
    "- The derivative values can get very large for some state values.\n",
    "- There is a large _timescale separation_ between the dynamics of the variables\n",
    "- There is a large _timescale separation_ between the dynamics of different state space regions\n",
    "\n",
    "One must be aware whether this is possible for their system and choose a solver that is better suited to tackle stiff problems. If not, a solution may diverge and the ODE integrator will throw an error or a warning.\n",
    "\n",
    "Many of the problems in DifferentialEquations.jl are suitable for dealing with stiff problems. We can create a stiff problem by using the well known Van der Pol  oscillator _with a timescale separation_:\n",
    "\n",
    "$$\n",
    "\\begin{aligned}\n",
    "\\dot{x} & = y \\\\\n",
    "\\dot{y} /  \\mu &= (1-x^2)y - x\n",
    "\\end{aligned}\n",
    "$$\n",
    "\n",
    "with $\\mu$ being the timescale of the $y$ variable in units of the timescale of the $x$ variable. For very large values of $\\mu$ this problem becomes stiff."
   ]
  },
  {
   "cell_type": "code",
   "execution_count": 96,
   "metadata": {},
   "outputs": [
    {
     "name": "stdout",
     "output_type": "stream",
     "text": [
      "  826.027 ms (27 allocations: 55.27 KiB)\n"
     ]
    },
    {
     "name": "stdout",
     "output_type": "stream",
     "text": [
      "  170.600 ms (1744781 allocations: 51.08 MiB)\n"
     ]
    }
   ],
   "source": [
    "function vanderpol_rule(u, μ, t)\n",
    "    x, y = u\n",
    "    dx = y\n",
    "    dy = μ*((1-x^2)*y - x)\n",
    "    return SVector(dx, dy)\n",
    "end\n",
    "\n",
    "μ = 1e6\n",
    "prob = ODEProblem(vanderpol_rule, SVector(1.0, 1.0), (0.0, 10.0), μ)\n",
    "@btime solve(prob; alg = Tsit5(), abstol = 1e-12, reltol = 1e-12, saveat = 0.01, maxiters = typemax(Int))\n",
    "@btime solve(prob; alg = Rodas5P(), abstol = 1e-12, reltol = 1e-12, saveat = 0.01, maxiters = typemax(Int));"
   ]
  },
  {
   "cell_type": "markdown",
   "metadata": {},
   "source": [
    "We see that the stiff solver `Rodas5P` is much faster than the default `Tsit5` when there is a large timescale separation. This happened because `Rodas5P` required much less steps to integrated the same total amount of time. In fact, there are cases where regular solvers will _fail_ to integrate the ODE if the problem is very stiff, e.g. in the [ROBER example](https://docs.sciml.ai/SciMLBenchmarksOutput/stable/StiffODE/ROBER/)."
   ]
  },
  {
   "attachments": {},
   "cell_type": "markdown",
   "metadata": {},
   "source": [
    "# DynamicalSystems.jl\n",
    "[DynamicalSystems.jl](https://juliadynamics.github.io/DynamicalSystems.jl/dev/) is an award-winning library for nonlinear dynamics and nonlinear dynamics. \n",
    "\n",
    "*Disclaimer: I am one of the developers of this library.*"
   ]
  },
  {
   "attachments": {},
   "cell_type": "markdown",
   "metadata": {},
   "source": [
    "## Using a dynamical system"
   ]
  },
  {
   "attachments": {},
   "cell_type": "markdown",
   "metadata": {},
   "source": [
    "Part of the functionality offered by DynamicalSystems.jl utilizes OrdinaryDiffEq.jl to evolve continuous time systems and compute quantities relevant for nonlinear dynamics, such as Lyapunov exponents. Same works for discrete time systems but there there is no need for an external package to evolve them."
   ]
  },
  {
   "attachments": {},
   "cell_type": "markdown",
   "metadata": {},
   "source": [
    "Making a `DynamicalSystem` is almost identical to making an `ODEProblem`, but you don't have to specify the time span. In steps:\n",
    "\n",
    "1. Make $f$ a Julia function (using the same syntax as in OrdinaryDiffEq.jl) representing the dynamic rule of the system.\n",
    "2. Choose initial state and parameter container (again same as OrdinaryDiffEq.jl).\n",
    "3. Pass these arguments to the `CoupledODEs` constructor (or `DeterministicIteratedMap`, for discrete systems).\n",
    "\n",
    "Here we already have `thomas_rule, u₀, p₀` defined above for the Thomas system, which is\n",
    "\n",
    "$$\n",
    "\\begin{aligned}\n",
    "\\dot{x} &= \\sin(y) - bx\\\\\n",
    "\\dot{y} &= \\sin(z) - by\\\\\n",
    "\\dot{z} &= \\sin(x) - bz\n",
    "\\end{aligned}\n",
    "$$\n",
    "\n",
    "so to put this in DynamicalSystems.jl is kind of trivial:"
   ]
  },
  {
   "cell_type": "code",
   "execution_count": 151,
   "metadata": {},
   "outputs": [
    {
     "data": {
      "text/plain": [
       "3-dimensional CoupledODEs\n",
       " deterministic: true\n",
       " discrete time: false\n",
       " in-place:      false\n",
       " dynamic rule:  thomas_rule\n",
       " ODE solver:    Tsit5\n",
       " ODE kwargs:    (abstol = 1.0e-6, reltol = 1.0e-6)\n",
       " parameters:    [0.2]\n",
       " time:          0.0\n",
       " state:         [1.0, 1.0, 2.0]\n"
      ]
     },
     "metadata": {},
     "output_type": "display_data"
    }
   ],
   "source": [
    "using DynamicalSystems\n",
    "thomas = CoupledODEs(thomas_rule, u₀, p₀)"
   ]
  },
  {
   "attachments": {},
   "cell_type": "markdown",
   "metadata": {},
   "source": [
    "Then we can use this `thomas` object in various functions of the library. For example, to obtain the Lyapunov spectrum you use `lyapunovspectrum`:"
   ]
  },
  {
   "cell_type": "code",
   "execution_count": 98,
   "metadata": {},
   "outputs": [
    {
     "data": {
      "text/plain": [
       "3-element Vector{Float64}:\n",
       "  0.002080265970671607\n",
       " -0.005557932793430534\n",
       " -0.5965199974291404"
      ]
     },
     "metadata": {},
     "output_type": "display_data"
    }
   ],
   "source": [
    "lyapunovspectrum(thomas, 10000) # 2nd argument is for how much time to evolve"
   ]
  },
  {
   "attachments": {},
   "cell_type": "markdown",
   "metadata": {},
   "source": [
    "Same story happens if you want to get only the maximum Lyapunov exponent. You use the function `lyapunov` (which uses a different algorithm):"
   ]
  },
  {
   "cell_type": "code",
   "execution_count": 99,
   "metadata": {},
   "outputs": [
    {
     "data": {
      "text/plain": [
       "0.001914273255323101"
      ]
     },
     "metadata": {},
     "output_type": "display_data"
    }
   ],
   "source": [
    "lyapunov(thomas, 10000.0)"
   ]
  },
  {
   "cell_type": "markdown",
   "metadata": {},
   "source": [
    "Much more advanced behavior is possible. For example, the library has a module dedicated to multistable dynamical systems. We can use it to find all attractors, and their basin state space fraction, for the Thomas system, which becomes multistable at $b = 0.12$. First, we change the system parameter to this $b$ value:"
   ]
  },
  {
   "cell_type": "code",
   "execution_count": 100,
   "metadata": {},
   "outputs": [],
   "source": [
    "set_parameter!(thomas, 1, 0.1665)"
   ]
  },
  {
   "cell_type": "markdown",
   "metadata": {},
   "source": [
    "And then we utilize `AttractorsViaRecurrences` to find the attractors"
   ]
  },
  {
   "cell_type": "code",
   "execution_count": 101,
   "metadata": {},
   "outputs": [
    {
     "data": {
      "text/plain": [
       "Dict{Int64, Float64} with 3 entries:\n",
       "  2 => 0.307\n",
       "  3 => 0.342\n",
       "  1 => 0.351"
      ]
     },
     "metadata": {},
     "output_type": "display_data"
    }
   ],
   "source": [
    "# where to search attractors\n",
    "xg = yg = zg = range(-6, 6; length = 200)\n",
    "grid = (xg, yg, zg)\n",
    "mapper = AttractorsViaRecurrences(thomas, grid)\n",
    "sampler, = statespace_sampler(grid)\n",
    "fractions = basins_fractions(mapper, sampler)"
   ]
  },
  {
   "cell_type": "code",
   "execution_count": 102,
   "metadata": {},
   "outputs": [
    {
     "data": {
      "text/plain": [
       "Dict{Int32, StateSpaceSet{3, Float64}} with 3 entries:\n",
       "  2 => 3-dimensional StateSpaceSet{Float64} with 325 points\n",
       "  3 => 3-dimensional StateSpaceSet{Float64} with 325 points\n",
       "  1 => 3-dimensional StateSpaceSet{Float64} with 328 points"
      ]
     },
     "metadata": {},
     "output_type": "display_data"
    }
   ],
   "source": [
    "attractors = extract_attractors(mapper)"
   ]
  },
  {
   "cell_type": "code",
   "execution_count": 152,
   "metadata": {},
   "outputs": [
    {
     "data": {
      "image/png": "[encoded data removed]"
     },
     "metadata": {},
     "output_type": "display_data"
    }
   ],
   "source": [
    "# plot found attractors\n",
    "fig = Figure(resolution = (800, 600))\n",
    "ax = Axis3(fig[1,1])\n",
    "for (k, att) in attractors\n",
    "    scatter!(ax, vec(att); markersize = 6)\n",
    "end\n",
    "hidedecorations!(ax)\n",
    "fig"
   ]
  },
  {
   "cell_type": "code",
   "execution_count": 104,
   "metadata": {},
   "outputs": [],
   "source": [
    "# reset parameter to previous one\n",
    "set_parameter!(thomas, 1, 0.2)"
   ]
  },
  {
   "cell_type": "markdown",
   "metadata": {},
   "source": [
    "# Optimization with BlackBoxOptim.jl\n",
    "\n",
    "Julia offers an incredible array of optimization packages. There is an ongoing effort to build a _common interface_ across all optimization packages, which can be found in [Optimization.jl](https://docs.sciml.ai/Optimization/stable/). Here, we will show and use only a single optimization package, [BlackBoxOptim.jl](https://github.com/robertfeldt/BlackBoxOptim.jl), that focuses on blackbox optimization problems where the objective function cannot be defined in terms of simple mathematical equations, and is also not differentiable.\n",
    "\n",
    "Our goal is to find the parameter combinations for when the following dynamical system\n",
    "$$\n",
    "\\begin{aligned}\n",
    "\\dot{x} &= -\\mu x +yz \\\\\n",
    "\\dot{y} &= -\\mu y +x(z-\\alpha) \\\\\n",
    "\\dot{z} &= 1 - xz\n",
    "\\end{aligned}\n",
    "$$\n",
    "(called Rikitake's dynamo) has the largest maximum Lyapunov exponent. \n",
    "The computation of Lyapunov exponents is not a process one can straight-forwardly define, or even estimate, derivatives for, hence we turn to blackbox optimization.\n",
    "\n",
    "To use BlackBoxOptim.jl, we must first define an _objective function_: A  function taking in a vector of parameters and returning the objective we want to minimize;"
   ]
  },
  {
   "cell_type": "code",
   "execution_count": 1,
   "metadata": {},
   "outputs": [
    {
     "name": "stderr",
     "output_type": "stream",
     "text": [
      "WARNING: method definition for #computeWavelets#6 at C:\\Users\\datse\\.julia\\packages\\Wavelets\\ANOxi\\src\\mod\\WT.jl:660 declares type variable S but does not use it.\n"
     ]
    },
    {
     "name": "stderr",
     "output_type": "stream",
     "text": [
      "WARNING: method definition for #computeWavelets#7 at C:\\Users\\datse\\.julia\\packages\\Wavelets\\ANOxi\\src\\mod\\WT.jl:664 declares type variable S but does not use it.\n",
      "WARNING: method definition for #computeWavelets#8 at C:\\Users\\datse\\.julia\\packages\\Wavelets\\ANOxi\\src\\mod\\WT.jl:670 declares type variable S but does not use it.\n",
      "WARNING: method definition for cwt at C:\\Users\\datse\\.julia\\packages\\Wavelets\\ANOxi\\src\\mod\\Transforms.jl:216 declares type variable U but does not use it.\n"
     ]
    },
    {
     "data": {
      "text/plain": [
       "minus_lyapunov (generic function with 1 method)"
      ]
     },
     "metadata": {},
     "output_type": "display_data"
    }
   ],
   "source": [
    "using DynamicalSystems\n",
    "\n",
    "# These are the dynamic rules of the dynamical system\n",
    "function rikitake_rule(u, p, t)\n",
    "    μ, α = p\n",
    "    x, y, z = u\n",
    "    xdot = -μ*x + y*z\n",
    "    ydot = -μ*y + x*(z - α)\n",
    "    zdot = 1 - x*y\n",
    "    return SVector(xdot, ydot, zdot)\n",
    "end\n",
    "\n",
    "# This is the objective function:\n",
    "function minus_lyapunov(p) # input is parameter values\n",
    "    u0 = SVector(1, 0, 0.6)\n",
    "    ds = CoupledODEs(rikitake_rule, u0, p)\n",
    "    λ = lyapunov(ds, 1000; Ttr = 10)\n",
    "    # return negative exponent because we minimize objective\n",
    "    return -λ\n",
    "end"
   ]
  },
  {
   "cell_type": "markdown",
   "metadata": {},
   "source": [
    "We will now attempt to \"optimize\" this objective `minus_lyapunov`, by providing a search range for the input vector `p` (which is the parameter container)"
   ]
  },
  {
   "cell_type": "code",
   "execution_count": 2,
   "metadata": {},
   "outputs": [
    {
     "name": "stdout",
     "output_type": "stream",
     "text": [
      "Starting optimization with optimizer DiffEvoOpt{FitPopulation{Float64}, RadiusLimitedSelector, BlackBoxOptim.AdaptiveDiffEvoRandBin{3}, RandomBound{ContinuousRectSearchSpace}}\n",
      "0.00 secs, 0 evals, 0 steps"
     ]
    },
    {
     "name": "stdout",
     "output_type": "stream",
     "text": [
      "\n",
      "0.50 secs, 196 evals, 115 steps, improv/step: 0.348 (last = 0.3478), fitness=-0.282600870"
     ]
    },
    {
     "name": "stdout",
     "output_type": "stream",
     "text": [
      "\n",
      "1.00 secs, 390 evals, 270 steps, improv/step: 0.341 (last = 0.3355), fitness=-0.322394447"
     ]
    },
    {
     "name": "stdout",
     "output_type": "stream",
     "text": [
      "\n",
      "1.50 secs, 600 evals, 463 steps, improv/step: 0.298 (last = 0.2383), fitness=-0.322394447\n"
     ]
    },
    {
     "name": "stdout",
     "output_type": "stream",
     "text": [
      "2.01 secs, 799 evals, 657 steps, improv/step: 0.266 (last = 0.1907), fitness=-0.329129966\n"
     ]
    },
    {
     "name": "stdout",
     "output_type": "stream",
     "text": [
      "2.51 secs, 985 evals, 843 steps, improv/step: 0.254 (last = 0.2097), fitness=-0.329129966"
     ]
    },
    {
     "name": "stdout",
     "output_type": "stream",
     "text": [
      "\n",
      "3.01 secs, 1172 evals, 1030 steps, improv/step: 0.236 (last = 0.1551), fitness=-0.334591594"
     ]
    },
    {
     "name": "stdout",
     "output_type": "stream",
     "text": [
      "\n",
      "3.51 secs, 1358 evals, 1216 steps, improv/step: 0.221 (last = 0.1398), fitness=-0.346277124\n"
     ]
    },
    {
     "name": "stdout",
     "output_type": "stream",
     "text": [
      "4.01 secs, 1542 evals, 1400 steps, improv/step: 0.209 (last = 0.1250), fitness=-0.346277124\n"
     ]
    },
    {
     "name": "stdout",
     "output_type": "stream",
     "text": [
      "4.52 secs, 1730 evals, 1588 steps, improv/step: 0.197 (last = 0.1117), fitness=-0.346277124"
     ]
    },
    {
     "name": "stdout",
     "output_type": "stream",
     "text": [
      "\n",
      "5.02 secs, 1920 evals, 1778 steps, improv/step: 0.186 (last = 0.0895), fitness=-0.346277124\n"
     ]
    },
    {
     "name": "stdout",
     "output_type": "stream",
     "text": [
      "5.52 secs, 2094 evals, 1953 steps, improv/step: 0.175 (last = 0.0629), fitness=-0.346277124\n"
     ]
    },
    {
     "name": "stdout",
     "output_type": "stream",
     "text": [
      "6.03 secs, 2277 evals, 2136 steps, improv/step: 0.165 (last = 0.0601), fitness=-0.346277124"
     ]
    },
    {
     "name": "stdout",
     "output_type": "stream",
     "text": [
      "\n",
      "6.53 secs, 2463 evals, 2322 steps, improv/step: 0.156 (last = 0.0591), fitness=-0.346277124\n"
     ]
    },
    {
     "name": "stdout",
     "output_type": "stream",
     "text": [
      "7.03 secs, 2643 evals, 2504 steps, improv/step: 0.148 (last = 0.0385), fitness=-0.346492477"
     ]
    },
    {
     "name": "stdout",
     "output_type": "stream",
     "text": [
      "\n",
      "7.53 secs, 2828 evals, 2689 steps, improv/step: 0.139 (last = 0.0216), fitness=-0.346492477"
     ]
    },
    {
     "name": "stdout",
     "output_type": "stream",
     "text": [
      "\n",
      "8.03 secs, 3013 evals, 2874 steps, improv/step: 0.133 (last = 0.0378), fitness=-0.346492477"
     ]
    },
    {
     "name": "stdout",
     "output_type": "stream",
     "text": [
      "\n",
      "8.53 secs, 3190 evals, 3051 steps, improv/step: 0.127 (last = 0.0282), fitness=-0.346492477"
     ]
    },
    {
     "name": "stdout",
     "output_type": "stream",
     "text": [
      "\n",
      "9.04 secs, 3373 evals, 3234 steps, improv/step: 0.121 (last = 0.0219), fitness=-0.346492477\n"
     ]
    },
    {
     "name": "stdout",
     "output_type": "stream",
     "text": [
      "9.54 secs, 3550 evals, 3411 steps, improv/step: 0.115 (last = 0.0169), fitness=-0.346492477\n"
     ]
    },
    {
     "name": "stdout",
     "output_type": "stream",
     "text": [
      "10.04 secs, 3729 evals, 3590 steps, improv/step: 0.111 (last = 0.0279), fitness=-0.346492477"
     ]
    },
    {
     "name": "stdout",
     "output_type": "stream",
     "text": [
      "\n",
      "10.54 secs, 3910 evals, 3771 steps, improv/step: 0.106 (last = 0.0166), fitness=-0.346492477\n"
     ]
    },
    {
     "name": "stdout",
     "output_type": "stream",
     "text": [
      "11.05 secs, 4069 evals, 3930 steps, improv/step: 0.104 (last = 0.0377), fitness=-0.346492477\n"
     ]
    },
    {
     "name": "stdout",
     "output_type": "stream",
     "text": [
      "11.55 secs, 4245 evals, 4106 steps, improv/step: 0.102 (last = 0.0682), fitness=-0.346492477"
     ]
    },
    {
     "name": "stdout",
     "output_type": "stream",
     "text": [
      "\n",
      "12.05 secs, 4421 evals, 4282 steps, improv/step: 0.100 (last = 0.0455), fitness=-0.346492477"
     ]
    },
    {
     "name": "stdout",
     "output_type": "stream",
     "text": [
      "\n",
      "12.56 secs, 4591 evals, 4452 steps, improv/step: 0.097 (last = 0.0235), fitness=-0.346492477"
     ]
    },
    {
     "name": "stdout",
     "output_type": "stream",
     "text": [
      "\n",
      "13.06 secs, 4767 evals, 4628 steps, improv/step: 0.094 (last = 0.0227), fitness=-0.347916402\n"
     ]
    },
    {
     "name": "stdout",
     "output_type": "stream",
     "text": [
      "13.56 secs, 4945 evals, 4806 steps, improv/step: 0.092 (last = 0.0393), fitness=-0.358489027\n"
     ]
    },
    {
     "name": "stdout",
     "output_type": "stream",
     "text": [
      "14.06 secs, 5126 evals, 4987 steps, improv/step: 0.089 (last = 0.0221), fitness=-0.358489027\n"
     ]
    },
    {
     "name": "stdout",
     "output_type": "stream",
     "text": [
      "14.56 secs, 5302 evals, 5163 steps, improv/step: 0.087 (last = 0.0114), fitness=-0.358489027\n"
     ]
    },
    {
     "name": "stdout",
     "output_type": "stream",
     "text": [
      "15.06 secs, 5480 evals, 5341 steps, improv/step: 0.085 (last = 0.0225), fitness=-0.358489027\n"
     ]
    },
    {
     "name": "stdout",
     "output_type": "stream",
     "text": [
      "15.57 secs, 5657 evals, 5519 steps, improv/step: 0.082 (last = 0.0112), fitness=-0.358489027\n"
     ]
    },
    {
     "name": "stdout",
     "output_type": "stream",
     "text": [
      "16.07 secs, 5835 evals, 5697 steps, improv/step: 0.080 (last = 0.0112), fitness=-0.358489027"
     ]
    },
    {
     "name": "stdout",
     "output_type": "stream",
     "text": [
      "\n",
      "16.57 secs, 6011 evals, 5873 steps, improv/step: 0.078 (last = 0.0170), fitness=-0.358489027"
     ]
    },
    {
     "name": "stdout",
     "output_type": "stream",
     "text": [
      "\n",
      "17.07 secs, 6188 evals, 6050 steps"
     ]
    },
    {
     "name": "stdout",
     "output_type": "stream",
     "text": [
      ", improv/step: 0.077 (last = 0.0226), fitness=-0.358489027\n",
      "17.57 secs, 6361 evals, 6223 steps, improv/step: 0.076 (last = 0.0405), fitness=-0.358489027"
     ]
    },
    {
     "name": "stdout",
     "output_type": "stream",
     "text": [
      "\n",
      "18.07 secs, 6545 evals, 6407 steps, improv/step: 0.075 (last = 0.0489), fitness=-0.358489027\n"
     ]
    },
    {
     "name": "stdout",
     "output_type": "stream",
     "text": [
      "18.58 secs, 6720 evals, 6582 steps, improv/step: 0.074 (last = 0.0286), fitness=-0.358489027\n"
     ]
    },
    {
     "name": "stdout",
     "output_type": "stream",
     "text": [
      "19.08 secs, 6892 evals, 6754 steps, improv/step: 0.072 (last = 0.0174), fitness=-0.358489027"
     ]
    },
    {
     "name": "stdout",
     "output_type": "stream",
     "text": [
      "\n",
      "19.58 secs, 7061 evals, 6923 steps, improv/step: 0.071 (last = 0.0296), fitness=-0.358489027\n"
     ]
    },
    {
     "name": "stdout",
     "output_type": "stream",
     "text": [
      "20.09 secs, 7240 evals, 7102 steps, improv/step: 0.070 (last = 0.0335), fitness=-0.358489027\n"
     ]
    },
    {
     "name": "stdout",
     "output_type": "stream",
     "text": [
      "20.59 secs, 7416 evals, 7278 steps, improv/step: 0.069 (last = 0.0170), fitness=-0.358489027\n"
     ]
    },
    {
     "name": "stdout",
     "output_type": "stream",
     "text": [
      "21.09 secs, 7592 evals, 7454 steps, improv/step: 0.068 (last = 0.0227), fitness=-0.358489027"
     ]
    },
    {
     "name": "stdout",
     "output_type": "stream",
     "text": [
      "\n",
      "21.59 secs, 7764 evals, 7626 steps, improv/step: 0.067 (last = 0.0465), fitness=-0.358489027\n"
     ]
    },
    {
     "name": "stdout",
     "output_type": "stream",
     "text": [
      "22.09 secs, 7938 evals, 7800 steps, improv/step: 0.066 (last = 0.0287), fitness=-0.358489027"
     ]
    },
    {
     "name": "stdout",
     "output_type": "stream",
     "text": [
      "\n",
      "22.60 secs, 8110 evals, 7972 steps, improv/step: 0.065 (last = 0.0174), fitness=-0.358489027\n"
     ]
    },
    {
     "name": "stdout",
     "output_type": "stream",
     "text": [
      "23.10 secs, 8283 evals, 8145 steps, improv/step: 0.065 (last = 0.0520), fitness=-0.364244577"
     ]
    },
    {
     "name": "stdout",
     "output_type": "stream",
     "text": [
      "\n",
      "23.60 secs, 8455 evals, 8317 steps, improv/step: 0.064 (last = 0.0349), fitness=-0.364244577"
     ]
    },
    {
     "name": "stdout",
     "output_type": "stream",
     "text": [
      "\n",
      "24.10 secs, 8629 evals, 8491 steps, improv/step: 0.064 (last = 0.0230), fitness=-0.374122837"
     ]
    },
    {
     "name": "stdout",
     "output_type": "stream",
     "text": [
      "\n",
      "24.61 secs, 8801 evals, 8663 steps, improv/step: 0.063 (last = 0.0174), fitness=-0.374122837\n"
     ]
    },
    {
     "name": "stdout",
     "output_type": "stream",
     "text": [
      "25.11 secs, 8973 evals, 8836 steps, improv/step: 0.062 (last = 0.0405), fitness=-0.374122837"
     ]
    },
    {
     "name": "stdout",
     "output_type": "stream",
     "text": [
      "\n",
      "25.61 secs, 9143 evals, 9006 steps, improv/step: 0.062 (last = 0.0353), fitness=-0.374122837"
     ]
    },
    {
     "name": "stdout",
     "output_type": "stream",
     "text": [
      "\n",
      "26.11 secs, 9313 evals, 9176 steps, improv/step: 0.061 (last = 0.0118), fitness=-0.374122837\n"
     ]
    },
    {
     "name": "stdout",
     "output_type": "stream",
     "text": [
      "26.61 secs, 9480 evals, 9343 steps, improv/step: 0.060 (last = 0.0359), fitness=-0.374122837\n"
     ]
    },
    {
     "name": "stdout",
     "output_type": "stream",
     "text": [
      "27.12 secs, 9651 evals, 9514 steps, improv/step: 0.060 (last = 0.0234), fitness=-0.374122837"
     ]
    },
    {
     "name": "stdout",
     "output_type": "stream",
     "text": [
      "\n",
      "27.62 secs, 9820 evals, 9683 steps, improv/step: 0.059 (last = 0.0178), fitness=-0.374122837\n"
     ]
    },
    {
     "name": "stdout",
     "output_type": "stream",
     "text": [
      "28.12 secs, 9991 evals, 9854 steps, improv/step: 0.058 (last = 0.0117), fitness=-0.374122837"
     ]
    },
    {
     "name": "stdout",
     "output_type": "stream",
     "text": [
      "\n",
      "28.62 secs, 10161 evals, 10024 steps, improv/step: 0.058 (last = 0.0294), fitness=-0.374122837\n"
     ]
    },
    {
     "name": "stdout",
     "output_type": "stream",
     "text": [
      "29.12 secs, 10332 evals, 10195 steps, improv/step: 0.057 (last = 0.0058), fitness=-0.374122837"
     ]
    },
    {
     "name": "stdout",
     "output_type": "stream",
     "text": [
      "\n",
      "29.63 secs, 10502 evals, 10365 steps, improv/step: 0.056 (last = 0.0176), fitness=-0.374122837\n"
     ]
    },
    {
     "name": "stdout",
     "output_type": "stream",
     "text": [
      "\n",
      "Optimization stopped after 10490 steps and 30.00 seconds\n",
      "Termination reason: Max time (30.0 s) reached\n",
      "Steps per second = 349.64\n",
      "Function evals per second = 354.21\n",
      "Improvements/step = Inf\n",
      "Total function evaluations = 10627\n",
      "\n",
      "\n",
      "Best candidate found: "
     ]
    },
    {
     "name": "stdout",
     "output_type": "stream",
     "text": [
      "[0.966086, 9.92788]\n",
      "\n",
      "Fitness: -0.374122837\n",
      "\n"
     ]
    },
    {
     "data": {
      "text/plain": [
       "BlackBoxOptim.OptimizationResults(\"adaptive_de_rand_1_bin_radiuslimited\", \"Max time (30.0 s) reached\", 10490, 1.696768713784e9, 30.002000093460083, ParamsDictChain[ParamsDictChain[Dict{Symbol, Any}(:RngSeed => 736331, :MaxTime => 30.0, :SearchRange => [(0.0, 5.0), (-10.0, 10.0)], :MaxFuncEvals => 0, :MaxSteps => 0),Dict{Symbol, Any}()],Dict{Symbol, Any}(:CallbackInterval => -1.0, :TargetFitness => nothing, :TraceMode => :compact, :FitnessScheme => ScalarFitnessScheme{true}(), :MinDeltaFitnessTolerance => 1.0e-50, :NumDimensions => :NotSpecified, :FitnessTolerance => 1.0e-8, :TraceInterval => 0.5, :MaxStepsWithoutProgress => 10000, :MaxSteps => 10000…)], 10627, ScalarFitnessScheme{true}(), BlackBoxOptim.TopListArchiveOutput{Float64, Vector{Float64}}(-0.3741228366226818, [0.9660857914678767, 9.927882511320513]), BlackBoxOptim.PopulationOptimizerOutput{FitPopulation{Float64}}(FitPopulation{Float64}([0.9671898083120649 0.9708853380061669 … 0.9634490777992535 0.9693599882502827; -9.894449697925992 -9.866513138980594 … -9.777770764791907 -9.962266298411258], NaN, [-0.3496634534181296, -0.35422597390111477, -0.34518804844057177, -0.35338625217765196, -0.34694240780104413, -0.3479164022658739, -0.34899989079437377, -0.3535958283243845, -0.3449107177898908, -0.3479833842777756  …  -0.34939864809062365, -0.35265276477336976, -0.3635239706736427, -0.3531173606908272, -0.35502225794962183, -0.3577310031273828, -0.34646604896632616, -0.35284289731176754, -0.35143459626443885, -0.35481076278106255], 0, BlackBoxOptim.Candidate{Float64}[BlackBoxOptim.Candidate{Float64}([0.9629574041519111, -9.762739625243812], 7, -0.34899989079437377, BlackBoxOptim.AdaptiveDiffEvoRandBin{3}(BlackBoxOptim.AdaptiveDiffEvoParameters(BlackBoxOptim.BimodalCauchy(Distributions.Cauchy{Float64}(μ=0.65, σ=0.1), Distributions.Cauchy{Float64}(μ=1.0, σ=0.1), 0.5, false, true), BlackBoxOptim.BimodalCauchy(Distributions.Cauchy{Float64}(μ=0.1, σ=0.1), Distributions.Cauchy{Float64}(μ=0.95, σ=0.1), 0.5, false, true), [1.0, 0.8820776838288482, 0.6541240030178542, 1.0, 0.6448146170929007, 1.0, 0.6688982604229469, 1.0, 0.6715996496133075, 0.7310532901809605  …  0.6432895830952241, 0.7149171540988257, 0.7716565921135157, 0.453055282785077, 1.0, 0.6608053990627059, 0.641814697046587, 1.0, 0.748912436559432, 0.3408349437361085], [0.15766675692083829, 0.9636910587909643, 0.6207355329147225, 0.9993207749959871, 0.7571509481554235, 0.9290857704407063, 1.0, 0.8661706424401922, 0.9925048435190228, 0.8851836592795275  …  0.15291644729866044, 0.10485995315365454, 1.0, 0.8837402281145013, 0.9155702167751751, 0.6236645554731695, 1.0, 0.9486365943935591, 0.061626080761847786, 0.9119630741558609])), 0), BlackBoxOptim.Candidate{Float64}([0.9531913283803619, -9.791275400903901], 7, 0.0012519735434833434, BlackBoxOptim.AdaptiveDiffEvoRandBin{3}(BlackBoxOptim.AdaptiveDiffEvoParameters(BlackBoxOptim.BimodalCauchy(Distributions.Cauchy{Float64}(μ=0.65, σ=0.1), Distributions.Cauchy{Float64}(μ=1.0, σ=0.1), 0.5, false, true), BlackBoxOptim.BimodalCauchy(Distributions.Cauchy{Float64}(μ=0.1, σ=0.1), Distributions.Cauchy{Float64}(μ=0.95, σ=0.1), 0.5, false, true), [1.0, 0.8820776838288482, 0.6541240030178542, 1.0, 0.6448146170929007, 1.0, 0.6688982604229469, 1.0, 0.6715996496133075, 0.7310532901809605  …  0.6432895830952241, 0.7149171540988257, 0.7716565921135157, 0.453055282785077, 1.0, 0.6608053990627059, 0.641814697046587, 1.0, 0.748912436559432, 0.3408349437361085], [0.15766675692083829, 0.9636910587909643, 0.6207355329147225, 0.9993207749959871, 0.7571509481554235, 0.9290857704407063, 1.0, 0.8661706424401922, 0.9925048435190228, 0.8851836592795275  …  0.15291644729866044, 0.10485995315365454, 1.0, 0.8837402281145013, 0.9155702167751751, 0.6236645554731695, 1.0, 0.9486365943935591, 0.061626080761847786, 0.9119630741558609])), 0)], Base.Threads.SpinLock(0))))"
      ]
     },
     "metadata": {},
     "output_type": "display_data"
    }
   ],
   "source": [
    "using BlackBoxOptim\n",
    "\n",
    "μ_range = (0.0, 5.0)\n",
    "α_range = (-10.0, 10.0)\n",
    "\n",
    "bbres = bboptimize(minus_lyapunov; SearchRange = [μ_range, α_range], MaxTime = 30.0)"
   ]
  },
  {
   "cell_type": "code",
   "execution_count": 3,
   "metadata": {},
   "outputs": [
    {
     "data": {
      "text/plain": [
       "2-element Vector{Float64}:\n",
       " 0.9660857914678767\n",
       " 9.927882511320513"
      ]
     },
     "metadata": {},
     "output_type": "display_data"
    }
   ],
   "source": [
    "pmax = best_candidate(bbres)"
   ]
  },
  {
   "cell_type": "code",
   "execution_count": 4,
   "metadata": {},
   "outputs": [
    {
     "data": {
      "text/plain": [
       "0.3741228366226818"
      ]
     },
     "metadata": {},
     "output_type": "display_data"
    }
   ],
   "source": [
    "λmax = -best_fitness(bbres)"
   ]
  },
  {
   "cell_type": "markdown",
   "metadata": {},
   "source": [
    "Let's also visualize the chaotic attractor for this parameter, because it looks super awesome!"
   ]
  },
  {
   "cell_type": "code",
   "execution_count": 18,
   "metadata": {},
   "outputs": [
    {
     "data": {
      "image/png": "[encoded data removed]"
     },
     "metadata": {},
     "output_type": "display_data"
    }
   ],
   "source": [
    "using CairoMakie\n",
    "\n",
    "ds = CoupledODEs(rikitake_rule, SVector(1, 0, 0.6), pmax)\n",
    "X, t = trajectory(ds, 1000.0; Ttr = 10, Δt = 0.01)\n",
    "fig, ax = lines(vec(X);\n",
    "    linewidth = 1.0, color = \"#7754cc\",\n",
    "    axis = (type = Axis3,), figure = (resolution = (800, 600), backgroundcolor = :transparent)\n",
    ")\n",
    "ax.azimuth = 3.1\n",
    "hidedecorations!(ax)\n",
    "hidespines!(ax)\n",
    "fig"
   ]
  },
  {
   "attachments": {},
   "cell_type": "markdown",
   "metadata": {},
   "source": [
    "# Distributions.jl\n",
    "\n",
    "The [`Distributions`](https://juliastats.org/Distributions.jl/stable/) package provides an interface for writing probability-distribution-agnostic code: sampling distributions and getting pdfs, using moments, and more. This means that you can write any code that uses a probability distribution without having to care about the distribution's specifics. The result: your code can be run with _any_ probability distribution!\n",
    "\n",
    "> _Note: the package targets applications scenarios where continuous probabilty density functions with analytically known expressions are used (and optionally fitted to the data). For extracting discrete probability mass functions from input data using a plethora of different discretization methods, see [ComplexityMeasures.jl](https://juliadynamics.github.io/ComplexityMeasures.jl/stable/)._\n",
    "\n",
    "The way it works is quite straightforward: `Distributions` provides a unified API around abstract types representing probability distributions. To keep things simple here we limit ourselves to univariate continuous distributions."
   ]
  },
  {
   "cell_type": "code",
   "execution_count": 109,
   "metadata": {},
   "outputs": [
    {
     "name": "stderr",
     "output_type": "stream",
     "text": [
      "WARNING: using Distributions.sampler in module Main conflicts with an existing identifier.\n",
      "WARNING: using Distributions.entropy in module Main conflicts with an existing identifier.\n"
     ]
    },
    {
     "data": {
      "text/plain": [
       "Normal{Float64}(μ=0.1, σ=0.25)"
      ]
     },
     "metadata": {},
     "output_type": "display_data"
    }
   ],
   "source": [
    "# import Pkg; Pkg.add(\"Distributions\")\n",
    "using Distributions\n",
    "d = Normal(0.1, 0.25)"
   ]
  },
  {
   "cell_type": "code",
   "execution_count": 110,
   "metadata": {},
   "outputs": [
    {
     "data": {
      "text/plain": [
       "Distribution{Univariate, Continuous}"
      ]
     },
     "metadata": {},
     "output_type": "display_data"
    }
   ],
   "source": [
    "supertype(typeof(d))"
   ]
  },
  {
   "cell_type": "markdown",
   "metadata": {},
   "source": [
    "Various distribution-related quantities can be extracted using `Distributions`, by utilizing the analytic form of a specific distribution. For example:"
   ]
  },
  {
   "cell_type": "code",
   "execution_count": 111,
   "metadata": {},
   "outputs": [
    {
     "data": {
      "text/plain": [
       "1.5957691216057308"
      ]
     },
     "metadata": {},
     "output_type": "display_data"
    }
   ],
   "source": [
    "pdf(d, 0.1) # probability density function at x = 0.1"
   ]
  },
  {
   "cell_type": "code",
   "execution_count": 112,
   "metadata": {},
   "outputs": [
    {
     "data": {
      "text/plain": [
       "0.25"
      ]
     },
     "metadata": {},
     "output_type": "display_data"
    }
   ],
   "source": [
    "std(d)"
   ]
  },
  {
   "cell_type": "markdown",
   "metadata": {},
   "source": [
    "Arguably one of the most important features for `Distributions` is that these objects can be used as samplers in the `rand` function."
   ]
  },
  {
   "cell_type": "code",
   "execution_count": 113,
   "metadata": {},
   "outputs": [
    {
     "data": {
      "text/plain": [
       "0.4578169454967659"
      ]
     },
     "metadata": {},
     "output_type": "display_data"
    }
   ],
   "source": [
    "rand(d) # sample a random variable distributed according to `d`"
   ]
  },
  {
   "cell_type": "code",
   "execution_count": 114,
   "metadata": {},
   "outputs": [
    {
     "data": {
      "text/plain": [
       "10×10 Matrix{Float64}:\n",
       "  0.0660963   0.525875    0.374555    0.331278   …   0.276103      0.474536\n",
       " -0.296274   -0.0657468  -0.153313   -0.270448      -0.0482234     0.26306\n",
       "  0.0381474  -0.296639    0.376843    0.0960117      0.297911      0.47611\n",
       "  0.116733   -0.447924   -0.116847    0.133897       0.338201      0.223436\n",
       " -0.12044     0.397166    0.462917   -0.0403995      0.0226945     0.0486286\n",
       "  0.335411    0.214113    0.478768    0.102207   …   0.189401     -0.215897\n",
       "  0.117821    0.0607703   0.0625559   0.0123315     -0.000801571  -0.0066611\n",
       "  0.220294    0.212522    0.121289    0.452504      -0.349279     -0.1658\n",
       " -0.0733852  -0.314987    0.306153    0.198295      -0.100006     -0.0339482\n",
       "  0.377515   -0.494683    0.269298    0.421116       0.205603      0.051321"
      ]
     },
     "metadata": {},
     "output_type": "display_data"
    }
   ],
   "source": [
    "rand(d, 10, 10)"
   ]
  },
  {
   "cell_type": "markdown",
   "metadata": {},
   "source": [
    "And all of this works for any subtype of `Distribution`:"
   ]
  },
  {
   "cell_type": "code",
   "execution_count": 115,
   "metadata": {
    "scrolled": true
   },
   "outputs": [
    {
     "data": {
      "image/png": "[encoded data removed]"
     },
     "metadata": {},
     "output_type": "display_data"
    }
   ],
   "source": [
    "using CairoMakie\n",
    "cauchy = Cauchy(0.5, 0.25)\n",
    "x = range(-1, 4; length = 101)\n",
    "lines(x, pdf.(cauchy, x))"
   ]
  },
  {
   "cell_type": "code",
   "execution_count": 116,
   "metadata": {},
   "outputs": [
    {
     "data": {
      "text/plain": [
       "0.256474742801926"
      ]
     },
     "metadata": {},
     "output_type": "display_data"
    }
   ],
   "source": [
    "rand(cauchy)"
   ]
  },
  {
   "cell_type": "code",
   "execution_count": 117,
   "metadata": {},
   "outputs": [
    {
     "data": {
      "text/plain": [
       "NaN"
      ]
     },
     "metadata": {},
     "output_type": "display_data"
    }
   ],
   "source": [
    "std(cauchy)"
   ]
  },
  {
   "cell_type": "code",
   "execution_count": 118,
   "metadata": {},
   "outputs": [
    {
     "data": {
      "text/plain": [
       "0.5"
      ]
     },
     "metadata": {},
     "output_type": "display_data"
    }
   ],
   "source": [
    "quantile(cauchy, 0.5)"
   ]
  },
  {
   "cell_type": "markdown",
   "metadata": {},
   "source": [
    "You can also create your own distribution by extending a small amount of methods!"
   ]
  },
  {
   "attachments": {},
   "cell_type": "markdown",
   "metadata": {},
   "source": [
    "Or, you can use the `fit` function, to fit a distribution to an e.g. experimental measurement:"
   ]
  },
  {
   "cell_type": "code",
   "execution_count": 119,
   "metadata": {},
   "outputs": [
    {
     "data": {
      "text/plain": [
       "Cauchy{Float64}(μ=-0.02589633201878442, σ=0.6501921573461381)"
      ]
     },
     "metadata": {},
     "output_type": "display_data"
    }
   ],
   "source": [
    "x = randn(5000);\n",
    "cauchyfit = fit(Cauchy, x)"
   ]
  },
  {
   "cell_type": "code",
   "execution_count": 120,
   "metadata": {},
   "outputs": [
    {
     "data": {
      "image/png": "[encoded data removed]"
     },
     "metadata": {},
     "output_type": "display_data"
    }
   ],
   "source": [
    "# plot the fit\n",
    "hist(x, 50; normalization = :pdf)\n",
    "scatter!(x, pdf.(cauchyfit, x); color = \"red\")\n",
    "current_figure()"
   ]
  },
  {
   "attachments": {},
   "cell_type": "markdown",
   "metadata": {},
   "source": [
    "Of course, other fundamental statistical measures, e.g. means, stds, quantiles, work out of the box for any distribution."
   ]
  },
  {
   "attachments": {},
   "cell_type": "markdown",
   "metadata": {},
   "source": [
    "# DrWatson\n",
    "\n",
    "[DrWatson](https://juliadynamics.github.io/DrWatson.jl/dev/) is a scientific project assistant software. It helps people deal with their scientific code base, allowing them to focus more on the science and less on the code management. DrWatson offers a lot of tools and functionality for this purpose, but here I'll only show a couple of them. \n",
    "\n",
    "*Disclaimer: I am one of the developers of DrWatson.*\n",
    "\n",
    "## FileIO\n",
    "\n",
    "Obviously, in order to do science, it is necessary to be able to save files to arbitrary formats and to be able to read them later. `FileIO` (which is used by `DrWatson`) is a Julia package that provides a unified API to save and load files to disk, without caring about their actual file ending type.\n",
    "\n",
    "The interface is as simple as:\n",
    "```julia\n",
    "using FileIO\n",
    "object = load(filename)\n",
    "save(filename, object)\n",
    "```\n",
    "where `filename` is a `String` (arbitrary path) that *includes* the file ending, e.g. `.hdf5`.\n",
    "\n",
    "`FileIO` does not actually install any packages that can save or load files! It provides the interface. If you try to save/load a file with an unsupported ending, `FileIO` will tell you that's impossible."
   ]
  },
  {
   "cell_type": "code",
   "execution_count": 2,
   "metadata": {
    "scrolled": true
   },
   "outputs": [
    {
     "data": {
      "text/plain": [
       "\"c:\\\\Users\\\\datse\\\\OneDrive - University of Exeter\\\\Teaching\\\\Zero2Hero-JuliaWorkshop\""
      ]
     },
     "metadata": {},
     "output_type": "display_data"
    }
   ],
   "source": [
    "using DrWatson\n",
    "cd(@__DIR__)\n",
    "pwd() # state current working directory"
   ]
  },
  {
   "attachments": {},
   "cell_type": "markdown",
   "metadata": {},
   "source": [
    "Most packages that can save data of arbitrary format expect the final object to save a dictionary"
   ]
  },
  {
   "cell_type": "code",
   "execution_count": 3,
   "metadata": {},
   "outputs": [
    {
     "data": {
      "text/plain": [
       "Dict{String, Int64} with 2 entries:\n",
       "  \"b\" => 4\n",
       "  \"a\" => 5"
      ]
     },
     "metadata": {},
     "output_type": "display_data"
    }
   ],
   "source": [
    "testdata = Dict(\"a\" => 5, \"b\" => 4)"
   ]
  },
  {
   "cell_type": "markdown",
   "metadata": {},
   "source": [
    "To save the data we need a \"file i/o backend\". I recommend JLD2.jl:"
   ]
  },
  {
   "cell_type": "code",
   "execution_count": 161,
   "metadata": {},
   "outputs": [],
   "source": [
    "# import Pkg; Pkg.add(\"JLD2\")\n",
    "save(\"test.jld2\", testdata)"
   ]
  },
  {
   "cell_type": "code",
   "execution_count": 162,
   "metadata": {},
   "outputs": [
    {
     "data": {
      "text/plain": [
       "Dict{String, Any} with 2 entries:\n",
       "  \"b\" => 4\n",
       "  \"a\" => 5"
      ]
     },
     "metadata": {},
     "output_type": "display_data"
    }
   ],
   "source": [
    "load(\"test.jld2\")"
   ]
  },
  {
   "cell_type": "code",
   "execution_count": 163,
   "metadata": {},
   "outputs": [],
   "source": [
    "rm(\"test.jld2\") # clean-up"
   ]
  },
  {
   "attachments": {},
   "cell_type": "markdown",
   "metadata": {},
   "source": [
    "## Savename\n",
    "\n",
    "When saving files, scientists often want to include the parameter values of the simulations in the name of the file. For example, If I had run a simulation with parameters:"
   ]
  },
  {
   "cell_type": "code",
   "execution_count": 164,
   "metadata": {},
   "outputs": [
    {
     "data": {
      "text/plain": [
       "(1, 2, 3)"
      ]
     },
     "metadata": {},
     "output_type": "display_data"
    }
   ],
   "source": [
    "a, b, c = 1, 2, 3"
   ]
  },
  {
   "attachments": {},
   "cell_type": "markdown",
   "metadata": {},
   "source": [
    "I would like to save my simulation as e.g. `sim_a=1_b=2_c=3.jld2`. This can be achieved with string interpolation like so"
   ]
  },
  {
   "cell_type": "code",
   "execution_count": 165,
   "metadata": {},
   "outputs": [
    {
     "data": {
      "text/plain": [
       "\"sim_a=1_b=2_c=3.jld2\""
      ]
     },
     "metadata": {},
     "output_type": "display_data"
    }
   ],
   "source": [
    "filename = \"sim_a=$(a)_b=$(b)_c=$(c).jld2\""
   ]
  },
  {
   "attachments": {},
   "cell_type": "markdown",
   "metadata": {},
   "source": [
    "This works, but besides being tedious, it is not extendable: if I have a different simulation, with different parameter names, I have to modify this command.\n",
    "\n",
    "This is where DrWatson comes in: it provides a tool, called `savename`, that takes as an input **any Julia container** and converts it into a `key=value` chain. It works with dictionaries and arbitrary Julia composite types (it would work with the `Animal` we defined in the previous session). For example:"
   ]
  },
  {
   "cell_type": "code",
   "execution_count": 174,
   "metadata": {},
   "outputs": [
    {
     "data": {
      "text/plain": [
       "Dict{String, Int64} with 3 entries:\n",
       "  \"c\" => 3\n",
       "  \"b\" => 2\n",
       "  \"a\" => 1"
      ]
     },
     "metadata": {},
     "output_type": "display_data"
    }
   ],
   "source": [
    "using DrWatson\n",
    "# the `@strdict` command makes a dictionary from the given variable names\n",
    "# it converts the variable names into strings for the keys of the dictionary\n",
    "# `@strdict` is a \"macro\", something we won't talk about in this workshop\n",
    "pars = @strdict a b c"
   ]
  },
  {
   "cell_type": "code",
   "execution_count": 175,
   "metadata": {},
   "outputs": [
    {
     "data": {
      "text/plain": [
       "\"a=1_b=2_c=3\""
      ]
     },
     "metadata": {},
     "output_type": "display_data"
    }
   ],
   "source": [
    "savename(pars)"
   ]
  },
  {
   "attachments": {},
   "cell_type": "markdown",
   "metadata": {},
   "source": [
    "You can also call `savename` with prefix and suffix"
   ]
  },
  {
   "cell_type": "code",
   "execution_count": 176,
   "metadata": {},
   "outputs": [
    {
     "data": {
      "text/plain": [
       "\"prefix_a=1_b=2_c=3_model=linear.jld2\""
      ]
     },
     "metadata": {},
     "output_type": "display_data"
    }
   ],
   "source": [
    "model = \"linear\"\n",
    "pars = @strdict a b c model\n",
    "savename(\"prefix\", pars, \"jld2\")"
   ]
  },
  {
   "attachments": {},
   "cell_type": "markdown",
   "metadata": {},
   "source": [
    "## Saving tools\n",
    "\n",
    "DrWatson offers some tools that are useful when saving files. The first is\n",
    "`tagsave`, which modifies the dictionary-to-be-saved by adding additional information about the current status of the Git repository of the project (if there exists a Git repository). This allows for reproducibility. For example (notice that `pwd()` is the path of a Git repository)"
   ]
  },
  {
   "cell_type": "code",
   "execution_count": 183,
   "metadata": {},
   "outputs": [
    {
     "name": "stderr",
     "output_type": "stream",
     "text": [
      "┌ Warning: The Git repository ('c:\\Users\\datse\\OneDrive - University of Exeter\\Teaching\\Zero2Hero-JuliaWorkshop') is dirty! Appending -dirty to the commit ID.\n",
      "└ @ DrWatson C:\\Users\\datse\\.julia\\packages\\DrWatson\\ieY6i\\src\\saving_tools.jl:64\n"
     ]
    },
    {
     "data": {
      "text/plain": [
       "Dict{String, Any} with 6 entries:\n",
       "  \"v\"         => [1, 2, 3, 4, 5, 6, 7, 8, 9, 10]\n",
       "  \"c\"         => 3\n",
       "  \"gitcommit\" => \"c91187afcd76068f8e1efc89b5c473a31e57bb48-dirty\"\n",
       "  \"model\"     => \"linear\"\n",
       "  \"b\"         => 2\n",
       "  \"a\"         => 1"
      ]
     },
     "metadata": {},
     "output_type": "display_data"
    }
   ],
   "source": [
    "tagsave(\"test.jld2\", copy(pars); gitpath = pwd())\n",
    "load(\"test.jld2\")"
   ]
  },
  {
   "attachments": {},
   "cell_type": "markdown",
   "metadata": {},
   "source": [
    "You can see that the Git commit ID was included in the saved file! And not only that, but because the git status is currently \"dirty\", this was also added as saved information."
   ]
  },
  {
   "attachments": {},
   "cell_type": "markdown",
   "metadata": {},
   "source": [
    "Another useful tool is `safesave`. We all know how **devastating** it can be to by-mistake overwrite an existing simulation because you saved a new simulation with the same name... `safesave` comes to the rescue because it ensures that no files are overwritten but also all files are saved!\n",
    "\n",
    "It works like this:\n",
    "```julia\n",
    "safesave(\"test.jld2\", ...)\n",
    "```\n",
    "if `\"test.jld2\"` exists, rename it to `test_#1.jld2` (and do this recursively if `test_#1.jld2` also exists, by incrementing the number after the `#`). Then, save the current data as `test.jld2`."
   ]
  },
  {
   "cell_type": "code",
   "execution_count": 184,
   "metadata": {},
   "outputs": [],
   "source": [
    "safesave(\"test.jld2\", pars)\n",
    "safesave(\"test.jld2\", pars)\n",
    "safesave(\"test.jld2\", pars)"
   ]
  },
  {
   "cell_type": "code",
   "execution_count": 185,
   "metadata": {},
   "outputs": [
    {
     "data": {
      "text/plain": [
       "19-element Vector{String}:\n",
       " \".git\"\n",
       " \".gitignore\"\n",
       " \"1-JuliaIntro.ipynb\"\n",
       " \"2-MultipleDispatch.ipynb\"\n",
       " \"3-Ecosystem.ipynb\"\n",
       " \"LICENSE.md\"\n",
       " \"Manifest.toml\"\n",
       " \"Project.toml\"\n",
       " \"README.md\"\n",
       " \"add.jpg\"\n",
       " \"makie_ex_fig_1.png\"\n",
       " \"makie_ex_fig_2.png\"\n",
       " \"solutions_1.jl\"\n",
       " \"solutions_2.jl\"\n",
       " \"solutions_3.jl\"\n",
       " \"test.jld2\"\n",
       " \"test_#1.jld2\"\n",
       " \"test_#2.jld2\"\n",
       " \"test_#3.jld2\""
      ]
     },
     "metadata": {},
     "output_type": "display_data"
    }
   ],
   "source": [
    "readdir(pwd())"
   ]
  },
  {
   "cell_type": "code",
   "execution_count": 188,
   "metadata": {},
   "outputs": [],
   "source": [
    "# delete all files that end in \"jld2\"\n",
    "[rm(f) for f in readdir(pwd()) if endswith(f, \"jld2\")];"
   ]
  },
  {
   "attachments": {},
   "cell_type": "markdown",
   "metadata": {},
   "source": [
    "## Collecting results\n",
    "\n",
    "If you run several similar simulations with different parameters, you typically want to collect all of them in a tabular datastrcture to analyze further. You can use `collect_results` to automate the data collection process. \n",
    "\n",
    "Let's say we run first some simulations with varying parameters like so:"
   ]
  },
  {
   "cell_type": "code",
   "execution_count": 190,
   "metadata": {},
   "outputs": [],
   "source": [
    "model = \"linear\"\n",
    "for a in 1:2\n",
    "    for b in [2, 3]\n",
    "        # perform a fake simulation\n",
    "        r = a + b\n",
    "        # save it:\n",
    "        p = @strdict a b r model\n",
    "        s = @strdict a b model # the result \"r\" doesn't take part in the name\n",
    "        wsave(joinpath(\"data\", savename(s, \"jld2\")), p)\n",
    "    end\n",
    "end"
   ]
  },
  {
   "attachments": {},
   "cell_type": "markdown",
   "metadata": {},
   "source": [
    "Then we run a different model, which does not necessarily have the same parameters:"
   ]
  },
  {
   "cell_type": "code",
   "execution_count": 192,
   "metadata": {},
   "outputs": [],
   "source": [
    "model = \"cubic\"\n",
    "for a in 1:2\n",
    "    for d in [5, 6]\n",
    "        # perform a fake simulation\n",
    "        r = a + d^3\n",
    "        # save it:\n",
    "        p = @strdict a d r model\n",
    "        s = @strdict a d model # the result \"r\" doesn't take part in the name\n",
    "        wsave(joinpath(\"data\", savename(s, \"jld2\")), p)\n",
    "    end\n",
    "end"
   ]
  },
  {
   "attachments": {},
   "cell_type": "markdown",
   "metadata": {},
   "source": [
    "Now the idea is that we want to collect all of this results in a single tabular structure. We do with `collect_results(folder)`, which collects all results of the `folder` into a `DataFrame`. This is a tabular data structure (and thus we need the Julia package `DataFrames` to use it):"
   ]
  },
  {
   "cell_type": "code",
   "execution_count": 193,
   "metadata": {},
   "outputs": [
    {
     "name": "stderr",
     "output_type": "stream",
     "text": [
      "┌ Info: Scanning folder data for result files.\n",
      "└ @ DrWatson C:\\Users\\datse\\.julia\\packages\\DrWatson\\ieY6i\\src\\result_collection.jl:115\n"
     ]
    },
    {
     "name": "stderr",
     "output_type": "stream",
     "text": [
      "┌ Info: Added 8 entries.\n",
      "└ @ DrWatson C:\\Users\\datse\\.julia\\packages\\DrWatson\\ieY6i\\src\\result_collection.jl:191\n"
     ]
    },
    {
     "data": {
      "text/html": [
       "<div><div style = \"float: left;\"><span>8×6 DataFrame</span></div><div style = \"clear: both;\"></div></div><div class = \"data-frame\" style = \"overflow-x: scroll;\"><table class = \"data-frame\" style = \"margin-bottom: 6px;\"><thead><tr class = \"header\"><th class = \"rowNumber\" style = \"font-weight: bold; text-align: right;\">Row</th><th style = \"text-align: left;\">model</th><th style = \"text-align: left;\">b</th><th style = \"text-align: left;\">r</th><th style = \"text-align: left;\">a</th><th style = \"text-align: left;\">path</th><th style = \"text-align: left;\">d</th></tr><tr class = \"subheader headerLastRow\"><th class = \"rowNumber\" style = \"font-weight: bold; text-align: right;\"></th><th title = \"Union{Missing, String}\" style = \"text-align: left;\">String?</th><th title = \"Union{Missing, Int64}\" style = \"text-align: left;\">Int64?</th><th title = \"Union{Missing, Int64}\" style = \"text-align: left;\">Int64?</th><th title = \"Union{Missing, Int64}\" style = \"text-align: left;\">Int64?</th><th title = \"Union{Missing, String}\" style = \"text-align: left;\">String?</th><th title = \"Union{Missing, Int64}\" style = \"text-align: left;\">Int64?</th></tr></thead><tbody><tr><td class = \"rowNumber\" style = \"font-weight: bold; text-align: right;\">1</td><td style = \"text-align: left;\">linear</td><td style = \"text-align: right;\">2</td><td style = \"text-align: right;\">3</td><td style = \"text-align: right;\">1</td><td style = \"text-align: left;\">data\\\\a=1_b=2_model=linear.jld2</td><td style = \"font-style: italic; text-align: right;\">missing</td></tr><tr><td class = \"rowNumber\" style = \"font-weight: bold; text-align: right;\">2</td><td style = \"text-align: left;\">linear</td><td style = \"text-align: right;\">3</td><td style = \"text-align: right;\">4</td><td style = \"text-align: right;\">1</td><td style = \"text-align: left;\">data\\\\a=1_b=3_model=linear.jld2</td><td style = \"font-style: italic; text-align: right;\">missing</td></tr><tr><td class = \"rowNumber\" style = \"font-weight: bold; text-align: right;\">3</td><td style = \"text-align: left;\">cubic</td><td style = \"font-style: italic; text-align: right;\">missing</td><td style = \"text-align: right;\">126</td><td style = \"text-align: right;\">1</td><td style = \"text-align: left;\">data\\\\a=1_d=5_model=cubic.jld2</td><td style = \"text-align: right;\">5</td></tr><tr><td class = \"rowNumber\" style = \"font-weight: bold; text-align: right;\">4</td><td style = \"text-align: left;\">cubic</td><td style = \"font-style: italic; text-align: right;\">missing</td><td style = \"text-align: right;\">217</td><td style = \"text-align: right;\">1</td><td style = \"text-align: left;\">data\\\\a=1_d=6_model=cubic.jld2</td><td style = \"text-align: right;\">6</td></tr><tr><td class = \"rowNumber\" style = \"font-weight: bold; text-align: right;\">5</td><td style = \"text-align: left;\">linear</td><td style = \"text-align: right;\">2</td><td style = \"text-align: right;\">4</td><td style = \"text-align: right;\">2</td><td style = \"text-align: left;\">data\\\\a=2_b=2_model=linear.jld2</td><td style = \"font-style: italic; text-align: right;\">missing</td></tr><tr><td class = \"rowNumber\" style = \"font-weight: bold; text-align: right;\">6</td><td style = \"text-align: left;\">linear</td><td style = \"text-align: right;\">3</td><td style = \"text-align: right;\">5</td><td style = \"text-align: right;\">2</td><td style = \"text-align: left;\">data\\\\a=2_b=3_model=linear.jld2</td><td style = \"font-style: italic; text-align: right;\">missing</td></tr><tr><td class = \"rowNumber\" style = \"font-weight: bold; text-align: right;\">7</td><td style = \"text-align: left;\">cubic</td><td style = \"font-style: italic; text-align: right;\">missing</td><td style = \"text-align: right;\">127</td><td style = \"text-align: right;\">2</td><td style = \"text-align: left;\">data\\\\a=2_d=5_model=cubic.jld2</td><td style = \"text-align: right;\">5</td></tr><tr><td class = \"rowNumber\" style = \"font-weight: bold; text-align: right;\">8</td><td style = \"text-align: left;\">cubic</td><td style = \"font-style: italic; text-align: right;\">missing</td><td style = \"text-align: right;\">218</td><td style = \"text-align: right;\">2</td><td style = \"text-align: left;\">data\\\\a=2_d=6_model=cubic.jld2</td><td style = \"text-align: right;\">6</td></tr></tbody></table></div>"
      ],
      "text/latex": [
       "\\begin{tabular}{r|cccccc}\n",
       "\t& model & b & r & a & path & d\\\\\n",
       "\t\\hline\n",
       "\t& String? & Int64? & Int64? & Int64? & String? & Int64?\\\\\n",
       "\t\\hline\n",
       "\t1 & linear & 2 & 3 & 1 & data\\textbackslash{}\\textbackslash{}a=1\\_b=2\\_model=linear.jld2 & \\emph{missing} \\\\\n",
       "\t2 & linear & 3 & 4 & 1 & data\\textbackslash{}\\textbackslash{}a=1\\_b=3\\_model=linear.jld2 & \\emph{missing} \\\\\n",
       "\t3 & cubic & \\emph{missing} & 126 & 1 & data\\textbackslash{}\\textbackslash{}a=1\\_d=5\\_model=cubic.jld2 & 5 \\\\\n",
       "\t4 & cubic & \\emph{missing} & 217 & 1 & data\\textbackslash{}\\textbackslash{}a=1\\_d=6\\_model=cubic.jld2 & 6 \\\\\n",
       "\t5 & linear & 2 & 4 & 2 & data\\textbackslash{}\\textbackslash{}a=2\\_b=2\\_model=linear.jld2 & \\emph{missing} \\\\\n",
       "\t6 & linear & 3 & 5 & 2 & data\\textbackslash{}\\textbackslash{}a=2\\_b=3\\_model=linear.jld2 & \\emph{missing} \\\\\n",
       "\t7 & cubic & \\emph{missing} & 127 & 2 & data\\textbackslash{}\\textbackslash{}a=2\\_d=5\\_model=cubic.jld2 & 5 \\\\\n",
       "\t8 & cubic & \\emph{missing} & 218 & 2 & data\\textbackslash{}\\textbackslash{}a=2\\_d=6\\_model=cubic.jld2 & 6 \\\\\n",
       "\\end{tabular}\n"
      ],
      "text/plain": [
       "\u001b[1m8×6 DataFrame\u001b[0m\n",
       "\u001b[1m Row \u001b[0m│\u001b[1m model   \u001b[0m\u001b[1m b       \u001b[0m\u001b[1m r      \u001b[0m\u001b[1m a      \u001b[0m\u001b[1m path                            \u001b[0m\u001b[1m d   \u001b[0m ⋯\n",
       "     │\u001b[90m String? \u001b[0m\u001b[90m Int64?  \u001b[0m\u001b[90m Int64? \u001b[0m\u001b[90m Int64? \u001b[0m\u001b[90m String?                         \u001b[0m\u001b[90m Int6\u001b[0m ⋯\n",
       "─────┼──────────────────────────────────────────────────────────────────────────\n",
       "   1 │ linear         2       3       1  data\\\\a=1_b=2_model=linear.jld2 \u001b[90m miss\u001b[0m ⋯\n",
       "   2 │ linear         3       4       1  data\\\\a=1_b=3_model=linear.jld2 \u001b[90m miss\u001b[0m\n",
       "   3 │ cubic   \u001b[90m missing \u001b[0m    126       1  data\\\\a=1_d=5_model=cubic.jld2\n",
       "   4 │ cubic   \u001b[90m missing \u001b[0m    217       1  data\\\\a=1_d=6_model=cubic.jld2\n",
       "   5 │ linear         2       4       2  data\\\\a=2_b=2_model=linear.jld2 \u001b[90m miss\u001b[0m ⋯\n",
       "   6 │ linear         3       5       2  data\\\\a=2_b=3_model=linear.jld2 \u001b[90m miss\u001b[0m\n",
       "   7 │ cubic   \u001b[90m missing \u001b[0m    127       2  data\\\\a=2_d=5_model=cubic.jld2\n",
       "   8 │ cubic   \u001b[90m missing \u001b[0m    218       2  data\\\\a=2_d=6_model=cubic.jld2\n",
       "\u001b[36m                                                                1 column omitted\u001b[0m"
      ]
     },
     "metadata": {},
     "output_type": "display_data"
    }
   ],
   "source": [
    "using DataFrames\n",
    "results = collect_results(\"data\")"
   ]
  },
  {
   "attachments": {},
   "cell_type": "markdown",
   "metadata": {},
   "source": [
    "So `collect_results` collected all files, but also did something extra, something very useful. Simulation parameters that do not exist in one run (see `b` vs `d`) have the value `missing`. `missing` is how Julia represents missing values."
   ]
  },
  {
   "cell_type": "code",
   "execution_count": 194,
   "metadata": {},
   "outputs": [],
   "source": [
    "# delete all saved data files (they are loaded in memory)\n",
    "rm(\"data\"; recursive = true)"
   ]
  },
  {
   "attachments": {},
   "cell_type": "markdown",
   "metadata": {},
   "source": [
    "# Tabular data with DataFrames.jl\n",
    "\n",
    "The `result` that we got above is a `DataFrame` from [DataFrames.jl](http://juliadata.github.io/DataFrames.jl/stable/), one of the major Julia packages for tabular data. \n",
    "\n",
    "## Basic stuff\n",
    "One can do basic selection of these data, for example selecting specific columns, removing columns, adding new columns or rows, etc. The `path` column of the `results` is not so useful, so let's remove it:"
   ]
  },
  {
   "cell_type": "code",
   "execution_count": 195,
   "metadata": {},
   "outputs": [
    {
     "data": {
      "text/html": [
       "<div><div style = \"float: left;\"><span>8×5 DataFrame</span></div><div style = \"clear: both;\"></div></div><div class = \"data-frame\" style = \"overflow-x: scroll;\"><table class = \"data-frame\" style = \"margin-bottom: 6px;\"><thead><tr class = \"header\"><th class = \"rowNumber\" style = \"font-weight: bold; text-align: right;\">Row</th><th style = \"text-align: left;\">model</th><th style = \"text-align: left;\">b</th><th style = \"text-align: left;\">r</th><th style = \"text-align: left;\">a</th><th style = \"text-align: left;\">d</th></tr><tr class = \"subheader headerLastRow\"><th class = \"rowNumber\" style = \"font-weight: bold; text-align: right;\"></th><th title = \"Union{Missing, String}\" style = \"text-align: left;\">String?</th><th title = \"Union{Missing, Int64}\" style = \"text-align: left;\">Int64?</th><th title = \"Union{Missing, Int64}\" style = \"text-align: left;\">Int64?</th><th title = \"Union{Missing, Int64}\" style = \"text-align: left;\">Int64?</th><th title = \"Union{Missing, Int64}\" style = \"text-align: left;\">Int64?</th></tr></thead><tbody><tr><td class = \"rowNumber\" style = \"font-weight: bold; text-align: right;\">1</td><td style = \"text-align: left;\">linear</td><td style = \"text-align: right;\">2</td><td style = \"text-align: right;\">3</td><td style = \"text-align: right;\">1</td><td style = \"font-style: italic; text-align: right;\">missing</td></tr><tr><td class = \"rowNumber\" style = \"font-weight: bold; text-align: right;\">2</td><td style = \"text-align: left;\">linear</td><td style = \"text-align: right;\">3</td><td style = \"text-align: right;\">4</td><td style = \"text-align: right;\">1</td><td style = \"font-style: italic; text-align: right;\">missing</td></tr><tr><td class = \"rowNumber\" style = \"font-weight: bold; text-align: right;\">3</td><td style = \"text-align: left;\">cubic</td><td style = \"font-style: italic; text-align: right;\">missing</td><td style = \"text-align: right;\">126</td><td style = \"text-align: right;\">1</td><td style = \"text-align: right;\">5</td></tr><tr><td class = \"rowNumber\" style = \"font-weight: bold; text-align: right;\">4</td><td style = \"text-align: left;\">cubic</td><td style = \"font-style: italic; text-align: right;\">missing</td><td style = \"text-align: right;\">217</td><td style = \"text-align: right;\">1</td><td style = \"text-align: right;\">6</td></tr><tr><td class = \"rowNumber\" style = \"font-weight: bold; text-align: right;\">5</td><td style = \"text-align: left;\">linear</td><td style = \"text-align: right;\">2</td><td style = \"text-align: right;\">4</td><td style = \"text-align: right;\">2</td><td style = \"font-style: italic; text-align: right;\">missing</td></tr><tr><td class = \"rowNumber\" style = \"font-weight: bold; text-align: right;\">6</td><td style = \"text-align: left;\">linear</td><td style = \"text-align: right;\">3</td><td style = \"text-align: right;\">5</td><td style = \"text-align: right;\">2</td><td style = \"font-style: italic; text-align: right;\">missing</td></tr><tr><td class = \"rowNumber\" style = \"font-weight: bold; text-align: right;\">7</td><td style = \"text-align: left;\">cubic</td><td style = \"font-style: italic; text-align: right;\">missing</td><td style = \"text-align: right;\">127</td><td style = \"text-align: right;\">2</td><td style = \"text-align: right;\">5</td></tr><tr><td class = \"rowNumber\" style = \"font-weight: bold; text-align: right;\">8</td><td style = \"text-align: left;\">cubic</td><td style = \"font-style: italic; text-align: right;\">missing</td><td style = \"text-align: right;\">218</td><td style = \"text-align: right;\">2</td><td style = \"text-align: right;\">6</td></tr></tbody></table></div>"
      ],
      "text/latex": [
       "\\begin{tabular}{r|ccccc}\n",
       "\t& model & b & r & a & d\\\\\n",
       "\t\\hline\n",
       "\t& String? & Int64? & Int64? & Int64? & Int64?\\\\\n",
       "\t\\hline\n",
       "\t1 & linear & 2 & 3 & 1 & \\emph{missing} \\\\\n",
       "\t2 & linear & 3 & 4 & 1 & \\emph{missing} \\\\\n",
       "\t3 & cubic & \\emph{missing} & 126 & 1 & 5 \\\\\n",
       "\t4 & cubic & \\emph{missing} & 217 & 1 & 6 \\\\\n",
       "\t5 & linear & 2 & 4 & 2 & \\emph{missing} \\\\\n",
       "\t6 & linear & 3 & 5 & 2 & \\emph{missing} \\\\\n",
       "\t7 & cubic & \\emph{missing} & 127 & 2 & 5 \\\\\n",
       "\t8 & cubic & \\emph{missing} & 218 & 2 & 6 \\\\\n",
       "\\end{tabular}\n"
      ],
      "text/plain": [
       "\u001b[1m8×5 DataFrame\u001b[0m\n",
       "\u001b[1m Row \u001b[0m│\u001b[1m model   \u001b[0m\u001b[1m b       \u001b[0m\u001b[1m r      \u001b[0m\u001b[1m a      \u001b[0m\u001b[1m d       \u001b[0m\n",
       "     │\u001b[90m String? \u001b[0m\u001b[90m Int64?  \u001b[0m\u001b[90m Int64? \u001b[0m\u001b[90m Int64? \u001b[0m\u001b[90m Int64?  \u001b[0m\n",
       "─────┼───────────────────────────────────────────\n",
       "   1 │ linear         2       3       1 \u001b[90m missing \u001b[0m\n",
       "   2 │ linear         3       4       1 \u001b[90m missing \u001b[0m\n",
       "   3 │ cubic   \u001b[90m missing \u001b[0m    126       1        5\n",
       "   4 │ cubic   \u001b[90m missing \u001b[0m    217       1        6\n",
       "   5 │ linear         2       4       2 \u001b[90m missing \u001b[0m\n",
       "   6 │ linear         3       5       2 \u001b[90m missing \u001b[0m\n",
       "   7 │ cubic   \u001b[90m missing \u001b[0m    127       2        5\n",
       "   8 │ cubic   \u001b[90m missing \u001b[0m    218       2        6"
      ]
     },
     "metadata": {},
     "output_type": "display_data"
    }
   ],
   "source": [
    "select!(results, Not(:path))"
   ]
  },
  {
   "attachments": {},
   "cell_type": "markdown",
   "metadata": {},
   "source": [
    "To access specific rows or columns you can access a dataframe like a matrix, e.g. `df[:, 1:3]` gives the first three rows while `df[:, [:a, :b]]` gives the rows selected by name.\n",
    "\n",
    "Adding new data to a dataframe is also straight forward. One can add new rows or new columns. New rows are added by either providing a vector (where the vector's length matches the number of columns), or by providing a named tuple that explicitly names which column gets which new value."
   ]
  },
  {
   "cell_type": "code",
   "execution_count": 196,
   "metadata": {},
   "outputs": [
    {
     "data": {
      "text/html": [
       "<div><div style = \"float: left;\"><span>3×3 DataFrame</span></div><div style = \"clear: both;\"></div></div><div class = \"data-frame\" style = \"overflow-x: scroll;\"><table class = \"data-frame\" style = \"margin-bottom: 6px;\"><thead><tr class = \"header\"><th class = \"rowNumber\" style = \"font-weight: bold; text-align: right;\">Row</th><th style = \"text-align: left;\">model</th><th style = \"text-align: left;\">b</th><th style = \"text-align: left;\">r</th></tr><tr class = \"subheader headerLastRow\"><th class = \"rowNumber\" style = \"font-weight: bold; text-align: right;\"></th><th title = \"Union{Missing, String}\" style = \"text-align: left;\">String?</th><th title = \"Union{Missing, Int64}\" style = \"text-align: left;\">Int64?</th><th title = \"Union{Missing, Int64}\" style = \"text-align: left;\">Int64?</th></tr></thead><tbody><tr><td class = \"rowNumber\" style = \"font-weight: bold; text-align: right;\">1</td><td style = \"text-align: left;\">linear</td><td style = \"text-align: right;\">2</td><td style = \"text-align: right;\">3</td></tr><tr><td class = \"rowNumber\" style = \"font-weight: bold; text-align: right;\">2</td><td style = \"text-align: left;\">linear</td><td style = \"text-align: right;\">3</td><td style = \"text-align: right;\">4</td></tr><tr><td class = \"rowNumber\" style = \"font-weight: bold; text-align: right;\">3</td><td style = \"text-align: left;\">cubic</td><td style = \"font-style: italic; text-align: right;\">missing</td><td style = \"text-align: right;\">126</td></tr></tbody></table></div>"
      ],
      "text/latex": [
       "\\begin{tabular}{r|ccc}\n",
       "\t& model & b & r\\\\\n",
       "\t\\hline\n",
       "\t& String? & Int64? & Int64?\\\\\n",
       "\t\\hline\n",
       "\t1 & linear & 2 & 3 \\\\\n",
       "\t2 & linear & 3 & 4 \\\\\n",
       "\t3 & cubic & \\emph{missing} & 126 \\\\\n",
       "\\end{tabular}\n"
      ],
      "text/plain": [
       "\u001b[1m3×3 DataFrame\u001b[0m\n",
       "\u001b[1m Row \u001b[0m│\u001b[1m model   \u001b[0m\u001b[1m b       \u001b[0m\u001b[1m r      \u001b[0m\n",
       "     │\u001b[90m String? \u001b[0m\u001b[90m Int64?  \u001b[0m\u001b[90m Int64? \u001b[0m\n",
       "─────┼──────────────────────────\n",
       "   1 │ linear         2       3\n",
       "   2 │ linear         3       4\n",
       "   3 │ cubic   \u001b[90m missing \u001b[0m    126"
      ]
     },
     "metadata": {},
     "output_type": "display_data"
    }
   ],
   "source": [
    "df1 = results[1:3, 1:3]"
   ]
  },
  {
   "cell_type": "code",
   "execution_count": 198,
   "metadata": {},
   "outputs": [
    {
     "data": {
      "text/html": [
       "<div><div style = \"float: left;\"><span>4×3 DataFrame</span></div><div style = \"clear: both;\"></div></div><div class = \"data-frame\" style = \"overflow-x: scroll;\"><table class = \"data-frame\" style = \"margin-bottom: 6px;\"><thead><tr class = \"header\"><th class = \"rowNumber\" style = \"font-weight: bold; text-align: right;\">Row</th><th style = \"text-align: left;\">model</th><th style = \"text-align: left;\">b</th><th style = \"text-align: left;\">r</th></tr><tr class = \"subheader headerLastRow\"><th class = \"rowNumber\" style = \"font-weight: bold; text-align: right;\"></th><th title = \"Union{Missing, String}\" style = \"text-align: left;\">String?</th><th title = \"Union{Missing, Int64}\" style = \"text-align: left;\">Int64?</th><th title = \"Union{Missing, Int64}\" style = \"text-align: left;\">Int64?</th></tr></thead><tbody><tr><td class = \"rowNumber\" style = \"font-weight: bold; text-align: right;\">1</td><td style = \"text-align: left;\">linear</td><td style = \"text-align: right;\">2</td><td style = \"text-align: right;\">3</td></tr><tr><td class = \"rowNumber\" style = \"font-weight: bold; text-align: right;\">2</td><td style = \"text-align: left;\">linear</td><td style = \"text-align: right;\">3</td><td style = \"text-align: right;\">4</td></tr><tr><td class = \"rowNumber\" style = \"font-weight: bold; text-align: right;\">3</td><td style = \"text-align: left;\">cubic</td><td style = \"font-style: italic; text-align: right;\">missing</td><td style = \"text-align: right;\">126</td></tr><tr><td class = \"rowNumber\" style = \"font-weight: bold; text-align: right;\">4</td><td style = \"text-align: left;\">test</td><td style = \"text-align: right;\">5</td><td style = \"text-align: right;\">5</td></tr></tbody></table></div>"
      ],
      "text/latex": [
       "\\begin{tabular}{r|ccc}\n",
       "\t& model & b & r\\\\\n",
       "\t\\hline\n",
       "\t& String? & Int64? & Int64?\\\\\n",
       "\t\\hline\n",
       "\t1 & linear & 2 & 3 \\\\\n",
       "\t2 & linear & 3 & 4 \\\\\n",
       "\t3 & cubic & \\emph{missing} & 126 \\\\\n",
       "\t4 & test & 5 & 5 \\\\\n",
       "\\end{tabular}\n"
      ],
      "text/plain": [
       "\u001b[1m4×3 DataFrame\u001b[0m\n",
       "\u001b[1m Row \u001b[0m│\u001b[1m model   \u001b[0m\u001b[1m b       \u001b[0m\u001b[1m r      \u001b[0m\n",
       "     │\u001b[90m String? \u001b[0m\u001b[90m Int64?  \u001b[0m\u001b[90m Int64? \u001b[0m\n",
       "─────┼──────────────────────────\n",
       "   1 │ linear         2       3\n",
       "   2 │ linear         3       4\n",
       "   3 │ cubic   \u001b[90m missing \u001b[0m    126\n",
       "   4 │ test           5       5"
      ]
     },
     "metadata": {},
     "output_type": "display_data"
    }
   ],
   "source": [
    "# add new row by order of columns\n",
    "push!(df1, [\"test\", 5, 5])"
   ]
  },
  {
   "cell_type": "code",
   "execution_count": 200,
   "metadata": {},
   "outputs": [
    {
     "data": {
      "text/html": [
       "<div><div style = \"float: left;\"><span>5×3 DataFrame</span></div><div style = \"clear: both;\"></div></div><div class = \"data-frame\" style = \"overflow-x: scroll;\"><table class = \"data-frame\" style = \"margin-bottom: 6px;\"><thead><tr class = \"header\"><th class = \"rowNumber\" style = \"font-weight: bold; text-align: right;\">Row</th><th style = \"text-align: left;\">model</th><th style = \"text-align: left;\">b</th><th style = \"text-align: left;\">r</th></tr><tr class = \"subheader headerLastRow\"><th class = \"rowNumber\" style = \"font-weight: bold; text-align: right;\"></th><th title = \"Union{Missing, String}\" style = \"text-align: left;\">String?</th><th title = \"Union{Missing, Int64}\" style = \"text-align: left;\">Int64?</th><th title = \"Union{Missing, Int64}\" style = \"text-align: left;\">Int64?</th></tr></thead><tbody><tr><td class = \"rowNumber\" style = \"font-weight: bold; text-align: right;\">1</td><td style = \"text-align: left;\">linear</td><td style = \"text-align: right;\">2</td><td style = \"text-align: right;\">3</td></tr><tr><td class = \"rowNumber\" style = \"font-weight: bold; text-align: right;\">2</td><td style = \"text-align: left;\">linear</td><td style = \"text-align: right;\">3</td><td style = \"text-align: right;\">4</td></tr><tr><td class = \"rowNumber\" style = \"font-weight: bold; text-align: right;\">3</td><td style = \"text-align: left;\">cubic</td><td style = \"font-style: italic; text-align: right;\">missing</td><td style = \"text-align: right;\">126</td></tr><tr><td class = \"rowNumber\" style = \"font-weight: bold; text-align: right;\">4</td><td style = \"text-align: left;\">test</td><td style = \"text-align: right;\">5</td><td style = \"text-align: right;\">5</td></tr><tr><td class = \"rowNumber\" style = \"font-weight: bold; text-align: right;\">5</td><td style = \"text-align: left;\">test2</td><td style = \"text-align: right;\">-5</td><td style = \"text-align: right;\">89</td></tr></tbody></table></div>"
      ],
      "text/latex": [
       "\\begin{tabular}{r|ccc}\n",
       "\t& model & b & r\\\\\n",
       "\t\\hline\n",
       "\t& String? & Int64? & Int64?\\\\\n",
       "\t\\hline\n",
       "\t1 & linear & 2 & 3 \\\\\n",
       "\t2 & linear & 3 & 4 \\\\\n",
       "\t3 & cubic & \\emph{missing} & 126 \\\\\n",
       "\t4 & test & 5 & 5 \\\\\n",
       "\t5 & test2 & -5 & 89 \\\\\n",
       "\\end{tabular}\n"
      ],
      "text/plain": [
       "\u001b[1m5×3 DataFrame\u001b[0m\n",
       "\u001b[1m Row \u001b[0m│\u001b[1m model   \u001b[0m\u001b[1m b       \u001b[0m\u001b[1m r      \u001b[0m\n",
       "     │\u001b[90m String? \u001b[0m\u001b[90m Int64?  \u001b[0m\u001b[90m Int64? \u001b[0m\n",
       "─────┼──────────────────────────\n",
       "   1 │ linear         2       3\n",
       "   2 │ linear         3       4\n",
       "   3 │ cubic   \u001b[90m missing \u001b[0m    126\n",
       "   4 │ test           5       5\n",
       "   5 │ test2         -5      89"
      ]
     },
     "metadata": {},
     "output_type": "display_data"
    }
   ],
   "source": [
    "# add new row by name of columnns\n",
    "push!(df1, (model = \"test2\", r=89, b = -5))"
   ]
  },
  {
   "cell_type": "code",
   "execution_count": 202,
   "metadata": {},
   "outputs": [
    {
     "data": {
      "text/html": [
       "<div><div style = \"float: left;\"><span>5×4 DataFrame</span></div><div style = \"clear: both;\"></div></div><div class = \"data-frame\" style = \"overflow-x: scroll;\"><table class = \"data-frame\" style = \"margin-bottom: 6px;\"><thead><tr class = \"header\"><th class = \"rowNumber\" style = \"font-weight: bold; text-align: right;\">Row</th><th style = \"text-align: left;\">model</th><th style = \"text-align: left;\">b</th><th style = \"text-align: left;\">r</th><th style = \"text-align: left;\">z</th></tr><tr class = \"subheader headerLastRow\"><th class = \"rowNumber\" style = \"font-weight: bold; text-align: right;\"></th><th title = \"Union{Missing, String}\" style = \"text-align: left;\">String?</th><th title = \"Union{Missing, Int64}\" style = \"text-align: left;\">Int64?</th><th title = \"Union{Missing, Int64}\" style = \"text-align: left;\">Int64?</th><th title = \"Float64\" style = \"text-align: left;\">Float64</th></tr></thead><tbody><tr><td class = \"rowNumber\" style = \"font-weight: bold; text-align: right;\">1</td><td style = \"text-align: left;\">linear</td><td style = \"text-align: right;\">2</td><td style = \"text-align: right;\">3</td><td style = \"text-align: right;\">0.108019</td></tr><tr><td class = \"rowNumber\" style = \"font-weight: bold; text-align: right;\">2</td><td style = \"text-align: left;\">linear</td><td style = \"text-align: right;\">3</td><td style = \"text-align: right;\">4</td><td style = \"text-align: right;\">0.267137</td></tr><tr><td class = \"rowNumber\" style = \"font-weight: bold; text-align: right;\">3</td><td style = \"text-align: left;\">cubic</td><td style = \"font-style: italic; text-align: right;\">missing</td><td style = \"text-align: right;\">126</td><td style = \"text-align: right;\">0.331057</td></tr><tr><td class = \"rowNumber\" style = \"font-weight: bold; text-align: right;\">4</td><td style = \"text-align: left;\">test</td><td style = \"text-align: right;\">5</td><td style = \"text-align: right;\">5</td><td style = \"text-align: right;\">0.656981</td></tr><tr><td class = \"rowNumber\" style = \"font-weight: bold; text-align: right;\">5</td><td style = \"text-align: left;\">test2</td><td style = \"text-align: right;\">-5</td><td style = \"text-align: right;\">89</td><td style = \"text-align: right;\">0.876635</td></tr></tbody></table></div>"
      ],
      "text/latex": [
       "\\begin{tabular}{r|cccc}\n",
       "\t& model & b & r & z\\\\\n",
       "\t\\hline\n",
       "\t& String? & Int64? & Int64? & Float64\\\\\n",
       "\t\\hline\n",
       "\t1 & linear & 2 & 3 & 0.108019 \\\\\n",
       "\t2 & linear & 3 & 4 & 0.267137 \\\\\n",
       "\t3 & cubic & \\emph{missing} & 126 & 0.331057 \\\\\n",
       "\t4 & test & 5 & 5 & 0.656981 \\\\\n",
       "\t5 & test2 & -5 & 89 & 0.876635 \\\\\n",
       "\\end{tabular}\n"
      ],
      "text/plain": [
       "\u001b[1m5×4 DataFrame\u001b[0m\n",
       "\u001b[1m Row \u001b[0m│\u001b[1m model   \u001b[0m\u001b[1m b       \u001b[0m\u001b[1m r      \u001b[0m\u001b[1m z        \u001b[0m\n",
       "     │\u001b[90m String? \u001b[0m\u001b[90m Int64?  \u001b[0m\u001b[90m Int64? \u001b[0m\u001b[90m Float64  \u001b[0m\n",
       "─────┼────────────────────────────────────\n",
       "   1 │ linear         2       3  0.108019\n",
       "   2 │ linear         3       4  0.267137\n",
       "   3 │ cubic   \u001b[90m missing \u001b[0m    126  0.331057\n",
       "   4 │ test           5       5  0.656981\n",
       "   5 │ test2         -5      89  0.876635"
      ]
     },
     "metadata": {},
     "output_type": "display_data"
    }
   ],
   "source": [
    "# add new row with given name by field assignment\n",
    "df1.z = rand(size(df1, 1))\n",
    "df1"
   ]
  },
  {
   "attachments": {},
   "cell_type": "markdown",
   "metadata": {},
   "source": [
    "## Querying and manipulating a `DataFrame`\n",
    "\n",
    "General querying and data manipulation can be done on `DataFrame`s using standard library functions from DataFrames.jl. However, it is [recommended](https://dataframes.juliadata.org/stable/man/querying_frameworks/#Data-manipulation-frameworks) to use a package dedicated to querying and data manupulation that provides simpler/easier syntax for it. Several options exist, each providing a slightly different variant on the syntax, so you can pick whatever you feel most comfortable in. Here we will use a LINQ-like [Query.jl](https://www.queryverse.org/Query.jl/stable/) syntax, which can be used with any tabular Julia data."
   ]
  },
  {
   "cell_type": "code",
   "execution_count": 203,
   "metadata": {},
   "outputs": [
    {
     "data": {
      "text/html": [
       "<div><div style = \"float: left;\"><span>8×5 DataFrame</span></div><div style = \"clear: both;\"></div></div><div class = \"data-frame\" style = \"overflow-x: scroll;\"><table class = \"data-frame\" style = \"margin-bottom: 6px;\"><thead><tr class = \"header\"><th class = \"rowNumber\" style = \"font-weight: bold; text-align: right;\">Row</th><th style = \"text-align: left;\">model</th><th style = \"text-align: left;\">b</th><th style = \"text-align: left;\">r</th><th style = \"text-align: left;\">a</th><th style = \"text-align: left;\">d</th></tr><tr class = \"subheader headerLastRow\"><th class = \"rowNumber\" style = \"font-weight: bold; text-align: right;\"></th><th title = \"Union{Missing, String}\" style = \"text-align: left;\">String?</th><th title = \"Union{Missing, Int64}\" style = \"text-align: left;\">Int64?</th><th title = \"Union{Missing, Int64}\" style = \"text-align: left;\">Int64?</th><th title = \"Union{Missing, Int64}\" style = \"text-align: left;\">Int64?</th><th title = \"Union{Missing, Int64}\" style = \"text-align: left;\">Int64?</th></tr></thead><tbody><tr><td class = \"rowNumber\" style = \"font-weight: bold; text-align: right;\">1</td><td style = \"text-align: left;\">linear</td><td style = \"text-align: right;\">2</td><td style = \"text-align: right;\">3</td><td style = \"text-align: right;\">1</td><td style = \"font-style: italic; text-align: right;\">missing</td></tr><tr><td class = \"rowNumber\" style = \"font-weight: bold; text-align: right;\">2</td><td style = \"text-align: left;\">linear</td><td style = \"text-align: right;\">3</td><td style = \"text-align: right;\">4</td><td style = \"text-align: right;\">1</td><td style = \"font-style: italic; text-align: right;\">missing</td></tr><tr><td class = \"rowNumber\" style = \"font-weight: bold; text-align: right;\">3</td><td style = \"text-align: left;\">cubic</td><td style = \"font-style: italic; text-align: right;\">missing</td><td style = \"text-align: right;\">126</td><td style = \"text-align: right;\">1</td><td style = \"text-align: right;\">5</td></tr><tr><td class = \"rowNumber\" style = \"font-weight: bold; text-align: right;\">4</td><td style = \"text-align: left;\">cubic</td><td style = \"font-style: italic; text-align: right;\">missing</td><td style = \"text-align: right;\">217</td><td style = \"text-align: right;\">1</td><td style = \"text-align: right;\">6</td></tr><tr><td class = \"rowNumber\" style = \"font-weight: bold; text-align: right;\">5</td><td style = \"text-align: left;\">linear</td><td style = \"text-align: right;\">2</td><td style = \"text-align: right;\">4</td><td style = \"text-align: right;\">2</td><td style = \"font-style: italic; text-align: right;\">missing</td></tr><tr><td class = \"rowNumber\" style = \"font-weight: bold; text-align: right;\">6</td><td style = \"text-align: left;\">linear</td><td style = \"text-align: right;\">3</td><td style = \"text-align: right;\">5</td><td style = \"text-align: right;\">2</td><td style = \"font-style: italic; text-align: right;\">missing</td></tr><tr><td class = \"rowNumber\" style = \"font-weight: bold; text-align: right;\">7</td><td style = \"text-align: left;\">cubic</td><td style = \"font-style: italic; text-align: right;\">missing</td><td style = \"text-align: right;\">127</td><td style = \"text-align: right;\">2</td><td style = \"text-align: right;\">5</td></tr><tr><td class = \"rowNumber\" style = \"font-weight: bold; text-align: right;\">8</td><td style = \"text-align: left;\">cubic</td><td style = \"font-style: italic; text-align: right;\">missing</td><td style = \"text-align: right;\">218</td><td style = \"text-align: right;\">2</td><td style = \"text-align: right;\">6</td></tr></tbody></table></div>"
      ],
      "text/latex": [
       "\\begin{tabular}{r|ccccc}\n",
       "\t& model & b & r & a & d\\\\\n",
       "\t\\hline\n",
       "\t& String? & Int64? & Int64? & Int64? & Int64?\\\\\n",
       "\t\\hline\n",
       "\t1 & linear & 2 & 3 & 1 & \\emph{missing} \\\\\n",
       "\t2 & linear & 3 & 4 & 1 & \\emph{missing} \\\\\n",
       "\t3 & cubic & \\emph{missing} & 126 & 1 & 5 \\\\\n",
       "\t4 & cubic & \\emph{missing} & 217 & 1 & 6 \\\\\n",
       "\t5 & linear & 2 & 4 & 2 & \\emph{missing} \\\\\n",
       "\t6 & linear & 3 & 5 & 2 & \\emph{missing} \\\\\n",
       "\t7 & cubic & \\emph{missing} & 127 & 2 & 5 \\\\\n",
       "\t8 & cubic & \\emph{missing} & 218 & 2 & 6 \\\\\n",
       "\\end{tabular}\n"
      ],
      "text/plain": [
       "\u001b[1m8×5 DataFrame\u001b[0m\n",
       "\u001b[1m Row \u001b[0m│\u001b[1m model   \u001b[0m\u001b[1m b       \u001b[0m\u001b[1m r      \u001b[0m\u001b[1m a      \u001b[0m\u001b[1m d       \u001b[0m\n",
       "     │\u001b[90m String? \u001b[0m\u001b[90m Int64?  \u001b[0m\u001b[90m Int64? \u001b[0m\u001b[90m Int64? \u001b[0m\u001b[90m Int64?  \u001b[0m\n",
       "─────┼───────────────────────────────────────────\n",
       "   1 │ linear         2       3       1 \u001b[90m missing \u001b[0m\n",
       "   2 │ linear         3       4       1 \u001b[90m missing \u001b[0m\n",
       "   3 │ cubic   \u001b[90m missing \u001b[0m    126       1        5\n",
       "   4 │ cubic   \u001b[90m missing \u001b[0m    217       1        6\n",
       "   5 │ linear         2       4       2 \u001b[90m missing \u001b[0m\n",
       "   6 │ linear         3       5       2 \u001b[90m missing \u001b[0m\n",
       "   7 │ cubic   \u001b[90m missing \u001b[0m    127       2        5\n",
       "   8 │ cubic   \u001b[90m missing \u001b[0m    218       2        6"
      ]
     },
     "metadata": {},
     "output_type": "display_data"
    }
   ],
   "source": [
    "using Query\n",
    "results"
   ]
  },
  {
   "attachments": {},
   "cell_type": "markdown",
   "metadata": {},
   "source": [
    "Let's perform a basic query that we explain step-by-step:"
   ]
  },
  {
   "cell_type": "code",
   "execution_count": 204,
   "metadata": {},
   "outputs": [
    {
     "data": {
      "text/html": [
       "<div><div style = \"float: left;\"><span>4×3 DataFrame</span></div><div style = \"clear: both;\"></div></div><div class = \"data-frame\" style = \"overflow-x: scroll;\"><table class = \"data-frame\" style = \"margin-bottom: 6px;\"><thead><tr class = \"header\"><th class = \"rowNumber\" style = \"font-weight: bold; text-align: right;\">Row</th><th style = \"text-align: left;\">a</th><th style = \"text-align: left;\">r</th><th style = \"text-align: left;\">rsquared</th></tr><tr class = \"subheader headerLastRow\"><th class = \"rowNumber\" style = \"font-weight: bold; text-align: right;\"></th><th title = \"Union{Missing, Int64}\" style = \"text-align: left;\">Int64?</th><th title = \"Union{Missing, Int64}\" style = \"text-align: left;\">Int64?</th><th title = \"Union{Missing, Int64}\" style = \"text-align: left;\">Int64?</th></tr></thead><tbody><tr><td class = \"rowNumber\" style = \"font-weight: bold; text-align: right;\">1</td><td style = \"text-align: right;\">1</td><td style = \"text-align: right;\">3</td><td style = \"text-align: right;\">9</td></tr><tr><td class = \"rowNumber\" style = \"font-weight: bold; text-align: right;\">2</td><td style = \"text-align: right;\">1</td><td style = \"text-align: right;\">4</td><td style = \"text-align: right;\">16</td></tr><tr><td class = \"rowNumber\" style = \"font-weight: bold; text-align: right;\">3</td><td style = \"text-align: right;\">2</td><td style = \"text-align: right;\">4</td><td style = \"text-align: right;\">16</td></tr><tr><td class = \"rowNumber\" style = \"font-weight: bold; text-align: right;\">4</td><td style = \"text-align: right;\">2</td><td style = \"text-align: right;\">5</td><td style = \"text-align: right;\">25</td></tr></tbody></table></div>"
      ],
      "text/latex": [
       "\\begin{tabular}{r|ccc}\n",
       "\t& a & r & rsquared\\\\\n",
       "\t\\hline\n",
       "\t& Int64? & Int64? & Int64?\\\\\n",
       "\t\\hline\n",
       "\t1 & 1 & 3 & 9 \\\\\n",
       "\t2 & 1 & 4 & 16 \\\\\n",
       "\t3 & 2 & 4 & 16 \\\\\n",
       "\t4 & 2 & 5 & 25 \\\\\n",
       "\\end{tabular}\n"
      ],
      "text/plain": [
       "\u001b[1m4×3 DataFrame\u001b[0m\n",
       "\u001b[1m Row \u001b[0m│\u001b[1m a      \u001b[0m\u001b[1m r      \u001b[0m\u001b[1m rsquared \u001b[0m\n",
       "     │\u001b[90m Int64? \u001b[0m\u001b[90m Int64? \u001b[0m\u001b[90m Int64?   \u001b[0m\n",
       "─────┼──────────────────────────\n",
       "   1 │      1       3         9\n",
       "   2 │      1       4        16\n",
       "   3 │      2       4        16\n",
       "   4 │      2       5        25"
      ]
     },
     "metadata": {},
     "output_type": "display_data"
    }
   ],
   "source": [
    "# `@from ... begin` initializes a query\n",
    "# here `row` (any name would be fine) is the\n",
    "# iterable of the tabular data. Think of it as a\n",
    "# NamedTuple. You can access its values by name with the . syntax\n",
    "q = @from row in results begin\n",
    "    # `@where` filters elements where the following\n",
    "    # expression is true.\n",
    "    @where row.model == \"linear\"\n",
    "    # `@select {stuff... }  creates a new named tuple\n",
    "    @select {row.a, row.r, rsquared = row.r^2}\n",
    "    # `@collect` collects the selected results into\n",
    "    # the specified data structure\n",
    "    @collect DataFrame\n",
    "end"
   ]
  },
  {
   "attachments": {},
   "cell_type": "markdown",
   "metadata": {},
   "source": [
    "As you can see, you don't have to necessarily collect only existing columns, you can even create new ones (specified by name).\n",
    "\n",
    "Of course, much, much more things are possible to do in such a query. For more, see the documentation of Query.jl."
   ]
  },
  {
   "cell_type": "markdown",
   "metadata": {},
   "source": [
    "# A final take-home message\n",
    "\n",
    "One thing that should really be added a lot of weight, is **how simple, transparent, and high level are the interfaces of everything** that you have seen so far. Both base Julia, as well as most packages for it, have such a simple interface which means that people can learn the software faster and spend more time actually doing science than trying to figure out how to write the code.\n",
    "\n",
    "This is something that \"old\" programming languages typically fail at: most (young) people that use codebases written in C/FORTRAN without any high level API defined on top (in e.g. Python) always complain that it is \"so hard to use this stuff\".\n",
    "On the other end of the spectrum, packages that are written in Python (while their actual computational code is calling C libraries) are very hard to extend.\n",
    "\n",
    "Julia = answer :) "
   ]
  },
  {
   "attachments": {},
   "cell_type": "markdown",
   "metadata": {},
   "source": [
    "# Exercises\n",
    "\n",
    "These exercises will require you to search things on the online documentation of the pacakges. (because this is an integral part of the process of \"learning a Julia package\")"
   ]
  },
  {
   "cell_type": "markdown",
   "metadata": {},
   "source": [
    "\n",
    "## Bouncing ball\n",
    "\n",
    "Using the callback functionality of DifferentialEquations.jl, implement the bouncing ball physical system:\n",
    "\n",
    "$$\n",
    "\\begin{aligned}\n",
    "\\dot{x} &= v \\\\\n",
    "\\dot{v} &= -g - \\gamma v \n",
    "\\end{aligned}\n",
    "$$\n",
    "and at $x=0$ there is a table that the ball bounces from. $g$ is the gravity constant and $\\gamma$ the air friction (use e.g. $g=10, \\gamma = 0.99, x = 1, v = 0$). Implement this problem for elastic collisions (elastic collisions preserve velocity measure), and plot the time evolution of $x, v$ versus time.\n",
    "\n",
    "*Hint: whenever the ball reaches the level $x=0$, its velocity should be reversed.*"
   ]
  },
  {
   "cell_type": "markdown",
   "metadata": {},
   "source": [
    "\n",
    "## Distribution quantile\n",
    "\n",
    "To find the $q$-th quantile of a distribution, one can use a Newton method\n",
    "\n",
    "$$\\theta_{n+1} = \\theta_n -\\frac{\\text{cdf}(\\theta)−q}{\\text{pdf}(\\theta)}$$\n",
    "\n",
    "where $\\theta_n$ converges to the value of the $q$-th quantile. cdf and pdf are the cumulatide and probability density functions respectively.\n",
    "\n",
    "Write a generic function that implements the algorithm which calculates the qth quantile of any `UnivariateDistribution` in Distributions.jl, and test your result against the `quantile(d::UnivariateDistribution, q::Number)` function from Distributions.jl using the following distributions: `[Gamma(5, 1), Normal(0, 1), Beta(2, 4)]`.\n",
    "\n",
    "*Hint: use `θ₀ = mean(distribution)`*\n"
   ]
  },
  {
   "cell_type": "markdown",
   "metadata": {},
   "source": [
    "\n",
    "## Plotting subsets of a dataframe\n",
    "\n",
    "`DataFrames` has a default dataset that is used in its test suite. Install the `CSV` package, and load this dataset with the command:\n",
    "```julia\n",
    "using DataFrames, CSV\n",
    "iris = DataFrame(CSV.File(\n",
    "    joinpath(dirname(pathof(DataFrames)), \n",
    "    \"../docs/src/assets/iris.csv\")\n",
    "))\n",
    "```\n",
    "\n",
    "This dataset has various flower species (column `:Species`). For every species create a 1x2 figure with the following plots:\n",
    "\n",
    "* [1,1] = scatter plot of `SepalLength` vs `SepalWidth`. \n",
    "* [1,2] = scatter plot of `PetalLength` vs `PetalWidth`.\n",
    "\n",
    "for each of these sub-scatter plots, calculate and print the Pearson correlaton coefficient.\n"
   ]
  },
  {
   "cell_type": "markdown",
   "metadata": {},
   "source": [
    "\n",
    "## DataFrame of chaos\n",
    "\n",
    "Define the Roessler system as a `DynamicalSystem`:\n",
    "$$\n",
    "\\begin{aligned}\n",
    "\\dot{x} &= -y-z \\\\\n",
    "\\dot{y} &= x+ay \\\\\n",
    "\\dot{z} &= b + z(x-c)\n",
    "\\end{aligned}\n",
    "$$\n",
    "with initial condition `ones(3)`. Loop over all three of the following parameter ranges:\n",
    "```julia\n",
    "as = 0.15:0.025:0.25\n",
    "bs = 0.15:0.025:0.25\n",
    "cs = 4:0.1:6.0\n",
    "```\n",
    "\n",
    "and for each parameter combination calculate (1) the Lyapunov spectrum using `lyapunovspectrum` and (2) the Shannon entropy of the system's trajectory. For the entropy, simulate a `trajectory` of the system with sampling time `Δt=0.1` and use `ε=0.1` for the box size when calling `DynamicalSystems.entropy(ValueHistogram(ε), X))`. For changing parameters you have to use `set_parameter!`. Remember that you can push entries to a `DataFrame` row-by-row using `push!(dataframe, (a = a, b = b, ...))`.\n",
    "\n",
    "Collect this analysis into a dataframe, with columns `a, b, c, λ1, λ3, H` with `λ1, λ3` the first and last elements of `lyapunovspectrum`. Then use the querying framework to query into this dataframe and do the following processes:\n",
    "\n",
    "####  find chaotic parameter sets\n",
    "Select all values `a, b, c` where `λ1 > 0.01` (which indicates chaotic dynamics).\n",
    "\n",
    "####  λ vs H\n",
    "For all chaotic cases, select the `λ1, H` values and then perform a scatter plot of these two.\n",
    "\n",
    "#### heatmap of H\n",
    "For `a` fixed to `0.2`, plot a heatmap of the value of `H` with axis the values of `c` and the values of `b`. Provided that you have a dataframe with columns `:b, :c, :H`, then these commands:\n",
    "```julia\n",
    "unstacked = unstack(df, :b,  :H; renamecols = (x -> \"H for b=$(x)\"))\n",
    "heat = Matrix(unstacked[:, Not(:c)])\n",
    "```\n",
    "will create a matrix with the values of `H` where the row index is the values of `c` and the column index is the values of `b`.\n",
    "\n",
    "*Hint: you can initiallize an empty dataframe with `df = DataFrame()`, and then start pushing into it arbitrary named tuples like `push!(df, (a = 0.5, b = 0.5))`.*\n",
    "\n",
    "*Hint 2: this all sounds like a lot of computation, but if you do the exercise correct running all code should not take more than 10 seconds.*\n"
   ]
  },
  {
   "cell_type": "markdown",
   "metadata": {},
   "source": [
    "## Something with blackBox Optim"
   ]
  },
  {
   "cell_type": "markdown",
   "metadata": {},
   "source": [
    "Use BlackBoxOptim.jl to find the minimum of the Rozenbrock function, defined as\n",
    "$$\n",
    "f(x,y) = (2 - x)^2 + 100(y - x^2)^2\n",
    "$$\n",
    "limiting the search range to $x =(-5, 5)$ and $y = (0, 10)$. Confirm that the global minimum is $(2, 4)$."
   ]
  },
  {
   "cell_type": "markdown",
   "metadata": {},
   "source": [
    "## Reproducible scientific project\n",
    "*this exercise only applies to participants that already know Git*\n",
    "\n",
    "* Use DrWatson's `initialize_project` to start a scientific project somewhere on your computer. \n",
    "* Add the packages `JLD2, Distributions` to this project. \n",
    "* In the `scripts` folder create a new Julia script that uses three parameters `a, b, c ∈ Reals` and creates a random result `r`. Save this result into disk by using `savename` to produce a name from `a, b, c`, and using `tagsave` to do the actual saving.\n",
    "* Save your script, and commit it into Git. Then run the script, load the saved file, and confirm that the saved git commit ID matches that of your Git repo.\n"
   ]
  }
 ],
 "metadata": {
  "kernelspec": {
   "display_name": "Julia 1.9.1",
   "language": "julia",
   "name": "julia-1.9"
  },
  "language_info": {
   "file_extension": ".jl",
   "mimetype": "application/julia",
   "name": "julia",
   "version": "1.9.1"
  }
 },
 "nbformat": 4,
 "nbformat_minor": 2
}
