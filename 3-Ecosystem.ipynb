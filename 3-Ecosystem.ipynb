{
 "cells": [
  {
   "cell_type": "markdown",
   "metadata": {},
   "source": [
    "# Julia ecosystems of scientific computing\n",
    "\n",
    "There are many Julia organizations about seemingly every scientific area. Some examples:\n",
    "\n",
    "- Astrophysics: [JuliaAstro](https://juliaastro.github.io/), [JuliaSpace](https://github.com/JuliaSpace)\n",
    "- Bio/Chemistry: [JuliaBio](https://biojulia.net/), [Molecular simulations](https://github.com/JuliaMolSim)\n",
    "- Complex systems, nonlinear dynamics: [JuliaDynamics](https://juliadynamics.github.io/JuliaDynamics/)\n",
    "- Differential equations: [JuliaDiffEq](https://juliadiffeq.org/)\n",
    "- Solid state: [QuantumOptics](https://qojulia.org/), [JuliaPhysics](https://github.com/JuliaPhysics)\n",
    "- Economics: [QuantEcon](https://julia.quantecon.org/), [JuliaQuant](https://github.com/JuliaQuant)\n",
    "- Geosciences/Climate: [JuliaGeo](https://github.com/JuliaGeo), [JuliaEarth](https://github.com/JuliaEarth), [JuliaClimate](https://github.com/JuliaClimate).\n",
    "\n",
    "among many many others, not even mentioning mathematics-focused organizations like nonlinear optimazation, etc....\n",
    "\n",
    "\n",
    "In this last session I will (**very briefly**) overview some powerful Julia packages I found useful for *my own work* and hopefully you will too. Even if the packages relevant for me are not useful in your field, it is still good practice to solve the exercises, to \"learn how to learn Julia packages\". \n",
    "\n",
    "The goal of this last session is that *you* do most of the work, *you* play around and see what you would like to do, *you* ask questions. \n",
    "\n",
    "*Quick note: I use `PyPlot` (the matplotlib package of Python) to plot, because it is super-duper powerful. All Python packages are immediatelly and directly usable in Julia with exactly same syntax as Python (besides the indexing thingy: Julia indices start from 1.*"
   ]
  },
  {
   "cell_type": "code",
   "execution_count": 1,
   "metadata": {},
   "outputs": [],
   "source": [
    "using PyPlot\n",
    "# set default figure size:\n",
    "PyPlot.rc(\"figure\", figsize = (5, 3))\n",
    "# enable 3D plotting\n",
    "using3D()"
   ]
  },
  {
   "cell_type": "markdown",
   "metadata": {},
   "source": [
    "\n",
    "# 1. DifferentialEquations.jl\n",
    "\n",
    "[DifferentialEquations.jl](https://docs.juliadiffeq.org/latest/) is by far [the best](https://www.stochasticlifestyle.com/comparison-differential-equation-solver-suites-matlab-r-julia-python-c-fortran/) free and open source differential equations solver (not for Julia, for any language). It can solve standard ODEs, Delay-DEs, stochastic DEs, has tools for PDEs, event handling, other multiple features, 100s of solvers, and *even more*.\n",
    "\n",
    "Here we will focus on ODEs and use the module `OrdinaryDiffEq` only.\n",
    "\n",
    "## Defining and solving some ODEs\n",
    "\n",
    "The way DifferentialEquations.jl works is quite straightforward:\n",
    "\n",
    "1. Make your set of ODEs a Julia function `f`\n",
    "2. Put `f`, an initial state and a parameter container into an `ODEProblem`.\n",
    "2. Choose the solvers and the arguments of the solvers you will use (e.g. tolerances, etc.)\n",
    "3. Give `f` as well as the auxilary arguments to the function `solve`!\n",
    "\n",
    "Let's see it in practice by solving the Lorenz system\n",
    "\n",
    "$$\n",
    "\\begin{aligned}\n",
    "\\dot{x} &= \\sigma (y - x) \\\\\n",
    "\\dot{y} &= x (\\rho - z) - y \\\\\n",
    "\\dot{z} &= xy -\\beta z\n",
    "\\end{aligned}\n",
    "$$\n",
    "\n",
    "First step is to make this a Julia function. There is some strictness when writing this function in Julia (to play well with another software, see below). \n",
    "Specifically, it can only be one of two forms: out-of-place (oop) or in-place (iip). Here is how to define it (`p` is the parameter container, `t` is time):\n",
    "\n",
    "* **oop** : The `eom` function must be in the form `eom(x, p, t) -> SVector`\n",
    "  which means that given a state `x::SVector` it returns an [`SVector`](http://juliaarrays.github.io/StaticArrays.jl/stable/pages/api.html#SVector-1)\n",
    "  (from the [StaticArrays](https://github.com/JuliaArrays/StaticArrays.jl) module)\n",
    "  containing the derivatives.\n",
    "* **iip** : The `eom` function must be in the form `eom!(dx, x, p, t)`\n",
    "  which means that given a state `x::Vector` it writes in-place the derivatives in `dx`.\n",
    "\n",
    "We advise to use **oop** for systems with dimension ≤ 10, and use **iip** otherwise."
   ]
  },
  {
   "cell_type": "code",
   "execution_count": 2,
   "metadata": {},
   "outputs": [
    {
     "data": {
      "text/plain": [
       "lorenz_rule (generic function with 1 method)"
      ]
     },
     "execution_count": 2,
     "metadata": {},
     "output_type": "execute_result"
    }
   ],
   "source": [
    "using OrdinaryDiffEq, StaticArrays\n",
    "\n",
    "function lorenz_rule(u, p, t)\n",
    "    σ, ρ, β = p\n",
    "    x, y, z = u\n",
    "    dx = σ*(y - x)\n",
    "    dy = x*(ρ-z) - y\n",
    "    dz = x*y - β*z\n",
    "    return SVector(dx, dy, dz)\n",
    "end"
   ]
  },
  {
   "cell_type": "markdown",
   "metadata": {},
   "source": [
    "Then set the initial state and parameter container"
   ]
  },
  {
   "cell_type": "code",
   "execution_count": 3,
   "metadata": {},
   "outputs": [
    {
     "data": {
      "text/plain": [
       "3-element Array{Float64,1}:\n",
       " 10.0               \n",
       " 28.0               \n",
       "  2.6666666666666665"
      ]
     },
     "execution_count": 3,
     "metadata": {},
     "output_type": "execute_result"
    }
   ],
   "source": [
    "u₀ = SVector(10.0, 10.0, 10.0)\n",
    "p₀ = [10, 28, 8/3]"
   ]
  },
  {
   "cell_type": "markdown",
   "metadata": {},
   "source": [
    "then put everything into the `ODEProblem` structure:"
   ]
  },
  {
   "cell_type": "code",
   "execution_count": 4,
   "metadata": {
    "scrolled": true
   },
   "outputs": [
    {
     "data": {
      "text/plain": [
       "\u001b[36mODEProblem\u001b[0m with uType \u001b[36mSArray{Tuple{3},Float64,1,3}\u001b[0m and tType \u001b[36mFloat64\u001b[0m. In-place: \u001b[36mfalse\u001b[0m\n",
       "timespan: (0.0, 100.0)\n",
       "u0: [10.0, 10.0, 10.0]"
      ]
     },
     "execution_count": 4,
     "metadata": {},
     "output_type": "execute_result"
    }
   ],
   "source": [
    "# third argument is the timespan to solve in\n",
    "prob = ODEProblem(lorenz_rule, u₀, (0.0, 100.0), p₀)"
   ]
  },
  {
   "cell_type": "markdown",
   "metadata": {},
   "source": [
    "Alright, so now we choose the solver to use"
   ]
  },
  {
   "cell_type": "code",
   "execution_count": 5,
   "metadata": {},
   "outputs": [
    {
     "data": {
      "text/plain": [
       "Vern9(true)"
      ]
     },
     "execution_count": 5,
     "metadata": {},
     "output_type": "execute_result"
    }
   ],
   "source": [
    "alg = Vern9() # 9-th order adaptive solver"
   ]
  },
  {
   "cell_type": "markdown",
   "metadata": {},
   "source": [
    "Now let's solve the Lorenz system using the default settings of DifferentialEquations.jl (without specifying anything else)."
   ]
  },
  {
   "cell_type": "code",
   "execution_count": 6,
   "metadata": {},
   "outputs": [
    {
     "data": {
      "text/plain": [
       "retcode: Success\n",
       "Interpolation: specialized 9th order lazy interpolation\n",
       "t: 902-element Array{Float64,1}:\n",
       "   0.0                \n",
       "   0.09355226310426   \n",
       "   0.17283944628206213\n",
       "   0.24997046635545134\n",
       "   0.33111610744803827\n",
       "   0.42743131783646965\n",
       "   0.5201140913658462 \n",
       "   0.6242605175854586 \n",
       "   0.7340052492650533 \n",
       "   0.8380149776590866 \n",
       "   0.9438866257985115 \n",
       "   1.0545811111840224 \n",
       "   1.1789855148275294 \n",
       "   ⋮                  \n",
       "  98.86131214292969   \n",
       "  98.966663437393     \n",
       "  99.07194022267977   \n",
       "  99.19597178668509   \n",
       "  99.33755089044504   \n",
       "  99.44051282392593   \n",
       "  99.54192389117195   \n",
       "  99.62958862392502   \n",
       "  99.74154878708663   \n",
       "  99.84341219700966   \n",
       "  99.96495889802289   \n",
       " 100.0                \n",
       "u: 902-element Array{SArray{Tuple{3},Float64,1,3},1}:\n",
       " [10.0, 10.0, 10.0]                                             \n",
       " [14.527288897352587, 21.12071452189923, 24.655401013820843]    \n",
       " [16.260683509932253, 11.98774098852595, 40.866652625646566]    \n",
       " [9.410451093456127, -1.345343845837725, 37.613015846596966]    \n",
       " [2.332877467383761, -3.820315512793081, 29.11993614068686]     \n",
       " [-1.363730916283803, -3.6200129433647934, 22.48755819939663]   \n",
       " [-3.0793598140458336, -4.909411322273567, 18.353583156361175]  \n",
       " [-5.653731471389623, -9.030464568182996, 16.635620614877244]   \n",
       " [-10.553562838684254, -15.643232097626619, 22.306048833633962] \n",
       " [-13.629404308689935, -12.731847509904549, 34.7327079238001]   \n",
       " [-8.73112638842306, -2.4374548338614304, 33.84398423590063]    \n",
       " [-3.5216050466064086, -0.7920643598010602, 25.81488840056454]  \n",
       " [-2.188364539893828, -2.374221013785329, 18.917963481888982]   \n",
       " ⋮                                                              \n",
       " [-0.18953595819341174, -0.1899008697655977, 13.894665368203388]\n",
       " [-0.3106761892366233, -0.5425837290776738, 10.499435002896558] \n",
       " [-0.7525562478063783, -1.4333691104014283, 7.975558874786937]  \n",
       " [-2.439921484684283, -4.83457134291546, 6.225996314352647]     \n",
       " [-9.617219146231147, -18.150671859800376, 12.23696710495414]   \n",
       " [-17.72048745515594, -19.932931457547983, 38.048396441243426]  \n",
       " [-9.847439370037272, 3.0461861243951347, 39.62042332391549]    \n",
       " [-0.9147669616271994, 5.897292617677333, 29.53508004846403]    \n",
       " [3.5709736798692733, 5.943766108819459, 22.935183751393748]    \n",
       " [5.888075610666564, 8.431076511543743, 20.51414073869932]      \n",
       " [9.692841037030911, 13.083702462668564, 23.857567507088994]    \n",
       " [10.805337687945048, 13.661084947480466, 26.3515033643232]     "
      ]
     },
     "execution_count": 6,
     "metadata": {},
     "output_type": "execute_result"
    }
   ],
   "source": [
    "sol = solve(prob; alg = alg)"
   ]
  },
  {
   "cell_type": "markdown",
   "metadata": {},
   "source": [
    "Okay, so what is the returned result? We didn't specify when to save or anything...\n",
    "\n",
    "The solver we chose, `Vern9` (also true for the default solver) is an adaptive step solver. The system is evolved with adaptive step, until we reach the end of the time span. A state is recorded at every step. E.g. the solution at the third step is "
   ]
  },
  {
   "cell_type": "code",
   "execution_count": 7,
   "metadata": {},
   "outputs": [
    {
     "data": {
      "text/plain": [
       "(0.17283944628206213, [16.260683509932253, 11.98774098852595, 40.866652625646566])"
      ]
     },
     "execution_count": 7,
     "metadata": {},
     "output_type": "execute_result"
    }
   ],
   "source": [
    "(sol.t[3], sol.u[3])"
   ]
  },
  {
   "cell_type": "markdown",
   "metadata": {},
   "source": [
    "And using the syntax `sol[i, j]` we can access the `i` variable at the `j`-th time point"
   ]
  },
  {
   "cell_type": "code",
   "execution_count": 8,
   "metadata": {},
   "outputs": [
    {
     "data": {
      "text/plain": [
       "16.260683509932253"
      ]
     },
     "execution_count": 8,
     "metadata": {},
     "output_type": "execute_result"
    }
   ],
   "source": [
    "sol[1, 3]"
   ]
  },
  {
   "cell_type": "code",
   "execution_count": 9,
   "metadata": {},
   "outputs": [
    {
     "data": {
      "image/png": "[encoded data removed]",
      "text/plain": [
       "Figure(PyObject <Figure size 500x300 with 1 Axes>)"
      ]
     },
     "metadata": {},
     "output_type": "display_data"
    }
   ],
   "source": [
    "plot3D(sol[1, :], sol[2, :], sol[3, :]);"
   ]
  },
  {
   "cell_type": "markdown",
   "metadata": {},
   "source": [
    "Because of the mechanics of the solver, `sol` object allows arbitrary interpolation in time by saving some extra derivative-related numbers. This means that we can use `sol` as a function of time, `sol(t)`:"
   ]
  },
  {
   "cell_type": "code",
   "execution_count": 10,
   "metadata": {},
   "outputs": [
    {
     "data": {
      "text/plain": [
       "3-element SArray{Tuple{3},Float64,1,3} with indices SOneTo(3):\n",
       "  0.815736398746072 \n",
       " -2.6297520921486752\n",
       " 25.431305588918814 "
      ]
     },
     "execution_count": 10,
     "metadata": {},
     "output_type": "execute_result"
    }
   ],
   "source": [
    "sol(5.6)"
   ]
  },
  {
   "cell_type": "code",
   "execution_count": 11,
   "metadata": {},
   "outputs": [
    {
     "data": {
      "image/png": "[encoded data removed]",
      "text/plain": [
       "Figure(PyObject <Figure size 500x300 with 1 Axes>)"
      ]
     },
     "metadata": {},
     "output_type": "display_data"
    }
   ],
   "source": [
    "t = 0:0.01:100\n",
    "X, Y, Z = zero(t), zero(t), zero(t)\n",
    "for (i, τ) in enumerate(t)\n",
    "    X[i], Y[i], Z[i] = sol(τ)\n",
    "end\n",
    "plot3D(X, Y, Z);"
   ]
  },
  {
   "cell_type": "markdown",
   "metadata": {},
   "source": [
    "Notice that it is possible to skip this advanced feature of interpolation (and thus also skip collecting the extra interpolation-related numbers) and only save at some pre-defined time points by passing the extra argument `saveat = [points I want]`."
   ]
  },
  {
   "cell_type": "markdown",
   "metadata": {},
   "source": [
    "## Numbers with uncertainty\n",
    "\n",
    "For example, the module `OrdinaryDiffEq` provides hunderds of solvers for sets of ordinary differential equations. These solvers (by default) work with numbers, vectors, arrays, etc. The module `Measurements` provide numeric types that have error bars; so that your numeric operations propagate the errors as is done in experimental physics.\n",
    "\n",
    "Without any effort, you can solve a differential equation of numbers with error bars! And your solution will itself be a sequence of numbers with properly calculated errorbars.\n",
    "\n",
    "* How does this happen? Because `OrdinaryDiffEq` uses internally standard mathematical operations to solve an ODE. `Measurements` by itself naturally defines arithmetics on `+, -, *,...` etc. on numbers with errors.\n",
    "* `Measurements` has never written any code that solves a differential equation.\n",
    "* `OrdinaryDiffEq` has never written any code that controls how an error is propagated.\n"
   ]
  },
  {
   "cell_type": "markdown",
   "metadata": {},
   "source": [
    "## Event handling\n",
    "\n",
    "Even triggering , continuous callback"
   ]
  },
  {
   "cell_type": "markdown",
   "metadata": {},
   "source": [
    "# 2. DynamicalSystems.jl\n",
    "[DynamicalSystems.jl](https://juliadynamics.github.io/DynamicalSystems.jl/dev/) is an award-winning library for nonlinear dynamics and chaos. \n",
    "\n",
    "*Disclaimer: I am one of the developers of this library.*\n",
    "\n",
    "Around 1/3 of the functionality of DynamicalSystems.jl treats systems with known rule $f$, and directly uses this rule to evolve the state space and the tangent space (the linearized dynamics). DynamicalSystems.jl builds on top of DifferentialEquations.jl to evolve systems in time. The rest of the functionality treats timeseries directly, doesn't matter where you got em from."
   ]
  },
  {
   "cell_type": "markdown",
   "metadata": {},
   "source": [
    "## Using known rule $f$\n",
    "\n",
    "If you have a dynamical system where you know its rule $f$, there are a lot of things you can do with in DynamicalSystems.jl. But for all of them, step 1 is to make this rule $f$ into a `DynamicalSystem` instance. The process here is almost identical to DifferentialEquations.jl:\n",
    "\n",
    "1. Make $f$ a Julia function (using the same syntax as in DifferentialEquations.jl).\n",
    "2. Choose initial state and parameter container.\n",
    "3. Pass these arguments to the `ContinuousDynamicalSystem` constructor (or `DiscreteDynamicalSystem`, for discrete systems).\n",
    "\n",
    "Here we already have `lorenz_rule, u₀, p₀` defined, so the process  is kind of trivial:"
   ]
  },
  {
   "cell_type": "code",
   "execution_count": 12,
   "metadata": {},
   "outputs": [
    {
     "data": {
      "text/plain": [
       "3-dimensional continuous dynamical system\n",
       " state:       [10.0, 10.0, 10.0]\n",
       " e.o.m.:      lorenz_rule\n",
       " in-place?    false\n",
       " jacobian:    ForwardDiff\n",
       " parameters:  [10.0, 28.0, 2.6666666666666665]"
      ]
     },
     "execution_count": 12,
     "metadata": {},
     "output_type": "execute_result"
    }
   ],
   "source": [
    "using DynamicalSystems\n",
    "lorenz = ContinuousDynamicalSystem(lorenz_rule, u₀, p₀)"
   ]
  },
  {
   "cell_type": "markdown",
   "metadata": {},
   "source": [
    "Then you can use this `lorenz` object in various functions of the library. For example, to obtain the Lyapunov spectrum you use `lyapunovs`:"
   ]
  },
  {
   "cell_type": "code",
   "execution_count": 13,
   "metadata": {},
   "outputs": [
    {
     "data": {
      "text/plain": [
       "3-element Array{Float64,1}:\n",
       "   0.9038299683847156   \n",
       "   3.2919270886530478e-6\n",
       " -14.570476005409501    "
      ]
     },
     "execution_count": 13,
     "metadata": {},
     "output_type": "execute_result"
    }
   ],
   "source": [
    "lyapunovs(lorenz, 10000) # 2nd argument is for how much time to evolve"
   ]
  },
  {
   "cell_type": "markdown",
   "metadata": {},
   "source": [
    "Same story happens if you want to get only the maximum Lyapunov exponent. You use the function `lyapunov` (which uses a different algorithm):"
   ]
  },
  {
   "cell_type": "code",
   "execution_count": 14,
   "metadata": {},
   "outputs": [
    {
     "data": {
      "text/plain": [
       "0.9056913975220796"
      ]
     },
     "execution_count": 14,
     "metadata": {},
     "output_type": "execute_result"
    }
   ],
   "source": [
    "lyapunov(lorenz, 10000.0)"
   ]
  },
  {
   "cell_type": "markdown",
   "metadata": {},
   "source": [
    "Or, obtain a Poincare surface of section with the plane that e.g. the $y$ variable crosses zero:"
   ]
  },
  {
   "cell_type": "code",
   "execution_count": 15,
   "metadata": {},
   "outputs": [
    {
     "data": {
      "text/plain": [
       "3-dimensional Dataset{Float64} with 476 points\n",
       "  -7.10792   -3.66265e-7   33.0688\n",
       " -11.5291    -3.14584e-9   40.5135\n",
       "   2.24303   -6.15224e-12  24.2377\n",
       "  -7.09758   -2.29198e-7   33.0521\n",
       " -11.5026    -1.91843e-9   40.4678\n",
       "   1.97185    2.285e-9     23.6029\n",
       "  -6.36179   -1.0439e-6    31.8233\n",
       " -10.1942    -2.49149e-9   38.2322\n",
       "   3.34247    2.59029e-6   26.5141\n",
       "  -8.63591   -1.86515e-7   35.614 \n",
       "  -7.42905   -3.67076e-7   33.604 \n",
       " -12.9019    -4.30439e-10  42.9089\n",
       "   0.36134   -1.21471e-10  17.5907\n",
       "   ⋮                              \n",
       "  -8.64694   -2.2795e-7    35.6321\n",
       "  -7.49088   -4.44474e-7   33.7069\n",
       " -13.8631    -1.37158e-8   44.6206\n",
       "  -9.88093   -1.15107e-7   37.7025\n",
       "   1.48638   -9.72846e-10  22.338 \n",
       "  -8.1977    -1.90012e-7   34.883 \n",
       "  -7.58548   -3.62746e-8   33.8638\n",
       "  -5.36086   -4.32412e-7   30.1306\n",
       "  -9.28587   -6.20987e-8   36.7013\n",
       " -10.6931     1.32382e-8   39.0799\n",
       "   0.763925  -2.1828e-10   19.8526\n",
       "  -6.70268   -3.30653e-7   32.3929"
      ]
     },
     "execution_count": 15,
     "metadata": {},
     "output_type": "execute_result"
    }
   ],
   "source": [
    "plane = (2, 0.0) # plane[1]: which variable, plane[2]: which value\n",
    "psos = poincaresos(lorenz, (2, 0.0), 1000.0)"
   ]
  },
  {
   "cell_type": "code",
   "execution_count": 16,
   "metadata": {
    "scrolled": true
   },
   "outputs": [
    {
     "data": {
      "image/png": "[encoded data removed]",
      "text/plain": [
       "Figure(PyObject <Figure size 500x300 with 1 Axes>)"
      ]
     },
     "metadata": {},
     "output_type": "display_data"
    }
   ],
   "source": [
    "scatter(psos[:, 1], psos[:, 3], s = 1);"
   ]
  },
  {
   "cell_type": "markdown",
   "metadata": {},
   "source": [
    "## Nonlinear timeseries analysis\n",
    "\n",
    "Both basic as well as advanced tools for nonlinear timeseries analysis are included in DynamicalSystems.jl. To spare you the boredom I won't talk about them though! I'll only mention entropy, because it is relevant to one of the exercises. Let's say that you have a nice trajectory sampled at discrete times (which is what the function `trajectory` does)."
   ]
  },
  {
   "cell_type": "code",
   "execution_count": 17,
   "metadata": {},
   "outputs": [
    {
     "data": {
      "text/plain": [
       "3-dimensional Dataset{Float64} with 20001 points\n",
       "  10.0         10.0       10.0   \n",
       "  11.6604      17.4659    15.75  \n",
       "  14.9431      21.227     26.2311\n",
       "  16.7587      16.6772    37.8091\n",
       "  14.4989       6.06744   41.6612\n",
       "   9.40731     -1.34788   37.6097\n",
       "   4.5647      -3.65188   32.0526\n",
       "   1.27841     -3.76227   27.5651\n",
       "  -0.660687    -3.58262   24.0887\n",
       "  -1.83235     -3.75926   21.3038\n",
       "  -2.72165     -4.46127   19.0841\n",
       "  -3.66336     -5.7684    17.464 \n",
       "  -4.89541     -7.77907   16.6366\n",
       "   ⋮                             \n",
       "  -8.7667     -14.7776    16.5172\n",
       " -11.9634     -18.3725    22.6565\n",
       " -14.5968     -17.9932    31.5653\n",
       " -14.751      -11.7214    38.2464\n",
       " -11.8535      -4.01615   38.369 \n",
       "  -7.72111      0.296008  34.3243\n",
       "  -4.24419      1.48778   29.7596\n",
       "  -1.98705      1.41035   25.8345\n",
       "  -0.714311     1.11662   22.5334\n",
       "  -0.0343316    0.956168  19.7044\n",
       "   0.357267     0.996214  17.2529\n",
       "   0.654459     1.24426   15.126 "
      ]
     },
     "execution_count": 17,
     "metadata": {},
     "output_type": "execute_result"
    }
   ],
   "source": [
    "tr = trajectory(lorenz, 1000.0; dt = 0.05)"
   ]
  },
  {
   "cell_type": "markdown",
   "metadata": {},
   "source": [
    "The above result is not a `Matrix`, but a vector-of-vectors (for performance purposes). This `tr` represents in fact the attractor of the Lorenz system, since this is what we just evolved in time. Typically one is interested in the entropy of this attractor, by partitioning the state space in boxes of size `ε` (it will become apparent in a bit why).\n",
    "\n",
    "You can get this entropy (of order α) using the function `genentropy(α, ε, tr)`:"
   ]
  },
  {
   "cell_type": "code",
   "execution_count": 18,
   "metadata": {},
   "outputs": [
    {
     "data": {
      "text/plain": [
       "9.837529474680585"
      ]
     },
     "execution_count": 18,
     "metadata": {},
     "output_type": "execute_result"
    }
   ],
   "source": [
    "H = genentropy(1, 0.1, tr)"
   ]
  },
  {
   "cell_type": "code",
   "execution_count": 19,
   "metadata": {},
   "outputs": [
    {
     "data": {
      "text/plain": [
       "9.90353755128635"
      ]
     },
     "execution_count": 19,
     "metadata": {},
     "output_type": "execute_result"
    }
   ],
   "source": [
    "H = genentropy(1, 0.01, tr)"
   ]
  },
  {
   "cell_type": "markdown",
   "metadata": {},
   "source": [
    "This quantity is interesting because it can be used to calculate the fractal dimension of the `tr` object. The way it works is simple: You look at how `H` changes for varying `ε`. If `D` is the fractal dimension of `tr`, then it typically holds that `H ~ ε^(-D)`. \n",
    "\n",
    "In reality what one does is calculate `H` for many different `ε` and plot the result, and then _manually_ identify the slope of the curve `H` vs. `-log(ε)`. e.g.:"
   ]
  },
  {
   "cell_type": "code",
   "execution_count": 20,
   "metadata": {},
   "outputs": [
    {
     "data": {
      "text/plain": [
       "33-element Array{Float64,1}:\n",
       "  9.90353755128635  \n",
       "  9.90353755128635  \n",
       "  9.90353755128635  \n",
       "  9.90353755128635  \n",
       "  9.90353755128635  \n",
       "  9.90353755128635  \n",
       "  9.90353755128635  \n",
       "  9.90353755128635  \n",
       "  9.90312168377139  \n",
       "  9.900557167429135 \n",
       "  9.891269459595035 \n",
       "  9.860042707793426 \n",
       "  9.78074383756112  \n",
       "  ⋮                 \n",
       "  2.702396852726326 \n",
       "  1.9641564466046155\n",
       "  0.821385539477985 \n",
       " -0.0               \n",
       " -0.0               \n",
       " -0.0               \n",
       " -0.0               \n",
       " -0.0               \n",
       " -0.0               \n",
       " -0.0               \n",
       " -0.0               \n",
       " -0.0               "
      ]
     },
     "execution_count": 20,
     "metadata": {},
     "output_type": "execute_result"
    }
   ],
   "source": [
    "εs = ℯ .^ (-8:0.5:8)\n",
    "Hs = genentropy.(1, εs, Ref(tr))"
   ]
  },
  {
   "cell_type": "markdown",
   "metadata": {},
   "source": [
    "What we did above is use broadcasting (the `.` syntax), to calculate the entropy for every `ε` value. What's with the `Ref()`? This `Ref()` specifies that its argument `tr` shoud **not** be broadcasted over. Since both `ε` as well as `tr` are iterable, Julia would normally try to broadcast across both arguments, which we don't want in this case.\n",
    "\n",
    "Anyway, this is the plot:"
   ]
  },
  {
   "cell_type": "code",
   "execution_count": 74,
   "metadata": {},
   "outputs": [
    {
     "data": {
      "image/png": "[encoded data removed]",
      "text/plain": [
       "Figure(PyObject <Figure size 500x300 with 1 Axes>)"
      ]
     },
     "metadata": {},
     "output_type": "display_data"
    }
   ],
   "source": [
    "xs = -log.(εs)\n",
    "plot(xs, Hs)\n",
    "xlabel(\"-log(ε)\"); ylabel(\"H\");"
   ]
  },
  {
   "cell_type": "markdown",
   "metadata": {},
   "source": [
    "And one can clearly identify a region in the middle which has the slope of `D`, the fractal dimension of `tr`. But in case you are not really happy with eyeballing this, you can use the function `linear_regions(x, y)` which takes in the curve `y(x)` and decomposes it to approximately independent linear regions.\n",
    "\n",
    "Let's see the result with some nice color coding:"
   ]
  },
  {
   "cell_type": "code",
   "execution_count": 77,
   "metadata": {},
   "outputs": [
    {
     "data": {
      "image/png": "[encoded data removed]",
      "text/plain": [
       "Figure(PyObject <Figure size 500x300 with 1 Axes>)"
      ]
     },
     "metadata": {},
     "output_type": "display_data"
    }
   ],
   "source": [
    "lrs, slopes = linear_regions(xs, Hs, tol = 0.25)\n",
    "\n",
    "for i in 1:length(lrs)-1\n",
    "    plot(xs[lrs[i]:lrs[i+1]], Hs[lrs[i]:lrs[i+1]], marker = \"o\", \n",
    "        label = i > 7 ? \"slope $(round(slopes[i]; digits = 3))\" : \"\")\n",
    "end\n",
    "xlabel(\"-log(ε)\"); ylabel(\"H\"); legend();"
   ]
  },
  {
   "cell_type": "markdown",
   "metadata": {},
   "source": [
    "So here we would get the value `1.939` as the fractal dimension, which is easily accessible as "
   ]
  },
  {
   "cell_type": "code",
   "execution_count": 79,
   "metadata": {},
   "outputs": [
    {
     "data": {
      "text/plain": [
       "1.9387874361172148"
      ]
     },
     "execution_count": 79,
     "metadata": {},
     "output_type": "execute_result"
    }
   ],
   "source": [
    "D = maximum(slopes)"
   ]
  },
  {
   "cell_type": "markdown",
   "metadata": {},
   "source": [
    "# 3. Distributions.jl\n",
    "\n",
    "The [`Distributions`](https://juliastats.org/Distributions.jl/stable/) package provides an interface for writing distribution-agnostic code: sampling distributions and getting pdfs, using moments, and more. This means that you can write any code that uses a probability distribution without having to care about the distribution's specifics. The result: your code can be run with _any_ probability distribution!\n",
    "\n",
    "The way it works is quite straightforward: `Distributions` provides a unified API around abstract types representing probability distributions. Too keep things simple here we (a) limit ourselfes to univariate distributions and (b) assume that the highest level of this abstract hierarchy is `UnivariateDistribution`."
   ]
  },
  {
   "cell_type": "code",
   "execution_count": 23,
   "metadata": {},
   "outputs": [
    {
     "data": {
      "text/plain": [
       "Distribution{Univariate,S} where S<:ValueSupport"
      ]
     },
     "execution_count": 23,
     "metadata": {},
     "output_type": "execute_result"
    }
   ],
   "source": [
    "using Distributions\n",
    "x = -1:0.01:1\n",
    "UnivariateDistribution"
   ]
  },
  {
   "cell_type": "markdown",
   "metadata": {},
   "source": [
    "Here are some example univariate distributions:"
   ]
  },
  {
   "cell_type": "code",
   "execution_count": 24,
   "metadata": {},
   "outputs": [
    {
     "data": {
      "text/plain": [
       "Normal{Float64}(μ=0.1, σ=0.25)"
      ]
     },
     "execution_count": 24,
     "metadata": {},
     "output_type": "execute_result"
    }
   ],
   "source": [
    "d = Normal(0.1, 0.25)"
   ]
  },
  {
   "cell_type": "code",
   "execution_count": 25,
   "metadata": {},
   "outputs": [
    {
     "data": {
      "image/png": "[encoded data removed]",
      "text/plain": [
       "Figure(PyObject <Figure size 500x300 with 1 Axes>)"
      ]
     },
     "metadata": {},
     "output_type": "display_data"
    }
   ],
   "source": [
    "plot(x, pdf.(d, x)); # pdf(::Distribution, x) gives the pdf at x"
   ]
  },
  {
   "cell_type": "code",
   "execution_count": 26,
   "metadata": {
    "scrolled": true
   },
   "outputs": [
    {
     "data": {
      "image/png": "[encoded data removed]",
      "text/plain": [
       "Figure(PyObject <Figure size 500x300 with 1 Axes>)"
      ]
     },
     "metadata": {},
     "output_type": "display_data"
    }
   ],
   "source": [
    "d = Cauchy(0.5, 0.25)\n",
    "plot(x, pdf.(d, x));"
   ]
  },
  {
   "cell_type": "markdown",
   "metadata": {},
   "source": [
    "You can also create your own distribution by extending a small amount of methods. \n",
    "\n",
    "Okay, so where are these distributions useful? Well, you can for example use `rand(::Distribution, ...)` and sample random numbers from an arbitrary distribution:"
   ]
  },
  {
   "cell_type": "code",
   "execution_count": 27,
   "metadata": {},
   "outputs": [
    {
     "data": {
      "text/plain": [
       "0.5424268498213397"
      ]
     },
     "execution_count": 27,
     "metadata": {},
     "output_type": "execute_result"
    }
   ],
   "source": [
    "rand(d)"
   ]
  },
  {
   "cell_type": "code",
   "execution_count": 28,
   "metadata": {},
   "outputs": [
    {
     "data": {
      "text/plain": [
       "10×10 Array{Float64,2}:\n",
       "  0.52269    0.613863   0.192019   …   1.82782   0.435087   0.611741\n",
       "  0.191044  -6.33794    0.609423       0.319207  1.63735    0.776806\n",
       "  0.14692    2.81126    0.779707       0.695137  0.555671   0.660073\n",
       "  0.700503   0.724988  -0.360341       0.539776  0.538669   0.30761 \n",
       "  0.233805   0.497032   0.26868        0.491199  0.29989    0.727121\n",
       " -6.2056    -0.244844   0.881563   …   3.42485   1.33359   -0.347334\n",
       "  0.694456  -1.50502    0.785692      -0.222532  0.126036   0.545877\n",
       " -0.590381   0.576064  -0.0228061      0.414104  0.434308   0.999213\n",
       "  0.434933   0.299969   0.772006       0.519579  0.891713   0.777895\n",
       " -0.454304   0.47512    0.515879       1.6443    0.546414   0.32424 "
      ]
     },
     "execution_count": 28,
     "metadata": {},
     "output_type": "execute_result"
    }
   ],
   "source": [
    "rand(d, 10, 10)"
   ]
  },
  {
   "cell_type": "markdown",
   "metadata": {},
   "source": [
    "Or, you can use the `fit` function, to fit a distribution to an e.g. experimental measurement:"
   ]
  },
  {
   "cell_type": "code",
   "execution_count": 29,
   "metadata": {},
   "outputs": [
    {
     "data": {
      "text/plain": [
       "Normal{Float64}(μ=-0.00608671625185454, σ=1.00224679244649)"
      ]
     },
     "execution_count": 29,
     "metadata": {},
     "output_type": "execute_result"
    }
   ],
   "source": [
    "x = randn(5000);\n",
    "fit(Normal, x)"
   ]
  },
  {
   "cell_type": "code",
   "execution_count": 30,
   "metadata": {},
   "outputs": [
    {
     "data": {
      "text/plain": [
       "Cauchy{Float64}(μ=-0.010472362526485196, σ=0.6814321017361529)"
      ]
     },
     "execution_count": 30,
     "metadata": {},
     "output_type": "execute_result"
    }
   ],
   "source": [
    "dfit = fit(Cauchy, x)"
   ]
  },
  {
   "cell_type": "code",
   "execution_count": 31,
   "metadata": {},
   "outputs": [
    {
     "data": {
      "text/plain": [
       "(-0.010472362526485196, 0.6814321017361529)"
      ]
     },
     "execution_count": 31,
     "metadata": {},
     "output_type": "execute_result"
    }
   ],
   "source": [
    "params(dfit)"
   ]
  },
  {
   "cell_type": "code",
   "execution_count": 32,
   "metadata": {},
   "outputs": [
    {
     "data": {
      "image/png": "[encoded data removed]",
      "text/plain": [
       "Figure(PyObject <Figure size 500x300 with 1 Axes>)"
      ]
     },
     "metadata": {},
     "output_type": "display_data"
    }
   ],
   "source": [
    "hist(x, 50, alpha = 0.5, density = true)\n",
    "scatter(x, pdf.(dfit, x), color = \"C1\");"
   ]
  },
  {
   "cell_type": "markdown",
   "metadata": {},
   "source": [
    "Of course, other fundamental statistical measures, e.g. means, stds, quantiles, work out of the box for any distribution"
   ]
  },
  {
   "cell_type": "code",
   "execution_count": 33,
   "metadata": {},
   "outputs": [
    {
     "data": {
      "text/plain": [
       "0.5"
      ]
     },
     "execution_count": 33,
     "metadata": {},
     "output_type": "execute_result"
    }
   ],
   "source": [
    "quantile(d, 0.5)"
   ]
  },
  {
   "cell_type": "code",
   "execution_count": 34,
   "metadata": {},
   "outputs": [
    {
     "data": {
      "text/plain": [
       "2-element Array{Float64,1}:\n",
       " -1.0784378786687603\n",
       "  2.078437878668758 "
      ]
     },
     "execution_count": 34,
     "metadata": {},
     "output_type": "execute_result"
    }
   ],
   "source": [
    "quantile.(d, [0.05, 0.95])"
   ]
  },
  {
   "cell_type": "code",
   "execution_count": 35,
   "metadata": {},
   "outputs": [
    {
     "data": {
      "text/plain": [
       "NaN"
      ]
     },
     "execution_count": 35,
     "metadata": {},
     "output_type": "execute_result"
    }
   ],
   "source": [
    "std(d) # Cauchy distr. is known for NOT having finite std"
   ]
  },
  {
   "cell_type": "markdown",
   "metadata": {},
   "source": [
    "# 4. DrWatson\n",
    "\n",
    "[DrWatson](https://juliadynamics.github.io/DrWatson.jl/dev/) is a scientific project assistant software. It helps people deal with their scientific code base, allowing them to focus more on the science and less on the code management. DrWatson offers a lot of tools and functionality for this purpose, but here I'll only show a couple of them. \n",
    "\n",
    "*Disclaimer: I am one of the developers of DrWatson.*\n",
    "\n",
    "## FileIO\n",
    "\n",
    "Obviously, in order to do science, it is necessary to be able to save files to arbitrary formats and to be able to read them later. `FileIO` (which is used by `DrWatson`) is a Julia package that provides a unified API to save and load files to disk, without caring about their actual file ending type.\n",
    "\n",
    "The interface is as simple as:\n",
    "```julia\n",
    "using FileIO\n",
    "object = load(filename)\n",
    "save(filename, object)\n",
    "```\n",
    "where `filename` is a `String` (arbitrary path) that *includes* the file ending, e.g. `.hdf5`.\n",
    "\n",
    "`FileIO` does not actually install any packages that can save or load files! It provides the interface. If you try to save/load a file with an unsupported ending, `FileIO` will tell you that's impossible."
   ]
  },
  {
   "cell_type": "code",
   "execution_count": 36,
   "metadata": {
    "scrolled": true
   },
   "outputs": [
    {
     "data": {
      "text/plain": [
       "\"C:\\\\Users\\\\datse\\\\ownCloud\\\\Zero2Hero-JuliaWorkshop\""
      ]
     },
     "execution_count": 36,
     "metadata": {},
     "output_type": "execute_result"
    }
   ],
   "source": [
    "using FileIO\n",
    "pwd() # state current working directory"
   ]
  },
  {
   "cell_type": "markdown",
   "metadata": {},
   "source": [
    "Most packages that can save data of arbitrary format expect the final object-to-be saved as a dictionary"
   ]
  },
  {
   "cell_type": "code",
   "execution_count": 37,
   "metadata": {},
   "outputs": [
    {
     "data": {
      "text/plain": [
       "Dict{String,Int64} with 2 entries:\n",
       "  \"b\" => 4\n",
       "  \"a\" => 5"
      ]
     },
     "execution_count": 37,
     "metadata": {},
     "output_type": "execute_result"
    }
   ],
   "source": [
    "testdata = Dict(\"a\" => 5, \"b\" => 4)"
   ]
  },
  {
   "cell_type": "code",
   "execution_count": 38,
   "metadata": {},
   "outputs": [
    {
     "name": "stderr",
     "output_type": "stream",
     "text": [
      "Error encountered while saving \"test.jld2\".\n",
      "\n",
      "Fatal error:\n"
     ]
    },
    {
     "ename": "ArgumentError",
     "evalue": "ArgumentError: Package JLD2 not found in current path:\n- Run `import Pkg; Pkg.add(\"JLD2\")` to install the JLD2 package.\n",
     "output_type": "error",
     "traceback": [
      "ArgumentError: Package JLD2 not found in current path:\n- Run `import Pkg; Pkg.add(\"JLD2\")` to install the JLD2 package.\n",
      "",
      "Stacktrace:",
      " [1] handle_error(::ArgumentError, ::File{DataFormat{:JLD2}}) at C:\\Users\\datse\\.julia\\packages\\FileIO\\BcdlR\\src\\error_handling.jl:82",
      " [2] handle_exceptions(::Array{Any,1}, ::String) at C:\\Users\\datse\\.julia\\packages\\FileIO\\BcdlR\\src\\error_handling.jl:77",
      " [3] #save#30(::Base.Iterators.Pairs{Union{},Union{},Tuple{},NamedTuple{(),Tuple{}}}, ::typeof(save), ::Formatted, ::Any) at C:\\Users\\datse\\.julia\\packages\\FileIO\\BcdlR\\src\\loadsave.jl:213",
      " [4] save at C:\\Users\\datse\\.julia\\packages\\FileIO\\BcdlR\\src\\loadsave.jl:196 [inlined]",
      " [5] #save#15 at C:\\Users\\datse\\.julia\\packages\\FileIO\\BcdlR\\src\\loadsave.jl:118 [inlined]",
      " [6] save(::String, ::Dict{String,Int64}) at C:\\Users\\datse\\.julia\\packages\\FileIO\\BcdlR\\src\\loadsave.jl:118",
      " [7] top-level scope at In[38]:1"
     ]
    }
   ],
   "source": [
    "# I don't have JLD2 installed:\n",
    "save(\"test.jld2\", testdata)"
   ]
  },
  {
   "cell_type": "code",
   "execution_count": 39,
   "metadata": {},
   "outputs": [],
   "source": [
    "# Here I use BSON, which I have installed\n",
    "save(\"test.bson\", testdata)"
   ]
  },
  {
   "cell_type": "code",
   "execution_count": 40,
   "metadata": {},
   "outputs": [
    {
     "data": {
      "text/plain": [
       "Dict{String,Int64} with 2 entries:\n",
       "  \"b\" => 4\n",
       "  \"a\" => 5"
      ]
     },
     "execution_count": 40,
     "metadata": {},
     "output_type": "execute_result"
    }
   ],
   "source": [
    "testdata = load(\"test.bson\")"
   ]
  },
  {
   "cell_type": "code",
   "execution_count": 41,
   "metadata": {},
   "outputs": [],
   "source": [
    "rm(\"test.bson\") # delete the file"
   ]
  },
  {
   "cell_type": "markdown",
   "metadata": {},
   "source": [
    "## Savename\n",
    "\n",
    "When saving files, scientists often want to include the parameter values of the simulations in the name of the file. For example, If I had run a simulation with parameters:"
   ]
  },
  {
   "cell_type": "code",
   "execution_count": 42,
   "metadata": {},
   "outputs": [
    {
     "data": {
      "text/plain": [
       "(1, 2, 3)"
      ]
     },
     "execution_count": 42,
     "metadata": {},
     "output_type": "execute_result"
    }
   ],
   "source": [
    "a, b, c = 1, 2, 3"
   ]
  },
  {
   "cell_type": "markdown",
   "metadata": {},
   "source": [
    "I would like to save my simulation as e.g. `sim_a=1_b=2_c=3.bson`. This can be achieved with string interpolation like so"
   ]
  },
  {
   "cell_type": "code",
   "execution_count": 43,
   "metadata": {},
   "outputs": [
    {
     "data": {
      "text/plain": [
       "\"sim_a=1_b=2_c=3.bson\""
      ]
     },
     "execution_count": 43,
     "metadata": {},
     "output_type": "execute_result"
    }
   ],
   "source": [
    "filename = \"sim_a=$(a)_b=$(b)_c=$(c).bson\""
   ]
  },
  {
   "cell_type": "markdown",
   "metadata": {},
   "source": [
    "This works, but besides being tedius, it is not extendable: if I have a different simulation, with different parameter names, I have to modify this command.\n",
    "\n",
    "This is where DrWatson comes in: it provides a tool, called `savename`, that takes as an input **any Julia container** and converts it into a `key=value` chain. It works with dictionaries and arbitrary Julia composite types (it would work with the `Animal` we defined in the previous session). For example:"
   ]
  },
  {
   "cell_type": "code",
   "execution_count": 44,
   "metadata": {},
   "outputs": [
    {
     "data": {
      "text/plain": [
       "Dict{Symbol,Int64} with 3 entries:\n",
       "  :a => 1\n",
       "  :b => 2\n",
       "  :c => 3"
      ]
     },
     "execution_count": 44,
     "metadata": {},
     "output_type": "execute_result"
    }
   ],
   "source": [
    "using DrWatson\n",
    "# the @dict command makes a dictionary from the given variable names\n",
    "# @dict is a \"macro\", something we won't talk about in this workshop\n",
    "pars = @dict a b c"
   ]
  },
  {
   "cell_type": "code",
   "execution_count": 45,
   "metadata": {},
   "outputs": [
    {
     "data": {
      "text/plain": [
       "\"a=1_b=2_c=3\""
      ]
     },
     "execution_count": 45,
     "metadata": {},
     "output_type": "execute_result"
    }
   ],
   "source": [
    "savename(pars)"
   ]
  },
  {
   "cell_type": "markdown",
   "metadata": {},
   "source": [
    "You can also call `savename` with prefix and suffix"
   ]
  },
  {
   "cell_type": "code",
   "execution_count": 46,
   "metadata": {},
   "outputs": [
    {
     "data": {
      "text/plain": [
       "\"prefix_a=1_b=2_c=3_model=linear.bson\""
      ]
     },
     "execution_count": 46,
     "metadata": {},
     "output_type": "execute_result"
    }
   ],
   "source": [
    "model = \"linear\"\n",
    "pars = @dict a b c model\n",
    "savename(\"prefix\", pars, \"bson\")"
   ]
  },
  {
   "cell_type": "markdown",
   "metadata": {},
   "source": [
    "`savename` is highly customizable, and also extendable for your own types, while by default it makes some reasonable assumptions about what should and should not be put into the this name. For example, if you had a vector of numbers as part of your parameters, you probably don't want to include it into the savename (by default)"
   ]
  },
  {
   "cell_type": "code",
   "execution_count": 47,
   "metadata": {},
   "outputs": [
    {
     "data": {
      "text/plain": [
       "Dict{Symbol,Any} with 5 entries:\n",
       "  :a     => 1\n",
       "  :b     => 2\n",
       "  :v     => [1, 2, 3, 4, 5, 6, 7, 8, 9, 10]\n",
       "  :c     => 3\n",
       "  :model => \"linear\""
      ]
     },
     "execution_count": 47,
     "metadata": {},
     "output_type": "execute_result"
    }
   ],
   "source": [
    "pars[:v] = collect(1:10)\n",
    "pars"
   ]
  },
  {
   "cell_type": "code",
   "execution_count": 48,
   "metadata": {},
   "outputs": [
    {
     "data": {
      "text/plain": [
       "\"a=1_b=2_c=3_model=linear\""
      ]
     },
     "execution_count": 48,
     "metadata": {},
     "output_type": "execute_result"
    }
   ],
   "source": [
    "savename(pars)"
   ]
  },
  {
   "cell_type": "markdown",
   "metadata": {},
   "source": [
    "But you _could_ if you really wanted to:"
   ]
  },
  {
   "cell_type": "code",
   "execution_count": 49,
   "metadata": {},
   "outputs": [
    {
     "data": {
      "text/plain": [
       "\"a=1_b=2_c=3_model=linear_v=[1, 2, 3, 4, 5, 6, 7, 8, 9, 10].bson\""
      ]
     },
     "execution_count": 49,
     "metadata": {},
     "output_type": "execute_result"
    }
   ],
   "source": [
    "savename(pars, \"bson\"; allowedtypes = (Real, String, Vector))"
   ]
  },
  {
   "cell_type": "markdown",
   "metadata": {},
   "source": [
    "`savename` is also convenient for creating titles for figures, by using a different connector:"
   ]
  },
  {
   "cell_type": "code",
   "execution_count": 50,
   "metadata": {},
   "outputs": [
    {
     "data": {
      "text/plain": [
       "\"Simulation, a=1, b=2, c=3, model=linear\""
      ]
     },
     "execution_count": 50,
     "metadata": {},
     "output_type": "execute_result"
    }
   ],
   "source": [
    "savename(\"Simulation\", pars; connector = \", \")"
   ]
  },
  {
   "cell_type": "markdown",
   "metadata": {},
   "source": [
    "## Saving tools\n",
    "\n",
    "DrWatson offers some tools that are useful when saving files. The first is\n",
    "`tagsave`, which modifies the dictionary-to-be-saved by adding additional infromation about the current status of the Git repository of the project (if there exists a Git repository). This allows for reproducibility. For example (notice that `pwd()` is the path of a Git repository)"
   ]
  },
  {
   "cell_type": "code",
   "execution_count": 51,
   "metadata": {},
   "outputs": [
    {
     "name": "stderr",
     "output_type": "stream",
     "text": [
      "┌ Warning: The Git repository is dirty! Appending _dirty to the commit ID\n",
      "└ @ DrWatson C:\\Users\\datse\\.julia\\dev\\DrWatson\\src\\saving_tools.jl:60\n",
      "┌ Warning: `gitpatch` failed with error Base.IOError(\"could not spawn `git --git-dir=C:/Users/datse/ownCloud/Zero2Hero-JuliaWorkshop/.git --work-tree=C:/Users/datse/ownCloud/Zero2Hero-JuliaWorkshop diff HEAD`: no such file or directory (ENOENT)\", -4058), returning `nothing` instead.\n",
      "└ @ DrWatson C:\\Users\\datse\\.julia\\dev\\DrWatson\\src\\saving_tools.jl:97\n"
     ]
    },
    {
     "data": {
      "text/plain": [
       "Dict{Symbol,Any} with 7 entries:\n",
       "  :a         => 1\n",
       "  :b         => 2\n",
       "  :v         => [1, 2, 3, 4, 5, 6, 7, 8, 9, 10]\n",
       "  :c         => 3\n",
       "  :gitcommit => \"93acaf4797db280811d93e49283ed76f0955b31c_dirty\"\n",
       "  :model     => \"linear\"\n",
       "  :gitpatch  => nothing"
      ]
     },
     "execution_count": 51,
     "metadata": {},
     "output_type": "execute_result"
    }
   ],
   "source": [
    "tagsave(\"test.bson\", copy(pars); gitpath = pwd())\n",
    "load(\"test.bson\")"
   ]
  },
  {
   "cell_type": "markdown",
   "metadata": {},
   "source": [
    "You can see that the Git commit ID was included in the saved file!"
   ]
  },
  {
   "cell_type": "markdown",
   "metadata": {},
   "source": [
    "Another useful tool is `safesave`. We all know how **devastating** it can be to by-mistake overwrite an existing simulation because you saved a new simulation with the same name... `safesave` comes to the rescue because it ensures that no files are overwritten but also all files are saved!\n",
    "\n",
    "It works like this:\n",
    "```julia\n",
    "safesave(\"test.bson\", ...)\n",
    "```\n",
    "if `\"test.bson\"` exists, rename it to `test_#1.bson` (and do this recursively if `test_#1.bson` also exists, by incrementing the number after the `#`). Then, save the current data as `test.bson`."
   ]
  },
  {
   "cell_type": "code",
   "execution_count": 52,
   "metadata": {},
   "outputs": [],
   "source": [
    "safesave(\"test.bson\", pars)\n",
    "safesave(\"test.bson\", pars)\n",
    "safesave(\"test.bson\", pars)"
   ]
  },
  {
   "cell_type": "code",
   "execution_count": 53,
   "metadata": {},
   "outputs": [
    {
     "data": {
      "text/plain": [
       "17-element Array{String,1}:\n",
       " \".git\"                     \n",
       " \".gitignore\"               \n",
       " \".ipynb_checkpoints\"       \n",
       " \"1-JuliaBasics.ipynb\"      \n",
       " \"2-MultipleDispatch.ipynb\" \n",
       " \"3-Ecosystem.ipynb\"        \n",
       " \"add.jpg\"                  \n",
       " \"Julia advertisement.pdf\"  \n",
       " \"Julia advertisement.pptx\" \n",
       " \"LICENSE.md\"               \n",
       " \"README.md\"                \n",
       " \"solutions.jl\"             \n",
       " \"steady_state_solver.ipynb\"\n",
       " \"test.bson\"                \n",
       " \"test_#1.bson\"             \n",
       " \"test_#2.bson\"             \n",
       " \"test_#3.bson\"             "
      ]
     },
     "execution_count": 53,
     "metadata": {},
     "output_type": "execute_result"
    }
   ],
   "source": [
    "readdir(pwd())"
   ]
  },
  {
   "cell_type": "code",
   "execution_count": 54,
   "metadata": {},
   "outputs": [],
   "source": [
    "# delete all files that end in \"bson\"\n",
    "[rm(f) for f in readdir(pwd()) if f[end-3:end] == \"bson\"];"
   ]
  },
  {
   "cell_type": "markdown",
   "metadata": {},
   "source": [
    "## Collecting results\n",
    "\n",
    "If you run several similar simulations with different parameters, you typically want to collect all of them in a tabular datastrcture to analyze further. You can use `collect_results` to automate the data collection process. \n",
    "\n",
    "Let's say we run first some simulations with varying parameters like so:"
   ]
  },
  {
   "cell_type": "code",
   "execution_count": 55,
   "metadata": {},
   "outputs": [],
   "source": [
    "model = \"linear\"\n",
    "for a in 1:2\n",
    "    for b in [2, 3]\n",
    "        # perform a fake simulation\n",
    "        r = a + b\n",
    "        # save it:\n",
    "        p = @dict a b r model\n",
    "        s = @dict a b model # the result \"r\" doesn't take part in the name\n",
    "        wsave(joinpath(\"data\", savename(s, \"bson\")), p)\n",
    "    end\n",
    "end"
   ]
  },
  {
   "cell_type": "markdown",
   "metadata": {},
   "source": [
    "Then we run a different model, which does not necessarily have the same parameters:"
   ]
  },
  {
   "cell_type": "code",
   "execution_count": 56,
   "metadata": {},
   "outputs": [],
   "source": [
    "model = \"cubic\"\n",
    "for a in 1:2\n",
    "    for d in [5, 6]\n",
    "        # perform a fake simulation\n",
    "        r = a + d^3\n",
    "        # save it:\n",
    "        p = @dict a d r model\n",
    "        s = @dict a d model # the result \"r\" doesn't take part in the name\n",
    "        wsave(joinpath(\"data\", savename(s, \"bson\")), p)\n",
    "    end\n",
    "end"
   ]
  },
  {
   "cell_type": "markdown",
   "metadata": {},
   "source": [
    "Now the idea is that we want to collect all of this results in a single tabular structure. We do with `collect_results(folder)`, which collects all results of the `folder` into a `DataFrame`. This is a tabular data structure (and thus we need the Julia package `DataFrames` to use it):"
   ]
  },
  {
   "cell_type": "code",
   "execution_count": 57,
   "metadata": {},
   "outputs": [
    {
     "name": "stderr",
     "output_type": "stream",
     "text": [
      "┌ Info: Scanning folder data for result files.\n",
      "└ @ DrWatson C:\\Users\\datse\\.julia\\dev\\DrWatson\\src\\result_collection.jl:79\n",
      "┌ Info: Added 8 entries.\n",
      "└ @ DrWatson C:\\Users\\datse\\.julia\\dev\\DrWatson\\src\\result_collection.jl:107\n"
     ]
    },
    {
     "data": {
      "text/html": [
       "<table class=\"data-frame\"><thead><tr><th></th><th>a</th><th>b</th><th>r</th><th>model</th><th>path</th><th>d</th></tr><tr><th></th><th>Int64⍰</th><th>Int64⍰</th><th>Int64⍰</th><th>String⍰</th><th>String⍰</th><th>Int64⍰</th></tr></thead><tbody><p>8 rows × 6 columns</p><tr><th>1</th><td>1</td><td>2</td><td>3</td><td>linear</td><td>data\\\\a=1_b=2_model=linear.bson</td><td>missing</td></tr><tr><th>2</th><td>1</td><td>3</td><td>4</td><td>linear</td><td>data\\\\a=1_b=3_model=linear.bson</td><td>missing</td></tr><tr><th>3</th><td>1</td><td>missing</td><td>126</td><td>cubic</td><td>data\\\\a=1_d=5_model=cubic.bson</td><td>5</td></tr><tr><th>4</th><td>1</td><td>missing</td><td>217</td><td>cubic</td><td>data\\\\a=1_d=6_model=cubic.bson</td><td>6</td></tr><tr><th>5</th><td>2</td><td>2</td><td>4</td><td>linear</td><td>data\\\\a=2_b=2_model=linear.bson</td><td>missing</td></tr><tr><th>6</th><td>2</td><td>3</td><td>5</td><td>linear</td><td>data\\\\a=2_b=3_model=linear.bson</td><td>missing</td></tr><tr><th>7</th><td>2</td><td>missing</td><td>127</td><td>cubic</td><td>data\\\\a=2_d=5_model=cubic.bson</td><td>5</td></tr><tr><th>8</th><td>2</td><td>missing</td><td>218</td><td>cubic</td><td>data\\\\a=2_d=6_model=cubic.bson</td><td>6</td></tr></tbody></table>"
      ],
      "text/latex": [
       "\\begin{tabular}{r|cccccc}\n",
       "\t& a & b & r & model & path & d\\\\\n",
       "\t\\hline\n",
       "\t& Int64⍰ & Int64⍰ & Int64⍰ & String⍰ & String⍰ & Int64⍰\\\\\n",
       "\t\\hline\n",
       "\t1 & 1 & 2 & 3 & linear & data\\textbackslash{}\\textbackslash{}a=1\\_b=2\\_model=linear.bson &  \\\\\n",
       "\t2 & 1 & 3 & 4 & linear & data\\textbackslash{}\\textbackslash{}a=1\\_b=3\\_model=linear.bson &  \\\\\n",
       "\t3 & 1 &  & 126 & cubic & data\\textbackslash{}\\textbackslash{}a=1\\_d=5\\_model=cubic.bson & 5 \\\\\n",
       "\t4 & 1 &  & 217 & cubic & data\\textbackslash{}\\textbackslash{}a=1\\_d=6\\_model=cubic.bson & 6 \\\\\n",
       "\t5 & 2 & 2 & 4 & linear & data\\textbackslash{}\\textbackslash{}a=2\\_b=2\\_model=linear.bson &  \\\\\n",
       "\t6 & 2 & 3 & 5 & linear & data\\textbackslash{}\\textbackslash{}a=2\\_b=3\\_model=linear.bson &  \\\\\n",
       "\t7 & 2 &  & 127 & cubic & data\\textbackslash{}\\textbackslash{}a=2\\_d=5\\_model=cubic.bson & 5 \\\\\n",
       "\t8 & 2 &  & 218 & cubic & data\\textbackslash{}\\textbackslash{}a=2\\_d=6\\_model=cubic.bson & 6 \\\\\n",
       "\\end{tabular}\n"
      ],
      "text/plain": [
       "8×6 DataFrame. Omitted printing of 1 columns\n",
       "│ Row │ a      │ b       │ r      │ model   │ path                            │\n",
       "│     │ \u001b[90mInt64⍰\u001b[39m │ \u001b[90mInt64⍰\u001b[39m  │ \u001b[90mInt64⍰\u001b[39m │ \u001b[90mString⍰\u001b[39m │ \u001b[90mUnion{Missing, String}\u001b[39m          │\n",
       "├─────┼────────┼─────────┼────────┼─────────┼─────────────────────────────────┤\n",
       "│ 1   │ 1      │ 2       │ 3      │ linear  │ data\\\\a=1_b=2_model=linear.bson │\n",
       "│ 2   │ 1      │ 3       │ 4      │ linear  │ data\\\\a=1_b=3_model=linear.bson │\n",
       "│ 3   │ 1      │ \u001b[90mmissing\u001b[39m │ 126    │ cubic   │ data\\\\a=1_d=5_model=cubic.bson  │\n",
       "│ 4   │ 1      │ \u001b[90mmissing\u001b[39m │ 217    │ cubic   │ data\\\\a=1_d=6_model=cubic.bson  │\n",
       "│ 5   │ 2      │ 2       │ 4      │ linear  │ data\\\\a=2_b=2_model=linear.bson │\n",
       "│ 6   │ 2      │ 3       │ 5      │ linear  │ data\\\\a=2_b=3_model=linear.bson │\n",
       "│ 7   │ 2      │ \u001b[90mmissing\u001b[39m │ 127    │ cubic   │ data\\\\a=2_d=5_model=cubic.bson  │\n",
       "│ 8   │ 2      │ \u001b[90mmissing\u001b[39m │ 218    │ cubic   │ data\\\\a=2_d=6_model=cubic.bson  │"
      ]
     },
     "execution_count": 57,
     "metadata": {},
     "output_type": "execute_result"
    }
   ],
   "source": [
    "using DataFrames\n",
    "results = collect_results(\"data\")"
   ]
  },
  {
   "cell_type": "markdown",
   "metadata": {},
   "source": [
    "So `collect_results` collected all files, but also did something extra, something very useful. Simulation parameters that do not exist in one run (see `b` vs `d`) have the value `missing`. `missing` is how Julia represents missing values."
   ]
  },
  {
   "cell_type": "code",
   "execution_count": 58,
   "metadata": {},
   "outputs": [],
   "source": [
    "# delete all fake data (they are loaded in memory)\n",
    "rm(\"data\"; recursive = true)"
   ]
  },
  {
   "cell_type": "markdown",
   "metadata": {},
   "source": [
    "# 5. Tabular data\n",
    "\n",
    "The `result` that we got above is a `DataFrame` from [DataFrames.jl](http://juliadata.github.io/DataFrames.jl/stable/), one of the major Julia packages for tabular data. \n",
    "\n",
    "## Basic stuff\n",
    "One can do basic selection of these data, for example selecting specific columns, removing columns, adding new columns or rows, etc. The `path` column of the `results` is not so useful, so let's remove it:"
   ]
  },
  {
   "cell_type": "code",
   "execution_count": 59,
   "metadata": {},
   "outputs": [
    {
     "data": {
      "text/html": [
       "<table class=\"data-frame\"><thead><tr><th></th><th>a</th><th>b</th><th>r</th><th>model</th><th>d</th></tr><tr><th></th><th>Int64⍰</th><th>Int64⍰</th><th>Int64⍰</th><th>String⍰</th><th>Int64⍰</th></tr></thead><tbody><p>8 rows × 5 columns</p><tr><th>1</th><td>1</td><td>2</td><td>3</td><td>linear</td><td>missing</td></tr><tr><th>2</th><td>1</td><td>3</td><td>4</td><td>linear</td><td>missing</td></tr><tr><th>3</th><td>1</td><td>missing</td><td>126</td><td>cubic</td><td>5</td></tr><tr><th>4</th><td>1</td><td>missing</td><td>217</td><td>cubic</td><td>6</td></tr><tr><th>5</th><td>2</td><td>2</td><td>4</td><td>linear</td><td>missing</td></tr><tr><th>6</th><td>2</td><td>3</td><td>5</td><td>linear</td><td>missing</td></tr><tr><th>7</th><td>2</td><td>missing</td><td>127</td><td>cubic</td><td>5</td></tr><tr><th>8</th><td>2</td><td>missing</td><td>218</td><td>cubic</td><td>6</td></tr></tbody></table>"
      ],
      "text/latex": [
       "\\begin{tabular}{r|ccccc}\n",
       "\t& a & b & r & model & d\\\\\n",
       "\t\\hline\n",
       "\t& Int64⍰ & Int64⍰ & Int64⍰ & String⍰ & Int64⍰\\\\\n",
       "\t\\hline\n",
       "\t1 & 1 & 2 & 3 & linear &  \\\\\n",
       "\t2 & 1 & 3 & 4 & linear &  \\\\\n",
       "\t3 & 1 &  & 126 & cubic & 5 \\\\\n",
       "\t4 & 1 &  & 217 & cubic & 6 \\\\\n",
       "\t5 & 2 & 2 & 4 & linear &  \\\\\n",
       "\t6 & 2 & 3 & 5 & linear &  \\\\\n",
       "\t7 & 2 &  & 127 & cubic & 5 \\\\\n",
       "\t8 & 2 &  & 218 & cubic & 6 \\\\\n",
       "\\end{tabular}\n"
      ],
      "text/plain": [
       "8×5 DataFrame\n",
       "│ Row │ a      │ b       │ r      │ model   │ d       │\n",
       "│     │ \u001b[90mInt64⍰\u001b[39m │ \u001b[90mInt64⍰\u001b[39m  │ \u001b[90mInt64⍰\u001b[39m │ \u001b[90mString⍰\u001b[39m │ \u001b[90mInt64⍰\u001b[39m  │\n",
       "├─────┼────────┼─────────┼────────┼─────────┼─────────┤\n",
       "│ 1   │ 1      │ 2       │ 3      │ linear  │ \u001b[90mmissing\u001b[39m │\n",
       "│ 2   │ 1      │ 3       │ 4      │ linear  │ \u001b[90mmissing\u001b[39m │\n",
       "│ 3   │ 1      │ \u001b[90mmissing\u001b[39m │ 126    │ cubic   │ 5       │\n",
       "│ 4   │ 1      │ \u001b[90mmissing\u001b[39m │ 217    │ cubic   │ 6       │\n",
       "│ 5   │ 2      │ 2       │ 4      │ linear  │ \u001b[90mmissing\u001b[39m │\n",
       "│ 6   │ 2      │ 3       │ 5      │ linear  │ \u001b[90mmissing\u001b[39m │\n",
       "│ 7   │ 2      │ \u001b[90mmissing\u001b[39m │ 127    │ cubic   │ 5       │\n",
       "│ 8   │ 2      │ \u001b[90mmissing\u001b[39m │ 218    │ cubic   │ 6       │"
      ]
     },
     "execution_count": 59,
     "metadata": {},
     "output_type": "execute_result"
    }
   ],
   "source": [
    "select!(results, Not(:path))"
   ]
  },
  {
   "cell_type": "markdown",
   "metadata": {},
   "source": [
    "To access specific rows or colums you can access a dataframe like a matrix, e.g. `df[:, 1:3]` gives the first three rows while `df[:, [:a, :b]]` gives the rows selected by name.\n",
    "\n",
    "Adding new data to a dataframe is also straight forward. One can add new rows or new columns. New rows are added by either providing a vector (where the vector's length matches the number of columns), or by providing a named tuple that explicitly names which column gets which new value."
   ]
  },
  {
   "cell_type": "code",
   "execution_count": 60,
   "metadata": {},
   "outputs": [
    {
     "data": {
      "text/html": [
       "<table class=\"data-frame\"><thead><tr><th></th><th>a</th><th>b</th><th>r</th></tr><tr><th></th><th>Int64⍰</th><th>Int64⍰</th><th>Int64⍰</th></tr></thead><tbody><p>3 rows × 3 columns</p><tr><th>1</th><td>1</td><td>2</td><td>3</td></tr><tr><th>2</th><td>1</td><td>3</td><td>4</td></tr><tr><th>3</th><td>1</td><td>missing</td><td>126</td></tr></tbody></table>"
      ],
      "text/latex": [
       "\\begin{tabular}{r|ccc}\n",
       "\t& a & b & r\\\\\n",
       "\t\\hline\n",
       "\t& Int64⍰ & Int64⍰ & Int64⍰\\\\\n",
       "\t\\hline\n",
       "\t1 & 1 & 2 & 3 \\\\\n",
       "\t2 & 1 & 3 & 4 \\\\\n",
       "\t3 & 1 &  & 126 \\\\\n",
       "\\end{tabular}\n"
      ],
      "text/plain": [
       "3×3 DataFrame\n",
       "│ Row │ a      │ b       │ r      │\n",
       "│     │ \u001b[90mInt64⍰\u001b[39m │ \u001b[90mInt64⍰\u001b[39m  │ \u001b[90mInt64⍰\u001b[39m │\n",
       "├─────┼────────┼─────────┼────────┤\n",
       "│ 1   │ 1      │ 2       │ 3      │\n",
       "│ 2   │ 1      │ 3       │ 4      │\n",
       "│ 3   │ 1      │ \u001b[90mmissing\u001b[39m │ 126    │"
      ]
     },
     "execution_count": 60,
     "metadata": {},
     "output_type": "execute_result"
    }
   ],
   "source": [
    "df1 = results[1:3, 1:3]"
   ]
  },
  {
   "cell_type": "code",
   "execution_count": 61,
   "metadata": {},
   "outputs": [
    {
     "data": {
      "text/html": [
       "<table class=\"data-frame\"><thead><tr><th></th><th>a</th><th>b</th><th>r</th></tr><tr><th></th><th>Int64⍰</th><th>Int64⍰</th><th>Int64⍰</th></tr></thead><tbody><p>4 rows × 3 columns</p><tr><th>1</th><td>1</td><td>2</td><td>3</td></tr><tr><th>2</th><td>1</td><td>3</td><td>4</td></tr><tr><th>3</th><td>1</td><td>missing</td><td>126</td></tr><tr><th>4</th><td>5</td><td>5</td><td>5</td></tr></tbody></table>"
      ],
      "text/latex": [
       "\\begin{tabular}{r|ccc}\n",
       "\t& a & b & r\\\\\n",
       "\t\\hline\n",
       "\t& Int64⍰ & Int64⍰ & Int64⍰\\\\\n",
       "\t\\hline\n",
       "\t1 & 1 & 2 & 3 \\\\\n",
       "\t2 & 1 & 3 & 4 \\\\\n",
       "\t3 & 1 &  & 126 \\\\\n",
       "\t4 & 5 & 5 & 5 \\\\\n",
       "\\end{tabular}\n"
      ],
      "text/plain": [
       "4×3 DataFrame\n",
       "│ Row │ a      │ b       │ r      │\n",
       "│     │ \u001b[90mInt64⍰\u001b[39m │ \u001b[90mInt64⍰\u001b[39m  │ \u001b[90mInt64⍰\u001b[39m │\n",
       "├─────┼────────┼─────────┼────────┤\n",
       "│ 1   │ 1      │ 2       │ 3      │\n",
       "│ 2   │ 1      │ 3       │ 4      │\n",
       "│ 3   │ 1      │ \u001b[90mmissing\u001b[39m │ 126    │\n",
       "│ 4   │ 5      │ 5       │ 5      │"
      ]
     },
     "execution_count": 61,
     "metadata": {},
     "output_type": "execute_result"
    }
   ],
   "source": [
    "# add new row by order of columns\n",
    "push!(df1, [5, 5, 5])"
   ]
  },
  {
   "cell_type": "code",
   "execution_count": 62,
   "metadata": {},
   "outputs": [
    {
     "data": {
      "text/html": [
       "<table class=\"data-frame\"><thead><tr><th></th><th>a</th><th>b</th><th>r</th></tr><tr><th></th><th>Int64⍰</th><th>Int64⍰</th><th>Int64⍰</th></tr></thead><tbody><p>5 rows × 3 columns</p><tr><th>1</th><td>1</td><td>2</td><td>3</td></tr><tr><th>2</th><td>1</td><td>3</td><td>4</td></tr><tr><th>3</th><td>1</td><td>missing</td><td>126</td></tr><tr><th>4</th><td>5</td><td>5</td><td>5</td></tr><tr><th>5</th><td>-5</td><td>7</td><td>89</td></tr></tbody></table>"
      ],
      "text/latex": [
       "\\begin{tabular}{r|ccc}\n",
       "\t& a & b & r\\\\\n",
       "\t\\hline\n",
       "\t& Int64⍰ & Int64⍰ & Int64⍰\\\\\n",
       "\t\\hline\n",
       "\t1 & 1 & 2 & 3 \\\\\n",
       "\t2 & 1 & 3 & 4 \\\\\n",
       "\t3 & 1 &  & 126 \\\\\n",
       "\t4 & 5 & 5 & 5 \\\\\n",
       "\t5 & -5 & 7 & 89 \\\\\n",
       "\\end{tabular}\n"
      ],
      "text/plain": [
       "5×3 DataFrame\n",
       "│ Row │ a      │ b       │ r      │\n",
       "│     │ \u001b[90mInt64⍰\u001b[39m │ \u001b[90mInt64⍰\u001b[39m  │ \u001b[90mInt64⍰\u001b[39m │\n",
       "├─────┼────────┼─────────┼────────┤\n",
       "│ 1   │ 1      │ 2       │ 3      │\n",
       "│ 2   │ 1      │ 3       │ 4      │\n",
       "│ 3   │ 1      │ \u001b[90mmissing\u001b[39m │ 126    │\n",
       "│ 4   │ 5      │ 5       │ 5      │\n",
       "│ 5   │ -5     │ 7       │ 89     │"
      ]
     },
     "execution_count": 62,
     "metadata": {},
     "output_type": "execute_result"
    }
   ],
   "source": [
    "# add new row by name of columnns\n",
    "push!(df1, (b = 7, r=89, a = -5))"
   ]
  },
  {
   "cell_type": "code",
   "execution_count": 63,
   "metadata": {},
   "outputs": [
    {
     "data": {
      "text/html": [
       "<table class=\"data-frame\"><thead><tr><th></th><th>a</th><th>b</th><th>r</th><th>z</th></tr><tr><th></th><th>Int64⍰</th><th>Int64⍰</th><th>Int64⍰</th><th>Float64</th></tr></thead><tbody><p>5 rows × 4 columns</p><tr><th>1</th><td>1</td><td>2</td><td>3</td><td>0.107059</td></tr><tr><th>2</th><td>1</td><td>3</td><td>4</td><td>0.973894</td></tr><tr><th>3</th><td>1</td><td>missing</td><td>126</td><td>0.687626</td></tr><tr><th>4</th><td>5</td><td>5</td><td>5</td><td>0.20065</td></tr><tr><th>5</th><td>-5</td><td>7</td><td>89</td><td>0.0381277</td></tr></tbody></table>"
      ],
      "text/latex": [
       "\\begin{tabular}{r|cccc}\n",
       "\t& a & b & r & z\\\\\n",
       "\t\\hline\n",
       "\t& Int64⍰ & Int64⍰ & Int64⍰ & Float64\\\\\n",
       "\t\\hline\n",
       "\t1 & 1 & 2 & 3 & 0.107059 \\\\\n",
       "\t2 & 1 & 3 & 4 & 0.973894 \\\\\n",
       "\t3 & 1 &  & 126 & 0.687626 \\\\\n",
       "\t4 & 5 & 5 & 5 & 0.20065 \\\\\n",
       "\t5 & -5 & 7 & 89 & 0.0381277 \\\\\n",
       "\\end{tabular}\n"
      ],
      "text/plain": [
       "5×4 DataFrame\n",
       "│ Row │ a      │ b       │ r      │ z         │\n",
       "│     │ \u001b[90mInt64⍰\u001b[39m │ \u001b[90mInt64⍰\u001b[39m  │ \u001b[90mInt64⍰\u001b[39m │ \u001b[90mFloat64\u001b[39m   │\n",
       "├─────┼────────┼─────────┼────────┼───────────┤\n",
       "│ 1   │ 1      │ 2       │ 3      │ 0.107059  │\n",
       "│ 2   │ 1      │ 3       │ 4      │ 0.973894  │\n",
       "│ 3   │ 1      │ \u001b[90mmissing\u001b[39m │ 126    │ 0.687626  │\n",
       "│ 4   │ 5      │ 5       │ 5      │ 0.20065   │\n",
       "│ 5   │ -5     │ 7       │ 89     │ 0.0381277 │"
      ]
     },
     "execution_count": 63,
     "metadata": {},
     "output_type": "execute_result"
    }
   ],
   "source": [
    "df1.z = rand(size(df1, 1))\n",
    "# equivalent syntax: df1.z == df1[!, :z]\n",
    "df1"
   ]
  },
  {
   "cell_type": "markdown",
   "metadata": {},
   "source": [
    "Dataframes can also be combined with each other, e.g. one can push all rows from one dataframe into another with `append!`. Perhaps more interesting is that you can join different data frames on the basis of a shared column. For example, imagine we have"
   ]
  },
  {
   "cell_type": "code",
   "execution_count": 64,
   "metadata": {},
   "outputs": [
    {
     "data": {
      "text/html": [
       "<table class=\"data-frame\"><thead><tr><th></th><th>ID</th><th>b</th><th>model</th></tr><tr><th></th><th>Int64</th><th>Int64⍰</th><th>String⍰</th></tr></thead><tbody><p>8 rows × 3 columns</p><tr><th>1</th><td>1</td><td>2</td><td>linear</td></tr><tr><th>2</th><td>2</td><td>3</td><td>linear</td></tr><tr><th>3</th><td>3</td><td>missing</td><td>cubic</td></tr><tr><th>4</th><td>4</td><td>missing</td><td>cubic</td></tr><tr><th>5</th><td>5</td><td>2</td><td>linear</td></tr><tr><th>6</th><td>6</td><td>3</td><td>linear</td></tr><tr><th>7</th><td>7</td><td>missing</td><td>cubic</td></tr><tr><th>8</th><td>8</td><td>missing</td><td>cubic</td></tr></tbody></table>"
      ],
      "text/latex": [
       "\\begin{tabular}{r|ccc}\n",
       "\t& ID & b & model\\\\\n",
       "\t\\hline\n",
       "\t& Int64 & Int64⍰ & String⍰\\\\\n",
       "\t\\hline\n",
       "\t1 & 1 & 2 & linear \\\\\n",
       "\t2 & 2 & 3 & linear \\\\\n",
       "\t3 & 3 &  & cubic \\\\\n",
       "\t4 & 4 &  & cubic \\\\\n",
       "\t5 & 5 & 2 & linear \\\\\n",
       "\t6 & 6 & 3 & linear \\\\\n",
       "\t7 & 7 &  & cubic \\\\\n",
       "\t8 & 8 &  & cubic \\\\\n",
       "\\end{tabular}\n"
      ],
      "text/plain": [
       "8×3 DataFrame\n",
       "│ Row │ ID    │ b       │ model   │\n",
       "│     │ \u001b[90mInt64\u001b[39m │ \u001b[90mInt64⍰\u001b[39m  │ \u001b[90mString⍰\u001b[39m │\n",
       "├─────┼───────┼─────────┼─────────┤\n",
       "│ 1   │ 1     │ 2       │ linear  │\n",
       "│ 2   │ 2     │ 3       │ linear  │\n",
       "│ 3   │ 3     │ \u001b[90mmissing\u001b[39m │ cubic   │\n",
       "│ 4   │ 4     │ \u001b[90mmissing\u001b[39m │ cubic   │\n",
       "│ 5   │ 5     │ 2       │ linear  │\n",
       "│ 6   │ 6     │ 3       │ linear  │\n",
       "│ 7   │ 7     │ \u001b[90mmissing\u001b[39m │ cubic   │\n",
       "│ 8   │ 8     │ \u001b[90mmissing\u001b[39m │ cubic   │"
      ]
     },
     "execution_count": 64,
     "metadata": {},
     "output_type": "execute_result"
    }
   ],
   "source": [
    "# join must happen on a column with unique entries\n",
    "results[!, :ID] = 1:size(results, 1)\n",
    "df1 = results[:, [:ID, :b, :model]]"
   ]
  },
  {
   "cell_type": "code",
   "execution_count": 65,
   "metadata": {},
   "outputs": [
    {
     "data": {
      "text/html": [
       "<table class=\"data-frame\"><thead><tr><th></th><th>ID</th><th>x</th><th>y</th></tr><tr><th></th><th>Int64</th><th>Float64</th><th>Float64</th></tr></thead><tbody><p>8 rows × 3 columns</p><tr><th>1</th><td>1</td><td>0.401928</td><td>0.877851</td></tr><tr><th>2</th><td>2</td><td>0.206059</td><td>0.357867</td></tr><tr><th>3</th><td>3</td><td>0.769962</td><td>0.959395</td></tr><tr><th>4</th><td>4</td><td>0.244142</td><td>0.766049</td></tr><tr><th>5</th><td>5</td><td>0.0171982</td><td>0.105404</td></tr><tr><th>6</th><td>6</td><td>0.127986</td><td>0.749631</td></tr><tr><th>7</th><td>7</td><td>0.37712</td><td>0.296633</td></tr><tr><th>8</th><td>8</td><td>0.64303</td><td>0.155718</td></tr></tbody></table>"
      ],
      "text/latex": [
       "\\begin{tabular}{r|ccc}\n",
       "\t& ID & x & y\\\\\n",
       "\t\\hline\n",
       "\t& Int64 & Float64 & Float64\\\\\n",
       "\t\\hline\n",
       "\t1 & 1 & 0.401928 & 0.877851 \\\\\n",
       "\t2 & 2 & 0.206059 & 0.357867 \\\\\n",
       "\t3 & 3 & 0.769962 & 0.959395 \\\\\n",
       "\t4 & 4 & 0.244142 & 0.766049 \\\\\n",
       "\t5 & 5 & 0.0171982 & 0.105404 \\\\\n",
       "\t6 & 6 & 0.127986 & 0.749631 \\\\\n",
       "\t7 & 7 & 0.37712 & 0.296633 \\\\\n",
       "\t8 & 8 & 0.64303 & 0.155718 \\\\\n",
       "\\end{tabular}\n"
      ],
      "text/plain": [
       "8×3 DataFrame\n",
       "│ Row │ ID    │ x         │ y        │\n",
       "│     │ \u001b[90mInt64\u001b[39m │ \u001b[90mFloat64\u001b[39m   │ \u001b[90mFloat64\u001b[39m  │\n",
       "├─────┼───────┼───────────┼──────────┤\n",
       "│ 1   │ 1     │ 0.401928  │ 0.877851 │\n",
       "│ 2   │ 2     │ 0.206059  │ 0.357867 │\n",
       "│ 3   │ 3     │ 0.769962  │ 0.959395 │\n",
       "│ 4   │ 4     │ 0.244142  │ 0.766049 │\n",
       "│ 5   │ 5     │ 0.0171982 │ 0.105404 │\n",
       "│ 6   │ 6     │ 0.127986  │ 0.749631 │\n",
       "│ 7   │ 7     │ 0.37712   │ 0.296633 │\n",
       "│ 8   │ 8     │ 0.64303   │ 0.155718 │"
      ]
     },
     "execution_count": 65,
     "metadata": {},
     "output_type": "execute_result"
    }
   ],
   "source": [
    "df2 = results[:, [:ID]]\n",
    "df2.x = rand(size(df2, 1))\n",
    "df2.y = rand(size(df2, 1))\n",
    "df2"
   ]
  },
  {
   "cell_type": "markdown",
   "metadata": {},
   "source": [
    "and now we join these two dataframes on their shared column"
   ]
  },
  {
   "cell_type": "code",
   "execution_count": 66,
   "metadata": {
    "scrolled": false
   },
   "outputs": [
    {
     "data": {
      "text/html": [
       "<table class=\"data-frame\"><thead><tr><th></th><th>ID</th><th>b</th><th>model</th><th>x</th><th>y</th></tr><tr><th></th><th>Int64</th><th>Int64⍰</th><th>String⍰</th><th>Float64</th><th>Float64</th></tr></thead><tbody><p>8 rows × 5 columns</p><tr><th>1</th><td>1</td><td>2</td><td>linear</td><td>0.401928</td><td>0.877851</td></tr><tr><th>2</th><td>2</td><td>3</td><td>linear</td><td>0.206059</td><td>0.357867</td></tr><tr><th>3</th><td>3</td><td>missing</td><td>cubic</td><td>0.769962</td><td>0.959395</td></tr><tr><th>4</th><td>4</td><td>missing</td><td>cubic</td><td>0.244142</td><td>0.766049</td></tr><tr><th>5</th><td>5</td><td>2</td><td>linear</td><td>0.0171982</td><td>0.105404</td></tr><tr><th>6</th><td>6</td><td>3</td><td>linear</td><td>0.127986</td><td>0.749631</td></tr><tr><th>7</th><td>7</td><td>missing</td><td>cubic</td><td>0.37712</td><td>0.296633</td></tr><tr><th>8</th><td>8</td><td>missing</td><td>cubic</td><td>0.64303</td><td>0.155718</td></tr></tbody></table>"
      ],
      "text/latex": [
       "\\begin{tabular}{r|ccccc}\n",
       "\t& ID & b & model & x & y\\\\\n",
       "\t\\hline\n",
       "\t& Int64 & Int64⍰ & String⍰ & Float64 & Float64\\\\\n",
       "\t\\hline\n",
       "\t1 & 1 & 2 & linear & 0.401928 & 0.877851 \\\\\n",
       "\t2 & 2 & 3 & linear & 0.206059 & 0.357867 \\\\\n",
       "\t3 & 3 &  & cubic & 0.769962 & 0.959395 \\\\\n",
       "\t4 & 4 &  & cubic & 0.244142 & 0.766049 \\\\\n",
       "\t5 & 5 & 2 & linear & 0.0171982 & 0.105404 \\\\\n",
       "\t6 & 6 & 3 & linear & 0.127986 & 0.749631 \\\\\n",
       "\t7 & 7 &  & cubic & 0.37712 & 0.296633 \\\\\n",
       "\t8 & 8 &  & cubic & 0.64303 & 0.155718 \\\\\n",
       "\\end{tabular}\n"
      ],
      "text/plain": [
       "8×5 DataFrame\n",
       "│ Row │ ID    │ b       │ model   │ x         │ y        │\n",
       "│     │ \u001b[90mInt64\u001b[39m │ \u001b[90mInt64⍰\u001b[39m  │ \u001b[90mString⍰\u001b[39m │ \u001b[90mFloat64\u001b[39m   │ \u001b[90mFloat64\u001b[39m  │\n",
       "├─────┼───────┼─────────┼─────────┼───────────┼──────────┤\n",
       "│ 1   │ 1     │ 2       │ linear  │ 0.401928  │ 0.877851 │\n",
       "│ 2   │ 2     │ 3       │ linear  │ 0.206059  │ 0.357867 │\n",
       "│ 3   │ 3     │ \u001b[90mmissing\u001b[39m │ cubic   │ 0.769962  │ 0.959395 │\n",
       "│ 4   │ 4     │ \u001b[90mmissing\u001b[39m │ cubic   │ 0.244142  │ 0.766049 │\n",
       "│ 5   │ 5     │ 2       │ linear  │ 0.0171982 │ 0.105404 │\n",
       "│ 6   │ 6     │ 3       │ linear  │ 0.127986  │ 0.749631 │\n",
       "│ 7   │ 7     │ \u001b[90mmissing\u001b[39m │ cubic   │ 0.37712   │ 0.296633 │\n",
       "│ 8   │ 8     │ \u001b[90mmissing\u001b[39m │ cubic   │ 0.64303   │ 0.155718 │"
      ]
     },
     "execution_count": 66,
     "metadata": {},
     "output_type": "execute_result"
    }
   ],
   "source": [
    "df3 = join(df1, df2, on = :ID)"
   ]
  },
  {
   "cell_type": "markdown",
   "metadata": {},
   "source": [
    "Notice that here we could use just `hcat`, since the ID coincides the the row ordering of the data:"
   ]
  },
  {
   "cell_type": "code",
   "execution_count": 67,
   "metadata": {},
   "outputs": [
    {
     "data": {
      "text/html": [
       "<table class=\"data-frame\"><thead><tr><th></th><th>a</th><th>b</th><th>r</th><th>model</th><th>d</th><th>ID</th><th>x</th><th>y</th></tr><tr><th></th><th>Int64⍰</th><th>Int64⍰</th><th>Int64⍰</th><th>String⍰</th><th>Int64⍰</th><th>Int64</th><th>Float64</th><th>Float64</th></tr></thead><tbody><p>8 rows × 8 columns</p><tr><th>1</th><td>1</td><td>2</td><td>3</td><td>linear</td><td>missing</td><td>1</td><td>0.951793</td><td>0.709313</td></tr><tr><th>2</th><td>1</td><td>3</td><td>4</td><td>linear</td><td>missing</td><td>2</td><td>0.0971747</td><td>0.958796</td></tr><tr><th>3</th><td>1</td><td>missing</td><td>126</td><td>cubic</td><td>5</td><td>3</td><td>0.516099</td><td>0.942104</td></tr><tr><th>4</th><td>1</td><td>missing</td><td>217</td><td>cubic</td><td>6</td><td>4</td><td>0.173262</td><td>0.307954</td></tr><tr><th>5</th><td>2</td><td>2</td><td>4</td><td>linear</td><td>missing</td><td>5</td><td>0.370433</td><td>0.205773</td></tr><tr><th>6</th><td>2</td><td>3</td><td>5</td><td>linear</td><td>missing</td><td>6</td><td>0.436024</td><td>0.48928</td></tr><tr><th>7</th><td>2</td><td>missing</td><td>127</td><td>cubic</td><td>5</td><td>7</td><td>0.119959</td><td>0.377322</td></tr><tr><th>8</th><td>2</td><td>missing</td><td>218</td><td>cubic</td><td>6</td><td>8</td><td>0.337663</td><td>0.930451</td></tr></tbody></table>"
      ],
      "text/latex": [
       "\\begin{tabular}{r|cccccccc}\n",
       "\t& a & b & r & model & d & ID & x & y\\\\\n",
       "\t\\hline\n",
       "\t& Int64⍰ & Int64⍰ & Int64⍰ & String⍰ & Int64⍰ & Int64 & Float64 & Float64\\\\\n",
       "\t\\hline\n",
       "\t1 & 1 & 2 & 3 & linear &  & 1 & 0.951793 & 0.709313 \\\\\n",
       "\t2 & 1 & 3 & 4 & linear &  & 2 & 0.0971747 & 0.958796 \\\\\n",
       "\t3 & 1 &  & 126 & cubic & 5 & 3 & 0.516099 & 0.942104 \\\\\n",
       "\t4 & 1 &  & 217 & cubic & 6 & 4 & 0.173262 & 0.307954 \\\\\n",
       "\t5 & 2 & 2 & 4 & linear &  & 5 & 0.370433 & 0.205773 \\\\\n",
       "\t6 & 2 & 3 & 5 & linear &  & 6 & 0.436024 & 0.48928 \\\\\n",
       "\t7 & 2 &  & 127 & cubic & 5 & 7 & 0.119959 & 0.377322 \\\\\n",
       "\t8 & 2 &  & 218 & cubic & 6 & 8 & 0.337663 & 0.930451 \\\\\n",
       "\\end{tabular}\n"
      ],
      "text/plain": [
       "8×8 DataFrame. Omitted printing of 1 columns\n",
       "│ Row │ a      │ b       │ r      │ model   │ d       │ ID    │ x         │\n",
       "│     │ \u001b[90mInt64⍰\u001b[39m │ \u001b[90mInt64⍰\u001b[39m  │ \u001b[90mInt64⍰\u001b[39m │ \u001b[90mString⍰\u001b[39m │ \u001b[90mInt64⍰\u001b[39m  │ \u001b[90mInt64\u001b[39m │ \u001b[90mFloat64\u001b[39m   │\n",
       "├─────┼────────┼─────────┼────────┼─────────┼─────────┼───────┼───────────┤\n",
       "│ 1   │ 1      │ 2       │ 3      │ linear  │ \u001b[90mmissing\u001b[39m │ 1     │ 0.951793  │\n",
       "│ 2   │ 1      │ 3       │ 4      │ linear  │ \u001b[90mmissing\u001b[39m │ 2     │ 0.0971747 │\n",
       "│ 3   │ 1      │ \u001b[90mmissing\u001b[39m │ 126    │ cubic   │ 5       │ 3     │ 0.516099  │\n",
       "│ 4   │ 1      │ \u001b[90mmissing\u001b[39m │ 217    │ cubic   │ 6       │ 4     │ 0.173262  │\n",
       "│ 5   │ 2      │ 2       │ 4      │ linear  │ \u001b[90mmissing\u001b[39m │ 5     │ 0.370433  │\n",
       "│ 6   │ 2      │ 3       │ 5      │ linear  │ \u001b[90mmissing\u001b[39m │ 6     │ 0.436024  │\n",
       "│ 7   │ 2      │ \u001b[90mmissing\u001b[39m │ 127    │ cubic   │ 5       │ 7     │ 0.119959  │\n",
       "│ 8   │ 2      │ \u001b[90mmissing\u001b[39m │ 218    │ cubic   │ 6       │ 8     │ 0.337663  │"
      ]
     },
     "execution_count": 67,
     "metadata": {},
     "output_type": "execute_result"
    }
   ],
   "source": [
    "dfxy = DataFrame(x = rand(size(results, 1)), y = rand(size(results, 1)))\n",
    "hcat(results, dfxy)"
   ]
  },
  {
   "cell_type": "markdown",
   "metadata": {},
   "source": [
    "But `join` is in general more powerful for joining datasets as there are several different styles of join."
   ]
  },
  {
   "cell_type": "markdown",
   "metadata": {},
   "source": [
    "## Querying a DataFrame\n",
    "\n",
    "Querying a dataframe is done with the [Query.jl](https://www.queryverse.org/Query.jl/stable/) package (alternatives also exist). `Query` allows you to query many different Julia data sources with two styles of syntax: \n",
    "\n",
    "1. Composable standalone operations \n",
    "2. \"LINQ\" style\n",
    "\n",
    "Here I'll show the LINQ syntax because it involves less new symbols. \n",
    "\n",
    "Query is extremely powerful and general, because in principle it can query almost everything that is iterable. E.g. a dataframe is in principle an iterable of NamedTuples."
   ]
  },
  {
   "cell_type": "code",
   "execution_count": 68,
   "metadata": {},
   "outputs": [
    {
     "data": {
      "text/html": [
       "<table class=\"data-frame\"><thead><tr><th></th><th>a</th><th>b</th><th>r</th><th>model</th><th>d</th><th>ID</th></tr><tr><th></th><th>Int64⍰</th><th>Int64⍰</th><th>Int64⍰</th><th>String⍰</th><th>Int64⍰</th><th>Int64</th></tr></thead><tbody><p>8 rows × 6 columns</p><tr><th>1</th><td>1</td><td>2</td><td>3</td><td>linear</td><td>missing</td><td>1</td></tr><tr><th>2</th><td>1</td><td>3</td><td>4</td><td>linear</td><td>missing</td><td>2</td></tr><tr><th>3</th><td>1</td><td>missing</td><td>126</td><td>cubic</td><td>5</td><td>3</td></tr><tr><th>4</th><td>1</td><td>missing</td><td>217</td><td>cubic</td><td>6</td><td>4</td></tr><tr><th>5</th><td>2</td><td>2</td><td>4</td><td>linear</td><td>missing</td><td>5</td></tr><tr><th>6</th><td>2</td><td>3</td><td>5</td><td>linear</td><td>missing</td><td>6</td></tr><tr><th>7</th><td>2</td><td>missing</td><td>127</td><td>cubic</td><td>5</td><td>7</td></tr><tr><th>8</th><td>2</td><td>missing</td><td>218</td><td>cubic</td><td>6</td><td>8</td></tr></tbody></table>"
      ],
      "text/latex": [
       "\\begin{tabular}{r|cccccc}\n",
       "\t& a & b & r & model & d & ID\\\\\n",
       "\t\\hline\n",
       "\t& Int64⍰ & Int64⍰ & Int64⍰ & String⍰ & Int64⍰ & Int64\\\\\n",
       "\t\\hline\n",
       "\t1 & 1 & 2 & 3 & linear &  & 1 \\\\\n",
       "\t2 & 1 & 3 & 4 & linear &  & 2 \\\\\n",
       "\t3 & 1 &  & 126 & cubic & 5 & 3 \\\\\n",
       "\t4 & 1 &  & 217 & cubic & 6 & 4 \\\\\n",
       "\t5 & 2 & 2 & 4 & linear &  & 5 \\\\\n",
       "\t6 & 2 & 3 & 5 & linear &  & 6 \\\\\n",
       "\t7 & 2 &  & 127 & cubic & 5 & 7 \\\\\n",
       "\t8 & 2 &  & 218 & cubic & 6 & 8 \\\\\n",
       "\\end{tabular}\n"
      ],
      "text/plain": [
       "8×6 DataFrame\n",
       "│ Row │ a      │ b       │ r      │ model   │ d       │ ID    │\n",
       "│     │ \u001b[90mInt64⍰\u001b[39m │ \u001b[90mInt64⍰\u001b[39m  │ \u001b[90mInt64⍰\u001b[39m │ \u001b[90mString⍰\u001b[39m │ \u001b[90mInt64⍰\u001b[39m  │ \u001b[90mInt64\u001b[39m │\n",
       "├─────┼────────┼─────────┼────────┼─────────┼─────────┼───────┤\n",
       "│ 1   │ 1      │ 2       │ 3      │ linear  │ \u001b[90mmissing\u001b[39m │ 1     │\n",
       "│ 2   │ 1      │ 3       │ 4      │ linear  │ \u001b[90mmissing\u001b[39m │ 2     │\n",
       "│ 3   │ 1      │ \u001b[90mmissing\u001b[39m │ 126    │ cubic   │ 5       │ 3     │\n",
       "│ 4   │ 1      │ \u001b[90mmissing\u001b[39m │ 217    │ cubic   │ 6       │ 4     │\n",
       "│ 5   │ 2      │ 2       │ 4      │ linear  │ \u001b[90mmissing\u001b[39m │ 5     │\n",
       "│ 6   │ 2      │ 3       │ 5      │ linear  │ \u001b[90mmissing\u001b[39m │ 6     │\n",
       "│ 7   │ 2      │ \u001b[90mmissing\u001b[39m │ 127    │ cubic   │ 5       │ 7     │\n",
       "│ 8   │ 2      │ \u001b[90mmissing\u001b[39m │ 218    │ cubic   │ 6       │ 8     │"
      ]
     },
     "execution_count": 68,
     "metadata": {},
     "output_type": "execute_result"
    }
   ],
   "source": [
    "using Query\n",
    "results"
   ]
  },
  {
   "cell_type": "markdown",
   "metadata": {},
   "source": [
    "Let's perform some basic queries and then explain them. The basic query syntax is as follows"
   ]
  },
  {
   "cell_type": "code",
   "execution_count": 69,
   "metadata": {},
   "outputs": [
    {
     "data": {
      "text/html": [
       "<table class=\"data-frame\"><thead><tr><th></th><th>a</th><th>r</th></tr><tr><th></th><th>Int64⍰</th><th>Int64⍰</th></tr></thead><tbody><p>4 rows × 2 columns</p><tr><th>1</th><td>1</td><td>3</td></tr><tr><th>2</th><td>1</td><td>4</td></tr><tr><th>3</th><td>2</td><td>4</td></tr><tr><th>4</th><td>2</td><td>5</td></tr></tbody></table>"
      ],
      "text/latex": [
       "\\begin{tabular}{r|cc}\n",
       "\t& a & r\\\\\n",
       "\t\\hline\n",
       "\t& Int64⍰ & Int64⍰\\\\\n",
       "\t\\hline\n",
       "\t1 & 1 & 3 \\\\\n",
       "\t2 & 1 & 4 \\\\\n",
       "\t3 & 2 & 4 \\\\\n",
       "\t4 & 2 & 5 \\\\\n",
       "\\end{tabular}\n"
      ],
      "text/plain": [
       "4×2 DataFrame\n",
       "│ Row │ a      │ r      │\n",
       "│     │ \u001b[90mInt64⍰\u001b[39m │ \u001b[90mInt64⍰\u001b[39m │\n",
       "├─────┼────────┼────────┤\n",
       "│ 1   │ 1      │ 3      │\n",
       "│ 2   │ 1      │ 4      │\n",
       "│ 3   │ 2      │ 4      │\n",
       "│ 4   │ 2      │ 5      │"
      ]
     },
     "execution_count": 69,
     "metadata": {},
     "output_type": "execute_result"
    }
   ],
   "source": [
    "q = @from row in results begin\n",
    "    @where row.model == \"linear\"\n",
    "    @select {row.a, row.r}\n",
    "    @collect DataFrame\n",
    "end"
   ]
  },
  {
   "cell_type": "markdown",
   "metadata": {},
   "source": [
    "same command, with comments"
   ]
  },
  {
   "cell_type": "code",
   "execution_count": 70,
   "metadata": {},
   "outputs": [
    {
     "data": {
      "text/html": [
       "<table class=\"data-frame\"><thead><tr><th></th><th>a</th><th>r</th></tr><tr><th></th><th>Int64⍰</th><th>Int64⍰</th></tr></thead><tbody><p>4 rows × 2 columns</p><tr><th>1</th><td>1</td><td>3</td></tr><tr><th>2</th><td>1</td><td>4</td></tr><tr><th>3</th><td>2</td><td>4</td></tr><tr><th>4</th><td>2</td><td>5</td></tr></tbody></table>"
      ],
      "text/latex": [
       "\\begin{tabular}{r|cc}\n",
       "\t& a & r\\\\\n",
       "\t\\hline\n",
       "\t& Int64⍰ & Int64⍰\\\\\n",
       "\t\\hline\n",
       "\t1 & 1 & 3 \\\\\n",
       "\t2 & 1 & 4 \\\\\n",
       "\t3 & 2 & 4 \\\\\n",
       "\t4 & 2 & 5 \\\\\n",
       "\\end{tabular}\n"
      ],
      "text/plain": [
       "4×2 DataFrame\n",
       "│ Row │ a      │ r      │\n",
       "│     │ \u001b[90mInt64⍰\u001b[39m │ \u001b[90mInt64⍰\u001b[39m │\n",
       "├─────┼────────┼────────┤\n",
       "│ 1   │ 1      │ 3      │\n",
       "│ 2   │ 1      │ 4      │\n",
       "│ 3   │ 2      │ 4      │\n",
       "│ 4   │ 2      │ 5      │"
      ]
     },
     "execution_count": 70,
     "metadata": {},
     "output_type": "execute_result"
    }
   ],
   "source": [
    "# `@from ... begin` initializes a query\n",
    "# here `row` (any name would be fine) is the \n",
    "# iterable of the tabular data. Think of it as a \n",
    "# NamedTuple. You can access its values by name.\n",
    "q = @from row in results begin\n",
    "    # `@where` filters elements where the followin\n",
    "    # expression is true. \n",
    "    @where row.model == \"linear\"\n",
    "    # `@select { stuf... }  creates a new named tuple\n",
    "    @select {row.a, row.r}\n",
    "    # `@collect` collects the selected results into\n",
    "    # the specified data structure\n",
    "    @collect DataFrame\n",
    "end"
   ]
  },
  {
   "cell_type": "markdown",
   "metadata": {},
   "source": [
    "Here is another query but with different contents"
   ]
  },
  {
   "cell_type": "code",
   "execution_count": 71,
   "metadata": {},
   "outputs": [
    {
     "data": {
      "text/html": [
       "<table class=\"data-frame\"><thead><tr><th></th><th>sin</th><th>cos</th></tr><tr><th></th><th>Float64⍰</th><th>Float64⍰</th></tr></thead><tbody><p>7 rows × 2 columns</p><tr><th>1</th><td>0.841471</td><td>-0.989992</td></tr><tr><th>2</th><td>0.841471</td><td>-0.653644</td></tr><tr><th>3</th><td>0.841471</td><td>-0.973642</td></tr><tr><th>4</th><td>0.909297</td><td>-0.653644</td></tr><tr><th>5</th><td>0.909297</td><td>0.283662</td></tr><tr><th>6</th><td>0.909297</td><td>0.232359</td></tr><tr><th>7</th><td>0.909297</td><td>-0.334137</td></tr></tbody></table>"
      ],
      "text/latex": [
       "\\begin{tabular}{r|cc}\n",
       "\t& sin & cos\\\\\n",
       "\t\\hline\n",
       "\t& Float64⍰ & Float64⍰\\\\\n",
       "\t\\hline\n",
       "\t1 & 0.841471 & -0.989992 \\\\\n",
       "\t2 & 0.841471 & -0.653644 \\\\\n",
       "\t3 & 0.841471 & -0.973642 \\\\\n",
       "\t4 & 0.909297 & -0.653644 \\\\\n",
       "\t5 & 0.909297 & 0.283662 \\\\\n",
       "\t6 & 0.909297 & 0.232359 \\\\\n",
       "\t7 & 0.909297 & -0.334137 \\\\\n",
       "\\end{tabular}\n"
      ],
      "text/plain": [
       "7×2 DataFrame\n",
       "│ Row │ sin      │ cos       │\n",
       "│     │ \u001b[90mFloat64⍰\u001b[39m │ \u001b[90mFloat64⍰\u001b[39m  │\n",
       "├─────┼──────────┼───────────┤\n",
       "│ 1   │ 0.841471 │ -0.989992 │\n",
       "│ 2   │ 0.841471 │ -0.653644 │\n",
       "│ 3   │ 0.841471 │ -0.973642 │\n",
       "│ 4   │ 0.909297 │ -0.653644 │\n",
       "│ 5   │ 0.909297 │ 0.283662  │\n",
       "│ 6   │ 0.909297 │ 0.232359  │\n",
       "│ 7   │ 0.909297 │ -0.334137 │"
      ]
     },
     "execution_count": 71,
     "metadata": {},
     "output_type": "execute_result"
    }
   ],
   "source": [
    "q = @from row in results begin\n",
    "    @where cos(row.r) < 0.5\n",
    "    @select {sin = sin(row.a), cos = cos(row.r)}\n",
    "    @collect DataFrame\n",
    "end"
   ]
  },
  {
   "cell_type": "markdown",
   "metadata": {},
   "source": [
    "As you can see, you don't have to necessarily collect existing columns, you can even create new ones (specified by name).\n",
    "\n",
    "Of course, much, much more things are possible to do in such a query. For more, see the documentation of Query.jl."
   ]
  },
  {
   "cell_type": "markdown",
   "metadata": {},
   "source": [
    "## Querying a DifferentialEquations.jl solution\n",
    "\n",
    "Recall that `sol` is the solution to the ODE defining the Lorenz system. In principle one can think as `sol` an iterable over pairs `(t, u)` with `t` current time and `u` state at current time. If this is the case, then one should be able to query it with Query.jl. Indeed this is possible for most data structures, by only extending very few methods (I think 3).\n",
    "\n",
    "One can do"
   ]
  },
  {
   "cell_type": "code",
   "execution_count": 72,
   "metadata": {},
   "outputs": [
    {
     "data": {
      "text/html": [
       "<table class=\"data-frame\"><thead><tr><th></th><th>t</th><th>X</th><th>Z</th></tr><tr><th></th><th>Float64</th><th>Float64</th><th>Float64</th></tr></thead><tbody><p>452 rows × 3 columns</p><tr><th>1</th><td>0.0</td><td>10.0</td><td>10.0</td></tr><tr><th>2</th><td>0.0935523</td><td>14.5273</td><td>24.6554</td></tr><tr><th>3</th><td>0.172839</td><td>16.2607</td><td>40.8667</td></tr><tr><th>4</th><td>1.72736</td><td>-5.26974</td><td>30.6215</td></tr><tr><th>5</th><td>1.8449</td><td>-1.206</td><td>22.1908</td></tr><tr><th>6</th><td>2.6017</td><td>-8.8825</td><td>37.8194</td></tr><tr><th>7</th><td>2.69861</td><td>-0.626759</td><td>27.8108</td></tr><tr><th>8</th><td>2.81043</td><td>2.90975</td><td>21.3246</td></tr><tr><th>9</th><td>2.91288</td><td>5.12438</td><td>18.4993</td></tr><tr><th>10</th><td>3.03413</td><td>9.48748</td><td>21.7881</td></tr><tr><th>11</th><td>3.14485</td><td>12.8666</td><td>32.4962</td></tr><tr><th>12</th><td>3.26101</td><td>9.02492</td><td>33.2101</td></tr><tr><th>13</th><td>3.37039</td><td>4.5079</td><td>26.2849</td></tr><tr><th>14</th><td>3.51258</td><td>3.51618</td><td>19.2455</td></tr><tr><th>15</th><td>3.6161</td><td>5.37039</td><td>17.0564</td></tr><tr><th>16</th><td>3.76014</td><td>11.4151</td><td>24.6944</td></tr><tr><th>17</th><td>3.86821</td><td>12.9806</td><td>35.7015</td></tr><tr><th>18</th><td>3.98381</td><td>6.89059</td><td>31.3276</td></tr><tr><th>19</th><td>4.09551</td><td>3.05032</td><td>23.7699</td></tr><tr><th>20</th><td>4.2184</td><td>2.71727</td><td>17.7929</td></tr><tr><th>21</th><td>4.32641</td><td>4.62303</td><td>15.1739</td></tr><tr><th>22</th><td>4.46169</td><td>10.7287</td><td>21.4492</td></tr><tr><th>23</th><td>4.56962</td><td>14.1884</td><td>36.1304</td></tr><tr><th>24</th><td>4.68219</td><td>7.78719</td><td>33.4831</td></tr><tr><th>25</th><td>4.92139</td><td>1.15036</td><td>17.7716</td></tr><tr><th>26</th><td>5.0187</td><td>1.59437</td><td>13.914</td></tr><tr><th>27</th><td>5.14215</td><td>3.8464</td><td>11.2988</td></tr><tr><th>28</th><td>5.27309</td><td>10.688</td><td>18.1984</td></tr><tr><th>29</th><td>5.37923</td><td>15.8449</td><td>38.216</td></tr><tr><th>30</th><td>6.24828</td><td>-6.07302</td><td>31.756</td></tr><tr><th>&vellip;</th><td>&vellip;</td><td>&vellip;</td><td>&vellip;</td></tr></tbody></table>"
      ],
      "text/latex": [
       "\\begin{tabular}{r|ccc}\n",
       "\t& t & X & Z\\\\\n",
       "\t\\hline\n",
       "\t& Float64 & Float64 & Float64\\\\\n",
       "\t\\hline\n",
       "\t1 & 0.0 & 10.0 & 10.0 \\\\\n",
       "\t2 & 0.0935523 & 14.5273 & 24.6554 \\\\\n",
       "\t3 & 0.172839 & 16.2607 & 40.8667 \\\\\n",
       "\t4 & 1.72736 & -5.26974 & 30.6215 \\\\\n",
       "\t5 & 1.8449 & -1.206 & 22.1908 \\\\\n",
       "\t6 & 2.6017 & -8.8825 & 37.8194 \\\\\n",
       "\t7 & 2.69861 & -0.626759 & 27.8108 \\\\\n",
       "\t8 & 2.81043 & 2.90975 & 21.3246 \\\\\n",
       "\t9 & 2.91288 & 5.12438 & 18.4993 \\\\\n",
       "\t10 & 3.03413 & 9.48748 & 21.7881 \\\\\n",
       "\t11 & 3.14485 & 12.8666 & 32.4962 \\\\\n",
       "\t12 & 3.26101 & 9.02492 & 33.2101 \\\\\n",
       "\t13 & 3.37039 & 4.5079 & 26.2849 \\\\\n",
       "\t14 & 3.51258 & 3.51618 & 19.2455 \\\\\n",
       "\t15 & 3.6161 & 5.37039 & 17.0564 \\\\\n",
       "\t16 & 3.76014 & 11.4151 & 24.6944 \\\\\n",
       "\t17 & 3.86821 & 12.9806 & 35.7015 \\\\\n",
       "\t18 & 3.98381 & 6.89059 & 31.3276 \\\\\n",
       "\t19 & 4.09551 & 3.05032 & 23.7699 \\\\\n",
       "\t20 & 4.2184 & 2.71727 & 17.7929 \\\\\n",
       "\t21 & 4.32641 & 4.62303 & 15.1739 \\\\\n",
       "\t22 & 4.46169 & 10.7287 & 21.4492 \\\\\n",
       "\t23 & 4.56962 & 14.1884 & 36.1304 \\\\\n",
       "\t24 & 4.68219 & 7.78719 & 33.4831 \\\\\n",
       "\t25 & 4.92139 & 1.15036 & 17.7716 \\\\\n",
       "\t26 & 5.0187 & 1.59437 & 13.914 \\\\\n",
       "\t27 & 5.14215 & 3.8464 & 11.2988 \\\\\n",
       "\t28 & 5.27309 & 10.688 & 18.1984 \\\\\n",
       "\t29 & 5.37923 & 15.8449 & 38.216 \\\\\n",
       "\t30 & 6.24828 & -6.07302 & 31.756 \\\\\n",
       "\t$\\dots$ & $\\dots$ & $\\dots$ & $\\dots$ \\\\\n",
       "\\end{tabular}\n"
      ],
      "text/plain": [
       "452×3 DataFrame\n",
       "│ Row │ t         │ X         │ Z       │\n",
       "│     │ \u001b[90mFloat64\u001b[39m   │ \u001b[90mFloat64\u001b[39m   │ \u001b[90mFloat64\u001b[39m │\n",
       "├─────┼───────────┼───────────┼─────────┤\n",
       "│ 1   │ 0.0       │ 10.0      │ 10.0    │\n",
       "│ 2   │ 0.0935523 │ 14.5273   │ 24.6554 │\n",
       "│ 3   │ 0.172839  │ 16.2607   │ 40.8667 │\n",
       "│ 4   │ 1.72736   │ -5.26974  │ 30.6215 │\n",
       "│ 5   │ 1.8449    │ -1.206    │ 22.1908 │\n",
       "│ 6   │ 2.6017    │ -8.8825   │ 37.8194 │\n",
       "│ 7   │ 2.69861   │ -0.626759 │ 27.8108 │\n",
       "│ 8   │ 2.81043   │ 2.90975   │ 21.3246 │\n",
       "│ 9   │ 2.91288   │ 5.12438   │ 18.4993 │\n",
       "│ 10  │ 3.03413   │ 9.48748   │ 21.7881 │\n",
       "⋮\n",
       "│ 442 │ 97.5853   │ 11.3872   │ 19.7513 │\n",
       "│ 443 │ 97.6892   │ 15.665    │ 39.001  │\n",
       "│ 444 │ 98.5416   │ -6.98492  │ 33.0369 │\n",
       "│ 445 │ 98.645    │ -1.93217  │ 24.7952 │\n",
       "│ 446 │ 98.7708   │ -0.333951 │ 17.6841 │\n",
       "│ 447 │ 99.5419   │ -9.84744  │ 39.6204 │\n",
       "│ 448 │ 99.6296   │ -0.914767 │ 29.5351 │\n",
       "│ 449 │ 99.7415   │ 3.57097   │ 22.9352 │\n",
       "│ 450 │ 99.8434   │ 5.88808   │ 20.5141 │\n",
       "│ 451 │ 99.965    │ 9.69284   │ 23.8576 │\n",
       "│ 452 │ 100.0     │ 10.8053   │ 26.3515 │"
      ]
     },
     "execution_count": 72,
     "metadata": {},
     "output_type": "execute_result"
    }
   ],
   "source": [
    "subsol = @from entry in sol begin\n",
    "    @where entry.value2 > 0\n",
    "    @select {t = entry.timestamp, X = entry.value1, Z = entry.value3}\n",
    "    @collect DataFrame\n",
    "end"
   ]
  },
  {
   "cell_type": "code",
   "execution_count": 73,
   "metadata": {},
   "outputs": [
    {
     "data": {
      "image/png": "[encoded data removed]",
      "text/plain": [
       "Figure(PyObject <Figure size 500x300 with 1 Axes>)"
      ]
     },
     "metadata": {},
     "output_type": "display_data"
    }
   ],
   "source": [
    "scatter(subsol.X, subsol.Z, s = 1);"
   ]
  },
  {
   "cell_type": "markdown",
   "metadata": {},
   "source": [
    "# A final take-home message\n",
    "\n",
    "One thing that should really, _really_ be added a lot of weight, is how simple, transparent, and high level are the interfaces of everything that you have seen so far. Both base Julia, as well as most packages for it, have such a simple interface which means that people can learn the software faster and spend more time actually doing science than trying to figure out how to write the code.\n",
    "\n",
    "This is something that \"old\" programming languages typically fail at: most (young) people that use codebases written in C/FORTRAN without any high level API defined on top (in e.g. Python) always complain that it is \"so hard to use this stuff\".\n",
    "\n",
    "Julia = answer :) \n",
    "\n",
    "# Exercises\n",
    "\n",
    "This exercise session is a bit different from the previous, because it tries to emulate the \"real experience of learning and using a programming language\". This means: **you are expected to go online and read the docs of the packages**, and troubleshoot your way to the solution.\n",
    "\n",
    "## Install a plotting package\n",
    "This is harder than it sounds (unfortunately). Try to install a plotting package of your preference (I recommend PyPlot). In the same plot, plot `1:5` versus `rand(5)` and then scatter plot `1:5` versus `rand(5)`, in a different color. Then make the x and y axis to have labels have \"x\" and \"y\", and add a title to your plot.\n",
    "\n",
    "Plotting will be used in subesequent exercises.\n",
    "\n",
    "## Bouncing ball\n",
    "\n",
    "Using the callback functionality of DifferentialEquations.jl, implement the bouncing ball physical system:\n",
    "\n",
    "$$\n",
    "\\begin{aligned}\n",
    "\\dot{x} &= v \\\\\n",
    "\\dot{v} &= -g - \\gamma v \n",
    "\\end{aligned}\n",
    "$$\n",
    "and at $x=0$ there is a table that the ball bounces from. $g$ is the gravity constant and $\\gamma$ the air friction (use e.g. $g=10, \\gamma = 0.99, x = 1, v = 0$). Implement this problem for elastic collisions (elastic collisions preserve velocity measure), and plot the time evolution of $x, v$ versus time.\n",
    "\n",
    "*Hint: whenever the ball reaches the level $x=0$, its velocity should be reversed.*\n",
    "\n",
    "\n",
    "## Distribution quantile\n",
    "\n",
    "To find the $q$-th quantile of a distribution, one can use a Newton method\n",
    "\n",
    "$$\\theta_{n+1} = \\theta_n -\\frac{\\text{cdf}(\\theta)−q}{\\text{pdf}(\\theta)}$$\n",
    "\n",
    "where $\\theta_n$ converges to the value of the $q$-th quantile.\n",
    "\n",
    "Use multiple dispatch to write a generic algorithm for which calculates the qth quantile of any `UnivariateDistribution` in Distributions.jl, and test your result against the `quantile(d::UnivariateDistribution, q::Number)` function from Distributions.jl using the following distributions: `[Gamma(5, 1), Normal(0, 1), Beta(2, 4)]`.\n",
    "\n",
    "*Hint: use `θ0 = mean(distribution)`*\n",
    "\n",
    "## Plotting low-dim subsets of a dataframe\n",
    "\n",
    "`DataFrames` has a default dataset that is used in its test suite. Install the `CSV` package, and load this dataset with the command:\n",
    "```julia\n",
    "using DataFrames, CSV\n",
    "iris = DataFrame(CSV.File(\n",
    "    joinpath(dirname(pathof(DataFrames)), \n",
    "    \"../docs/src/assets/iris.csv\")\n",
    "))\n",
    "```\n",
    "\n",
    "This dataset has various flower species (column `:Species`). For every species create a 1x2 figure with the following plots:\n",
    "\n",
    "* [1,1] = scatter plot of `SepalLength` vs `SepalWidth`. \n",
    "2. [1,2] = scatter plot of `PetalLength` vs `PetalWidth`.\n",
    "\n",
    "for each of these sub-scatter plots, calculate and print the Pearson coefficient.\n",
    "\n",
    "\n",
    "## DataFrame of chaos\n",
    "\n",
    "Define the Roessler system as a `DynamicalSystem`:\n",
    "$$\n",
    "\\begin{aligned}\n",
    "\\dot{x} &= -y-z \\\\\n",
    "\\dot{y} &= x+ay \\\\\n",
    "\\dot{z} &= b + z(x-c)\n",
    "\\end{aligned}\n",
    "$$\n",
    "with initial condition `ones(3)`. Loop over the following parameter ranges:\n",
    "```julia\n",
    "as = 0.15:0.025:0.25\n",
    "bs = 0.15:0.025:0.25\n",
    "cs = 4:0.1:6.0\n",
    "```\n",
    "and for each parameter combination calculate (1) the Lyapunov spectrum and (2) the shannon entropy of the system's trajectory. (For the entropy, evolve the system with `dt=0.1` and use `ε=0.1` for the box size. For changing parameters you have to use `set_parameter!`).\n",
    "\n",
    "Collect this analysis into a dataframe, with columns `a, b, c, λ1, λ2, H`. Then use the querying framework to query into this dataframe and do the following processes:\n",
    "\n",
    "####  find chaotic parameter sets\n",
    "Select all values `a, b, c` where `λ1 > 0.01` (which indicates chaotic dynamics).\n",
    "\n",
    "####  λ vs H\n",
    "For all chaotic cases, select the `λ1, H` values and then perform a scatter plot of these two.\n",
    "\n",
    "#### heatmap of H\n",
    "For `a` fixed to `0.2`, plot a heatmap of the value of `H` with axis the values of `c` and the values of `b`. Provided that you have a dataframe with columns `:b, :c, :H`, then these commands:\n",
    "```julia\n",
    "unstacked = unstack(heatdf, :b,  :H; renamecols = (x -> \"H for b=$(x)\"))\n",
    "heat = Matrix(unstacked[:, Not(:c)])\n",
    "```\n",
    "will create a matrix with the values of `H` where the row index is the values of `c` and the column index is the values of `b`.\n",
    "\n",
    "*Hint: you can initiallize an empty dataframe with `df = DataFrame()`, and then start pushing into it arbitrary named tuples like `push!(df, (a = 0.5, b = 0.5))`.*\n",
    "\n",
    "*Hint 2: this all sounds like a lot of computation, but if you do the exercise correct running all code should not take more than 10 seconds.*\n",
    "\n",
    "\n",
    "## Reproducible scientific project\n",
    "*this exercise only applies to participants that already know Git*\n",
    "\n",
    "* Use DrWatson's `initialize_project` to start a scientific project somewhere on your computer. \n",
    "* Add the package `BSON` to this project (`using Pkg; Pkg.add(\"BSON\")`). \n",
    "* In the `scripts` folder create a new Julia script that uses three parameters `a, b, c ∈ Reals` and creates a random result `r`. Save this result into disk by using `savename` to produce a name from `a, b, c`, and using `tagsave` to do the actual saving.\n",
    "* Save your script, and commit it into Git. Then run the script, load the saved file, and confirm that the saved git commit ID matches that of your Git repo.\n"
   ]
  }
 ],
 "metadata": {
  "kernelspec": {
   "display_name": "Julia 1.3.1",
   "language": "julia",
   "name": "julia-1.3"
  },
  "language_info": {
   "file_extension": ".jl",
   "mimetype": "application/julia",
   "name": "julia",
   "version": "1.3.1"
  }
 },
 "nbformat": 4,
 "nbformat_minor": 2
}
