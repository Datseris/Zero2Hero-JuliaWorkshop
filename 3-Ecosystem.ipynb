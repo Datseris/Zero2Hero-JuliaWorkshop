{
 "cells": [
  {
   "attachments": {},
   "cell_type": "markdown",
   "metadata": {},
   "source": [
    "_warning: this notebook has not been updated yet to current stable versions of used packages_\n",
    "\n",
    "# Julia ecosystems of scientific computing\n",
    "\n",
    "There are many Julia organizations about seemingly every scientific area. Some examples:\n",
    "\n",
    "- Astrophysics: [JuliaAstro](https://juliaastro.github.io/), [JuliaSpace](https://github.com/JuliaSpace)\n",
    "- Bio/Chemistry: [JuliaBio](https://biojulia.net/), [Molecular simulations](https://github.com/JuliaMolSim)\n",
    "- Complex systems, nonlinear dynamics: [JuliaDynamics](https://juliadynamics.github.io/JuliaDynamics/)\n",
    "- Differential equations and scientific machine learning: [SciML](https://sciml.ai/)\n",
    "- Solid state: [QuantumOptics](https://qojulia.org/), [JuliaPhysics](https://github.com/JuliaPhysics)\n",
    "- Economics: [QuantEcon](https://julia.quantecon.org/), [JuliaQuant](https://github.com/JuliaQuant)\n",
    "- Geosciences/Climate: [JuliaGeo](https://github.com/JuliaGeo), [JuliaEarth](https://github.com/JuliaEarth), [JuliaClimate](https://github.com/JuliaClimate).\n",
    "\n",
    "among many many others, not even mentioning mathematics-focused organizations like nonlinear optimization, etc.\n",
    "\n",
    "\n",
    "In this last session we will (**very briefly**) overview some powerful Julia packages I found useful for *my own work* and hopefully you will too. Even if the packages relevant for me are not useful in your field, it is still good practice to solve the exercises, to \"learn how to learn Julia packages\". "
   ]
  },
  {
   "cell_type": "code",
   "execution_count": 1,
   "metadata": {},
   "outputs": [],
   "source": [
    "# quick theme change for plotting in zoomed-in notebooks\n",
    "using CairoMakie\n",
    "update_theme!(resolution = (500, 300), fontsize = 16)"
   ]
  },
  {
   "attachments": {},
   "cell_type": "markdown",
   "metadata": {},
   "source": [
    "# 1. DifferentialEquations.jl\n",
    "\n",
    "[DifferentialEquations.jl](https://docs.sciml.ai/DiffEqDocs/dev/index.html) is by far [the best](https://www.stochasticlifestyle.com/comparison-differential-equation-solver-suites-matlab-r-julia-python-c-fortran/) free and open source differential equations solver (not for Julia, for any language). It can solve standard ODEs, Delay-DEs, stochastic DEs, has tools for PDEs, event handling, other multiple features, 100s of solvers, and more. Above all, it is the central part of a whole organization focused on scientific machine learning (SciML) and the basis for [ModelingToolkit.jl](https://docs.sciml.ai/ModelingToolkit/dev/), a library for building simulations from symbolic definitions.\n",
    "\n",
    "Here we will focus on ODEs and use the module `OrdinaryDiffEq` only."
   ]
  },
  {
   "attachments": {},
   "cell_type": "markdown",
   "metadata": {},
   "source": [
    "\n",
    "## Defining and solving some ODEs\n",
    "\n",
    "The way DifferentialEquations.jl works is quite straightforward:\n",
    "\n",
    "1. Make your set of ODEs a Julia function `f`\n",
    "2. Put `f`, an initial state and a parameter container into an `ODEProblem`.\n",
    "2. Choose the solvers and the arguments of the solvers you will use (e.g. tolerances, etc.)\n",
    "3. Give `f` as well as the auxiliary arguments to the function `solve`!\n",
    "\n",
    "Let's see it in practice by solving the Lorenz system\n",
    "\n",
    "$$\n",
    "\\begin{aligned}\n",
    "\\dot{x} &= \\sigma (y - x) \\\\\n",
    "\\dot{y} &= x (\\rho - z) - y \\\\\n",
    "\\dot{z} &= xy -\\beta z\n",
    "\\end{aligned}\n",
    "$$\n",
    "\n",
    "First step is to make this a Julia function. There is some strictness when writing this function in Julia (to play well with another software, see below). \n",
    "Specifically, it can only be one of two forms: out-of-place (oop) or in-place (iip). Here is how to define it (`p` is the parameter container, `t` is time):\n",
    "\n",
    "* **oop** : The `eom` function must be in the form `eom(x, p, t) -> SVector`\n",
    "  which means that given a state `x::SVector` it returns an [`SVector`](http://juliaarrays.github.io/StaticArrays.jl/stable/pages/api.html#SVector-1)\n",
    "  (from the [StaticArrays](https://github.com/JuliaArrays/StaticArrays.jl) module)\n",
    "  containing the derivatives.\n",
    "* **iip** : The `eom` function must be in the form `eom!(dx, x, p, t)`\n",
    "  which means that given a state `x::AbstractArray` it writes in-place the derivatives in `dx`, which is the same type of `x`. Note that this type of `dx` needs to be mutable.\n",
    "\n",
    "A rule of thumb is to use **oop** for systems with dimension ≤ 10, and use **iip** otherwise, but it is always better to benchmark individual cases."
   ]
  },
  {
   "cell_type": "code",
   "execution_count": 4,
   "metadata": {},
   "outputs": [
    {
     "data": {
      "text/plain": [
       "lorenz_rule (generic function with 1 method)"
      ]
     },
     "metadata": {},
     "output_type": "display_data"
    }
   ],
   "source": [
    "# import Pkg; Pkg.add([\"OrdinaryDiffEq\", \"StaticArrays\"])\n",
    "using OrdinaryDiffEq, StaticArrays\n",
    "\n",
    "function lorenz_rule(u, p, t)\n",
    "    σ, ρ, β = p\n",
    "    x, y, z = u\n",
    "    dx = σ*(y - x)\n",
    "    dy = x*(ρ-z) - y\n",
    "    dz = x*y - β*z\n",
    "    return SVector(dx, dy, dz)\n",
    "end"
   ]
  },
  {
   "attachments": {},
   "cell_type": "markdown",
   "metadata": {},
   "source": [
    "Then set the initial state and parameter container"
   ]
  },
  {
   "cell_type": "code",
   "execution_count": 5,
   "metadata": {},
   "outputs": [
    {
     "data": {
      "text/plain": [
       "3-element Vector{Float64}:\n",
       " 10.0\n",
       " 28.0\n",
       "  2.6666666666666665"
      ]
     },
     "metadata": {},
     "output_type": "display_data"
    }
   ],
   "source": [
    "u₀ = SVector(10.0, 10.0, 10.0)\n",
    "p₀ = [10, 28, 8/3]"
   ]
  },
  {
   "attachments": {},
   "cell_type": "markdown",
   "metadata": {},
   "source": [
    "then put everything into the `ODEProblem` structure:"
   ]
  },
  {
   "cell_type": "code",
   "execution_count": 6,
   "metadata": {
    "scrolled": true
   },
   "outputs": [
    {
     "data": {
      "text/plain": [
       "\u001b[38;2;86;182;194mODEProblem\u001b[0m with uType \u001b[38;2;86;182;194mSVector{3, Float64}\u001b[0m and tType \u001b[38;2;86;182;194mFloat64\u001b[0m. In-place: \u001b[38;2;86;182;194mfalse\u001b[0m\n",
       "timespan: (0.0, 100.0)\n",
       "u0: 3-element SVector{3, Float64} with indices SOneTo(3):\n",
       " 10.0\n",
       " 10.0\n",
       " 10.0"
      ]
     },
     "metadata": {},
     "output_type": "display_data"
    }
   ],
   "source": [
    "# third argument is the timespan to solve in\n",
    "prob = ODEProblem(lorenz_rule, u₀, (0.0, 100.0), p₀)"
   ]
  },
  {
   "attachments": {},
   "cell_type": "markdown",
   "metadata": {},
   "source": [
    "Alright, so now we choose the solver to use"
   ]
  },
  {
   "cell_type": "code",
   "execution_count": 7,
   "metadata": {},
   "outputs": [
    {
     "data": {
      "text/plain": [
       "Vern9(stage_limiter! = trivial_limiter!, step_limiter! = trivial_limiter!, thread = static(false), lazy = true)"
      ]
     },
     "metadata": {},
     "output_type": "display_data"
    }
   ],
   "source": [
    "alg = Vern9() # 9-th order adaptive solver"
   ]
  },
  {
   "attachments": {},
   "cell_type": "markdown",
   "metadata": {},
   "source": [
    "Now let's solve the Lorenz system using the default settings of DifferentialEquations.jl (without specifying anything else)."
   ]
  },
  {
   "cell_type": "code",
   "execution_count": 8,
   "metadata": {},
   "outputs": [
    {
     "data": {
      "text/plain": [
       "retcode: Success\n",
       "Interpolation: specialized 9th order lazy interpolation\n",
       "t: 896-element Vector{Float64}:\n",
       "   0.0\n",
       "   0.09355226310426\n",
       "   0.1728394373814634\n",
       "   0.24997045873484372\n",
       "   0.3311160955202647\n",
       "   0.4274313007963378\n",
       "   0.5201140753128073\n",
       "   0.624260479390237\n",
       "   0.734005218372606\n",
       "   0.838014934102812\n",
       "   ⋮\n",
       "  99.05282966917464\n",
       "  99.18702153609081\n",
       "  99.30690376797114\n",
       "  99.43893318653588\n",
       "  99.55816051975006\n",
       "  99.68435188917374\n",
       "  99.83813557719783\n",
       "  99.94796125447208\n",
       " 100.0\n",
       "u: 896-element Vector{SVector{3, Float64}}:\n",
       " [10.0, 10.0, 10.0]\n",
       " [14.527288897352582, 21.12071452189923, 24.655401013820832]\n",
       " [16.260683890272713, 11.987742957503155, 40.86665186055775]\n",
       " [9.41045191317899, -1.3453431666535787, 37.61301670747774]\n",
       " [2.332878201363789, -3.8203155271896456, 29.11993717325519]\n",
       " [-1.3637305317898103, -3.620012876938611, 22.487559137134788]\n",
       " [-3.079359520246503, -4.909410924205444, 18.353583699359536]\n",
       " [-5.653730181616077, -9.030462458962507, 16.635620359160434]\n",
       " [-10.553561266332451, -15.64323072447941, 22.306045571009737]\n",
       " [-13.629404699663775, -12.731852061516252, 34.73270439956358]\n",
       " ⋮\n",
       " [-4.599233839770681, -3.7642549127464107, 23.8882276572535]\n",
       " [-5.372160459791453, -7.261477014375608, 19.580197238071133]\n",
       " [-8.921850407165534, -12.722911415487586, 21.662180879537555]\n",
       " [-12.39555709123588, -12.1392715795658, 32.36216043785333]\n",
       " [-8.60207086548736, -4.035225067506095, 32.17883456787143]\n",
       " [-4.484722721011632, -2.909952926068972, 24.92683295701396]\n",
       " [-4.736339207218674, -6.443268920584946, 18.935656691079124]\n",
       " [-7.809319962427289, -11.658811011027828, 19.526406915817052]\n",
       " [-9.964058021879922, -14.227058507570005, 22.653059922556835]"
      ]
     },
     "metadata": {},
     "output_type": "display_data"
    }
   ],
   "source": [
    "sol = solve(prob; alg = alg)"
   ]
  },
  {
   "attachments": {},
   "cell_type": "markdown",
   "metadata": {},
   "source": [
    "Okay, so what is the returned result? We didn't specify when to save or anything...\n",
    "\n",
    "The solver we chose, `Vern9` (also true for the default solver) is an adaptive step solver. The system is evolved with adaptive step, until we reach the end of the time span. A state is recorded at every step. E.g. the solution at the third step is "
   ]
  },
  {
   "cell_type": "code",
   "execution_count": 7,
   "metadata": {},
   "outputs": [
    {
     "data": {
      "text/plain": [
       "(0.17283944628206213, [16.260683509932253, 11.98774098852595, 40.866652625646566])"
      ]
     },
     "execution_count": 7,
     "metadata": {},
     "output_type": "execute_result"
    }
   ],
   "source": [
    "(sol.t[3], sol.u[3])"
   ]
  },
  {
   "attachments": {},
   "cell_type": "markdown",
   "metadata": {},
   "source": [
    "Because of the mechanics of the solver, `sol` object allows arbitrary interpolation in time by saving some extra derivative-related numbers. This means that we can use `sol` as a function of time, `sol(t)`:"
   ]
  },
  {
   "cell_type": "code",
   "execution_count": 10,
   "metadata": {},
   "outputs": [
    {
     "data": {
      "text/plain": [
       "3-element SArray{Tuple{3},Float64,1,3} with indices SOneTo(3):\n",
       "  0.815736398746072 \n",
       " -2.6297520921486752\n",
       " 25.431305588918814 "
      ]
     },
     "execution_count": 10,
     "metadata": {},
     "output_type": "execute_result"
    }
   ],
   "source": [
    "sol(5.6)"
   ]
  },
  {
   "cell_type": "code",
   "execution_count": 13,
   "metadata": {},
   "outputs": [
    {
     "data": {
      "image/png": "[encoded data removed]"
     },
     "metadata": {},
     "output_type": "display_data"
    }
   ],
   "source": [
    "t = 0:0.01:25\n",
    "X, Y, Z = zero(t), zero(t), zero(t)\n",
    "for (i, τ) in enumerate(t)\n",
    "    X[i], Y[i], Z[i] = sol(τ)\n",
    "end\n",
    "lines(X, Y, Z; axis = (type = Axis3, azimuth = 0.75π))"
   ]
  },
  {
   "attachments": {},
   "cell_type": "markdown",
   "metadata": {},
   "source": [
    "Notice that it is possible to skip this advanced feature of interpolation (and thus also skip collecting the extra interpolation-related numbers) and only save at some pre-defined time points by passing the extra keyword argument `saveat = points_I_want` to the `solve` call."
   ]
  },
  {
   "attachments": {},
   "cell_type": "markdown",
   "metadata": {},
   "source": [
    "## Numbers with uncertainty\n",
    "\n",
    "The package `Measurements` provides numeric types that have error bars; so that your numeric operations propagate the errors as is done in experimental physics.\n",
    "\n",
    "Without any effort, you can solve a differential equation of numbers with error bars! And your solution will itself be a sequence of numbers with properly calculated errorbars.\n",
    "\n",
    "* How does this happen? Because `OrdinaryDiffEq` uses internally standard mathematical operations on numbers to solve an ODE. \n",
    "* `Measurements` defines a number type (`Measurement`, not that different from the `RationalNumber` you defined in a previous exercise). This number naturally supports arithmetics on `+, -, *,...` etc. on numbers with errors.\n",
    "\n",
    "Let's see how `Measurements` works:"
   ]
  },
  {
   "cell_type": "code",
   "execution_count": 15,
   "metadata": {},
   "outputs": [],
   "source": [
    "# import Pkg; Pkg.add(\"Measurements\")\n",
    "using Measurements"
   ]
  },
  {
   "cell_type": "code",
   "execution_count": 16,
   "metadata": {},
   "outputs": [
    {
     "data": {
      "text/latex": [
       "$0.5 \\pm 0.1$"
      ],
      "text/plain": [
       "0.5 ± 0.1"
      ]
     },
     "metadata": {},
     "output_type": "display_data"
    }
   ],
   "source": [
    "x = 0.5 ± 0.1 # \\pm<TAB> → ±"
   ]
  },
  {
   "cell_type": "code",
   "execution_count": 17,
   "metadata": {},
   "outputs": [
    {
     "data": {
      "text/plain": [
       "Measurement{Float64}"
      ]
     },
     "metadata": {},
     "output_type": "display_data"
    }
   ],
   "source": [
    "typeof(x)"
   ]
  },
  {
   "cell_type": "code",
   "execution_count": 18,
   "metadata": {},
   "outputs": [
    {
     "data": {
      "text/latex": [
       "$-9.2 \\pm 2.3$"
      ],
      "text/plain": [
       "-9.2 ± 2.3"
      ]
     },
     "metadata": {},
     "output_type": "display_data"
    }
   ],
   "source": [
    "(sqrt(x) - 3) * (4 ± 1)"
   ]
  },
  {
   "attachments": {},
   "cell_type": "markdown",
   "metadata": {},
   "source": [
    "Okay let's revisit now the Lorenz problem, but initialize it with a state that has `Measurement` as its number type"
   ]
  },
  {
   "cell_type": "code",
   "execution_count": 19,
   "metadata": {},
   "outputs": [
    {
     "data": {
      "text/plain": [
       "3-element SVector{3, Measurement{Float64}} with indices SOneTo(3):\n",
       " 10.0 ± 0.1\n",
       " 10.0 ± 0.1\n",
       " 10.0 ± 0.1"
      ]
     },
     "metadata": {},
     "output_type": "display_data"
    }
   ],
   "source": [
    "uunc = SVector(10.0 ± 0.1, 10.0 ± 0.1, 10.0 ± 0.1)\n",
    "# notice we could also add errors to parameters p₀"
   ]
  },
  {
   "cell_type": "code",
   "execution_count": 20,
   "metadata": {},
   "outputs": [
    {
     "data": {
      "text/plain": [
       "\u001b[38;2;86;182;194mODEProblem\u001b[0m with uType \u001b[38;2;86;182;194mSVector{3, Measurement{Float64}}\u001b[0m and tType \u001b[38;2;86;182;194mFloat64\u001b[0m. In-place: \u001b[38;2;86;182;194mfalse\u001b[0m\n",
       "timespan: (0.0, 10.0)\n",
       "u0: 3-element SVector{3, Measurement{Float64}} with indices SOneTo(3):\n",
       " 10.0 ± 0.1\n",
       " 10.0 ± 0.1\n",
       " 10.0 ± 0.1"
      ]
     },
     "metadata": {},
     "output_type": "display_data"
    }
   ],
   "source": [
    "# here we need to add uncertainty to time as well, due to a bug in DiffEq,\n",
    "# see https://github.com/SciML/DifferentialEquations.jl/issues/968 \n",
    "probunc = ODEProblem(lorenz_rule, uunc, (0.0 ± 0.0, 10.0 ± 0.0), p₀)"
   ]
  },
  {
   "cell_type": "code",
   "execution_count": 21,
   "metadata": {},
   "outputs": [
    {
     "ename": "MethodError",
     "evalue": "MethodError: no method matching Float64(::Measurement{Float64})\n\nClosest candidates are:\n  (::Type{T})(::Real, !Matched::RoundingMode) where T<:AbstractFloat\n   @ Base rounding.jl:207\n  (::Type{T})(::T) where T<:Number\n   @ Core boot.jl:792\n  (::Type{T})(!Matched::VectorizationBase.Double{T}) where T<:Union{Float16, Float32, Float64, VectorizationBase.Vec{<:Any, <:Union{Float16, Float32, Float64}}, VectorizationBase.VecUnroll{var\"#s45\", var\"#s44\", var\"#s43\", V} where {var\"#s45\", var\"#s44\", var\"#s43\"<:Union{Float16, Float32, Float64}, V<:Union{Bool, Float16, Float32, Float64, Int16, Int32, Int64, Int8, UInt16, UInt32, UInt64, UInt8, SIMDTypes.Bit, VectorizationBase.AbstractSIMD{var\"#s44\", var\"#s43\"}}}}\n   @ VectorizationBase C:\\Users\\datse\\.julia\\packages\\VectorizationBase\\0dXyA\\src\\special\\double.jl:111\n  ...\n",
     "output_type": "error",
     "traceback": [
      "MethodError: no method matching Float64(::Measurement{Float64})\n",
      "\n",
      "Closest candidates are:\n",
      "  (::Type{T})(::Real, !Matched::RoundingMode) where T<:AbstractFloat\n",
      "   @ Base rounding.jl:207\n",
      "  (::Type{T})(::T) where T<:Number\n",
      "   @ Core boot.jl:792\n",
      "  (::Type{T})(!Matched::VectorizationBase.Double{T}) where T<:Union{Float16, Float32, Float64, VectorizationBase.Vec{<:Any, <:Union{Float16, Float32, Float64}}, VectorizationBase.VecUnroll{var\"#s45\", var\"#s44\", var\"#s43\", V} where {var\"#s45\", var\"#s44\", var\"#s43\"<:Union{Float16, Float32, Float64}, V<:Union{Bool, Float16, Float32, Float64, Int16, Int32, Int64, Int8, UInt16, UInt32, UInt64, UInt8, SIMDTypes.Bit, VectorizationBase.AbstractSIMD{var\"#s44\", var\"#s43\"}}}}\n",
      "   @ VectorizationBase C:\\Users\\datse\\.julia\\packages\\VectorizationBase\\0dXyA\\src\\special\\double.jl:111\n",
      "  ...\n",
      "\n",
      "\n",
      "Stacktrace:\n",
      "  [1] convert(#unused#::Type{Float64}, x::Measurement{Float64})\n",
      "    @ Base .\\number.jl:7\n",
      "  [2] ode_determine_initdt(u0::SVector{3, Measurement{Float64}}, t::Float64, tdir::Float64, dtmax::Float64, abstol::Measurement{Float64}, reltol::Measurement{Float64}, internalnorm::typeof(DiffEqBase.ODE_DEFAULT_NORM), prob::ODEProblem{SVector{3, Measurement{Float64}}, Tuple{Float64, Float64}, false, Vector{Float64}, ODEFunction{false, SciMLBase.AutoSpecialize, typeof(lorenz_rule), LinearAlgebra.UniformScaling{Bool}, Nothing, Nothing, Nothing, Nothing, Nothing, Nothing, Nothing, Nothing, Nothing, Nothing, Nothing, Nothing, Nothing, typeof(SciMLBase.DEFAULT_OBSERVED), Nothing, Nothing}, Base.Pairs{Symbol, Union{}, Tuple{}, NamedTuple{(), Tuple{}}}, SciMLBase.StandardODEProblem}, integrator::OrdinaryDiffEq.ODEIntegrator{Vern9{typeof(OrdinaryDiffEq.trivial_limiter!), typeof(OrdinaryDiffEq.trivial_limiter!), Static.False}, false, SVector{3, Measurement{Float64}}, Nothing, Float64, Vector{Float64}, Float64, Measurement{Float64}, Float64, Float64, Vector{SVector{3, Measurement{Float64}}}, ODESolution{Measurement{Float64}, 2, Vector{SVector{3, Measurement{Float64}}}, Nothing, Nothing, Vector{Float64}, Vector{Vector{SVector{3, Measurement{Float64}}}}, ODEProblem{SVector{3, Measurement{Float64}}, Tuple{Float64, Float64}, false, Vector{Float64}, ODEFunction{false, SciMLBase.AutoSpecialize, typeof(lorenz_rule), LinearAlgebra.UniformScaling{Bool}, Nothing, Nothing, Nothing, Nothing, Nothing, Nothing, Nothing, Nothing, Nothing, Nothing, Nothing, Nothing, Nothing, typeof(SciMLBase.DEFAULT_OBSERVED), Nothing, Nothing}, Base.Pairs{Symbol, Union{}, Tuple{}, NamedTuple{(), Tuple{}}}, SciMLBase.StandardODEProblem}, Vern9{typeof(OrdinaryDiffEq.trivial_limiter!), typeof(OrdinaryDiffEq.trivial_limiter!), Static.False}, OrdinaryDiffEq.InterpolationData{ODEFunction{false, SciMLBase.AutoSpecialize, typeof(lorenz_rule), LinearAlgebra.UniformScaling{Bool}, Nothing, Nothing, Nothing, Nothing, Nothing, Nothing, Nothing, Nothing, Nothing, Nothing, Nothing, Nothing, Nothing, typeof(SciMLBase.DEFAULT_OBSERVED), Nothing, Nothing}, Vector{SVector{3, Measurement{Float64}}}, Vector{Float64}, Vector{Vector{SVector{3, Measurement{Float64}}}}, OrdinaryDiffEq.Vern9ConstantCache}, DiffEqBase.Stats, Nothing}, ODEFunction{false, SciMLBase.AutoSpecialize, typeof(lorenz_rule), LinearAlgebra.UniformScaling{Bool}, Nothing, Nothing, Nothing, Nothing, Nothing, Nothing, Nothing, Nothing, Nothing, Nothing, Nothing, Nothing, Nothing, typeof(SciMLBase.DEFAULT_OBSERVED), Nothing, Nothing}, OrdinaryDiffEq.Vern9ConstantCache, OrdinaryDiffEq.DEOptions{Measurement{Float64}, Measurement{Float64}, Float64, Float64, PIController{Rational{Int64}}, typeof(DiffEqBase.ODE_DEFAULT_NORM), typeof(LinearAlgebra.opnorm), Nothing, CallbackSet{Tuple{}, Tuple{}}, typeof(DiffEqBase.ODE_DEFAULT_ISOUTOFDOMAIN), typeof(DiffEqBase.ODE_DEFAULT_PROG_MESSAGE), typeof(DiffEqBase.ODE_DEFAULT_UNSTABLE_CHECK), DataStructures.BinaryHeap{Float64, DataStructures.FasterForward}, DataStructures.BinaryHeap{Float64, DataStructures.FasterForward}, Nothing, Nothing, Int64, Tuple{}, Tuple{}, Tuple{}}, SVector{3, Measurement{Float64}}, Measurement{Float64}, Nothing, OrdinaryDiffEq.DefaultInit})\n",
      "    @ OrdinaryDiffEq C:\\Users\\datse\\.julia\\packages\\OrdinaryDiffEq\\Q02r5\\src\\initdt.jl:262\n",
      "  [3] auto_dt_reset!\n",
      "    @ C:\\Users\\datse\\.julia\\packages\\OrdinaryDiffEq\\Q02r5\\src\\integrators\\integrator_interface.jl:436 [inlined]\n",
      "  [4] handle_dt!(integrator::OrdinaryDiffEq.ODEIntegrator{Vern9{typeof(OrdinaryDiffEq.trivial_limiter!), typeof(OrdinaryDiffEq.trivial_limiter!), Static.False}, false, SVector{3, Measurement{Float64}}, Nothing, Float64, Vector{Float64}, Float64, Measurement{Float64}, Float64, Float64, Vector{SVector{3, Measurement{Float64}}}, ODESolution{Measurement{Float64}, 2, Vector{SVector{3, Measurement{Float64}}}, Nothing, Nothing, Vector{Float64}, Vector{Vector{SVector{3, Measurement{Float64}}}}, ODEProblem{SVector{3, Measurement{Float64}}, Tuple{Float64, Float64}, false, Vector{Float64}, ODEFunction{false, SciMLBase.AutoSpecialize, typeof(lorenz_rule), LinearAlgebra.UniformScaling{Bool}, Nothing, Nothing, Nothing, Nothing, Nothing, Nothing, Nothing, Nothing, Nothing, Nothing, Nothing, Nothing, Nothing, typeof(SciMLBase.DEFAULT_OBSERVED), Nothing, Nothing}, Base.Pairs{Symbol, Union{}, Tuple{}, NamedTuple{(), Tuple{}}}, SciMLBase.StandardODEProblem}, Vern9{typeof(OrdinaryDiffEq.trivial_limiter!), typeof(OrdinaryDiffEq.trivial_limiter!), Static.False}, OrdinaryDiffEq.InterpolationData{ODEFunction{false, SciMLBase.AutoSpecialize, typeof(lorenz_rule), LinearAlgebra.UniformScaling{Bool}, Nothing, Nothing, Nothing, Nothing, Nothing, Nothing, Nothing, Nothing, Nothing, Nothing, Nothing, Nothing, Nothing, typeof(SciMLBase.DEFAULT_OBSERVED), Nothing, Nothing}, Vector{SVector{3, Measurement{Float64}}}, Vector{Float64}, Vector{Vector{SVector{3, Measurement{Float64}}}}, OrdinaryDiffEq.Vern9ConstantCache}, DiffEqBase.Stats, Nothing}, ODEFunction{false, SciMLBase.AutoSpecialize, typeof(lorenz_rule), LinearAlgebra.UniformScaling{Bool}, Nothing, Nothing, Nothing, Nothing, Nothing, Nothing, Nothing, Nothing, Nothing, Nothing, Nothing, Nothing, Nothing, typeof(SciMLBase.DEFAULT_OBSERVED), Nothing, Nothing}, OrdinaryDiffEq.Vern9ConstantCache, OrdinaryDiffEq.DEOptions{Measurement{Float64}, Measurement{Float64}, Float64, Float64, PIController{Rational{Int64}}, typeof(DiffEqBase.ODE_DEFAULT_NORM), typeof(LinearAlgebra.opnorm), Nothing, CallbackSet{Tuple{}, Tuple{}}, typeof(DiffEqBase.ODE_DEFAULT_ISOUTOFDOMAIN), typeof(DiffEqBase.ODE_DEFAULT_PROG_MESSAGE), typeof(DiffEqBase.ODE_DEFAULT_UNSTABLE_CHECK), DataStructures.BinaryHeap{Float64, DataStructures.FasterForward}, DataStructures.BinaryHeap{Float64, DataStructures.FasterForward}, Nothing, Nothing, Int64, Tuple{}, Tuple{}, Tuple{}}, SVector{3, Measurement{Float64}}, Measurement{Float64}, Nothing, OrdinaryDiffEq.DefaultInit})\n",
      "    @ OrdinaryDiffEq C:\\Users\\datse\\.julia\\packages\\OrdinaryDiffEq\\Q02r5\\src\\solve.jl:547\n",
      "  [5] __init(prob::ODEProblem{SVector{3, Measurement{Float64}}, Tuple{Float64, Float64}, false, Vector{Float64}, ODEFunction{false, SciMLBase.AutoSpecialize, typeof(lorenz_rule), LinearAlgebra.UniformScaling{Bool}, Nothing, Nothing, Nothing, Nothing, Nothing, Nothing, Nothing, Nothing, Nothing, Nothing, Nothing, Nothing, Nothing, typeof(SciMLBase.DEFAULT_OBSERVED), Nothing, Nothing}, Base.Pairs{Symbol, Union{}, Tuple{}, NamedTuple{(), Tuple{}}}, SciMLBase.StandardODEProblem}, alg::Vern9{typeof(OrdinaryDiffEq.trivial_limiter!), typeof(OrdinaryDiffEq.trivial_limiter!), Static.False}, timeseries_init::Tuple{}, ts_init::Tuple{}, ks_init::Tuple{}, recompile::Type{Val{true}}; saveat::Tuple{}, tstops::Tuple{}, d_discontinuities::Tuple{}, save_idxs::Nothing, save_everystep::Bool, save_on::Bool, save_start::Bool, save_end::Nothing, callback::Nothing, dense::Bool, calck::Bool, dt::Float64, dtmin::Nothing, dtmax::Float64, force_dtmin::Bool, adaptive::Bool, gamma::Rational{Int64}, abstol::Nothing, reltol::Nothing, qmin::Rational{Int64}, qmax::Int64, qsteady_min::Int64, qsteady_max::Int64, beta1::Nothing, beta2::Nothing, qoldinit::Rational{Int64}, controller::Nothing, fullnormalize::Bool, failfactor::Int64, maxiters::Int64, internalnorm::typeof(DiffEqBase.ODE_DEFAULT_NORM), internalopnorm::typeof(LinearAlgebra.opnorm), isoutofdomain::typeof(DiffEqBase.ODE_DEFAULT_ISOUTOFDOMAIN), unstable_check::typeof(DiffEqBase.ODE_DEFAULT_UNSTABLE_CHECK), verbose::Bool, timeseries_errors::Bool, dense_errors::Bool, advance_to_tstop::Bool, stop_at_next_tstop::Bool, initialize_save::Bool, progress::Bool, progress_steps::Int64, progress_name::String, progress_message::typeof(DiffEqBase.ODE_DEFAULT_PROG_MESSAGE), userdata::Nothing, allow_extrapolation::Bool, initialize_integrator::Bool, alias_u0::Bool, alias_du0::Bool, initializealg::OrdinaryDiffEq.DefaultInit, kwargs::Base.Pairs{Symbol, Vern9{typeof(OrdinaryDiffEq.trivial_limiter!), typeof(OrdinaryDiffEq.trivial_limiter!), Static.False}, Tuple{Symbol}, NamedTuple{(:alg,), Tuple{Vern9{typeof(OrdinaryDiffEq.trivial_limiter!), typeof(OrdinaryDiffEq.trivial_limiter!), Static.False}}}})\n",
      "    @ OrdinaryDiffEq C:\\Users\\datse\\.julia\\packages\\OrdinaryDiffEq\\Q02r5\\src\\solve.jl:509\n",
      "  [6] __init (repeats 5 times)\n",
      "    @ C:\\Users\\datse\\.julia\\packages\\OrdinaryDiffEq\\Q02r5\\src\\solve.jl:10 [inlined]\n",
      "  [7] #__solve#640\n",
      "    @ C:\\Users\\datse\\.julia\\packages\\OrdinaryDiffEq\\Q02r5\\src\\solve.jl:5 [inlined]\n",
      "  [8] __solve\n",
      "    @ C:\\Users\\datse\\.julia\\packages\\OrdinaryDiffEq\\Q02r5\\src\\solve.jl:1 [inlined]\n",
      "  [9] #solve_call#22\n",
      "    @ C:\\Users\\datse\\.julia\\packages\\DiffEqBase\\G15op\\src\\solve.jl:511 [inlined]\n",
      " [10] solve_call\n",
      "    @ C:\\Users\\datse\\.julia\\packages\\DiffEqBase\\G15op\\src\\solve.jl:481 [inlined]\n",
      " [11] #solve_up#30\n",
      "    @ C:\\Users\\datse\\.julia\\packages\\DiffEqBase\\G15op\\src\\solve.jl:955 [inlined]\n",
      " [12] solve_up\n",
      "    @ C:\\Users\\datse\\.julia\\packages\\DiffEqBase\\G15op\\src\\solve.jl:945 [inlined]\n",
      " [13] #solve#28\n",
      "    @ C:\\Users\\datse\\.julia\\packages\\DiffEqBase\\G15op\\src\\solve.jl:882 [inlined]\n",
      " [14] top-level scope\n",
      "    @ c:\\Users\\datse\\OneDrive - University of Exeter\\Teaching\\Zero2Hero-JuliaWorkshop\\3-Ecosystem.ipynb:1"
     ]
    }
   ],
   "source": [
    "solunc = solve(probunc; alg = alg)"
   ]
  },
  {
   "attachments": {},
   "cell_type": "markdown",
   "metadata": {},
   "source": [
    "Notice that *obviously* trying to solve a chaotic system with such huge errors will diverge... No matter though, let's see the solution anyway."
   ]
  },
  {
   "cell_type": "code",
   "execution_count": 19,
   "metadata": {},
   "outputs": [
    {
     "data": {
      "text/plain": [
       "101-element Array{Measurement{Float64},1}:\n",
       "   10.0 ± 0.1  \n",
       " 11.658 ± 0.083\n",
       " 14.942 ± 0.082\n",
       " 16.761 ± 0.048\n",
       " 14.501 ± 0.066\n",
       "   9.41 ± 0.1  \n",
       "  4.565 ± 0.096\n",
       "  1.277 ± 0.083\n",
       " -0.663 ± 0.076\n",
       " -1.835 ± 0.079\n",
       " -2.724 ± 0.089\n",
       "  -3.67 ± 0.11 \n",
       "   -4.9 ± 0.13 \n",
       "        ⋮      \n",
       "    9.9 ± 3.4  \n",
       "   12.7 ± 2.1  \n",
       "   14.3 ± 1.1  \n",
       "   13.4 ± 4.1  \n",
       "   10.3 ± 4.6  \n",
       "    6.7 ± 3.0  \n",
       "    4.0 ± 1.0  \n",
       "    2.3 ± 0.55 \n",
       "    1.4 ± 1.7  \n",
       "    1.1 ± 2.6  \n",
       "    1.0 ± 3.6  \n",
       "    1.2 ± 4.9  "
      ]
     },
     "execution_count": 19,
     "metadata": {},
     "output_type": "execute_result"
    }
   ],
   "source": [
    "t = 0:0.05:5\n",
    "Xunc = [solunc(τ)[1] for τ in t]"
   ]
  },
  {
   "cell_type": "code",
   "execution_count": 20,
   "metadata": {},
   "outputs": [
    {
     "data": {
      "text/plain": [
       "101-element Array{Float64,1}:\n",
       " 0.1                \n",
       " 0.08342714456816318\n",
       " 0.08243145121464032\n",
       " 0.04765367655591914\n",
       " 0.0663485293647113 \n",
       " 0.1003943815025594 \n",
       " 0.09643886077929786\n",
       " 0.08309413890388685\n",
       " 0.07640955696024836\n",
       " 0.07864193098067553\n",
       " 0.08891403394179949\n",
       " 0.1068415764868824 \n",
       " 0.13156908343006712\n",
       " ⋮                  \n",
       " 3.437099774976129  \n",
       " 2.0540397206706342 \n",
       " 1.0879109371031364 \n",
       " 4.094594616200674  \n",
       " 4.576490135852936  \n",
       " 2.9816543947907004 \n",
       " 1.00086937886618   \n",
       " 0.5510702440924684 \n",
       " 1.6544674631819647 \n",
       " 2.56281860734045   \n",
       " 3.5545242140327025 \n",
       " 4.900933699218517  "
      ]
     },
     "execution_count": 20,
     "metadata": {},
     "output_type": "execute_result"
    }
   ],
   "source": [
    "Xv = Measurements.value.(Xunc) # get values (broadcasting)\n",
    "Xe = Measurements.uncertainty.(Xunc) # get errors"
   ]
  },
  {
   "cell_type": "code",
   "execution_count": 21,
   "metadata": {},
   "outputs": [
    {
     "data": {
      "image/png": "[encoded data removed]",
      "text/plain": [
       "Figure(PyObject <Figure size 500x300 with 1 Axes>)"
      ]
     },
     "metadata": {},
     "output_type": "display_data"
    }
   ],
   "source": [
    "# plot errors nicely\n",
    "plot(t, Xv)\n",
    "fill_between(t, Xv .- Xe, Xv .+ Xe, color = \"C3\", alpha = 0.25);"
   ]
  },
  {
   "attachments": {},
   "cell_type": "markdown",
   "metadata": {},
   "source": [
    "My guess is that you could probably/maybe get something like this in Python with a lot of effort. The case of Julia here is unbelievably cool because:\n",
    "\n",
    "1. `Measurements` has never written any code that solves a differential equation.\n",
    "2. `OrdinaryDiffEq` has never written any code that controls how an error is propagated.\n",
    "3. There isn't any boilerplate code \"connecting\" the two packages."
   ]
  },
  {
   "attachments": {},
   "cell_type": "markdown",
   "metadata": {},
   "source": [
    "# 2. DynamicalSystems.jl\n",
    "[DynamicalSystems.jl](https://juliadynamics.github.io/DynamicalSystems.jl/dev/) is an award-winning library for nonlinear dynamics and nonlinear dynamics. \n",
    "\n",
    "*Disclaimer: I am one of the developers of this library.*"
   ]
  },
  {
   "attachments": {},
   "cell_type": "markdown",
   "metadata": {},
   "source": [
    "## Using a dynamical system"
   ]
  },
  {
   "attachments": {},
   "cell_type": "markdown",
   "metadata": {},
   "source": [
    "Part of the functionality offered by DynamicalSystems.jl utilizes OrdinaryDiffEq.jl to evolve continuous time systems and compute quantities relevant for nonlinear dynamics, such as Lyapunov exponents. Same works for discrete time systems but there there is no need for an external package to evolve them."
   ]
  },
  {
   "attachments": {},
   "cell_type": "markdown",
   "metadata": {},
   "source": [
    "Making a `DynamicalSystem` is almost identical to making an `ODEProblem`, but you don't have to specify the time span. In steps:\n",
    "\n",
    "1. Make $f$ a Julia function (using the same syntax as in OrdinaryDiffEq.jl) representing the dynamic rule of the system.\n",
    "2. Choose initial state and parameter container (again same as OrdinaryDiffEq.jl).\n",
    "3. Pass these arguments to the `CoupledODEs` constructor (or `DeterministicIteratedMap`, for discrete systems).\n",
    "\n",
    "Here we already have `lorenz_rule, u₀, p₀` defined, so the process  is kind of trivial:"
   ]
  },
  {
   "cell_type": "code",
   "execution_count": 30,
   "metadata": {},
   "outputs": [
    {
     "data": {
      "text/plain": [
       "3-dimensional CoupledODEs\n",
       " deterministic: true\n",
       " discrete time: false\n",
       " in-place:      false\n",
       " dynamic rule:  lorenz_rule\n",
       " ODE solver:    Tsit5\n",
       " ODE kwargs:    (abstol = 1.0e-6, reltol = 1.0e-6)\n",
       " parameters:    [10.0, 28.0, 2.6666666666666665]\n",
       " time:          0.0\n",
       " state:         [10.0, 10.0, 10.0]\n"
      ]
     },
     "metadata": {},
     "output_type": "display_data"
    }
   ],
   "source": [
    "using DynamicalSystems\n",
    "lorenz = CoupledODEs(lorenz_rule, u₀, p₀)"
   ]
  },
  {
   "attachments": {},
   "cell_type": "markdown",
   "metadata": {},
   "source": [
    "Then you can use this `lorenz` object in various functions of the library. For example, to obtain the Lyapunov spectrum you use `lyapunovs`:"
   ]
  },
  {
   "cell_type": "code",
   "execution_count": 32,
   "metadata": {},
   "outputs": [
    {
     "data": {
      "text/plain": [
       "3-element Vector{Float64}:\n",
       "   0.9066050272876993\n",
       "   0.0001949913898871899\n",
       " -14.573387425927644"
      ]
     },
     "metadata": {},
     "output_type": "display_data"
    }
   ],
   "source": [
    "lyapunovspectrum(lorenz, 10000) # 2nd argument is for how much time to evolve"
   ]
  },
  {
   "attachments": {},
   "cell_type": "markdown",
   "metadata": {},
   "source": [
    "Same story happens if you want to get only the maximum Lyapunov exponent. You use the function `lyapunov` (which uses a different algorithm):"
   ]
  },
  {
   "cell_type": "code",
   "execution_count": 33,
   "metadata": {},
   "outputs": [
    {
     "data": {
      "text/plain": [
       "0.9069124415622334"
      ]
     },
     "metadata": {},
     "output_type": "display_data"
    }
   ],
   "source": [
    "lyapunov(lorenz, 10000.0)"
   ]
  },
  {
   "attachments": {},
   "cell_type": "markdown",
   "metadata": {},
   "source": [
    "## Nonlinear timeseries analysis\n",
    "\n",
    "Both basic as well as advanced tools for nonlinear timeseries analysis are included in DynamicalSystems.jl. To spare you the boredom I won't talk about them though! I'll only mention entropy, because it is relevant to one of the exercises. Let's say that you have a nice trajectory sampled at discrete times (which is what the function `trajectory` does)."
   ]
  },
  {
   "cell_type": "code",
   "execution_count": 33,
   "metadata": {},
   "outputs": [
    {
     "data": {
      "text/plain": [
       "3-dimensional Dataset{Float64} with 20001 points\n",
       "  10.0         10.0       10.0   \n",
       "  11.6604      17.4659    15.75  \n",
       "  14.9431      21.227     26.2311\n",
       "  16.7587      16.6772    37.8091\n",
       "  14.4989       6.06744   41.6612\n",
       "   9.40731     -1.34788   37.6097\n",
       "   4.5647      -3.65188   32.0526\n",
       "   1.27841     -3.76227   27.5651\n",
       "  -0.660687    -3.58262   24.0887\n",
       "  -1.83235     -3.75926   21.3038\n",
       "  -2.72165     -4.46127   19.0841\n",
       "  -3.66336     -5.7684    17.464 \n",
       "  -4.89541     -7.77907   16.6366\n",
       "   ⋮                             \n",
       "  -8.7667     -14.7776    16.5172\n",
       " -11.9634     -18.3725    22.6565\n",
       " -14.5968     -17.9932    31.5653\n",
       " -14.751      -11.7214    38.2464\n",
       " -11.8535      -4.01615   38.369 \n",
       "  -7.72111      0.296008  34.3243\n",
       "  -4.24419      1.48778   29.7596\n",
       "  -1.98705      1.41035   25.8345\n",
       "  -0.714311     1.11662   22.5334\n",
       "  -0.0343316    0.956168  19.7044\n",
       "   0.357267     0.996214  17.2529\n",
       "   0.654459     1.24426   15.126 "
      ]
     },
     "execution_count": 33,
     "metadata": {},
     "output_type": "execute_result"
    }
   ],
   "source": [
    "tr = trajectory(lorenz, 1000.0; dt = 0.05)"
   ]
  },
  {
   "attachments": {},
   "cell_type": "markdown",
   "metadata": {},
   "source": [
    "The above result is not a `Matrix`, but a vector-of-vectors (for performance purposes). This `tr` represents in fact the attractor of the Lorenz system, since this is what we just evolved in time. Typically one is interested in the entropy of this attractor, by partitioning the state space in boxes of size `ε` (it will become apparent in a bit why).\n",
    "\n",
    "You can get this entropy (of order α) using the function `genentropy(α, ε, tr)`:"
   ]
  },
  {
   "cell_type": "code",
   "execution_count": 34,
   "metadata": {},
   "outputs": [
    {
     "data": {
      "text/plain": [
       "9.837529474680585"
      ]
     },
     "execution_count": 34,
     "metadata": {},
     "output_type": "execute_result"
    }
   ],
   "source": [
    "H = genentropy(1, 0.1, tr)"
   ]
  },
  {
   "cell_type": "code",
   "execution_count": 35,
   "metadata": {},
   "outputs": [
    {
     "data": {
      "text/plain": [
       "9.90353755128635"
      ]
     },
     "execution_count": 35,
     "metadata": {},
     "output_type": "execute_result"
    }
   ],
   "source": [
    "H = genentropy(1, 0.01, tr)"
   ]
  },
  {
   "attachments": {},
   "cell_type": "markdown",
   "metadata": {},
   "source": [
    "This quantity is interesting because it can be used to calculate the fractal dimension of the `tr` object. The way it works is simple: You look at how `H` changes for varying `ε`. If `D` is the fractal dimension of `tr`, then it typically holds that `H ~ ε^(-D)`. \n",
    "\n",
    "In reality what one does is calculate `H` for many different `ε` and plot the result, and then _manually_ identify the slope of the curve `H` vs. `-log(ε)`. e.g.:"
   ]
  },
  {
   "cell_type": "code",
   "execution_count": 36,
   "metadata": {},
   "outputs": [
    {
     "data": {
      "text/plain": [
       "33-element Array{Float64,1}:\n",
       "  9.90353755128635  \n",
       "  9.90353755128635  \n",
       "  9.90353755128635  \n",
       "  9.90353755128635  \n",
       "  9.90353755128635  \n",
       "  9.90353755128635  \n",
       "  9.90353755128635  \n",
       "  9.90353755128635  \n",
       "  9.90312168377139  \n",
       "  9.900557167429135 \n",
       "  9.891269459595035 \n",
       "  9.860042707793426 \n",
       "  9.78074383756112  \n",
       "  ⋮                 \n",
       "  2.702396852726326 \n",
       "  1.9641564466046155\n",
       "  0.821385539477985 \n",
       " -0.0               \n",
       " -0.0               \n",
       " -0.0               \n",
       " -0.0               \n",
       " -0.0               \n",
       " -0.0               \n",
       " -0.0               \n",
       " -0.0               \n",
       " -0.0               "
      ]
     },
     "execution_count": 36,
     "metadata": {},
     "output_type": "execute_result"
    }
   ],
   "source": [
    "εs = ℯ .^ (-8:0.5:8) # \\euler<TAB} = ℯ\n",
    "Hs = genentropy.(1, εs, Ref(tr))"
   ]
  },
  {
   "attachments": {},
   "cell_type": "markdown",
   "metadata": {},
   "source": [
    "What we did above is use broadcasting (the `.` syntax), to calculate the entropy for every `ε` value. What's with the `Ref()`? This `Ref()` specifies that its argument `tr` should **not** be broadcasted over. Since both `ε` as well as `tr` are iterable, Julia would normally try to broadcast across both arguments, which we don't want in this case.\n",
    "\n",
    "Anyway, this is the plot:"
   ]
  },
  {
   "cell_type": "code",
   "execution_count": 37,
   "metadata": {},
   "outputs": [
    {
     "data": {
      "image/png": "[encoded data removed]",
      "text/plain": [
       "Figure(PyObject <Figure size 500x300 with 1 Axes>)"
      ]
     },
     "metadata": {},
     "output_type": "display_data"
    }
   ],
   "source": [
    "xs = -log.(εs)\n",
    "plot(xs, Hs)\n",
    "xlabel(\"-log(ε)\"); ylabel(\"H\");"
   ]
  },
  {
   "attachments": {},
   "cell_type": "markdown",
   "metadata": {},
   "source": [
    "And one can clearly identify a region in the middle which has the slope of `D`, the fractal dimension of `tr`. But in case you are not really happy with eyeballing this, you can use the function `linear_regions(x, y)` which takes in the curve `y(x)` and decomposes it to approximately independent linear regions.\n",
    "\n",
    "Let's see the result with some nice color coding:"
   ]
  },
  {
   "cell_type": "code",
   "execution_count": 38,
   "metadata": {},
   "outputs": [
    {
     "data": {
      "image/png": "[encoded data removed]",
      "text/plain": [
       "Figure(PyObject <Figure size 500x300 with 1 Axes>)"
      ]
     },
     "metadata": {},
     "output_type": "display_data"
    }
   ],
   "source": [
    "lrs, slopes = linear_regions(xs, Hs, tol = 0.25)\n",
    "\n",
    "for i in 1:length(lrs)-1\n",
    "    plot(xs[lrs[i]:lrs[i+1]], Hs[lrs[i]:lrs[i+1]], marker = \"o\", \n",
    "        label = i > 7 ? \"slope $(round(slopes[i]; digits = 3))\" : \"\")\n",
    "end\n",
    "xlabel(\"-log(ε)\"); ylabel(\"H\"); legend();"
   ]
  },
  {
   "attachments": {},
   "cell_type": "markdown",
   "metadata": {},
   "source": [
    "So here we would get the value `1.939` as the fractal dimension, which is easily accessible as "
   ]
  },
  {
   "cell_type": "code",
   "execution_count": 39,
   "metadata": {},
   "outputs": [
    {
     "data": {
      "text/plain": [
       "1.9387874361172148"
      ]
     },
     "execution_count": 39,
     "metadata": {},
     "output_type": "execute_result"
    }
   ],
   "source": [
    "D = maximum(slopes)"
   ]
  },
  {
   "attachments": {},
   "cell_type": "markdown",
   "metadata": {},
   "source": [
    "# 3. Distributions.jl\n",
    "\n",
    "The [`Distributions`](https://juliastats.org/Distributions.jl/stable/) package provides an interface for writing probability-distribution-agnostic code: sampling distributions and getting pdfs, using moments, and more. This means that you can write any code that uses a probability distribution without having to care about the distribution's specifics. The result: your code can be run with _any_ probability distribution!\n",
    "\n",
    "> _Note: the package targets applications scenarios where continuous probabilty density functions with analytically known expressions are used (and optionally fitted to the data). For extracting discrete probability mass functions from input data using a plethora of different discretization methods, see [ComplexityMeasures.jl](https://juliadynamics.github.io/ComplexityMeasures.jl/stable/)._\n",
    "\n",
    "The way it works is quite straightforward: `Distributions` provides a unified API around abstract types representing probability distributions. To keep things simple here we limit ourselves to univariate continuous distributions."
   ]
  },
  {
   "cell_type": "code",
   "execution_count": 3,
   "metadata": {},
   "outputs": [
    {
     "data": {
      "text/plain": [
       "Normal{Float64}(μ=0.1, σ=0.25)"
      ]
     },
     "metadata": {},
     "output_type": "display_data"
    }
   ],
   "source": [
    "# import Pkg; Pkg.add(\"Distributions\")\n",
    "using Distributions\n",
    "d = Normal(0.1, 0.25)"
   ]
  },
  {
   "cell_type": "code",
   "execution_count": 6,
   "metadata": {},
   "outputs": [
    {
     "data": {
      "text/plain": [
       "Distribution{Univariate, Continuous}"
      ]
     },
     "metadata": {},
     "output_type": "display_data"
    }
   ],
   "source": [
    "supertype(typeof(d))"
   ]
  },
  {
   "cell_type": "markdown",
   "metadata": {},
   "source": [
    "Various distribution-related quantities can be extracted using `Distributions`, by utilizing the analytic form of a specific distribution. For example:"
   ]
  },
  {
   "cell_type": "code",
   "execution_count": 7,
   "metadata": {},
   "outputs": [
    {
     "data": {
      "text/plain": [
       "1.5957691216057308"
      ]
     },
     "metadata": {},
     "output_type": "display_data"
    }
   ],
   "source": [
    "pdf(d, 0.1)"
   ]
  },
  {
   "cell_type": "code",
   "execution_count": 8,
   "metadata": {},
   "outputs": [
    {
     "data": {
      "text/plain": [
       "0.25"
      ]
     },
     "metadata": {},
     "output_type": "display_data"
    }
   ],
   "source": [
    "std(d)"
   ]
  },
  {
   "cell_type": "markdown",
   "metadata": {},
   "source": [
    "Arguably one of the most important features for `Distributions` is that these objects can be used as samplers in the `rand` function."
   ]
  },
  {
   "cell_type": "code",
   "execution_count": 10,
   "metadata": {},
   "outputs": [
    {
     "data": {
      "text/plain": [
       "-0.5665959370033075"
      ]
     },
     "metadata": {},
     "output_type": "display_data"
    }
   ],
   "source": [
    "rand(d)"
   ]
  },
  {
   "cell_type": "code",
   "execution_count": 11,
   "metadata": {},
   "outputs": [
    {
     "data": {
      "text/plain": [
       "10×10 Matrix{Float64}:\n",
       " -0.38925     -0.014945   -0.122787  …  -0.146467   -0.110182    0.0571953\n",
       "  0.01852      0.0445796   0.35714      -0.277661    0.590614   -0.0652946\n",
       "  0.00231916   0.0990791   0.359645     -0.113782    0.29723    -0.112319\n",
       "  0.226323    -0.17037     0.147185      0.0899991   0.600403   -0.166181\n",
       " -0.183802    -0.285265   -0.100761      0.982732    0.537604   -0.206758\n",
       "  0.0584127    0.251982    0.555903  …   0.213763   -0.0887161   0.0292095\n",
       "  0.0831715   -0.0266351   0.430425     -0.111842    0.247605   -0.00418662\n",
       " -0.100394     0.0641934  -0.155886     -0.046973    0.456653    0.169186\n",
       "  0.0277098   -0.208702    0.302138      0.403247    0.0883279   0.493774\n",
       " -0.141958     0.366362    0.699888     -0.340337    0.475652    0.226854"
      ]
     },
     "metadata": {},
     "output_type": "display_data"
    }
   ],
   "source": [
    "rand(d, 10, 10)"
   ]
  },
  {
   "cell_type": "markdown",
   "metadata": {},
   "source": [
    "And all of this works for any subtype of `Distribution`:"
   ]
  },
  {
   "cell_type": "code",
   "execution_count": 14,
   "metadata": {
    "scrolled": true
   },
   "outputs": [
    {
     "data": {
      "image/png": "[encoded data removed]"
     },
     "metadata": {},
     "output_type": "display_data"
    }
   ],
   "source": [
    "using CairoMakie\n",
    "cauchy = Cauchy(0.5, 0.25)\n",
    "x = range(-1, 4; length = 101)\n",
    "lines(x, pdf.(cauchy, x))"
   ]
  },
  {
   "cell_type": "code",
   "execution_count": 44,
   "metadata": {},
   "outputs": [
    {
     "data": {
      "text/plain": [
       "0.6411208610416594"
      ]
     },
     "execution_count": 44,
     "metadata": {},
     "output_type": "execute_result"
    }
   ],
   "source": [
    "rand(cauchy)"
   ]
  },
  {
   "cell_type": "code",
   "execution_count": 13,
   "metadata": {},
   "outputs": [
    {
     "data": {
      "text/plain": [
       "NaN"
      ]
     },
     "metadata": {},
     "output_type": "display_data"
    }
   ],
   "source": [
    "std(cauchy)"
   ]
  },
  {
   "cell_type": "code",
   "execution_count": 22,
   "metadata": {},
   "outputs": [
    {
     "data": {
      "text/plain": [
       "0.5"
      ]
     },
     "metadata": {},
     "output_type": "display_data"
    }
   ],
   "source": [
    "quantile(cauchy, 0.5)"
   ]
  },
  {
   "cell_type": "markdown",
   "metadata": {},
   "source": [
    "You can also create your own distribution by extending a small amount of methods!"
   ]
  },
  {
   "attachments": {},
   "cell_type": "markdown",
   "metadata": {},
   "source": [
    "Or, you can use the `fit` function, to fit a distribution to an e.g. experimental measurement:"
   ]
  },
  {
   "cell_type": "code",
   "execution_count": 15,
   "metadata": {},
   "outputs": [
    {
     "data": {
      "text/plain": [
       "Cauchy{Float64}(μ=0.027047977803408473, σ=0.699474442836981)"
      ]
     },
     "metadata": {},
     "output_type": "display_data"
    }
   ],
   "source": [
    "x = randn(5000);\n",
    "cauchyfit = fit(Cauchy, x)"
   ]
  },
  {
   "cell_type": "code",
   "execution_count": 16,
   "metadata": {},
   "outputs": [
    {
     "data": {
      "text/plain": [
       "(0.027047977803408473, 0.699474442836981)"
      ]
     },
     "metadata": {},
     "output_type": "display_data"
    }
   ],
   "source": [
    "params(cauchyfit)"
   ]
  },
  {
   "cell_type": "code",
   "execution_count": 20,
   "metadata": {},
   "outputs": [
    {
     "data": {
      "image/png": "[encoded data removed]"
     },
     "metadata": {},
     "output_type": "display_data"
    }
   ],
   "source": [
    "hist(x, 50; normalization = :pdf)\n",
    "scatter!(x, pdf.(cauchyfit, x); color = \"red\")\n",
    "current_figure()"
   ]
  },
  {
   "attachments": {},
   "cell_type": "markdown",
   "metadata": {},
   "source": [
    "Of course, other fundamental statistical measures, e.g. means, stds, quantiles, work out of the box for any distribution"
   ]
  },
  {
   "attachments": {},
   "cell_type": "markdown",
   "metadata": {},
   "source": [
    "# 4. DrWatson\n",
    "\n",
    "[DrWatson](https://juliadynamics.github.io/DrWatson.jl/dev/) is a scientific project assistant software. It helps people deal with their scientific code base, allowing them to focus more on the science and less on the code management. DrWatson offers a lot of tools and functionality for this purpose, but here I'll only show a couple of them. \n",
    "\n",
    "*Disclaimer: I am one of the developers of DrWatson.*\n",
    "\n",
    "## FileIO\n",
    "\n",
    "Obviously, in order to do science, it is necessary to be able to save files to arbitrary formats and to be able to read them later. `FileIO` (which is used by `DrWatson`) is a Julia package that provides a unified API to save and load files to disk, without caring about their actual file ending type.\n",
    "\n",
    "The interface is as simple as:\n",
    "```julia\n",
    "using FileIO\n",
    "object = load(filename)\n",
    "save(filename, object)\n",
    "```\n",
    "where `filename` is a `String` (arbitrary path) that *includes* the file ending, e.g. `.hdf5`.\n",
    "\n",
    "`FileIO` does not actually install any packages that can save or load files! It provides the interface. If you try to save/load a file with an unsupported ending, `FileIO` will tell you that's impossible."
   ]
  },
  {
   "cell_type": "code",
   "execution_count": 30,
   "metadata": {
    "scrolled": true
   },
   "outputs": [
    {
     "data": {
      "text/plain": [
       "\"C:\\\\Users\\\\gd419\\\\OneDrive - University of Exeter\\\\Desktop\""
      ]
     },
     "metadata": {},
     "output_type": "display_data"
    }
   ],
   "source": [
    "using DrWatson\n",
    "pwd() # state current working directory"
   ]
  },
  {
   "attachments": {},
   "cell_type": "markdown",
   "metadata": {},
   "source": [
    "Most packages that can save data of arbitrary format expect the final object-to-be saved as a dictionary"
   ]
  },
  {
   "cell_type": "code",
   "execution_count": 24,
   "metadata": {},
   "outputs": [
    {
     "data": {
      "text/plain": [
       "Dict{String, Int64} with 2 entries:\n",
       "  \"b\" => 4\n",
       "  \"a\" => 5"
      ]
     },
     "metadata": {},
     "output_type": "display_data"
    }
   ],
   "source": [
    "testdata = Dict(\"a\" => 5, \"b\" => 4)"
   ]
  },
  {
   "cell_type": "markdown",
   "metadata": {},
   "source": [
    "To save the data we need a \"file i/o backend\". I recommend JLD2.jl:"
   ]
  },
  {
   "cell_type": "code",
   "execution_count": 25,
   "metadata": {},
   "outputs": [],
   "source": [
    "# import Pkg; Pkg.add(\"JLD2\")\n",
    "save(\"test.jld2\", testdata)"
   ]
  },
  {
   "cell_type": "code",
   "execution_count": 27,
   "metadata": {},
   "outputs": [
    {
     "ename": "UndefVarError",
     "evalue": "UndefVarError: `FileIO` not defined",
     "output_type": "error",
     "traceback": [
      "UndefVarError: `FileIO` not defined\n",
      "\n",
      "Stacktrace:\n",
      " [1] top-level scope\n",
      "   @ c:\\Users\\gd419\\OneDrive - University of Exeter\\Teaching\\Zero2Hero-JuliaWorkshop\\3-Ecosystem.ipynb:1"
     ]
    }
   ],
   "source": [
    "FileIO.load(\"test.jld2\")"
   ]
  },
  {
   "cell_type": "code",
   "execution_count": 56,
   "metadata": {},
   "outputs": [],
   "source": [
    "rm(\"test.jld2\") # clean-up"
   ]
  },
  {
   "attachments": {},
   "cell_type": "markdown",
   "metadata": {},
   "source": [
    "## Savename\n",
    "\n",
    "When saving files, scientists often want to include the parameter values of the simulations in the name of the file. For example, If I had run a simulation with parameters:"
   ]
  },
  {
   "cell_type": "code",
   "execution_count": 59,
   "metadata": {},
   "outputs": [
    {
     "data": {
      "text/plain": [
       "(1, 2, 3)"
      ]
     },
     "execution_count": 59,
     "metadata": {},
     "output_type": "execute_result"
    }
   ],
   "source": [
    "a, b, c = 1, 2, 3"
   ]
  },
  {
   "attachments": {},
   "cell_type": "markdown",
   "metadata": {},
   "source": [
    "I would like to save my simulation as e.g. `sim_a=1_b=2_c=3.bson`. This can be achieved with string interpolation like so"
   ]
  },
  {
   "cell_type": "code",
   "execution_count": 60,
   "metadata": {},
   "outputs": [
    {
     "data": {
      "text/plain": [
       "\"sim_a=1_b=2_c=3.bson\""
      ]
     },
     "execution_count": 60,
     "metadata": {},
     "output_type": "execute_result"
    }
   ],
   "source": [
    "filename = \"sim_a=$(a)_b=$(b)_c=$(c).bson\""
   ]
  },
  {
   "attachments": {},
   "cell_type": "markdown",
   "metadata": {},
   "source": [
    "This works, but besides being tedious, it is not extendable: if I have a different simulation, with different parameter names, I have to modify this command.\n",
    "\n",
    "This is where DrWatson comes in: it provides a tool, called `savename`, that takes as an input **any Julia container** and converts it into a `key=value` chain. It works with dictionaries and arbitrary Julia composite types (it would work with the `Animal` we defined in the previous session). For example:"
   ]
  },
  {
   "cell_type": "code",
   "execution_count": 61,
   "metadata": {},
   "outputs": [
    {
     "data": {
      "text/plain": [
       "Dict{Symbol,Int64} with 3 entries:\n",
       "  :a => 1\n",
       "  :b => 2\n",
       "  :c => 3"
      ]
     },
     "execution_count": 61,
     "metadata": {},
     "output_type": "execute_result"
    }
   ],
   "source": [
    "using DrWatson\n",
    "# the @dict command makes a dictionary from the given variable names\n",
    "# @dict is a \"macro\", something we won't talk about in this workshop\n",
    "pars = @dict a b c"
   ]
  },
  {
   "cell_type": "code",
   "execution_count": 62,
   "metadata": {},
   "outputs": [
    {
     "data": {
      "text/plain": [
       "\"a=1_b=2_c=3\""
      ]
     },
     "execution_count": 62,
     "metadata": {},
     "output_type": "execute_result"
    }
   ],
   "source": [
    "savename(pars)"
   ]
  },
  {
   "attachments": {},
   "cell_type": "markdown",
   "metadata": {},
   "source": [
    "You can also call `savename` with prefix and suffix"
   ]
  },
  {
   "cell_type": "code",
   "execution_count": 63,
   "metadata": {},
   "outputs": [
    {
     "data": {
      "text/plain": [
       "\"prefix_a=1_b=2_c=3_model=linear.bson\""
      ]
     },
     "execution_count": 63,
     "metadata": {},
     "output_type": "execute_result"
    }
   ],
   "source": [
    "model = \"linear\"\n",
    "pars = @dict a b c model\n",
    "savename(\"prefix\", pars, \"bson\")"
   ]
  },
  {
   "attachments": {},
   "cell_type": "markdown",
   "metadata": {},
   "source": [
    "`savename` is highly customizable, and also extendable for your own types, while by default it makes some reasonable assumptions about what should and should not be put into the this name. For example, if you had a vector of numbers as part of your parameters, you probably don't want to include it into the savename (by default)"
   ]
  },
  {
   "cell_type": "code",
   "execution_count": 64,
   "metadata": {},
   "outputs": [
    {
     "data": {
      "text/plain": [
       "Dict{Symbol,Any} with 5 entries:\n",
       "  :a     => 1\n",
       "  :b     => 2\n",
       "  :v     => [1, 2, 3, 4, 5, 6, 7, 8, 9, 10]\n",
       "  :c     => 3\n",
       "  :model => \"linear\""
      ]
     },
     "execution_count": 64,
     "metadata": {},
     "output_type": "execute_result"
    }
   ],
   "source": [
    "pars[:v] = collect(1:10)\n",
    "pars"
   ]
  },
  {
   "cell_type": "code",
   "execution_count": 65,
   "metadata": {},
   "outputs": [
    {
     "data": {
      "text/plain": [
       "\"a=1_b=2_c=3_model=linear\""
      ]
     },
     "execution_count": 65,
     "metadata": {},
     "output_type": "execute_result"
    }
   ],
   "source": [
    "savename(pars)"
   ]
  },
  {
   "attachments": {},
   "cell_type": "markdown",
   "metadata": {},
   "source": [
    "But you _could_ if you really wanted to:"
   ]
  },
  {
   "cell_type": "code",
   "execution_count": 66,
   "metadata": {},
   "outputs": [
    {
     "data": {
      "text/plain": [
       "\"a=1_b=2_c=3_model=linear_v=[1, 2, 3, 4, 5, 6, 7, 8, 9, 10].bson\""
      ]
     },
     "execution_count": 66,
     "metadata": {},
     "output_type": "execute_result"
    }
   ],
   "source": [
    "savename(pars, \"bson\"; allowedtypes = (Real, String, Vector))"
   ]
  },
  {
   "attachments": {},
   "cell_type": "markdown",
   "metadata": {},
   "source": [
    "`savename` is also convenient for creating titles for figures, by using a different connector:"
   ]
  },
  {
   "cell_type": "code",
   "execution_count": 67,
   "metadata": {},
   "outputs": [
    {
     "data": {
      "text/plain": [
       "\"Simulation, a=1, b=2, c=3, model=linear\""
      ]
     },
     "execution_count": 67,
     "metadata": {},
     "output_type": "execute_result"
    }
   ],
   "source": [
    "savename(\"Simulation\", pars; connector = \", \")"
   ]
  },
  {
   "attachments": {},
   "cell_type": "markdown",
   "metadata": {},
   "source": [
    "## Saving tools\n",
    "\n",
    "DrWatson offers some tools that are useful when saving files. The first is\n",
    "`tagsave`, which modifies the dictionary-to-be-saved by adding additional information about the current status of the Git repository of the project (if there exists a Git repository). This allows for reproducibility. For example (notice that `pwd()` is the path of a Git repository)"
   ]
  },
  {
   "cell_type": "code",
   "execution_count": 68,
   "metadata": {},
   "outputs": [
    {
     "name": "stderr",
     "output_type": "stream",
     "text": [
      "┌ Warning: The Git repository is dirty! Appending _dirty to the commit ID\n",
      "└ @ DrWatson C:\\Users\\m300808\\.julia\\dev\\DrWatson\\src\\saving_tools.jl:60\n",
      "┌ Warning: `gitpatch` failed with error Base.IOError(\"could not spawn `git --git-dir=C:/Users/m300808/ownCloud/Zero2Hero-JuliaWorkshop/.git --work-tree=C:/Users/m300808/ownCloud/Zero2Hero-JuliaWorkshop diff HEAD`: no such file or directory (ENOENT)\", -4058), returning `nothing` instead.\n",
      "└ @ DrWatson C:\\Users\\m300808\\.julia\\dev\\DrWatson\\src\\saving_tools.jl:97\n"
     ]
    },
    {
     "data": {
      "text/plain": [
       "Dict{Symbol,Any} with 7 entries:\n",
       "  :a         => 1\n",
       "  :b         => 2\n",
       "  :v         => [1, 2, 3, 4, 5, 6, 7, 8, 9, 10]\n",
       "  :c         => 3\n",
       "  :gitcommit => \"ff94fd2b9208e5849bd5e7c12781ffd49a8f9755_dirty\"\n",
       "  :model     => \"linear\"\n",
       "  :gitpatch  => nothing"
      ]
     },
     "execution_count": 68,
     "metadata": {},
     "output_type": "execute_result"
    }
   ],
   "source": [
    "tagsave(\"test.bson\", copy(pars); gitpath = pwd())\n",
    "load(\"test.bson\")"
   ]
  },
  {
   "attachments": {},
   "cell_type": "markdown",
   "metadata": {},
   "source": [
    "You can see that the Git commit ID was included in the saved file!"
   ]
  },
  {
   "attachments": {},
   "cell_type": "markdown",
   "metadata": {},
   "source": [
    "Another useful tool is `safesave`. We all know how **devastating** it can be to by-mistake overwrite an existing simulation because you saved a new simulation with the same name... `safesave` comes to the rescue because it ensures that no files are overwritten but also all files are saved!\n",
    "\n",
    "It works like this:\n",
    "```julia\n",
    "safesave(\"test.bson\", ...)\n",
    "```\n",
    "if `\"test.bson\"` exists, rename it to `test_#1.bson` (and do this recursively if `test_#1.bson` also exists, by incrementing the number after the `#`). Then, save the current data as `test.bson`."
   ]
  },
  {
   "cell_type": "code",
   "execution_count": 69,
   "metadata": {},
   "outputs": [],
   "source": [
    "safesave(\"test.bson\", pars)\n",
    "safesave(\"test.bson\", pars)\n",
    "safesave(\"test.bson\", pars)"
   ]
  },
  {
   "cell_type": "code",
   "execution_count": 70,
   "metadata": {},
   "outputs": [
    {
     "data": {
      "text/plain": [
       "16-element Array{String,1}:\n",
       " \".git\"                    \n",
       " \".gitignore\"              \n",
       " \".ipynb_checkpoints\"      \n",
       " \"1-JuliaBasics.ipynb\"     \n",
       " \"2-MultipleDispatch.ipynb\"\n",
       " \"3-Ecosystem.ipynb\"       \n",
       " \"add.jpg\"                 \n",
       " \"Julia advertisement.pdf\" \n",
       " \"Julia advertisement.pptx\"\n",
       " \"LICENSE.md\"              \n",
       " \"README.md\"               \n",
       " \"solutions.jl\"            \n",
       " \"test.bson\"               \n",
       " \"test_#1.bson\"            \n",
       " \"test_#2.bson\"            \n",
       " \"test_#3.bson\"            "
      ]
     },
     "execution_count": 70,
     "metadata": {},
     "output_type": "execute_result"
    }
   ],
   "source": [
    "readdir(pwd())"
   ]
  },
  {
   "cell_type": "code",
   "execution_count": 71,
   "metadata": {},
   "outputs": [],
   "source": [
    "# delete all files that end in \"bson\"\n",
    "[rm(f) for f in readdir(pwd()) if f[end-3:end] == \"bson\"];"
   ]
  },
  {
   "attachments": {},
   "cell_type": "markdown",
   "metadata": {},
   "source": [
    "## Collecting results\n",
    "\n",
    "If you run several similar simulations with different parameters, you typically want to collect all of them in a tabular datastrcture to analyze further. You can use `collect_results` to automate the data collection process. \n",
    "\n",
    "Let's say we run first some simulations with varying parameters like so:"
   ]
  },
  {
   "cell_type": "code",
   "execution_count": 72,
   "metadata": {},
   "outputs": [],
   "source": [
    "model = \"linear\"\n",
    "for a in 1:2\n",
    "    for b in [2, 3]\n",
    "        # perform a fake simulation\n",
    "        r = a + b\n",
    "        # save it:\n",
    "        p = @dict a b r model\n",
    "        s = @dict a b model # the result \"r\" doesn't take part in the name\n",
    "        wsave(joinpath(\"data\", savename(s, \"bson\")), p)\n",
    "    end\n",
    "end"
   ]
  },
  {
   "attachments": {},
   "cell_type": "markdown",
   "metadata": {},
   "source": [
    "Then we run a different model, which does not necessarily have the same parameters:"
   ]
  },
  {
   "cell_type": "code",
   "execution_count": 73,
   "metadata": {},
   "outputs": [],
   "source": [
    "model = \"cubic\"\n",
    "for a in 1:2\n",
    "    for d in [5, 6]\n",
    "        # perform a fake simulation\n",
    "        r = a + d^3\n",
    "        # save it:\n",
    "        p = @dict a d r model\n",
    "        s = @dict a d model # the result \"r\" doesn't take part in the name\n",
    "        wsave(joinpath(\"data\", savename(s, \"bson\")), p)\n",
    "    end\n",
    "end"
   ]
  },
  {
   "attachments": {},
   "cell_type": "markdown",
   "metadata": {},
   "source": [
    "Now the idea is that we want to collect all of this results in a single tabular structure. We do with `collect_results(folder)`, which collects all results of the `folder` into a `DataFrame`. This is a tabular data structure (and thus we need the Julia package `DataFrames` to use it):"
   ]
  },
  {
   "cell_type": "code",
   "execution_count": 74,
   "metadata": {},
   "outputs": [
    {
     "name": "stderr",
     "output_type": "stream",
     "text": [
      "┌ Info: Precompiling DataFrames [a93c6f00-e57d-5684-b7b6-d8193f3e46c0]\n",
      "└ @ Base loading.jl:1273\n",
      "┌ Info: Scanning folder data for result files.\n",
      "└ @ DrWatson C:\\Users\\m300808\\.julia\\dev\\DrWatson\\src\\result_collection.jl:79\n",
      "┌ Info: Added 8 entries.\n",
      "└ @ DrWatson C:\\Users\\m300808\\.julia\\dev\\DrWatson\\src\\result_collection.jl:107\n"
     ]
    },
    {
     "data": {
      "text/html": [
       "<table class=\"data-frame\"><thead><tr><th></th><th>a</th><th>b</th><th>r</th><th>model</th><th>path</th><th>d</th></tr><tr><th></th><th>Int64⍰</th><th>Int64⍰</th><th>Int64⍰</th><th>String⍰</th><th>String⍰</th><th>Int64⍰</th></tr></thead><tbody><p>8 rows × 6 columns</p><tr><th>1</th><td>1</td><td>2</td><td>3</td><td>linear</td><td>data\\\\a=1_b=2_model=linear.bson</td><td>missing</td></tr><tr><th>2</th><td>1</td><td>3</td><td>4</td><td>linear</td><td>data\\\\a=1_b=3_model=linear.bson</td><td>missing</td></tr><tr><th>3</th><td>1</td><td>missing</td><td>126</td><td>cubic</td><td>data\\\\a=1_d=5_model=cubic.bson</td><td>5</td></tr><tr><th>4</th><td>1</td><td>missing</td><td>217</td><td>cubic</td><td>data\\\\a=1_d=6_model=cubic.bson</td><td>6</td></tr><tr><th>5</th><td>2</td><td>2</td><td>4</td><td>linear</td><td>data\\\\a=2_b=2_model=linear.bson</td><td>missing</td></tr><tr><th>6</th><td>2</td><td>3</td><td>5</td><td>linear</td><td>data\\\\a=2_b=3_model=linear.bson</td><td>missing</td></tr><tr><th>7</th><td>2</td><td>missing</td><td>127</td><td>cubic</td><td>data\\\\a=2_d=5_model=cubic.bson</td><td>5</td></tr><tr><th>8</th><td>2</td><td>missing</td><td>218</td><td>cubic</td><td>data\\\\a=2_d=6_model=cubic.bson</td><td>6</td></tr></tbody></table>"
      ],
      "text/latex": [
       "\\begin{tabular}{r|cccccc}\n",
       "\t& a & b & r & model & path & d\\\\\n",
       "\t\\hline\n",
       "\t& Int64⍰ & Int64⍰ & Int64⍰ & String⍰ & String⍰ & Int64⍰\\\\\n",
       "\t\\hline\n",
       "\t1 & 1 & 2 & 3 & linear & data\\textbackslash{}\\textbackslash{}a=1\\_b=2\\_model=linear.bson &  \\\\\n",
       "\t2 & 1 & 3 & 4 & linear & data\\textbackslash{}\\textbackslash{}a=1\\_b=3\\_model=linear.bson &  \\\\\n",
       "\t3 & 1 &  & 126 & cubic & data\\textbackslash{}\\textbackslash{}a=1\\_d=5\\_model=cubic.bson & 5 \\\\\n",
       "\t4 & 1 &  & 217 & cubic & data\\textbackslash{}\\textbackslash{}a=1\\_d=6\\_model=cubic.bson & 6 \\\\\n",
       "\t5 & 2 & 2 & 4 & linear & data\\textbackslash{}\\textbackslash{}a=2\\_b=2\\_model=linear.bson &  \\\\\n",
       "\t6 & 2 & 3 & 5 & linear & data\\textbackslash{}\\textbackslash{}a=2\\_b=3\\_model=linear.bson &  \\\\\n",
       "\t7 & 2 &  & 127 & cubic & data\\textbackslash{}\\textbackslash{}a=2\\_d=5\\_model=cubic.bson & 5 \\\\\n",
       "\t8 & 2 &  & 218 & cubic & data\\textbackslash{}\\textbackslash{}a=2\\_d=6\\_model=cubic.bson & 6 \\\\\n",
       "\\end{tabular}\n"
      ],
      "text/plain": [
       "8×6 DataFrame. Omitted printing of 1 columns\n",
       "│ Row │ a      │ b       │ r      │ model   │ path                            │\n",
       "│     │ \u001b[90mInt64⍰\u001b[39m │ \u001b[90mInt64⍰\u001b[39m  │ \u001b[90mInt64⍰\u001b[39m │ \u001b[90mString⍰\u001b[39m │ \u001b[90mUnion{Missing, String}\u001b[39m          │\n",
       "├─────┼────────┼─────────┼────────┼─────────┼─────────────────────────────────┤\n",
       "│ 1   │ 1      │ 2       │ 3      │ linear  │ data\\\\a=1_b=2_model=linear.bson │\n",
       "│ 2   │ 1      │ 3       │ 4      │ linear  │ data\\\\a=1_b=3_model=linear.bson │\n",
       "│ 3   │ 1      │ \u001b[90mmissing\u001b[39m │ 126    │ cubic   │ data\\\\a=1_d=5_model=cubic.bson  │\n",
       "│ 4   │ 1      │ \u001b[90mmissing\u001b[39m │ 217    │ cubic   │ data\\\\a=1_d=6_model=cubic.bson  │\n",
       "│ 5   │ 2      │ 2       │ 4      │ linear  │ data\\\\a=2_b=2_model=linear.bson │\n",
       "│ 6   │ 2      │ 3       │ 5      │ linear  │ data\\\\a=2_b=3_model=linear.bson │\n",
       "│ 7   │ 2      │ \u001b[90mmissing\u001b[39m │ 127    │ cubic   │ data\\\\a=2_d=5_model=cubic.bson  │\n",
       "│ 8   │ 2      │ \u001b[90mmissing\u001b[39m │ 218    │ cubic   │ data\\\\a=2_d=6_model=cubic.bson  │"
      ]
     },
     "execution_count": 74,
     "metadata": {},
     "output_type": "execute_result"
    }
   ],
   "source": [
    "using DataFrames\n",
    "results = collect_results(\"data\")"
   ]
  },
  {
   "attachments": {},
   "cell_type": "markdown",
   "metadata": {},
   "source": [
    "So `collect_results` collected all files, but also did something extra, something very useful. Simulation parameters that do not exist in one run (see `b` vs `d`) have the value `missing`. `missing` is how Julia represents missing values."
   ]
  },
  {
   "cell_type": "code",
   "execution_count": 75,
   "metadata": {},
   "outputs": [],
   "source": [
    "# delete all fake data (they are loaded in memory)\n",
    "rm(\"data\"; recursive = true)"
   ]
  },
  {
   "attachments": {},
   "cell_type": "markdown",
   "metadata": {},
   "source": [
    "# 5. Tabular data with DataFrames.jl\n",
    "\n",
    "The `result` that we got above is a `DataFrame` from [DataFrames.jl](http://juliadata.github.io/DataFrames.jl/stable/), one of the major Julia packages for tabular data. \n",
    "\n",
    "## Basic stuff\n",
    "One can do basic selection of these data, for example selecting specific columns, removing columns, adding new columns or rows, etc. The `path` column of the `results` is not so useful, so let's remove it:"
   ]
  },
  {
   "cell_type": "code",
   "execution_count": 76,
   "metadata": {},
   "outputs": [
    {
     "data": {
      "text/html": [
       "<table class=\"data-frame\"><thead><tr><th></th><th>a</th><th>b</th><th>r</th><th>model</th><th>d</th></tr><tr><th></th><th>Int64⍰</th><th>Int64⍰</th><th>Int64⍰</th><th>String⍰</th><th>Int64⍰</th></tr></thead><tbody><p>8 rows × 5 columns</p><tr><th>1</th><td>1</td><td>2</td><td>3</td><td>linear</td><td>missing</td></tr><tr><th>2</th><td>1</td><td>3</td><td>4</td><td>linear</td><td>missing</td></tr><tr><th>3</th><td>1</td><td>missing</td><td>126</td><td>cubic</td><td>5</td></tr><tr><th>4</th><td>1</td><td>missing</td><td>217</td><td>cubic</td><td>6</td></tr><tr><th>5</th><td>2</td><td>2</td><td>4</td><td>linear</td><td>missing</td></tr><tr><th>6</th><td>2</td><td>3</td><td>5</td><td>linear</td><td>missing</td></tr><tr><th>7</th><td>2</td><td>missing</td><td>127</td><td>cubic</td><td>5</td></tr><tr><th>8</th><td>2</td><td>missing</td><td>218</td><td>cubic</td><td>6</td></tr></tbody></table>"
      ],
      "text/latex": [
       "\\begin{tabular}{r|ccccc}\n",
       "\t& a & b & r & model & d\\\\\n",
       "\t\\hline\n",
       "\t& Int64⍰ & Int64⍰ & Int64⍰ & String⍰ & Int64⍰\\\\\n",
       "\t\\hline\n",
       "\t1 & 1 & 2 & 3 & linear &  \\\\\n",
       "\t2 & 1 & 3 & 4 & linear &  \\\\\n",
       "\t3 & 1 &  & 126 & cubic & 5 \\\\\n",
       "\t4 & 1 &  & 217 & cubic & 6 \\\\\n",
       "\t5 & 2 & 2 & 4 & linear &  \\\\\n",
       "\t6 & 2 & 3 & 5 & linear &  \\\\\n",
       "\t7 & 2 &  & 127 & cubic & 5 \\\\\n",
       "\t8 & 2 &  & 218 & cubic & 6 \\\\\n",
       "\\end{tabular}\n"
      ],
      "text/plain": [
       "8×5 DataFrame\n",
       "│ Row │ a      │ b       │ r      │ model   │ d       │\n",
       "│     │ \u001b[90mInt64⍰\u001b[39m │ \u001b[90mInt64⍰\u001b[39m  │ \u001b[90mInt64⍰\u001b[39m │ \u001b[90mString⍰\u001b[39m │ \u001b[90mInt64⍰\u001b[39m  │\n",
       "├─────┼────────┼─────────┼────────┼─────────┼─────────┤\n",
       "│ 1   │ 1      │ 2       │ 3      │ linear  │ \u001b[90mmissing\u001b[39m │\n",
       "│ 2   │ 1      │ 3       │ 4      │ linear  │ \u001b[90mmissing\u001b[39m │\n",
       "│ 3   │ 1      │ \u001b[90mmissing\u001b[39m │ 126    │ cubic   │ 5       │\n",
       "│ 4   │ 1      │ \u001b[90mmissing\u001b[39m │ 217    │ cubic   │ 6       │\n",
       "│ 5   │ 2      │ 2       │ 4      │ linear  │ \u001b[90mmissing\u001b[39m │\n",
       "│ 6   │ 2      │ 3       │ 5      │ linear  │ \u001b[90mmissing\u001b[39m │\n",
       "│ 7   │ 2      │ \u001b[90mmissing\u001b[39m │ 127    │ cubic   │ 5       │\n",
       "│ 8   │ 2      │ \u001b[90mmissing\u001b[39m │ 218    │ cubic   │ 6       │"
      ]
     },
     "execution_count": 76,
     "metadata": {},
     "output_type": "execute_result"
    }
   ],
   "source": [
    "select!(results, Not(:path))"
   ]
  },
  {
   "attachments": {},
   "cell_type": "markdown",
   "metadata": {},
   "source": [
    "To access specific rows or columns you can access a dataframe like a matrix, e.g. `df[:, 1:3]` gives the first three rows while `df[:, [:a, :b]]` gives the rows selected by name.\n",
    "\n",
    "Adding new data to a dataframe is also straight forward. One can add new rows or new columns. New rows are added by either providing a vector (where the vector's length matches the number of columns), or by providing a named tuple that explicitly names which column gets which new value."
   ]
  },
  {
   "cell_type": "code",
   "execution_count": 77,
   "metadata": {},
   "outputs": [
    {
     "data": {
      "text/html": [
       "<table class=\"data-frame\"><thead><tr><th></th><th>a</th><th>b</th><th>r</th></tr><tr><th></th><th>Int64⍰</th><th>Int64⍰</th><th>Int64⍰</th></tr></thead><tbody><p>3 rows × 3 columns</p><tr><th>1</th><td>1</td><td>2</td><td>3</td></tr><tr><th>2</th><td>1</td><td>3</td><td>4</td></tr><tr><th>3</th><td>1</td><td>missing</td><td>126</td></tr></tbody></table>"
      ],
      "text/latex": [
       "\\begin{tabular}{r|ccc}\n",
       "\t& a & b & r\\\\\n",
       "\t\\hline\n",
       "\t& Int64⍰ & Int64⍰ & Int64⍰\\\\\n",
       "\t\\hline\n",
       "\t1 & 1 & 2 & 3 \\\\\n",
       "\t2 & 1 & 3 & 4 \\\\\n",
       "\t3 & 1 &  & 126 \\\\\n",
       "\\end{tabular}\n"
      ],
      "text/plain": [
       "3×3 DataFrame\n",
       "│ Row │ a      │ b       │ r      │\n",
       "│     │ \u001b[90mInt64⍰\u001b[39m │ \u001b[90mInt64⍰\u001b[39m  │ \u001b[90mInt64⍰\u001b[39m │\n",
       "├─────┼────────┼─────────┼────────┤\n",
       "│ 1   │ 1      │ 2       │ 3      │\n",
       "│ 2   │ 1      │ 3       │ 4      │\n",
       "│ 3   │ 1      │ \u001b[90mmissing\u001b[39m │ 126    │"
      ]
     },
     "execution_count": 77,
     "metadata": {},
     "output_type": "execute_result"
    }
   ],
   "source": [
    "df1 = results[1:3, 1:3]"
   ]
  },
  {
   "cell_type": "code",
   "execution_count": 78,
   "metadata": {},
   "outputs": [
    {
     "data": {
      "text/html": [
       "<table class=\"data-frame\"><thead><tr><th></th><th>a</th><th>b</th><th>r</th></tr><tr><th></th><th>Int64⍰</th><th>Int64⍰</th><th>Int64⍰</th></tr></thead><tbody><p>4 rows × 3 columns</p><tr><th>1</th><td>1</td><td>2</td><td>3</td></tr><tr><th>2</th><td>1</td><td>3</td><td>4</td></tr><tr><th>3</th><td>1</td><td>missing</td><td>126</td></tr><tr><th>4</th><td>5</td><td>5</td><td>5</td></tr></tbody></table>"
      ],
      "text/latex": [
       "\\begin{tabular}{r|ccc}\n",
       "\t& a & b & r\\\\\n",
       "\t\\hline\n",
       "\t& Int64⍰ & Int64⍰ & Int64⍰\\\\\n",
       "\t\\hline\n",
       "\t1 & 1 & 2 & 3 \\\\\n",
       "\t2 & 1 & 3 & 4 \\\\\n",
       "\t3 & 1 &  & 126 \\\\\n",
       "\t4 & 5 & 5 & 5 \\\\\n",
       "\\end{tabular}\n"
      ],
      "text/plain": [
       "4×3 DataFrame\n",
       "│ Row │ a      │ b       │ r      │\n",
       "│     │ \u001b[90mInt64⍰\u001b[39m │ \u001b[90mInt64⍰\u001b[39m  │ \u001b[90mInt64⍰\u001b[39m │\n",
       "├─────┼────────┼─────────┼────────┤\n",
       "│ 1   │ 1      │ 2       │ 3      │\n",
       "│ 2   │ 1      │ 3       │ 4      │\n",
       "│ 3   │ 1      │ \u001b[90mmissing\u001b[39m │ 126    │\n",
       "│ 4   │ 5      │ 5       │ 5      │"
      ]
     },
     "execution_count": 78,
     "metadata": {},
     "output_type": "execute_result"
    }
   ],
   "source": [
    "# add new row by order of columns\n",
    "push!(df1, [5, 5, 5])"
   ]
  },
  {
   "cell_type": "code",
   "execution_count": 79,
   "metadata": {},
   "outputs": [
    {
     "data": {
      "text/html": [
       "<table class=\"data-frame\"><thead><tr><th></th><th>a</th><th>b</th><th>r</th></tr><tr><th></th><th>Int64⍰</th><th>Int64⍰</th><th>Int64⍰</th></tr></thead><tbody><p>5 rows × 3 columns</p><tr><th>1</th><td>1</td><td>2</td><td>3</td></tr><tr><th>2</th><td>1</td><td>3</td><td>4</td></tr><tr><th>3</th><td>1</td><td>missing</td><td>126</td></tr><tr><th>4</th><td>5</td><td>5</td><td>5</td></tr><tr><th>5</th><td>-5</td><td>7</td><td>89</td></tr></tbody></table>"
      ],
      "text/latex": [
       "\\begin{tabular}{r|ccc}\n",
       "\t& a & b & r\\\\\n",
       "\t\\hline\n",
       "\t& Int64⍰ & Int64⍰ & Int64⍰\\\\\n",
       "\t\\hline\n",
       "\t1 & 1 & 2 & 3 \\\\\n",
       "\t2 & 1 & 3 & 4 \\\\\n",
       "\t3 & 1 &  & 126 \\\\\n",
       "\t4 & 5 & 5 & 5 \\\\\n",
       "\t5 & -5 & 7 & 89 \\\\\n",
       "\\end{tabular}\n"
      ],
      "text/plain": [
       "5×3 DataFrame\n",
       "│ Row │ a      │ b       │ r      │\n",
       "│     │ \u001b[90mInt64⍰\u001b[39m │ \u001b[90mInt64⍰\u001b[39m  │ \u001b[90mInt64⍰\u001b[39m │\n",
       "├─────┼────────┼─────────┼────────┤\n",
       "│ 1   │ 1      │ 2       │ 3      │\n",
       "│ 2   │ 1      │ 3       │ 4      │\n",
       "│ 3   │ 1      │ \u001b[90mmissing\u001b[39m │ 126    │\n",
       "│ 4   │ 5      │ 5       │ 5      │\n",
       "│ 5   │ -5     │ 7       │ 89     │"
      ]
     },
     "execution_count": 79,
     "metadata": {},
     "output_type": "execute_result"
    }
   ],
   "source": [
    "# add new row by name of columnns\n",
    "push!(df1, (b = 7, r=89, a = -5))"
   ]
  },
  {
   "cell_type": "code",
   "execution_count": 80,
   "metadata": {},
   "outputs": [
    {
     "data": {
      "text/html": [
       "<table class=\"data-frame\"><thead><tr><th></th><th>a</th><th>b</th><th>r</th><th>z</th></tr><tr><th></th><th>Int64⍰</th><th>Int64⍰</th><th>Int64⍰</th><th>Float64</th></tr></thead><tbody><p>5 rows × 4 columns</p><tr><th>1</th><td>1</td><td>2</td><td>3</td><td>0.574353</td></tr><tr><th>2</th><td>1</td><td>3</td><td>4</td><td>0.579092</td></tr><tr><th>3</th><td>1</td><td>missing</td><td>126</td><td>0.0584591</td></tr><tr><th>4</th><td>5</td><td>5</td><td>5</td><td>0.973551</td></tr><tr><th>5</th><td>-5</td><td>7</td><td>89</td><td>0.63589</td></tr></tbody></table>"
      ],
      "text/latex": [
       "\\begin{tabular}{r|cccc}\n",
       "\t& a & b & r & z\\\\\n",
       "\t\\hline\n",
       "\t& Int64⍰ & Int64⍰ & Int64⍰ & Float64\\\\\n",
       "\t\\hline\n",
       "\t1 & 1 & 2 & 3 & 0.574353 \\\\\n",
       "\t2 & 1 & 3 & 4 & 0.579092 \\\\\n",
       "\t3 & 1 &  & 126 & 0.0584591 \\\\\n",
       "\t4 & 5 & 5 & 5 & 0.973551 \\\\\n",
       "\t5 & -5 & 7 & 89 & 0.63589 \\\\\n",
       "\\end{tabular}\n"
      ],
      "text/plain": [
       "5×4 DataFrame\n",
       "│ Row │ a      │ b       │ r      │ z         │\n",
       "│     │ \u001b[90mInt64⍰\u001b[39m │ \u001b[90mInt64⍰\u001b[39m  │ \u001b[90mInt64⍰\u001b[39m │ \u001b[90mFloat64\u001b[39m   │\n",
       "├─────┼────────┼─────────┼────────┼───────────┤\n",
       "│ 1   │ 1      │ 2       │ 3      │ 0.574353  │\n",
       "│ 2   │ 1      │ 3       │ 4      │ 0.579092  │\n",
       "│ 3   │ 1      │ \u001b[90mmissing\u001b[39m │ 126    │ 0.0584591 │\n",
       "│ 4   │ 5      │ 5       │ 5      │ 0.973551  │\n",
       "│ 5   │ -5     │ 7       │ 89     │ 0.63589   │"
      ]
     },
     "execution_count": 80,
     "metadata": {},
     "output_type": "execute_result"
    }
   ],
   "source": [
    "df1.z = rand(size(df1, 1))\n",
    "# equivalent syntax: df1.z == df1[!, :z]\n",
    "df1"
   ]
  },
  {
   "attachments": {},
   "cell_type": "markdown",
   "metadata": {},
   "source": [
    "## Querying a DataFrame\n",
    "\n",
    "Querying a dataframe is done with the [Query.jl](https://www.queryverse.org/Query.jl/stable/) package (alternatives also exist). `Query` allows you to query many different Julia data sources with two styles of syntax: \n",
    "\n",
    "1. Composable standalone operations \n",
    "2. \"LINQ\" style\n",
    "\n",
    "Here I'll show the LINQ syntax because it involves less new symbols. \n",
    "\n",
    "Query is extremely powerful and general, because in principle it can query almost everything that is iterable. E.g. a dataframe is in principle an iterable of NamedTuples."
   ]
  },
  {
   "cell_type": "code",
   "execution_count": 81,
   "metadata": {},
   "outputs": [
    {
     "name": "stderr",
     "output_type": "stream",
     "text": [
      "┌ Info: Precompiling Query [1a8c2f83-1ff3-5112-b086-8aa67b057ba1]\n",
      "└ @ Base loading.jl:1273\n"
     ]
    },
    {
     "data": {
      "text/html": [
       "<table class=\"data-frame\"><thead><tr><th></th><th>a</th><th>b</th><th>r</th><th>model</th><th>d</th></tr><tr><th></th><th>Int64⍰</th><th>Int64⍰</th><th>Int64⍰</th><th>String⍰</th><th>Int64⍰</th></tr></thead><tbody><p>8 rows × 5 columns</p><tr><th>1</th><td>1</td><td>2</td><td>3</td><td>linear</td><td>missing</td></tr><tr><th>2</th><td>1</td><td>3</td><td>4</td><td>linear</td><td>missing</td></tr><tr><th>3</th><td>1</td><td>missing</td><td>126</td><td>cubic</td><td>5</td></tr><tr><th>4</th><td>1</td><td>missing</td><td>217</td><td>cubic</td><td>6</td></tr><tr><th>5</th><td>2</td><td>2</td><td>4</td><td>linear</td><td>missing</td></tr><tr><th>6</th><td>2</td><td>3</td><td>5</td><td>linear</td><td>missing</td></tr><tr><th>7</th><td>2</td><td>missing</td><td>127</td><td>cubic</td><td>5</td></tr><tr><th>8</th><td>2</td><td>missing</td><td>218</td><td>cubic</td><td>6</td></tr></tbody></table>"
      ],
      "text/latex": [
       "\\begin{tabular}{r|ccccc}\n",
       "\t& a & b & r & model & d\\\\\n",
       "\t\\hline\n",
       "\t& Int64⍰ & Int64⍰ & Int64⍰ & String⍰ & Int64⍰\\\\\n",
       "\t\\hline\n",
       "\t1 & 1 & 2 & 3 & linear &  \\\\\n",
       "\t2 & 1 & 3 & 4 & linear &  \\\\\n",
       "\t3 & 1 &  & 126 & cubic & 5 \\\\\n",
       "\t4 & 1 &  & 217 & cubic & 6 \\\\\n",
       "\t5 & 2 & 2 & 4 & linear &  \\\\\n",
       "\t6 & 2 & 3 & 5 & linear &  \\\\\n",
       "\t7 & 2 &  & 127 & cubic & 5 \\\\\n",
       "\t8 & 2 &  & 218 & cubic & 6 \\\\\n",
       "\\end{tabular}\n"
      ],
      "text/plain": [
       "8×5 DataFrame\n",
       "│ Row │ a      │ b       │ r      │ model   │ d       │\n",
       "│     │ \u001b[90mInt64⍰\u001b[39m │ \u001b[90mInt64⍰\u001b[39m  │ \u001b[90mInt64⍰\u001b[39m │ \u001b[90mString⍰\u001b[39m │ \u001b[90mInt64⍰\u001b[39m  │\n",
       "├─────┼────────┼─────────┼────────┼─────────┼─────────┤\n",
       "│ 1   │ 1      │ 2       │ 3      │ linear  │ \u001b[90mmissing\u001b[39m │\n",
       "│ 2   │ 1      │ 3       │ 4      │ linear  │ \u001b[90mmissing\u001b[39m │\n",
       "│ 3   │ 1      │ \u001b[90mmissing\u001b[39m │ 126    │ cubic   │ 5       │\n",
       "│ 4   │ 1      │ \u001b[90mmissing\u001b[39m │ 217    │ cubic   │ 6       │\n",
       "│ 5   │ 2      │ 2       │ 4      │ linear  │ \u001b[90mmissing\u001b[39m │\n",
       "│ 6   │ 2      │ 3       │ 5      │ linear  │ \u001b[90mmissing\u001b[39m │\n",
       "│ 7   │ 2      │ \u001b[90mmissing\u001b[39m │ 127    │ cubic   │ 5       │\n",
       "│ 8   │ 2      │ \u001b[90mmissing\u001b[39m │ 218    │ cubic   │ 6       │"
      ]
     },
     "execution_count": 81,
     "metadata": {},
     "output_type": "execute_result"
    }
   ],
   "source": [
    "using Query\n",
    "results"
   ]
  },
  {
   "attachments": {},
   "cell_type": "markdown",
   "metadata": {},
   "source": [
    "Let's perform some basic queries and then explain them. The basic query syntax is as follows"
   ]
  },
  {
   "cell_type": "code",
   "execution_count": 82,
   "metadata": {},
   "outputs": [
    {
     "data": {
      "text/html": [
       "<table class=\"data-frame\"><thead><tr><th></th><th>a</th><th>r</th></tr><tr><th></th><th>Int64⍰</th><th>Int64⍰</th></tr></thead><tbody><p>4 rows × 2 columns</p><tr><th>1</th><td>1</td><td>3</td></tr><tr><th>2</th><td>1</td><td>4</td></tr><tr><th>3</th><td>2</td><td>4</td></tr><tr><th>4</th><td>2</td><td>5</td></tr></tbody></table>"
      ],
      "text/latex": [
       "\\begin{tabular}{r|cc}\n",
       "\t& a & r\\\\\n",
       "\t\\hline\n",
       "\t& Int64⍰ & Int64⍰\\\\\n",
       "\t\\hline\n",
       "\t1 & 1 & 3 \\\\\n",
       "\t2 & 1 & 4 \\\\\n",
       "\t3 & 2 & 4 \\\\\n",
       "\t4 & 2 & 5 \\\\\n",
       "\\end{tabular}\n"
      ],
      "text/plain": [
       "4×2 DataFrame\n",
       "│ Row │ a      │ r      │\n",
       "│     │ \u001b[90mInt64⍰\u001b[39m │ \u001b[90mInt64⍰\u001b[39m │\n",
       "├─────┼────────┼────────┤\n",
       "│ 1   │ 1      │ 3      │\n",
       "│ 2   │ 1      │ 4      │\n",
       "│ 3   │ 2      │ 4      │\n",
       "│ 4   │ 2      │ 5      │"
      ]
     },
     "execution_count": 82,
     "metadata": {},
     "output_type": "execute_result"
    }
   ],
   "source": [
    "q = @from row in results begin\n",
    "    @where row.model == \"linear\"\n",
    "    @select {row.a, row.r}\n",
    "    @collect DataFrame\n",
    "end"
   ]
  },
  {
   "attachments": {},
   "cell_type": "markdown",
   "metadata": {},
   "source": [
    "same command, with comments"
   ]
  },
  {
   "cell_type": "code",
   "execution_count": 83,
   "metadata": {},
   "outputs": [
    {
     "data": {
      "text/html": [
       "<table class=\"data-frame\"><thead><tr><th></th><th>a</th><th>r</th></tr><tr><th></th><th>Int64⍰</th><th>Int64⍰</th></tr></thead><tbody><p>4 rows × 2 columns</p><tr><th>1</th><td>1</td><td>3</td></tr><tr><th>2</th><td>1</td><td>4</td></tr><tr><th>3</th><td>2</td><td>4</td></tr><tr><th>4</th><td>2</td><td>5</td></tr></tbody></table>"
      ],
      "text/latex": [
       "\\begin{tabular}{r|cc}\n",
       "\t& a & r\\\\\n",
       "\t\\hline\n",
       "\t& Int64⍰ & Int64⍰\\\\\n",
       "\t\\hline\n",
       "\t1 & 1 & 3 \\\\\n",
       "\t2 & 1 & 4 \\\\\n",
       "\t3 & 2 & 4 \\\\\n",
       "\t4 & 2 & 5 \\\\\n",
       "\\end{tabular}\n"
      ],
      "text/plain": [
       "4×2 DataFrame\n",
       "│ Row │ a      │ r      │\n",
       "│     │ \u001b[90mInt64⍰\u001b[39m │ \u001b[90mInt64⍰\u001b[39m │\n",
       "├─────┼────────┼────────┤\n",
       "│ 1   │ 1      │ 3      │\n",
       "│ 2   │ 1      │ 4      │\n",
       "│ 3   │ 2      │ 4      │\n",
       "│ 4   │ 2      │ 5      │"
      ]
     },
     "execution_count": 83,
     "metadata": {},
     "output_type": "execute_result"
    }
   ],
   "source": [
    "# `@from ... begin` initializes a query\n",
    "# here `row` (any name would be fine) is the \n",
    "# iterable of the tabular data. Think of it as a \n",
    "# NamedTuple. You can access its values by name.\n",
    "q = @from row in results begin\n",
    "    # `@where` filters elements where the following\n",
    "    # expression is true. \n",
    "    @where row.model == \"linear\"\n",
    "    # `@select { stuf... }  creates a new named tuple\n",
    "    @select {row.a, row.r}\n",
    "    # `@collect` collects the selected results into\n",
    "    # the specified data structure\n",
    "    @collect DataFrame\n",
    "end"
   ]
  },
  {
   "attachments": {},
   "cell_type": "markdown",
   "metadata": {},
   "source": [
    "Here is another query but with different contents"
   ]
  },
  {
   "cell_type": "code",
   "execution_count": 84,
   "metadata": {},
   "outputs": [
    {
     "data": {
      "text/html": [
       "<table class=\"data-frame\"><thead><tr><th></th><th>sin</th><th>cos</th></tr><tr><th></th><th>Float64⍰</th><th>Float64⍰</th></tr></thead><tbody><p>7 rows × 2 columns</p><tr><th>1</th><td>0.841471</td><td>-0.989992</td></tr><tr><th>2</th><td>0.841471</td><td>-0.653644</td></tr><tr><th>3</th><td>0.841471</td><td>-0.973642</td></tr><tr><th>4</th><td>0.909297</td><td>-0.653644</td></tr><tr><th>5</th><td>0.909297</td><td>0.283662</td></tr><tr><th>6</th><td>0.909297</td><td>0.232359</td></tr><tr><th>7</th><td>0.909297</td><td>-0.334137</td></tr></tbody></table>"
      ],
      "text/latex": [
       "\\begin{tabular}{r|cc}\n",
       "\t& sin & cos\\\\\n",
       "\t\\hline\n",
       "\t& Float64⍰ & Float64⍰\\\\\n",
       "\t\\hline\n",
       "\t1 & 0.841471 & -0.989992 \\\\\n",
       "\t2 & 0.841471 & -0.653644 \\\\\n",
       "\t3 & 0.841471 & -0.973642 \\\\\n",
       "\t4 & 0.909297 & -0.653644 \\\\\n",
       "\t5 & 0.909297 & 0.283662 \\\\\n",
       "\t6 & 0.909297 & 0.232359 \\\\\n",
       "\t7 & 0.909297 & -0.334137 \\\\\n",
       "\\end{tabular}\n"
      ],
      "text/plain": [
       "7×2 DataFrame\n",
       "│ Row │ sin      │ cos       │\n",
       "│     │ \u001b[90mFloat64⍰\u001b[39m │ \u001b[90mFloat64⍰\u001b[39m  │\n",
       "├─────┼──────────┼───────────┤\n",
       "│ 1   │ 0.841471 │ -0.989992 │\n",
       "│ 2   │ 0.841471 │ -0.653644 │\n",
       "│ 3   │ 0.841471 │ -0.973642 │\n",
       "│ 4   │ 0.909297 │ -0.653644 │\n",
       "│ 5   │ 0.909297 │ 0.283662  │\n",
       "│ 6   │ 0.909297 │ 0.232359  │\n",
       "│ 7   │ 0.909297 │ -0.334137 │"
      ]
     },
     "execution_count": 84,
     "metadata": {},
     "output_type": "execute_result"
    }
   ],
   "source": [
    "q = @from row in results begin\n",
    "    @where cos(row.r) < 0.5\n",
    "    @select {sin = sin(row.a), cos = cos(row.r)}\n",
    "    @collect DataFrame\n",
    "end"
   ]
  },
  {
   "attachments": {},
   "cell_type": "markdown",
   "metadata": {},
   "source": [
    "As you can see, you don't have to necessarily collect existing columns, you can even create new ones (specified by name).\n",
    "\n",
    "Of course, much, much more things are possible to do in such a query. For more, see the documentation of Query.jl."
   ]
  },
  {
   "cell_type": "markdown",
   "metadata": {},
   "source": [
    "# A final take-home message\n",
    "\n",
    "One thing that should really, _really_ be added a lot of weight, is how simple, transparent, and high level are the interfaces of everything that you have seen so far. Both base Julia, as well as most packages for it, have such a simple interface which means that people can learn the software faster and spend more time actually doing science than trying to figure out how to write the code.\n",
    "\n",
    "This is something that \"old\" programming languages typically fail at: most (young) people that use codebases written in C/FORTRAN without any high level API defined on top (in e.g. Python) always complain that it is \"so hard to use this stuff\".\n",
    "\n",
    "Julia = answer :) "
   ]
  },
  {
   "attachments": {},
   "cell_type": "markdown",
   "metadata": {},
   "source": [
    "# Exercises\n",
    "\n",
    "These exercises will require you to search things on the internet (because this is part of the process of \"learning a Julia package\").\n",
    "\n",
    "## Bouncing ball\n",
    "\n",
    "Using the callback functionality of DifferentialEquations.jl, implement the bouncing ball physical system:\n",
    "\n",
    "$$\n",
    "\\begin{aligned}\n",
    "\\dot{x} &= v \\\\\n",
    "\\dot{v} &= -g - \\gamma v \n",
    "\\end{aligned}\n",
    "$$\n",
    "and at $x=0$ there is a table that the ball bounces from. $g$ is the gravity constant and $\\gamma$ the air friction (use e.g. $g=10, \\gamma = 0.99, x = 1, v = 0$). Implement this problem for elastic collisions (elastic collisions preserve velocity measure), and plot the time evolution of $x, v$ versus time.\n",
    "\n",
    "*Hint: whenever the ball reaches the level $x=0$, its velocity should be reversed.*\n",
    "\n",
    "## Distribution quantile\n",
    "\n",
    "To find the $q$-th quantile of a distribution, one can use a Newton method\n",
    "\n",
    "$$\\theta_{n+1} = \\theta_n -\\frac{\\text{cdf}(\\theta)−q}{\\text{pdf}(\\theta)}$$\n",
    "\n",
    "where $\\theta_n$ converges to the value of the $q$-th quantile.\n",
    "\n",
    "Use multiple dispatch to write a generic algorithm for which calculates the qth quantile of any `UnivariateDistribution` in Distributions.jl, and test your result against the `quantile(d::UnivariateDistribution, q::Number)` function from Distributions.jl using the following distributions: `[Gamma(5, 1), Normal(0, 1), Beta(2, 4)]`.\n",
    "\n",
    "*Hint: use `θ0 = mean(distribution)`*\n",
    "\n",
    "## Plotting subsets of a dataframe\n",
    "\n",
    "`DataFrames` has a default dataset that is used in its test suite. Install the `CSV` package, and load this dataset with the command:\n",
    "```julia\n",
    "using DataFrames, CSV\n",
    "iris = DataFrame(CSV.File(\n",
    "    joinpath(dirname(pathof(DataFrames)), \n",
    "    \"../docs/src/assets/iris.csv\")\n",
    "))\n",
    "```\n",
    "\n",
    "This dataset has various flower species (column `:Species`). For every species create a 1x2 figure with the following plots:\n",
    "\n",
    "* [1,1] = scatter plot of `SepalLength` vs `SepalWidth`. \n",
    "2. [1,2] = scatter plot of `PetalLength` vs `PetalWidth`.\n",
    "\n",
    "for each of these sub-scatter plots, calculate and print the Pearson correlaton coefficient.\n",
    "\n",
    "## DataFrame of chaos\n",
    "\n",
    "Define the Roessler system as a `DynamicalSystem`:\n",
    "$$\n",
    "\\begin{aligned}\n",
    "\\dot{x} &= -y-z \\\\\n",
    "\\dot{y} &= x+ay \\\\\n",
    "\\dot{z} &= b + z(x-c)\n",
    "\\end{aligned}\n",
    "$$\n",
    "with initial condition `ones(3)`. Loop over all three of the following parameter ranges:\n",
    "```julia\n",
    "as = 0.15:0.025:0.25\n",
    "bs = 0.15:0.025:0.25\n",
    "cs = 4:0.1:6.0\n",
    "```\n",
    "and for each parameter combination calculate (1) the Lyapunov spectrum and (2) the shannon entropy of the system's trajectory. (For the entropy, evolve the system with `dt=0.1` and use `ε=0.1` for the box size. For changing parameters you have to use `set_parameter!`).\n",
    "\n",
    "Collect this analysis into a dataframe, with columns `a, b, c, λ1, λ2, H`. Then use the querying framework to query into this dataframe and do the following processes:\n",
    "\n",
    "####  find chaotic parameter sets\n",
    "Select all values `a, b, c` where `λ1 > 0.01` (which indicates chaotic dynamics).\n",
    "\n",
    "####  λ vs H\n",
    "For all chaotic cases, select the `λ1, H` values and then perform a scatter plot of these two.\n",
    "\n",
    "#### heatmap of H\n",
    "For `a` fixed to `0.2`, plot a heatmap of the value of `H` with axis the values of `c` and the values of `b`. Provided that you have a dataframe with columns `:b, :c, :H`, then these commands:\n",
    "```julia\n",
    "unstacked = unstack(heatdf, :b,  :H; renamecols = (x -> \"H for b=$(x)\"))\n",
    "heat = Matrix(unstacked[:, Not(:c)])\n",
    "```\n",
    "will create a matrix with the values of `H` where the row index is the values of `c` and the column index is the values of `b`.\n",
    "\n",
    "*Hint: you can initiallize an empty dataframe with `df = DataFrame()`, and then start pushing into it arbitrary named tuples like `push!(df, (a = 0.5, b = 0.5))`.*\n",
    "\n",
    "*Hint 2: this all sounds like a lot of computation, but if you do the exercise correct running all code should not take more than 10 seconds.*\n",
    "\n",
    "\n",
    "## Reproducible scientific project\n",
    "*this exercise only applies to participants that already know Git*\n",
    "\n",
    "* Use DrWatson's `initialize_project` to start a scientific project somewhere on your computer. \n",
    "* Add the package `BSON` to this project. \n",
    "* In the `scripts` folder create a new Julia script that uses three parameters `a, b, c ∈ Reals` and creates a random result `r`. Save this result into disk by using `savename` to produce a name from `a, b, c`, and using `tagsave` to do the actual saving.\n",
    "* Save your script, and commit it into Git. Then run the script, load the saved file, and confirm that the saved git commit ID matches that of your Git repo.\n"
   ]
  }
 ],
 "metadata": {
  "kernelspec": {
   "display_name": "Julia 1.9.1",
   "language": "julia",
   "name": "julia-1.9"
  },
  "language_info": {
   "file_extension": ".jl",
   "mimetype": "application/julia",
   "name": "julia",
   "version": "1.9.1"
  }
 },
 "nbformat": 4,
 "nbformat_minor": 2
}
