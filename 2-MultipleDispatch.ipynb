{
 "cells": [
  {
   "cell_type": "markdown",
   "metadata": {},
   "source": [
    "# Preface: The most INSANE language composability showcase you will ever see 😮 😱 😲"
   ]
  },
  {
   "attachments": {},
   "cell_type": "markdown",
   "metadata": {},
   "source": [
    "This workshop goes through Julia's core programming paradigm, **multiple dispatch**. It is arguably the reason Julia is able to overcome many difficulties plaguing other programming environments, and it is a prime reason of why Julia is a programming language most suitable for science.\n",
    "\n",
    "We first load some packages to showcase this powerful system."
   ]
  },
  {
   "cell_type": "code",
   "execution_count": 1,
   "metadata": {},
   "outputs": [
    {
     "name": "stderr",
     "output_type": "stream",
     "text": [
      "\u001b[32m\u001b[1m  Activating\u001b[22m\u001b[39m project at `c:\\Users\\datse\\OneDrive - University of Exeter\\Teaching\\Zero2Hero-JuliaWorkshop`\n"
     ]
    },
    {
     "name": "stderr",
     "output_type": "stream",
     "text": [
      "\u001b[32m\u001b[1m   Resolving\u001b[22m\u001b[39m package versions...\n"
     ]
    },
    {
     "name": "stderr",
     "output_type": "stream",
     "text": [
      "\u001b[32m\u001b[1m  No Changes\u001b[22m\u001b[39m to `C:\\Users\\datse\\OneDrive - University of Exeter\\Teaching\\Zero2Hero-JuliaWorkshop\\Project.toml`\n",
      "\u001b[32m\u001b[1m  No Changes\u001b[22m\u001b[39m to `C:\\Users\\datse\\OneDrive - University of Exeter\\Teaching\\Zero2Hero-JuliaWorkshop\\Manifest.toml`\n"
     ]
    }
   ],
   "source": [
    "import Pkg\n",
    "Pkg.activate(@__DIR__)\n",
    "Pkg.add([\"OrdinaryDiffEq\", \"DualNumbers\", \"Symbolics\", \"MonteCarloMeasurements\", \"Distributions\"])"
   ]
  },
  {
   "cell_type": "markdown",
   "metadata": {},
   "source": [
    "Consider the expression $f(x, y) = \\sin(xy)^2$, but in a context agnostic to what $x, y$ is. A Julia function for this is"
   ]
  },
  {
   "cell_type": "code",
   "execution_count": 2,
   "metadata": {},
   "outputs": [
    {
     "data": {
      "text/plain": [
       "f (generic function with 1 method)"
      ]
     },
     "metadata": {},
     "output_type": "display_data"
    }
   ],
   "source": [
    "f(x, y) = sin(x*y)^2"
   ]
  },
  {
   "cell_type": "markdown",
   "metadata": {},
   "source": [
    "In Julia, this function can be called with anything that supports the mathematical abstraction the function alludes to. For example:"
   ]
  },
  {
   "cell_type": "code",
   "execution_count": 3,
   "metadata": {},
   "outputs": [
    {
     "data": {
      "text/plain": [
       "1.4997597826618576e-32"
      ]
     },
     "metadata": {},
     "output_type": "display_data"
    }
   ],
   "source": [
    "f(1.0, π) # reals"
   ]
  },
  {
   "cell_type": "code",
   "execution_count": 4,
   "metadata": {},
   "outputs": [
    {
     "data": {
      "text/plain": [
       "4×4 Matrix{Float64}:\n",
       " 0.180179  0.20351   0.0912161  0.335985\n",
       " 0.215941  0.241658  0.107444   0.393073\n",
       " 0.109067  0.12624   0.0577636  0.216414\n",
       " 0.201274  0.230664  0.104675   0.389541"
      ]
     },
     "metadata": {},
     "output_type": "display_data"
    }
   ],
   "source": [
    "f(rand(4,2), rand(2,4)) # matrices (sine of a matrix is well defined)"
   ]
  },
  {
   "cell_type": "code",
   "execution_count": 5,
   "metadata": {},
   "outputs": [
    {
     "data": {
      "text/plain": [
       "0.00039994666951103004 + 0.003998933418663417ɛ"
      ]
     },
     "metadata": {},
     "output_type": "display_data"
    }
   ],
   "source": [
    "using DualNumbers # numbers that carry a function derivative along them; used in automatic differentiation\n",
    "x = Dual(0.1, 0.5)\n",
    "y = Dual(0.2, 0)\n",
    "f(x, y) # returns a dual number (has numeric derivative)"
   ]
  },
  {
   "cell_type": "code",
   "execution_count": 6,
   "metadata": {},
   "outputs": [
    {
     "data": {
      "text/plain": [
       "0.14134 ± 0.212 Particles{Float64, 2000}\n"
      ]
     },
     "metadata": {},
     "output_type": "display_data"
    }
   ],
   "source": [
    "using MonteCarloMeasurements # numbers that actually represent a probability distribution\n",
    "using Distributions: Exponential # package offering probability distributions\n",
    "x = π ± 0.1 # normally distributed variable\n",
    "y = Particles(2000, Exponential(0.1)) # exponentially distributed variable\n",
    "f(x, y) # returns a probability distribution (monte carlo sampled particles)"
   ]
  },
  {
   "cell_type": "code",
   "execution_count": 7,
   "metadata": {},
   "outputs": [
    {
     "data": {
      "text/latex": [
       "$$ \\begin{equation}\n",
       "2 y \\cos\\left( x y \\right) \\sin\\left( x y \\right)\n",
       "\\end{equation}\n",
       " $$"
      ],
      "text/plain": [
       "2y*cos(x*y)*sin(x*y)"
      ]
     },
     "metadata": {},
     "output_type": "display_data"
    }
   ],
   "source": [
    "using Symbolics # next-gen symbolic math library\n",
    "@variables x y # symbolic variables instead of real numbers\n",
    "expression = f(x, y) # returns a symbolic expression\n",
    "expand_derivatives(Differential(x)(expression)) # that can be used in symbolic algebra"
   ]
  },
  {
   "cell_type": "markdown",
   "metadata": {},
   "source": [
    "_Huh, seems cool, but why does it matter...?_\n",
    "\n",
    "Well, think that you were using the `sin` function inside, well, let's say, a differential equation code. For example to solve the differential equation of the simple pendulum (in normalized units)\n",
    "$$\n",
    "\\begin{align}\n",
    "\\theta ' &= \\omega \\\\\n",
    "\\omega ' &= - \\sin(\\theta)\n",
    "\\end{align}\n",
    "$$\n",
    "we would write the simple code (unoptimized simplified example)"
   ]
  },
  {
   "cell_type": "code",
   "execution_count": 8,
   "metadata": {},
   "outputs": [
    {
     "data": {
      "text/plain": [
       "retcode: Success\n",
       "Interpolation: 3rd order Hermite\n",
       "t: 2001-element Vector{Float64}:\n",
       "  0.0\n",
       "  0.01\n",
       "  0.02\n",
       "  0.03\n",
       "  0.04\n",
       "  0.05\n",
       "  0.060000000000000005\n",
       "  0.07\n",
       "  0.08\n",
       "  0.09\n",
       "  ⋮\n",
       " 19.920000000000314\n",
       " 19.930000000000316\n",
       " 19.940000000000317\n",
       " 19.95000000000032\n",
       " 19.96000000000032\n",
       " 19.970000000000322\n",
       " 19.980000000000324\n",
       " 19.990000000000325\n",
       " 20.0\n",
       "u: 2001-element Vector{Vector{Float64}}:\n",
       " [0.0, 1.0471975511965976]\n",
       " [0.010471975511965976, 1.0471975511965976]\n",
       " [0.020943951023931952, 1.0470928333554352]\n",
       " [0.031414879357486304, 1.0468834091566017]\n",
       " [0.04188371344905232, 1.0465693120324375]\n",
       " [0.05234940656937669, 1.046150597344396]\n",
       " [0.06281091254282066, 1.0456273423483986]\n",
       " [0.07326718596630465, 1.0449996461453193]\n",
       " [0.08371718242775784, 1.0442676296166633]\n",
       " [0.09415985872392447, 1.043431435345513]\n",
       " ⋮\n",
       " [-0.6752209213516657, 0.9208694250633547]\n",
       " [-0.6660122271010321, 0.9271201228264722]\n",
       " [-0.6567410258727674, 0.9332986763761494]\n",
       " [-0.6474080391090059, 0.9394040667397529]\n",
       " [-0.6380139984416083, 0.945435276310509]\n",
       " [-0.6285596456785032, 0.9513912893230593]\n",
       " [-0.6190457327852726, 0.9572710923361132]\n",
       " [-0.6094730218619115, 0.9630736747218571]\n",
       " [-0.5998422851150063, 0.9687980291615688]"
      ]
     },
     "metadata": {},
     "output_type": "display_data"
    }
   ],
   "source": [
    "using OrdinaryDiffEq # for solving ODEs\n",
    "pendulum(u, p, t) = [u[2], -sin(u[1])] # return the derivative given state, parameters, time\n",
    "u0 = [0, π/3] # initial condition for solving the ODE\n",
    "tspan = (0.0, 20.0) # timespan to solve in\n",
    "prob = ODEProblem(pendulum, u0, tspan)\n",
    "sol = solve(prob, Euler(); dt = 0.01)"
   ]
  },
  {
   "cell_type": "markdown",
   "metadata": {},
   "source": [
    "What would happen if for the initial state we used a dual number (which would enable automatic differentiation to run through our differential equation solving)?"
   ]
  },
  {
   "cell_type": "code",
   "execution_count": 9,
   "metadata": {},
   "outputs": [
    {
     "data": {
      "text/plain": [
       "2001-element Vector{Vector{Dual128}}:\n",
       " [0.0 + 0.0ɛ, 1.0471975511965976 + 0.2ɛ]\n",
       " [0.010471975511965976 + 0.002ɛ, 1.0471975511965976 + 0.2ɛ]\n",
       " [0.020943951023931952 + 0.004ɛ, 1.0470928333554352 + 0.1999800010966127ɛ]\n",
       " [0.031414879357486304 + 0.005999800010966127ɛ, 1.0468834091566017 + 0.1999400098692737ɛ]\n",
       " [0.04188371344905232 + 0.007999200109658863ɛ, 1.0465693120324375 + 0.19988004147258182ɛ]\n",
       " [0.05234940656937669 + 0.009998000524384681ɛ, 1.046150597344396 + 0.199800119624031ɛ]\n",
       " [0.06281091254282065 + 0.011996001720624991ɛ, 1.0456273423483986 + 0.19970027658312506ɛ]\n",
       " [0.07326718596630463 + 0.013993004486456241ɛ, 1.0449996461453193 + 0.1995805531219053ɛ]\n",
       " [0.08371718242775783 + 0.015988810017675294ɛ, 1.0442676296166633 + 0.19944099848693514ɛ]\n",
       " [0.09415985872392446 + 0.017983220002544646ɛ, 1.043431435345513 + 0.19928167035279915ɛ]\n",
       " ⋮\n",
       " [-0.6752209213516684 - 0.8503582725709029ɛ, 0.9208694250633537 - 0.32113545402133725ɛ]\n",
       " [-0.6660122271010349 - 0.8535696271111163ɛ, 0.9271201228264712 - 0.31449782198630993ɛ]\n",
       " [-0.6567410258727702 - 0.8567146053309794ɛ, 0.9332986763761484 - 0.3077862741878133ɛ]\n",
       " [-0.6474080391090087 - 0.8597924680728576ɛ, 0.9394040667397519 - 0.3010012130426063ɛ]\n",
       " [-0.6380139984416111 - 0.8628024802032837ɛ, 0.945435276310508 - 0.2941430806380831ɛ]\n",
       " [-0.628559645678506 - 0.8657439110096645ɛ, 0.9513912893230583 - 0.2872123590945541ɛ]\n",
       " [-0.6190457327852754 - 0.8686160346006101ɛ, 0.9572710923361123 - 0.280209570895626ɛ]\n",
       " [-0.6094730218619143 - 0.8714181303095664ɛ, 0.9630736747218562 - 0.2731352791856272ɛ]\n",
       " [-0.599842285115009 - 0.8741494831013338ɛ, 0.968798029161568 - 0.26599008803328544ɛ]"
      ]
     },
     "metadata": {},
     "output_type": "display_data"
    }
   ],
   "source": [
    "u0_dual = [Dual(0.0, 0.0), Dual(π/3, 0.2)]\n",
    "prob_dual = ODEProblem(pendulum, u0_dual, tspan)\n",
    "sol_dual = solve(prob_dual, Euler(); dt = 0.01)\n",
    "sol_dual.u # vector with the solution"
   ]
  },
  {
   "cell_type": "markdown",
   "metadata": {},
   "source": [
    "What would happen if for the initial state we used an uncertain value distribution?"
   ]
  },
  {
   "cell_type": "code",
   "execution_count": 10,
   "metadata": {},
   "outputs": [
    {
     "data": {
      "text/plain": [
       "2001-element Vector{Vector{Particles{Float64, 2000}}}:\n",
       " [1.36e-18 ± 0.1, 1.05 ± 0.2]\n",
       " [0.0105 ± 0.1, 1.05 ± 0.2]\n",
       " [0.0209 ± 0.1, 1.05 ± 0.2]\n",
       " [0.0314 ± 0.1, 1.05 ± 0.2]\n",
       " [0.0419 ± 0.1, 1.05 ± 0.2]\n",
       " [0.0523 ± 0.1, 1.05 ± 0.2]\n",
       " [0.0628 ± 0.1, 1.05 ± 0.2]\n",
       " [0.0733 ± 0.1, 1.05 ± 0.2]\n",
       " [0.0837 ± 0.1, 1.04 ± 0.2]\n",
       " [0.0942 ± 0.1, 1.04 ± 0.2]\n",
       " ⋮\n",
       " [-0.66 ± 0.6, 0.608 ± 0.52]\n",
       " [-0.654 ± 0.6, 0.614 ± 0.52]\n",
       " [-0.648 ± 0.61, 0.619 ± 0.52]\n",
       " [-0.641 ± 0.61, 0.624 ± 0.52]\n",
       " [-0.635 ± 0.61, 0.629 ± 0.51]\n",
       " [-0.629 ± 0.61, 0.634 ± 0.51]\n",
       " [-0.623 ± 0.62, 0.638 ± 0.51]\n",
       " [-0.616 ± 0.62, 0.643 ± 0.51]\n",
       " [-0.61 ± 0.62, 0.648 ± 0.51]"
      ]
     },
     "metadata": {},
     "output_type": "display_data"
    }
   ],
   "source": [
    "u0_uncertain = [0 ± 0.1, π/3 ± 0.2]\n",
    "prob_uncertain = ODEProblem(pendulum, u0_uncertain, tspan)\n",
    "sol_uncertain = solve(prob_uncertain, Euler(); dt = 0.01)\n",
    "sol_uncertain.u # vector with the solution"
   ]
  },
  {
   "cell_type": "markdown",
   "metadata": {},
   "source": [
    "Notice that I am not cheating here: there is **no glue code** between `OrdinaryDiffeq, DualNumbers, MonteCarloMeasurements`. The language enables this interaction natively. In fact, this exact system is the basis for implementing neural ODEs in Julia, where part of the equations are Neural Networks!\n",
    "\n",
    "This incredible amount of power could not occur in e.g., Python, because it doesn't have one `sin` function. There is `pytorch.sin, numpy.sin, sympy.sin`. You would have to re-write your code three times for machine learning (autodiff), standard ODE solving, symbolic numerics, etc.\n",
    "\n",
    "Let's see how Julia makes all of this possible!"
   ]
  },
  {
   "attachments": {},
   "cell_type": "markdown",
   "metadata": {},
   "source": [
    "# Types\n",
    "\n",
    "As eluded to in the previous lecture, all values in Julia have a specific Type. The Type system (i.e. the hierarchy of \"data identities\" anything in Julia has) is the the basis of multiple dispatch (next section). \n",
    "Julia's type system is dynamic but also allows to indicate that certain values are of specific type (i.e. static typing).\n",
    "\n",
    "**Quick important notice: \"Types\" are written in CamelCase by convention: `String`, `AbstractVector`, `Float64` while \"values\" and \"functions\" use lowercase `string`, `vector`, `float`.**\n",
    "\n",
    "## Type tree\n",
    "\n",
    "All values in Julia have a type that belongs to a single, fully connected type tree, all nodes of which are equally first-class as types. There is no distinction between native Julia types and user-created ones.\n",
    "\n",
    "The \"central\" node of this tree is `Any`, which literally means any possible value. The functions `subtypes` and `supertype` show the children or the parent of a node in this tree."
   ]
  },
  {
   "cell_type": "code",
   "execution_count": 1,
   "metadata": {},
   "outputs": [
    {
     "data": {
      "text/plain": [
       "Type[]"
      ]
     },
     "metadata": {},
     "output_type": "display_data"
    }
   ],
   "source": [
    "subtypes(Float64) # this does not have subtypes, it is a \"leaf\" of the Type tree"
   ]
  },
  {
   "cell_type": "code",
   "execution_count": 2,
   "metadata": {},
   "outputs": [
    {
     "data": {
      "text/plain": [
       "AbstractFloat"
      ]
     },
     "metadata": {},
     "output_type": "display_data"
    }
   ],
   "source": [
    "supertype(Float64)"
   ]
  },
  {
   "attachments": {},
   "cell_type": "markdown",
   "metadata": {},
   "source": [
    "Notice that `subtypes/supertype` must take a Type as an input, not a value! E.g. `subtypes(5.0)` fails, as `5.0` is not a type, but it is instead an *instance* of the type `Float64`."
   ]
  },
  {
   "cell_type": "code",
   "execution_count": 3,
   "metadata": {},
   "outputs": [
    {
     "data": {
      "text/plain": [
       "Real"
      ]
     },
     "metadata": {},
     "output_type": "display_data"
    }
   ],
   "source": [
    "supertype(AbstractFloat)"
   ]
  },
  {
   "cell_type": "code",
   "execution_count": 4,
   "metadata": {},
   "outputs": [
    {
     "data": {
      "text/plain": [
       "Number"
      ]
     },
     "metadata": {},
     "output_type": "display_data"
    }
   ],
   "source": [
    "supertype(Real)"
   ]
  },
  {
   "cell_type": "code",
   "execution_count": 5,
   "metadata": {},
   "outputs": [
    {
     "data": {
      "text/plain": [
       "Any"
      ]
     },
     "metadata": {},
     "output_type": "display_data"
    }
   ],
   "source": [
    "supertype(Number)"
   ]
  },
  {
   "attachments": {},
   "cell_type": "markdown",
   "metadata": {},
   "source": [
    "We've reached the \"central\" node of the Type tree. Here is a nice convenient way to show the rest of the tree that starts from a given Type using the package AbstractTrees.jl"
   ]
  },
  {
   "cell_type": "code",
   "execution_count": 6,
   "metadata": {},
   "outputs": [
    {
     "name": "stderr",
     "output_type": "stream",
     "text": [
      "\u001b[32m\u001b[1m  Activating\u001b[22m\u001b[39m project at `c:\\Users\\gd419\\OneDrive - University of Exeter\\Teaching\\Zero2Hero-JuliaWorkshop`"
     ]
    },
    {
     "name": "stderr",
     "output_type": "stream",
     "text": [
      "\n"
     ]
    },
    {
     "name": "stderr",
     "output_type": "stream",
     "text": [
      "\u001b[32m\u001b[1m   Resolving\u001b[22m\u001b[39m package versions..."
     ]
    },
    {
     "name": "stderr",
     "output_type": "stream",
     "text": [
      "\n",
      "\u001b[32m\u001b[1m    Updating\u001b[22m\u001b[39m `C:\\Users\\gd419\\OneDrive - University of Exeter\\Teaching\\Zero2Hero-JuliaWorkshop\\Project.toml`\n",
      "  \u001b[90m[1520ce14] \u001b[39m\u001b[92m+ AbstractTrees v0.4.4\u001b[39m\n",
      "\u001b[32m\u001b[1m  No Changes\u001b[22m\u001b[39m to `C:\\Users\\gd419\\OneDrive - University of Exeter\\Teaching\\Zero2Hero-JuliaWorkshop\\Manifest.toml`"
     ]
    },
    {
     "name": "stderr",
     "output_type": "stream",
     "text": [
      "\n"
     ]
    }
   ],
   "source": [
    "import Pkg\n",
    "Pkg.activate(@__DIR__)\n",
    "Pkg.add(\"AbstractTrees\") # don't forget to add if need be\n",
    "import AbstractTrees"
   ]
  },
  {
   "cell_type": "code",
   "execution_count": 7,
   "metadata": {},
   "outputs": [
    {
     "name": "stdout",
     "output_type": "stream",
     "text": [
      "Number"
     ]
    },
    {
     "name": "stdout",
     "output_type": "stream",
     "text": [
      "\n",
      "├─ Complex\n",
      "└─ Real\n",
      "   ├─ AbstractFloat\n"
     ]
    },
    {
     "name": "stdout",
     "output_type": "stream",
     "text": [
      "   │  ├─ BigFloat\n",
      "   │  ├─ Float16\n",
      "   │  ├─ Float32\n",
      "   │  └─ Float64\n",
      "   ├─ AbstractIrrational\n",
      "   │  └─ Irrational\n",
      "   ├─ Integer\n",
      "   │  ├─ Bool\n",
      "   │  ├─ Signed\n",
      "   │  │  ├─ BigInt\n",
      "   │  │  ├─ Int128\n",
      "   │  │  ├─ Int16\n",
      "   │  │  ├─ Int32\n",
      "   │  │  ├─ Int64\n",
      "   │  │  └─ Int8\n",
      "   │  └─ Unsigned\n",
      "   │     ├─ UInt128\n",
      "   │     ├─ UInt16\n"
     ]
    },
    {
     "name": "stdout",
     "output_type": "stream",
     "text": [
      "   │     ├─ UInt32\n",
      "   │     ├─ UInt64\n",
      "   │     └─ UInt8\n",
      "   └─ Rational\n"
     ]
    }
   ],
   "source": [
    "AbstractTrees.children(x::Type) = subtypes(x)\n",
    "AbstractTrees.print_tree(Number)"
   ]
  },
  {
   "attachments": {},
   "cell_type": "markdown",
   "metadata": {},
   "source": [
    "In addition, the operator `<:` means \"subtype of\", for example"
   ]
  },
  {
   "cell_type": "code",
   "execution_count": 8,
   "metadata": {},
   "outputs": [
    {
     "data": {
      "text/plain": [
       "true"
      ]
     },
     "metadata": {},
     "output_type": "display_data"
    }
   ],
   "source": [
    "Float64 <: Number"
   ]
  },
  {
   "cell_type": "code",
   "execution_count": 9,
   "metadata": {},
   "outputs": [
    {
     "data": {
      "text/plain": [
       "false"
      ]
     },
     "metadata": {},
     "output_type": "display_data"
    }
   ],
   "source": [
    "Float64 <: Int"
   ]
  },
  {
   "attachments": {},
   "cell_type": "markdown",
   "metadata": {},
   "source": [
    "## Abstract and concrete types\n",
    "\n",
    "Concrete types are anything that can be actually instantiated. Any value that exists in Julia code that is running always has a concrete type. On the other hand, abstract types exist only to establish hierarchical relations between the concrete types. At the moment we don't have a reason for hierarchical relations, but once we talk about Multiple Dispatch this reason will become apparent.\n",
    "\n",
    "In terms of mathematical reasoning, the distinction between abstract and concrete is simple: concrete types are leaves of the Type tree, while abstract types are anything else.\n",
    "\n",
    "Based on the above tree of the `Number` type, one can see that `Number, Real, AbstractFloat` are all abstract types, while `Float64, Float32` are concrete. "
   ]
  },
  {
   "attachments": {},
   "cell_type": "markdown",
   "metadata": {},
   "source": [
    "## Custom types\n",
    "\n",
    "It is of course possible to create your own Types. This happens with the `struct` and `mutable struct` keywords like so"
   ]
  },
  {
   "cell_type": "code",
   "execution_count": 10,
   "metadata": {},
   "outputs": [],
   "source": [
    "struct A\n",
    "    x\n",
    "    y\n",
    "end\n",
    "\n",
    "mutable struct B\n",
    "    x\n",
    "    y\n",
    "end"
   ]
  },
  {
   "attachments": {},
   "cell_type": "markdown",
   "metadata": {},
   "source": [
    "Types are instantiated by calling them as if they are functions, with arguments their fields (this is the \"default\" constructor, and one can make any arbitrary constructor they want)."
   ]
  },
  {
   "cell_type": "code",
   "execution_count": 11,
   "metadata": {},
   "outputs": [
    {
     "data": {
      "text/plain": [
       "A(1, 2)"
      ]
     },
     "metadata": {},
     "output_type": "display_data"
    }
   ],
   "source": [
    "a = A(1, 2)"
   ]
  },
  {
   "cell_type": "code",
   "execution_count": 12,
   "metadata": {},
   "outputs": [
    {
     "data": {
      "text/plain": [
       "B(2, 3)"
      ]
     },
     "metadata": {},
     "output_type": "display_data"
    }
   ],
   "source": [
    "b = B(2,3)"
   ]
  },
  {
   "attachments": {},
   "cell_type": "markdown",
   "metadata": {},
   "source": [
    "Here the *values* `a, b` are *instances* of the *Types* `A, B`. The difference between the two is that the `mutable` keyword establishes that any instance of type `B` can be mutated in place. This is not possible for `A`, and the only way to change its values is to make a new instance of `A` alltogether.\n",
    "\n",
    "Accessing the *fields* of the a Type is done by `a.fieldname`"
   ]
  },
  {
   "cell_type": "code",
   "execution_count": 13,
   "metadata": {},
   "outputs": [
    {
     "data": {
      "text/plain": [
       "(1, 2)"
      ]
     },
     "metadata": {},
     "output_type": "display_data"
    }
   ],
   "source": [
    "(a.x, b.x)"
   ]
  },
  {
   "cell_type": "code",
   "execution_count": 14,
   "metadata": {},
   "outputs": [
    {
     "data": {
      "text/plain": [
       "5"
      ]
     },
     "metadata": {},
     "output_type": "display_data"
    }
   ],
   "source": [
    "b.x = 5 # possible because b (of type B) is mutable"
   ]
  },
  {
   "cell_type": "code",
   "execution_count": 15,
   "metadata": {},
   "outputs": [
    {
     "ename": "ErrorException",
     "evalue": "setfield!: immutable struct of type A cannot be changed",
     "output_type": "error",
     "traceback": [
      "setfield!: immutable struct of type A cannot be changed\n",
      "\n",
      "Stacktrace:\n",
      " [1] setproperty!(x::A, f::Symbol, v::Int64)\n",
      "   @ Base .\\Base.jl:38\n",
      " [2] top-level scope\n",
      "   @ c:\\Users\\gd419\\OneDrive - University of Exeter\\Teaching\\Zero2Hero-JuliaWorkshop\\2-MultipleDispatch.ipynb:1"
     ]
    }
   ],
   "source": [
    "a.x = 5 # impossible"
   ]
  },
  {
   "attachments": {},
   "cell_type": "markdown",
   "metadata": {},
   "source": [
    "Notice that the way we defined `A, B` here is **bad for performance**. The fields `x, y` can have any possible Type, as we added no restrictions to them. This means that once a function gets an instance of `A`, the compiler cannot optimize this function, as it is impossible to know by the type `A` what are the actual data structures involved. This is another form of Type instability that we discussed in the first session!\n",
    "\n",
    "To avoid this, use the type assertion operator `::` to enforce a Type to the fields of a `struct` definition."
   ]
  },
  {
   "cell_type": "code",
   "execution_count": 16,
   "metadata": {},
   "outputs": [],
   "source": [
    "struct Agood\n",
    "    x::Float64\n",
    "    y::Float64\n",
    "    z::String\n",
    "end"
   ]
  },
  {
   "cell_type": "code",
   "execution_count": 17,
   "metadata": {},
   "outputs": [
    {
     "data": {
      "text/plain": [
       "Agood(1.0, 1.0, \"best language evaaaah\")"
      ]
     },
     "metadata": {},
     "output_type": "display_data"
    }
   ],
   "source": [
    "julia = Agood(1, 1, \"best language evaaaah\")"
   ]
  },
  {
   "attachments": {},
   "cell_type": "markdown",
   "metadata": {},
   "source": [
    "This is means that `Agood` is **concretely typed**. (super-duper important by the way)"
   ]
  },
  {
   "attachments": {},
   "cell_type": "markdown",
   "metadata": {},
   "source": [
    "### Abstract types\n",
    "\n",
    "As we specified no subtyping rule for `A, B`, they are by definition subtypes of the central node of the tree, `Any`. Abstract types are meaningful for subtyping relations.\n",
    "\n",
    "Abstract types are defined with the `abstract type` keyword"
   ]
  },
  {
   "cell_type": "code",
   "execution_count": 18,
   "metadata": {},
   "outputs": [],
   "source": [
    "abstract type C end"
   ]
  },
  {
   "attachments": {},
   "cell_type": "markdown",
   "metadata": {},
   "source": [
    "At the moment `C` is a subtype of `Any`. It is an abstract type so it is impossible to instantiate:"
   ]
  },
  {
   "cell_type": "code",
   "execution_count": 19,
   "metadata": {},
   "outputs": [
    {
     "ename": "MethodError",
     "evalue": "MethodError: no constructors have been defined for C",
     "output_type": "error",
     "traceback": [
      "MethodError: no constructors have been defined for C\n",
      "\n",
      "Stacktrace:\n",
      " [1] top-level scope\n",
      "   @ c:\\Users\\gd419\\OneDrive - University of Exeter\\Teaching\\Zero2Hero-JuliaWorkshop\\2-MultipleDispatch.ipynb:1"
     ]
    }
   ],
   "source": [
    "C(4)"
   ]
  },
  {
   "attachments": {},
   "cell_type": "markdown",
   "metadata": {},
   "source": [
    "To make `C` useful, we can create some subtypes of `C` using the subtyping operator `<:`"
   ]
  },
  {
   "cell_type": "code",
   "execution_count": 20,
   "metadata": {},
   "outputs": [],
   "source": [
    "struct D <: C\n",
    "    d::Number\n",
    "end"
   ]
  },
  {
   "attachments": {},
   "cell_type": "markdown",
   "metadata": {},
   "source": [
    "Now `D` is a subtype of `C`:"
   ]
  },
  {
   "cell_type": "code",
   "execution_count": 21,
   "metadata": {},
   "outputs": [
    {
     "data": {
      "text/plain": [
       "1-element Vector{Any}:\n",
       " D"
      ]
     },
     "metadata": {},
     "output_type": "display_data"
    }
   ],
   "source": [
    "subtypes(C)"
   ]
  },
  {
   "attachments": {},
   "cell_type": "markdown",
   "metadata": {},
   "source": [
    "Just to be clear, the above definition of `D` is **also type-unstable**. Sure, it is better to specific that the field of `D` is some subtype of `Number`, but `Number` is still an abstract type!"
   ]
  },
  {
   "attachments": {},
   "cell_type": "markdown",
   "metadata": {},
   "source": [
    "## Parametric types\n",
    "\n",
    "Julia types can be parameterized based on other types, meaning that you can indeed make a field of a type to be \"anything that is a number\", and still be type stable!\n",
    "\n",
    "This is very useful for reducing code replication as well as leveraging multiple dispatch more. Type-parameterization means that when defining a `struct`, the fields of the struct could be of an arbitrary Type. Type-parameterization uses the curly brackets syntax. For example:"
   ]
  },
  {
   "cell_type": "code",
   "execution_count": 22,
   "metadata": {},
   "outputs": [],
   "source": [
    "struct Alpha{T}\n",
    "    a::T\n",
    "    b::T\n",
    "end"
   ]
  },
  {
   "attachments": {},
   "cell_type": "markdown",
   "metadata": {},
   "source": [
    "Here the type `Alpha` can be instantiated using the low level constructor `Alpha{Type}(val1, val2)`, which will convert automatically `val1, val2` to `Type`. For example"
   ]
  },
  {
   "cell_type": "code",
   "execution_count": 23,
   "metadata": {},
   "outputs": [
    {
     "data": {
      "text/plain": [
       "Alpha{Int64}(1, 1)"
      ]
     },
     "metadata": {},
     "output_type": "display_data"
    }
   ],
   "source": [
    "a = Alpha{Int64}(1,1)"
   ]
  },
  {
   "attachments": {},
   "cell_type": "markdown",
   "metadata": {},
   "source": [
    "The high level constructor `Alpha(val1, val2)` also exists, and will try to deduce what `Type` should be based on the arguments:"
   ]
  },
  {
   "cell_type": "code",
   "execution_count": 24,
   "metadata": {},
   "outputs": [
    {
     "data": {
      "text/plain": [
       "Alpha{Int64}(5, 6)"
      ]
     },
     "metadata": {},
     "output_type": "display_data"
    }
   ],
   "source": [
    "Alpha(5, 6)"
   ]
  },
  {
   "cell_type": "code",
   "execution_count": 25,
   "metadata": {},
   "outputs": [
    {
     "ename": "MethodError",
     "evalue": "MethodError: no method matching Alpha(::String, ::Float64)\n\nClosest candidates are:\n  Alpha(::T, !Matched::T) where T\n   @ Main c:\\Users\\gd419\\OneDrive - University of Exeter\\Teaching\\Zero2Hero-JuliaWorkshop\\2-MultipleDispatch.ipynb:2\n",
     "output_type": "error",
     "traceback": [
      "MethodError: no method matching Alpha(::String, ::Float64)\n",
      "\n",
      "Closest candidates are:\n",
      "  Alpha(::T, !Matched::T) where T\n",
      "   @ Main c:\\Users\\gd419\\OneDrive - University of Exeter\\Teaching\\Zero2Hero-JuliaWorkshop\\2-MultipleDispatch.ipynb:2\n",
      "\n",
      "\n",
      "Stacktrace:\n",
      " [1] top-level scope\n",
      "   @ c:\\Users\\gd419\\OneDrive - University of Exeter\\Teaching\\Zero2Hero-JuliaWorkshop\\2-MultipleDispatch.ipynb:1"
     ]
    }
   ],
   "source": [
    "Alpha(\"test\", 0.5)"
   ]
  },
  {
   "attachments": {},
   "cell_type": "markdown",
   "metadata": {},
   "source": [
    "Since it is impossible to equivalently convert a string and a float to each other (as `1.0 != \"1\"`), one cannot instantiate `A` like this.\n",
    "\n",
    "Here is a second example with two type-parameters:"
   ]
  },
  {
   "cell_type": "code",
   "execution_count": 26,
   "metadata": {},
   "outputs": [],
   "source": [
    "struct TwoPars{T, F}\n",
    "    a::T\n",
    "    b::F\n",
    "end"
   ]
  },
  {
   "cell_type": "code",
   "execution_count": 27,
   "metadata": {},
   "outputs": [
    {
     "data": {
      "text/plain": [
       "TwoPars{String, Float64}(\"string\", 0.5)"
      ]
     },
     "metadata": {},
     "output_type": "display_data"
    }
   ],
   "source": [
    "TwoPars(\"string\", 0.5)"
   ]
  },
  {
   "attachments": {},
   "cell_type": "markdown",
   "metadata": {},
   "source": [
    "And a final example:"
   ]
  },
  {
   "cell_type": "code",
   "execution_count": 28,
   "metadata": {},
   "outputs": [],
   "source": [
    "struct ManyPars{T <: Real, F <: Union{String, Real}}\n",
    "    a::T\n",
    "    b::F\n",
    "    c::Int\n",
    "end"
   ]
  },
  {
   "attachments": {},
   "cell_type": "markdown",
   "metadata": {},
   "source": [
    "Here, to instantiate `ManyPars`, `a` must be a subtype of reals, `b` could be a string or a real, while `c` has to be an integer."
   ]
  },
  {
   "attachments": {},
   "cell_type": "markdown",
   "metadata": {},
   "source": [
    "# Multiple dispatch\n",
    "Multiple dispatch is the core programming paradigm of Julia. This notebook presents simple examples that can teach you multiple dispatch. "
   ]
  },
  {
   "attachments": {},
   "cell_type": "markdown",
   "metadata": {},
   "source": [
    "## What is Multiple Dispatch?\n",
    "\n",
    "Some handy definitions\n",
    "* **function**: the name of the \"function / process\" we are referring to.\n",
    "* **method**: what actually happens when we call the function with a specific combination of input arguments.\n",
    "\n",
    "*Dispatch* means that when a function call occurs, the language decides somehow which of the function *methods* have to be used. \n",
    "\n",
    "### No dispatch\n",
    "In no dispatch, as in e.g. C, there is nothing to be decided. The method and the function are one and the same. \n",
    "\n",
    "### Single dispatch\n",
    "In single dispatch, as in most object-oriented languages (like Python), it is possible for the same function name to have different methods:\n",
    "```\n",
    "array.set_size(args...)\n",
    "axis.set_size(args...)\n",
    "```\n",
    "where `array` could be an instance of something from `numpy` while `axis` could come from `matplotlib`. Here the language dispatches the function `set_size`, depending on the first argument, which is `array` or `axis`. It is important to note that in most object oriented languages, the **method is a property of the type**. \n",
    "\n",
    "### Multiple dispatch\n",
    "Here dispatch occurs based on the type of **every single function argument**, as in\n",
    "```\n",
    "set_size(a::Array, args...) = ...\n",
    "set_size(a::Axis, args...) = ...\n",
    "set_size(s, a::Array, args...) = ...\n",
    "set_size(a::Array, b::Vector) = ...\n",
    "set_size(a::Array, x::Real, y::Real, z::Real) = ...\n",
    "```\n",
    "etc. This means that multiple dispatch allows for more exponentially more \"expressive power\", as one can use all arguments of the function to dispatch on.\n",
    "\n",
    "### How it works\n",
    "\n",
    "Multiple dispatch follows easy-to-understand rules based on the Julia type system hierarchy. \n",
    "\n",
    "Upon calling a function, Julia will try to find the method that is most specific across all arguments. This means that if a method is defined for both the abstract type combination, as well as the concrete type combination, Julia will always call the more concrete one. This rule also applies to e.g. parametric types, since `Vector{Float64}` is more specialized than `Vector`. This rule also applies to unions, since `Float64` is more specialized than `Union{Float64, String}`.\n",
    "\n",
    "Two important points:\n",
    "\n",
    "1. **methods do not belong to the Types!**\n",
    "2. **new methods can be defined *after* the Types have been defined!**"
   ]
  },
  {
   "attachments": {},
   "cell_type": "markdown",
   "metadata": {},
   "source": [
    "## A simple example\n",
    "\n",
    "#### Defining some types"
   ]
  },
  {
   "cell_type": "code",
   "execution_count": 29,
   "metadata": {},
   "outputs": [],
   "source": [
    "abstract type Animal end # this is an abstract type. a supertype of the below\n",
    "\n",
    "struct Dog <: Animal   # this is a concrete type. a subtype of the above\n",
    "    name::String\n",
    "end\n",
    "\n",
    "struct Cat <: Animal\n",
    "    name::String\n",
    "end"
   ]
  },
  {
   "attachments": {},
   "cell_type": "markdown",
   "metadata": {},
   "source": [
    "Now let's instantiate four animals"
   ]
  },
  {
   "cell_type": "code",
   "execution_count": 30,
   "metadata": {},
   "outputs": [
    {
     "data": {
      "text/plain": [
       "Cat(\"Spotty\")"
      ]
     },
     "metadata": {},
     "output_type": "display_data"
    }
   ],
   "source": [
    "fido = Dog(\"Fido\")\n",
    "rex = Dog(\"Rex\")\n",
    "whiskers = Cat(\"Whiskers\")\n",
    "spotty = Cat(\"Spotty\")"
   ]
  },
  {
   "attachments": {},
   "cell_type": "markdown",
   "metadata": {},
   "source": [
    "And finally, let's define some functions that take advantage of these `Animal` types, as well as multiple dispatch. Adding a method to a function is done by simply defining the function while also declaring the Types you add a method for:"
   ]
  },
  {
   "cell_type": "code",
   "execution_count": 31,
   "metadata": {},
   "outputs": [
    {
     "data": {
      "text/plain": [
       "meets (generic function with 1 method)"
      ]
     },
     "metadata": {},
     "output_type": "display_data"
    }
   ],
   "source": [
    "function encounter(a::Animal, b::Animal)\n",
    "    verb = meets(a, b)\n",
    "    println(\"$(a.name) meets $(b.name) and $verb\")\n",
    "end\n",
    "\n",
    "meets(a::Animal, b::Animal) = \"passes by\""
   ]
  },
  {
   "attachments": {},
   "cell_type": "markdown",
   "metadata": {},
   "source": [
    "Both of the above functions are defined on the abstract type level."
   ]
  },
  {
   "cell_type": "code",
   "execution_count": 32,
   "metadata": {},
   "outputs": [
    {
     "name": "stdout",
     "output_type": "stream",
     "text": [
      "Fido meets Rex and passes by\n",
      "Fido meets Spotty and passes by\n"
     ]
    }
   ],
   "source": [
    "encounter(fido, rex)\n",
    "encounter(fido, spotty)"
   ]
  },
  {
   "attachments": {},
   "cell_type": "markdown",
   "metadata": {},
   "source": [
    "We now define more specific methods like so:"
   ]
  },
  {
   "cell_type": "code",
   "execution_count": 33,
   "metadata": {},
   "outputs": [
    {
     "data": {
      "text/plain": [
       "meets (generic function with 5 methods)"
      ]
     },
     "metadata": {},
     "output_type": "display_data"
    }
   ],
   "source": [
    "meets(a::Dog, b::Dog) = \"sniffs\"\n",
    "meets(a::Dog, b::Cat) = \"chases\"\n",
    "meets(a::Cat, b::Dog) = \"hisses\"\n",
    "meets(a::Cat, b::Cat) = \"slinks\""
   ]
  },
  {
   "attachments": {},
   "cell_type": "markdown",
   "metadata": {},
   "source": [
    "*(notice how the amount of methods of `meets` increased)*"
   ]
  },
  {
   "cell_type": "code",
   "execution_count": 34,
   "metadata": {},
   "outputs": [
    {
     "name": "stdout",
     "output_type": "stream",
     "text": [
      "Fido meets Rex and sniffs"
     ]
    },
    {
     "name": "stdout",
     "output_type": "stream",
     "text": [
      "\n",
      "Fido meets Whiskers and chases\n",
      "Whiskers meets Spotty and slinks\n",
      "Spotty meets Rex and hisses\n"
     ]
    }
   ],
   "source": [
    "encounter(fido, rex)\n",
    "encounter(fido, whiskers)\n",
    "encounter(whiskers, spotty)\n",
    "encounter(spotty, rex)"
   ]
  },
  {
   "attachments": {},
   "cell_type": "markdown",
   "metadata": {},
   "source": [
    "## Simple extension of multiple dispatch\n",
    "What if we get a third animal? Like a rabbit? It is easy to extend the system"
   ]
  },
  {
   "cell_type": "code",
   "execution_count": 35,
   "metadata": {},
   "outputs": [
    {
     "data": {
      "text/plain": [
       "Rabbit(\"Hops\")"
      ]
     },
     "metadata": {},
     "output_type": "display_data"
    }
   ],
   "source": [
    "struct Rabbit <: Animal\n",
    "    name::String\n",
    "end\n",
    "\n",
    "meets(a::Dog, b::Rabbit) = \"wiggles its tail\"\n",
    "meets(a::Rabbit, b::Cat) = \"hides\"\n",
    "\n",
    "hops = Rabbit(\"Hops\")"
   ]
  },
  {
   "cell_type": "code",
   "execution_count": 36,
   "metadata": {},
   "outputs": [
    {
     "name": "stdout",
     "output_type": "stream",
     "text": [
      "Rex meets Hops and wiggles its tail\n",
      "Hops meets Whiskers and hides\n"
     ]
    }
   ],
   "source": [
    "encounter(rex, hops)\n",
    "encounter(hops, whiskers)"
   ]
  },
  {
   "attachments": {},
   "cell_type": "markdown",
   "metadata": {},
   "source": [
    "Of course, in the case where no specialized method exists, we get the default fallback we defined, as expected:"
   ]
  },
  {
   "cell_type": "code",
   "execution_count": 37,
   "metadata": {},
   "outputs": [
    {
     "name": "stdout",
     "output_type": "stream",
     "text": [
      "Whiskers meets Hops and passes by\n"
     ]
    }
   ],
   "source": [
    "encounter(whiskers, hops)"
   ]
  },
  {
   "attachments": {},
   "cell_type": "markdown",
   "metadata": {},
   "source": [
    "## Inspecting dispatch\n",
    "\n",
    "To see how many methods a function has to it, and from which module they come, use `methods`:"
   ]
  },
  {
   "cell_type": "code",
   "execution_count": 38,
   "metadata": {},
   "outputs": [
    {
     "data": {
      "text/html": [
       "# 7 methods for generic function <b>meets</b> from \u001b[35mMain\u001b[39m:<ul><li> meets(a::<b>Dog</b>, b::<b>Dog</b>) in Main at <a href=\"https://github.com/Datseris/Zero2Hero-JuliaWorkshop/tree/abd977c64c18f5614925a4c4ddce3527d3d93b8e//2-MultipleDispatch.ipynb#L1\" target=\"_blank\">c:\\Users\\gd419\\OneDrive - University of Exeter\\Teaching\\Zero2Hero-JuliaWorkshop\\2-MultipleDispatch.ipynb:1</a></li> <li> meets(a::<b>Dog</b>, b::<b>Cat</b>) in Main at <a href=\"https://github.com/Datseris/Zero2Hero-JuliaWorkshop/tree/abd977c64c18f5614925a4c4ddce3527d3d93b8e//2-MultipleDispatch.ipynb#L2\" target=\"_blank\">c:\\Users\\gd419\\OneDrive - University of Exeter\\Teaching\\Zero2Hero-JuliaWorkshop\\2-MultipleDispatch.ipynb:2</a></li> <li> meets(a::<b>Cat</b>, b::<b>Dog</b>) in Main at <a href=\"https://github.com/Datseris/Zero2Hero-JuliaWorkshop/tree/abd977c64c18f5614925a4c4ddce3527d3d93b8e//2-MultipleDispatch.ipynb#L3\" target=\"_blank\">c:\\Users\\gd419\\OneDrive - University of Exeter\\Teaching\\Zero2Hero-JuliaWorkshop\\2-MultipleDispatch.ipynb:3</a></li> <li> meets(a::<b>Cat</b>, b::<b>Cat</b>) in Main at <a href=\"https://github.com/Datseris/Zero2Hero-JuliaWorkshop/tree/abd977c64c18f5614925a4c4ddce3527d3d93b8e//2-MultipleDispatch.ipynb#L4\" target=\"_blank\">c:\\Users\\gd419\\OneDrive - University of Exeter\\Teaching\\Zero2Hero-JuliaWorkshop\\2-MultipleDispatch.ipynb:4</a></li> <li> meets(a::<b>Dog</b>, b::<b>Rabbit</b>) in Main at <a href=\"https://github.com/Datseris/Zero2Hero-JuliaWorkshop/tree/abd977c64c18f5614925a4c4ddce3527d3d93b8e//2-MultipleDispatch.ipynb#L5\" target=\"_blank\">c:\\Users\\gd419\\OneDrive - University of Exeter\\Teaching\\Zero2Hero-JuliaWorkshop\\2-MultipleDispatch.ipynb:5</a></li> <li> meets(a::<b>Rabbit</b>, b::<b>Cat</b>) in Main at <a href=\"https://github.com/Datseris/Zero2Hero-JuliaWorkshop/tree/abd977c64c18f5614925a4c4ddce3527d3d93b8e//2-MultipleDispatch.ipynb#L6\" target=\"_blank\">c:\\Users\\gd419\\OneDrive - University of Exeter\\Teaching\\Zero2Hero-JuliaWorkshop\\2-MultipleDispatch.ipynb:6</a></li> <li> meets(a::<b>Animal</b>, b::<b>Animal</b>) in Main at <a href=\"https://github.com/Datseris/Zero2Hero-JuliaWorkshop/tree/abd977c64c18f5614925a4c4ddce3527d3d93b8e//2-MultipleDispatch.ipynb#L6\" target=\"_blank\">c:\\Users\\gd419\\OneDrive - University of Exeter\\Teaching\\Zero2Hero-JuliaWorkshop\\2-MultipleDispatch.ipynb:6</a></li> </ul>"
      ],
      "text/plain": [
       "# 7 methods for generic function \"meets\" from \u001b[35mMain\u001b[39m:\n",
       " [1] meets(\u001b[90ma\u001b[39m::\u001b[1mDog\u001b[22m, \u001b[90mb\u001b[39m::\u001b[1mDog\u001b[22m)\n",
       "\u001b[90m     @\u001b[39m \u001b[90mc:\\Users\\gd419\\OneDrive - University of Exeter\\Teaching\\Zero2Hero-JuliaWorkshop\\\u001b[39m\u001b[90m\u001b[4m2-MultipleDispatch.ipynb:1\u001b[24m\u001b[39m\n",
       " [2] meets(\u001b[90ma\u001b[39m::\u001b[1mDog\u001b[22m, \u001b[90mb\u001b[39m::\u001b[1mCat\u001b[22m)\n",
       "\u001b[90m     @\u001b[39m \u001b[90mc:\\Users\\gd419\\OneDrive - University of Exeter\\Teaching\\Zero2Hero-JuliaWorkshop\\\u001b[39m\u001b[90m\u001b[4m2-MultipleDispatch.ipynb:2\u001b[24m\u001b[39m\n",
       " [3] meets(\u001b[90ma\u001b[39m::\u001b[1mCat\u001b[22m, \u001b[90mb\u001b[39m::\u001b[1mDog\u001b[22m)\n",
       "\u001b[90m     @\u001b[39m \u001b[90mc:\\Users\\gd419\\OneDrive - University of Exeter\\Teaching\\Zero2Hero-JuliaWorkshop\\\u001b[39m\u001b[90m\u001b[4m2-MultipleDispatch.ipynb:3\u001b[24m\u001b[39m\n",
       " [4] meets(\u001b[90ma\u001b[39m::\u001b[1mCat\u001b[22m, \u001b[90mb\u001b[39m::\u001b[1mCat\u001b[22m)\n",
       "\u001b[90m     @\u001b[39m \u001b[90mc:\\Users\\gd419\\OneDrive - University of Exeter\\Teaching\\Zero2Hero-JuliaWorkshop\\\u001b[39m\u001b[90m\u001b[4m2-MultipleDispatch.ipynb:4\u001b[24m\u001b[39m\n",
       " [5] meets(\u001b[90ma\u001b[39m::\u001b[1mDog\u001b[22m, \u001b[90mb\u001b[39m::\u001b[1mRabbit\u001b[22m)\n",
       "\u001b[90m     @\u001b[39m \u001b[90mc:\\Users\\gd419\\OneDrive - University of Exeter\\Teaching\\Zero2Hero-JuliaWorkshop\\\u001b[39m\u001b[90m\u001b[4m2-MultipleDispatch.ipynb:5\u001b[24m\u001b[39m\n",
       " [6] meets(\u001b[90ma\u001b[39m::\u001b[1mRabbit\u001b[22m, \u001b[90mb\u001b[39m::\u001b[1mCat\u001b[22m)\n",
       "\u001b[90m     @\u001b[39m \u001b[90mc:\\Users\\gd419\\OneDrive - University of Exeter\\Teaching\\Zero2Hero-JuliaWorkshop\\\u001b[39m\u001b[90m\u001b[4m2-MultipleDispatch.ipynb:6\u001b[24m\u001b[39m\n",
       " [7] meets(\u001b[90ma\u001b[39m::\u001b[1mAnimal\u001b[22m, \u001b[90mb\u001b[39m::\u001b[1mAnimal\u001b[22m)\n",
       "\u001b[90m     @\u001b[39m \u001b[90mc:\\Users\\gd419\\OneDrive - University of Exeter\\Teaching\\Zero2Hero-JuliaWorkshop\\\u001b[39m\u001b[90m\u001b[4m2-MultipleDispatch.ipynb:6\u001b[24m\u001b[39m"
      ]
     },
     "metadata": {},
     "output_type": "display_data"
    }
   ],
   "source": [
    "methods(meets)"
   ]
  },
  {
   "attachments": {},
   "cell_type": "markdown",
   "metadata": {},
   "source": [
    "To see which method is called on a function call signature, use `@which`:"
   ]
  },
  {
   "cell_type": "code",
   "execution_count": 39,
   "metadata": {
    "scrolled": true
   },
   "outputs": [
    {
     "data": {
      "text/html": [
       "meets(a::<b>Cat</b>, b::<b>Dog</b>) in Main at <a href=\"https://github.com/Datseris/Zero2Hero-JuliaWorkshop/tree/abd977c64c18f5614925a4c4ddce3527d3d93b8e//2-MultipleDispatch.ipynb#L3\" target=\"_blank\">c:\\Users\\gd419\\OneDrive - University of Exeter\\Teaching\\Zero2Hero-JuliaWorkshop\\2-MultipleDispatch.ipynb:3</a>"
      ],
      "text/plain": [
       "meets(\u001b[90ma\u001b[39m::\u001b[1mCat\u001b[22m, \u001b[90mb\u001b[39m::\u001b[1mDog\u001b[22m)\n",
       "\u001b[90m     @\u001b[39m \u001b[90mMain\u001b[39m \u001b[90mc:\\Users\\gd419\\OneDrive - University of Exeter\\Teaching\\Zero2Hero-JuliaWorkshop\\\u001b[39m\u001b[90m\u001b[4m2-MultipleDispatch.ipynb:3\u001b[24m\u001b[39m"
      ]
     },
     "metadata": {},
     "output_type": "display_data"
    }
   ],
   "source": [
    "@which meets(whiskers, rex)"
   ]
  },
  {
   "attachments": {},
   "cell_type": "markdown",
   "metadata": {},
   "source": [
    "*(notice that in VSCode `@which` allows you to go directly to the source code as well)*\n",
    "\n",
    "In Julia, all \"generic\" functions are of equal \"status\". The function `+` is in no way superior, or with more privileges, than the function `meets` we wrote up.\n",
    "\n",
    "It just has a bit more methods:"
   ]
  },
  {
   "cell_type": "code",
   "execution_count": 52,
   "metadata": {},
   "outputs": [
    {
     "data": {
      "text/plain": [
       "+ (generic function with 600 methods)"
      ]
     },
     "metadata": {},
     "output_type": "display_data"
    }
   ],
   "source": [
    "+"
   ]
  },
  {
   "attachments": {},
   "cell_type": "markdown",
   "metadata": {},
   "source": [
    "I won't be going into Modules and namespaces here. But it is important to note that it would be possible for us to extend `Animal` as well as `meets` *even if* they were coming from a different Module (e.g. a different Julia package).\n",
    "\n",
    "Extension is identical with creating a new method, but one specifies the parent module as well:"
   ]
  },
  {
   "cell_type": "code",
   "execution_count": 41,
   "metadata": {},
   "outputs": [],
   "source": [
    "Base.:+(a::Animal, b::Animal) = println(\"$(a.name) and $(b.name) are animals\")\n",
    "Base.:+(a::Cat, b::Cat) = println(\"$(a.name) and $(b.name) cutie-cats, much cuter than doggos!\")"
   ]
  },
  {
   "cell_type": "code",
   "execution_count": 42,
   "metadata": {},
   "outputs": [
    {
     "name": "stdout",
     "output_type": "stream",
     "text": [
      "Rex and Whiskers are animals\n"
     ]
    }
   ],
   "source": [
    "rex + whiskers"
   ]
  },
  {
   "cell_type": "code",
   "execution_count": 43,
   "metadata": {},
   "outputs": [
    {
     "name": "stdout",
     "output_type": "stream",
     "text": [
      "Spotty and Whiskers cutie-cats, much cuter than doggos!\n"
     ]
    }
   ],
   "source": [
    "spotty + whiskers"
   ]
  },
  {
   "attachments": {},
   "cell_type": "markdown",
   "metadata": {},
   "source": [
    "## Dispatch on parametric types\n",
    "\n",
    "\n",
    "Multiple dispatch can also be used on parametric types. Recall the definition of `Alpha`:\n",
    "```julia\n",
    "struct Alpha{T}\n",
    "    a::T\n",
    "    b::T\n",
    "end\n",
    "```\n",
    "For example if we define:"
   ]
  },
  {
   "cell_type": "code",
   "execution_count": 44,
   "metadata": {},
   "outputs": [
    {
     "data": {
      "text/plain": [
       "foo (generic function with 3 methods)"
      ]
     },
     "metadata": {},
     "output_type": "display_data"
    }
   ],
   "source": [
    "foo(a::Alpha) = \"generic function\"\n",
    "foo(a::Alpha{<:Number}) = \"specific to A with any number\"\n",
    "foo(a::Alpha{Float64}) = \"specific to A with 64-bit floats\""
   ]
  },
  {
   "attachments": {},
   "cell_type": "markdown",
   "metadata": {},
   "source": [
    "then"
   ]
  },
  {
   "cell_type": "code",
   "execution_count": 45,
   "metadata": {
    "scrolled": true
   },
   "outputs": [
    {
     "data": {
      "text/plain": [
       "\"generic function\""
      ]
     },
     "metadata": {},
     "output_type": "display_data"
    }
   ],
   "source": [
    "foo(Alpha(\"here's\",\"a test\"))"
   ]
  },
  {
   "cell_type": "code",
   "execution_count": 46,
   "metadata": {},
   "outputs": [
    {
     "data": {
      "text/plain": [
       "\"specific to A with any number\""
      ]
     },
     "metadata": {},
     "output_type": "display_data"
    }
   ],
   "source": [
    "foo(Alpha(5, 6))"
   ]
  },
  {
   "cell_type": "code",
   "execution_count": 47,
   "metadata": {
    "scrolled": true
   },
   "outputs": [
    {
     "data": {
      "text/plain": [
       "\"specific to A with 64-bit floats\""
      ]
     },
     "metadata": {},
     "output_type": "display_data"
    }
   ],
   "source": [
    "foo(Alpha(0.5, 0.6))"
   ]
  },
  {
   "attachments": {},
   "cell_type": "markdown",
   "metadata": {},
   "source": [
    "To learn more about the type system and multiple dispatch please read the official Julia documentation on [Types](https://pkg.julialang.org/docs/julia/THl1k/1.1.1/manual/types.html) and [Methods](https://pkg.julialang.org/docs/julia/THl1k/1.1.1/manual/methods.html). "
   ]
  },
  {
   "attachments": {},
   "cell_type": "markdown",
   "metadata": {},
   "source": [
    "# Generic algorithms\n",
    "\n",
    "How does one go about writing a generic algorithm through multiple dispatch? Well, it's simple really, just don't specify types unless you absolutely have to!\n",
    "\n",
    "## Some linear algebra algorithm\n",
    "Imagine the following simple algorithm, that performs some linear algebra computations involving inner products. `A` is supposed to be a matrix, while `vs` is supposed to be a vector of vectors, and the inner product `v ⋅ A ⋅ v` is performed for every vector."
   ]
  },
  {
   "cell_type": "code",
   "execution_count": 48,
   "metadata": {},
   "outputs": [
    {
     "data": {
      "text/plain": [
       "inner (generic function with 1 method)"
      ]
     },
     "metadata": {},
     "output_type": "display_data"
    }
   ],
   "source": [
    "using LinearAlgebra: dot\n",
    "\n",
    "function inner_sum(A, vs)\n",
    "    t = zero(eltype(A))\n",
    "    for v in vs\n",
    "        t += inner(v, A, v)\n",
    "    end\n",
    "    return t\n",
    "end\n",
    "\n",
    "inner(v, A, w) = dot(v, A*w)"
   ]
  },
  {
   "cell_type": "code",
   "execution_count": 49,
   "metadata": {},
   "outputs": [
    {
     "data": {
      "text/plain": [
       "9.160906244473892"
      ]
     },
     "metadata": {},
     "output_type": "display_data"
    }
   ],
   "source": [
    "a = rand(3,3)\n",
    "vs = [rand(3) for i in 1:5]\n",
    "inner_sum(a, vs)"
   ]
  },
  {
   "attachments": {},
   "cell_type": "markdown",
   "metadata": {},
   "source": [
    "* The above code is **generic**: any `A, vs` that support the correct operations (here `*` and `dot`), will work fine.\n",
    "\n",
    "* Because Julia compiles all code based on the exact input types, `inner_sum` is also **arbitrarily efficient**. Given standard Julia matrices and vectors it uses BLAS. Given statically-sized arrays it uses super-efficient unrolled operations."
   ]
  },
  {
   "attachments": {},
   "cell_type": "markdown",
   "metadata": {},
   "source": [
    "## The \"OneHot\" vector\n",
    "\n",
    "In various fields that use linear algebra, like machine learning, a special vector datastracture is used often, called a \"OneHot\" vector. This vector has a 1 in a single entry, and 0 in all other entries. Having a dedicated structure for this vector is super efficient, because you only need to store 2 numbers to store it in memory, irrespectively of how large it is!\n",
    "\n",
    "Let's create this in Julia. To make our life easy, we will make this new Type a subtype of `AbstractVector`. This means that all functions that are defined on the abstract level for `AbstractVector` will work with our type as well (provided we implement all the necessary *methods*)."
   ]
  },
  {
   "cell_type": "code",
   "execution_count": 50,
   "metadata": {},
   "outputs": [],
   "source": [
    "struct OneHotVector <: AbstractVector{Bool}\n",
    "    len::Int\n",
    "    ind::Int\n",
    "end"
   ]
  },
  {
   "attachments": {},
   "cell_type": "markdown",
   "metadata": {},
   "source": [
    "I \"know\" (by reading the documentation on the interface of `Array`) that the necessary methods I need to extend to make `OneHotVector` truly behave like any arbitrary Julia `vector` is (a) a `size` method and (b) a `getindex` method:"
   ]
  },
  {
   "cell_type": "code",
   "execution_count": 51,
   "metadata": {},
   "outputs": [],
   "source": [
    "# Extend size (so that it behaves like an array)\n",
    "Base.size(v::OneHotVector) = (v.len, )\n",
    "\n",
    "# Extend indexing (so that accessing a OneHotVector like v[5] works)\n",
    "Base.getindex(v::OneHotVector, i::Integer) = i == v.ind"
   ]
  },
  {
   "cell_type": "code",
   "execution_count": 52,
   "metadata": {},
   "outputs": [
    {
     "data": {
      "text/plain": [
       "10-element OneHotVector:\n",
       " 0\n",
       " 0\n",
       " 1\n",
       " 0\n",
       " 0\n",
       " 0\n",
       " 0\n",
       " 0\n",
       " 0\n",
       " 0"
      ]
     },
     "metadata": {},
     "output_type": "display_data"
    }
   ],
   "source": [
    "oh = OneHotVector(10, 3) # its already a \"true\" Julia vector!"
   ]
  },
  {
   "attachments": {},
   "cell_type": "markdown",
   "metadata": {},
   "source": [
    "Does our algorithm already work with such a vector?"
   ]
  },
  {
   "cell_type": "code",
   "execution_count": 53,
   "metadata": {},
   "outputs": [
    {
     "data": {
      "text/plain": [
       "3.1249328315799585"
      ]
     },
     "metadata": {},
     "output_type": "display_data"
    }
   ],
   "source": [
    "vs = [OneHotVector(3, rand(1:3)) for _ in 1:5]\n",
    "\n",
    "inner_sum(a, vs)"
   ]
  },
  {
   "attachments": {},
   "cell_type": "markdown",
   "metadata": {},
   "source": [
    "crazy stuff."
   ]
  },
  {
   "attachments": {},
   "cell_type": "markdown",
   "metadata": {},
   "source": [
    "## OneHot inner product\n",
    "\n",
    "It is already great that the above algorithm works with the new `OneHotVector` type. The generic code that one writes with Julia is extensible with **minimal** effort.\n",
    "\n",
    "*But*, it currently uses the generic fallback `inner(w, A, v) = dot(w, A*v)`. This is inefficient! Let's break this down:\n",
    "\n",
    "1. `A*v` is a matrix-vector multiplication. It iterates every column of `A` and multiplies them by each entry of `v`.\n",
    "2. If the vector `v` has 0s everywhere and a 1 somewhere, then this operation in fact means `A[:, v.ind]`. I.e. we select the `v.ind`-th column of the matrix `A`.\n",
    "3. `dot(w, Av)` is also generic, it indexes into `w` and `Av` and does a pair-wise multiplication.\n",
    "4. Given the structure of `OneHotVector` we know that `inner(w, A, v)` is in fact just `A[w.ind, v.ind]`!\n",
    "\n",
    "Increasing the performance of our algorithm is **trivial**. Simply extend `inner` for `OneHotVector`. But first, some benchmarks...\n",
    "\n",
    "Here's how the performance of the algorithm would be without taking advantage of the internal structure of `OneHotVector`, and using it as if it was an full vector of 0s and 1s:"
   ]
  },
  {
   "cell_type": "code",
   "execution_count": 54,
   "metadata": {},
   "outputs": [
    {
     "name": "stdout",
     "output_type": "stream",
     "text": [
      "  7.150 μs (5 allocations: 4.38 KiB)\n"
     ]
    },
    {
     "data": {
      "text/plain": [
       "2.2058926535720325"
      ]
     },
     "metadata": {},
     "output_type": "display_data"
    }
   ],
   "source": [
    "using BenchmarkTools\n",
    "\n",
    "L = 100\n",
    "a = rand(L, L)\n",
    "vs = [OneHotVector(L, rand(1:L)) for _ in 1:5]\n",
    "\n",
    "# timing before performance extension\n",
    "@btime inner_sum($a, $vs)"
   ]
  },
  {
   "cell_type": "markdown",
   "metadata": {},
   "source": [
    "We now add the crucial extension:"
   ]
  },
  {
   "cell_type": "code",
   "execution_count": 55,
   "metadata": {
    "scrolled": true
   },
   "outputs": [
    {
     "data": {
      "text/plain": [
       "inner (generic function with 2 methods)"
      ]
     },
     "metadata": {},
     "output_type": "display_data"
    }
   ],
   "source": [
    "inner(w::OneHotVector, a, v::OneHotVector) = a[w.ind, v.ind]"
   ]
  },
  {
   "cell_type": "markdown",
   "metadata": {},
   "source": [
    "and time again:"
   ]
  },
  {
   "cell_type": "code",
   "execution_count": 56,
   "metadata": {
    "scrolled": false
   },
   "outputs": [
    {
     "name": "stdout",
     "output_type": "stream",
     "text": [
      "  5.200 ns (0 allocations: 0 bytes)\n"
     ]
    },
    {
     "data": {
      "text/plain": [
       "2.2058926535720325"
      ]
     },
     "metadata": {},
     "output_type": "display_data"
    }
   ],
   "source": [
    "# timing after performance extension\n",
    "@btime inner_sum($a, $vs)"
   ]
  },
  {
   "cell_type": "markdown",
   "metadata": {},
   "source": [
    "Well, isn't this crazy."
   ]
  },
  {
   "attachments": {},
   "cell_type": "markdown",
   "metadata": {},
   "source": [
    "# Code re-use in Julia"
   ]
  },
  {
   "attachments": {},
   "cell_type": "markdown",
   "metadata": {},
   "source": [
    "There is an astonishing amount of code-reuse and cooperation among different packages of the Julia ecosystem, as we will see in the next lecture much more than any other science-used language has achieved so far (see [Stefan Karpinski's talk for more details on this](https://www.youtube.com/watch?v=kc9HwsxE1OY)).\n",
    "\n",
    "Naively one would think it is because of the ease of writing generic algorithms. This is in part true, but the reason Julia is the only language that truly succeeds in having all packages play nicely with each other (without each package actively writing glue code) is that you can re-use types from other people!\n",
    "\n",
    "In the following I'll compare the story of \"extending some else's type\" in Julia and in Python, and the difference will become apparent.\n",
    "\n",
    "Let's take as example the type `RGB`, which represents a color, and is defined in the Julia package `ColorTypes`. It is a simple type that bundles a value for red, green and blue, as well as defines some basic operations for the `RGB` type. For this example we can assume that `RGB` is defined as\n",
    "```julia\n",
    "struct RGB\n",
    "  r::Float64\n",
    "  g::Float64\n",
    "  b::Float64\n",
    "end\n",
    "```"
   ]
  },
  {
   "attachments": {},
   "cell_type": "markdown",
   "metadata": {},
   "source": [
    "## Extending this type in Julia\n",
    "\n",
    "Now someone wants to **extend this existing type** `RGB`. For example, one might want to create a color vector space. \n",
    "\n",
    "How is this done in Julia? \n",
    "Simple! Extend the functionality of `RGB` by adding new methods that dispatch on `RGB`. \n",
    "\n",
    "For example, you could extend **existing functions**\n",
    "```julia\n",
    "module ExtensionsToRGB # creates a new module (new \"package\")\n",
    "using RGB\n",
    "\n",
    "Base.zero(::RGB) = RGB(0,0,0)\n",
    "Base.rand(::RGB) = RGB(rand(), rand(), rand())\n",
    "\n",
    "end\n",
    "```\n",
    "etc., or **define new functions**\n",
    "```julia\n",
    "module ExtensionsToRGB # creates a new module (new \"package\")\n",
    "export dotc\n",
    "using RGB\n",
    "\n",
    "# dot product in color space: convert to grayscale and then normalize\n",
    "dotc(x::RGB, y::RGB) = 0.2*x.r*y.r + 0.771*x.g*y.g + 0.029*x.b*y.b\n",
    "\n",
    "end\n",
    "```\n",
    "\n",
    "All of this \"just works (TM)\" in Julia, even if the type `RGB` comes from a completely independent Julia package!\n"
   ]
  },
  {
   "attachments": {},
   "cell_type": "markdown",
   "metadata": {},
   "source": [
    "## Is this possible in OOP (Python)?\n",
    "In OOP the methods of a \"class\", are **defined literally textually within the class**. Therefore, if you wanted to extend this `RGB` in Python you would have two options:\n",
    "\n",
    "1. Edit the text file that defines the original class.\n",
    "2. Inherit the original class.\n",
    "\n",
    "### (1) Modifying the original class\n",
    "There are problems here:\n",
    "* You have to convince the author of the original package that your code is worthy to be included.\n",
    "* If everyone convinces the author about their method, the original class becomes huge and the source code becomes an unreadable mess.\n",
    "* The original developer has to maintain everyone else's whacka-doodle methods.\n",
    "* You can't change your mind about your extensions without potentially breaking everyone that uses the class `RGB`.\n",
    "\n",
    "### (2) Inheriting\n",
    "There are problems here as well:\n",
    "* If you inherit, you can't \"inherit the name\"; you have to create a new type `MyRGB` that inherits `RGB`.\n",
    "* Your extension will **not** actually apply to `RGB`, only to `MyRGB`. Therefore, anyone that creates `RGB` cannot potentially benefit from your code.\n",
    "* This complexity increases quite fast; someone else makes `YourRGB` object, and then a third person tries to inherit from both `MyRGB` and `YourRGB` and makes an `OurRGB`, etc... Quickly becomes a hellhole!\n",
    "\n",
    "### Why Julia does better here\n",
    "Julia's multiple dispatch has none of the problems of (1) and (2). In addition, everyone that does not load the module `ExtensionsToRGB` is completely unaffected by whatever whacka-doodle shady business is happening there. On the other side, with the simple one liner `using ExtensionsToRGB`, you immediately gain access to all the extensions that have been done in that package. **And these extensions are valid for the single Julia type `RGB`**. No `MyRGB` nonsense!\n",
    "\n",
    "The reasons why this is so trivial in Julia is because:\n",
    "\n",
    "1. You can define new types to which *existing operations* apply\n",
    "2. You can define new operations which apply to *existing types*\n",
    "\n",
    "To go deeper into the concepts discussion in this section, you should have a look at this [blog post by Frames Catherine White](https://white.ucc.asn.au/2020/02/09/whycompositionaljulia.html) or this [talk by Stefan Karpinski](https://www.youtube.com/watch?v=kc9HwsxE1OY)."
   ]
  },
  {
   "cell_type": "markdown",
   "metadata": {},
   "source": [
    "# Multiple dispatch & scientific thought"
   ]
  },
  {
   "cell_type": "markdown",
   "metadata": {},
   "source": [
    "Multiple dispatch makes developing scientific codebases extremely efficient (from the perspective of how much time a human has to spend), because it allows packages to access, utilize, modify, and extend other packages' code super easily as we have seen so far in this notebook. This partly explains the surge of powerful packages that exist in Julia despite the language recency.\n",
    "\n",
    "But I argue, there is one more fundamental reason multiple dispatch leads to incredibly efficient scientific programming, and further explains the package surge. It's because the way one rationalizes about code in multiple dispatch, is similar to the way one connects processes, objects, and ideas, in science. That is:\n",
    "\n",
    "**Multiple dispatch is the programming paradigm that most closely parallels scientific thought, because it detaches the processes (functions) from the objects (data types).**"
   ]
  },
  {
   "cell_type": "markdown",
   "metadata": {},
   "source": [
    "## Example: space simulations\n",
    "\n",
    "Imagine that you are working in space exploration. You have rockets, planets, asteroids. The process \"collide\" can occur between all three of these objects, yet fundamentally different in each case:\n",
    "\n",
    "1. when a rocket collides with an asteroid, the rocket explodes\n",
    "2. when an asteroid collides with a planet, the asteroid is disintegrated\n",
    "3. when a rocket collides with a planet, the rocket (hopefully) lands on the planet successfully\n",
    "4. when an asteroid collides with another asteroid they both disintegrate\n",
    "5. ...\n",
    "\n",
    "Implementing this scientific scenario in multiple dispatch directly parallels how we think about it. Reasoning about this in an object-oriented framework is difficult, because the process \"collide\" must belong to one of the three objects. Yet, scientifically, this doesn't make any sense."
   ]
  },
  {
   "attachments": {},
   "cell_type": "markdown",
   "metadata": {},
   "source": [
    "# Exercises"
   ]
  },
  {
   "attachments": {},
   "cell_type": "markdown",
   "metadata": {},
   "source": [
    "## Type hierarchies\n",
    "\n",
    "Create a function `person_info(p)` that takes in any type of a \"person\" and prints their name and potentially some extra information. For a normal person, only the name is printed. If the person is a student, it should print their name *and* grade. If it is a group leader, then print their name and their group name. If the input to `person_info` is something other than a \"person\", it should error.\n",
    "\n",
    "Solve this exercise without using a single `if` statement; only multiple dispatch. These kind of problems seem to be \"natural\" to solve using `if` statements. However using multiple dispatch instead makes the code clearer, more easy to extend and (typically) more performant, because of how Julia compiles code.\n",
    "\n",
    "*Hint: given the rules of the exercise, you do not actually need abstract types to solve it. However, it is in general good practice to use them.*"
   ]
  },
  {
   "attachments": {},
   "cell_type": "markdown",
   "metadata": {},
   "source": [
    "## Indexing of a range type\n",
    "Create your own `Range` object, which is an efficient iterable container defined by a `(start, step, stop)`, which gives numeric values incremented by `step` starting from `start`, while *ensuring* that the result never exceeds `stop`. You only need to extend `Base.getindex(r::Range, i::Int)` for this exercise. \n",
    "\n",
    "Test your range by initializing a range like `r = Range(0, 0.5, 1)`, and checking of `r[1], r[2], r[3]` give you indeed `0.0, 0.5, 1.0` as they should.\n",
    "\n",
    "This object can efficiently represent this range while storing only these 3 numbers, instead of all elements that theoretically belong to the range.\n",
    "\n",
    "*Hints:*\n",
    "1. As a first step, define your `Range` `struct`, preferably by making it a parametric type of 1 type-parameter (think about how many fields it should have).\n",
    "2. Use the help functionality to learn about the function `getindex`. The Julia syntax `A[i]` is translated to `getindex(A, i)`. \n",
    "3. Implement indexing for your Range type via extending `getindex`. Index `1` giving `start`. Be sure it errors for incorrect indices (where the value given by the range would exceed `stop`)."
   ]
  },
  {
   "attachments": {},
   "cell_type": "markdown",
   "metadata": {},
   "source": [
    "## Iteration of a range type\n",
    "\n",
    "Continuing from the previous exercise, now make your `Range` object iterable by extending `Base.iterate(r::Range, state = 1)` as well as `Base.length(r::Range)`. It will then be possible to do `collect(range)` or `for a in range ...` or `[cos(r) for r in range]`.\n",
    "\n",
    "*Hints:*\n",
    "\n",
    "The [Julia documentation on the iteration API](https://pkg.julialang.org/docs/julia/THl1k/1.1.1/manual/interfaces.html#man-interface-iteration-1) shows that the Julia code block\n",
    "```julia\n",
    "for i in iter   # or  \"for i = iter\"\n",
    "    # body\n",
    "end\n",
    "```\n",
    "\n",
    "is in fact internally translated into:\n",
    "```julia\n",
    "next = iterate(iter)\n",
    "while next !== nothing\n",
    "    (i, state) = next\n",
    "    # body\n",
    "    next = iterate(iter, state)\n",
    "end\n",
    "```\n",
    "\n",
    "1. To solve this exercise you need to define `Base.iterate(r::Range, state = 1)` which returns either the current element and the next iteration state (typically `i+1`) or `nothing` if there are no elements remaining to be iterated.\n",
    "2. Test `iterate` for your `Range` by using it in a `for` loop: `for r in myrange; @show r; end`.\n",
    "\n",
    "* **Bonus point** Did you write generic code? Try to see if your `Range` works with the package `Unitful`. This package provides types that combines numbers with physical units (like Newtons). Load this package with `using Unitful`. Does iterating a `Range(1u\"kg\", 0.1u\"kg\", 10u\"kg\")` work as expected? Make the necessary adjustments so that it does."
   ]
  },
  {
   "attachments": {},
   "cell_type": "markdown",
   "metadata": {},
   "source": [
    "## Advanced whackadoodle iterator\n",
    "\n",
    "Leveraging the experience of previous exercises, define an iterator object (and of course define `iterate` for it!) that has the following properties (**make an iterator struct, don't create a vector!**):\n",
    "\n",
    "* It iterates for `n` elements. The first element is always `rand()`.\n",
    "* At the odd steps of the iteration it returns the previous element divided by `rand()`.\n",
    "* At the even steps of the iteration it returns the previous element multiplied by `rand()`.\n",
    "\n",
    "Use this iterator object to efficiently study how its mean value behaves versus `n`, by using the function `mean` (accessible after `using Statistics`). \n",
    "\n",
    "*Hint: if you implement this iterator correctly, then you should be able to give it directly to `mean`.*"
   ]
  },
  {
   "attachments": {},
   "cell_type": "markdown",
   "metadata": {},
   "source": [
    "## Rational numbers\n",
    "\n",
    "Implement the type `RationalNumber <: Real`, similar to Julia's `Rational`, but without being a parametric type (i.e. both fields are just `Int`). Using the following function\n",
    "```julia\n",
    "function simplify(n::Integer, d::Integer)\n",
    "    g = gcd(n, d)\n",
    "    m = d < 0 ? -1 : 1\n",
    "    (m * n ÷ g, m * d ÷ g)\n",
    "end\n",
    "```\n",
    "define an **inner constructor**: a function `RationalNumber` inside the type-definition, which returns `new(simplify(n, d)...)`. `new` is a special keyword and stands for the type to be created. For example:\n",
    "```julia\n",
    "struct A\n",
    "    a::Float64\n",
    "    function A(a)\n",
    "        x = cos(a)\n",
    "        return new(x) # This creates an instance of A with the value x\n",
    "    end\n",
    "end\n",
    "```\n",
    "Inner constructors are used to perform specific tests or transformations necessary before instantiating a type. In this exercise the inner constructor simply ensures that if you try to define the rational number 5/10 you in fact create the equivalent (but simpler) 1/2.\n",
    "\n",
    "Then, implement the operations `+, -, *, /` between `RationalNumber`s, by extending e.g. `Base.:+(r1::RationalNumber, r2::RationalNumber)`.\n",
    "\n",
    "Test your code by ensuring that `RationalNumber(5, 10)` indeed has fields `(1, 2)`. Then test all operations with the rationals `1/2` and `1/3`.\n",
    "\n",
    "* **extra point**: Find out the minimum extension you need to make to your number type so that all trigonometric functions like `cos, tanh`, etc. work out of the box with it. (Hint: it is only one more method definition)"
   ]
  }
 ],
 "metadata": {
  "@webio": {
   "lastCommId": null,
   "lastKernelId": null
  },
  "kernelspec": {
   "display_name": "Julia 1.9.4",
   "language": "julia",
   "name": "julia-1.9"
  },
  "language_info": {
   "file_extension": ".jl",
   "mimetype": "application/julia",
   "name": "julia",
   "version": "1.9.4"
  }
 },
 "nbformat": 4,
 "nbformat_minor": 2
}
