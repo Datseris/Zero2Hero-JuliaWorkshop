{
 "cells": [
  {
   "attachments": {},
   "cell_type": "markdown",
   "metadata": {},
   "source": [
    "# Introduction: basic Julia usage and plotting"
   ]
  },
  {
   "attachments": {},
   "cell_type": "markdown",
   "metadata": {},
   "source": [
    "This lecture is an updated and improved version of the highly-viewed [\"Julia Zero2Hero\" workshop](https://www.youtube.com/watch?v=Fi7Pf2NveH0). The new version includes a dedicated block about plotting, provides simpler explanations, is updated to the newest Julia versions, and has more accessible exercises!\n",
    "\n",
    "This lecture is also used as the first lecture in a full course series called [**Nonlinear Dynamics and Complex Systems analysis with Julia**](https://github.com/JuliaDynamics/NonlinearDynamicsComplexSystemsCourse)!"
   ]
  },
  {
   "attachments": {},
   "cell_type": "markdown",
   "metadata": {},
   "source": [
    "## Why should I learn Julia?\n",
    "\n",
    "\n",
    "[Julia](https://julialang.org/) is a relatively new programming language, developed at MIT, with version 1.0 released in August 2018. Even though it is so recent, it has taken the scientific community by storm and many serious large scale projects have started using Julia.\n",
    "\n",
    "The [Julia documentation](https://docs.julialang.org/en/v1/) outlines the main facts and features of Julia. I have summarized my opinions on why Julia is the best choice for scientific computing in this [GitHub page](https://github.com/Datseris/whyjulia-manifesto)."
   ]
  },
  {
   "attachments": {},
   "cell_type": "markdown",
   "metadata": {},
   "source": [
    "# Basics of Julia\n",
    "\n",
    "In this block we will overview basic Julia syntax, data structures, iteration, and using functions. The block assumes familiarity with programming, in the sense of reasoning about code, and also familiarity with the concept of an interactive development environment (or dynamic programming languages) where a program may be written and executed interactively line-by-line. The block doesn't assume any familiarity with a specific programming language however."
   ]
  },
  {
   "attachments": {},
   "cell_type": "markdown",
   "metadata": {},
   "source": [
    "## Basic syntax"
   ]
  },
  {
   "attachments": {},
   "cell_type": "markdown",
   "metadata": {},
   "source": [
    "\n",
    "### Assignment\n",
    "\n",
    "Assignment of variables in Julia is done with the `=` sign."
   ]
  },
  {
   "cell_type": "code",
   "execution_count": 126,
   "metadata": {},
   "outputs": [
    {
     "data": {
      "text/plain": [
       "1"
      ]
     },
     "metadata": {},
     "output_type": "display_data"
    }
   ],
   "source": [
    "x = 1"
   ]
  },
  {
   "cell_type": "code",
   "execution_count": 127,
   "metadata": {},
   "outputs": [
    {
     "data": {
      "text/plain": [
       "1"
      ]
     },
     "metadata": {},
     "output_type": "display_data"
    }
   ],
   "source": [
    "x"
   ]
  },
  {
   "attachments": {},
   "cell_type": "markdown",
   "metadata": {},
   "source": [
    "You can assign *anything* to a variable binding. This includes functions, modules, data types, or whatever you can come up with."
   ]
  },
  {
   "attachments": {},
   "cell_type": "markdown",
   "metadata": {},
   "source": [
    "Variable names can include practically any Unicode character. Additionally, most Julia editing environments offer \"LaTeX Completion\". Pressing e.g. `\\delta` and then TAB will create the corresponding Unicode character using the LaTeX syntax."
   ]
  },
  {
   "cell_type": "code",
   "execution_count": 128,
   "metadata": {},
   "outputs": [
    {
     "data": {
      "text/plain": [
       "4"
      ]
     },
     "metadata": {},
     "output_type": "display_data"
    }
   ],
   "source": [
    "δ = 4 # type `\\delta` and then press tab!"
   ]
  },
  {
   "attachments": {},
   "cell_type": "markdown",
   "metadata": {},
   "source": [
    "You can assign multiple variables to multiple values using commas."
   ]
  },
  {
   "cell_type": "code",
   "execution_count": 129,
   "metadata": {},
   "outputs": [
    {
     "data": {
      "text/plain": [
       "(1, 0, -1)"
      ]
     },
     "metadata": {},
     "output_type": "display_data"
    }
   ],
   "source": [
    "😺, 😀, 😞 = 1, 0, -1"
   ]
  },
  {
   "cell_type": "code",
   "execution_count": 130,
   "metadata": {
    "scrolled": true
   },
   "outputs": [
    {
     "data": {
      "text/plain": [
       "true"
      ]
     },
     "metadata": {},
     "output_type": "display_data"
    }
   ],
   "source": [
    "😺 + 😞 == 😀 # legitimate code. Not good for readability though ;)"
   ]
  },
  {
   "attachments": {},
   "cell_type": "markdown",
   "metadata": {},
   "source": [
    "Strings are created between double quotes `\"` while the single quotes `'` are used for characters only."
   ]
  },
  {
   "cell_type": "code",
   "execution_count": 131,
   "metadata": {},
   "outputs": [
    {
     "data": {
      "text/plain": [
       "\"人人生而自由，在尊严和权利上一律平等。\""
      ]
     },
     "metadata": {},
     "output_type": "display_data"
    }
   ],
   "source": [
    "안녕하세요 = \"人人生而自由，在尊严和权利上一律平等。\""
   ]
  },
  {
   "cell_type": "code",
   "execution_count": 132,
   "metadata": {},
   "outputs": [
    {
     "data": {
      "text/plain": [
       "'안': Unicode U+C548 (category Lo: Letter, other)"
      ]
     },
     "metadata": {},
     "output_type": "display_data"
    }
   ],
   "source": [
    "char = '안' # for characters, Julia prints their Unicode information"
   ]
  },
  {
   "attachments": {},
   "cell_type": "markdown",
   "metadata": {},
   "source": [
    "Since assignment returns the value, by default this value is printed. This is **AMAZING**, but you can also silence printing by adding `;` to the end of the expression:"
   ]
  },
  {
   "cell_type": "code",
   "execution_count": 133,
   "metadata": {},
   "outputs": [],
   "source": [
    "x = 3;"
   ]
  },
  {
   "attachments": {},
   "cell_type": "markdown",
   "metadata": {},
   "source": [
    "Lastly, you can interpolate any expression into a string using `$(expression)`"
   ]
  },
  {
   "cell_type": "code",
   "execution_count": 134,
   "metadata": {},
   "outputs": [
    {
     "data": {
      "text/plain": [
       "\"the value of the cat face (😺) is 1\""
      ]
     },
     "metadata": {},
     "output_type": "display_data"
    }
   ],
   "source": [
    "\"the value of the cat face (😺) is $(😺)\""
   ]
  },
  {
   "cell_type": "code",
   "execution_count": 135,
   "metadata": {},
   "outputs": [
    {
     "data": {
      "text/plain": [
       "\"I am doing math inside a string: 6.869604401089358\""
      ]
     },
     "metadata": {},
     "output_type": "display_data"
    }
   ],
   "source": [
    "\"I am doing math inside a string: $(π^2 - x)\""
   ]
  },
  {
   "attachments": {},
   "cell_type": "markdown",
   "metadata": {},
   "source": [
    "### Math operations"
   ]
  },
  {
   "attachments": {},
   "cell_type": "markdown",
   "metadata": {},
   "source": [
    "Basic math operators are `+, -, *, /` and `^` for power."
   ]
  },
  {
   "cell_type": "code",
   "execution_count": 136,
   "metadata": {},
   "outputs": [
    {
     "data": {
      "text/plain": [
       "17.398638404385867"
      ]
     },
     "metadata": {},
     "output_type": "display_data"
    }
   ],
   "source": [
    "x = 3\n",
    "y = x^2.6"
   ]
  },
  {
   "attachments": {},
   "cell_type": "markdown",
   "metadata": {},
   "source": [
    "Most julia operators have their `=` version, which updates something with its own value"
   ]
  },
  {
   "cell_type": "code",
   "execution_count": 137,
   "metadata": {},
   "outputs": [
    {
     "data": {
      "text/plain": [
       "3.0"
      ]
     },
     "metadata": {},
     "output_type": "display_data"
    }
   ],
   "source": [
    "x += 3 # x = x + 3\n",
    "x -= 3\n",
    "x *=2\n",
    "x /= 2"
   ]
  },
  {
   "attachments": {},
   "cell_type": "markdown",
   "metadata": {},
   "source": [
    "Literal numbers can multiply anything without having to put `*` inbetween, as long as the number is on the left side:"
   ]
  },
  {
   "cell_type": "code",
   "execution_count": 138,
   "metadata": {},
   "outputs": [
    {
     "data": {
      "text/plain": [
       "14.992145558678724"
      ]
     },
     "metadata": {},
     "output_type": "display_data"
    }
   ],
   "source": [
    "5x - 12.54y * 1.2e-5x"
   ]
  },
  {
   "attachments": {},
   "cell_type": "markdown",
   "metadata": {},
   "source": [
    "## Type basics"
   ]
  },
  {
   "attachments": {},
   "cell_type": "markdown",
   "metadata": {},
   "source": [
    "Everything that exists in Julia has a certain **Type**. (e.g. numbers can be integers, floats, rationals). This \"type system\" is instrumental for the inner workings of Julia, and is mainly what enables Julia to have performance matching static languages like C.\n",
    "\n",
    "The type system also enables **Multiple Dispatch**, one of Julia's greatest features, however in this block we won't go through this advanced topic."
   ]
  },
  {
   "attachments": {},
   "cell_type": "markdown",
   "metadata": {},
   "source": [
    "To find the type of a thing in Julia you simply use `typeof(thing)`:"
   ]
  },
  {
   "cell_type": "code",
   "execution_count": 139,
   "metadata": {
    "scrolled": true
   },
   "outputs": [
    {
     "data": {
      "text/plain": [
       "Int64"
      ]
     },
     "metadata": {},
     "output_type": "display_data"
    }
   ],
   "source": [
    "x = 3\n",
    "typeof(x)"
   ]
  },
  {
   "cell_type": "code",
   "execution_count": 140,
   "metadata": {},
   "outputs": [
    {
     "data": {
      "text/plain": [
       "Float64"
      ]
     },
     "metadata": {},
     "output_type": "display_data"
    }
   ],
   "source": [
    "typeof(1.5)"
   ]
  },
  {
   "cell_type": "code",
   "execution_count": 141,
   "metadata": {},
   "outputs": [
    {
     "data": {
      "text/plain": [
       "Float32"
      ]
     },
     "metadata": {},
     "output_type": "display_data"
    }
   ],
   "source": [
    "typeof(1.5f0)"
   ]
  },
  {
   "cell_type": "code",
   "execution_count": 142,
   "metadata": {
    "scrolled": true
   },
   "outputs": [
    {
     "data": {
      "text/plain": [
       "String"
      ]
     },
     "metadata": {},
     "output_type": "display_data"
    }
   ],
   "source": [
    "typeof(\"asdf\")"
   ]
  },
  {
   "attachments": {},
   "cell_type": "markdown",
   "metadata": {},
   "source": [
    "Many objects have types that nest within them other types. For example, the type of a matrix includes the type of the elements it has"
   ]
  },
  {
   "cell_type": "code",
   "execution_count": 143,
   "metadata": {},
   "outputs": [
    {
     "data": {
      "text/plain": [
       "Matrix{String}\u001b[90m (alias for \u001b[39m\u001b[90mArray{String, 2}\u001b[39m\u001b[90m)\u001b[39m"
      ]
     },
     "metadata": {},
     "output_type": "display_data"
    }
   ],
   "source": [
    "typeof(\n",
    "    [\"a\" \"b\";\n",
    "     \"c\" \"d\"]\n",
    ")"
   ]
  },
  {
   "attachments": {},
   "cell_type": "markdown",
   "metadata": {},
   "source": [
    "## Basic collection datastructures\n",
    "\n",
    "Indexing a collection (like an array or a dictionary) in Julia is done with brackets: `collection[index]`.\n",
    "\n",
    "In **ordered collections** (where the elements are specified by their order rather than some key), indexing is done using the positive integers. This means that **indexing in Julia starts from 1, which is exceptionally good,** because the index matches the element order: the 5th element has index 5."
   ]
  },
  {
   "attachments": {},
   "cell_type": "markdown",
   "metadata": {},
   "source": [
    "\n",
    "### Tuples\n",
    "Tuples are **immutable ordered collections** of elements of any type. They are most useful when the elements are not of the same type with each other and are intended only for small collections.\n",
    "\n",
    "Syntax:\n",
    "\n",
    "```julia\n",
    "(item1, item2, ...)\n",
    "```"
   ]
  },
  {
   "cell_type": "code",
   "execution_count": 144,
   "metadata": {},
   "outputs": [
    {
     "data": {
      "text/plain": [
       "(\"purple\", '🥁', π)"
      ]
     },
     "metadata": {},
     "output_type": "display_data"
    }
   ],
   "source": [
    "myfavoritethings = (\"purple\", '🥁', π)"
   ]
  },
  {
   "cell_type": "code",
   "execution_count": 145,
   "metadata": {},
   "outputs": [
    {
     "data": {
      "text/plain": [
       "\"purple\""
      ]
     },
     "metadata": {},
     "output_type": "display_data"
    }
   ],
   "source": [
    "myfavoritethings[1]"
   ]
  },
  {
   "attachments": {},
   "cell_type": "markdown",
   "metadata": {},
   "source": [
    "You can extract multiple values into variables from any collection using commas."
   ]
  },
  {
   "cell_type": "code",
   "execution_count": 146,
   "metadata": {},
   "outputs": [
    {
     "data": {
      "text/plain": [
       "π = 3.1415926535897..."
      ]
     },
     "metadata": {},
     "output_type": "display_data"
    }
   ],
   "source": [
    "a, b, c = myfavoritethings\n",
    "c"
   ]
  },
  {
   "attachments": {},
   "cell_type": "markdown",
   "metadata": {},
   "source": [
    "The type of the tuple is the type of its constituents."
   ]
  },
  {
   "cell_type": "code",
   "execution_count": 147,
   "metadata": {},
   "outputs": [
    {
     "data": {
      "text/plain": [
       "Tuple{String, Char, Irrational{:π}}"
      ]
     },
     "metadata": {},
     "output_type": "display_data"
    }
   ],
   "source": [
    "typeof(myfavoritethings)"
   ]
  },
  {
   "attachments": {},
   "cell_type": "markdown",
   "metadata": {},
   "source": [
    "### Dictionaries\n",
    "Dictionaries are **unordered mutable collections** of pairs key-value. They are intended for sets of relational data, and typically you want the data to be of the same type.\n",
    "\n",
    "Syntax:\n",
    "```julia\n",
    "Dict(key1 => value1, key2 => value2, ...)\n",
    "```\n",
    "\n",
    "A good example of a dictionary is a contacts list, where we associate names with phone numbers."
   ]
  },
  {
   "cell_type": "code",
   "execution_count": 148,
   "metadata": {},
   "outputs": [
    {
     "data": {
      "text/plain": [
       "Dict{String, String} with 2 entries:\n",
       "  \"Jenny\"        => \"867-5309\"\n",
       "  \"Ghostbusters\" => \"555-2368\""
      ]
     },
     "metadata": {},
     "output_type": "display_data"
    }
   ],
   "source": [
    "myphonebook = Dict(\"Jenny\" => \"867-5309\", \"Ghostbusters\" => \"555-2368\")"
   ]
  },
  {
   "cell_type": "code",
   "execution_count": 149,
   "metadata": {},
   "outputs": [
    {
     "data": {
      "text/plain": [
       "\"867-5309\""
      ]
     },
     "metadata": {},
     "output_type": "display_data"
    }
   ],
   "source": [
    "myphonebook[\"Jenny\"]"
   ]
  },
  {
   "attachments": {},
   "cell_type": "markdown",
   "metadata": {},
   "source": [
    "New entries can be added to the above dictionary, because it is mutable *(I will talk in more detail about mutability in a moment, but for now mutable means that \"you can change its values without creating a copy or a new collection\")*. The key of the entry must be of type `String` and the value of the entry must be of type `String`, because these are the types in the original dictionary."
   ]
  },
  {
   "cell_type": "code",
   "execution_count": 150,
   "metadata": {},
   "outputs": [
    {
     "data": {
      "text/plain": [
       "Dict{String, String} with 3 entries:\n",
       "  \"Jenny\"          => \"867-5309\"\n",
       "  \"Buzz Lightyear\" => \"∞ and beyond\"\n",
       "  \"Ghostbusters\"   => \"555-2368\""
      ]
     },
     "metadata": {},
     "output_type": "display_data"
    }
   ],
   "source": [
    "myphonebook[\"Buzz Lightyear\"] = \"∞ and beyond\"\n",
    "\n",
    "myphonebook # this displays the phonebook"
   ]
  },
  {
   "attachments": {},
   "cell_type": "markdown",
   "metadata": {},
   "source": [
    "Dictionaries have a specific type for keys and values. First type is the type of key, second is the type of value."
   ]
  },
  {
   "cell_type": "code",
   "execution_count": 151,
   "metadata": {},
   "outputs": [
    {
     "data": {
      "text/plain": [
       "Dict{String, String}"
      ]
     },
     "metadata": {},
     "output_type": "display_data"
    }
   ],
   "source": [
    "typeof(myphonebook)"
   ]
  },
  {
   "attachments": {},
   "cell_type": "markdown",
   "metadata": {},
   "source": [
    "### Named tuples"
   ]
  },
  {
   "attachments": {},
   "cell_type": "markdown",
   "metadata": {},
   "source": [
    "_(optional subsection that is typically skipped)_\n",
    "\n",
    "These are exactly like tuples but also assign a name to each variable they contain.\n",
    "Hence, they are an **immutable collection of ordered _and_ named elements**. \n",
    "They rest between the `Tuple` and `Dict` type in their use.\n",
    "\n",
    "Their syntax is:\n",
    "```julia\n",
    "(key1 = val1, key2 = val2, ...)\n",
    "```\n",
    "For example:"
   ]
  },
  {
   "cell_type": "code",
   "execution_count": 152,
   "metadata": {},
   "outputs": [
    {
     "data": {
      "text/plain": [
       "(x = 5, y = \"str\", z = 1.6666666666666667)"
      ]
     },
     "metadata": {},
     "output_type": "display_data"
    }
   ],
   "source": [
    "nt = (x = 5, y = \"str\", z = 5/3)"
   ]
  },
  {
   "attachments": {},
   "cell_type": "markdown",
   "metadata": {},
   "source": [
    "These objects can be accessed with `[1]` like normal tuples, but also with the syntax `.key`:"
   ]
  },
  {
   "cell_type": "code",
   "execution_count": 153,
   "metadata": {},
   "outputs": [
    {
     "data": {
      "text/plain": [
       "5"
      ]
     },
     "metadata": {},
     "output_type": "display_data"
    }
   ],
   "source": [
    "nt[1]"
   ]
  },
  {
   "cell_type": "code",
   "execution_count": 154,
   "metadata": {},
   "outputs": [
    {
     "data": {
      "text/plain": [
       "5"
      ]
     },
     "metadata": {},
     "output_type": "display_data"
    }
   ],
   "source": [
    "nt.x # equivalent with nt[:x]"
   ]
  },
  {
   "attachments": {},
   "cell_type": "markdown",
   "metadata": {},
   "source": [
    "(named tuples are useful to know, because keyword arguments to functions are essentially named tuples)"
   ]
  },
  {
   "attachments": {},
   "cell_type": "markdown",
   "metadata": {},
   "source": [
    "### Arrays\n",
    "\n",
    "The standard Julia `Array` is a **mutable and ordered collection of items of the same type**.\n",
    "The dimensionality of the Julia array is important. A `Matrix` is an array of dimension 2. A `Vector` is an array of dimension 1. The *element type* of what an array contains is irrelevant to its dimension!\n",
    "\n",
    "**i.e. a Vector of Vectors of Numbers and a Matrix of Numbers are two totally different things!**\n",
    "\n",
    "The syntax to make a vector is enclosing elements in brackets:"
   ]
  },
  {
   "cell_type": "code",
   "execution_count": 155,
   "metadata": {},
   "outputs": [
    {
     "data": {
      "text/plain": [
       "7-element Vector{Int64}:\n",
       "  1\n",
       "  1\n",
       "  2\n",
       "  3\n",
       "  5\n",
       "  8\n",
       " 13"
      ]
     },
     "metadata": {},
     "output_type": "display_data"
    }
   ],
   "source": [
    "fibonacci = [1, 1, 2, 3, 5, 8, 13]"
   ]
  },
  {
   "cell_type": "code",
   "execution_count": 156,
   "metadata": {},
   "outputs": [
    {
     "data": {
      "text/plain": [
       "6-element Vector{Any}:\n",
       " 1\n",
       " 1\n",
       " 2\n",
       " 3\n",
       "  \"Ted\"\n",
       "  \"Robyn\""
      ]
     },
     "metadata": {},
     "output_type": "display_data"
    }
   ],
   "source": [
    "mixture = [1, 1, 2, 3, \"Ted\", \"Robyn\"]"
   ]
  },
  {
   "attachments": {},
   "cell_type": "markdown",
   "metadata": {},
   "source": [
    "As mentioned, the type of the elements of an array must be the same. Yet above we mix numbers with strings! I wasn't lying though; the above vector is an **unoptimized** version that can hold **any** thing. You can see this in the type of the vector, `Vector{Any}`."
   ]
  },
  {
   "attachments": {},
   "cell_type": "markdown",
   "metadata": {},
   "source": [
    "Arrays of other data structures, e.g. vectors or dictionaries, or anything, as well as multi-dimensional arrays are possible:"
   ]
  },
  {
   "cell_type": "code",
   "execution_count": 157,
   "metadata": {},
   "outputs": [
    {
     "data": {
      "text/plain": [
       "3-element Vector{Vector{Int64}}:\n",
       " [1, 2, 3]\n",
       " [4, 5]\n",
       " [6, 7, 8, 9]"
      ]
     },
     "metadata": {},
     "output_type": "display_data"
    }
   ],
   "source": [
    "vec_vec_num = [[1, 2, 3], [4, 5], [6, 7, 8, 9]] # vector of vectors, which is NOT a matrix"
   ]
  },
  {
   "attachments": {},
   "cell_type": "markdown",
   "metadata": {},
   "source": [
    "If you want to make a matrix, two ways are the most common: (1) specify each entry one by one"
   ]
  },
  {
   "cell_type": "code",
   "execution_count": 158,
   "metadata": {},
   "outputs": [
    {
     "data": {
      "text/plain": [
       "3×3 Matrix{Int64}:\n",
       " 1  2  3\n",
       " 4  5  6\n",
       " 7  8  9"
      ]
     },
     "metadata": {},
     "output_type": "display_data"
    }
   ],
   "source": [
    "matrix = [1 2 3; # elements in same row separated by space\n",
    "          4 5 6; # semicolon means \"go to next row\"\n",
    "          7 8 9]"
   ]
  },
  {
   "attachments": {},
   "cell_type": "markdown",
   "metadata": {},
   "source": [
    "or (2), you use a function that initializes a matrix. E.g. `rand(n, m)` will create an `n×m` matrix with uniformly random numbers"
   ]
  },
  {
   "cell_type": "code",
   "execution_count": 159,
   "metadata": {},
   "outputs": [
    {
     "data": {
      "text/plain": [
       "4×3 Matrix{Float64}:\n",
       " 0.785081  0.66797     0.477929\n",
       " 0.330029  0.570267    0.0243165\n",
       " 0.167139  0.00607571  0.535697\n",
       " 0.79218   0.199877    0.142837"
      ]
     },
     "metadata": {},
     "output_type": "display_data"
    }
   ],
   "source": [
    "R = rand(4, 3)"
   ]
  },
  {
   "cell_type": "code",
   "execution_count": 160,
   "metadata": {},
   "outputs": [
    {
     "data": {
      "text/plain": [
       "0.6679701676135941"
      ]
     },
     "metadata": {},
     "output_type": "display_data"
    }
   ],
   "source": [
    "R[1, 2] # two dimensional indexing"
   ]
  },
  {
   "attachments": {},
   "cell_type": "markdown",
   "metadata": {},
   "source": [
    "Since arrays are mutable we can change their entries _in-place_ (i.e., without creating a new array):"
   ]
  },
  {
   "cell_type": "code",
   "execution_count": 161,
   "metadata": {
    "scrolled": true
   },
   "outputs": [
    {
     "data": {
      "text/plain": [
       "7-element Vector{Int64}:\n",
       " 15\n",
       "  1\n",
       "  2\n",
       "  3\n",
       "  5\n",
       "  8\n",
       " 13"
      ]
     },
     "metadata": {},
     "output_type": "display_data"
    }
   ],
   "source": [
    "fibonacci = [1, 1, 2, 3, 5, 8, 13]\n",
    "fibonacci[1] = 15\n",
    "fibonacci"
   ]
  },
  {
   "attachments": {},
   "cell_type": "markdown",
   "metadata": {},
   "source": [
    "We can add or remove elements from any mutable collection with functions like `push!, pop!, delete!`. We'll cover functions in more detail in a moment!"
   ]
  },
  {
   "cell_type": "code",
   "execution_count": 162,
   "metadata": {},
   "outputs": [
    {
     "data": {
      "text/plain": [
       "8-element Vector{Int64}:\n",
       " 15\n",
       "  1\n",
       "  2\n",
       "  3\n",
       "  5\n",
       "  8\n",
       " 13\n",
       " 21"
      ]
     },
     "metadata": {},
     "output_type": "display_data"
    }
   ],
   "source": [
    "push!(fibonacci, 21)"
   ]
  },
  {
   "attachments": {},
   "cell_type": "markdown",
   "metadata": {},
   "source": [
    "Lastly, for multidimensional arrays, the `:` symbol is useful, which means to \"select all elements in this dimension\"."
   ]
  },
  {
   "cell_type": "code",
   "execution_count": 163,
   "metadata": {},
   "outputs": [
    {
     "data": {
      "text/plain": [
       "3×3 Matrix{Float64}:\n",
       " 0.861802   0.715417  0.28719\n",
       " 0.218351   0.232238  0.769447\n",
       " 0.0408567  0.705691  0.484445"
      ]
     },
     "metadata": {},
     "output_type": "display_data"
    }
   ],
   "source": [
    "x = rand(3, 3)"
   ]
  },
  {
   "cell_type": "code",
   "execution_count": 164,
   "metadata": {},
   "outputs": [
    {
     "data": {
      "text/plain": [
       "3-element Vector{Float64}:\n",
       " 0.8618019419472079\n",
       " 0.2183509343228509\n",
       " 0.040856678670187385"
      ]
     },
     "metadata": {},
     "output_type": "display_data"
    }
   ],
   "source": [
    "x[:, 1] # it means to select the first column"
   ]
  },
  {
   "attachments": {},
   "cell_type": "markdown",
   "metadata": {},
   "source": [
    "### Ranges\n",
    "Ranges are useful shorthand notations that define a \"vector\" (one dimensional array) with equi-spaced entries. They are created with the following syntax:\n",
    "```julia\n",
    "start:stop # mainly for integers\n",
    "start:step:stop\n",
    "range(start, stop, length)\n",
    "range(start, stop; step = ...)\n",
    "```"
   ]
  },
  {
   "cell_type": "code",
   "execution_count": 165,
   "metadata": {},
   "outputs": [
    {
     "data": {
      "text/plain": [
       "0.0:0.01:5.0"
      ]
     },
     "metadata": {},
     "output_type": "display_data"
    }
   ],
   "source": [
    "r = 0:0.01:5"
   ]
  },
  {
   "attachments": {},
   "cell_type": "markdown",
   "metadata": {},
   "source": [
    "Ranges always include the first element and step until they _do not exceed_ the ending element. If possible, they include the stop element (as above)."
   ]
  },
  {
   "cell_type": "code",
   "execution_count": 166,
   "metadata": {},
   "outputs": [
    {
     "data": {
      "text/plain": [
       "4.99"
      ]
     },
     "metadata": {},
     "output_type": "display_data"
    }
   ],
   "source": [
    "r[end-1] # use `end` as index for the final element"
   ]
  },
  {
   "attachments": {},
   "cell_type": "markdown",
   "metadata": {},
   "source": [
    "Ranges are not unique to numeric data, and can be used with anything that extends their interface, e.g."
   ]
  },
  {
   "cell_type": "code",
   "execution_count": 167,
   "metadata": {
    "scrolled": true
   },
   "outputs": [
    {
     "data": {
      "text/plain": [
       "'a':1:'z'"
      ]
     },
     "metadata": {},
     "output_type": "display_data"
    }
   ],
   "source": [
    "letterrange = 'a':'z'"
   ]
  },
  {
   "attachments": {},
   "cell_type": "markdown",
   "metadata": {},
   "source": [
    "As ranges are printed in this short form, to see all their elements you can use `collect`, to transform the range into a `Vector`."
   ]
  },
  {
   "cell_type": "code",
   "execution_count": 168,
   "metadata": {},
   "outputs": [
    {
     "data": {
      "text/plain": [
       "26-element Vector{Char}:\n",
       " 'a': ASCII/Unicode U+0061 (category Ll: Letter, lowercase)\n",
       " 'b': ASCII/Unicode U+0062 (category Ll: Letter, lowercase)\n",
       " 'c': ASCII/Unicode U+0063 (category Ll: Letter, lowercase)\n",
       " 'd': ASCII/Unicode U+0064 (category Ll: Letter, lowercase)\n",
       " 'e': ASCII/Unicode U+0065 (category Ll: Letter, lowercase)\n",
       " 'f': ASCII/Unicode U+0066 (category Ll: Letter, lowercase)\n",
       " 'g': ASCII/Unicode U+0067 (category Ll: Letter, lowercase)\n",
       " 'h': ASCII/Unicode U+0068 (category Ll: Letter, lowercase)\n",
       " 'i': ASCII/Unicode U+0069 (category Ll: Letter, lowercase)\n",
       " 'j': ASCII/Unicode U+006A (category Ll: Letter, lowercase)\n",
       " ⋮\n",
       " 'r': ASCII/Unicode U+0072 (category Ll: Letter, lowercase)\n",
       " 's': ASCII/Unicode U+0073 (category Ll: Letter, lowercase)\n",
       " 't': ASCII/Unicode U+0074 (category Ll: Letter, lowercase)\n",
       " 'u': ASCII/Unicode U+0075 (category Ll: Letter, lowercase)\n",
       " 'v': ASCII/Unicode U+0076 (category Ll: Letter, lowercase)\n",
       " 'w': ASCII/Unicode U+0077 (category Ll: Letter, lowercase)\n",
       " 'x': ASCII/Unicode U+0078 (category Ll: Letter, lowercase)\n",
       " 'y': ASCII/Unicode U+0079 (category Ll: Letter, lowercase)\n",
       " 'z': ASCII/Unicode U+007A (category Ll: Letter, lowercase)"
      ]
     },
     "metadata": {},
     "output_type": "display_data"
    }
   ],
   "source": [
    "collect(letterrange)"
   ]
  },
  {
   "attachments": {},
   "cell_type": "markdown",
   "metadata": {},
   "source": [
    "Ranges are cool because they **do not store all elements in memory** like `Vector`s. Instead they produce the elements on the fly when necessary, and therefore are in general preferred over `Vector`s if the data is equi-spaced. "
   ]
  },
  {
   "attachments": {},
   "cell_type": "markdown",
   "metadata": {},
   "source": [
    "Lastly, ranges are typically used to index into arrays. One can type `A[1:3]` to get the first 3 elements of `A`, or `A[end-2:end]` to get the last three elements of `A`. If `A` is multidimensional, the same type of indexing can be done for any dimension:"
   ]
  },
  {
   "cell_type": "code",
   "execution_count": 169,
   "metadata": {},
   "outputs": [
    {
     "data": {
      "text/plain": [
       "4×4 Matrix{Float64}:\n",
       " 0.981008  0.840969   0.327315  0.306716\n",
       " 0.11406   0.755805   0.797731  0.192458\n",
       " 0.421644  0.553439   0.27703   0.930911\n",
       " 0.343526  0.0546447  0.110674  0.552502"
      ]
     },
     "metadata": {},
     "output_type": "display_data"
    }
   ],
   "source": [
    "A = rand(4, 4)"
   ]
  },
  {
   "cell_type": "code",
   "execution_count": 170,
   "metadata": {},
   "outputs": [
    {
     "data": {
      "text/plain": [
       "3-element Vector{Float64}:\n",
       " 0.9810076564370482\n",
       " 0.11405999953001922\n",
       " 0.42164426455297876"
      ]
     },
     "metadata": {},
     "output_type": "display_data"
    }
   ],
   "source": [
    "A[1:3, 1]"
   ]
  },
  {
   "cell_type": "code",
   "execution_count": 171,
   "metadata": {},
   "outputs": [
    {
     "data": {
      "text/plain": [
       "3×3 Matrix{Float64}:\n",
       " 0.981008  0.840969  0.327315\n",
       " 0.11406   0.755805  0.797731\n",
       " 0.421644  0.553439  0.27703"
      ]
     },
     "metadata": {},
     "output_type": "display_data"
    }
   ],
   "source": [
    "A[1:3, 1:3]"
   ]
  },
  {
   "attachments": {},
   "cell_type": "markdown",
   "metadata": {},
   "source": [
    "## Iteration\n",
    "Iteration in Julia is high-level. This means that not only it has an intuitive and simple syntax, but also iteration works with anything that can be iterated. Iteration can also be extended (more on that later).\n",
    "\n",
    "\n",
    "### `for` loops\n",
    "\n",
    "A `for` loop iterates over a container and executes a piece of code, until the iteration has gone through all the elements of the container. The syntax for a `for` loop is\n",
    "\n",
    "```julia\n",
    "for *var(s)* in *loop iterable*\n",
    "    *loop body*\n",
    "end\n",
    "```\n",
    "\n",
    "*you will notice that all Julia code-blocks end with `end`*"
   ]
  },
  {
   "cell_type": "code",
   "execution_count": 172,
   "metadata": {},
   "outputs": [
    {
     "name": "stdout",
     "output_type": "stream",
     "text": [
      "1\n",
      "2\n",
      "3\n",
      "4\n",
      "5\n"
     ]
    }
   ],
   "source": [
    "for n in 1:5\n",
    "    println(n)\n",
    "end"
   ]
  },
  {
   "attachments": {},
   "cell_type": "markdown",
   "metadata": {},
   "source": [
    "The nature of the iterating variable depends on what the iterating container has. For example, when iterating over a dictionary one iterates over pairs of key-value."
   ]
  },
  {
   "cell_type": "code",
   "execution_count": 173,
   "metadata": {},
   "outputs": [
    {
     "name": "stdout",
     "output_type": "stream",
     "text": [
      "\"Jenny\" => \"867-5309\"\n",
      "\"Buzz Lightyear\" => \"∞ and beyond\"\n",
      "\"Ghostbusters\" => \"555-2368\"\n"
     ]
    }
   ],
   "source": [
    "for pair in myphonebook # pair in myphonebook\n",
    "    println(pair)\n",
    "end"
   ]
  },
  {
   "attachments": {},
   "cell_type": "markdown",
   "metadata": {},
   "source": [
    "Most of the time in such a scenario however, the variables that compose the iterable are decomposed directly after the `for` keyword, which also makes the code cleaner. For example:"
   ]
  },
  {
   "cell_type": "code",
   "execution_count": 174,
   "metadata": {},
   "outputs": [
    {
     "name": "stdout",
     "output_type": "stream",
     "text": [
      "The number of Jenny is 867-5309\n",
      "The number of Buzz Lightyear is ∞ and beyond\n",
      "The number of Ghostbusters is 555-2368\n"
     ]
    }
   ],
   "source": [
    "for (key, val) in myphonebook # pair in myphonebook\n",
    "    println(\"The number of $key is $val\")\n",
    "end"
   ]
  },
  {
   "attachments": {},
   "cell_type": "markdown",
   "metadata": {},
   "source": [
    "In the context of `for`  loops, the `enumerate` iterator is often useful. It takes in an iterable and returns pairs of the index and the iterable value. "
   ]
  },
  {
   "cell_type": "code",
   "execution_count": 175,
   "metadata": {},
   "outputs": [
    {
     "name": "stdout",
     "output_type": "stream",
     "text": [
      "value of index 1: 0.5477210715195594\n",
      "value of index 2: 0.9664026499881998\n",
      "value of index 3: 0.23253294045393835\n"
     ]
    }
   ],
   "source": [
    "for (i, v) in enumerate(rand(3))\n",
    "    println(\"value of index $(i): $(v)\")\n",
    "end"
   ]
  },
  {
   "attachments": {},
   "cell_type": "markdown",
   "metadata": {},
   "source": [
    "### `while` loops\n",
    "\n",
    "A `while` loop executes a code block until a boolean condition check (that happens at the start of the block) becomes `false`. Then the loop terminates (without executing the block again). The syntax for a standard `while` loop is\n",
    "\n",
    "```julia\n",
    "while *condition*\n",
    "    *loop body*\n",
    "end\n",
    "```"
   ]
  },
  {
   "cell_type": "code",
   "execution_count": 176,
   "metadata": {},
   "outputs": [
    {
     "name": "stdout",
     "output_type": "stream",
     "text": [
      "1\n",
      "2\n",
      "3\n",
      "4\n",
      "5\n"
     ]
    }
   ],
   "source": [
    "n = 0\n",
    "while n < 5\n",
    "    n += 1\n",
    "    println(n)\n",
    "end"
   ]
  },
  {
   "attachments": {},
   "cell_type": "markdown",
   "metadata": {},
   "source": [
    "\n",
    "## Conditionals\n",
    "\n",
    "Conditionals execute a specific code block depending on what is the outcome of a given boolean check. \n",
    "The  `&, |` are the boolean `and, or` operators.\n",
    "\n",
    "### `if` block\n",
    "\n",
    "In Julia, the syntax\n",
    "\n",
    "```julia\n",
    "if *condition 1*\n",
    "    *option 1*\n",
    "elseif *condition 2*\n",
    "    *option 2*\n",
    "else\n",
    "    *option 3*\n",
    "end\n",
    "```\n",
    "\n",
    "evaluates the conditions sequentially and executes the code-block of the first true condition."
   ]
  },
  {
   "cell_type": "code",
   "execution_count": 177,
   "metadata": {},
   "outputs": [
    {
     "data": {
      "text/plain": [
       "6"
      ]
     },
     "metadata": {},
     "output_type": "display_data"
    }
   ],
   "source": [
    "x, y = 5, 6\n",
    "if x > y\n",
    "    x\n",
    "else\n",
    "    y\n",
    "end"
   ]
  },
  {
   "attachments": {},
   "cell_type": "markdown",
   "metadata": {},
   "source": [
    "### Ternary operator\n",
    "\n",
    "The ternary operator (named for having three arguments) is a convenience syntax for small `if` blocks with only two clauses. \n",
    "\n",
    "Specifically, the syntax\n",
    "\n",
    "```julia\n",
    "condition ? if_true : if_false\n",
    "```\n",
    "\n",
    "is syntactically equivalent to\n",
    "\n",
    "```julia\n",
    "if condition\n",
    "    if_true\n",
    "else\n",
    "    if_false\n",
    "end\n",
    "```\n",
    "\n",
    "For example"
   ]
  },
  {
   "cell_type": "code",
   "execution_count": 178,
   "metadata": {
    "scrolled": true
   },
   "outputs": [
    {
     "data": {
      "text/plain": [
       "\"yes\""
      ]
     },
     "metadata": {},
     "output_type": "display_data"
    }
   ],
   "source": [
    "5 == 5.0 ? \"yes\" : \"no\""
   ]
  },
  {
   "attachments": {},
   "cell_type": "markdown",
   "metadata": {},
   "source": [
    "### `break` and `continue`\n",
    "The keywords `continue` and `break` are often used with conditionals to skip an iteration or completely stop the iteration code block."
   ]
  },
  {
   "cell_type": "code",
   "execution_count": 179,
   "metadata": {},
   "outputs": [
    {
     "name": "stdout",
     "output_type": "stream",
     "text": [
      "2\n",
      "4\n",
      "6\n",
      "8\n",
      "10\n",
      "12\n"
     ]
    }
   ],
   "source": [
    "N = 1:100\n",
    "for n in N\n",
    "    isodd(n) && continue\n",
    "    println(n)\n",
    "    n > 10 && break\n",
    "end"
   ]
  },
  {
   "attachments": {},
   "cell_type": "markdown",
   "metadata": {},
   "source": [
    "### List comprehension\n",
    "The list comprehension syntax \n",
    "```julia\n",
    "[expression(a) for a in collection if condition(a)]\n",
    "```\n",
    "is available as a convenience way to make a `Vector`. The `if` part is optional."
   ]
  },
  {
   "cell_type": "code",
   "execution_count": 180,
   "metadata": {},
   "outputs": [
    {
     "data": {
      "text/plain": [
       "5-element Vector{Int64}:\n",
       "   4\n",
       "  16\n",
       "  36\n",
       "  64\n",
       " 100"
      ]
     },
     "metadata": {},
     "output_type": "display_data"
    }
   ],
   "source": [
    "[    a^2 for a in 1:10 if iseven(a)      ]"
   ]
  },
  {
   "attachments": {},
   "cell_type": "markdown",
   "metadata": {},
   "source": [
    "## Functions\n",
    "Functions are the bread and butter of Julia, which heavily supports functional programming."
   ]
  },
  {
   "attachments": {},
   "cell_type": "markdown",
   "metadata": {},
   "source": [
    "\n",
    "### Function declaration\n",
    "\n",
    "Functions are declared with two ways. First, the verbose"
   ]
  },
  {
   "cell_type": "code",
   "execution_count": 181,
   "metadata": {
    "scrolled": true
   },
   "outputs": [
    {
     "data": {
      "text/plain": [
       "f (generic function with 1 method)"
      ]
     },
     "metadata": {},
     "output_type": "display_data"
    }
   ],
   "source": [
    "function f(x)\n",
    "    return x^2 # While `return` is not necessary, it is recommended for clarity\n",
    "end"
   ]
  },
  {
   "attachments": {},
   "cell_type": "markdown",
   "metadata": {},
   "source": [
    "Or, you can define functions with the short form (best used for functions that only take up a single line of code)"
   ]
  },
  {
   "cell_type": "code",
   "execution_count": 182,
   "metadata": {},
   "outputs": [
    {
     "data": {
      "text/plain": [
       "f (generic function with 1 method)"
      ]
     },
     "metadata": {},
     "output_type": "display_data"
    }
   ],
   "source": [
    "f(x) = x^2  # equivalent with above"
   ]
  },
  {
   "attachments": {},
   "cell_type": "markdown",
   "metadata": {},
   "source": [
    "Functions are called using their name and parenthesis `()` enclosing the calling arguments:"
   ]
  },
  {
   "cell_type": "code",
   "execution_count": 183,
   "metadata": {},
   "outputs": [
    {
     "data": {
      "text/plain": [
       "25"
      ]
     },
     "metadata": {},
     "output_type": "display_data"
    }
   ],
   "source": [
    "f(5)"
   ]
  },
  {
   "attachments": {},
   "cell_type": "markdown",
   "metadata": {},
   "source": [
    "Functions in Julia support optional positional arguments, as well as keyword arguments. The **positional** arguments are **always given by their order**, while **keyword** arguments are **always given by their keyword**. Keyword arguments are all the arguments defined in a function after the symbol `;`. Example:"
   ]
  },
  {
   "cell_type": "code",
   "execution_count": 184,
   "metadata": {},
   "outputs": [
    {
     "data": {
      "text/plain": [
       "g (generic function with 2 methods)"
      ]
     },
     "metadata": {},
     "output_type": "display_data"
    }
   ],
   "source": [
    "function g(x, y = 5; z = 2, w = 1)\n",
    "    return x*z*y*w\n",
    "end"
   ]
  },
  {
   "cell_type": "code",
   "execution_count": 185,
   "metadata": {},
   "outputs": [
    {
     "data": {
      "text/plain": [
       "50"
      ]
     },
     "metadata": {},
     "output_type": "display_data"
    }
   ],
   "source": [
    "g(5) # give x. default y, z"
   ]
  },
  {
   "cell_type": "code",
   "execution_count": 186,
   "metadata": {},
   "outputs": [
    {
     "data": {
      "text/plain": [
       "30"
      ]
     },
     "metadata": {},
     "output_type": "display_data"
    }
   ],
   "source": [
    "g(5, 3) # give x, y. default z"
   ]
  },
  {
   "cell_type": "code",
   "execution_count": 187,
   "metadata": {},
   "outputs": [
    {
     "data": {
      "text/plain": [
       "75"
      ]
     },
     "metadata": {},
     "output_type": "display_data"
    }
   ],
   "source": [
    "g(5; z = 3) # give x, z. default y"
   ]
  },
  {
   "cell_type": "code",
   "execution_count": 188,
   "metadata": {},
   "outputs": [
    {
     "data": {
      "text/plain": [
       "1.2000000000000002"
      ]
     },
     "metadata": {},
     "output_type": "display_data"
    }
   ],
   "source": [
    "g(2, 4; w = 0.1, z = 1.5) # give everything"
   ]
  },
  {
   "cell_type": "code",
   "execution_count": 189,
   "metadata": {},
   "outputs": [
    {
     "ename": "MethodError",
     "evalue": "MethodError: no method matching g(::Int64, ::Int64, ::Int64)\n\nClosest candidates are:\n  g(::Any, ::Any; z, w)\n   @ Main c:\\Users\\datse\\OneDrive - University of Exeter\\Teaching\\Zero2Hero-JuliaWorkshop\\1-JuliaIntro.ipynb:1\n  g(::Any)\n   @ Main c:\\Users\\datse\\OneDrive - University of Exeter\\Teaching\\Zero2Hero-JuliaWorkshop\\1-JuliaIntro.ipynb:1\n",
     "output_type": "error",
     "traceback": [
      "MethodError: no method matching g(::Int64, ::Int64, ::Int64)\n",
      "\n",
      "Closest candidates are:\n",
      "  g(::Any, ::Any; z, w)\n",
      "   @ Main c:\\Users\\datse\\OneDrive - University of Exeter\\Teaching\\Zero2Hero-JuliaWorkshop\\1-JuliaIntro.ipynb:1\n",
      "  g(::Any)\n",
      "   @ Main c:\\Users\\datse\\OneDrive - University of Exeter\\Teaching\\Zero2Hero-JuliaWorkshop\\1-JuliaIntro.ipynb:1\n",
      "\n",
      "\n",
      "Stacktrace:\n",
      " [1] top-level scope\n",
      "   @ c:\\Users\\datse\\OneDrive - University of Exeter\\Teaching\\Zero2Hero-JuliaWorkshop\\1-JuliaIntro.ipynb:1"
     ]
    }
   ],
   "source": [
    "g(2, 4, 2) # keyword arguments can't be specified by position"
   ]
  },
  {
   "attachments": {},
   "cell_type": "markdown",
   "metadata": {},
   "source": [
    "###  Passing by reference: mutating vs. non-mutating functions\n",
    "\n",
    "You can divide Julia variables into two categories: **mutable** and **immutable**. Mutable means that the values of your data can be changed in-place, i.e. literally in the place in memory the variable is stored in the computer. Immutable data cannot be changed after creation, and thus the only way to change part of immutable data is to actually make a brand new immutable object from scratch. Use `isimmutable(v)` to check if value `v` is immutable or not.\n",
    "\n",
    "For example, `Vector`s are mutable in Julia:"
   ]
  },
  {
   "cell_type": "code",
   "execution_count": 190,
   "metadata": {
    "scrolled": true
   },
   "outputs": [
    {
     "data": {
      "text/plain": [
       "3-element Vector{Int64}:\n",
       " 6\n",
       " 5\n",
       " 5"
      ]
     },
     "metadata": {},
     "output_type": "display_data"
    }
   ],
   "source": [
    "x = [5, 5, 5]\n",
    "x[1] = 6 # change first entry of x\n",
    "x"
   ]
  },
  {
   "attachments": {},
   "cell_type": "markdown",
   "metadata": {},
   "source": [
    "But e.g. `Tuple`s are immutable:"
   ]
  },
  {
   "cell_type": "code",
   "execution_count": 191,
   "metadata": {},
   "outputs": [
    {
     "ename": "MethodError",
     "evalue": "MethodError: no method matching setindex!(::Tuple{Int64, Int64, Int64}, ::Int64, ::Int64)",
     "output_type": "error",
     "traceback": [
      "MethodError: no method matching setindex!(::Tuple{Int64, Int64, Int64}, ::Int64, ::Int64)\n",
      "\n",
      "Stacktrace:\n",
      " [1] top-level scope\n",
      "   @ c:\\Users\\datse\\OneDrive - University of Exeter\\Teaching\\Zero2Hero-JuliaWorkshop\\1-JuliaIntro.ipynb:2"
     ]
    }
   ],
   "source": [
    "x = (5, 5, 5)\n",
    "x[1] = 6"
   ]
  },
  {
   "cell_type": "code",
   "execution_count": 192,
   "metadata": {
    "scrolled": true
   },
   "outputs": [
    {
     "data": {
      "text/plain": [
       "(6, 5, 5)"
      ]
     },
     "metadata": {},
     "output_type": "display_data"
    }
   ],
   "source": [
    "x = (6, 5, 5)"
   ]
  },
  {
   "attachments": {},
   "cell_type": "markdown",
   "metadata": {},
   "source": [
    "Julia **passes values by reference**. This means that if a mutable object is given to a function, and this object is mutated inside the function, the final result is kept at the passed object. E.g.:"
   ]
  },
  {
   "cell_type": "code",
   "execution_count": 193,
   "metadata": {},
   "outputs": [
    {
     "data": {
      "text/plain": [
       "3-element Vector{Int64}:\n",
       " 8\n",
       " 5\n",
       " 5"
      ]
     },
     "metadata": {},
     "output_type": "display_data"
    }
   ],
   "source": [
    "function add3!(x)\n",
    "    x[1] += 3\n",
    "    return x\n",
    "end\n",
    "\n",
    "x = [5, 5, 5]\n",
    "add3!(x)\n",
    "x"
   ]
  },
  {
   "attachments": {},
   "cell_type": "markdown",
   "metadata": {},
   "source": [
    "**By convention**, functions with name ending in `!` alter their (mutable) arguments and functions lacking `!` do not. Typically the first argument of a function that ends in `!` is mutated.\n",
    "\n",
    "For example, let's look at the difference between `sort` and `sort!`."
   ]
  },
  {
   "cell_type": "code",
   "execution_count": 194,
   "metadata": {},
   "outputs": [
    {
     "data": {
      "text/plain": [
       "3-element Vector{Int64}:\n",
       " 3\n",
       " 5\n",
       " 2"
      ]
     },
     "metadata": {},
     "output_type": "display_data"
    }
   ],
   "source": [
    "v = [3, 5, 2]"
   ]
  },
  {
   "cell_type": "code",
   "execution_count": 195,
   "metadata": {},
   "outputs": [
    {
     "data": {
      "text/plain": [
       "3-element Vector{Int64}:\n",
       " 2\n",
       " 3\n",
       " 5"
      ]
     },
     "metadata": {},
     "output_type": "display_data"
    }
   ],
   "source": [
    "sort(v)"
   ]
  },
  {
   "cell_type": "code",
   "execution_count": 196,
   "metadata": {},
   "outputs": [
    {
     "data": {
      "text/plain": [
       "3-element Vector{Int64}:\n",
       " 3\n",
       " 5\n",
       " 2"
      ]
     },
     "metadata": {},
     "output_type": "display_data"
    }
   ],
   "source": [
    "v"
   ]
  },
  {
   "attachments": {},
   "cell_type": "markdown",
   "metadata": {},
   "source": [
    "`sort(v)` returns a sorted array that contains the same elements as `v`, but `v` is left unchanged. <br><br>\n",
    "\n",
    "On the other hand, when we run `sort!(v)`, the contents of v are sorted within the array `v`."
   ]
  },
  {
   "cell_type": "code",
   "execution_count": 197,
   "metadata": {},
   "outputs": [
    {
     "data": {
      "text/plain": [
       "3-element Vector{Int64}:\n",
       " 2\n",
       " 3\n",
       " 5"
      ]
     },
     "metadata": {},
     "output_type": "display_data"
    }
   ],
   "source": [
    "sort!(v)"
   ]
  },
  {
   "cell_type": "code",
   "execution_count": 198,
   "metadata": {},
   "outputs": [
    {
     "data": {
      "text/plain": [
       "3-element Vector{Int64}:\n",
       " 2\n",
       " 3\n",
       " 5"
      ]
     },
     "metadata": {},
     "output_type": "display_data"
    }
   ],
   "source": [
    "v"
   ]
  },
  {
   "attachments": {},
   "cell_type": "markdown",
   "metadata": {},
   "source": [
    "### Functions as arguments\n",
    "\n",
    "Functions, like literally anything else in Julia, are objects that can be passed around like any other value. Including giving them as arguments to other functions. The most typical application of this is the `map` function, that maps its first argument (which is itself a function) over the elements of second argument."
   ]
  },
  {
   "cell_type": "code",
   "execution_count": 199,
   "metadata": {},
   "outputs": [
    {
     "data": {
      "text/plain": [
       "3-element Vector{Int64}:\n",
       " 1\n",
       " 4\n",
       " 9"
      ]
     },
     "metadata": {},
     "output_type": "display_data"
    }
   ],
   "source": [
    "square(x) = x^2\n",
    "x = [1, 2, 3]\n",
    "square_of_x = map(square, x)"
   ]
  },
  {
   "attachments": {},
   "cell_type": "markdown",
   "metadata": {},
   "source": [
    "The second most common application of this is defining dynamical systems or agent based models by providing the functions that govern the evolution rule(s) to a system constructor. This however will be covered in later tutorials!"
   ]
  },
  {
   "attachments": {},
   "cell_type": "markdown",
   "metadata": {},
   "source": [
    "In the context of \"functions as arguments\" one typically also encounters _anonymous functions_ i.e., functions that are created on the spot without a given name. For example, computing the cube of `x` without defining a \"proper\" function looks like:"
   ]
  },
  {
   "cell_type": "code",
   "execution_count": 200,
   "metadata": {},
   "outputs": [
    {
     "data": {
      "text/plain": [
       "3-element Vector{Int64}:\n",
       "  1\n",
       "  8\n",
       " 27"
      ]
     },
     "metadata": {},
     "output_type": "display_data"
    }
   ],
   "source": [
    "x = [1, 2, 3]\n",
    "cube_of_x = map(x -> x^3, x)"
   ]
  },
  {
   "attachments": {},
   "cell_type": "markdown",
   "metadata": {},
   "source": [
    "where we use the syntax `(args...) -> expression_with_args` which defines an anonymous function. E.g.,"
   ]
  },
  {
   "cell_type": "code",
   "execution_count": 201,
   "metadata": {},
   "outputs": [
    {
     "data": {
      "text/plain": [
       "#29 (generic function with 1 method)"
      ]
     },
     "metadata": {},
     "output_type": "display_data"
    }
   ],
   "source": [
    "(x, y) -> (x & y | false) / 22"
   ]
  },
  {
   "attachments": {},
   "cell_type": "markdown",
   "metadata": {},
   "source": [
    "### The help system\n",
    "\n",
    "Typing `?` followed by a function (or type) name will display its documentation string. Alternatively you can type `@doc` and then the function name.\n",
    "\n",
    "For example"
   ]
  },
  {
   "cell_type": "code",
   "execution_count": 202,
   "metadata": {},
   "outputs": [
    {
     "data": {
      "text/latex": [
       "\\begin{verbatim}\n",
       "cos(x)\n",
       "\\end{verbatim}\n",
       "Compute cosine of \\texttt{x}, where \\texttt{x} is in radians.\n",
       "\n",
       "See also \\href{@ref}{\\texttt{cosd}}, \\href{@ref}{\\texttt{cospi}}, \\href{@ref}{\\texttt{sincos}}, \\href{@ref}{\\texttt{cis}}.\n",
       "\n",
       "\\begin{verbatim}\n",
       "cos(A::AbstractMatrix)\n",
       "\\end{verbatim}\n",
       "Compute the matrix cosine of a square matrix \\texttt{A}.\n",
       "\n",
       "If \\texttt{A} is symmetric or Hermitian, its eigendecomposition (\\href{@ref}{\\texttt{eigen}}) is used to compute the cosine. Otherwise, the cosine is determined by calling \\href{@ref}{\\texttt{exp}}.\n",
       "\n",
       "\\section{Examples}\n",
       "\\begin{verbatim}\n",
       "julia> cos(fill(1.0, (2,2)))\n",
       "2×2 Matrix{Float64}:\n",
       "  0.291927  -0.708073\n",
       " -0.708073   0.291927\n",
       "\\end{verbatim}\n"
      ],
      "text/markdown": [
       "```\n",
       "cos(x)\n",
       "```\n",
       "\n",
       "Compute cosine of `x`, where `x` is in radians.\n",
       "\n",
       "See also [`cosd`](@ref), [`cospi`](@ref), [`sincos`](@ref), [`cis`](@ref).\n",
       "\n",
       "```\n",
       "cos(A::AbstractMatrix)\n",
       "```\n",
       "\n",
       "Compute the matrix cosine of a square matrix `A`.\n",
       "\n",
       "If `A` is symmetric or Hermitian, its eigendecomposition ([`eigen`](@ref)) is used to compute the cosine. Otherwise, the cosine is determined by calling [`exp`](@ref).\n",
       "\n",
       "# Examples\n",
       "\n",
       "```jldoctest\n",
       "julia> cos(fill(1.0, (2,2)))\n",
       "2×2 Matrix{Float64}:\n",
       "  0.291927  -0.708073\n",
       " -0.708073   0.291927\n",
       "```\n"
      ],
      "text/plain": [
       "\u001b[36m  cos(x)\u001b[39m\n",
       "\n",
       "  Compute cosine of \u001b[36mx\u001b[39m, where \u001b[36mx\u001b[39m is in radians.\n",
       "\n",
       "  See also \u001b[36mcosd\u001b[39m, \u001b[36mcospi\u001b[39m, \u001b[36msincos\u001b[39m, \u001b[36mcis\u001b[39m.\n",
       "\n",
       "\u001b[36m  cos(A::AbstractMatrix)\u001b[39m\n",
       "\n",
       "  Compute the matrix cosine of a square matrix \u001b[36mA\u001b[39m.\n",
       "\n",
       "  If \u001b[36mA\u001b[39m is symmetric or Hermitian, its eigendecomposition (\u001b[36meigen\u001b[39m) is used to\n",
       "  compute the cosine. Otherwise, the cosine is determined by calling \u001b[36mexp\u001b[39m.\n",
       "\n",
       "\u001b[1m  Examples\u001b[22m\n",
       "\u001b[1m  ≡≡≡≡≡≡≡≡≡≡\u001b[22m\n",
       "\n",
       "\u001b[36m  julia> cos(fill(1.0, (2,2)))\u001b[39m\n",
       "\u001b[36m  2×2 Matrix{Float64}:\u001b[39m\n",
       "\u001b[36m    0.291927  -0.708073\u001b[39m\n",
       "\u001b[36m   -0.708073   0.291927\u001b[39m"
      ]
     },
     "metadata": {},
     "output_type": "display_data"
    }
   ],
   "source": [
    "@doc cos"
   ]
  },
  {
   "attachments": {},
   "cell_type": "markdown",
   "metadata": {},
   "source": [
    "## Broadcasting\n",
    "\n",
    "_This subsection can be skipped for the sake of time_"
   ]
  },
  {
   "attachments": {},
   "cell_type": "markdown",
   "metadata": {},
   "source": [
    "\n",
    "Broadcasting is a convenient syntax for applying any function over the elements of an iterable input. I.e., the result is a new iterable whose elements is the function application of the elements of the input.\n",
    "\n",
    "Broadcasting is done via the simple syntax of adding a dot `.` before the parenthesis in the function call: `g.(x)`."
   ]
  },
  {
   "cell_type": "code",
   "execution_count": 203,
   "metadata": {},
   "outputs": [
    {
     "data": {
      "text/plain": [
       "h (generic function with 2 methods)"
      ]
     },
     "metadata": {},
     "output_type": "display_data"
    }
   ],
   "source": [
    "h(x, y = 1) = x + y"
   ]
  },
  {
   "cell_type": "code",
   "execution_count": 204,
   "metadata": {},
   "outputs": [
    {
     "data": {
      "text/plain": [
       "3-element Vector{Int64}:\n",
       " 2\n",
       " 3\n",
       " 4"
      ]
     },
     "metadata": {},
     "output_type": "display_data"
    }
   ],
   "source": [
    "x = [1, 2, 3]\n",
    "h.(x) # without 2nd argument, `h` is just `x + 1`"
   ]
  },
  {
   "cell_type": "code",
   "execution_count": 205,
   "metadata": {},
   "outputs": [
    {
     "data": {
      "text/plain": [
       "3-element Vector{Int64}:\n",
       " 2\n",
       " 4\n",
       " 6"
      ]
     },
     "metadata": {},
     "output_type": "display_data"
    }
   ],
   "source": [
    "y = [1, 2, 3]\n",
    "h.(x, y) # each element of `x` is added to the corresponding element of `y`"
   ]
  },
  {
   "attachments": {},
   "cell_type": "markdown",
   "metadata": {},
   "source": [
    "Let's now apply it to a vector `x`"
   ]
  },
  {
   "cell_type": "code",
   "execution_count": 206,
   "metadata": {},
   "outputs": [
    {
     "data": {
      "text/plain": [
       "3-element Vector{Int64}:\n",
       " 1\n",
       " 2\n",
       " 3"
      ]
     },
     "metadata": {},
     "output_type": "display_data"
    }
   ],
   "source": [
    "x = [1, 2, 3]"
   ]
  },
  {
   "cell_type": "code",
   "execution_count": 207,
   "metadata": {},
   "outputs": [
    {
     "data": {
      "text/plain": [
       "3-element Vector{Int64}:\n",
       " 2\n",
       " 3\n",
       " 4"
      ]
     },
     "metadata": {},
     "output_type": "display_data"
    }
   ],
   "source": [
    "h.(x)"
   ]
  },
  {
   "attachments": {},
   "cell_type": "markdown",
   "metadata": {},
   "source": [
    "Broadcasting can be useful when the number of operations is small and one can easily reason about the way the operations would be broadcasted across input(s). \n",
    "\n",
    "A typical example of broadcasting is to make an exponential range, which doesn't have a pre-made function in Julia:"
   ]
  },
  {
   "cell_type": "code",
   "execution_count": 208,
   "metadata": {},
   "outputs": [
    {
     "data": {
      "text/plain": [
       "7-element Vector{Float64}:\n",
       "    0.001\n",
       "    0.010000000000000002\n",
       "    0.1\n",
       "    1.0\n",
       "   10.0\n",
       "  100.0\n",
       " 1000.0"
      ]
     },
     "metadata": {},
     "output_type": "display_data"
    }
   ],
   "source": [
    "exp_range = 10.0 .^ (-3:3)"
   ]
  },
  {
   "attachments": {},
   "cell_type": "markdown",
   "metadata": {},
   "source": [
    "*(notice that for infix operators (like `+, -`) the `.` is put before the operator)*"
   ]
  },
  {
   "attachments": {},
   "cell_type": "markdown",
   "metadata": {},
   "source": [
    "# Exercises - basics"
   ]
  },
  {
   "attachments": {},
   "cell_type": "markdown",
   "metadata": {},
   "source": [
    "**Important note for all exercises: when an exercise says _\"use function `function_name` to do something\"_, you need to first learn how to use the function. For this, you access the function's documentation string, using the help mode (type `?` or `@doc` in the Julia console and then type the function name)!**"
   ]
  },
  {
   "attachments": {},
   "cell_type": "markdown",
   "metadata": {},
   "source": [
    "\n",
    "## Babylonian square root\n",
    "To get the square root of $y$ Babylonians used the algorithm $x_{n+1} = \\frac{1}{2}(x_n + \\frac{y}{x_n})$ iteratively starting from some value $x_0$ to converge to $x_n \\to \\sqrt{y}$ as $n\\to \\infty$. Implement this algorithm in a function `babylonian(y, ε, x0 = 1)` (default optional argument `x0`), that takes some convergence tolerance `ε` to compare with the built-in `sqrt(y)`. The function should return the steps it took to reach the square root value within given tolerance.\n",
    "\n",
    "_Hint: for this exercise you only need a `while` code block without any other code structures such as `for, if, ...`._"
   ]
  },
  {
   "attachments": {},
   "cell_type": "markdown",
   "metadata": {},
   "source": [
    "\n",
    "## Counting nucleotides\n",
    "Create a function that given a DNA strand (as a `String`, e.g. `\"AGAGAGATCCCTTA\"`) it counts how much of each nucleotide (A G T or C) is present in the strand and returns the result as a dictionary mapping the nucleotides to their counts. The function should throw an error (using the `error` function) if an invalid nucleotide is encountered. Test your result with `\"ATATATAGGCCAX\"` and `\"ATATATAGGCCAA\"`.\n",
    "\n",
    "*Hint: Strings are iterables! They iterate over the characters they contain.*"
   ]
  },
  {
   "attachments": {},
   "cell_type": "markdown",
   "metadata": {},
   "source": [
    "## Fibonacci numbers\n",
    "Using recursion (a function that calls itself) create a function that given an integer `n` it returns the `n`-th [Fibonacci number](https://en.wikipedia.org/wiki/Fibonacci_number). Apply it using `map` to the range `1:8` to get the result `[1,1,2,3,5,8,13]`."
   ]
  },
  {
   "attachments": {},
   "cell_type": "markdown",
   "metadata": {},
   "source": [
    "\n",
    "## Hamming distance\n",
    "\n",
    "Create a function that calculates the Hamming distance of two equal DNA strands, given as strings. This distance is defined by counting (sequentially) the number of non-equal letters in the two strands, e.g. `\"ATA\"` and `\"ATC\"` have distance of 1, while `\"ATC\"` and `\"CAT\"` have distance of 3. \n",
    "\n",
    "*Hint: this exercise has a one-liner solution, using the `zip` and `count` functions.*"
   ]
  },
  {
   "attachments": {},
   "cell_type": "markdown",
   "metadata": {},
   "source": [
    "---"
   ]
  },
  {
   "attachments": {},
   "cell_type": "markdown",
   "metadata": {},
   "source": [
    "# Basic plotting with Makie"
   ]
  },
  {
   "attachments": {},
   "cell_type": "markdown",
   "metadata": {},
   "source": [
    "This block serves as a tini-tiny introduction to plotting in Julia using [Makie](https://docs.makie.org/stable/), which has to be the best plotting framework out there _in any programming language_ (personal opinion).\n",
    "\n",
    "Makie offers several plotting backends, but for the purpose of this tutorial we will use its Cairo backend, focused on 2D publication quality graphics."
   ]
  },
  {
   "attachments": {},
   "cell_type": "markdown",
   "metadata": {},
   "source": [
    "## Installing packages"
   ]
  },
  {
   "attachments": {},
   "cell_type": "markdown",
   "metadata": {},
   "source": [
    "Makie is an \"external package\"; it is not installed with Julia. Julia has an extensive list of cutting edge packages that you can explore in a categorized format in [juliapackages.com](https://juliapackages.com/)!\n",
    "\n",
    "The simplest way to install new packages is by name (you need to find the name of the package in e.g., juliapackages.com). Once you have the name, you can simply call:"
   ]
  },
  {
   "cell_type": "code",
   "execution_count": 209,
   "metadata": {},
   "outputs": [
    {
     "name": "stderr",
     "output_type": "stream",
     "text": [
      "\u001b[32m\u001b[1m  Activating\u001b[22m\u001b[39m project at `c:\\Users\\datse\\OneDrive - University of Exeter\\Teaching\\Zero2Hero-JuliaWorkshop`"
     ]
    },
    {
     "name": "stderr",
     "output_type": "stream",
     "text": [
      "\n",
      "\u001b[32m\u001b[1m   Resolving\u001b[22m\u001b[39m package versions...\n"
     ]
    },
    {
     "name": "stderr",
     "output_type": "stream",
     "text": [
      "\u001b[32m\u001b[1m  No Changes\u001b[22m\u001b[39m to `C:\\Users\\datse\\OneDrive - University of Exeter\\Teaching\\Zero2Hero-JuliaWorkshop\\Project.toml`\n",
      "\u001b[32m\u001b[1m  No Changes\u001b[22m\u001b[39m to `C:\\Users\\datse\\OneDrive - University of Exeter\\Teaching\\Zero2Hero-JuliaWorkshop\\Manifest.toml`\n"
     ]
    }
   ],
   "source": [
    "import Pkg # the package manager of Julia is a package itself\n",
    "Pkg.activate(@__DIR__)   # activate directory of notebook as a dedicated environment\n",
    "Pkg.add(name=\"CairoMakie\", version=\"0.10\")  # add package specified by name and version"
   ]
  },
  {
   "cell_type": "code",
   "execution_count": 210,
   "metadata": {},
   "outputs": [
    {
     "name": "stdout",
     "output_type": "stream",
     "text": [
      "\u001b[32m\u001b[1mStatus\u001b[22m\u001b[39m `C:\\Users\\datse\\OneDrive - University of Exeter\\Teaching\\Zero2Hero-JuliaWorkshop\\Project.toml`\n",
      "\u001b[32m⌃\u001b[39m \u001b[90m[13f3f980] \u001b[39mCairoMakie v0.10.12\n",
      "\u001b[36m\u001b[1mInfo\u001b[22m\u001b[39m Packages marked with \u001b[32m⌃\u001b[39m have new versions available and may be upgradable.\n"
     ]
    }
   ],
   "source": [
    "Pkg.status(\"CairoMakie\") # print the version of the package installed"
   ]
  },
  {
   "attachments": {},
   "cell_type": "markdown",
   "metadata": {},
   "source": [
    "To use a package, you type the following in your Julia session:"
   ]
  },
  {
   "cell_type": "code",
   "execution_count": 211,
   "metadata": {},
   "outputs": [],
   "source": [
    "using CairoMakie"
   ]
  },
  {
   "attachments": {},
   "cell_type": "markdown",
   "metadata": {},
   "source": [
    "This brings functions that this package defines and exports into your current working scope. For example"
   ]
  },
  {
   "cell_type": "code",
   "execution_count": 212,
   "metadata": {},
   "outputs": [
    {
     "data": {
      "text/plain": [
       "lines (generic function with 2 methods)"
      ]
     },
     "metadata": {},
     "output_type": "display_data"
    }
   ],
   "source": [
    "lines # this function didn't exist before `using CairoMakie`"
   ]
  },
  {
   "attachments": {},
   "cell_type": "markdown",
   "metadata": {},
   "source": [
    "## Initializing plots"
   ]
  },
  {
   "attachments": {},
   "cell_type": "markdown",
   "metadata": {},
   "source": [
    "_before going through the plotting tutorial we'll quickly change the default figure and size for easier visualization in a zoomed-in Jupyter notebook; themeing will not actually be discussed in this brief introduction_"
   ]
  },
  {
   "cell_type": "code",
   "execution_count": 251,
   "metadata": {},
   "outputs": [],
   "source": [
    "update_theme!(resolution = (500, 300), fontsize = 16)"
   ]
  },
  {
   "attachments": {},
   "cell_type": "markdown",
   "metadata": {},
   "source": [
    "Alright, the most straight-forward usage of Makie is to directly call one of the plotting functions, like `lines, scatter, barplot, ...` giving in the x and y coordinates of data to be plotted."
   ]
  },
  {
   "cell_type": "code",
   "execution_count": 252,
   "metadata": {},
   "outputs": [
    {
     "data": {
      "image/png": "[encoded data removed]"
     },
     "metadata": {},
     "output_type": "display_data"
    }
   ],
   "source": [
    "x = 1:5\n",
    "y = [1, 3, 2, 4, 5]\n",
    "fig, ax, plot_object = lines(x, y)"
   ]
  },
  {
   "attachments": {},
   "cell_type": "markdown",
   "metadata": {},
   "source": [
    "These plotting functions return three values. `fig` is a `Figure` object, which is the overarching figure that everything else is contained in. `ax` is an `Axis` object, which is a window with coordinates, labels, tickmarks, etc., in which data are visualized. The third output is the specific plot object (here a `Lines` object) for which we do not care about at the moment.\n",
    "\n",
    "In any case, this all means that when we called `lines(...)` the function did a lot of things: it initialized a figure, it initialized an axis in that figure, and then line-plotted some data. This also means that `lines` and similar functions never update existing plots (which is contrary to the default behavior of e.g. the Python library `matplotlib`):"
   ]
  },
  {
   "cell_type": "code",
   "execution_count": 253,
   "metadata": {},
   "outputs": [
    {
     "data": {
      "image/png": "[encoded data removed]"
     },
     "metadata": {},
     "output_type": "display_data"
    }
   ],
   "source": [
    "z = reverse(y)\n",
    "scatter(x, z; color = \"tomato\") # makes a new plot!"
   ]
  },
  {
   "attachments": {},
   "cell_type": "markdown",
   "metadata": {},
   "source": [
    "To update an existing plot, you need to call the **in-place**, or **mutating**, version of the plotting functions, i.e., the version ending in `!`, giving it the axis to plot in (if not given, the last-used axis is used)"
   ]
  },
  {
   "cell_type": "code",
   "execution_count": 254,
   "metadata": {},
   "outputs": [
    {
     "data": {
      "text/plain": [
       "Scatter{Tuple{Vector{Point{2, Float32}}}}"
      ]
     },
     "metadata": {},
     "output_type": "display_data"
    }
   ],
   "source": [
    "fig, ax, plot_object = lines(x, y)\n",
    "scatter!(ax, x, z; color = \"tomato\")"
   ]
  },
  {
   "attachments": {},
   "cell_type": "markdown",
   "metadata": {},
   "source": [
    "Ops!? what happened here? Why is there no plot? It's because the return value of `scatter!` isn't a figure, but rather just the plot object, since `scatter!` doesn't initialize a figure. We need to explicitly return the figure as the return value of the code block for it to be displayed:"
   ]
  },
  {
   "cell_type": "code",
   "execution_count": 255,
   "metadata": {},
   "outputs": [
    {
     "data": {
      "image/png": "[encoded data removed]"
     },
     "metadata": {},
     "output_type": "display_data"
    }
   ],
   "source": [
    "fig"
   ]
  },
  {
   "attachments": {},
   "cell_type": "markdown",
   "metadata": {},
   "source": [
    "We won't really get into too much detail of the options each plotting function has; they are several dozens, line width, marker style, size, color, fill, and many, many others. They are provided as **keyword arguments** to the plotting functions, e.g., `lines(x, y; color = \"purple\", linewidth = 2)`. Best to check the online documentation of Makie, or the docstring of the functions, for details on all these options.\n",
    "\n",
    "What is important to know however, is that all of these options can be vectors, just like the input data. E.g., if you'd like each marker to have a different size, you'd just pass the vector of sizes as the `markersize` attribute (and similarly with color, width, and everything else)."
   ]
  },
  {
   "cell_type": "code",
   "execution_count": 256,
   "metadata": {},
   "outputs": [
    {
     "data": {
      "image/png": "[encoded data removed]"
     },
     "metadata": {},
     "output_type": "display_data"
    }
   ],
   "source": [
    "scatter(x, z;\n",
    "    markersize = 10y, color = y, colormap = \"thermal\",\n",
    "    marker = ['a', '♠', '⊚', :rect, :circle]\n",
    ")"
   ]
  },
  {
   "attachments": {},
   "cell_type": "markdown",
   "metadata": {},
   "source": [
    "## Layouting axes in figures"
   ]
  },
  {
   "attachments": {},
   "cell_type": "markdown",
   "metadata": {},
   "source": [
    "One of the strongest features of Makie is its layouting system, that allows you to create sub-panels of figures with as much ease as it is saying where an axis should be in normal English.\n",
    "\n",
    "To add an axis to a figure, you simply initialize the axis at the expected location using the intuitive **matrix indexing syntax**:"
   ]
  },
  {
   "cell_type": "code",
   "execution_count": 257,
   "metadata": {},
   "outputs": [
    {
     "data": {
      "image/png": "[encoded data removed]"
     },
     "metadata": {},
     "output_type": "display_data"
    }
   ],
   "source": [
    "fig = Figure() # initialize a figure with default settings\n",
    "# assign an Axis to `fig[1,1]` but also keep track of it in a variable!\n",
    "ax1 = fig[1,1] = Axis(fig)\n",
    "# i.e., give the location of the axis directly in the `Axis` constructor!\n",
    "fig # don't forget to return the figure for it to be plotted!"
   ]
  },
  {
   "attachments": {},
   "cell_type": "markdown",
   "metadata": {},
   "source": [
    "If you want to add more axis to arbitrary locations, you once again use the `fig[row, col]` indexing system, imagining the figure to be a \"matrix of axes\" and adding an axis at the given row and column."
   ]
  },
  {
   "cell_type": "code",
   "execution_count": 258,
   "metadata": {},
   "outputs": [
    {
     "data": {
      "image/png": "[encoded data removed]"
     },
     "metadata": {},
     "output_type": "display_data"
    }
   ],
   "source": [
    "ax2 = Axis(fig[1,2]) # alternative syntax instead of assigning to `fig[1,2]`\n",
    "fig"
   ]
  },
  {
   "attachments": {},
   "cell_type": "markdown",
   "metadata": {},
   "source": [
    "Makie's automatic layouting capabilities make everything fit and be the correct size given the figure size constrain!\n",
    "\n",
    "Furthermore, they understand the dimensional extent of the \"matrix of axis\" even without it being yet full of axes:"
   ]
  },
  {
   "cell_type": "code",
   "execution_count": 259,
   "metadata": {},
   "outputs": [
    {
     "data": {
      "image/png": "[encoded data removed]"
     },
     "metadata": {},
     "output_type": "display_data"
    }
   ],
   "source": [
    "ax4 = fig[1,4] = Axis(fig;\n",
    "    # This is the way to adjust axis properties during creation:\n",
    "    title = \"wow!\",\n",
    "    xlabel = \"much axis\",\n",
    "    ylabel = \"why left empty?\"\n",
    ")\n",
    "fig"
   ]
  },
  {
   "cell_type": "code",
   "execution_count": 260,
   "metadata": {},
   "outputs": [
    {
     "data": {
      "image/png": "[encoded data removed]"
     },
     "metadata": {},
     "output_type": "display_data"
    }
   ],
   "source": [
    "# and this way you adjust axis properties after creation:\n",
    "ax1.xticks = ([1,2,9], [\"1\", \"4\", \"8\"]) # ticks and their labels\n",
    "ax1.xlabel = \"bamboozled!\"\n",
    "fig"
   ]
  },
  {
   "attachments": {},
   "cell_type": "markdown",
   "metadata": {},
   "source": [
    "Not only that, but just like normal matrices, one could utilize the syntax `fig[col, row]` using _ranges_, such as `1:2`. For example, we could specify an axis to span a range of 2, or 3 \"positions\" in the \"grid of axes\" that the figure represents:"
   ]
  },
  {
   "cell_type": "code",
   "execution_count": 261,
   "metadata": {},
   "outputs": [
    {
     "data": {
      "image/png": "[encoded data removed]"
     },
     "metadata": {},
     "output_type": "display_data"
    }
   ],
   "source": [
    "x = range(0, 4π; length = 100)\n",
    "y = map(sin, x) # or `sin.(x)` or `[sin(a) for a in x]`\n",
    "\n",
    "fig = Figure(resolution = (600, 400))\n",
    "\n",
    "# notice that we can call plotting functions directly on figure indices\n",
    "# if we do not care about storing the created axes for later use!\n",
    "# (we therefore use the non-`!` version, so that an axes is created)\n",
    "lines(fig[1, 1], x, y, color = Cycled(1))\n",
    "lines(fig[1, 2:3], x, y, color = Cycled(2))\n",
    "\n",
    "fig"
   ]
  },
  {
   "cell_type": "code",
   "execution_count": 262,
   "metadata": {},
   "outputs": [
    {
     "data": {
      "image/png": "[encoded data removed]"
     },
     "metadata": {},
     "output_type": "display_data"
    }
   ],
   "source": [
    "lines(fig[2, 1:3], x, y, color = Cycled(3))\n",
    "fig"
   ]
  },
  {
   "cell_type": "code",
   "execution_count": 263,
   "metadata": {},
   "outputs": [
    {
     "data": {
      "image/png": "[encoded data removed]"
     },
     "metadata": {},
     "output_type": "display_data"
    }
   ],
   "source": [
    "lines(fig[:, 4], x, y, color = Cycled(4))\n",
    "fig"
   ]
  },
  {
   "attachments": {},
   "cell_type": "markdown",
   "metadata": {},
   "source": [
    "## Legends and colorbars"
   ]
  },
  {
   "attachments": {},
   "cell_type": "markdown",
   "metadata": {},
   "source": [
    "The `Axis` structure we have encountered above is a `Block` in the context of Makie. Two more `Block`s that are typically useful in scientific visualizations are the `Legend` and the `Colorbar`. Just like an `Axis` they could be placed arbitrarily and anywhere in a figure, even on top of existing axes."
   ]
  },
  {
   "attachments": {},
   "cell_type": "markdown",
   "metadata": {},
   "source": [
    "### Legend\n",
    "\n",
    "Legend has a simple automated way of being created.\n",
    "You can assign a label to each plotted element of an axes by providing a value to the keyword `label`."
   ]
  },
  {
   "cell_type": "code",
   "execution_count": 264,
   "metadata": {},
   "outputs": [
    {
     "data": {
      "image/png": "[encoded data removed]"
     },
     "metadata": {},
     "output_type": "display_data"
    }
   ],
   "source": [
    "x = range(0, 10; length = 20)\n",
    "lines(x, sin; label = \"sin\")  # makes a figure\n",
    "scatter!(x, cos; label = \"cos\", color = \"purple\") # uses last-used figure\n",
    "current_figure() # return (and hence display) last-used figure"
   ]
  },
  {
   "attachments": {},
   "cell_type": "markdown",
   "metadata": {},
   "source": [
    "To add an axis that automatically displays the labels we created, we use `axislegend`"
   ]
  },
  {
   "cell_type": "code",
   "execution_count": 265,
   "metadata": {},
   "outputs": [
    {
     "data": {
      "image/png": "[encoded data removed]"
     },
     "metadata": {},
     "output_type": "display_data"
    }
   ],
   "source": [
    "axislegend() # first argument is the axis to use. Defaults to last-used axis.\n",
    "current_figure()"
   ]
  },
  {
   "attachments": {},
   "cell_type": "markdown",
   "metadata": {},
   "source": [
    "Of course, sometimes the manual creation and placement of a legend is necessary. In such a case, one collects the plotted objects that we haven't cared about so far, and gives them to a `Legend` object:"
   ]
  },
  {
   "cell_type": "code",
   "execution_count": 266,
   "metadata": {},
   "outputs": [
    {
     "data": {
      "image/png": "[encoded data removed]"
     },
     "metadata": {},
     "output_type": "display_data"
    }
   ],
   "source": [
    "fig = Figure()\n",
    "x = range(0, 10; length = 20)\n",
    "ax1, li1 = lines(fig[1, 1], x, sin)\n",
    "ax2, sc2 = scatter(fig[2, 1], x, cos; color = \"purple\")\n",
    "Legend(fig[1:2, 2], [li1, sc2], [\"ημίτονο\", \"cosinus\"])\n",
    "fig"
   ]
  },
  {
   "attachments": {},
   "cell_type": "markdown",
   "metadata": {},
   "source": [
    "### Colorbar\n",
    "\n",
    "The Colorbar works in a very similar way, however it doesn't have a convenience function like `axislegend()`. We just need to create a Colorbar giving it a position in the figure, and a plot object to utilize for the color map and color ranges. In this example this plot object is a simple heatmap."
   ]
  },
  {
   "cell_type": "code",
   "execution_count": 267,
   "metadata": {},
   "outputs": [
    {
     "data": {
      "image/png": "[encoded data removed]"
     },
     "metadata": {},
     "output_type": "display_data"
    }
   ],
   "source": [
    "fig, ax, hm = heatmap(rand(20, 20); colormap = \"dense\")\n",
    "Colorbar(fig[1, 2], hm; label = \"color\") # obtains color map and color range from `hm`\n",
    "fig"
   ]
  },
  {
   "attachments": {},
   "cell_type": "markdown",
   "metadata": {},
   "source": [
    "## Learning more about Makie\n",
    "\n",
    "Makie is the best the strongest the most amazing plotting framework (personal opinion). In this tini-tiny block we've only looked at a small subset of Makie's functionality. We haven't even touched the strongest feature of Makie, which is interactive visualizations and animations! In any case, you can learn more about Makie in the online documentation. For example:\n",
    "\n",
    "- You can read about the different available plotting functions with visual examples visit the [Plotting Functions](https://docs.makie.org/stable/examples/plotting_functions/index.html#plotting_functions) section.\n",
    "\n",
    "- If you want to learn more about making complex figures with nested sublayouts, have a look at the [Layout Tutorial](https://docs.makie.org/stable/tutorials/layout-tutorial/index.html#layout_tutorial) section.\n",
    "\n",
    "- If you're interested in creating interactive visualizations that use Makie's special `Observables` workflow, this is explained in more detail in the [Observables & Interaction](https://docs.makie.org/stable/documentation/nodes/index.html#observables_interaction) section.\n",
    "\n",
    "- Lastly, see the [Animations](https://docs.makie.org/stable/documentation/animation/index.html#animations) section for making animated movies."
   ]
  },
  {
   "attachments": {},
   "cell_type": "markdown",
   "metadata": {},
   "source": [
    "# Exercises - plotting"
   ]
  },
  {
   "attachments": {},
   "cell_type": "markdown",
   "metadata": {},
   "source": [
    "## Taylor expansion of sine\n",
    "\n",
    "Plot the sine function and its progressive Taylor expansion series:\n",
    "\n",
    "$$\n",
    "\\sin(x) \\approx x - x^3/6 + x^5/120\n",
    "$$\n",
    "\n",
    "First, plot $\\sin(x)$, then the progressively added Taylor terms: $x$, $x - x^3/6$, $x - x^3/6 + x^5/120$. For each plotted curve add a legend entry and in the end display the legend as well.\n",
    "\n"
   ]
  },
  {
   "attachments": {},
   "cell_type": "markdown",
   "metadata": {},
   "source": [
    "## Semi-transparent histograms"
   ]
  },
  {
   "attachments": {},
   "cell_type": "markdown",
   "metadata": {},
   "source": [
    "Use the following code to initialize some histogram data."
   ]
  },
  {
   "cell_type": "code",
   "execution_count": 230,
   "metadata": {},
   "outputs": [],
   "source": [
    "using Random: Xoshiro\n",
    "rng = Xoshiro(1234)\n",
    "xp1 = 0.2randn(rng, 10_000) .+ 0.5\n",
    "p2 = 0.5randn(rng, 10_000)\n",
    "edges = -2:0.1:2;"
   ]
  },
  {
   "attachments": {},
   "cell_type": "markdown",
   "metadata": {},
   "source": [
    "Using Makie's `hist` function, make the following plot:\n",
    "\n",
    "_hint: to make transparent colors in Makie you provide a 2-tuple of the color and the alpha transparency value, such as `(\"red\", 0.75)`_"
   ]
  },
  {
   "attachments": {},
   "cell_type": "markdown",
   "metadata": {},
   "source": [
    "![makie_ex_fig_1.png](makie_ex_fig_1.png)"
   ]
  },
  {
   "attachments": {},
   "cell_type": "markdown",
   "metadata": {},
   "source": [
    "## Cool spiral\n"
   ]
  },
  {
   "attachments": {},
   "cell_type": "markdown",
   "metadata": {},
   "source": [
    "Pick 6 colors that you like and make the following figure:"
   ]
  },
  {
   "attachments": {},
   "cell_type": "markdown",
   "metadata": {},
   "source": [
    "![makie_ex_fig_2.png](makie_ex_fig_2.png)"
   ]
  },
  {
   "attachments": {},
   "cell_type": "markdown",
   "metadata": {},
   "source": [
    "\n",
    "_hint 1: The colored rectangles are just colored `Box` `Block`s. Instead of initializing an axis, you create a `Box` object, with the same syntax, at the location of interest. E.g., the first box is done with the code:_\n",
    "\n",
    "```julia\n",
    "Box(fig[1, 1:2]; color = \"something\", strokewidth = 0)\n",
    "```\n",
    "\n",
    "_hint 2: You can make axes on top of other elements. To make the line plot on top of the boxes, you first initialize the line data using_\n",
    "```julia\n",
    "n = 4\n",
    "t = 0:0.01:2n*π\n",
    "x = (2n*π .- t) .* cos.(t)\n",
    "y = (2n*π .- t) .* sin.(t)\n",
    "```\n",
    "_and then make an axis over the whole figure `Axis(fig[:, :])` to plot in. To remove the spines of the axis use the functions `hidedecorations!` and `hidespines!`_.\n"
   ]
  },
  {
   "attachments": {},
   "cell_type": "markdown",
   "metadata": {},
   "source": [
    "# Basic performance considerations"
   ]
  },
  {
   "attachments": {},
   "cell_type": "markdown",
   "metadata": {},
   "source": [
    "## Type stability"
   ]
  },
  {
   "attachments": {},
   "cell_type": "markdown",
   "metadata": {},
   "source": [
    "Julia matches the performance of C/Fortran not because of better hardware or better compilers than e.g., Python uses, but because of design. Julia is interactive like Python, but it is not an interpreted language, it is a **compiled** one. This means that **every function call in Julia first gets compiled, based on the exact input types**. Then it is executed.\n",
    "\n",
    "*(this compilation only happens once for each unique combination of input types)*\n",
    "\n",
    "When the compiler compiles a function, these types of every variable can be tracked throughout the function and all datastructures are mapped uniquely and deterministically all the way from input to output. This allows the compiler to make all the optimizations that e.g. the compilation of a C language code would do. And this (in a nutshell) is what results in the same performance as C/Fortran.\n",
    "\n",
    "This tracking of types mentioned above only works if **the type of every variable remains the same type throughout the function's operations**. Notice the distinction: the _type_ (i.e. all floating point variables remain floats) is constant, but of course the _value_ could change (i.e. going from `515134.515` to `123415.242` is fine).\n",
    "\n",
    "What if this doesn't happen? Then we have the case of **Type instability**, which is what makes beginner's code slow in 99% of the cases. \n",
    "\n",
    "Let's look at the following illustrative scenario:"
   ]
  },
  {
   "cell_type": "code",
   "execution_count": 231,
   "metadata": {},
   "outputs": [
    {
     "name": "stderr",
     "output_type": "stream",
     "text": [
      "\u001b[32m\u001b[1m   Resolving\u001b[22m\u001b[39m package versions...\n"
     ]
    },
    {
     "name": "stderr",
     "output_type": "stream",
     "text": [
      "\u001b[32m\u001b[1m  No Changes\u001b[22m\u001b[39m to `C:\\Users\\datse\\OneDrive - University of Exeter\\Teaching\\Zero2Hero-JuliaWorkshop\\Project.toml`\n",
      "\u001b[32m\u001b[1m  No Changes\u001b[22m\u001b[39m to `C:\\Users\\datse\\OneDrive - University of Exeter\\Teaching\\Zero2Hero-JuliaWorkshop\\Manifest.toml`"
     ]
    },
    {
     "name": "stderr",
     "output_type": "stream",
     "text": [
      "\n"
     ]
    }
   ],
   "source": [
    "Pkg.add(\"BenchmarkTools\") # this is a package that benchmarks code\n",
    "using BenchmarkTools"
   ]
  },
  {
   "cell_type": "code",
   "execution_count": 232,
   "metadata": {},
   "outputs": [
    {
     "name": "stdout",
     "output_type": "stream",
     "text": [
      "  4.817 μs (0 allocations: 0 bytes)\n"
     ]
    }
   ],
   "source": [
    "@noinline function mymax(init, x)\n",
    "    s = init\n",
    "    for xi in x\n",
    "        s = s < xi ? xi : s\n",
    "    end\n",
    "    return s\n",
    "end\n",
    "\n",
    "# benchmark it\n",
    "using BenchmarkTools: @btime\n",
    "r = rand(Int, 1000);\n",
    "@btime mymax(-Inf32, $r);"
   ]
  },
  {
   "cell_type": "code",
   "execution_count": 233,
   "metadata": {},
   "outputs": [
    {
     "name": "stdout",
     "output_type": "stream",
     "text": [
      "  988.235 ns (0 allocations: 0 bytes)\n"
     ]
    }
   ],
   "source": [
    "@btime mymax(-Inf, $r);"
   ]
  },
  {
   "cell_type": "code",
   "execution_count": 234,
   "metadata": {},
   "outputs": [
    {
     "name": "stdout",
     "output_type": "stream",
     "text": [
      "  73.690 ns (0 allocations: 0 bytes)\n"
     ]
    }
   ],
   "source": [
    "@btime mymax(typemin(Int), $r);"
   ]
  },
  {
   "attachments": {},
   "cell_type": "markdown",
   "metadata": {},
   "source": [
    "`mymax` is a **type-unstable function**, which means it has suboptimal performance. \n",
    "\n",
    "you can see this by using the `@code_warntype` macro"
   ]
  },
  {
   "cell_type": "code",
   "execution_count": 235,
   "metadata": {},
   "outputs": [
    {
     "name": "stdout",
     "output_type": "stream",
     "text": [
      "MethodInstance for mymax(::Float64, ::Vector{Int64})\n",
      "  from mymax(\u001b[90minit\u001b[39m, \u001b[90mx\u001b[39m)\u001b[90m @\u001b[39m \u001b[90mMain\u001b[39m \u001b[90mc:\\Users\\datse\\OneDrive - University of Exeter\\Teaching\\Zero2Hero-JuliaWorkshop\\\u001b[39m\u001b[90m\u001b[4m1-JuliaIntro.ipynb:1\u001b[24m\u001b[39m\n",
      "Arguments\n",
      "  #self#\u001b[36m::Core.Const(mymax)\u001b[39m\n",
      "  init\u001b[36m::Float64\u001b[39m\n",
      "  x\u001b[36m::Vector{Int64}\u001b[39m\n",
      "Locals\n",
      "  @_4\u001b[33m\u001b[1m::Union{Nothing, Tuple{Int64, Int64}}\u001b[22m\u001b[39m\n",
      "  s\u001b[33m\u001b[1m::Union{Float64, Int64}\u001b[22m\u001b[39m\n",
      "  xi\u001b[36m::Int64\u001b[39m\n",
      "  @_7\u001b[33m\u001b[1m::Union{Float64, Int64}\u001b[22m\u001b[39m\n",
      "Body\u001b[33m\u001b[1m::Union{Float64, Int64}\u001b[22m\u001b[39m\n",
      "\u001b[90m1 ─\u001b[39m       $(Expr(:meta, :noinline))\n",
      "\u001b[90m│  \u001b[39m       (s = init)\n",
      "\u001b[90m│  \u001b[39m %3  = x\u001b[36m::Vector{Int64}\u001b[39m\n",
      "\u001b[90m│  \u001b[39m       (@_4 = Base.iterate(%3))\n",
      "\u001b[90m│  \u001b[39m %5  = (@_4 === nothing)\u001b[36m::Bool\u001b[39m\n",
      "\u001b[90m│  \u001b[39m %6  = Base.not_int(%5)\u001b[36m::Bool\u001b[39m\n",
      "\u001b[90m└──\u001b[39m       goto #7 if not %6\n",
      "\u001b[90m2 ┄\u001b[39m %8  = @_4\u001b[36m::Tuple{Int64, Int64}\u001b[39m\n",
      "\u001b[90m│  \u001b[39m       (xi = Core.getfield(%8, 1))\n",
      "\u001b[90m│  \u001b[39m %10 = Core.getfield(%8, 2)\u001b[36m::Int64\u001b[39m\n",
      "\u001b[90m│  \u001b[39m %11 = (s < xi)\u001b[36m::Bool\u001b[39m\n",
      "\u001b[90m└──\u001b[39m       goto #4 if not %11\n",
      "\u001b[90m3 ─\u001b[39m       (@_7 = xi)\n",
      "\u001b[90m└──\u001b[39m       goto #5\n",
      "\u001b[90m4 ─\u001b[39m       (@_7 = s)\n",
      "\u001b[90m5 ┄\u001b[39m       (s = @_7)\n",
      "\u001b[90m│  \u001b[39m       (@_4 = Base.iterate(%3, %10))\n",
      "\u001b[90m│  \u001b[39m %18 = (@_4 === nothing)\u001b[36m::Bool\u001b[39m\n",
      "\u001b[90m│  \u001b[39m %19 = Base.not_int(%18)\u001b[36m::Bool\u001b[39m\n",
      "\u001b[90m└──\u001b[39m       goto #7 if not %19\n",
      "\u001b[90m6 ─\u001b[39m       goto #2\n",
      "\u001b[90m7 ┄\u001b[39m       return s\n",
      "\n"
     ]
    }
   ],
   "source": [
    "@code_warntype mymax(-Inf, r)"
   ]
  },
  {
   "attachments": {},
   "cell_type": "markdown",
   "metadata": {},
   "source": [
    "If you don't understand this text, no worries: what you care is that red text means bad type instability, and yellow means type instability that may or may not matter for performance. Whenever a `for` loop is involved there will one yellow line per `for` loop with a `Union` type including `Nothing`. You can ignore this and focus on all other yellow or red colors."
   ]
  },
  {
   "attachments": {},
   "cell_type": "markdown",
   "metadata": {},
   "source": [
    "This type instability problem is rather mild here due to the trivial contrived example. It becomes much, much worse if the instability happens in more than one variable, if the instability happens with more than 2 types, or if the types involved in the instability are much more complicated. \n",
    "\n",
    "For example, it can become particularly bad once the type instability involves functions."
   ]
  },
  {
   "cell_type": "code",
   "execution_count": 236,
   "metadata": {},
   "outputs": [
    {
     "name": "stdout",
     "output_type": "stream",
     "text": [
      "  86.875 ns (5 allocations: 80 bytes)"
     ]
    },
    {
     "name": "stdout",
     "output_type": "stream",
     "text": [
      "\n",
      "  1.200 ns (0 allocations: 0 bytes)\n"
     ]
    }
   ],
   "source": [
    "\n",
    "function add_funs(x, F)\n",
    "    F[1](x) + F[2](x)\n",
    "end\n",
    "\n",
    "F1 = [sin, cos]\n",
    "F2 = (sin, cos)\n",
    "\n",
    "@btime add_funs(1.0, $F1)\n",
    "@btime add_funs(1.0, $F2);"
   ]
  },
  {
   "cell_type": "code",
   "execution_count": 237,
   "metadata": {},
   "outputs": [
    {
     "name": "stdout",
     "output_type": "stream",
     "text": [
      "MethodInstance for add_funs(::Float64, ::Vector{Function})\n",
      "  from add_funs(\u001b[90mx\u001b[39m, \u001b[90mF\u001b[39m)\u001b[90m @\u001b[39m \u001b[90mMain\u001b[39m \u001b[90mc:\\Users\\datse\\OneDrive - University of Exeter\\Teaching\\Zero2Hero-JuliaWorkshop\\\u001b[39m\u001b[90m\u001b[4m1-JuliaIntro.ipynb:2\u001b[24m\u001b[39m\n",
      "Arguments\n",
      "  #self#\u001b[36m::Core.Const(add_funs)\u001b[39m\n",
      "  x\u001b[36m::Float64\u001b[39m\n",
      "  F\u001b[36m::Vector{Function}\u001b[39m\n",
      "Body\u001b[91m\u001b[1m::Any\u001b[22m\u001b[39m\n",
      "\u001b[90m1 ─\u001b[39m %1 = Base.getindex(F, 1)\u001b[91m\u001b[1m::Function\u001b[22m\u001b[39m\n",
      "\u001b[90m│  \u001b[39m %2 = (%1)(x)\u001b[91m\u001b[1m::Any\u001b[22m\u001b[39m\n",
      "\u001b[90m│  \u001b[39m %3 = Base.getindex(F, 2)\u001b[91m\u001b[1m::Function\u001b[22m\u001b[39m\n",
      "\u001b[90m│  \u001b[39m %4 = (%3)(x)\u001b[91m\u001b[1m::Any\u001b[22m\u001b[39m\n",
      "\u001b[90m│  \u001b[39m %5 = (%2 + %4)\u001b[91m\u001b[1m::Any\u001b[22m\u001b[39m\n",
      "\u001b[90m└──\u001b[39m      return %5\n",
      "\n"
     ]
    }
   ],
   "source": [
    "@code_warntype add_funs(1.0, F1)"
   ]
  },
  {
   "cell_type": "markdown",
   "metadata": {},
   "source": [
    "This happens because functions are their own types:"
   ]
  },
  {
   "cell_type": "code",
   "execution_count": 238,
   "metadata": {},
   "outputs": [
    {
     "data": {
      "text/plain": [
       "typeof(cos) (singleton type of function cos, subtype of Function)"
      ]
     },
     "metadata": {},
     "output_type": "display_data"
    }
   ],
   "source": [
    "typeof(cos)"
   ]
  },
  {
   "cell_type": "markdown",
   "metadata": {},
   "source": [
    "and wrapping them in a vector creates a vector of their super type:"
   ]
  },
  {
   "cell_type": "code",
   "execution_count": 239,
   "metadata": {},
   "outputs": [
    {
     "data": {
      "text/plain": [
       "Vector{Function}\u001b[90m (alias for \u001b[39m\u001b[90mArray{Function, 1}\u001b[39m\u001b[90m)\u001b[39m"
      ]
     },
     "metadata": {},
     "output_type": "display_data"
    }
   ],
   "source": [
    "typeof([sin, cos])"
   ]
  },
  {
   "cell_type": "markdown",
   "metadata": {},
   "source": [
    "while the tuple retains the individual types"
   ]
  },
  {
   "cell_type": "code",
   "execution_count": 240,
   "metadata": {},
   "outputs": [
    {
     "data": {
      "text/plain": [
       "Tuple{typeof(sin), typeof(cos)}"
      ]
     },
     "metadata": {},
     "output_type": "display_data"
    }
   ],
   "source": [
    "typeof((sin, cos))"
   ]
  },
  {
   "attachments": {},
   "cell_type": "markdown",
   "metadata": {},
   "source": [
    "### Scopes\n",
    "\n",
    "In general Julia has two scopes: global scope (the one we use here, in this notebook) and local scope. Local scope is introduced by most code blocks, e.g. functions, `for` or `while` loops but *not* from conditional code blocks (`if`). The details of the scopes are mostly relevant for package development and can be found in the [Julia manual](https://docs.julialang.org/en/latest/manual/variables-and-scoping/). \n",
    "\n",
    "What is important for us is that by definition, **everything in global scope is type-unstable** and thus not performant. This happens because Julia is not a statically typed language, but a dynamically typed one. Therefore one can do"
   ]
  },
  {
   "cell_type": "code",
   "execution_count": 241,
   "metadata": {},
   "outputs": [
    {
     "data": {
      "text/plain": [
       "\"string\""
      ]
     },
     "metadata": {},
     "output_type": "display_data"
    }
   ],
   "source": [
    "x = 5\n",
    "x = \"string\""
   ]
  },
  {
   "attachments": {},
   "cell_type": "markdown",
   "metadata": {},
   "source": [
    "which is not possible in e.g. C.\n",
    "\n",
    "The performance that global scope has in code is truly massive. Here are some global evaluations of some code"
   ]
  },
  {
   "cell_type": "code",
   "execution_count": 242,
   "metadata": {},
   "outputs": [
    {
     "name": "stdout",
     "output_type": "stream",
     "text": [
      "  186.900 μs (7980 allocations: 140.33 KiB)\n"
     ]
    }
   ],
   "source": [
    "x, y = rand(1000), rand(1000)\n",
    "a = 0.0\n",
    "@btime for i in 1:length(x)\n",
    "    global a += x[i]^2 + y[i]^2\n",
    "end"
   ]
  },
  {
   "attachments": {},
   "cell_type": "markdown",
   "metadata": {},
   "source": [
    "and here are essentially the same operations but done within a function:"
   ]
  },
  {
   "cell_type": "code",
   "execution_count": 243,
   "metadata": {},
   "outputs": [
    {
     "name": "stdout",
     "output_type": "stream",
     "text": [
      "  742.373 ns (1 allocation: 16 bytes)\n"
     ]
    }
   ],
   "source": [
    "function localf(x, y)\n",
    "    a = zero(eltype(x))\n",
    "    for i in 1:length(x)\n",
    "        a += x[i]^2 + y[i]^2\n",
    "    end\n",
    "    return a\n",
    "end\n",
    "\n",
    "@btime localf(x, y);"
   ]
  },
  {
   "attachments": {},
   "cell_type": "markdown",
   "metadata": {},
   "source": [
    "This is more than a 170x slowdown!!!"
   ]
  },
  {
   "attachments": {},
   "cell_type": "markdown",
   "metadata": {},
   "source": [
    "### Conclusions so far\n",
    "\n",
    "1. **Put all performance critical parts of your code inside a function** to avoid global scope\n",
    "2. **Ensure that your functions are type-stable**, meaning that the types of the variables inside the function do not change. The macro `@code_warntype` can help with that!"
   ]
  },
  {
   "attachments": {},
   "cell_type": "markdown",
   "metadata": {},
   "source": [
    "## Allocation of mutable containers"
   ]
  },
  {
   "attachments": {},
   "cell_type": "markdown",
   "metadata": {},
   "source": [
    "Another thing that is important for performance is allocation. What must be understood is that when one writes"
   ]
  },
  {
   "cell_type": "code",
   "execution_count": 244,
   "metadata": {
    "scrolled": false
   },
   "outputs": [
    {
     "data": {
      "text/plain": [
       "2×2 Matrix{Float64}:\n",
       " 0.129287  0.273415\n",
       " 0.820484  0.842452"
      ]
     },
     "metadata": {},
     "output_type": "display_data"
    }
   ],
   "source": [
    "x = rand(2, 2)"
   ]
  },
  {
   "attachments": {},
   "cell_type": "markdown",
   "metadata": {},
   "source": [
    "or "
   ]
  },
  {
   "cell_type": "code",
   "execution_count": 245,
   "metadata": {},
   "outputs": [
    {
     "data": {
      "text/plain": [
       "2-element Vector{Float64}:\n",
       " 0.12928684981967242\n",
       " 0.2734154963883677"
      ]
     },
     "metadata": {},
     "output_type": "display_data"
    }
   ],
   "source": [
    "y = x[1, :]"
   ]
  },
  {
   "attachments": {},
   "cell_type": "markdown",
   "metadata": {},
   "source": [
    "this *allocates* some part of your memory to store this **mutable** container that `x` or `y` represents. Creating mutable things always allocates memory. In general when you are creating something mutable you always pay two costs:\n",
    "\n",
    "1. the cost to actually calculate the numbers that go into this thing (here e.g. the cost of calling `rand()`)\n",
    "2. the cost to allocate some memory to store 1000 numbers of type `Float64`.\n",
    "\n",
    "In general you should try to avoid allocations, by more clever design of your algorithms and pre-allocating as much as possible, as is instructed by this section of [Julia's performance tips](https://docs.julialang.org/en/latest/manual/performance-tips/#Pre-allocating-outputs-1)."
   ]
  },
  {
   "attachments": {},
   "cell_type": "markdown",
   "metadata": {},
   "source": [
    "### Example: using `mul!` and `view` to make a non-allocating function"
   ]
  },
  {
   "attachments": {},
   "cell_type": "markdown",
   "metadata": {},
   "source": [
    "Let's have a look at the following function"
   ]
  },
  {
   "cell_type": "code",
   "execution_count": 246,
   "metadata": {},
   "outputs": [
    {
     "data": {
      "text/plain": [
       "\"50-element Vector{Float64}\""
      ]
     },
     "metadata": {},
     "output_type": "display_data"
    }
   ],
   "source": [
    "function sum_matrix_vector(A, B)\n",
    "    out = A*B[:, 1]\n",
    "    for j in 2:size(B, 2)\n",
    "        out += A*B[:, j]\n",
    "    end\n",
    "    return out\n",
    "end\n",
    "\n",
    "n = 50\n",
    "A = rand(n,n)\n",
    "B = rand(n,n)\n",
    "out1 = sum_matrix_vector(A,B)\n",
    "summary(out1)"
   ]
  },
  {
   "attachments": {},
   "cell_type": "markdown",
   "metadata": {},
   "source": [
    "And let's benchmark its performance"
   ]
  },
  {
   "cell_type": "code",
   "execution_count": 247,
   "metadata": {},
   "outputs": [
    {
     "name": "stdout",
     "output_type": "stream",
     "text": [
      "  21.400 μs (149 allocations: 72.17 KiB)\n"
     ]
    }
   ],
   "source": [
    "using BenchmarkTools\n",
    "@btime sum_matrix_vector($A, $B);"
   ]
  },
  {
   "attachments": {},
   "cell_type": "markdown",
   "metadata": {},
   "source": [
    "Now we'll make a second version of this function. One that uses in-place multiplication of matrix-vector into a pre-allocated container. And one that uses `view` to view into the matrix `B` without making a copy every time."
   ]
  },
  {
   "cell_type": "code",
   "execution_count": 248,
   "metadata": {},
   "outputs": [
    {
     "data": {
      "text/plain": [
       "sum_matrix_vector! (generic function with 1 method)"
      ]
     },
     "metadata": {},
     "output_type": "display_data"
    }
   ],
   "source": [
    "function sum_matrix_vector_nonalloc(A, B)\n",
    "    # set up\n",
    "    out = zeros(eltype(B), size(B, 2))\n",
    "    dummy = copy(out)\n",
    "    return sum_matrix_vector!(out, dummy, A, B)\n",
    "end\n",
    "\n",
    "using LinearAlgebra: mul!\n",
    "function sum_matrix_vector!(out, dummy, A, B)\n",
    "    # all computations are in-place\n",
    "    fill!(out, 0)\n",
    "    for j in 1:size(B, 2)\n",
    "        mul!(dummy, A, view(B, :, j))\n",
    "        out .+= dummy # notice the `.`\n",
    "    end\n",
    "    return out\n",
    "end"
   ]
  },
  {
   "cell_type": "code",
   "execution_count": 249,
   "metadata": {},
   "outputs": [
    {
     "data": {
      "text/plain": [
       "true"
      ]
     },
     "metadata": {},
     "output_type": "display_data"
    }
   ],
   "source": [
    "sum_matrix_vector(A, B) == sum_matrix_vector_nonalloc(A, B)"
   ]
  },
  {
   "cell_type": "code",
   "execution_count": 250,
   "metadata": {},
   "outputs": [
    {
     "name": "stdout",
     "output_type": "stream",
     "text": [
      "  14.500 μs (2 allocations: 992 bytes)\n"
     ]
    }
   ],
   "source": [
    "@btime sum_matrix_vector_nonalloc($A, $B);"
   ]
  },
  {
   "attachments": {},
   "cell_type": "markdown",
   "metadata": {},
   "source": [
    "As you can see, the improvement in performance is really major! Not only that, but the pre-allocated containers `out, dummy` only need to be made once; different `A, B` do not need re-initialization of `out, dummy` (you'd need to skip the setup part in this case)."
   ]
  },
  {
   "cell_type": "markdown",
   "metadata": {},
   "source": [
    "## Performance tips summary\n",
    "\n",
    "1. **Put all performance critical parts of your code inside a function** to avoid global scope\n",
    "2. **Ensure that your functions are type-stable**, meaning that the types of the variables inside the function do not change. The macro `@code_warntype` can help with that!\n",
    "3. **Create as little new large mutable entities in your function as possible**, to avoid memory allocations.\n",
    "4. **Separate your functions into a set-up function and a computing function.** The first initializes all data structures you need, while the second does the actual algorithmic computations. The second function should be **non-allocating**."
   ]
  },
  {
   "attachments": {},
   "cell_type": "markdown",
   "metadata": {},
   "source": [
    "# Exercises - performance"
   ]
  },
  {
   "attachments": {},
   "cell_type": "markdown",
   "metadata": {},
   "source": [
    "## Collatz conjecture\n",
    "Given a positive integer, create a function that counts the steps it takes to reach `1` following the [Collatz conjecture algorithm](https://en.wikipedia.org/wiki/Collatz_conjecture) (if $n$ is odd do $n=3n+1$ otherwise do $n=n/2$ until you reach 1). Test it with the number 100 to get 25. Ensure that your function is type stable by calling `@code_warntype your_function(100)` and getting no red text.\n",
    "\n",
    "*Hint: make a type-stable function by using `÷`, (`\\div<TAB>`): In Julia `/` is the floating point devision operator and thus `n/m` is always a float number even if `n, m` are integers.*\n"
   ]
  },
  {
   "attachments": {},
   "cell_type": "markdown",
   "metadata": {},
   "source": [
    "## Henon map\n",
    "\n",
    "Create a function that given `u0, N` it creates an orbit of length `N` of the Henon map\n",
    "\n",
    "$$\n",
    "\\begin{aligned}\n",
    "x_{n+1} &= 1 - 1.4x^2_n+y_n \\\\\n",
    "y_{n+1} &= 0.3x_n\n",
    "\\end{aligned}\n",
    "$$\n",
    "\n",
    "This map produces an orbit iteratively, i.e. starting from `u0 = (x0, y0)` one  applies the above rule to get `u1 = (x1, y1)`, and then applies the rule again on `u1` to get `u2`, and so on. The orbit consists of the sequence of states `[u0, u1, u2, ...]`. Use `u0 = (0.0, 0.0)`.\n",
    "\n",
    "_Hint: The most performant way to represent the states is via Tuples of two floats, not via `Vector`s. To solve, create two functions: one that initializes a length-`N` vector of dummy tuples using `fill`, and one that modifies this pre-initialized vector with the new tuples._\n"
   ]
  }
 ],
 "metadata": {
  "kernelspec": {
   "display_name": "Julia 1.9.4",
   "language": "julia",
   "name": "julia-1.9"
  },
  "language_info": {
   "file_extension": ".jl",
   "mimetype": "application/julia",
   "name": "julia",
   "version": "1.9.4"
  }
 },
 "nbformat": 4,
 "nbformat_minor": 2
}
